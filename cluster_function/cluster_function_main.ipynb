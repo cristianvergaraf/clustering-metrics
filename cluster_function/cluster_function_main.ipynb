{
 "cells": [
  {
   "cell_type": "code",
   "execution_count": 2,
   "metadata": {},
   "outputs": [],
   "source": [
    "import pandas as pd\n",
    "from sklearn.metrics import silhouette_score\n",
    "import copy\n",
    "from sklearn.cluster import AgglomerativeClustering\n",
    "import copy\n",
    "import cluster_function as cf"
   ]
  },
  {
   "cell_type": "code",
   "execution_count": 3,
   "metadata": {},
   "outputs": [],
   "source": [
    "import cluster_function as cf"
   ]
  },
  {
   "cell_type": "code",
   "execution_count": 4,
   "metadata": {},
   "outputs": [],
   "source": [
    "datos_Ptrans = pd.read_csv(r\"C:\\Users\\crist\\Documents\\GitHub\\manifolds\\ciudades\\datos\\cluster\\df_datos_PTrans.csv\", encoding = \"ISO-8859-1\", index_col = [0] )\n"
   ]
  },
  {
   "cell_type": "code",
   "execution_count": 5,
   "metadata": {},
   "outputs": [
    {
     "data": {
      "text/html": [
       "<div>\n",
       "<style scoped>\n",
       "    .dataframe tbody tr th:only-of-type {\n",
       "        vertical-align: middle;\n",
       "    }\n",
       "\n",
       "    .dataframe tbody tr th {\n",
       "        vertical-align: top;\n",
       "    }\n",
       "\n",
       "    .dataframe thead th {\n",
       "        text-align: right;\n",
       "    }\n",
       "</style>\n",
       "<table border=\"1\" class=\"dataframe\">\n",
       "  <thead>\n",
       "    <tr style=\"text-align: right;\">\n",
       "      <th></th>\n",
       "      <th>TA</th>\n",
       "      <th>LPI</th>\n",
       "      <th>AREA_MN</th>\n",
       "      <th>AREA_AM</th>\n",
       "      <th>AREA_MD</th>\n",
       "      <th>GYRATE_MN</th>\n",
       "      <th>GYRATE_AM</th>\n",
       "      <th>GYRATE_MD</th>\n",
       "      <th>PRD</th>\n",
       "      <th>SHDI</th>\n",
       "      <th>...</th>\n",
       "      <th>Viv_vacias</th>\n",
       "      <th>COM</th>\n",
       "      <th>ED_SING</th>\n",
       "      <th>EQUIP</th>\n",
       "      <th>IND</th>\n",
       "      <th>OCIO</th>\n",
       "      <th>OFI</th>\n",
       "      <th>RES_PLU</th>\n",
       "      <th>RES_UNI</th>\n",
       "      <th>Ciudades</th>\n",
       "    </tr>\n",
       "  </thead>\n",
       "  <tbody>\n",
       "    <tr>\n",
       "      <th>0</th>\n",
       "      <td>0.660050</td>\n",
       "      <td>-0.215250</td>\n",
       "      <td>0.684610</td>\n",
       "      <td>-0.215862</td>\n",
       "      <td>0.976199</td>\n",
       "      <td>0.929584</td>\n",
       "      <td>-0.349381</td>\n",
       "      <td>0.790270</td>\n",
       "      <td>-0.527670</td>\n",
       "      <td>-0.072240</td>\n",
       "      <td>...</td>\n",
       "      <td>0.553164</td>\n",
       "      <td>-1.456354</td>\n",
       "      <td>0.245565</td>\n",
       "      <td>-1.124039</td>\n",
       "      <td>0.578967</td>\n",
       "      <td>-0.052483</td>\n",
       "      <td>0.137178</td>\n",
       "      <td>-0.621876</td>\n",
       "      <td>0.736434</td>\n",
       "      <td>Albacete</td>\n",
       "    </tr>\n",
       "    <tr>\n",
       "      <th>1</th>\n",
       "      <td>0.669338</td>\n",
       "      <td>-0.558490</td>\n",
       "      <td>1.037263</td>\n",
       "      <td>0.409724</td>\n",
       "      <td>-0.277272</td>\n",
       "      <td>0.453895</td>\n",
       "      <td>0.839406</td>\n",
       "      <td>0.002883</td>\n",
       "      <td>-0.536226</td>\n",
       "      <td>0.382295</td>\n",
       "      <td>...</td>\n",
       "      <td>-0.526182</td>\n",
       "      <td>0.841090</td>\n",
       "      <td>0.905405</td>\n",
       "      <td>0.311843</td>\n",
       "      <td>1.592292</td>\n",
       "      <td>0.206789</td>\n",
       "      <td>1.669141</td>\n",
       "      <td>-1.043552</td>\n",
       "      <td>-1.128990</td>\n",
       "      <td>Alcalá de Henares</td>\n",
       "    </tr>\n",
       "    <tr>\n",
       "      <th>2</th>\n",
       "      <td>0.439142</td>\n",
       "      <td>-0.245309</td>\n",
       "      <td>2.187655</td>\n",
       "      <td>0.171074</td>\n",
       "      <td>2.453814</td>\n",
       "      <td>2.911929</td>\n",
       "      <td>0.374707</td>\n",
       "      <td>2.891977</td>\n",
       "      <td>-0.536226</td>\n",
       "      <td>0.382295</td>\n",
       "      <td>...</td>\n",
       "      <td>-2.254461</td>\n",
       "      <td>-0.542674</td>\n",
       "      <td>0.828997</td>\n",
       "      <td>-0.269980</td>\n",
       "      <td>-1.190440</td>\n",
       "      <td>-0.814867</td>\n",
       "      <td>2.165492</td>\n",
       "      <td>-1.019930</td>\n",
       "      <td>1.081756</td>\n",
       "      <td>Alcobendas</td>\n",
       "    </tr>\n",
       "    <tr>\n",
       "      <th>3</th>\n",
       "      <td>-0.454723</td>\n",
       "      <td>0.000991</td>\n",
       "      <td>1.375026</td>\n",
       "      <td>-0.191186</td>\n",
       "      <td>0.685323</td>\n",
       "      <td>1.587009</td>\n",
       "      <td>0.252967</td>\n",
       "      <td>1.085932</td>\n",
       "      <td>0.559429</td>\n",
       "      <td>-0.170590</td>\n",
       "      <td>...</td>\n",
       "      <td>-1.149315</td>\n",
       "      <td>1.285414</td>\n",
       "      <td>0.245401</td>\n",
       "      <td>2.411640</td>\n",
       "      <td>0.243872</td>\n",
       "      <td>-1.020672</td>\n",
       "      <td>-0.558018</td>\n",
       "      <td>0.273672</td>\n",
       "      <td>-1.246154</td>\n",
       "      <td>Alcorcón</td>\n",
       "    </tr>\n",
       "    <tr>\n",
       "      <th>4</th>\n",
       "      <td>0.028074</td>\n",
       "      <td>-0.923886</td>\n",
       "      <td>-0.785608</td>\n",
       "      <td>-0.414564</td>\n",
       "      <td>-1.332723</td>\n",
       "      <td>-1.198402</td>\n",
       "      <td>-0.171375</td>\n",
       "      <td>-1.510807</td>\n",
       "      <td>0.079761</td>\n",
       "      <td>1.946794</td>\n",
       "      <td>...</td>\n",
       "      <td>-0.357780</td>\n",
       "      <td>0.218566</td>\n",
       "      <td>-1.493899</td>\n",
       "      <td>-0.816789</td>\n",
       "      <td>-0.936614</td>\n",
       "      <td>0.283396</td>\n",
       "      <td>-0.515671</td>\n",
       "      <td>-1.607925</td>\n",
       "      <td>1.836653</td>\n",
       "      <td>Algeciras</td>\n",
       "    </tr>\n",
       "    <tr>\n",
       "      <th>...</th>\n",
       "      <td>...</td>\n",
       "      <td>...</td>\n",
       "      <td>...</td>\n",
       "      <td>...</td>\n",
       "      <td>...</td>\n",
       "      <td>...</td>\n",
       "      <td>...</td>\n",
       "      <td>...</td>\n",
       "      <td>...</td>\n",
       "      <td>...</td>\n",
       "      <td>...</td>\n",
       "      <td>...</td>\n",
       "      <td>...</td>\n",
       "      <td>...</td>\n",
       "      <td>...</td>\n",
       "      <td>...</td>\n",
       "      <td>...</td>\n",
       "      <td>...</td>\n",
       "      <td>...</td>\n",
       "      <td>...</td>\n",
       "      <td>...</td>\n",
       "    </tr>\n",
       "    <tr>\n",
       "      <th>67</th>\n",
       "      <td>1.098255</td>\n",
       "      <td>-0.507499</td>\n",
       "      <td>-0.718349</td>\n",
       "      <td>0.393908</td>\n",
       "      <td>0.347296</td>\n",
       "      <td>-0.536696</td>\n",
       "      <td>-0.142762</td>\n",
       "      <td>0.126114</td>\n",
       "      <td>-0.914447</td>\n",
       "      <td>1.069925</td>\n",
       "      <td>...</td>\n",
       "      <td>1.875912</td>\n",
       "      <td>1.748782</td>\n",
       "      <td>-0.210798</td>\n",
       "      <td>0.575019</td>\n",
       "      <td>-0.849101</td>\n",
       "      <td>0.333336</td>\n",
       "      <td>0.736973</td>\n",
       "      <td>2.293881</td>\n",
       "      <td>-1.187370</td>\n",
       "      <td>Valencia</td>\n",
       "    </tr>\n",
       "    <tr>\n",
       "      <th>68</th>\n",
       "      <td>1.445274</td>\n",
       "      <td>-0.697879</td>\n",
       "      <td>1.481250</td>\n",
       "      <td>1.292464</td>\n",
       "      <td>0.745886</td>\n",
       "      <td>0.976094</td>\n",
       "      <td>1.392235</td>\n",
       "      <td>0.511343</td>\n",
       "      <td>-1.191767</td>\n",
       "      <td>-0.244049</td>\n",
       "      <td>...</td>\n",
       "      <td>0.783514</td>\n",
       "      <td>-1.125120</td>\n",
       "      <td>0.166270</td>\n",
       "      <td>0.476739</td>\n",
       "      <td>1.140708</td>\n",
       "      <td>0.159411</td>\n",
       "      <td>-0.139768</td>\n",
       "      <td>-0.194576</td>\n",
       "      <td>-0.486300</td>\n",
       "      <td>Valladolid</td>\n",
       "    </tr>\n",
       "    <tr>\n",
       "      <th>69</th>\n",
       "      <td>1.398466</td>\n",
       "      <td>0.438050</td>\n",
       "      <td>-0.315416</td>\n",
       "      <td>1.031572</td>\n",
       "      <td>1.379736</td>\n",
       "      <td>0.361445</td>\n",
       "      <td>0.042814</td>\n",
       "      <td>1.295638</td>\n",
       "      <td>-1.156033</td>\n",
       "      <td>1.313620</td>\n",
       "      <td>...</td>\n",
       "      <td>0.774069</td>\n",
       "      <td>-1.508296</td>\n",
       "      <td>-0.822344</td>\n",
       "      <td>-0.462382</td>\n",
       "      <td>-0.201355</td>\n",
       "      <td>-0.408094</td>\n",
       "      <td>-0.329216</td>\n",
       "      <td>-1.408786</td>\n",
       "      <td>1.435524</td>\n",
       "      <td>Vigo</td>\n",
       "    </tr>\n",
       "    <tr>\n",
       "      <th>70</th>\n",
       "      <td>-1.048606</td>\n",
       "      <td>1.564173</td>\n",
       "      <td>-0.370044</td>\n",
       "      <td>0.876240</td>\n",
       "      <td>-0.543334</td>\n",
       "      <td>-0.648783</td>\n",
       "      <td>0.699411</td>\n",
       "      <td>-0.755101</td>\n",
       "      <td>1.136388</td>\n",
       "      <td>-0.711024</td>\n",
       "      <td>...</td>\n",
       "      <td>-0.360062</td>\n",
       "      <td>0.150746</td>\n",
       "      <td>-0.378629</td>\n",
       "      <td>1.136127</td>\n",
       "      <td>0.510968</td>\n",
       "      <td>-0.820605</td>\n",
       "      <td>-1.259515</td>\n",
       "      <td>0.000629</td>\n",
       "      <td>-0.152752</td>\n",
       "      <td>Zamora</td>\n",
       "    </tr>\n",
       "    <tr>\n",
       "      <th>71</th>\n",
       "      <td>2.009935</td>\n",
       "      <td>-1.470469</td>\n",
       "      <td>1.210344</td>\n",
       "      <td>0.838086</td>\n",
       "      <td>0.752393</td>\n",
       "      <td>0.920711</td>\n",
       "      <td>1.173508</td>\n",
       "      <td>0.495486</td>\n",
       "      <td>-1.578517</td>\n",
       "      <td>0.348582</td>\n",
       "      <td>...</td>\n",
       "      <td>1.415447</td>\n",
       "      <td>-0.589415</td>\n",
       "      <td>0.305015</td>\n",
       "      <td>-0.693914</td>\n",
       "      <td>1.440807</td>\n",
       "      <td>-1.279365</td>\n",
       "      <td>-0.871391</td>\n",
       "      <td>0.232999</td>\n",
       "      <td>-0.625850</td>\n",
       "      <td>Zaragoza</td>\n",
       "    </tr>\n",
       "  </tbody>\n",
       "</table>\n",
       "<p>72 rows × 49 columns</p>\n",
       "</div>"
      ],
      "text/plain": [
       "          TA       LPI   AREA_MN   AREA_AM   AREA_MD  GYRATE_MN  GYRATE_AM  \\\n",
       "0   0.660050 -0.215250  0.684610 -0.215862  0.976199   0.929584  -0.349381   \n",
       "1   0.669338 -0.558490  1.037263  0.409724 -0.277272   0.453895   0.839406   \n",
       "2   0.439142 -0.245309  2.187655  0.171074  2.453814   2.911929   0.374707   \n",
       "3  -0.454723  0.000991  1.375026 -0.191186  0.685323   1.587009   0.252967   \n",
       "4   0.028074 -0.923886 -0.785608 -0.414564 -1.332723  -1.198402  -0.171375   \n",
       "..       ...       ...       ...       ...       ...        ...        ...   \n",
       "67  1.098255 -0.507499 -0.718349  0.393908  0.347296  -0.536696  -0.142762   \n",
       "68  1.445274 -0.697879  1.481250  1.292464  0.745886   0.976094   1.392235   \n",
       "69  1.398466  0.438050 -0.315416  1.031572  1.379736   0.361445   0.042814   \n",
       "70 -1.048606  1.564173 -0.370044  0.876240 -0.543334  -0.648783   0.699411   \n",
       "71  2.009935 -1.470469  1.210344  0.838086  0.752393   0.920711   1.173508   \n",
       "\n",
       "    GYRATE_MD       PRD      SHDI  ...  Viv_vacias       COM   ED_SING  \\\n",
       "0    0.790270 -0.527670 -0.072240  ...    0.553164 -1.456354  0.245565   \n",
       "1    0.002883 -0.536226  0.382295  ...   -0.526182  0.841090  0.905405   \n",
       "2    2.891977 -0.536226  0.382295  ...   -2.254461 -0.542674  0.828997   \n",
       "3    1.085932  0.559429 -0.170590  ...   -1.149315  1.285414  0.245401   \n",
       "4   -1.510807  0.079761  1.946794  ...   -0.357780  0.218566 -1.493899   \n",
       "..        ...       ...       ...  ...         ...       ...       ...   \n",
       "67   0.126114 -0.914447  1.069925  ...    1.875912  1.748782 -0.210798   \n",
       "68   0.511343 -1.191767 -0.244049  ...    0.783514 -1.125120  0.166270   \n",
       "69   1.295638 -1.156033  1.313620  ...    0.774069 -1.508296 -0.822344   \n",
       "70  -0.755101  1.136388 -0.711024  ...   -0.360062  0.150746 -0.378629   \n",
       "71   0.495486 -1.578517  0.348582  ...    1.415447 -0.589415  0.305015   \n",
       "\n",
       "       EQUIP       IND      OCIO       OFI   RES_PLU   RES_UNI  \\\n",
       "0  -1.124039  0.578967 -0.052483  0.137178 -0.621876  0.736434   \n",
       "1   0.311843  1.592292  0.206789  1.669141 -1.043552 -1.128990   \n",
       "2  -0.269980 -1.190440 -0.814867  2.165492 -1.019930  1.081756   \n",
       "3   2.411640  0.243872 -1.020672 -0.558018  0.273672 -1.246154   \n",
       "4  -0.816789 -0.936614  0.283396 -0.515671 -1.607925  1.836653   \n",
       "..       ...       ...       ...       ...       ...       ...   \n",
       "67  0.575019 -0.849101  0.333336  0.736973  2.293881 -1.187370   \n",
       "68  0.476739  1.140708  0.159411 -0.139768 -0.194576 -0.486300   \n",
       "69 -0.462382 -0.201355 -0.408094 -0.329216 -1.408786  1.435524   \n",
       "70  1.136127  0.510968 -0.820605 -1.259515  0.000629 -0.152752   \n",
       "71 -0.693914  1.440807 -1.279365 -0.871391  0.232999 -0.625850   \n",
       "\n",
       "             Ciudades  \n",
       "0            Albacete  \n",
       "1   Alcalá de Henares  \n",
       "2          Alcobendas  \n",
       "3            Alcorcón  \n",
       "4           Algeciras  \n",
       "..                ...  \n",
       "67           Valencia  \n",
       "68         Valladolid  \n",
       "69               Vigo  \n",
       "70             Zamora  \n",
       "71           Zaragoza  \n",
       "\n",
       "[72 rows x 49 columns]"
      ]
     },
     "execution_count": 5,
     "metadata": {},
     "output_type": "execute_result"
    }
   ],
   "source": [
    "datos_Ptrans"
   ]
  },
  {
   "cell_type": "code",
   "execution_count": 6,
   "metadata": {},
   "outputs": [
    {
     "data": {
      "text/plain": [
       "['Albacete',\n",
       " 'Alcalá de Henares',\n",
       " 'Alcobendas',\n",
       " 'Alcorcón',\n",
       " 'Algeciras',\n",
       " 'Alicante/Alacant',\n",
       " 'Almería',\n",
       " 'Ávila',\n",
       " 'Badajoz',\n",
       " 'Badalona',\n",
       " 'Barcelona',\n",
       " 'Burgos',\n",
       " 'Cáceres',\n",
       " 'Cádiz',\n",
       " 'Cartagena',\n",
       " 'Castelló de la Plana',\n",
       " 'Ceuta',\n",
       " 'Ciudad Real',\n",
       " 'Córdoba',\n",
       " 'Coruña, A',\n",
       " 'Cuenca',\n",
       " 'Dos Hermanas',\n",
       " 'Elche/Elx',\n",
       " 'Fuenlabrada',\n",
       " 'Getafe',\n",
       " 'Gijón',\n",
       " 'Girona',\n",
       " 'Granada',\n",
       " 'Guadalajara',\n",
       " \"Hospitalet de Llobregat, L'\",\n",
       " 'Huelva',\n",
       " 'Huesca',\n",
       " 'Jaén',\n",
       " 'Jerez de la Frontera',\n",
       " 'Palmas de Gran Canaria, Las',\n",
       " 'Leganés',\n",
       " 'León',\n",
       " 'Lleida',\n",
       " 'Logroño',\n",
       " 'Lugo',\n",
       " 'Madrid',\n",
       " 'Málaga',\n",
       " 'Marbella',\n",
       " 'Mataró',\n",
       " 'Melilla',\n",
       " 'Móstoles',\n",
       " 'Murcia',\n",
       " 'Ourense',\n",
       " 'Oviedo',\n",
       " 'Palencia',\n",
       " 'Palma de Mallorca',\n",
       " 'Parla',\n",
       " 'Pontevedra',\n",
       " 'Sabadell',\n",
       " 'Salamanca',\n",
       " 'San Cristóbal de La Laguna',\n",
       " 'Santa Coloma de Gramenet',\n",
       " 'Santa Cruz de Tenerife',\n",
       " 'Santander',\n",
       " 'Segovia',\n",
       " 'Sevilla',\n",
       " 'Soria',\n",
       " 'Tarragona',\n",
       " 'Terrassa',\n",
       " 'Teruel',\n",
       " 'Toledo',\n",
       " 'Torrejón de Ardoz',\n",
       " 'Valencia',\n",
       " 'Valladolid',\n",
       " 'Vigo',\n",
       " 'Zamora',\n",
       " 'Zaragoza']"
      ]
     },
     "execution_count": 6,
     "metadata": {},
     "output_type": "execute_result"
    }
   ],
   "source": [
    "datos_Ptrans['Ciudades'].tolist()"
   ]
  },
  {
   "cell_type": "code",
   "execution_count": 6,
   "metadata": {},
   "outputs": [],
   "source": [
    "datos_Ptrans['F1'] = datos_Ptrans['AREA_MN'] * 0.815 + datos_Ptrans[\"ED\"] * 0.913 + datos_Ptrans[\"RES_PLU\"]  * 0.654 \n",
    "datos_Ptrans['F2'] = datos_Ptrans['LPI'] * -0.848 + datos_Ptrans['SPLIT'] * 0.834 + datos_Ptrans['MESH'] * -0.764\n",
    "datos_Ptrans['F3'] = datos_Ptrans['LSI'] * 0.755 + datos_Ptrans['T_Viviendas'] * 0.957 \n",
    "datos_Ptrans['F4'] = datos_Ptrans['RES_UNI'] * 0.817 \n",
    "datos_Ptrans['F5'] = datos_Ptrans['SIDI'] * 0.751 "
   ]
  },
  {
   "cell_type": "code",
   "execution_count": 7,
   "metadata": {},
   "outputs": [],
   "source": [
    "datos_Ptrans_sinT = datos_Ptrans.query('Ciudades != \"Torrejón de Ardoz\"')"
   ]
  },
  {
   "cell_type": "code",
   "execution_count": 160,
   "metadata": {},
   "outputs": [],
   "source": [
    "datos_sel = datos_Ptrans.loc[:,['F1','F2','F3','F4','F5']]"
   ]
  },
  {
   "cell_type": "code",
   "execution_count": 161,
   "metadata": {},
   "outputs": [],
   "source": [
    "datos_sel_sinT = datos_Ptrans_sinT.loc[:,['F1','F2','F3','F4','F5']]"
   ]
  },
  {
   "cell_type": "code",
   "execution_count": 162,
   "metadata": {},
   "outputs": [
    {
     "data": {
      "text/html": [
       "<div>\n",
       "<style scoped>\n",
       "    .dataframe tbody tr th:only-of-type {\n",
       "        vertical-align: middle;\n",
       "    }\n",
       "\n",
       "    .dataframe tbody tr th {\n",
       "        vertical-align: top;\n",
       "    }\n",
       "\n",
       "    .dataframe thead th {\n",
       "        text-align: right;\n",
       "    }\n",
       "</style>\n",
       "<table border=\"1\" class=\"dataframe\">\n",
       "  <thead>\n",
       "    <tr style=\"text-align: right;\">\n",
       "      <th></th>\n",
       "      <th>F1</th>\n",
       "      <th>F2</th>\n",
       "      <th>F3</th>\n",
       "      <th>F4</th>\n",
       "      <th>F5</th>\n",
       "    </tr>\n",
       "  </thead>\n",
       "  <tbody>\n",
       "    <tr>\n",
       "      <th>0</th>\n",
       "      <td>-0.249241</td>\n",
       "      <td>1.000541</td>\n",
       "      <td>0.304281</td>\n",
       "      <td>0.601667</td>\n",
       "      <td>-0.000315</td>\n",
       "    </tr>\n",
       "    <tr>\n",
       "      <th>1</th>\n",
       "      <td>-0.931782</td>\n",
       "      <td>0.390124</td>\n",
       "      <td>-0.251061</td>\n",
       "      <td>-0.922385</td>\n",
       "      <td>-0.180540</td>\n",
       "    </tr>\n",
       "    <tr>\n",
       "      <th>2</th>\n",
       "      <td>-0.486164</td>\n",
       "      <td>0.307722</td>\n",
       "      <td>-1.950349</td>\n",
       "      <td>0.883795</td>\n",
       "      <td>-0.180540</td>\n",
       "    </tr>\n",
       "    <tr>\n",
       "      <th>3</th>\n",
       "      <td>0.257010</td>\n",
       "      <td>0.026269</td>\n",
       "      <td>-1.032810</td>\n",
       "      <td>-1.018108</td>\n",
       "      <td>0.055379</td>\n",
       "    </tr>\n",
       "    <tr>\n",
       "      <th>4</th>\n",
       "      <td>-1.303739</td>\n",
       "      <td>1.415432</td>\n",
       "      <td>-0.250477</td>\n",
       "      <td>1.500546</td>\n",
       "      <td>-1.400094</td>\n",
       "    </tr>\n",
       "    <tr>\n",
       "      <th>...</th>\n",
       "      <td>...</td>\n",
       "      <td>...</td>\n",
       "      <td>...</td>\n",
       "      <td>...</td>\n",
       "      <td>...</td>\n",
       "    </tr>\n",
       "    <tr>\n",
       "      <th>67</th>\n",
       "      <td>1.640623</td>\n",
       "      <td>0.690118</td>\n",
       "      <td>2.705931</td>\n",
       "      <td>-0.970081</td>\n",
       "      <td>-0.739169</td>\n",
       "    </tr>\n",
       "    <tr>\n",
       "      <th>68</th>\n",
       "      <td>-0.285869</td>\n",
       "      <td>-0.360609</td>\n",
       "      <td>0.955561</td>\n",
       "      <td>-0.397307</td>\n",
       "      <td>0.175226</td>\n",
       "    </tr>\n",
       "    <tr>\n",
       "      <th>69</th>\n",
       "      <td>-0.391434</td>\n",
       "      <td>-0.902113</td>\n",
       "      <td>2.050581</td>\n",
       "      <td>1.172823</td>\n",
       "      <td>-0.949600</td>\n",
       "    </tr>\n",
       "    <tr>\n",
       "      <th>70</th>\n",
       "      <td>-0.175066</td>\n",
       "      <td>-2.944324</td>\n",
       "      <td>-1.639736</td>\n",
       "      <td>-0.124798</td>\n",
       "      <td>0.456029</td>\n",
       "    </tr>\n",
       "    <tr>\n",
       "      <th>71</th>\n",
       "      <td>0.114930</td>\n",
       "      <td>1.567784</td>\n",
       "      <td>2.226314</td>\n",
       "      <td>-0.511319</td>\n",
       "      <td>-0.254869</td>\n",
       "    </tr>\n",
       "  </tbody>\n",
       "</table>\n",
       "<p>72 rows × 5 columns</p>\n",
       "</div>"
      ],
      "text/plain": [
       "          F1        F2        F3        F4        F5\n",
       "0  -0.249241  1.000541  0.304281  0.601667 -0.000315\n",
       "1  -0.931782  0.390124 -0.251061 -0.922385 -0.180540\n",
       "2  -0.486164  0.307722 -1.950349  0.883795 -0.180540\n",
       "3   0.257010  0.026269 -1.032810 -1.018108  0.055379\n",
       "4  -1.303739  1.415432 -0.250477  1.500546 -1.400094\n",
       "..       ...       ...       ...       ...       ...\n",
       "67  1.640623  0.690118  2.705931 -0.970081 -0.739169\n",
       "68 -0.285869 -0.360609  0.955561 -0.397307  0.175226\n",
       "69 -0.391434 -0.902113  2.050581  1.172823 -0.949600\n",
       "70 -0.175066 -2.944324 -1.639736 -0.124798  0.456029\n",
       "71  0.114930  1.567784  2.226314 -0.511319 -0.254869\n",
       "\n",
       "[72 rows x 5 columns]"
      ]
     },
     "execution_count": 162,
     "metadata": {},
     "output_type": "execute_result"
    }
   ],
   "source": [
    "datos_sel"
   ]
  },
  {
   "cell_type": "code",
   "execution_count": 165,
   "metadata": {},
   "outputs": [],
   "source": [
    "lista_datos =[datos_sel,datos_sel_sinT]"
   ]
  },
  {
   "cell_type": "code",
   "execution_count": 164,
   "metadata": {},
   "outputs": [
    {
     "data": {
      "text/plain": [
       "(0.24056548170386893,\n",
       " array([1, 0, 0, 0, 1, 3, 1, 0, 1, 1, 3, 0, 2, 0, 1, 0, 0, 0, 3, 1, 0, 1,\n",
       "        1, 0, 0, 1, 0, 1, 0, 0, 2, 0, 0, 1, 3, 2, 0, 0, 0, 0, 1, 3, 1, 0,\n",
       "        0, 0, 1, 3, 1, 0, 1, 2, 0, 3, 0, 3, 0, 3, 1, 0, 1, 0, 0, 3, 0, 2,\n",
       "        2, 3, 1, 1, 2, 3], dtype=int64))"
      ]
     },
     "execution_count": 164,
     "metadata": {},
     "output_type": "execute_result"
    }
   ],
   "source": [
    "cf.cluster_analysis_score(AgglomerativeClustering,datos_sel,4)"
   ]
  },
  {
   "cell_type": "code",
   "execution_count": 167,
   "metadata": {},
   "outputs": [],
   "source": [
    "sil_list = []\n",
    "num = []\n",
    "df_list = copy.deepcopy(lista_datos)\n",
    "numbers = [2,3,4,5,6,7,8,9,10]\n",
    "nombre_datos = [\"datos_sel\",\"datos_sel_sinT\"]\n",
    "for number in numbers:\n",
    "    for index, item in enumerate(lista_datos):\n",
    "        n = number\n",
    "        sil, labels = cf.cluster_analysis_score(AgglomerativeClustering, lista_datos[index], n)\n",
    "        num.append(n)\n",
    "        sil_list.append(sil)\n",
    "        df_name = \"AG\"+str(n)+nombre_datos[index]\n",
    "        df_list[index][df_name] = labels"
   ]
  },
  {
   "cell_type": "code",
   "execution_count": 168,
   "metadata": {},
   "outputs": [
    {
     "data": {
      "text/html": [
       "<div>\n",
       "<style scoped>\n",
       "    .dataframe tbody tr th:only-of-type {\n",
       "        vertical-align: middle;\n",
       "    }\n",
       "\n",
       "    .dataframe tbody tr th {\n",
       "        vertical-align: top;\n",
       "    }\n",
       "\n",
       "    .dataframe thead th {\n",
       "        text-align: right;\n",
       "    }\n",
       "</style>\n",
       "<table border=\"1\" class=\"dataframe\">\n",
       "  <thead>\n",
       "    <tr style=\"text-align: right;\">\n",
       "      <th></th>\n",
       "      <th>Data</th>\n",
       "      <th>Sil_Score</th>\n",
       "      <th>n_clusters</th>\n",
       "    </tr>\n",
       "  </thead>\n",
       "  <tbody>\n",
       "    <tr>\n",
       "      <th>0</th>\n",
       "      <td>datos_sel</td>\n",
       "      <td>0.320383</td>\n",
       "      <td>2</td>\n",
       "    </tr>\n",
       "    <tr>\n",
       "      <th>1</th>\n",
       "      <td>datos_sel_sinT</td>\n",
       "      <td>0.252178</td>\n",
       "      <td>2</td>\n",
       "    </tr>\n",
       "    <tr>\n",
       "      <th>2</th>\n",
       "      <td>datos_sel</td>\n",
       "      <td>0.278643</td>\n",
       "      <td>3</td>\n",
       "    </tr>\n",
       "    <tr>\n",
       "      <th>3</th>\n",
       "      <td>datos_sel_sinT</td>\n",
       "      <td>0.209109</td>\n",
       "      <td>3</td>\n",
       "    </tr>\n",
       "    <tr>\n",
       "      <th>4</th>\n",
       "      <td>datos_sel</td>\n",
       "      <td>0.240565</td>\n",
       "      <td>4</td>\n",
       "    </tr>\n",
       "    <tr>\n",
       "      <th>5</th>\n",
       "      <td>datos_sel_sinT</td>\n",
       "      <td>0.232735</td>\n",
       "      <td>4</td>\n",
       "    </tr>\n",
       "    <tr>\n",
       "      <th>6</th>\n",
       "      <td>datos_sel</td>\n",
       "      <td>0.197304</td>\n",
       "      <td>5</td>\n",
       "    </tr>\n",
       "    <tr>\n",
       "      <th>7</th>\n",
       "      <td>datos_sel_sinT</td>\n",
       "      <td>0.198007</td>\n",
       "      <td>5</td>\n",
       "    </tr>\n",
       "    <tr>\n",
       "      <th>8</th>\n",
       "      <td>datos_sel</td>\n",
       "      <td>0.197033</td>\n",
       "      <td>6</td>\n",
       "    </tr>\n",
       "    <tr>\n",
       "      <th>9</th>\n",
       "      <td>datos_sel_sinT</td>\n",
       "      <td>0.199309</td>\n",
       "      <td>6</td>\n",
       "    </tr>\n",
       "    <tr>\n",
       "      <th>10</th>\n",
       "      <td>datos_sel</td>\n",
       "      <td>0.192871</td>\n",
       "      <td>7</td>\n",
       "    </tr>\n",
       "    <tr>\n",
       "      <th>11</th>\n",
       "      <td>datos_sel_sinT</td>\n",
       "      <td>0.195088</td>\n",
       "      <td>7</td>\n",
       "    </tr>\n",
       "    <tr>\n",
       "      <th>12</th>\n",
       "      <td>datos_sel</td>\n",
       "      <td>0.188268</td>\n",
       "      <td>8</td>\n",
       "    </tr>\n",
       "    <tr>\n",
       "      <th>13</th>\n",
       "      <td>datos_sel_sinT</td>\n",
       "      <td>0.197545</td>\n",
       "      <td>8</td>\n",
       "    </tr>\n",
       "    <tr>\n",
       "      <th>14</th>\n",
       "      <td>datos_sel</td>\n",
       "      <td>0.194802</td>\n",
       "      <td>9</td>\n",
       "    </tr>\n",
       "    <tr>\n",
       "      <th>15</th>\n",
       "      <td>datos_sel_sinT</td>\n",
       "      <td>0.215950</td>\n",
       "      <td>9</td>\n",
       "    </tr>\n",
       "    <tr>\n",
       "      <th>16</th>\n",
       "      <td>datos_sel</td>\n",
       "      <td>0.212950</td>\n",
       "      <td>10</td>\n",
       "    </tr>\n",
       "    <tr>\n",
       "      <th>17</th>\n",
       "      <td>datos_sel_sinT</td>\n",
       "      <td>0.219663</td>\n",
       "      <td>10</td>\n",
       "    </tr>\n",
       "  </tbody>\n",
       "</table>\n",
       "</div>"
      ],
      "text/plain": [
       "              Data  Sil_Score  n_clusters\n",
       "0        datos_sel   0.320383           2\n",
       "1   datos_sel_sinT   0.252178           2\n",
       "2        datos_sel   0.278643           3\n",
       "3   datos_sel_sinT   0.209109           3\n",
       "4        datos_sel   0.240565           4\n",
       "5   datos_sel_sinT   0.232735           4\n",
       "6        datos_sel   0.197304           5\n",
       "7   datos_sel_sinT   0.198007           5\n",
       "8        datos_sel   0.197033           6\n",
       "9   datos_sel_sinT   0.199309           6\n",
       "10       datos_sel   0.192871           7\n",
       "11  datos_sel_sinT   0.195088           7\n",
       "12       datos_sel   0.188268           8\n",
       "13  datos_sel_sinT   0.197545           8\n",
       "14       datos_sel   0.194802           9\n",
       "15  datos_sel_sinT   0.215950           9\n",
       "16       datos_sel   0.212950          10\n",
       "17  datos_sel_sinT   0.219663          10"
      ]
     },
     "execution_count": 168,
     "metadata": {},
     "output_type": "execute_result"
    }
   ],
   "source": [
    "pd.DataFrame({'Data': 9*nombre_datos, \"Sil_Score\": sil_list, \"n_clusters\" : num})"
   ]
  },
  {
   "cell_type": "markdown",
   "metadata": {},
   "source": [
    "## Todas las labels estan en la lista de datos df_list"
   ]
  },
  {
   "cell_type": "code",
   "execution_count": 179,
   "metadata": {},
   "outputs": [
    {
     "data": {
      "text/html": [
       "<div>\n",
       "<style scoped>\n",
       "    .dataframe tbody tr th:only-of-type {\n",
       "        vertical-align: middle;\n",
       "    }\n",
       "\n",
       "    .dataframe tbody tr th {\n",
       "        vertical-align: top;\n",
       "    }\n",
       "\n",
       "    .dataframe thead th {\n",
       "        text-align: right;\n",
       "    }\n",
       "</style>\n",
       "<table border=\"1\" class=\"dataframe\">\n",
       "  <thead>\n",
       "    <tr style=\"text-align: right;\">\n",
       "      <th></th>\n",
       "      <th>F1</th>\n",
       "      <th>F2</th>\n",
       "      <th>F3</th>\n",
       "      <th>F4</th>\n",
       "      <th>F5</th>\n",
       "      <th>AG2datos_sel_sinT</th>\n",
       "      <th>AG3datos_sel_sinT</th>\n",
       "      <th>AG4datos_sel_sinT</th>\n",
       "      <th>AG5datos_sel_sinT</th>\n",
       "      <th>AG6datos_sel_sinT</th>\n",
       "      <th>AG7datos_sel_sinT</th>\n",
       "      <th>AG8datos_sel_sinT</th>\n",
       "      <th>AG9datos_sel_sinT</th>\n",
       "      <th>AG10datos_sel_sinT</th>\n",
       "    </tr>\n",
       "  </thead>\n",
       "  <tbody>\n",
       "    <tr>\n",
       "      <th>0</th>\n",
       "      <td>-0.249241</td>\n",
       "      <td>1.000541</td>\n",
       "      <td>0.304281</td>\n",
       "      <td>0.601667</td>\n",
       "      <td>-0.000315</td>\n",
       "      <td>0</td>\n",
       "      <td>1</td>\n",
       "      <td>1</td>\n",
       "      <td>0</td>\n",
       "      <td>5</td>\n",
       "      <td>5</td>\n",
       "      <td>2</td>\n",
       "      <td>0</td>\n",
       "      <td>4</td>\n",
       "    </tr>\n",
       "    <tr>\n",
       "      <th>1</th>\n",
       "      <td>-0.931782</td>\n",
       "      <td>0.390124</td>\n",
       "      <td>-0.251061</td>\n",
       "      <td>-0.922385</td>\n",
       "      <td>-0.180540</td>\n",
       "      <td>1</td>\n",
       "      <td>0</td>\n",
       "      <td>0</td>\n",
       "      <td>4</td>\n",
       "      <td>4</td>\n",
       "      <td>1</td>\n",
       "      <td>1</td>\n",
       "      <td>1</td>\n",
       "      <td>0</td>\n",
       "    </tr>\n",
       "    <tr>\n",
       "      <th>2</th>\n",
       "      <td>-0.486164</td>\n",
       "      <td>0.307722</td>\n",
       "      <td>-1.950349</td>\n",
       "      <td>0.883795</td>\n",
       "      <td>-0.180540</td>\n",
       "      <td>1</td>\n",
       "      <td>0</td>\n",
       "      <td>0</td>\n",
       "      <td>1</td>\n",
       "      <td>1</td>\n",
       "      <td>0</td>\n",
       "      <td>3</td>\n",
       "      <td>3</td>\n",
       "      <td>3</td>\n",
       "    </tr>\n",
       "    <tr>\n",
       "      <th>3</th>\n",
       "      <td>0.257010</td>\n",
       "      <td>0.026269</td>\n",
       "      <td>-1.032810</td>\n",
       "      <td>-1.018108</td>\n",
       "      <td>0.055379</td>\n",
       "      <td>1</td>\n",
       "      <td>0</td>\n",
       "      <td>0</td>\n",
       "      <td>4</td>\n",
       "      <td>4</td>\n",
       "      <td>1</td>\n",
       "      <td>1</td>\n",
       "      <td>1</td>\n",
       "      <td>0</td>\n",
       "    </tr>\n",
       "    <tr>\n",
       "      <th>4</th>\n",
       "      <td>-1.303739</td>\n",
       "      <td>1.415432</td>\n",
       "      <td>-0.250477</td>\n",
       "      <td>1.500546</td>\n",
       "      <td>-1.400094</td>\n",
       "      <td>0</td>\n",
       "      <td>1</td>\n",
       "      <td>1</td>\n",
       "      <td>0</td>\n",
       "      <td>2</td>\n",
       "      <td>2</td>\n",
       "      <td>0</td>\n",
       "      <td>8</td>\n",
       "      <td>8</td>\n",
       "    </tr>\n",
       "    <tr>\n",
       "      <th>...</th>\n",
       "      <td>...</td>\n",
       "      <td>...</td>\n",
       "      <td>...</td>\n",
       "      <td>...</td>\n",
       "      <td>...</td>\n",
       "      <td>...</td>\n",
       "      <td>...</td>\n",
       "      <td>...</td>\n",
       "      <td>...</td>\n",
       "      <td>...</td>\n",
       "      <td>...</td>\n",
       "      <td>...</td>\n",
       "      <td>...</td>\n",
       "      <td>...</td>\n",
       "    </tr>\n",
       "    <tr>\n",
       "      <th>67</th>\n",
       "      <td>1.640623</td>\n",
       "      <td>0.690118</td>\n",
       "      <td>2.705931</td>\n",
       "      <td>-0.970081</td>\n",
       "      <td>-0.739169</td>\n",
       "      <td>0</td>\n",
       "      <td>2</td>\n",
       "      <td>2</td>\n",
       "      <td>2</td>\n",
       "      <td>0</td>\n",
       "      <td>4</td>\n",
       "      <td>4</td>\n",
       "      <td>4</td>\n",
       "      <td>1</td>\n",
       "    </tr>\n",
       "    <tr>\n",
       "      <th>68</th>\n",
       "      <td>-0.285869</td>\n",
       "      <td>-0.360609</td>\n",
       "      <td>0.955561</td>\n",
       "      <td>-0.397307</td>\n",
       "      <td>0.175226</td>\n",
       "      <td>0</td>\n",
       "      <td>1</td>\n",
       "      <td>1</td>\n",
       "      <td>0</td>\n",
       "      <td>5</td>\n",
       "      <td>5</td>\n",
       "      <td>2</td>\n",
       "      <td>0</td>\n",
       "      <td>4</td>\n",
       "    </tr>\n",
       "    <tr>\n",
       "      <th>69</th>\n",
       "      <td>-0.391434</td>\n",
       "      <td>-0.902113</td>\n",
       "      <td>2.050581</td>\n",
       "      <td>1.172823</td>\n",
       "      <td>-0.949600</td>\n",
       "      <td>0</td>\n",
       "      <td>1</td>\n",
       "      <td>1</td>\n",
       "      <td>0</td>\n",
       "      <td>2</td>\n",
       "      <td>2</td>\n",
       "      <td>0</td>\n",
       "      <td>5</td>\n",
       "      <td>5</td>\n",
       "    </tr>\n",
       "    <tr>\n",
       "      <th>70</th>\n",
       "      <td>-0.175066</td>\n",
       "      <td>-2.944324</td>\n",
       "      <td>-1.639736</td>\n",
       "      <td>-0.124798</td>\n",
       "      <td>0.456029</td>\n",
       "      <td>1</td>\n",
       "      <td>0</td>\n",
       "      <td>3</td>\n",
       "      <td>3</td>\n",
       "      <td>3</td>\n",
       "      <td>3</td>\n",
       "      <td>7</td>\n",
       "      <td>7</td>\n",
       "      <td>7</td>\n",
       "    </tr>\n",
       "    <tr>\n",
       "      <th>71</th>\n",
       "      <td>0.114930</td>\n",
       "      <td>1.567784</td>\n",
       "      <td>2.226314</td>\n",
       "      <td>-0.511319</td>\n",
       "      <td>-0.254869</td>\n",
       "      <td>0</td>\n",
       "      <td>2</td>\n",
       "      <td>2</td>\n",
       "      <td>2</td>\n",
       "      <td>0</td>\n",
       "      <td>4</td>\n",
       "      <td>4</td>\n",
       "      <td>4</td>\n",
       "      <td>1</td>\n",
       "    </tr>\n",
       "  </tbody>\n",
       "</table>\n",
       "<p>71 rows × 14 columns</p>\n",
       "</div>"
      ],
      "text/plain": [
       "          F1        F2        F3        F4        F5  AG2datos_sel_sinT  \\\n",
       "0  -0.249241  1.000541  0.304281  0.601667 -0.000315                  0   \n",
       "1  -0.931782  0.390124 -0.251061 -0.922385 -0.180540                  1   \n",
       "2  -0.486164  0.307722 -1.950349  0.883795 -0.180540                  1   \n",
       "3   0.257010  0.026269 -1.032810 -1.018108  0.055379                  1   \n",
       "4  -1.303739  1.415432 -0.250477  1.500546 -1.400094                  0   \n",
       "..       ...       ...       ...       ...       ...                ...   \n",
       "67  1.640623  0.690118  2.705931 -0.970081 -0.739169                  0   \n",
       "68 -0.285869 -0.360609  0.955561 -0.397307  0.175226                  0   \n",
       "69 -0.391434 -0.902113  2.050581  1.172823 -0.949600                  0   \n",
       "70 -0.175066 -2.944324 -1.639736 -0.124798  0.456029                  1   \n",
       "71  0.114930  1.567784  2.226314 -0.511319 -0.254869                  0   \n",
       "\n",
       "    AG3datos_sel_sinT  AG4datos_sel_sinT  AG5datos_sel_sinT  \\\n",
       "0                   1                  1                  0   \n",
       "1                   0                  0                  4   \n",
       "2                   0                  0                  1   \n",
       "3                   0                  0                  4   \n",
       "4                   1                  1                  0   \n",
       "..                ...                ...                ...   \n",
       "67                  2                  2                  2   \n",
       "68                  1                  1                  0   \n",
       "69                  1                  1                  0   \n",
       "70                  0                  3                  3   \n",
       "71                  2                  2                  2   \n",
       "\n",
       "    AG6datos_sel_sinT  AG7datos_sel_sinT  AG8datos_sel_sinT  \\\n",
       "0                   5                  5                  2   \n",
       "1                   4                  1                  1   \n",
       "2                   1                  0                  3   \n",
       "3                   4                  1                  1   \n",
       "4                   2                  2                  0   \n",
       "..                ...                ...                ...   \n",
       "67                  0                  4                  4   \n",
       "68                  5                  5                  2   \n",
       "69                  2                  2                  0   \n",
       "70                  3                  3                  7   \n",
       "71                  0                  4                  4   \n",
       "\n",
       "    AG9datos_sel_sinT  AG10datos_sel_sinT  \n",
       "0                   0                   4  \n",
       "1                   1                   0  \n",
       "2                   3                   3  \n",
       "3                   1                   0  \n",
       "4                   8                   8  \n",
       "..                ...                 ...  \n",
       "67                  4                   1  \n",
       "68                  0                   4  \n",
       "69                  5                   5  \n",
       "70                  7                   7  \n",
       "71                  4                   1  \n",
       "\n",
       "[71 rows x 14 columns]"
      ]
     },
     "execution_count": 179,
     "metadata": {},
     "output_type": "execute_result"
    }
   ],
   "source": [
    "df_list[1]"
   ]
  },
  {
   "cell_type": "code",
   "execution_count": 170,
   "metadata": {},
   "outputs": [],
   "source": [
    "variables_keep =  ('AG2datos_sel', 'AG3datos_sel',\n",
    "       'AG4datos_sel', 'AG5datos_sel', 'AG6datos_sel', 'AG7datos_sel',\n",
    "       'AG8datos_sel', 'AG9datos_sel', 'AG10datos_sel')"
   ]
  },
  {
   "cell_type": "code",
   "execution_count": 175,
   "metadata": {},
   "outputs": [],
   "source": [
    "def grafico(cluster):\n",
    "    datos_melt_todos = cf.ajustar_data(df_list[0], variables_keep)\n",
    "    datos_group = cf.group_data(datos_melt_todos,cluster)\n",
    "    return cf.interactive_scatter(datos_group, cluster)"
   ]
  },
  {
   "cell_type": "code",
   "execution_count": 186,
   "metadata": {},
   "outputs": [],
   "source": [
    "variables_keep1 = ['AG2datos_sel_sinT', 'AG3datos_sel_sinT',\n",
    "       'AG4datos_sel_sinT', 'AG5datos_sel_sinT', 'AG6datos_sel_sinT',\n",
    "       'AG7datos_sel_sinT', 'AG8datos_sel_sinT', 'AG9datos_sel_sinT',\n",
    "       'AG10datos_sel_sinT']"
   ]
  },
  {
   "cell_type": "code",
   "execution_count": 187,
   "metadata": {},
   "outputs": [],
   "source": [
    "def grafico1(cluster):\n",
    "    datos_melt_todos = cf.ajustar_data(df_list[1], variables_keep1)\n",
    "    datos_group = cf.group_data(datos_melt_todos,cluster)\n",
    "    return cf.interactive_scatter(datos_group, cluster)"
   ]
  },
  {
   "cell_type": "code",
   "execution_count": 177,
   "metadata": {},
   "outputs": [
    {
     "data": {
      "application/vnd.plotly.v1+json": {
       "config": {
        "plotlyServerURL": "https://plot.ly"
       },
       "data": [
        {
         "hovertemplate": "AG4datos_sel=0<br> =%{x}<br>Factor value=%{y}<extra></extra>",
         "legendgroup": "0",
         "marker": {
          "color": "red",
          "size": 12,
          "symbol": "circle"
         },
         "mode": "markers",
         "name": "0",
         "orientation": "v",
         "showlegend": true,
         "type": "scatter",
         "x": [
          "F1",
          "F2",
          "F3",
          "F4",
          "F5"
         ],
         "xaxis": "x",
         "y": [
          0.06579010508536344,
          -0.20522210928754597,
          -1.11336675305379,
          -0.3329589376087548,
          0.1735452798113359
         ],
         "yaxis": "y"
        },
        {
         "hovertemplate": "AG4datos_sel=1<br> =%{x}<br>Factor value=%{y}<extra></extra>",
         "legendgroup": "1",
         "marker": {
          "color": "green",
          "size": 12,
          "symbol": "circle"
         },
         "mode": "markers",
         "name": "1",
         "orientation": "v",
         "showlegend": true,
         "type": "scatter",
         "x": [
          "F1",
          "F2",
          "F3",
          "F4",
          "F5"
         ],
         "xaxis": "x",
         "y": [
          -0.12831661719491003,
          -0.05798667184958729,
          1.156479525058931,
          0.43548030171317054,
          -0.11170672344397621
         ],
         "yaxis": "y"
        },
        {
         "hovertemplate": "AG4datos_sel=2<br> =%{x}<br>Factor value=%{y}<extra></extra>",
         "legendgroup": "2",
         "marker": {
          "color": "blue",
          "size": 12,
          "symbol": "circle"
         },
         "mode": "markers",
         "name": "2",
         "orientation": "v",
         "showlegend": true,
         "type": "scatter",
         "x": [
          "F1",
          "F2",
          "F3",
          "F4",
          "F5"
         ],
         "xaxis": "x",
         "y": [
          -0.8110861941411746,
          -4.251297843261974,
          -1.411123616338305,
          -0.4323812009974853,
          0.12901121262075257
         ],
         "yaxis": "y"
        },
        {
         "hovertemplate": "AG4datos_sel=3<br> =%{x}<br>Factor value=%{y}<extra></extra>",
         "legendgroup": "3",
         "marker": {
          "color": "black",
          "size": 12,
          "symbol": "circle"
         },
         "mode": "markers",
         "name": "3",
         "orientation": "v",
         "showlegend": true,
         "type": "scatter",
         "x": [
          "F1",
          "F2",
          "F3",
          "F4",
          "F5"
         ],
         "xaxis": "x",
         "y": [
          0.5222474131124789,
          3.1286593757395305,
          1.7682942821541554,
          0.3780223395404969,
          -0.34255718749871017
         ],
         "yaxis": "y"
        },
        {
         "hovertemplate": "AG4datos_sel=0<br>variable=%{x}<br>value=%{y}<extra></extra>",
         "legendgroup": "0",
         "line": {
          "color": "red",
          "dash": "solid",
          "shape": "linear"
         },
         "marker": {
          "symbol": "circle"
         },
         "mode": "lines",
         "name": "0",
         "orientation": "v",
         "showlegend": true,
         "type": "scatter",
         "x": [
          "F1",
          "F2",
          "F3",
          "F4",
          "F5"
         ],
         "xaxis": "x",
         "y": [
          0.06579010508536344,
          -0.20522210928754597,
          -1.11336675305379,
          -0.3329589376087548,
          0.1735452798113359
         ],
         "yaxis": "y"
        },
        {
         "hovertemplate": "AG4datos_sel=1<br>variable=%{x}<br>value=%{y}<extra></extra>",
         "legendgroup": "1",
         "line": {
          "color": "green",
          "dash": "solid",
          "shape": "linear"
         },
         "marker": {
          "symbol": "circle"
         },
         "mode": "lines",
         "name": "1",
         "orientation": "v",
         "showlegend": true,
         "type": "scatter",
         "x": [
          "F1",
          "F2",
          "F3",
          "F4",
          "F5"
         ],
         "xaxis": "x",
         "y": [
          -0.12831661719491003,
          -0.05798667184958729,
          1.156479525058931,
          0.43548030171317054,
          -0.11170672344397621
         ],
         "yaxis": "y"
        },
        {
         "hovertemplate": "AG4datos_sel=2<br>variable=%{x}<br>value=%{y}<extra></extra>",
         "legendgroup": "2",
         "line": {
          "color": "blue",
          "dash": "solid",
          "shape": "linear"
         },
         "marker": {
          "symbol": "circle"
         },
         "mode": "lines",
         "name": "2",
         "orientation": "v",
         "showlegend": true,
         "type": "scatter",
         "x": [
          "F1",
          "F2",
          "F3",
          "F4",
          "F5"
         ],
         "xaxis": "x",
         "y": [
          -0.8110861941411746,
          -4.251297843261974,
          -1.411123616338305,
          -0.4323812009974853,
          0.12901121262075257
         ],
         "yaxis": "y"
        },
        {
         "hovertemplate": "AG4datos_sel=3<br>variable=%{x}<br>value=%{y}<extra></extra>",
         "legendgroup": "3",
         "line": {
          "color": "black",
          "dash": "solid",
          "shape": "linear"
         },
         "marker": {
          "symbol": "circle"
         },
         "mode": "lines",
         "name": "3",
         "orientation": "v",
         "showlegend": true,
         "type": "scatter",
         "x": [
          "F1",
          "F2",
          "F3",
          "F4",
          "F5"
         ],
         "xaxis": "x",
         "y": [
          0.5222474131124789,
          3.1286593757395305,
          1.7682942821541554,
          0.3780223395404969,
          -0.34255718749871017
         ],
         "yaxis": "y"
        }
       ],
       "layout": {
        "legend": {
         "orientation": "v",
         "title": {
          "text": "AG4datos_sel"
         },
         "tracegroupgap": 0,
         "traceorder": "normal",
         "x": 1,
         "y": 1
        },
        "plot_bgcolor": "white",
        "template": {
         "data": {
          "bar": [
           {
            "error_x": {
             "color": "#2a3f5f"
            },
            "error_y": {
             "color": "#2a3f5f"
            },
            "marker": {
             "line": {
              "color": "#E5ECF6",
              "width": 0.5
             },
             "pattern": {
              "fillmode": "overlay",
              "size": 10,
              "solidity": 0.2
             }
            },
            "type": "bar"
           }
          ],
          "barpolar": [
           {
            "marker": {
             "line": {
              "color": "#E5ECF6",
              "width": 0.5
             },
             "pattern": {
              "fillmode": "overlay",
              "size": 10,
              "solidity": 0.2
             }
            },
            "type": "barpolar"
           }
          ],
          "carpet": [
           {
            "aaxis": {
             "endlinecolor": "#2a3f5f",
             "gridcolor": "white",
             "linecolor": "white",
             "minorgridcolor": "white",
             "startlinecolor": "#2a3f5f"
            },
            "baxis": {
             "endlinecolor": "#2a3f5f",
             "gridcolor": "white",
             "linecolor": "white",
             "minorgridcolor": "white",
             "startlinecolor": "#2a3f5f"
            },
            "type": "carpet"
           }
          ],
          "choropleth": [
           {
            "colorbar": {
             "outlinewidth": 0,
             "ticks": ""
            },
            "type": "choropleth"
           }
          ],
          "contour": [
           {
            "colorbar": {
             "outlinewidth": 0,
             "ticks": ""
            },
            "colorscale": [
             [
              0,
              "#0d0887"
             ],
             [
              0.1111111111111111,
              "#46039f"
             ],
             [
              0.2222222222222222,
              "#7201a8"
             ],
             [
              0.3333333333333333,
              "#9c179e"
             ],
             [
              0.4444444444444444,
              "#bd3786"
             ],
             [
              0.5555555555555556,
              "#d8576b"
             ],
             [
              0.6666666666666666,
              "#ed7953"
             ],
             [
              0.7777777777777778,
              "#fb9f3a"
             ],
             [
              0.8888888888888888,
              "#fdca26"
             ],
             [
              1,
              "#f0f921"
             ]
            ],
            "type": "contour"
           }
          ],
          "contourcarpet": [
           {
            "colorbar": {
             "outlinewidth": 0,
             "ticks": ""
            },
            "type": "contourcarpet"
           }
          ],
          "heatmap": [
           {
            "colorbar": {
             "outlinewidth": 0,
             "ticks": ""
            },
            "colorscale": [
             [
              0,
              "#0d0887"
             ],
             [
              0.1111111111111111,
              "#46039f"
             ],
             [
              0.2222222222222222,
              "#7201a8"
             ],
             [
              0.3333333333333333,
              "#9c179e"
             ],
             [
              0.4444444444444444,
              "#bd3786"
             ],
             [
              0.5555555555555556,
              "#d8576b"
             ],
             [
              0.6666666666666666,
              "#ed7953"
             ],
             [
              0.7777777777777778,
              "#fb9f3a"
             ],
             [
              0.8888888888888888,
              "#fdca26"
             ],
             [
              1,
              "#f0f921"
             ]
            ],
            "type": "heatmap"
           }
          ],
          "heatmapgl": [
           {
            "colorbar": {
             "outlinewidth": 0,
             "ticks": ""
            },
            "colorscale": [
             [
              0,
              "#0d0887"
             ],
             [
              0.1111111111111111,
              "#46039f"
             ],
             [
              0.2222222222222222,
              "#7201a8"
             ],
             [
              0.3333333333333333,
              "#9c179e"
             ],
             [
              0.4444444444444444,
              "#bd3786"
             ],
             [
              0.5555555555555556,
              "#d8576b"
             ],
             [
              0.6666666666666666,
              "#ed7953"
             ],
             [
              0.7777777777777778,
              "#fb9f3a"
             ],
             [
              0.8888888888888888,
              "#fdca26"
             ],
             [
              1,
              "#f0f921"
             ]
            ],
            "type": "heatmapgl"
           }
          ],
          "histogram": [
           {
            "marker": {
             "pattern": {
              "fillmode": "overlay",
              "size": 10,
              "solidity": 0.2
             }
            },
            "type": "histogram"
           }
          ],
          "histogram2d": [
           {
            "colorbar": {
             "outlinewidth": 0,
             "ticks": ""
            },
            "colorscale": [
             [
              0,
              "#0d0887"
             ],
             [
              0.1111111111111111,
              "#46039f"
             ],
             [
              0.2222222222222222,
              "#7201a8"
             ],
             [
              0.3333333333333333,
              "#9c179e"
             ],
             [
              0.4444444444444444,
              "#bd3786"
             ],
             [
              0.5555555555555556,
              "#d8576b"
             ],
             [
              0.6666666666666666,
              "#ed7953"
             ],
             [
              0.7777777777777778,
              "#fb9f3a"
             ],
             [
              0.8888888888888888,
              "#fdca26"
             ],
             [
              1,
              "#f0f921"
             ]
            ],
            "type": "histogram2d"
           }
          ],
          "histogram2dcontour": [
           {
            "colorbar": {
             "outlinewidth": 0,
             "ticks": ""
            },
            "colorscale": [
             [
              0,
              "#0d0887"
             ],
             [
              0.1111111111111111,
              "#46039f"
             ],
             [
              0.2222222222222222,
              "#7201a8"
             ],
             [
              0.3333333333333333,
              "#9c179e"
             ],
             [
              0.4444444444444444,
              "#bd3786"
             ],
             [
              0.5555555555555556,
              "#d8576b"
             ],
             [
              0.6666666666666666,
              "#ed7953"
             ],
             [
              0.7777777777777778,
              "#fb9f3a"
             ],
             [
              0.8888888888888888,
              "#fdca26"
             ],
             [
              1,
              "#f0f921"
             ]
            ],
            "type": "histogram2dcontour"
           }
          ],
          "mesh3d": [
           {
            "colorbar": {
             "outlinewidth": 0,
             "ticks": ""
            },
            "type": "mesh3d"
           }
          ],
          "parcoords": [
           {
            "line": {
             "colorbar": {
              "outlinewidth": 0,
              "ticks": ""
             }
            },
            "type": "parcoords"
           }
          ],
          "pie": [
           {
            "automargin": true,
            "type": "pie"
           }
          ],
          "scatter": [
           {
            "fillpattern": {
             "fillmode": "overlay",
             "size": 10,
             "solidity": 0.2
            },
            "type": "scatter"
           }
          ],
          "scatter3d": [
           {
            "line": {
             "colorbar": {
              "outlinewidth": 0,
              "ticks": ""
             }
            },
            "marker": {
             "colorbar": {
              "outlinewidth": 0,
              "ticks": ""
             }
            },
            "type": "scatter3d"
           }
          ],
          "scattercarpet": [
           {
            "marker": {
             "colorbar": {
              "outlinewidth": 0,
              "ticks": ""
             }
            },
            "type": "scattercarpet"
           }
          ],
          "scattergeo": [
           {
            "marker": {
             "colorbar": {
              "outlinewidth": 0,
              "ticks": ""
             }
            },
            "type": "scattergeo"
           }
          ],
          "scattergl": [
           {
            "marker": {
             "colorbar": {
              "outlinewidth": 0,
              "ticks": ""
             }
            },
            "type": "scattergl"
           }
          ],
          "scattermapbox": [
           {
            "marker": {
             "colorbar": {
              "outlinewidth": 0,
              "ticks": ""
             }
            },
            "type": "scattermapbox"
           }
          ],
          "scatterpolar": [
           {
            "marker": {
             "colorbar": {
              "outlinewidth": 0,
              "ticks": ""
             }
            },
            "type": "scatterpolar"
           }
          ],
          "scatterpolargl": [
           {
            "marker": {
             "colorbar": {
              "outlinewidth": 0,
              "ticks": ""
             }
            },
            "type": "scatterpolargl"
           }
          ],
          "scatterternary": [
           {
            "marker": {
             "colorbar": {
              "outlinewidth": 0,
              "ticks": ""
             }
            },
            "type": "scatterternary"
           }
          ],
          "surface": [
           {
            "colorbar": {
             "outlinewidth": 0,
             "ticks": ""
            },
            "colorscale": [
             [
              0,
              "#0d0887"
             ],
             [
              0.1111111111111111,
              "#46039f"
             ],
             [
              0.2222222222222222,
              "#7201a8"
             ],
             [
              0.3333333333333333,
              "#9c179e"
             ],
             [
              0.4444444444444444,
              "#bd3786"
             ],
             [
              0.5555555555555556,
              "#d8576b"
             ],
             [
              0.6666666666666666,
              "#ed7953"
             ],
             [
              0.7777777777777778,
              "#fb9f3a"
             ],
             [
              0.8888888888888888,
              "#fdca26"
             ],
             [
              1,
              "#f0f921"
             ]
            ],
            "type": "surface"
           }
          ],
          "table": [
           {
            "cells": {
             "fill": {
              "color": "#EBF0F8"
             },
             "line": {
              "color": "white"
             }
            },
            "header": {
             "fill": {
              "color": "#C8D4E3"
             },
             "line": {
              "color": "white"
             }
            },
            "type": "table"
           }
          ]
         },
         "layout": {
          "annotationdefaults": {
           "arrowcolor": "#2a3f5f",
           "arrowhead": 0,
           "arrowwidth": 1
          },
          "autotypenumbers": "strict",
          "coloraxis": {
           "colorbar": {
            "outlinewidth": 0,
            "ticks": ""
           }
          },
          "colorscale": {
           "diverging": [
            [
             0,
             "#8e0152"
            ],
            [
             0.1,
             "#c51b7d"
            ],
            [
             0.2,
             "#de77ae"
            ],
            [
             0.3,
             "#f1b6da"
            ],
            [
             0.4,
             "#fde0ef"
            ],
            [
             0.5,
             "#f7f7f7"
            ],
            [
             0.6,
             "#e6f5d0"
            ],
            [
             0.7,
             "#b8e186"
            ],
            [
             0.8,
             "#7fbc41"
            ],
            [
             0.9,
             "#4d9221"
            ],
            [
             1,
             "#276419"
            ]
           ],
           "sequential": [
            [
             0,
             "#0d0887"
            ],
            [
             0.1111111111111111,
             "#46039f"
            ],
            [
             0.2222222222222222,
             "#7201a8"
            ],
            [
             0.3333333333333333,
             "#9c179e"
            ],
            [
             0.4444444444444444,
             "#bd3786"
            ],
            [
             0.5555555555555556,
             "#d8576b"
            ],
            [
             0.6666666666666666,
             "#ed7953"
            ],
            [
             0.7777777777777778,
             "#fb9f3a"
            ],
            [
             0.8888888888888888,
             "#fdca26"
            ],
            [
             1,
             "#f0f921"
            ]
           ],
           "sequentialminus": [
            [
             0,
             "#0d0887"
            ],
            [
             0.1111111111111111,
             "#46039f"
            ],
            [
             0.2222222222222222,
             "#7201a8"
            ],
            [
             0.3333333333333333,
             "#9c179e"
            ],
            [
             0.4444444444444444,
             "#bd3786"
            ],
            [
             0.5555555555555556,
             "#d8576b"
            ],
            [
             0.6666666666666666,
             "#ed7953"
            ],
            [
             0.7777777777777778,
             "#fb9f3a"
            ],
            [
             0.8888888888888888,
             "#fdca26"
            ],
            [
             1,
             "#f0f921"
            ]
           ]
          },
          "colorway": [
           "#636efa",
           "#EF553B",
           "#00cc96",
           "#ab63fa",
           "#FFA15A",
           "#19d3f3",
           "#FF6692",
           "#B6E880",
           "#FF97FF",
           "#FECB52"
          ],
          "font": {
           "color": "#2a3f5f"
          },
          "geo": {
           "bgcolor": "white",
           "lakecolor": "white",
           "landcolor": "#E5ECF6",
           "showlakes": true,
           "showland": true,
           "subunitcolor": "white"
          },
          "hoverlabel": {
           "align": "left"
          },
          "hovermode": "closest",
          "mapbox": {
           "style": "light"
          },
          "paper_bgcolor": "white",
          "plot_bgcolor": "#E5ECF6",
          "polar": {
           "angularaxis": {
            "gridcolor": "white",
            "linecolor": "white",
            "ticks": ""
           },
           "bgcolor": "#E5ECF6",
           "radialaxis": {
            "gridcolor": "white",
            "linecolor": "white",
            "ticks": ""
           }
          },
          "scene": {
           "xaxis": {
            "backgroundcolor": "#E5ECF6",
            "gridcolor": "white",
            "gridwidth": 2,
            "linecolor": "white",
            "showbackground": true,
            "ticks": "",
            "zerolinecolor": "white"
           },
           "yaxis": {
            "backgroundcolor": "#E5ECF6",
            "gridcolor": "white",
            "gridwidth": 2,
            "linecolor": "white",
            "showbackground": true,
            "ticks": "",
            "zerolinecolor": "white"
           },
           "zaxis": {
            "backgroundcolor": "#E5ECF6",
            "gridcolor": "white",
            "gridwidth": 2,
            "linecolor": "white",
            "showbackground": true,
            "ticks": "",
            "zerolinecolor": "white"
           }
          },
          "shapedefaults": {
           "line": {
            "color": "#2a3f5f"
           }
          },
          "ternary": {
           "aaxis": {
            "gridcolor": "white",
            "linecolor": "white",
            "ticks": ""
           },
           "baxis": {
            "gridcolor": "white",
            "linecolor": "white",
            "ticks": ""
           },
           "bgcolor": "#E5ECF6",
           "caxis": {
            "gridcolor": "white",
            "linecolor": "white",
            "ticks": ""
           }
          },
          "title": {
           "x": 0.05
          },
          "xaxis": {
           "automargin": true,
           "gridcolor": "white",
           "linecolor": "white",
           "ticks": "",
           "title": {
            "standoff": 15
           },
           "zerolinecolor": "white",
           "zerolinewidth": 2
          },
          "yaxis": {
           "automargin": true,
           "gridcolor": "white",
           "linecolor": "white",
           "ticks": "",
           "title": {
            "standoff": 15
           },
           "zerolinecolor": "white",
           "zerolinewidth": 2
          }
         }
        },
        "title": {
         "text": "Customized Plot"
        },
        "xaxis": {
         "anchor": "y",
         "domain": [
          0,
          1
         ],
         "gridcolor": "LightGray",
         "gridwidth": 1,
         "showgrid": true,
         "title": {
          "text": " "
         }
        },
        "yaxis": {
         "anchor": "x",
         "domain": [
          0,
          1
         ],
         "gridcolor": "LightGray",
         "gridwidth": 1,
         "showgrid": true,
         "title": {
          "text": "Factor value"
         }
        }
       }
      }
     },
     "metadata": {},
     "output_type": "display_data"
    }
   ],
   "source": [
    "grafico('AG4datos_sel')"
   ]
  },
  {
   "cell_type": "code",
   "execution_count": 190,
   "metadata": {},
   "outputs": [
    {
     "data": {
      "application/vnd.plotly.v1+json": {
       "config": {
        "plotlyServerURL": "https://plot.ly"
       },
       "data": [
        {
         "hovertemplate": "AG4datos_sel_sinT=0<br> =%{x}<br>Factor value=%{y}<extra></extra>",
         "legendgroup": "0",
         "marker": {
          "color": "red",
          "size": 12,
          "symbol": "circle"
         },
         "mode": "markers",
         "name": "0",
         "orientation": "v",
         "showlegend": true,
         "type": "scatter",
         "x": [
          "F1",
          "F2",
          "F3",
          "F4",
          "F5"
         ],
         "xaxis": "x",
         "y": [
          0.06579010508536344,
          -0.20522210928754597,
          -1.11336675305379,
          -0.3329589376087548,
          0.1735452798113359
         ],
         "yaxis": "y"
        },
        {
         "hovertemplate": "AG4datos_sel_sinT=1<br> =%{x}<br>Factor value=%{y}<extra></extra>",
         "legendgroup": "1",
         "marker": {
          "color": "green",
          "size": 12,
          "symbol": "circle"
         },
         "mode": "markers",
         "name": "1",
         "orientation": "v",
         "showlegend": true,
         "type": "scatter",
         "x": [
          "F1",
          "F2",
          "F3",
          "F4",
          "F5"
         ],
         "xaxis": "x",
         "y": [
          -0.12831661719491003,
          -0.05798667184958729,
          1.156479525058931,
          0.43548030171317054,
          -0.11170672344397621
         ],
         "yaxis": "y"
        },
        {
         "hovertemplate": "AG4datos_sel_sinT=2<br> =%{x}<br>Factor value=%{y}<extra></extra>",
         "legendgroup": "2",
         "marker": {
          "color": "blue",
          "size": 12,
          "symbol": "circle"
         },
         "mode": "markers",
         "name": "2",
         "orientation": "v",
         "showlegend": true,
         "type": "scatter",
         "x": [
          "F1",
          "F2",
          "F3",
          "F4",
          "F5"
         ],
         "xaxis": "x",
         "y": [
          0.5222474131124789,
          3.1286593757395305,
          1.7682942821541554,
          0.3780223395404969,
          -0.34255718749871017
         ],
         "yaxis": "y"
        },
        {
         "hovertemplate": "AG4datos_sel_sinT=3<br> =%{x}<br>Factor value=%{y}<extra></extra>",
         "legendgroup": "3",
         "marker": {
          "color": "black",
          "size": 12,
          "symbol": "circle"
         },
         "mode": "markers",
         "name": "3",
         "orientation": "v",
         "showlegend": true,
         "type": "scatter",
         "x": [
          "F1",
          "F2",
          "F3",
          "F4",
          "F5"
         ],
         "xaxis": "x",
         "y": [
          -0.5623826024277117,
          -3.8108083704050966,
          -1.1798610469369715,
          -0.22407864853721415,
          0.43329110681371413
         ],
         "yaxis": "y"
        },
        {
         "hovertemplate": "AG4datos_sel_sinT=0<br>variable=%{x}<br>value=%{y}<extra></extra>",
         "legendgroup": "0",
         "line": {
          "color": "red",
          "dash": "solid",
          "shape": "linear"
         },
         "marker": {
          "symbol": "circle"
         },
         "mode": "lines",
         "name": "0",
         "orientation": "v",
         "showlegend": true,
         "type": "scatter",
         "x": [
          "F1",
          "F2",
          "F3",
          "F4",
          "F5"
         ],
         "xaxis": "x",
         "y": [
          0.06579010508536344,
          -0.20522210928754597,
          -1.11336675305379,
          -0.3329589376087548,
          0.1735452798113359
         ],
         "yaxis": "y"
        },
        {
         "hovertemplate": "AG4datos_sel_sinT=1<br>variable=%{x}<br>value=%{y}<extra></extra>",
         "legendgroup": "1",
         "line": {
          "color": "green",
          "dash": "solid",
          "shape": "linear"
         },
         "marker": {
          "symbol": "circle"
         },
         "mode": "lines",
         "name": "1",
         "orientation": "v",
         "showlegend": true,
         "type": "scatter",
         "x": [
          "F1",
          "F2",
          "F3",
          "F4",
          "F5"
         ],
         "xaxis": "x",
         "y": [
          -0.12831661719491003,
          -0.05798667184958729,
          1.156479525058931,
          0.43548030171317054,
          -0.11170672344397621
         ],
         "yaxis": "y"
        },
        {
         "hovertemplate": "AG4datos_sel_sinT=2<br>variable=%{x}<br>value=%{y}<extra></extra>",
         "legendgroup": "2",
         "line": {
          "color": "blue",
          "dash": "solid",
          "shape": "linear"
         },
         "marker": {
          "symbol": "circle"
         },
         "mode": "lines",
         "name": "2",
         "orientation": "v",
         "showlegend": true,
         "type": "scatter",
         "x": [
          "F1",
          "F2",
          "F3",
          "F4",
          "F5"
         ],
         "xaxis": "x",
         "y": [
          0.5222474131124789,
          3.1286593757395305,
          1.7682942821541554,
          0.3780223395404969,
          -0.34255718749871017
         ],
         "yaxis": "y"
        },
        {
         "hovertemplate": "AG4datos_sel_sinT=3<br>variable=%{x}<br>value=%{y}<extra></extra>",
         "legendgroup": "3",
         "line": {
          "color": "black",
          "dash": "solid",
          "shape": "linear"
         },
         "marker": {
          "symbol": "circle"
         },
         "mode": "lines",
         "name": "3",
         "orientation": "v",
         "showlegend": true,
         "type": "scatter",
         "x": [
          "F1",
          "F2",
          "F3",
          "F4",
          "F5"
         ],
         "xaxis": "x",
         "y": [
          -0.5623826024277117,
          -3.8108083704050966,
          -1.1798610469369715,
          -0.22407864853721415,
          0.43329110681371413
         ],
         "yaxis": "y"
        }
       ],
       "layout": {
        "legend": {
         "orientation": "v",
         "title": {
          "text": "AG4datos_sel_sinT"
         },
         "tracegroupgap": 0,
         "traceorder": "normal",
         "x": 1,
         "y": 1
        },
        "plot_bgcolor": "white",
        "template": {
         "data": {
          "bar": [
           {
            "error_x": {
             "color": "#2a3f5f"
            },
            "error_y": {
             "color": "#2a3f5f"
            },
            "marker": {
             "line": {
              "color": "#E5ECF6",
              "width": 0.5
             },
             "pattern": {
              "fillmode": "overlay",
              "size": 10,
              "solidity": 0.2
             }
            },
            "type": "bar"
           }
          ],
          "barpolar": [
           {
            "marker": {
             "line": {
              "color": "#E5ECF6",
              "width": 0.5
             },
             "pattern": {
              "fillmode": "overlay",
              "size": 10,
              "solidity": 0.2
             }
            },
            "type": "barpolar"
           }
          ],
          "carpet": [
           {
            "aaxis": {
             "endlinecolor": "#2a3f5f",
             "gridcolor": "white",
             "linecolor": "white",
             "minorgridcolor": "white",
             "startlinecolor": "#2a3f5f"
            },
            "baxis": {
             "endlinecolor": "#2a3f5f",
             "gridcolor": "white",
             "linecolor": "white",
             "minorgridcolor": "white",
             "startlinecolor": "#2a3f5f"
            },
            "type": "carpet"
           }
          ],
          "choropleth": [
           {
            "colorbar": {
             "outlinewidth": 0,
             "ticks": ""
            },
            "type": "choropleth"
           }
          ],
          "contour": [
           {
            "colorbar": {
             "outlinewidth": 0,
             "ticks": ""
            },
            "colorscale": [
             [
              0,
              "#0d0887"
             ],
             [
              0.1111111111111111,
              "#46039f"
             ],
             [
              0.2222222222222222,
              "#7201a8"
             ],
             [
              0.3333333333333333,
              "#9c179e"
             ],
             [
              0.4444444444444444,
              "#bd3786"
             ],
             [
              0.5555555555555556,
              "#d8576b"
             ],
             [
              0.6666666666666666,
              "#ed7953"
             ],
             [
              0.7777777777777778,
              "#fb9f3a"
             ],
             [
              0.8888888888888888,
              "#fdca26"
             ],
             [
              1,
              "#f0f921"
             ]
            ],
            "type": "contour"
           }
          ],
          "contourcarpet": [
           {
            "colorbar": {
             "outlinewidth": 0,
             "ticks": ""
            },
            "type": "contourcarpet"
           }
          ],
          "heatmap": [
           {
            "colorbar": {
             "outlinewidth": 0,
             "ticks": ""
            },
            "colorscale": [
             [
              0,
              "#0d0887"
             ],
             [
              0.1111111111111111,
              "#46039f"
             ],
             [
              0.2222222222222222,
              "#7201a8"
             ],
             [
              0.3333333333333333,
              "#9c179e"
             ],
             [
              0.4444444444444444,
              "#bd3786"
             ],
             [
              0.5555555555555556,
              "#d8576b"
             ],
             [
              0.6666666666666666,
              "#ed7953"
             ],
             [
              0.7777777777777778,
              "#fb9f3a"
             ],
             [
              0.8888888888888888,
              "#fdca26"
             ],
             [
              1,
              "#f0f921"
             ]
            ],
            "type": "heatmap"
           }
          ],
          "heatmapgl": [
           {
            "colorbar": {
             "outlinewidth": 0,
             "ticks": ""
            },
            "colorscale": [
             [
              0,
              "#0d0887"
             ],
             [
              0.1111111111111111,
              "#46039f"
             ],
             [
              0.2222222222222222,
              "#7201a8"
             ],
             [
              0.3333333333333333,
              "#9c179e"
             ],
             [
              0.4444444444444444,
              "#bd3786"
             ],
             [
              0.5555555555555556,
              "#d8576b"
             ],
             [
              0.6666666666666666,
              "#ed7953"
             ],
             [
              0.7777777777777778,
              "#fb9f3a"
             ],
             [
              0.8888888888888888,
              "#fdca26"
             ],
             [
              1,
              "#f0f921"
             ]
            ],
            "type": "heatmapgl"
           }
          ],
          "histogram": [
           {
            "marker": {
             "pattern": {
              "fillmode": "overlay",
              "size": 10,
              "solidity": 0.2
             }
            },
            "type": "histogram"
           }
          ],
          "histogram2d": [
           {
            "colorbar": {
             "outlinewidth": 0,
             "ticks": ""
            },
            "colorscale": [
             [
              0,
              "#0d0887"
             ],
             [
              0.1111111111111111,
              "#46039f"
             ],
             [
              0.2222222222222222,
              "#7201a8"
             ],
             [
              0.3333333333333333,
              "#9c179e"
             ],
             [
              0.4444444444444444,
              "#bd3786"
             ],
             [
              0.5555555555555556,
              "#d8576b"
             ],
             [
              0.6666666666666666,
              "#ed7953"
             ],
             [
              0.7777777777777778,
              "#fb9f3a"
             ],
             [
              0.8888888888888888,
              "#fdca26"
             ],
             [
              1,
              "#f0f921"
             ]
            ],
            "type": "histogram2d"
           }
          ],
          "histogram2dcontour": [
           {
            "colorbar": {
             "outlinewidth": 0,
             "ticks": ""
            },
            "colorscale": [
             [
              0,
              "#0d0887"
             ],
             [
              0.1111111111111111,
              "#46039f"
             ],
             [
              0.2222222222222222,
              "#7201a8"
             ],
             [
              0.3333333333333333,
              "#9c179e"
             ],
             [
              0.4444444444444444,
              "#bd3786"
             ],
             [
              0.5555555555555556,
              "#d8576b"
             ],
             [
              0.6666666666666666,
              "#ed7953"
             ],
             [
              0.7777777777777778,
              "#fb9f3a"
             ],
             [
              0.8888888888888888,
              "#fdca26"
             ],
             [
              1,
              "#f0f921"
             ]
            ],
            "type": "histogram2dcontour"
           }
          ],
          "mesh3d": [
           {
            "colorbar": {
             "outlinewidth": 0,
             "ticks": ""
            },
            "type": "mesh3d"
           }
          ],
          "parcoords": [
           {
            "line": {
             "colorbar": {
              "outlinewidth": 0,
              "ticks": ""
             }
            },
            "type": "parcoords"
           }
          ],
          "pie": [
           {
            "automargin": true,
            "type": "pie"
           }
          ],
          "scatter": [
           {
            "fillpattern": {
             "fillmode": "overlay",
             "size": 10,
             "solidity": 0.2
            },
            "type": "scatter"
           }
          ],
          "scatter3d": [
           {
            "line": {
             "colorbar": {
              "outlinewidth": 0,
              "ticks": ""
             }
            },
            "marker": {
             "colorbar": {
              "outlinewidth": 0,
              "ticks": ""
             }
            },
            "type": "scatter3d"
           }
          ],
          "scattercarpet": [
           {
            "marker": {
             "colorbar": {
              "outlinewidth": 0,
              "ticks": ""
             }
            },
            "type": "scattercarpet"
           }
          ],
          "scattergeo": [
           {
            "marker": {
             "colorbar": {
              "outlinewidth": 0,
              "ticks": ""
             }
            },
            "type": "scattergeo"
           }
          ],
          "scattergl": [
           {
            "marker": {
             "colorbar": {
              "outlinewidth": 0,
              "ticks": ""
             }
            },
            "type": "scattergl"
           }
          ],
          "scattermapbox": [
           {
            "marker": {
             "colorbar": {
              "outlinewidth": 0,
              "ticks": ""
             }
            },
            "type": "scattermapbox"
           }
          ],
          "scatterpolar": [
           {
            "marker": {
             "colorbar": {
              "outlinewidth": 0,
              "ticks": ""
             }
            },
            "type": "scatterpolar"
           }
          ],
          "scatterpolargl": [
           {
            "marker": {
             "colorbar": {
              "outlinewidth": 0,
              "ticks": ""
             }
            },
            "type": "scatterpolargl"
           }
          ],
          "scatterternary": [
           {
            "marker": {
             "colorbar": {
              "outlinewidth": 0,
              "ticks": ""
             }
            },
            "type": "scatterternary"
           }
          ],
          "surface": [
           {
            "colorbar": {
             "outlinewidth": 0,
             "ticks": ""
            },
            "colorscale": [
             [
              0,
              "#0d0887"
             ],
             [
              0.1111111111111111,
              "#46039f"
             ],
             [
              0.2222222222222222,
              "#7201a8"
             ],
             [
              0.3333333333333333,
              "#9c179e"
             ],
             [
              0.4444444444444444,
              "#bd3786"
             ],
             [
              0.5555555555555556,
              "#d8576b"
             ],
             [
              0.6666666666666666,
              "#ed7953"
             ],
             [
              0.7777777777777778,
              "#fb9f3a"
             ],
             [
              0.8888888888888888,
              "#fdca26"
             ],
             [
              1,
              "#f0f921"
             ]
            ],
            "type": "surface"
           }
          ],
          "table": [
           {
            "cells": {
             "fill": {
              "color": "#EBF0F8"
             },
             "line": {
              "color": "white"
             }
            },
            "header": {
             "fill": {
              "color": "#C8D4E3"
             },
             "line": {
              "color": "white"
             }
            },
            "type": "table"
           }
          ]
         },
         "layout": {
          "annotationdefaults": {
           "arrowcolor": "#2a3f5f",
           "arrowhead": 0,
           "arrowwidth": 1
          },
          "autotypenumbers": "strict",
          "coloraxis": {
           "colorbar": {
            "outlinewidth": 0,
            "ticks": ""
           }
          },
          "colorscale": {
           "diverging": [
            [
             0,
             "#8e0152"
            ],
            [
             0.1,
             "#c51b7d"
            ],
            [
             0.2,
             "#de77ae"
            ],
            [
             0.3,
             "#f1b6da"
            ],
            [
             0.4,
             "#fde0ef"
            ],
            [
             0.5,
             "#f7f7f7"
            ],
            [
             0.6,
             "#e6f5d0"
            ],
            [
             0.7,
             "#b8e186"
            ],
            [
             0.8,
             "#7fbc41"
            ],
            [
             0.9,
             "#4d9221"
            ],
            [
             1,
             "#276419"
            ]
           ],
           "sequential": [
            [
             0,
             "#0d0887"
            ],
            [
             0.1111111111111111,
             "#46039f"
            ],
            [
             0.2222222222222222,
             "#7201a8"
            ],
            [
             0.3333333333333333,
             "#9c179e"
            ],
            [
             0.4444444444444444,
             "#bd3786"
            ],
            [
             0.5555555555555556,
             "#d8576b"
            ],
            [
             0.6666666666666666,
             "#ed7953"
            ],
            [
             0.7777777777777778,
             "#fb9f3a"
            ],
            [
             0.8888888888888888,
             "#fdca26"
            ],
            [
             1,
             "#f0f921"
            ]
           ],
           "sequentialminus": [
            [
             0,
             "#0d0887"
            ],
            [
             0.1111111111111111,
             "#46039f"
            ],
            [
             0.2222222222222222,
             "#7201a8"
            ],
            [
             0.3333333333333333,
             "#9c179e"
            ],
            [
             0.4444444444444444,
             "#bd3786"
            ],
            [
             0.5555555555555556,
             "#d8576b"
            ],
            [
             0.6666666666666666,
             "#ed7953"
            ],
            [
             0.7777777777777778,
             "#fb9f3a"
            ],
            [
             0.8888888888888888,
             "#fdca26"
            ],
            [
             1,
             "#f0f921"
            ]
           ]
          },
          "colorway": [
           "#636efa",
           "#EF553B",
           "#00cc96",
           "#ab63fa",
           "#FFA15A",
           "#19d3f3",
           "#FF6692",
           "#B6E880",
           "#FF97FF",
           "#FECB52"
          ],
          "font": {
           "color": "#2a3f5f"
          },
          "geo": {
           "bgcolor": "white",
           "lakecolor": "white",
           "landcolor": "#E5ECF6",
           "showlakes": true,
           "showland": true,
           "subunitcolor": "white"
          },
          "hoverlabel": {
           "align": "left"
          },
          "hovermode": "closest",
          "mapbox": {
           "style": "light"
          },
          "paper_bgcolor": "white",
          "plot_bgcolor": "#E5ECF6",
          "polar": {
           "angularaxis": {
            "gridcolor": "white",
            "linecolor": "white",
            "ticks": ""
           },
           "bgcolor": "#E5ECF6",
           "radialaxis": {
            "gridcolor": "white",
            "linecolor": "white",
            "ticks": ""
           }
          },
          "scene": {
           "xaxis": {
            "backgroundcolor": "#E5ECF6",
            "gridcolor": "white",
            "gridwidth": 2,
            "linecolor": "white",
            "showbackground": true,
            "ticks": "",
            "zerolinecolor": "white"
           },
           "yaxis": {
            "backgroundcolor": "#E5ECF6",
            "gridcolor": "white",
            "gridwidth": 2,
            "linecolor": "white",
            "showbackground": true,
            "ticks": "",
            "zerolinecolor": "white"
           },
           "zaxis": {
            "backgroundcolor": "#E5ECF6",
            "gridcolor": "white",
            "gridwidth": 2,
            "linecolor": "white",
            "showbackground": true,
            "ticks": "",
            "zerolinecolor": "white"
           }
          },
          "shapedefaults": {
           "line": {
            "color": "#2a3f5f"
           }
          },
          "ternary": {
           "aaxis": {
            "gridcolor": "white",
            "linecolor": "white",
            "ticks": ""
           },
           "baxis": {
            "gridcolor": "white",
            "linecolor": "white",
            "ticks": ""
           },
           "bgcolor": "#E5ECF6",
           "caxis": {
            "gridcolor": "white",
            "linecolor": "white",
            "ticks": ""
           }
          },
          "title": {
           "x": 0.05
          },
          "xaxis": {
           "automargin": true,
           "gridcolor": "white",
           "linecolor": "white",
           "ticks": "",
           "title": {
            "standoff": 15
           },
           "zerolinecolor": "white",
           "zerolinewidth": 2
          },
          "yaxis": {
           "automargin": true,
           "gridcolor": "white",
           "linecolor": "white",
           "ticks": "",
           "title": {
            "standoff": 15
           },
           "zerolinecolor": "white",
           "zerolinewidth": 2
          }
         }
        },
        "title": {
         "text": "Customized Plot"
        },
        "xaxis": {
         "anchor": "y",
         "domain": [
          0,
          1
         ],
         "gridcolor": "LightGray",
         "gridwidth": 1,
         "showgrid": true,
         "title": {
          "text": " "
         }
        },
        "yaxis": {
         "anchor": "x",
         "domain": [
          0,
          1
         ],
         "gridcolor": "LightGray",
         "gridwidth": 1,
         "showgrid": true,
         "title": {
          "text": "Factor value"
         }
        }
       }
      }
     },
     "metadata": {},
     "output_type": "display_data"
    }
   ],
   "source": [
    "grafico1('AG4datos_sel_sinT')"
   ]
  },
  {
   "cell_type": "code",
   "execution_count": 98,
   "metadata": {},
   "outputs": [],
   "source": [
    "import plotly.express as px"
   ]
  },
  {
   "cell_type": "code",
   "execution_count": 99,
   "metadata": {},
   "outputs": [
    {
     "data": {
      "application/vnd.plotly.v1+json": {
       "config": {
        "plotlyServerURL": "https://plot.ly"
       },
       "data": [
        {
         "customdata": [
          [
           "Albacete",
           3
          ],
          [
           "Alcalá de Henares",
           0
          ],
          [
           "Alcobendas",
           0
          ],
          [
           "Alcorcón",
           0
          ],
          [
           "Algeciras",
           3
          ],
          [
           "Alicante/Alacant",
           1
          ],
          [
           "Almería",
           3
          ],
          [
           "Ávila",
           0
          ],
          [
           "Badajoz",
           3
          ],
          [
           "Badalona",
           3
          ],
          [
           "Barcelona",
           1
          ],
          [
           "Burgos",
           0
          ],
          [
           "Cáceres",
           2
          ],
          [
           "Cádiz",
           0
          ],
          [
           "Cartagena",
           3
          ],
          [
           "Castelló de la Plana",
           0
          ],
          [
           "Ceuta",
           0
          ],
          [
           "Ciudad Real",
           0
          ],
          [
           "Córdoba",
           1
          ],
          [
           "Coruña, A",
           3
          ],
          [
           "Cuenca",
           0
          ],
          [
           "Dos Hermanas",
           3
          ],
          [
           "Elche/Elx",
           3
          ],
          [
           "Fuenlabrada",
           0
          ],
          [
           "Getafe",
           0
          ],
          [
           "Gijón",
           3
          ],
          [
           "Girona",
           0
          ],
          [
           "Granada",
           3
          ],
          [
           "Guadalajara",
           0
          ],
          [
           "Hospitalet de Llobregat, L'",
           0
          ],
          [
           "Huelva",
           2
          ],
          [
           "Huesca",
           0
          ],
          [
           "Jaén",
           0
          ],
          [
           "Jerez de la Frontera",
           3
          ],
          [
           "Palmas de Gran Canaria, Las",
           1
          ],
          [
           "Leganés",
           2
          ],
          [
           "León",
           0
          ],
          [
           "Lleida",
           0
          ],
          [
           "Logroño",
           0
          ],
          [
           "Lugo",
           0
          ],
          [
           "Málaga",
           1
          ],
          [
           "Marbella",
           3
          ],
          [
           "Mataró",
           0
          ],
          [
           "Melilla",
           0
          ],
          [
           "Móstoles",
           0
          ],
          [
           "Murcia",
           3
          ],
          [
           "Ourense",
           1
          ],
          [
           "Oviedo",
           3
          ],
          [
           "Palencia",
           0
          ],
          [
           "Palma de Mallorca",
           3
          ],
          [
           "Parla",
           2
          ],
          [
           "Pontevedra",
           0
          ],
          [
           "Sabadell",
           1
          ],
          [
           "Salamanca",
           0
          ],
          [
           "San Cristóbal de La Laguna",
           1
          ],
          [
           "Santa Coloma de Gramenet",
           0
          ],
          [
           "Santa Cruz de Tenerife",
           1
          ],
          [
           "Santander",
           3
          ],
          [
           "Segovia",
           0
          ],
          [
           "Sevilla",
           3
          ],
          [
           "Soria",
           0
          ],
          [
           "Tarragona",
           0
          ],
          [
           "Terrassa",
           1
          ],
          [
           "Teruel",
           0
          ],
          [
           "Toledo",
           2
          ],
          [
           "Torrejón de Ardoz",
           2
          ],
          [
           "Valencia",
           1
          ],
          [
           "Valladolid",
           3
          ],
          [
           "Vigo",
           3
          ],
          [
           "Zamora",
           2
          ],
          [
           "Zaragoza",
           1
          ]
         ],
         "hovertemplate": "F1=%{x}<br>F5=%{y}<br>Ciudades=%{customdata[0]}<br>AG4datos_sel=%{marker.color}<extra></extra>",
         "legendgroup": "",
         "marker": {
          "color": [
           3,
           0,
           0,
           0,
           3,
           1,
           3,
           0,
           3,
           3,
           1,
           0,
           2,
           0,
           3,
           0,
           0,
           0,
           1,
           3,
           0,
           3,
           3,
           0,
           0,
           3,
           0,
           3,
           0,
           0,
           2,
           0,
           0,
           3,
           1,
           2,
           0,
           0,
           0,
           0,
           1,
           3,
           0,
           0,
           0,
           3,
           1,
           3,
           0,
           3,
           2,
           0,
           1,
           0,
           1,
           0,
           1,
           3,
           0,
           3,
           0,
           0,
           1,
           0,
           2,
           2,
           1,
           3,
           3,
           2,
           1
          ],
          "coloraxis": "coloraxis",
          "symbol": "circle"
         },
         "mode": "markers",
         "name": "",
         "orientation": "v",
         "showlegend": false,
         "type": "scatter",
         "x": [
          -0.2492412428239193,
          -0.9317824929271677,
          -0.4861639438493558,
          0.25700960467411277,
          -1.3037388608008604,
          0.4525416547903825,
          0.14730291045971028,
          -1.7923131992956927,
          -1.1918275549828445,
          1.0916863356442228,
          1.7238961737685188,
          -0.7377560806096007,
          -0.8205456011471988,
          1.5740917949431497,
          -0.7055045831133102,
          0.05891596420571263,
          -0.6265243691421833,
          0.3968384140827174,
          -0.7517135190734952,
          0.2555259062620973,
          -0.0341071117327032,
          -1.9358513456146902,
          -0.3893701229464849,
          -0.2838709180117204,
          -0.8822387129992366,
          -0.13481474242704278,
          0.32579967491620054,
          0.23697134076846,
          -0.32691701305605425,
          0.8563288700603943,
          -0.17965017885568466,
          0.3289240574627619,
          -0.22425003317223874,
          -1.184848871681003,
          0.7491099616887257,
          -0.47876037293523144,
          0.21340103566577256,
          0.044502752489523345,
          0.957195085506987,
          1.3056486099916564,
          -0.36105532414769353,
          0.27380575253479533,
          0.737737727834743,
          -0.8034622000443625,
          0.022765782490072203,
          0.36356027158423165,
          0.05803946875794125,
          1.236310909790424,
          -0.31872981109782406,
          0.5756759907204523,
          -0.14785109172815497,
          0.34152454814340555,
          1.0428824129981944,
          0.34870289198408055,
          0.049166531151813686,
          2.1955056013543905,
          0.7585434316792834,
          0.9400839614178317,
          0.3230322197294584,
          0.5273142802175894,
          0.2942743868217275,
          -0.35919325992736506,
          0.7900054016723936,
          -0.6696065137597309,
          -1.5724228008128867,
          -2.303307744421952,
          1.6406231149648347,
          -0.2858685260704809,
          -0.3914340632821752,
          -0.17506556908711368,
          0.11492964909884767
         ],
         "xaxis": "x",
         "y": [
          -0.0003148462179233549,
          -0.18053962672011506,
          -0.18053962672011506,
          0.05537875354117278,
          -1.4000943301780682,
          -0.24742328963320256,
          0.08833716772601916,
          0.6293378327971002,
          -1.6237438102763384,
          0.6000546657228109,
          -0.5107215461401511,
          -1.1468198983642983,
          0.4452687205846583,
          -0.702055341768385,
          -0.38646478398483075,
          1.128807139912871,
          1.3063845424683225,
          0.025682828726891205,
          -1.2648819915068297,
          0.8467986581595774,
          0.991128101766612,
          -0.6974308798790503,
          -0.9244541382069233,
          -0.9887253092349363,
          -0.33332345839014366,
          -0.37540473089961496,
          0.344094833970626,
          0.5844912305949851,
          0.4956316710651021,
          -0.7940228370691869,
          0.5395500906701998,
          -0.5562489757694252,
          1.0295921125531022,
          0.20860963813633723,
          0.360681748784333,
          0.6117430864452309,
          0.3088100318366207,
          0.2000997333039894,
          -0.32092059216200075,
          0.6483252099176017,
          0.5098086146019011,
          -1.1689511493137636,
          1.0136100494493852,
          0.9965352342857213,
          0.9148370504425228,
          -0.023366738913421156,
          -1.412091880175157,
          -0.33278637777915976,
          -0.09200665184751593,
          0.42888164136809526,
          0.5101892939816481,
          -0.36617246206779,
          0.44217722628018274,
          0.023873522179685375,
          -0.9530098820607392,
          -0.7574268593571913,
          -0.08525702562307037,
          0.5377335648804773,
          1.3601586063320183,
          1.3795483892347644,
          -0.18588630942960163,
          1.1698211702265064,
          0.04407003715960552,
          -0.4839715219123966,
          0.03696637816179391,
          -1.6966681525370166,
          -0.7391693971404207,
          0.17522605618317919,
          -0.9495996178324285,
          0.4560290710387538,
          -0.25486886453097396
         ],
         "yaxis": "y"
        }
       ],
       "layout": {
        "coloraxis": {
         "colorbar": {
          "title": {
           "text": "AG4datos_sel"
          }
         },
         "colorscale": [
          [
           0,
           "#0d0887"
          ],
          [
           0.1111111111111111,
           "#46039f"
          ],
          [
           0.2222222222222222,
           "#7201a8"
          ],
          [
           0.3333333333333333,
           "#9c179e"
          ],
          [
           0.4444444444444444,
           "#bd3786"
          ],
          [
           0.5555555555555556,
           "#d8576b"
          ],
          [
           0.6666666666666666,
           "#ed7953"
          ],
          [
           0.7777777777777778,
           "#fb9f3a"
          ],
          [
           0.8888888888888888,
           "#fdca26"
          ],
          [
           1,
           "#f0f921"
          ]
         ]
        },
        "legend": {
         "tracegroupgap": 0
        },
        "margin": {
         "t": 60
        },
        "template": {
         "data": {
          "bar": [
           {
            "error_x": {
             "color": "#2a3f5f"
            },
            "error_y": {
             "color": "#2a3f5f"
            },
            "marker": {
             "line": {
              "color": "#E5ECF6",
              "width": 0.5
             },
             "pattern": {
              "fillmode": "overlay",
              "size": 10,
              "solidity": 0.2
             }
            },
            "type": "bar"
           }
          ],
          "barpolar": [
           {
            "marker": {
             "line": {
              "color": "#E5ECF6",
              "width": 0.5
             },
             "pattern": {
              "fillmode": "overlay",
              "size": 10,
              "solidity": 0.2
             }
            },
            "type": "barpolar"
           }
          ],
          "carpet": [
           {
            "aaxis": {
             "endlinecolor": "#2a3f5f",
             "gridcolor": "white",
             "linecolor": "white",
             "minorgridcolor": "white",
             "startlinecolor": "#2a3f5f"
            },
            "baxis": {
             "endlinecolor": "#2a3f5f",
             "gridcolor": "white",
             "linecolor": "white",
             "minorgridcolor": "white",
             "startlinecolor": "#2a3f5f"
            },
            "type": "carpet"
           }
          ],
          "choropleth": [
           {
            "colorbar": {
             "outlinewidth": 0,
             "ticks": ""
            },
            "type": "choropleth"
           }
          ],
          "contour": [
           {
            "colorbar": {
             "outlinewidth": 0,
             "ticks": ""
            },
            "colorscale": [
             [
              0,
              "#0d0887"
             ],
             [
              0.1111111111111111,
              "#46039f"
             ],
             [
              0.2222222222222222,
              "#7201a8"
             ],
             [
              0.3333333333333333,
              "#9c179e"
             ],
             [
              0.4444444444444444,
              "#bd3786"
             ],
             [
              0.5555555555555556,
              "#d8576b"
             ],
             [
              0.6666666666666666,
              "#ed7953"
             ],
             [
              0.7777777777777778,
              "#fb9f3a"
             ],
             [
              0.8888888888888888,
              "#fdca26"
             ],
             [
              1,
              "#f0f921"
             ]
            ],
            "type": "contour"
           }
          ],
          "contourcarpet": [
           {
            "colorbar": {
             "outlinewidth": 0,
             "ticks": ""
            },
            "type": "contourcarpet"
           }
          ],
          "heatmap": [
           {
            "colorbar": {
             "outlinewidth": 0,
             "ticks": ""
            },
            "colorscale": [
             [
              0,
              "#0d0887"
             ],
             [
              0.1111111111111111,
              "#46039f"
             ],
             [
              0.2222222222222222,
              "#7201a8"
             ],
             [
              0.3333333333333333,
              "#9c179e"
             ],
             [
              0.4444444444444444,
              "#bd3786"
             ],
             [
              0.5555555555555556,
              "#d8576b"
             ],
             [
              0.6666666666666666,
              "#ed7953"
             ],
             [
              0.7777777777777778,
              "#fb9f3a"
             ],
             [
              0.8888888888888888,
              "#fdca26"
             ],
             [
              1,
              "#f0f921"
             ]
            ],
            "type": "heatmap"
           }
          ],
          "heatmapgl": [
           {
            "colorbar": {
             "outlinewidth": 0,
             "ticks": ""
            },
            "colorscale": [
             [
              0,
              "#0d0887"
             ],
             [
              0.1111111111111111,
              "#46039f"
             ],
             [
              0.2222222222222222,
              "#7201a8"
             ],
             [
              0.3333333333333333,
              "#9c179e"
             ],
             [
              0.4444444444444444,
              "#bd3786"
             ],
             [
              0.5555555555555556,
              "#d8576b"
             ],
             [
              0.6666666666666666,
              "#ed7953"
             ],
             [
              0.7777777777777778,
              "#fb9f3a"
             ],
             [
              0.8888888888888888,
              "#fdca26"
             ],
             [
              1,
              "#f0f921"
             ]
            ],
            "type": "heatmapgl"
           }
          ],
          "histogram": [
           {
            "marker": {
             "pattern": {
              "fillmode": "overlay",
              "size": 10,
              "solidity": 0.2
             }
            },
            "type": "histogram"
           }
          ],
          "histogram2d": [
           {
            "colorbar": {
             "outlinewidth": 0,
             "ticks": ""
            },
            "colorscale": [
             [
              0,
              "#0d0887"
             ],
             [
              0.1111111111111111,
              "#46039f"
             ],
             [
              0.2222222222222222,
              "#7201a8"
             ],
             [
              0.3333333333333333,
              "#9c179e"
             ],
             [
              0.4444444444444444,
              "#bd3786"
             ],
             [
              0.5555555555555556,
              "#d8576b"
             ],
             [
              0.6666666666666666,
              "#ed7953"
             ],
             [
              0.7777777777777778,
              "#fb9f3a"
             ],
             [
              0.8888888888888888,
              "#fdca26"
             ],
             [
              1,
              "#f0f921"
             ]
            ],
            "type": "histogram2d"
           }
          ],
          "histogram2dcontour": [
           {
            "colorbar": {
             "outlinewidth": 0,
             "ticks": ""
            },
            "colorscale": [
             [
              0,
              "#0d0887"
             ],
             [
              0.1111111111111111,
              "#46039f"
             ],
             [
              0.2222222222222222,
              "#7201a8"
             ],
             [
              0.3333333333333333,
              "#9c179e"
             ],
             [
              0.4444444444444444,
              "#bd3786"
             ],
             [
              0.5555555555555556,
              "#d8576b"
             ],
             [
              0.6666666666666666,
              "#ed7953"
             ],
             [
              0.7777777777777778,
              "#fb9f3a"
             ],
             [
              0.8888888888888888,
              "#fdca26"
             ],
             [
              1,
              "#f0f921"
             ]
            ],
            "type": "histogram2dcontour"
           }
          ],
          "mesh3d": [
           {
            "colorbar": {
             "outlinewidth": 0,
             "ticks": ""
            },
            "type": "mesh3d"
           }
          ],
          "parcoords": [
           {
            "line": {
             "colorbar": {
              "outlinewidth": 0,
              "ticks": ""
             }
            },
            "type": "parcoords"
           }
          ],
          "pie": [
           {
            "automargin": true,
            "type": "pie"
           }
          ],
          "scatter": [
           {
            "fillpattern": {
             "fillmode": "overlay",
             "size": 10,
             "solidity": 0.2
            },
            "type": "scatter"
           }
          ],
          "scatter3d": [
           {
            "line": {
             "colorbar": {
              "outlinewidth": 0,
              "ticks": ""
             }
            },
            "marker": {
             "colorbar": {
              "outlinewidth": 0,
              "ticks": ""
             }
            },
            "type": "scatter3d"
           }
          ],
          "scattercarpet": [
           {
            "marker": {
             "colorbar": {
              "outlinewidth": 0,
              "ticks": ""
             }
            },
            "type": "scattercarpet"
           }
          ],
          "scattergeo": [
           {
            "marker": {
             "colorbar": {
              "outlinewidth": 0,
              "ticks": ""
             }
            },
            "type": "scattergeo"
           }
          ],
          "scattergl": [
           {
            "marker": {
             "colorbar": {
              "outlinewidth": 0,
              "ticks": ""
             }
            },
            "type": "scattergl"
           }
          ],
          "scattermapbox": [
           {
            "marker": {
             "colorbar": {
              "outlinewidth": 0,
              "ticks": ""
             }
            },
            "type": "scattermapbox"
           }
          ],
          "scatterpolar": [
           {
            "marker": {
             "colorbar": {
              "outlinewidth": 0,
              "ticks": ""
             }
            },
            "type": "scatterpolar"
           }
          ],
          "scatterpolargl": [
           {
            "marker": {
             "colorbar": {
              "outlinewidth": 0,
              "ticks": ""
             }
            },
            "type": "scatterpolargl"
           }
          ],
          "scatterternary": [
           {
            "marker": {
             "colorbar": {
              "outlinewidth": 0,
              "ticks": ""
             }
            },
            "type": "scatterternary"
           }
          ],
          "surface": [
           {
            "colorbar": {
             "outlinewidth": 0,
             "ticks": ""
            },
            "colorscale": [
             [
              0,
              "#0d0887"
             ],
             [
              0.1111111111111111,
              "#46039f"
             ],
             [
              0.2222222222222222,
              "#7201a8"
             ],
             [
              0.3333333333333333,
              "#9c179e"
             ],
             [
              0.4444444444444444,
              "#bd3786"
             ],
             [
              0.5555555555555556,
              "#d8576b"
             ],
             [
              0.6666666666666666,
              "#ed7953"
             ],
             [
              0.7777777777777778,
              "#fb9f3a"
             ],
             [
              0.8888888888888888,
              "#fdca26"
             ],
             [
              1,
              "#f0f921"
             ]
            ],
            "type": "surface"
           }
          ],
          "table": [
           {
            "cells": {
             "fill": {
              "color": "#EBF0F8"
             },
             "line": {
              "color": "white"
             }
            },
            "header": {
             "fill": {
              "color": "#C8D4E3"
             },
             "line": {
              "color": "white"
             }
            },
            "type": "table"
           }
          ]
         },
         "layout": {
          "annotationdefaults": {
           "arrowcolor": "#2a3f5f",
           "arrowhead": 0,
           "arrowwidth": 1
          },
          "autotypenumbers": "strict",
          "coloraxis": {
           "colorbar": {
            "outlinewidth": 0,
            "ticks": ""
           }
          },
          "colorscale": {
           "diverging": [
            [
             0,
             "#8e0152"
            ],
            [
             0.1,
             "#c51b7d"
            ],
            [
             0.2,
             "#de77ae"
            ],
            [
             0.3,
             "#f1b6da"
            ],
            [
             0.4,
             "#fde0ef"
            ],
            [
             0.5,
             "#f7f7f7"
            ],
            [
             0.6,
             "#e6f5d0"
            ],
            [
             0.7,
             "#b8e186"
            ],
            [
             0.8,
             "#7fbc41"
            ],
            [
             0.9,
             "#4d9221"
            ],
            [
             1,
             "#276419"
            ]
           ],
           "sequential": [
            [
             0,
             "#0d0887"
            ],
            [
             0.1111111111111111,
             "#46039f"
            ],
            [
             0.2222222222222222,
             "#7201a8"
            ],
            [
             0.3333333333333333,
             "#9c179e"
            ],
            [
             0.4444444444444444,
             "#bd3786"
            ],
            [
             0.5555555555555556,
             "#d8576b"
            ],
            [
             0.6666666666666666,
             "#ed7953"
            ],
            [
             0.7777777777777778,
             "#fb9f3a"
            ],
            [
             0.8888888888888888,
             "#fdca26"
            ],
            [
             1,
             "#f0f921"
            ]
           ],
           "sequentialminus": [
            [
             0,
             "#0d0887"
            ],
            [
             0.1111111111111111,
             "#46039f"
            ],
            [
             0.2222222222222222,
             "#7201a8"
            ],
            [
             0.3333333333333333,
             "#9c179e"
            ],
            [
             0.4444444444444444,
             "#bd3786"
            ],
            [
             0.5555555555555556,
             "#d8576b"
            ],
            [
             0.6666666666666666,
             "#ed7953"
            ],
            [
             0.7777777777777778,
             "#fb9f3a"
            ],
            [
             0.8888888888888888,
             "#fdca26"
            ],
            [
             1,
             "#f0f921"
            ]
           ]
          },
          "colorway": [
           "#636efa",
           "#EF553B",
           "#00cc96",
           "#ab63fa",
           "#FFA15A",
           "#19d3f3",
           "#FF6692",
           "#B6E880",
           "#FF97FF",
           "#FECB52"
          ],
          "font": {
           "color": "#2a3f5f"
          },
          "geo": {
           "bgcolor": "white",
           "lakecolor": "white",
           "landcolor": "#E5ECF6",
           "showlakes": true,
           "showland": true,
           "subunitcolor": "white"
          },
          "hoverlabel": {
           "align": "left"
          },
          "hovermode": "closest",
          "mapbox": {
           "style": "light"
          },
          "paper_bgcolor": "white",
          "plot_bgcolor": "#E5ECF6",
          "polar": {
           "angularaxis": {
            "gridcolor": "white",
            "linecolor": "white",
            "ticks": ""
           },
           "bgcolor": "#E5ECF6",
           "radialaxis": {
            "gridcolor": "white",
            "linecolor": "white",
            "ticks": ""
           }
          },
          "scene": {
           "xaxis": {
            "backgroundcolor": "#E5ECF6",
            "gridcolor": "white",
            "gridwidth": 2,
            "linecolor": "white",
            "showbackground": true,
            "ticks": "",
            "zerolinecolor": "white"
           },
           "yaxis": {
            "backgroundcolor": "#E5ECF6",
            "gridcolor": "white",
            "gridwidth": 2,
            "linecolor": "white",
            "showbackground": true,
            "ticks": "",
            "zerolinecolor": "white"
           },
           "zaxis": {
            "backgroundcolor": "#E5ECF6",
            "gridcolor": "white",
            "gridwidth": 2,
            "linecolor": "white",
            "showbackground": true,
            "ticks": "",
            "zerolinecolor": "white"
           }
          },
          "shapedefaults": {
           "line": {
            "color": "#2a3f5f"
           }
          },
          "ternary": {
           "aaxis": {
            "gridcolor": "white",
            "linecolor": "white",
            "ticks": ""
           },
           "baxis": {
            "gridcolor": "white",
            "linecolor": "white",
            "ticks": ""
           },
           "bgcolor": "#E5ECF6",
           "caxis": {
            "gridcolor": "white",
            "linecolor": "white",
            "ticks": ""
           }
          },
          "title": {
           "x": 0.05
          },
          "xaxis": {
           "automargin": true,
           "gridcolor": "white",
           "linecolor": "white",
           "ticks": "",
           "title": {
            "standoff": 15
           },
           "zerolinecolor": "white",
           "zerolinewidth": 2
          },
          "yaxis": {
           "automargin": true,
           "gridcolor": "white",
           "linecolor": "white",
           "ticks": "",
           "title": {
            "standoff": 15
           },
           "zerolinecolor": "white",
           "zerolinewidth": 2
          }
         }
        },
        "xaxis": {
         "anchor": "y",
         "domain": [
          0,
          1
         ],
         "title": {
          "text": "F1"
         }
        },
        "yaxis": {
         "anchor": "x",
         "domain": [
          0,
          1
         ],
         "title": {
          "text": "F5"
         }
        }
       }
      }
     },
     "metadata": {},
     "output_type": "display_data"
    }
   ],
   "source": [
    "df_list[0]['Ciudades'] = datos_Ptrans['Ciudades']\n",
    "cl1 = df_list[0]\n",
    "px.scatter(cl1, x = 'F1', y = 'F5', color = 'AG4datos_sel', hover_data=[\"Ciudades\",'AG4datos_sel']) "
   ]
  },
  {
   "cell_type": "code",
   "execution_count": 193,
   "metadata": {},
   "outputs": [
    {
     "data": {
      "application/vnd.plotly.v1+json": {
       "config": {
        "plotlyServerURL": "https://plot.ly"
       },
       "data": [
        {
         "customdata": [
          [
           "Albacete",
           3
          ],
          [
           "Alcalá de Henares",
           0
          ],
          [
           "Alcobendas",
           0
          ],
          [
           "Alcorcón",
           0
          ],
          [
           "Algeciras",
           3
          ],
          [
           "Alicante/Alacant",
           1
          ],
          [
           "Almería",
           3
          ],
          [
           "Ávila",
           0
          ],
          [
           "Badajoz",
           3
          ],
          [
           "Badalona",
           3
          ],
          [
           "Barcelona",
           1
          ],
          [
           "Burgos",
           0
          ],
          [
           "Cáceres",
           2
          ],
          [
           "Cádiz",
           0
          ],
          [
           "Cartagena",
           3
          ],
          [
           "Castelló de la Plana",
           0
          ],
          [
           "Ceuta",
           0
          ],
          [
           "Ciudad Real",
           0
          ],
          [
           "Córdoba",
           1
          ],
          [
           "Coruña, A",
           3
          ],
          [
           "Cuenca",
           0
          ],
          [
           "Dos Hermanas",
           3
          ],
          [
           "Elche/Elx",
           3
          ],
          [
           "Fuenlabrada",
           0
          ],
          [
           "Getafe",
           0
          ],
          [
           "Gijón",
           3
          ],
          [
           "Girona",
           0
          ],
          [
           "Granada",
           3
          ],
          [
           "Guadalajara",
           0
          ],
          [
           "Hospitalet de Llobregat, L'",
           0
          ],
          [
           "Huelva",
           2
          ],
          [
           "Huesca",
           0
          ],
          [
           "Jaén",
           0
          ],
          [
           "Jerez de la Frontera",
           3
          ],
          [
           "Palmas de Gran Canaria, Las",
           1
          ],
          [
           "Leganés",
           2
          ],
          [
           "León",
           0
          ],
          [
           "Lleida",
           0
          ],
          [
           "Logroño",
           0
          ],
          [
           "Lugo",
           0
          ],
          [
           "Málaga",
           1
          ],
          [
           "Marbella",
           3
          ],
          [
           "Mataró",
           0
          ],
          [
           "Melilla",
           0
          ],
          [
           "Móstoles",
           0
          ],
          [
           "Murcia",
           3
          ],
          [
           "Ourense",
           1
          ],
          [
           "Oviedo",
           3
          ],
          [
           "Palencia",
           0
          ],
          [
           "Palma de Mallorca",
           3
          ],
          [
           "Parla",
           2
          ],
          [
           "Pontevedra",
           0
          ],
          [
           "Sabadell",
           1
          ],
          [
           "Salamanca",
           0
          ],
          [
           "San Cristóbal de La Laguna",
           1
          ],
          [
           "Santa Coloma de Gramenet",
           0
          ],
          [
           "Santa Cruz de Tenerife",
           1
          ],
          [
           "Santander",
           3
          ],
          [
           "Segovia",
           0
          ],
          [
           "Sevilla",
           3
          ],
          [
           "Soria",
           0
          ],
          [
           "Tarragona",
           0
          ],
          [
           "Terrassa",
           1
          ],
          [
           "Teruel",
           0
          ],
          [
           "Toledo",
           2
          ],
          [
           "Torrejón de Ardoz",
           2
          ],
          [
           "Valencia",
           1
          ],
          [
           "Valladolid",
           3
          ],
          [
           "Vigo",
           3
          ],
          [
           "Zamora",
           2
          ],
          [
           "Zaragoza",
           1
          ]
         ],
         "hovertemplate": "F2=%{x}<br>F3=%{y}<br>F1=%{z}<br>Ciudades=%{customdata[0]}<br>AG4datos_sel=%{marker.color}<extra></extra>",
         "legendgroup": "",
         "marker": {
          "color": [
           3,
           0,
           0,
           0,
           3,
           1,
           3,
           0,
           3,
           3,
           1,
           0,
           2,
           0,
           3,
           0,
           0,
           0,
           1,
           3,
           0,
           3,
           3,
           0,
           0,
           3,
           0,
           3,
           0,
           0,
           2,
           0,
           0,
           3,
           1,
           2,
           0,
           0,
           0,
           0,
           1,
           3,
           0,
           0,
           0,
           3,
           1,
           3,
           0,
           3,
           2,
           0,
           1,
           0,
           1,
           0,
           1,
           3,
           0,
           3,
           0,
           0,
           1,
           0,
           2,
           2,
           1,
           3,
           3,
           2,
           1
          ],
          "coloraxis": "coloraxis",
          "symbol": "circle"
         },
         "mode": "markers",
         "name": "",
         "scene": "scene",
         "showlegend": false,
         "type": "scatter3d",
         "x": [
          1.0005413726778054,
          0.3901242197901129,
          0.30772233638719076,
          0.026269105026739487,
          1.4154318819216931,
          2.7837402719162263,
          0.7090577022512827,
          -1.0360055172775158,
          1.1784166571270247,
          0.46451962168300237,
          3.184224203770229,
          0.34693111347931155,
          -3.742632821275011,
          0.6752069330381271,
          -1.9710543504555553,
          -2.2700235894066103,
          -0.13243738782679615,
          -1.9024255313846585,
          3.9412502663949054,
          0.9335336425711186,
          0.7701733971752964,
          -1.4168594863942068,
          0.5683629872104402,
          -1.0422771334738776,
          -0.20497481626652742,
          -0.8414052601390785,
          3.155852392820055,
          -0.6402540069463338,
          0.1316888695091864,
          0.5249887171510375,
          -2.663982401458651,
          1.2774257495338939,
          0.39766864473285213,
          -1.5386293796130475,
          2.20808038246914,
          -4.102865573412737,
          -1.1285418394652487,
          0.3766598090641662,
          1.4271317522511595,
          1.7985942936123909,
          2.3895949937317873,
          1.0346216691994523,
          -0.4514391567033692,
          -1.5994557484953134,
          -1.0997152877343428,
          -0.3881263722052215,
          3.98248559096408,
          0.16427586261852806,
          -0.7789646457207563,
          0.443239711187512,
          -4.9805111037150755,
          -1.3709892908112284,
          2.6898729182581818,
          -0.4244534177941011,
          6.092947923160924,
          -2.025688018563016,
          4.458743170753999,
          -0.11959236612184398,
          -0.3611107571988634,
          -0.913584117301941,
          -0.32370049701804493,
          -1.6012278535229312,
          3.5550713640054554,
          -0.42011434210978926,
          -4.430534133980448,
          -6.894234680403237,
          0.6901176553607791,
          -0.3606089819241637,
          -0.9021125913529859,
          -2.9443241885886566,
          1.5677837680886535
         ],
         "y": [
          0.30428133986328587,
          -0.2510607211102373,
          -1.9503490646931214,
          -1.0328104380393508,
          -0.2504772503381535,
          1.610789796655089,
          1.0201148719364608,
          -1.863909238195581,
          0.3027933154303188,
          0.6514817547782596,
          3.626869319100663,
          -0.19395286214452634,
          -0.8490110195674653,
          -1.1280890324839168,
          1.5708850323646555,
          0.35136004910808677,
          -2.379416658271981,
          -1.664202801487145,
          1.8492691757988862,
          0.920935229079108,
          -2.113404435523043,
          -0.17133890913843586,
          0.9384244315116197,
          -0.27438647561638,
          -0.18374445789384664,
          1.0067596900034033,
          -0.7601793544105311,
          1.1434416714885312,
          -1.5947498604083612,
          0.2859614951609861,
          -0.43499326434672136,
          -2.6734015261624324,
          -0.4064180389440127,
          0.9049611875347063,
          2.0777250917470242,
          -0.537756826363774,
          -0.17447424418201396,
          -0.519896003707762,
          -0.7174315734999379,
          -0.22468931472665143,
          2.533750293843073,
          0.7394303856379467,
          -0.5165935268276355,
          -2.181452258318301,
          -0.27187497115181014,
          2.60356084163913,
          0.5009210056417235,
          0.40947629770618477,
          -1.6362992462667372,
          2.0127695007634174,
          -1.6983230498468789,
          -1.1062136694465008,
          1.003729578783966,
          -0.009723683233405389,
          0.88109266095344,
          -1.2477519502936916,
          1.026451415290157,
          0.24215418401369393,
          -2.3929139923805263,
          2.707092925570186,
          -3.3102352618750848,
          -0.432634421067726,
          1.1766875519283642,
          -3.0527985596281013,
          -1.9193460212907385,
          -2.7986990327463053,
          2.7059310131608285,
          0.9555614584217239,
          2.0505805537944752,
          -1.6397361002062512,
          2.226314482946651
         ],
         "z": [
          -0.2492412428239193,
          -0.9317824929271677,
          -0.4861639438493558,
          0.25700960467411277,
          -1.3037388608008604,
          0.4525416547903825,
          0.14730291045971028,
          -1.7923131992956927,
          -1.1918275549828445,
          1.0916863356442228,
          1.7238961737685188,
          -0.7377560806096007,
          -0.8205456011471988,
          1.5740917949431497,
          -0.7055045831133102,
          0.05891596420571263,
          -0.6265243691421833,
          0.3968384140827174,
          -0.7517135190734952,
          0.2555259062620973,
          -0.0341071117327032,
          -1.9358513456146902,
          -0.3893701229464849,
          -0.2838709180117204,
          -0.8822387129992366,
          -0.13481474242704278,
          0.32579967491620054,
          0.23697134076846,
          -0.32691701305605425,
          0.8563288700603943,
          -0.17965017885568466,
          0.3289240574627619,
          -0.22425003317223874,
          -1.184848871681003,
          0.7491099616887257,
          -0.47876037293523144,
          0.21340103566577256,
          0.044502752489523345,
          0.957195085506987,
          1.3056486099916564,
          -0.36105532414769353,
          0.27380575253479533,
          0.737737727834743,
          -0.8034622000443625,
          0.022765782490072203,
          0.36356027158423165,
          0.05803946875794125,
          1.236310909790424,
          -0.31872981109782406,
          0.5756759907204523,
          -0.14785109172815497,
          0.34152454814340555,
          1.0428824129981944,
          0.34870289198408055,
          0.049166531151813686,
          2.1955056013543905,
          0.7585434316792834,
          0.9400839614178317,
          0.3230322197294584,
          0.5273142802175894,
          0.2942743868217275,
          -0.35919325992736506,
          0.7900054016723936,
          -0.6696065137597309,
          -1.5724228008128867,
          -2.303307744421952,
          1.6406231149648347,
          -0.2858685260704809,
          -0.3914340632821752,
          -0.17506556908711368,
          0.11492964909884767
         ]
        }
       ],
       "layout": {
        "coloraxis": {
         "colorbar": {
          "title": {
           "text": "AG4datos_sel"
          }
         },
         "colorscale": [
          [
           0,
           "#0d0887"
          ],
          [
           0.1111111111111111,
           "#46039f"
          ],
          [
           0.2222222222222222,
           "#7201a8"
          ],
          [
           0.3333333333333333,
           "#9c179e"
          ],
          [
           0.4444444444444444,
           "#bd3786"
          ],
          [
           0.5555555555555556,
           "#d8576b"
          ],
          [
           0.6666666666666666,
           "#ed7953"
          ],
          [
           0.7777777777777778,
           "#fb9f3a"
          ],
          [
           0.8888888888888888,
           "#fdca26"
          ],
          [
           1,
           "#f0f921"
          ]
         ]
        },
        "legend": {
         "tracegroupgap": 0
        },
        "margin": {
         "t": 60
        },
        "scene": {
         "domain": {
          "x": [
           0,
           1
          ],
          "y": [
           0,
           1
          ]
         },
         "xaxis": {
          "title": {
           "text": "F1"
          }
         },
         "yaxis": {
          "title": {
           "text": "F2"
          }
         },
         "zaxis": {
          "title": {
           "text": "F3"
          }
         }
        },
        "template": {
         "data": {
          "bar": [
           {
            "error_x": {
             "color": "#2a3f5f"
            },
            "error_y": {
             "color": "#2a3f5f"
            },
            "marker": {
             "line": {
              "color": "#E5ECF6",
              "width": 0.5
             },
             "pattern": {
              "fillmode": "overlay",
              "size": 10,
              "solidity": 0.2
             }
            },
            "type": "bar"
           }
          ],
          "barpolar": [
           {
            "marker": {
             "line": {
              "color": "#E5ECF6",
              "width": 0.5
             },
             "pattern": {
              "fillmode": "overlay",
              "size": 10,
              "solidity": 0.2
             }
            },
            "type": "barpolar"
           }
          ],
          "carpet": [
           {
            "aaxis": {
             "endlinecolor": "#2a3f5f",
             "gridcolor": "white",
             "linecolor": "white",
             "minorgridcolor": "white",
             "startlinecolor": "#2a3f5f"
            },
            "baxis": {
             "endlinecolor": "#2a3f5f",
             "gridcolor": "white",
             "linecolor": "white",
             "minorgridcolor": "white",
             "startlinecolor": "#2a3f5f"
            },
            "type": "carpet"
           }
          ],
          "choropleth": [
           {
            "colorbar": {
             "outlinewidth": 0,
             "ticks": ""
            },
            "type": "choropleth"
           }
          ],
          "contour": [
           {
            "colorbar": {
             "outlinewidth": 0,
             "ticks": ""
            },
            "colorscale": [
             [
              0,
              "#0d0887"
             ],
             [
              0.1111111111111111,
              "#46039f"
             ],
             [
              0.2222222222222222,
              "#7201a8"
             ],
             [
              0.3333333333333333,
              "#9c179e"
             ],
             [
              0.4444444444444444,
              "#bd3786"
             ],
             [
              0.5555555555555556,
              "#d8576b"
             ],
             [
              0.6666666666666666,
              "#ed7953"
             ],
             [
              0.7777777777777778,
              "#fb9f3a"
             ],
             [
              0.8888888888888888,
              "#fdca26"
             ],
             [
              1,
              "#f0f921"
             ]
            ],
            "type": "contour"
           }
          ],
          "contourcarpet": [
           {
            "colorbar": {
             "outlinewidth": 0,
             "ticks": ""
            },
            "type": "contourcarpet"
           }
          ],
          "heatmap": [
           {
            "colorbar": {
             "outlinewidth": 0,
             "ticks": ""
            },
            "colorscale": [
             [
              0,
              "#0d0887"
             ],
             [
              0.1111111111111111,
              "#46039f"
             ],
             [
              0.2222222222222222,
              "#7201a8"
             ],
             [
              0.3333333333333333,
              "#9c179e"
             ],
             [
              0.4444444444444444,
              "#bd3786"
             ],
             [
              0.5555555555555556,
              "#d8576b"
             ],
             [
              0.6666666666666666,
              "#ed7953"
             ],
             [
              0.7777777777777778,
              "#fb9f3a"
             ],
             [
              0.8888888888888888,
              "#fdca26"
             ],
             [
              1,
              "#f0f921"
             ]
            ],
            "type": "heatmap"
           }
          ],
          "heatmapgl": [
           {
            "colorbar": {
             "outlinewidth": 0,
             "ticks": ""
            },
            "colorscale": [
             [
              0,
              "#0d0887"
             ],
             [
              0.1111111111111111,
              "#46039f"
             ],
             [
              0.2222222222222222,
              "#7201a8"
             ],
             [
              0.3333333333333333,
              "#9c179e"
             ],
             [
              0.4444444444444444,
              "#bd3786"
             ],
             [
              0.5555555555555556,
              "#d8576b"
             ],
             [
              0.6666666666666666,
              "#ed7953"
             ],
             [
              0.7777777777777778,
              "#fb9f3a"
             ],
             [
              0.8888888888888888,
              "#fdca26"
             ],
             [
              1,
              "#f0f921"
             ]
            ],
            "type": "heatmapgl"
           }
          ],
          "histogram": [
           {
            "marker": {
             "pattern": {
              "fillmode": "overlay",
              "size": 10,
              "solidity": 0.2
             }
            },
            "type": "histogram"
           }
          ],
          "histogram2d": [
           {
            "colorbar": {
             "outlinewidth": 0,
             "ticks": ""
            },
            "colorscale": [
             [
              0,
              "#0d0887"
             ],
             [
              0.1111111111111111,
              "#46039f"
             ],
             [
              0.2222222222222222,
              "#7201a8"
             ],
             [
              0.3333333333333333,
              "#9c179e"
             ],
             [
              0.4444444444444444,
              "#bd3786"
             ],
             [
              0.5555555555555556,
              "#d8576b"
             ],
             [
              0.6666666666666666,
              "#ed7953"
             ],
             [
              0.7777777777777778,
              "#fb9f3a"
             ],
             [
              0.8888888888888888,
              "#fdca26"
             ],
             [
              1,
              "#f0f921"
             ]
            ],
            "type": "histogram2d"
           }
          ],
          "histogram2dcontour": [
           {
            "colorbar": {
             "outlinewidth": 0,
             "ticks": ""
            },
            "colorscale": [
             [
              0,
              "#0d0887"
             ],
             [
              0.1111111111111111,
              "#46039f"
             ],
             [
              0.2222222222222222,
              "#7201a8"
             ],
             [
              0.3333333333333333,
              "#9c179e"
             ],
             [
              0.4444444444444444,
              "#bd3786"
             ],
             [
              0.5555555555555556,
              "#d8576b"
             ],
             [
              0.6666666666666666,
              "#ed7953"
             ],
             [
              0.7777777777777778,
              "#fb9f3a"
             ],
             [
              0.8888888888888888,
              "#fdca26"
             ],
             [
              1,
              "#f0f921"
             ]
            ],
            "type": "histogram2dcontour"
           }
          ],
          "mesh3d": [
           {
            "colorbar": {
             "outlinewidth": 0,
             "ticks": ""
            },
            "type": "mesh3d"
           }
          ],
          "parcoords": [
           {
            "line": {
             "colorbar": {
              "outlinewidth": 0,
              "ticks": ""
             }
            },
            "type": "parcoords"
           }
          ],
          "pie": [
           {
            "automargin": true,
            "type": "pie"
           }
          ],
          "scatter": [
           {
            "fillpattern": {
             "fillmode": "overlay",
             "size": 10,
             "solidity": 0.2
            },
            "type": "scatter"
           }
          ],
          "scatter3d": [
           {
            "line": {
             "colorbar": {
              "outlinewidth": 0,
              "ticks": ""
             }
            },
            "marker": {
             "colorbar": {
              "outlinewidth": 0,
              "ticks": ""
             }
            },
            "type": "scatter3d"
           }
          ],
          "scattercarpet": [
           {
            "marker": {
             "colorbar": {
              "outlinewidth": 0,
              "ticks": ""
             }
            },
            "type": "scattercarpet"
           }
          ],
          "scattergeo": [
           {
            "marker": {
             "colorbar": {
              "outlinewidth": 0,
              "ticks": ""
             }
            },
            "type": "scattergeo"
           }
          ],
          "scattergl": [
           {
            "marker": {
             "colorbar": {
              "outlinewidth": 0,
              "ticks": ""
             }
            },
            "type": "scattergl"
           }
          ],
          "scattermapbox": [
           {
            "marker": {
             "colorbar": {
              "outlinewidth": 0,
              "ticks": ""
             }
            },
            "type": "scattermapbox"
           }
          ],
          "scatterpolar": [
           {
            "marker": {
             "colorbar": {
              "outlinewidth": 0,
              "ticks": ""
             }
            },
            "type": "scatterpolar"
           }
          ],
          "scatterpolargl": [
           {
            "marker": {
             "colorbar": {
              "outlinewidth": 0,
              "ticks": ""
             }
            },
            "type": "scatterpolargl"
           }
          ],
          "scatterternary": [
           {
            "marker": {
             "colorbar": {
              "outlinewidth": 0,
              "ticks": ""
             }
            },
            "type": "scatterternary"
           }
          ],
          "surface": [
           {
            "colorbar": {
             "outlinewidth": 0,
             "ticks": ""
            },
            "colorscale": [
             [
              0,
              "#0d0887"
             ],
             [
              0.1111111111111111,
              "#46039f"
             ],
             [
              0.2222222222222222,
              "#7201a8"
             ],
             [
              0.3333333333333333,
              "#9c179e"
             ],
             [
              0.4444444444444444,
              "#bd3786"
             ],
             [
              0.5555555555555556,
              "#d8576b"
             ],
             [
              0.6666666666666666,
              "#ed7953"
             ],
             [
              0.7777777777777778,
              "#fb9f3a"
             ],
             [
              0.8888888888888888,
              "#fdca26"
             ],
             [
              1,
              "#f0f921"
             ]
            ],
            "type": "surface"
           }
          ],
          "table": [
           {
            "cells": {
             "fill": {
              "color": "#EBF0F8"
             },
             "line": {
              "color": "white"
             }
            },
            "header": {
             "fill": {
              "color": "#C8D4E3"
             },
             "line": {
              "color": "white"
             }
            },
            "type": "table"
           }
          ]
         },
         "layout": {
          "annotationdefaults": {
           "arrowcolor": "#2a3f5f",
           "arrowhead": 0,
           "arrowwidth": 1
          },
          "autotypenumbers": "strict",
          "coloraxis": {
           "colorbar": {
            "outlinewidth": 0,
            "ticks": ""
           }
          },
          "colorscale": {
           "diverging": [
            [
             0,
             "#8e0152"
            ],
            [
             0.1,
             "#c51b7d"
            ],
            [
             0.2,
             "#de77ae"
            ],
            [
             0.3,
             "#f1b6da"
            ],
            [
             0.4,
             "#fde0ef"
            ],
            [
             0.5,
             "#f7f7f7"
            ],
            [
             0.6,
             "#e6f5d0"
            ],
            [
             0.7,
             "#b8e186"
            ],
            [
             0.8,
             "#7fbc41"
            ],
            [
             0.9,
             "#4d9221"
            ],
            [
             1,
             "#276419"
            ]
           ],
           "sequential": [
            [
             0,
             "#0d0887"
            ],
            [
             0.1111111111111111,
             "#46039f"
            ],
            [
             0.2222222222222222,
             "#7201a8"
            ],
            [
             0.3333333333333333,
             "#9c179e"
            ],
            [
             0.4444444444444444,
             "#bd3786"
            ],
            [
             0.5555555555555556,
             "#d8576b"
            ],
            [
             0.6666666666666666,
             "#ed7953"
            ],
            [
             0.7777777777777778,
             "#fb9f3a"
            ],
            [
             0.8888888888888888,
             "#fdca26"
            ],
            [
             1,
             "#f0f921"
            ]
           ],
           "sequentialminus": [
            [
             0,
             "#0d0887"
            ],
            [
             0.1111111111111111,
             "#46039f"
            ],
            [
             0.2222222222222222,
             "#7201a8"
            ],
            [
             0.3333333333333333,
             "#9c179e"
            ],
            [
             0.4444444444444444,
             "#bd3786"
            ],
            [
             0.5555555555555556,
             "#d8576b"
            ],
            [
             0.6666666666666666,
             "#ed7953"
            ],
            [
             0.7777777777777778,
             "#fb9f3a"
            ],
            [
             0.8888888888888888,
             "#fdca26"
            ],
            [
             1,
             "#f0f921"
            ]
           ]
          },
          "colorway": [
           "#636efa",
           "#EF553B",
           "#00cc96",
           "#ab63fa",
           "#FFA15A",
           "#19d3f3",
           "#FF6692",
           "#B6E880",
           "#FF97FF",
           "#FECB52"
          ],
          "font": {
           "color": "#2a3f5f"
          },
          "geo": {
           "bgcolor": "white",
           "lakecolor": "white",
           "landcolor": "#E5ECF6",
           "showlakes": true,
           "showland": true,
           "subunitcolor": "white"
          },
          "hoverlabel": {
           "align": "left"
          },
          "hovermode": "closest",
          "mapbox": {
           "style": "light"
          },
          "paper_bgcolor": "white",
          "plot_bgcolor": "#E5ECF6",
          "polar": {
           "angularaxis": {
            "gridcolor": "white",
            "linecolor": "white",
            "ticks": ""
           },
           "bgcolor": "#E5ECF6",
           "radialaxis": {
            "gridcolor": "white",
            "linecolor": "white",
            "ticks": ""
           }
          },
          "scene": {
           "xaxis": {
            "backgroundcolor": "#E5ECF6",
            "gridcolor": "white",
            "gridwidth": 2,
            "linecolor": "white",
            "showbackground": true,
            "ticks": "",
            "zerolinecolor": "white"
           },
           "yaxis": {
            "backgroundcolor": "#E5ECF6",
            "gridcolor": "white",
            "gridwidth": 2,
            "linecolor": "white",
            "showbackground": true,
            "ticks": "",
            "zerolinecolor": "white"
           },
           "zaxis": {
            "backgroundcolor": "#E5ECF6",
            "gridcolor": "white",
            "gridwidth": 2,
            "linecolor": "white",
            "showbackground": true,
            "ticks": "",
            "zerolinecolor": "white"
           }
          },
          "shapedefaults": {
           "line": {
            "color": "#2a3f5f"
           }
          },
          "ternary": {
           "aaxis": {
            "gridcolor": "white",
            "linecolor": "white",
            "ticks": ""
           },
           "baxis": {
            "gridcolor": "white",
            "linecolor": "white",
            "ticks": ""
           },
           "bgcolor": "#E5ECF6",
           "caxis": {
            "gridcolor": "white",
            "linecolor": "white",
            "ticks": ""
           }
          },
          "title": {
           "x": 0.05
          },
          "xaxis": {
           "automargin": true,
           "gridcolor": "white",
           "linecolor": "white",
           "ticks": "",
           "title": {
            "standoff": 15
           },
           "zerolinecolor": "white",
           "zerolinewidth": 2
          },
          "yaxis": {
           "automargin": true,
           "gridcolor": "white",
           "linecolor": "white",
           "ticks": "",
           "title": {
            "standoff": 15
           },
           "zerolinecolor": "white",
           "zerolinewidth": 2
          }
         }
        },
        "title": {
         "text": "3D Scatter Plot"
        }
       }
      }
     },
     "metadata": {},
     "output_type": "display_data"
    }
   ],
   "source": [
    "# Customize the layout (optional)\n",
    "fig = px.scatter_3d(cl1, x = 'F2', y = 'F3', z = 'F1', color = 'AG4datos_sel', hover_data = ['Ciudades', 'AG4datos_sel'])\n",
    "fig.update_layout(title='3D Scatter Plot', scene=dict(xaxis_title='F1', yaxis_title='F2', zaxis_title='F3'))\n",
    "\n",
    "# Show the plot\n",
    "fig.show()"
   ]
  },
  {
   "cell_type": "code",
   "execution_count": 196,
   "metadata": {},
   "outputs": [],
   "source": [
    "df_list[1]['Ciudades'] = datos_Ptrans['Ciudades']\n",
    "cl2 = df_list[1]"
   ]
  },
  {
   "cell_type": "code",
   "execution_count": 197,
   "metadata": {},
   "outputs": [
    {
     "data": {
      "application/vnd.plotly.v1+json": {
       "config": {
        "plotlyServerURL": "https://plot.ly"
       },
       "data": [
        {
         "customdata": [
          [
           "Albacete",
           1
          ],
          [
           "Alcalá de Henares",
           0
          ],
          [
           "Alcobendas",
           0
          ],
          [
           "Alcorcón",
           0
          ],
          [
           "Algeciras",
           1
          ],
          [
           "Alicante/Alacant",
           2
          ],
          [
           "Almería",
           1
          ],
          [
           "Ávila",
           0
          ],
          [
           "Badajoz",
           1
          ],
          [
           "Badalona",
           1
          ],
          [
           "Barcelona",
           2
          ],
          [
           "Burgos",
           0
          ],
          [
           "Cáceres",
           3
          ],
          [
           "Cádiz",
           0
          ],
          [
           "Cartagena",
           1
          ],
          [
           "Castelló de la Plana",
           0
          ],
          [
           "Ceuta",
           0
          ],
          [
           "Ciudad Real",
           0
          ],
          [
           "Córdoba",
           2
          ],
          [
           "Coruña, A",
           1
          ],
          [
           "Cuenca",
           0
          ],
          [
           "Dos Hermanas",
           1
          ],
          [
           "Elche/Elx",
           1
          ],
          [
           "Fuenlabrada",
           0
          ],
          [
           "Getafe",
           0
          ],
          [
           "Gijón",
           1
          ],
          [
           "Girona",
           0
          ],
          [
           "Granada",
           1
          ],
          [
           "Guadalajara",
           0
          ],
          [
           "Hospitalet de Llobregat, L'",
           0
          ],
          [
           "Huelva",
           3
          ],
          [
           "Huesca",
           0
          ],
          [
           "Jaén",
           0
          ],
          [
           "Jerez de la Frontera",
           1
          ],
          [
           "Palmas de Gran Canaria, Las",
           2
          ],
          [
           "Leganés",
           3
          ],
          [
           "León",
           0
          ],
          [
           "Lleida",
           0
          ],
          [
           "Logroño",
           0
          ],
          [
           "Lugo",
           0
          ],
          [
           "Madrid",
           1
          ],
          [
           "Málaga",
           2
          ],
          [
           "Marbella",
           1
          ],
          [
           "Mataró",
           0
          ],
          [
           "Melilla",
           0
          ],
          [
           "Móstoles",
           0
          ],
          [
           "Murcia",
           1
          ],
          [
           "Ourense",
           2
          ],
          [
           "Oviedo",
           1
          ],
          [
           "Palencia",
           0
          ],
          [
           "Palma de Mallorca",
           1
          ],
          [
           "Parla",
           3
          ],
          [
           "Pontevedra",
           0
          ],
          [
           "Sabadell",
           2
          ],
          [
           "Salamanca",
           0
          ],
          [
           "San Cristóbal de La Laguna",
           2
          ],
          [
           "Santa Coloma de Gramenet",
           0
          ],
          [
           "Santa Cruz de Tenerife",
           2
          ],
          [
           "Santander",
           1
          ],
          [
           "Segovia",
           0
          ],
          [
           "Sevilla",
           1
          ],
          [
           "Soria",
           0
          ],
          [
           "Tarragona",
           0
          ],
          [
           "Terrassa",
           2
          ],
          [
           "Teruel",
           0
          ],
          [
           "Toledo",
           3
          ],
          [
           "Valencia",
           2
          ],
          [
           "Valladolid",
           1
          ],
          [
           "Vigo",
           1
          ],
          [
           "Zamora",
           3
          ],
          [
           "Zaragoza",
           2
          ]
         ],
         "hovertemplate": "F2=%{x}<br>F3=%{y}<br>F1=%{z}<br>Ciudades=%{customdata[0]}<br>AG4datos_sel_sinT=%{marker.color}<extra></extra>",
         "legendgroup": "",
         "marker": {
          "color": [
           1,
           0,
           0,
           0,
           1,
           2,
           1,
           0,
           1,
           1,
           2,
           0,
           3,
           0,
           1,
           0,
           0,
           0,
           2,
           1,
           0,
           1,
           1,
           0,
           0,
           1,
           0,
           1,
           0,
           0,
           3,
           0,
           0,
           1,
           2,
           3,
           0,
           0,
           0,
           0,
           1,
           2,
           1,
           0,
           0,
           0,
           1,
           2,
           1,
           0,
           1,
           3,
           0,
           2,
           0,
           2,
           0,
           2,
           1,
           0,
           1,
           0,
           0,
           2,
           0,
           3,
           2,
           1,
           1,
           3,
           2
          ],
          "coloraxis": "coloraxis",
          "symbol": "circle"
         },
         "mode": "markers",
         "name": "",
         "scene": "scene",
         "showlegend": false,
         "type": "scatter3d",
         "x": [
          1.0005413726778054,
          0.3901242197901129,
          0.30772233638719076,
          0.026269105026739487,
          1.4154318819216931,
          2.7837402719162263,
          0.7090577022512827,
          -1.0360055172775158,
          1.1784166571270247,
          0.46451962168300237,
          3.184224203770229,
          0.34693111347931155,
          -3.742632821275011,
          0.6752069330381271,
          -1.9710543504555553,
          -2.2700235894066103,
          -0.13243738782679615,
          -1.9024255313846585,
          3.9412502663949054,
          0.9335336425711186,
          0.7701733971752964,
          -1.4168594863942068,
          0.5683629872104402,
          -1.0422771334738776,
          -0.20497481626652742,
          -0.8414052601390785,
          3.155852392820055,
          -0.6402540069463338,
          0.1316888695091864,
          0.5249887171510375,
          -2.663982401458651,
          1.2774257495338939,
          0.39766864473285213,
          -1.5386293796130475,
          2.20808038246914,
          -4.102865573412737,
          -1.1285418394652487,
          0.3766598090641662,
          1.4271317522511595,
          1.7985942936123909,
          -0.03749430483481486,
          2.3895949937317873,
          1.0346216691994523,
          -0.4514391567033692,
          -1.5994557484953134,
          -1.0997152877343428,
          -0.3881263722052215,
          3.98248559096408,
          0.16427586261852806,
          -0.7789646457207563,
          0.443239711187512,
          -4.9805111037150755,
          -1.3709892908112284,
          2.6898729182581818,
          -0.4244534177941011,
          6.092947923160924,
          -2.025688018563016,
          4.458743170753999,
          -0.11959236612184398,
          -0.3611107571988634,
          -0.913584117301941,
          -0.32370049701804493,
          -1.6012278535229312,
          3.5550713640054554,
          -0.42011434210978926,
          -4.430534133980448,
          0.6901176553607791,
          -0.3606089819241637,
          -0.9021125913529859,
          -2.9443241885886566,
          1.5677837680886535
         ],
         "y": [
          0.30428133986328587,
          -0.2510607211102373,
          -1.9503490646931214,
          -1.0328104380393508,
          -0.2504772503381535,
          1.610789796655089,
          1.0201148719364608,
          -1.863909238195581,
          0.3027933154303188,
          0.6514817547782596,
          3.626869319100663,
          -0.19395286214452634,
          -0.8490110195674653,
          -1.1280890324839168,
          1.5708850323646555,
          0.35136004910808677,
          -2.379416658271981,
          -1.664202801487145,
          1.8492691757988862,
          0.920935229079108,
          -2.113404435523043,
          -0.17133890913843586,
          0.9384244315116197,
          -0.27438647561638,
          -0.18374445789384664,
          1.0067596900034033,
          -0.7601793544105311,
          1.1434416714885312,
          -1.5947498604083612,
          0.2859614951609861,
          -0.43499326434672136,
          -2.6734015261624324,
          -0.4064180389440127,
          0.9049611875347063,
          2.0777250917470242,
          -0.537756826363774,
          -0.17447424418201396,
          -0.519896003707762,
          -0.7174315734999379,
          -0.22468931472665143,
          4.223181514177035,
          2.533750293843073,
          0.7394303856379467,
          -0.5165935268276355,
          -2.181452258318301,
          -0.27187497115181014,
          2.60356084163913,
          0.5009210056417235,
          0.40947629770618477,
          -1.6362992462667372,
          2.0127695007634174,
          -1.6983230498468789,
          -1.1062136694465008,
          1.003729578783966,
          -0.009723683233405389,
          0.88109266095344,
          -1.2477519502936916,
          1.026451415290157,
          0.24215418401369393,
          -2.3929139923805263,
          2.707092925570186,
          -3.3102352618750848,
          -0.432634421067726,
          1.1766875519283642,
          -3.0527985596281013,
          -1.9193460212907385,
          2.7059310131608285,
          0.9555614584217239,
          2.0505805537944752,
          -1.6397361002062512,
          2.226314482946651
         ],
         "z": [
          -0.2492412428239193,
          -0.9317824929271677,
          -0.4861639438493558,
          0.25700960467411277,
          -1.3037388608008604,
          0.4525416547903825,
          0.14730291045971028,
          -1.7923131992956927,
          -1.1918275549828445,
          1.0916863356442228,
          1.7238961737685188,
          -0.7377560806096007,
          -0.8205456011471988,
          1.5740917949431497,
          -0.7055045831133102,
          0.05891596420571263,
          -0.6265243691421833,
          0.3968384140827174,
          -0.7517135190734952,
          0.2555259062620973,
          -0.0341071117327032,
          -1.9358513456146902,
          -0.3893701229464849,
          -0.2838709180117204,
          -0.8822387129992366,
          -0.13481474242704278,
          0.32579967491620054,
          0.23697134076846,
          -0.32691701305605425,
          0.8563288700603943,
          -0.17965017885568466,
          0.3289240574627619,
          -0.22425003317223874,
          -1.184848871681003,
          0.7491099616887257,
          -0.47876037293523144,
          0.21340103566577256,
          0.044502752489523345,
          0.957195085506987,
          1.3056486099916564,
          -0.5703867067501142,
          -0.36105532414769353,
          0.27380575253479533,
          0.737737727834743,
          -0.8034622000443625,
          0.022765782490072203,
          0.36356027158423165,
          0.05803946875794125,
          1.236310909790424,
          -0.31872981109782406,
          0.5756759907204523,
          -0.14785109172815497,
          0.34152454814340555,
          1.0428824129981944,
          0.34870289198408055,
          0.049166531151813686,
          2.1955056013543905,
          0.7585434316792834,
          0.9400839614178317,
          0.3230322197294584,
          0.5273142802175894,
          0.2942743868217275,
          -0.35919325992736506,
          0.7900054016723936,
          -0.6696065137597309,
          -1.5724228008128867,
          1.6406231149648347,
          -0.2858685260704809,
          -0.3914340632821752,
          -0.17506556908711368,
          0.11492964909884767
         ]
        }
       ],
       "layout": {
        "coloraxis": {
         "colorbar": {
          "title": {
           "text": "AG4datos_sel_sinT"
          }
         },
         "colorscale": [
          [
           0,
           "#0d0887"
          ],
          [
           0.1111111111111111,
           "#46039f"
          ],
          [
           0.2222222222222222,
           "#7201a8"
          ],
          [
           0.3333333333333333,
           "#9c179e"
          ],
          [
           0.4444444444444444,
           "#bd3786"
          ],
          [
           0.5555555555555556,
           "#d8576b"
          ],
          [
           0.6666666666666666,
           "#ed7953"
          ],
          [
           0.7777777777777778,
           "#fb9f3a"
          ],
          [
           0.8888888888888888,
           "#fdca26"
          ],
          [
           1,
           "#f0f921"
          ]
         ]
        },
        "legend": {
         "tracegroupgap": 0
        },
        "margin": {
         "t": 60
        },
        "scene": {
         "domain": {
          "x": [
           0,
           1
          ],
          "y": [
           0,
           1
          ]
         },
         "xaxis": {
          "title": {
           "text": "F1"
          }
         },
         "yaxis": {
          "title": {
           "text": "F2"
          }
         },
         "zaxis": {
          "title": {
           "text": "F3"
          }
         }
        },
        "template": {
         "data": {
          "bar": [
           {
            "error_x": {
             "color": "#2a3f5f"
            },
            "error_y": {
             "color": "#2a3f5f"
            },
            "marker": {
             "line": {
              "color": "#E5ECF6",
              "width": 0.5
             },
             "pattern": {
              "fillmode": "overlay",
              "size": 10,
              "solidity": 0.2
             }
            },
            "type": "bar"
           }
          ],
          "barpolar": [
           {
            "marker": {
             "line": {
              "color": "#E5ECF6",
              "width": 0.5
             },
             "pattern": {
              "fillmode": "overlay",
              "size": 10,
              "solidity": 0.2
             }
            },
            "type": "barpolar"
           }
          ],
          "carpet": [
           {
            "aaxis": {
             "endlinecolor": "#2a3f5f",
             "gridcolor": "white",
             "linecolor": "white",
             "minorgridcolor": "white",
             "startlinecolor": "#2a3f5f"
            },
            "baxis": {
             "endlinecolor": "#2a3f5f",
             "gridcolor": "white",
             "linecolor": "white",
             "minorgridcolor": "white",
             "startlinecolor": "#2a3f5f"
            },
            "type": "carpet"
           }
          ],
          "choropleth": [
           {
            "colorbar": {
             "outlinewidth": 0,
             "ticks": ""
            },
            "type": "choropleth"
           }
          ],
          "contour": [
           {
            "colorbar": {
             "outlinewidth": 0,
             "ticks": ""
            },
            "colorscale": [
             [
              0,
              "#0d0887"
             ],
             [
              0.1111111111111111,
              "#46039f"
             ],
             [
              0.2222222222222222,
              "#7201a8"
             ],
             [
              0.3333333333333333,
              "#9c179e"
             ],
             [
              0.4444444444444444,
              "#bd3786"
             ],
             [
              0.5555555555555556,
              "#d8576b"
             ],
             [
              0.6666666666666666,
              "#ed7953"
             ],
             [
              0.7777777777777778,
              "#fb9f3a"
             ],
             [
              0.8888888888888888,
              "#fdca26"
             ],
             [
              1,
              "#f0f921"
             ]
            ],
            "type": "contour"
           }
          ],
          "contourcarpet": [
           {
            "colorbar": {
             "outlinewidth": 0,
             "ticks": ""
            },
            "type": "contourcarpet"
           }
          ],
          "heatmap": [
           {
            "colorbar": {
             "outlinewidth": 0,
             "ticks": ""
            },
            "colorscale": [
             [
              0,
              "#0d0887"
             ],
             [
              0.1111111111111111,
              "#46039f"
             ],
             [
              0.2222222222222222,
              "#7201a8"
             ],
             [
              0.3333333333333333,
              "#9c179e"
             ],
             [
              0.4444444444444444,
              "#bd3786"
             ],
             [
              0.5555555555555556,
              "#d8576b"
             ],
             [
              0.6666666666666666,
              "#ed7953"
             ],
             [
              0.7777777777777778,
              "#fb9f3a"
             ],
             [
              0.8888888888888888,
              "#fdca26"
             ],
             [
              1,
              "#f0f921"
             ]
            ],
            "type": "heatmap"
           }
          ],
          "heatmapgl": [
           {
            "colorbar": {
             "outlinewidth": 0,
             "ticks": ""
            },
            "colorscale": [
             [
              0,
              "#0d0887"
             ],
             [
              0.1111111111111111,
              "#46039f"
             ],
             [
              0.2222222222222222,
              "#7201a8"
             ],
             [
              0.3333333333333333,
              "#9c179e"
             ],
             [
              0.4444444444444444,
              "#bd3786"
             ],
             [
              0.5555555555555556,
              "#d8576b"
             ],
             [
              0.6666666666666666,
              "#ed7953"
             ],
             [
              0.7777777777777778,
              "#fb9f3a"
             ],
             [
              0.8888888888888888,
              "#fdca26"
             ],
             [
              1,
              "#f0f921"
             ]
            ],
            "type": "heatmapgl"
           }
          ],
          "histogram": [
           {
            "marker": {
             "pattern": {
              "fillmode": "overlay",
              "size": 10,
              "solidity": 0.2
             }
            },
            "type": "histogram"
           }
          ],
          "histogram2d": [
           {
            "colorbar": {
             "outlinewidth": 0,
             "ticks": ""
            },
            "colorscale": [
             [
              0,
              "#0d0887"
             ],
             [
              0.1111111111111111,
              "#46039f"
             ],
             [
              0.2222222222222222,
              "#7201a8"
             ],
             [
              0.3333333333333333,
              "#9c179e"
             ],
             [
              0.4444444444444444,
              "#bd3786"
             ],
             [
              0.5555555555555556,
              "#d8576b"
             ],
             [
              0.6666666666666666,
              "#ed7953"
             ],
             [
              0.7777777777777778,
              "#fb9f3a"
             ],
             [
              0.8888888888888888,
              "#fdca26"
             ],
             [
              1,
              "#f0f921"
             ]
            ],
            "type": "histogram2d"
           }
          ],
          "histogram2dcontour": [
           {
            "colorbar": {
             "outlinewidth": 0,
             "ticks": ""
            },
            "colorscale": [
             [
              0,
              "#0d0887"
             ],
             [
              0.1111111111111111,
              "#46039f"
             ],
             [
              0.2222222222222222,
              "#7201a8"
             ],
             [
              0.3333333333333333,
              "#9c179e"
             ],
             [
              0.4444444444444444,
              "#bd3786"
             ],
             [
              0.5555555555555556,
              "#d8576b"
             ],
             [
              0.6666666666666666,
              "#ed7953"
             ],
             [
              0.7777777777777778,
              "#fb9f3a"
             ],
             [
              0.8888888888888888,
              "#fdca26"
             ],
             [
              1,
              "#f0f921"
             ]
            ],
            "type": "histogram2dcontour"
           }
          ],
          "mesh3d": [
           {
            "colorbar": {
             "outlinewidth": 0,
             "ticks": ""
            },
            "type": "mesh3d"
           }
          ],
          "parcoords": [
           {
            "line": {
             "colorbar": {
              "outlinewidth": 0,
              "ticks": ""
             }
            },
            "type": "parcoords"
           }
          ],
          "pie": [
           {
            "automargin": true,
            "type": "pie"
           }
          ],
          "scatter": [
           {
            "fillpattern": {
             "fillmode": "overlay",
             "size": 10,
             "solidity": 0.2
            },
            "type": "scatter"
           }
          ],
          "scatter3d": [
           {
            "line": {
             "colorbar": {
              "outlinewidth": 0,
              "ticks": ""
             }
            },
            "marker": {
             "colorbar": {
              "outlinewidth": 0,
              "ticks": ""
             }
            },
            "type": "scatter3d"
           }
          ],
          "scattercarpet": [
           {
            "marker": {
             "colorbar": {
              "outlinewidth": 0,
              "ticks": ""
             }
            },
            "type": "scattercarpet"
           }
          ],
          "scattergeo": [
           {
            "marker": {
             "colorbar": {
              "outlinewidth": 0,
              "ticks": ""
             }
            },
            "type": "scattergeo"
           }
          ],
          "scattergl": [
           {
            "marker": {
             "colorbar": {
              "outlinewidth": 0,
              "ticks": ""
             }
            },
            "type": "scattergl"
           }
          ],
          "scattermapbox": [
           {
            "marker": {
             "colorbar": {
              "outlinewidth": 0,
              "ticks": ""
             }
            },
            "type": "scattermapbox"
           }
          ],
          "scatterpolar": [
           {
            "marker": {
             "colorbar": {
              "outlinewidth": 0,
              "ticks": ""
             }
            },
            "type": "scatterpolar"
           }
          ],
          "scatterpolargl": [
           {
            "marker": {
             "colorbar": {
              "outlinewidth": 0,
              "ticks": ""
             }
            },
            "type": "scatterpolargl"
           }
          ],
          "scatterternary": [
           {
            "marker": {
             "colorbar": {
              "outlinewidth": 0,
              "ticks": ""
             }
            },
            "type": "scatterternary"
           }
          ],
          "surface": [
           {
            "colorbar": {
             "outlinewidth": 0,
             "ticks": ""
            },
            "colorscale": [
             [
              0,
              "#0d0887"
             ],
             [
              0.1111111111111111,
              "#46039f"
             ],
             [
              0.2222222222222222,
              "#7201a8"
             ],
             [
              0.3333333333333333,
              "#9c179e"
             ],
             [
              0.4444444444444444,
              "#bd3786"
             ],
             [
              0.5555555555555556,
              "#d8576b"
             ],
             [
              0.6666666666666666,
              "#ed7953"
             ],
             [
              0.7777777777777778,
              "#fb9f3a"
             ],
             [
              0.8888888888888888,
              "#fdca26"
             ],
             [
              1,
              "#f0f921"
             ]
            ],
            "type": "surface"
           }
          ],
          "table": [
           {
            "cells": {
             "fill": {
              "color": "#EBF0F8"
             },
             "line": {
              "color": "white"
             }
            },
            "header": {
             "fill": {
              "color": "#C8D4E3"
             },
             "line": {
              "color": "white"
             }
            },
            "type": "table"
           }
          ]
         },
         "layout": {
          "annotationdefaults": {
           "arrowcolor": "#2a3f5f",
           "arrowhead": 0,
           "arrowwidth": 1
          },
          "autotypenumbers": "strict",
          "coloraxis": {
           "colorbar": {
            "outlinewidth": 0,
            "ticks": ""
           }
          },
          "colorscale": {
           "diverging": [
            [
             0,
             "#8e0152"
            ],
            [
             0.1,
             "#c51b7d"
            ],
            [
             0.2,
             "#de77ae"
            ],
            [
             0.3,
             "#f1b6da"
            ],
            [
             0.4,
             "#fde0ef"
            ],
            [
             0.5,
             "#f7f7f7"
            ],
            [
             0.6,
             "#e6f5d0"
            ],
            [
             0.7,
             "#b8e186"
            ],
            [
             0.8,
             "#7fbc41"
            ],
            [
             0.9,
             "#4d9221"
            ],
            [
             1,
             "#276419"
            ]
           ],
           "sequential": [
            [
             0,
             "#0d0887"
            ],
            [
             0.1111111111111111,
             "#46039f"
            ],
            [
             0.2222222222222222,
             "#7201a8"
            ],
            [
             0.3333333333333333,
             "#9c179e"
            ],
            [
             0.4444444444444444,
             "#bd3786"
            ],
            [
             0.5555555555555556,
             "#d8576b"
            ],
            [
             0.6666666666666666,
             "#ed7953"
            ],
            [
             0.7777777777777778,
             "#fb9f3a"
            ],
            [
             0.8888888888888888,
             "#fdca26"
            ],
            [
             1,
             "#f0f921"
            ]
           ],
           "sequentialminus": [
            [
             0,
             "#0d0887"
            ],
            [
             0.1111111111111111,
             "#46039f"
            ],
            [
             0.2222222222222222,
             "#7201a8"
            ],
            [
             0.3333333333333333,
             "#9c179e"
            ],
            [
             0.4444444444444444,
             "#bd3786"
            ],
            [
             0.5555555555555556,
             "#d8576b"
            ],
            [
             0.6666666666666666,
             "#ed7953"
            ],
            [
             0.7777777777777778,
             "#fb9f3a"
            ],
            [
             0.8888888888888888,
             "#fdca26"
            ],
            [
             1,
             "#f0f921"
            ]
           ]
          },
          "colorway": [
           "#636efa",
           "#EF553B",
           "#00cc96",
           "#ab63fa",
           "#FFA15A",
           "#19d3f3",
           "#FF6692",
           "#B6E880",
           "#FF97FF",
           "#FECB52"
          ],
          "font": {
           "color": "#2a3f5f"
          },
          "geo": {
           "bgcolor": "white",
           "lakecolor": "white",
           "landcolor": "#E5ECF6",
           "showlakes": true,
           "showland": true,
           "subunitcolor": "white"
          },
          "hoverlabel": {
           "align": "left"
          },
          "hovermode": "closest",
          "mapbox": {
           "style": "light"
          },
          "paper_bgcolor": "white",
          "plot_bgcolor": "#E5ECF6",
          "polar": {
           "angularaxis": {
            "gridcolor": "white",
            "linecolor": "white",
            "ticks": ""
           },
           "bgcolor": "#E5ECF6",
           "radialaxis": {
            "gridcolor": "white",
            "linecolor": "white",
            "ticks": ""
           }
          },
          "scene": {
           "xaxis": {
            "backgroundcolor": "#E5ECF6",
            "gridcolor": "white",
            "gridwidth": 2,
            "linecolor": "white",
            "showbackground": true,
            "ticks": "",
            "zerolinecolor": "white"
           },
           "yaxis": {
            "backgroundcolor": "#E5ECF6",
            "gridcolor": "white",
            "gridwidth": 2,
            "linecolor": "white",
            "showbackground": true,
            "ticks": "",
            "zerolinecolor": "white"
           },
           "zaxis": {
            "backgroundcolor": "#E5ECF6",
            "gridcolor": "white",
            "gridwidth": 2,
            "linecolor": "white",
            "showbackground": true,
            "ticks": "",
            "zerolinecolor": "white"
           }
          },
          "shapedefaults": {
           "line": {
            "color": "#2a3f5f"
           }
          },
          "ternary": {
           "aaxis": {
            "gridcolor": "white",
            "linecolor": "white",
            "ticks": ""
           },
           "baxis": {
            "gridcolor": "white",
            "linecolor": "white",
            "ticks": ""
           },
           "bgcolor": "#E5ECF6",
           "caxis": {
            "gridcolor": "white",
            "linecolor": "white",
            "ticks": ""
           }
          },
          "title": {
           "x": 0.05
          },
          "xaxis": {
           "automargin": true,
           "gridcolor": "white",
           "linecolor": "white",
           "ticks": "",
           "title": {
            "standoff": 15
           },
           "zerolinecolor": "white",
           "zerolinewidth": 2
          },
          "yaxis": {
           "automargin": true,
           "gridcolor": "white",
           "linecolor": "white",
           "ticks": "",
           "title": {
            "standoff": 15
           },
           "zerolinecolor": "white",
           "zerolinewidth": 2
          }
         }
        },
        "title": {
         "text": "3D Scatter Plot"
        }
       }
      }
     },
     "metadata": {},
     "output_type": "display_data"
    }
   ],
   "source": [
    "# Customize the layout (optional)\n",
    "fig = px.scatter_3d(cl2, x = 'F2', y = 'F3', z = 'F1', color = 'AG4datos_sel_sinT', hover_data = ['Ciudades', 'AG4datos_sel_sinT'])\n",
    "fig.update_layout(title='3D Scatter Plot', scene=dict(xaxis_title='F1', yaxis_title='F2', zaxis_title='F3'))\n",
    "\n",
    "# Show the plot\n",
    "fig.show()"
   ]
  },
  {
   "cell_type": "code",
   "execution_count": 71,
   "metadata": {},
   "outputs": [
    {
     "data": {
      "application/vnd.plotly.v1+json": {
       "config": {
        "plotlyServerURL": "https://plot.ly"
       },
       "data": [
        {
         "customdata": [
          [
           "Albacete",
           1
          ],
          [
           "Alcalá de Henares",
           0
          ],
          [
           "Alcobendas",
           0
          ],
          [
           "Alcorcón",
           0
          ],
          [
           "Algeciras",
           1
          ],
          [
           "Alicante/Alacant",
           3
          ],
          [
           "Almería",
           1
          ],
          [
           "Ávila",
           0
          ],
          [
           "Badajoz",
           1
          ],
          [
           "Badalona",
           1
          ],
          [
           "Barcelona",
           3
          ],
          [
           "Burgos",
           0
          ],
          [
           "Cáceres",
           2
          ],
          [
           "Cádiz",
           0
          ],
          [
           "Cartagena",
           1
          ],
          [
           "Castelló de la Plana",
           0
          ],
          [
           "Ceuta",
           0
          ],
          [
           "Ciudad Real",
           0
          ],
          [
           "Córdoba",
           3
          ],
          [
           "Coruña, A",
           1
          ],
          [
           "Cuenca",
           0
          ],
          [
           "Dos Hermanas",
           1
          ],
          [
           "Elche/Elx",
           1
          ],
          [
           "Fuenlabrada",
           0
          ],
          [
           "Getafe",
           0
          ],
          [
           "Gijón",
           1
          ],
          [
           "Girona",
           0
          ],
          [
           "Granada",
           1
          ],
          [
           "Guadalajara",
           0
          ],
          [
           "Hospitalet de Llobregat, L'",
           0
          ],
          [
           "Huelva",
           2
          ],
          [
           "Huesca",
           0
          ],
          [
           "Jaén",
           0
          ],
          [
           "Jerez de la Frontera",
           1
          ],
          [
           "Palmas de Gran Canaria, Las",
           3
          ],
          [
           "Leganés",
           2
          ],
          [
           "León",
           0
          ],
          [
           "Lleida",
           0
          ],
          [
           "Logroño",
           0
          ],
          [
           "Lugo",
           0
          ],
          [
           "Madrid",
           1
          ],
          [
           "Málaga",
           3
          ],
          [
           "Marbella",
           1
          ],
          [
           "Mataró",
           0
          ],
          [
           "Melilla",
           0
          ],
          [
           "Móstoles",
           0
          ],
          [
           "Murcia",
           1
          ],
          [
           "Ourense",
           3
          ],
          [
           "Oviedo",
           1
          ],
          [
           "Palencia",
           0
          ],
          [
           "Palma de Mallorca",
           1
          ],
          [
           "Parla",
           2
          ],
          [
           "Pontevedra",
           0
          ],
          [
           "Sabadell",
           3
          ],
          [
           "Salamanca",
           0
          ],
          [
           "San Cristóbal de La Laguna",
           3
          ],
          [
           "Santa Coloma de Gramenet",
           0
          ],
          [
           "Santa Cruz de Tenerife",
           3
          ],
          [
           "Santander",
           1
          ],
          [
           "Segovia",
           0
          ],
          [
           "Sevilla",
           1
          ],
          [
           "Soria",
           0
          ],
          [
           "Tarragona",
           0
          ],
          [
           "Terrassa",
           3
          ],
          [
           "Teruel",
           0
          ],
          [
           "Toledo",
           2
          ],
          [
           "Torrejón de Ardoz",
           2
          ],
          [
           "Valencia",
           3
          ],
          [
           "Valladolid",
           1
          ],
          [
           "Vigo",
           1
          ],
          [
           "Zamora",
           2
          ],
          [
           "Zaragoza",
           3
          ]
         ],
         "hovertemplate": "F2=%{x}<br>F3=%{y}<br>F4=%{z}<br>Ciudades=%{customdata[0]}<br>AG4datos_sel=%{marker.color}<extra></extra>",
         "legendgroup": "",
         "marker": {
          "color": [
           1,
           0,
           0,
           0,
           1,
           3,
           1,
           0,
           1,
           1,
           3,
           0,
           2,
           0,
           1,
           0,
           0,
           0,
           3,
           1,
           0,
           1,
           1,
           0,
           0,
           1,
           0,
           1,
           0,
           0,
           2,
           0,
           0,
           1,
           3,
           2,
           0,
           0,
           0,
           0,
           1,
           3,
           1,
           0,
           0,
           0,
           1,
           3,
           1,
           0,
           1,
           2,
           0,
           3,
           0,
           3,
           0,
           3,
           1,
           0,
           1,
           0,
           0,
           3,
           0,
           2,
           2,
           3,
           1,
           1,
           2,
           3
          ],
          "coloraxis": "coloraxis",
          "symbol": "circle"
         },
         "mode": "markers",
         "name": "",
         "scene": "scene",
         "showlegend": false,
         "type": "scatter3d",
         "x": [
          1.0005413726778054,
          0.3901242197901129,
          0.30772233638719076,
          0.026269105026739487,
          1.4154318819216931,
          2.7837402719162263,
          0.7090577022512827,
          -1.0360055172775158,
          1.1784166571270247,
          0.46451962168300237,
          3.184224203770229,
          0.34693111347931155,
          -3.742632821275011,
          0.6752069330381271,
          -1.9710543504555553,
          -2.2700235894066103,
          -0.13243738782679615,
          -1.9024255313846585,
          3.9412502663949054,
          0.9335336425711186,
          0.7701733971752964,
          -1.4168594863942068,
          0.5683629872104402,
          -1.0422771334738776,
          -0.20497481626652742,
          -0.8414052601390785,
          3.155852392820055,
          -0.6402540069463338,
          0.1316888695091864,
          0.5249887171510375,
          -2.663982401458651,
          1.2774257495338939,
          0.39766864473285213,
          -1.5386293796130475,
          2.20808038246914,
          -4.102865573412737,
          -1.1285418394652487,
          0.3766598090641662,
          1.4271317522511595,
          1.7985942936123909,
          -0.03749430483481486,
          2.3895949937317873,
          1.0346216691994523,
          -0.4514391567033692,
          -1.5994557484953134,
          -1.0997152877343428,
          -0.3881263722052215,
          3.98248559096408,
          0.16427586261852806,
          -0.7789646457207563,
          0.443239711187512,
          -4.9805111037150755,
          -1.3709892908112284,
          2.6898729182581818,
          -0.4244534177941011,
          6.092947923160924,
          -2.025688018563016,
          4.458743170753999,
          -0.11959236612184398,
          -0.3611107571988634,
          -0.913584117301941,
          -0.32370049701804493,
          -1.6012278535229312,
          3.5550713640054554,
          -0.42011434210978926,
          -4.430534133980448,
          -6.894234680403237,
          0.6901176553607791,
          -0.3606089819241637,
          -0.9021125913529859,
          -2.9443241885886566,
          1.5677837680886535
         ],
         "y": [
          0.30428133986328587,
          -0.2510607211102373,
          -1.9503490646931214,
          -1.0328104380393508,
          -0.2504772503381535,
          1.610789796655089,
          1.0201148719364608,
          -1.863909238195581,
          0.3027933154303188,
          0.6514817547782596,
          3.626869319100663,
          -0.19395286214452634,
          -0.8490110195674653,
          -1.1280890324839168,
          1.5708850323646555,
          0.35136004910808677,
          -2.379416658271981,
          -1.664202801487145,
          1.8492691757988862,
          0.920935229079108,
          -2.113404435523043,
          -0.17133890913843586,
          0.9384244315116197,
          -0.27438647561638,
          -0.18374445789384664,
          1.0067596900034033,
          -0.7601793544105311,
          1.1434416714885312,
          -1.5947498604083612,
          0.2859614951609861,
          -0.43499326434672136,
          -2.6734015261624324,
          -0.4064180389440127,
          0.9049611875347063,
          2.0777250917470242,
          -0.537756826363774,
          -0.17447424418201396,
          -0.519896003707762,
          -0.7174315734999379,
          -0.22468931472665143,
          4.223181514177035,
          2.533750293843073,
          0.7394303856379467,
          -0.5165935268276355,
          -2.181452258318301,
          -0.27187497115181014,
          2.60356084163913,
          0.5009210056417235,
          0.40947629770618477,
          -1.6362992462667372,
          2.0127695007634174,
          -1.6983230498468789,
          -1.1062136694465008,
          1.003729578783966,
          -0.009723683233405389,
          0.88109266095344,
          -1.2477519502936916,
          1.026451415290157,
          0.24215418401369393,
          -2.3929139923805263,
          2.707092925570186,
          -3.3102352618750848,
          -0.432634421067726,
          1.1766875519283642,
          -3.0527985596281013,
          -1.9193460212907385,
          -2.7986990327463053,
          2.7059310131608285,
          0.9555614584217239,
          2.0505805537944752,
          -1.6397361002062512,
          2.226314482946651
         ],
         "z": [
          0.601666914308696,
          -0.9223845502980111,
          0.8837950324623681,
          -1.018107977989472,
          1.5005455826705738,
          0.7927824191348541,
          0.6141088957974261,
          0.41245761161057193,
          1.7749085465738306,
          -0.22129289629830692,
          -0.7836684592729823,
          -0.960517222271977,
          0.33620405982524826,
          -1.8672138208820441,
          0.9350353496997887,
          0.0354903681247961,
          0.2805424778354364,
          0.18572830021262612,
          1.376234619177059,
          -0.20399262199109083,
          -0.16276232948860278,
          0.951934754163386,
          1.1700547282506126,
          -1.2427081998329816,
          -0.36097979800129004,
          0.17396036022443573,
          0.4804964401532612,
          -0.20410438303021367,
          -0.015139610571750449,
          -1.4898125136563103,
          -0.7904920723586983,
          -0.9863379930490778,
          0.05961457543502755,
          0.7181618053671314,
          0.39672806547378175,
          -1.0913317701918308,
          -0.6345458356543591,
          -0.47193527972961374,
          -1.4464243103348835,
          -0.32664390440720836,
          -0.9061071877521308,
          0.5611871334692157,
          1.2514795587636105,
          0.17680870969819262,
          0.03586698247121005,
          -0.3102011224159171,
          0.7801813656320085,
          1.4917378061750326,
          -0.4420640462396776,
          -0.2285897095828793,
          0.5376416387469467,
          -0.5091125519987919,
          0.7943839190058997,
          0.10191599621641913,
          -1.1528042875792268,
          1.1971581486948892,
          -0.2725577655790064,
          0.3851523088562995,
          0.009792129447321713,
          -0.3894414479051639,
          -0.6723400869563103,
          -0.3673481752621953,
          0.35708212402114897,
          0.4984406095287469,
          0.2695033099812782,
          0.8350585943751037,
          -1.6821965157591119,
          -0.9700811204207268,
          -0.3973071772006696,
          1.172823105799212,
          -0.1247981508743159,
          -0.5113194525466259
         ]
        }
       ],
       "layout": {
        "coloraxis": {
         "colorbar": {
          "title": {
           "text": "AG4datos_sel"
          }
         },
         "colorscale": [
          [
           0,
           "#0d0887"
          ],
          [
           0.1111111111111111,
           "#46039f"
          ],
          [
           0.2222222222222222,
           "#7201a8"
          ],
          [
           0.3333333333333333,
           "#9c179e"
          ],
          [
           0.4444444444444444,
           "#bd3786"
          ],
          [
           0.5555555555555556,
           "#d8576b"
          ],
          [
           0.6666666666666666,
           "#ed7953"
          ],
          [
           0.7777777777777778,
           "#fb9f3a"
          ],
          [
           0.8888888888888888,
           "#fdca26"
          ],
          [
           1,
           "#f0f921"
          ]
         ]
        },
        "legend": {
         "tracegroupgap": 0
        },
        "margin": {
         "t": 60
        },
        "scene": {
         "domain": {
          "x": [
           0,
           1
          ],
          "y": [
           0,
           1
          ]
         },
         "xaxis": {
          "title": {
           "text": "F1"
          }
         },
         "yaxis": {
          "title": {
           "text": "F2"
          }
         },
         "zaxis": {
          "title": {
           "text": "F3"
          }
         }
        },
        "template": {
         "data": {
          "bar": [
           {
            "error_x": {
             "color": "#2a3f5f"
            },
            "error_y": {
             "color": "#2a3f5f"
            },
            "marker": {
             "line": {
              "color": "#E5ECF6",
              "width": 0.5
             },
             "pattern": {
              "fillmode": "overlay",
              "size": 10,
              "solidity": 0.2
             }
            },
            "type": "bar"
           }
          ],
          "barpolar": [
           {
            "marker": {
             "line": {
              "color": "#E5ECF6",
              "width": 0.5
             },
             "pattern": {
              "fillmode": "overlay",
              "size": 10,
              "solidity": 0.2
             }
            },
            "type": "barpolar"
           }
          ],
          "carpet": [
           {
            "aaxis": {
             "endlinecolor": "#2a3f5f",
             "gridcolor": "white",
             "linecolor": "white",
             "minorgridcolor": "white",
             "startlinecolor": "#2a3f5f"
            },
            "baxis": {
             "endlinecolor": "#2a3f5f",
             "gridcolor": "white",
             "linecolor": "white",
             "minorgridcolor": "white",
             "startlinecolor": "#2a3f5f"
            },
            "type": "carpet"
           }
          ],
          "choropleth": [
           {
            "colorbar": {
             "outlinewidth": 0,
             "ticks": ""
            },
            "type": "choropleth"
           }
          ],
          "contour": [
           {
            "colorbar": {
             "outlinewidth": 0,
             "ticks": ""
            },
            "colorscale": [
             [
              0,
              "#0d0887"
             ],
             [
              0.1111111111111111,
              "#46039f"
             ],
             [
              0.2222222222222222,
              "#7201a8"
             ],
             [
              0.3333333333333333,
              "#9c179e"
             ],
             [
              0.4444444444444444,
              "#bd3786"
             ],
             [
              0.5555555555555556,
              "#d8576b"
             ],
             [
              0.6666666666666666,
              "#ed7953"
             ],
             [
              0.7777777777777778,
              "#fb9f3a"
             ],
             [
              0.8888888888888888,
              "#fdca26"
             ],
             [
              1,
              "#f0f921"
             ]
            ],
            "type": "contour"
           }
          ],
          "contourcarpet": [
           {
            "colorbar": {
             "outlinewidth": 0,
             "ticks": ""
            },
            "type": "contourcarpet"
           }
          ],
          "heatmap": [
           {
            "colorbar": {
             "outlinewidth": 0,
             "ticks": ""
            },
            "colorscale": [
             [
              0,
              "#0d0887"
             ],
             [
              0.1111111111111111,
              "#46039f"
             ],
             [
              0.2222222222222222,
              "#7201a8"
             ],
             [
              0.3333333333333333,
              "#9c179e"
             ],
             [
              0.4444444444444444,
              "#bd3786"
             ],
             [
              0.5555555555555556,
              "#d8576b"
             ],
             [
              0.6666666666666666,
              "#ed7953"
             ],
             [
              0.7777777777777778,
              "#fb9f3a"
             ],
             [
              0.8888888888888888,
              "#fdca26"
             ],
             [
              1,
              "#f0f921"
             ]
            ],
            "type": "heatmap"
           }
          ],
          "heatmapgl": [
           {
            "colorbar": {
             "outlinewidth": 0,
             "ticks": ""
            },
            "colorscale": [
             [
              0,
              "#0d0887"
             ],
             [
              0.1111111111111111,
              "#46039f"
             ],
             [
              0.2222222222222222,
              "#7201a8"
             ],
             [
              0.3333333333333333,
              "#9c179e"
             ],
             [
              0.4444444444444444,
              "#bd3786"
             ],
             [
              0.5555555555555556,
              "#d8576b"
             ],
             [
              0.6666666666666666,
              "#ed7953"
             ],
             [
              0.7777777777777778,
              "#fb9f3a"
             ],
             [
              0.8888888888888888,
              "#fdca26"
             ],
             [
              1,
              "#f0f921"
             ]
            ],
            "type": "heatmapgl"
           }
          ],
          "histogram": [
           {
            "marker": {
             "pattern": {
              "fillmode": "overlay",
              "size": 10,
              "solidity": 0.2
             }
            },
            "type": "histogram"
           }
          ],
          "histogram2d": [
           {
            "colorbar": {
             "outlinewidth": 0,
             "ticks": ""
            },
            "colorscale": [
             [
              0,
              "#0d0887"
             ],
             [
              0.1111111111111111,
              "#46039f"
             ],
             [
              0.2222222222222222,
              "#7201a8"
             ],
             [
              0.3333333333333333,
              "#9c179e"
             ],
             [
              0.4444444444444444,
              "#bd3786"
             ],
             [
              0.5555555555555556,
              "#d8576b"
             ],
             [
              0.6666666666666666,
              "#ed7953"
             ],
             [
              0.7777777777777778,
              "#fb9f3a"
             ],
             [
              0.8888888888888888,
              "#fdca26"
             ],
             [
              1,
              "#f0f921"
             ]
            ],
            "type": "histogram2d"
           }
          ],
          "histogram2dcontour": [
           {
            "colorbar": {
             "outlinewidth": 0,
             "ticks": ""
            },
            "colorscale": [
             [
              0,
              "#0d0887"
             ],
             [
              0.1111111111111111,
              "#46039f"
             ],
             [
              0.2222222222222222,
              "#7201a8"
             ],
             [
              0.3333333333333333,
              "#9c179e"
             ],
             [
              0.4444444444444444,
              "#bd3786"
             ],
             [
              0.5555555555555556,
              "#d8576b"
             ],
             [
              0.6666666666666666,
              "#ed7953"
             ],
             [
              0.7777777777777778,
              "#fb9f3a"
             ],
             [
              0.8888888888888888,
              "#fdca26"
             ],
             [
              1,
              "#f0f921"
             ]
            ],
            "type": "histogram2dcontour"
           }
          ],
          "mesh3d": [
           {
            "colorbar": {
             "outlinewidth": 0,
             "ticks": ""
            },
            "type": "mesh3d"
           }
          ],
          "parcoords": [
           {
            "line": {
             "colorbar": {
              "outlinewidth": 0,
              "ticks": ""
             }
            },
            "type": "parcoords"
           }
          ],
          "pie": [
           {
            "automargin": true,
            "type": "pie"
           }
          ],
          "scatter": [
           {
            "fillpattern": {
             "fillmode": "overlay",
             "size": 10,
             "solidity": 0.2
            },
            "type": "scatter"
           }
          ],
          "scatter3d": [
           {
            "line": {
             "colorbar": {
              "outlinewidth": 0,
              "ticks": ""
             }
            },
            "marker": {
             "colorbar": {
              "outlinewidth": 0,
              "ticks": ""
             }
            },
            "type": "scatter3d"
           }
          ],
          "scattercarpet": [
           {
            "marker": {
             "colorbar": {
              "outlinewidth": 0,
              "ticks": ""
             }
            },
            "type": "scattercarpet"
           }
          ],
          "scattergeo": [
           {
            "marker": {
             "colorbar": {
              "outlinewidth": 0,
              "ticks": ""
             }
            },
            "type": "scattergeo"
           }
          ],
          "scattergl": [
           {
            "marker": {
             "colorbar": {
              "outlinewidth": 0,
              "ticks": ""
             }
            },
            "type": "scattergl"
           }
          ],
          "scattermapbox": [
           {
            "marker": {
             "colorbar": {
              "outlinewidth": 0,
              "ticks": ""
             }
            },
            "type": "scattermapbox"
           }
          ],
          "scatterpolar": [
           {
            "marker": {
             "colorbar": {
              "outlinewidth": 0,
              "ticks": ""
             }
            },
            "type": "scatterpolar"
           }
          ],
          "scatterpolargl": [
           {
            "marker": {
             "colorbar": {
              "outlinewidth": 0,
              "ticks": ""
             }
            },
            "type": "scatterpolargl"
           }
          ],
          "scatterternary": [
           {
            "marker": {
             "colorbar": {
              "outlinewidth": 0,
              "ticks": ""
             }
            },
            "type": "scatterternary"
           }
          ],
          "surface": [
           {
            "colorbar": {
             "outlinewidth": 0,
             "ticks": ""
            },
            "colorscale": [
             [
              0,
              "#0d0887"
             ],
             [
              0.1111111111111111,
              "#46039f"
             ],
             [
              0.2222222222222222,
              "#7201a8"
             ],
             [
              0.3333333333333333,
              "#9c179e"
             ],
             [
              0.4444444444444444,
              "#bd3786"
             ],
             [
              0.5555555555555556,
              "#d8576b"
             ],
             [
              0.6666666666666666,
              "#ed7953"
             ],
             [
              0.7777777777777778,
              "#fb9f3a"
             ],
             [
              0.8888888888888888,
              "#fdca26"
             ],
             [
              1,
              "#f0f921"
             ]
            ],
            "type": "surface"
           }
          ],
          "table": [
           {
            "cells": {
             "fill": {
              "color": "#EBF0F8"
             },
             "line": {
              "color": "white"
             }
            },
            "header": {
             "fill": {
              "color": "#C8D4E3"
             },
             "line": {
              "color": "white"
             }
            },
            "type": "table"
           }
          ]
         },
         "layout": {
          "annotationdefaults": {
           "arrowcolor": "#2a3f5f",
           "arrowhead": 0,
           "arrowwidth": 1
          },
          "autotypenumbers": "strict",
          "coloraxis": {
           "colorbar": {
            "outlinewidth": 0,
            "ticks": ""
           }
          },
          "colorscale": {
           "diverging": [
            [
             0,
             "#8e0152"
            ],
            [
             0.1,
             "#c51b7d"
            ],
            [
             0.2,
             "#de77ae"
            ],
            [
             0.3,
             "#f1b6da"
            ],
            [
             0.4,
             "#fde0ef"
            ],
            [
             0.5,
             "#f7f7f7"
            ],
            [
             0.6,
             "#e6f5d0"
            ],
            [
             0.7,
             "#b8e186"
            ],
            [
             0.8,
             "#7fbc41"
            ],
            [
             0.9,
             "#4d9221"
            ],
            [
             1,
             "#276419"
            ]
           ],
           "sequential": [
            [
             0,
             "#0d0887"
            ],
            [
             0.1111111111111111,
             "#46039f"
            ],
            [
             0.2222222222222222,
             "#7201a8"
            ],
            [
             0.3333333333333333,
             "#9c179e"
            ],
            [
             0.4444444444444444,
             "#bd3786"
            ],
            [
             0.5555555555555556,
             "#d8576b"
            ],
            [
             0.6666666666666666,
             "#ed7953"
            ],
            [
             0.7777777777777778,
             "#fb9f3a"
            ],
            [
             0.8888888888888888,
             "#fdca26"
            ],
            [
             1,
             "#f0f921"
            ]
           ],
           "sequentialminus": [
            [
             0,
             "#0d0887"
            ],
            [
             0.1111111111111111,
             "#46039f"
            ],
            [
             0.2222222222222222,
             "#7201a8"
            ],
            [
             0.3333333333333333,
             "#9c179e"
            ],
            [
             0.4444444444444444,
             "#bd3786"
            ],
            [
             0.5555555555555556,
             "#d8576b"
            ],
            [
             0.6666666666666666,
             "#ed7953"
            ],
            [
             0.7777777777777778,
             "#fb9f3a"
            ],
            [
             0.8888888888888888,
             "#fdca26"
            ],
            [
             1,
             "#f0f921"
            ]
           ]
          },
          "colorway": [
           "#636efa",
           "#EF553B",
           "#00cc96",
           "#ab63fa",
           "#FFA15A",
           "#19d3f3",
           "#FF6692",
           "#B6E880",
           "#FF97FF",
           "#FECB52"
          ],
          "font": {
           "color": "#2a3f5f"
          },
          "geo": {
           "bgcolor": "white",
           "lakecolor": "white",
           "landcolor": "#E5ECF6",
           "showlakes": true,
           "showland": true,
           "subunitcolor": "white"
          },
          "hoverlabel": {
           "align": "left"
          },
          "hovermode": "closest",
          "mapbox": {
           "style": "light"
          },
          "paper_bgcolor": "white",
          "plot_bgcolor": "#E5ECF6",
          "polar": {
           "angularaxis": {
            "gridcolor": "white",
            "linecolor": "white",
            "ticks": ""
           },
           "bgcolor": "#E5ECF6",
           "radialaxis": {
            "gridcolor": "white",
            "linecolor": "white",
            "ticks": ""
           }
          },
          "scene": {
           "xaxis": {
            "backgroundcolor": "#E5ECF6",
            "gridcolor": "white",
            "gridwidth": 2,
            "linecolor": "white",
            "showbackground": true,
            "ticks": "",
            "zerolinecolor": "white"
           },
           "yaxis": {
            "backgroundcolor": "#E5ECF6",
            "gridcolor": "white",
            "gridwidth": 2,
            "linecolor": "white",
            "showbackground": true,
            "ticks": "",
            "zerolinecolor": "white"
           },
           "zaxis": {
            "backgroundcolor": "#E5ECF6",
            "gridcolor": "white",
            "gridwidth": 2,
            "linecolor": "white",
            "showbackground": true,
            "ticks": "",
            "zerolinecolor": "white"
           }
          },
          "shapedefaults": {
           "line": {
            "color": "#2a3f5f"
           }
          },
          "ternary": {
           "aaxis": {
            "gridcolor": "white",
            "linecolor": "white",
            "ticks": ""
           },
           "baxis": {
            "gridcolor": "white",
            "linecolor": "white",
            "ticks": ""
           },
           "bgcolor": "#E5ECF6",
           "caxis": {
            "gridcolor": "white",
            "linecolor": "white",
            "ticks": ""
           }
          },
          "title": {
           "x": 0.05
          },
          "xaxis": {
           "automargin": true,
           "gridcolor": "white",
           "linecolor": "white",
           "ticks": "",
           "title": {
            "standoff": 15
           },
           "zerolinecolor": "white",
           "zerolinewidth": 2
          },
          "yaxis": {
           "automargin": true,
           "gridcolor": "white",
           "linecolor": "white",
           "ticks": "",
           "title": {
            "standoff": 15
           },
           "zerolinecolor": "white",
           "zerolinewidth": 2
          }
         }
        },
        "title": {
         "text": "3D Scatter Plot"
        }
       }
      }
     },
     "metadata": {},
     "output_type": "display_data"
    }
   ],
   "source": [
    "# Customize the layout (optional)\n",
    "fig = px.scatter_3d(cl1, x = 'F2', y = 'F3', z = 'F4', color = 'AG4datos_sel', hover_data = ['Ciudades', 'AG4datos_sel'])\n",
    "fig.update_layout(title='3D Scatter Plot', scene=dict(xaxis_title='F1', yaxis_title='F2', zaxis_title='F3'))\n",
    "\n",
    "# Show the plot\n",
    "fig.show()"
   ]
  },
  {
   "cell_type": "code",
   "execution_count": null,
   "metadata": {},
   "outputs": [],
   "source": [
    "## How to identify a list of cluster"
   ]
  },
  {
   "cell_type": "code",
   "execution_count": 208,
   "metadata": {},
   "outputs": [
    {
     "data": {
      "text/plain": [
       "1               Alcalá de Henares\n",
       "2                      Alcobendas\n",
       "3                        Alcorcón\n",
       "7                           Ávila\n",
       "11                         Burgos\n",
       "13                          Cádiz\n",
       "15           Castelló de la Plana\n",
       "16                          Ceuta\n",
       "17                    Ciudad Real\n",
       "20                         Cuenca\n",
       "23                    Fuenlabrada\n",
       "24                         Getafe\n",
       "26                         Girona\n",
       "28                    Guadalajara\n",
       "29    Hospitalet de Llobregat, L'\n",
       "31                         Huesca\n",
       "32                           Jaén\n",
       "36                           León\n",
       "37                         Lleida\n",
       "38                        Logroño\n",
       "39                           Lugo\n",
       "43                         Mataró\n",
       "44                        Melilla\n",
       "45                       Móstoles\n",
       "49                       Palencia\n",
       "52                     Pontevedra\n",
       "54                      Salamanca\n",
       "56       Santa Coloma de Gramenet\n",
       "59                        Segovia\n",
       "61                          Soria\n",
       "62                      Tarragona\n",
       "64                         Teruel\n",
       "Name: Ciudades, dtype: object"
      ]
     },
     "execution_count": 208,
     "metadata": {},
     "output_type": "execute_result"
    }
   ],
   "source": [
    "## Seleccionar grupos para mostrar en el foro.\n",
    "cl1.query('AG4datos_sel == 0')['Ciudades']"
   ]
  },
  {
   "cell_type": "markdown",
   "metadata": {},
   "source": [
    "# Necesito ahora definir los dataset que voy a evaluar. "
   ]
  },
  {
   "cell_type": "markdown",
   "metadata": {},
   "source": [
    "## Evaluar "
   ]
  },
  {
   "cell_type": "markdown",
   "metadata": {},
   "source": [
    "## Buena separacion. Factores del DF DATOS PTRANS 31 variables. Lista seleccion 1. En el Script de R"
   ]
  },
  {
   "cell_type": "markdown",
   "metadata": {},
   "source": [
    "# Los datos de los factores teneos que estandarizarlos"
   ]
  },
  {
   "cell_type": "code",
   "execution_count": 7,
   "metadata": {},
   "outputs": [],
   "source": [
    "datos_Ptrans = pd.read_csv(r\"C:\\Users\\crist\\Documents\\GitHub\\manifolds\\ciudades\\datos\\cluster\\df_datos_PTrans.csv\", encoding = \"ISO-8859-1\", index_col = [0] )\n"
   ]
  },
  {
   "cell_type": "code",
   "execution_count": 10,
   "metadata": {},
   "outputs": [],
   "source": [
    "datos_Ptrans_test1 = datos_Ptrans.copy()\n",
    "datos_Ptrans_test2 = datos_Ptrans.copy()\n",
    "datos_Ptrans_test3 = datos_Ptrans.copy()"
   ]
  },
  {
   "cell_type": "code",
   "execution_count": 9,
   "metadata": {},
   "outputs": [],
   "source": [
    "datos_Ptrans_test1['F1'] = datos_Ptrans_test1['LSI'] * 0.810 + datos_Ptrans_test1[\"TE\"] * 0.924 + datos_Ptrans_test1[\"T_Viviendas\"] * 0.979 + datos_Ptrans_test1[\"PobT\"] * 0.979 + datos_Ptrans_test1[\"Vehiculos\"] * 0.965 \n",
    "datos_Ptrans_test1['F2'] = datos_Ptrans_test1['ED'] * 0.930 + datos_Ptrans_test1['AREA_MN'] * -0.878\n",
    "datos_Ptrans_test1['F3'] = datos_Ptrans_test1['SHEI'] * 0.991 + datos_Ptrans_test1['SIDI'] * 0.951 \n",
    "datos_Ptrans_test1['F4'] = datos_Ptrans_test1['LPI'] * -0.821 + datos_Ptrans_test1['AREA_AM'] * -0.862 + datos_Ptrans_test1['MESH'] * -0.881 + datos_Ptrans_test1['SPLIT'] * 0.804 + datos_Ptrans_test1['DIVISION'] * 0.793\n",
    "datos_Ptrans_test1['F5'] = datos_Ptrans_test1['RES_UNI'] * -0.784"
   ]
  },
  {
   "cell_type": "code",
   "execution_count": 9,
   "metadata": {},
   "outputs": [
    {
     "ename": "NameError",
     "evalue": "name 'datos_Ptrans_test1' is not defined",
     "output_type": "error",
     "traceback": [
      "\u001b[1;31m---------------------------------------------------------------------------\u001b[0m",
      "\u001b[1;31mNameError\u001b[0m                                 Traceback (most recent call last)",
      "\u001b[1;32mc:\\Users\\crist\\Documents\\GitHub\\manifolds\\ciudades\\cluster_function\\cluster_function_main.ipynb Cell 38\u001b[0m line \u001b[0;36m1\n\u001b[1;32m----> <a href='vscode-notebook-cell:/c%3A/Users/crist/Documents/GitHub/manifolds/ciudades/cluster_function/cluster_function_main.ipynb#X60sZmlsZQ%3D%3D?line=0'>1</a>\u001b[0m datos_Ptrans_test1_sel \u001b[39m=\u001b[39m datos_Ptrans_test1\u001b[39m.\u001b[39mloc[:,[\u001b[39m'\u001b[39m\u001b[39mF1\u001b[39m\u001b[39m'\u001b[39m,\u001b[39m'\u001b[39m\u001b[39mF2\u001b[39m\u001b[39m'\u001b[39m,\u001b[39m'\u001b[39m\u001b[39mF3\u001b[39m\u001b[39m'\u001b[39m,\u001b[39m'\u001b[39m\u001b[39mF4\u001b[39m\u001b[39m'\u001b[39m,\u001b[39m'\u001b[39m\u001b[39mF5\u001b[39m\u001b[39m'\u001b[39m]]\n",
      "\u001b[1;31mNameError\u001b[0m: name 'datos_Ptrans_test1' is not defined"
     ]
    }
   ],
   "source": [
    "datos_Ptrans_test1_sel = datos_Ptrans_test1.loc[:,['F1','F2','F3','F4','F5']]"
   ]
  },
  {
   "cell_type": "code",
   "execution_count": null,
   "metadata": {},
   "outputs": [],
   "source": [
    "datos_Ptrans_test2['F1'] = datos_Ptrans_test2['AREA_MN'] * 0.815 + datos_Ptrans_test2[\"ED\"] * 0.913 + datos_Ptrans_test2[\"RES_PLU\"]  * 0.654 \n",
    "datos_Ptrans_test2['F2'] = datos_Ptrans_test2['LPI'] * -0.848 + datos_Ptrans_test2['SPLIT'] * 0.834 + datos_Ptrans_test2['MESH'] * -0.764\n",
    "datos_Ptrans_test2['F3'] = datos_Ptrans_test2['LSI'] * 0.755 + datos_Ptrans_test2['T_Viviendas'] * 0.957 \n",
    "datos_Ptrans_test2['F4'] = datos_Ptrans_test2['RES_UNI'] * 0.817 \n",
    "datos_Ptrans_test2['F5'] = datos_Ptrans_test2['SIDI'] * 0.751 "
   ]
  },
  {
   "cell_type": "code",
   "execution_count": null,
   "metadata": {},
   "outputs": [],
   "source": [
    "# Probar uno con el total de viviendas, Area_MN, Diversidad, Renta, total_viviendas,SIDI,RES_UNI, DIVISION, ED_SING, ED\n",
    "datos_Ptrans_test3 = datos_Ptrans_test3[:,['AREA_MN', \"ED\", \"RES_PLU\",'T_Viviendas','RES_UNI','SIDI','ED',\"RNMDP_2020\" ]]  \n"
   ]
  },
  {
   "cell_type": "markdown",
   "metadata": {},
   "source": [
    "## Aplicar el analisis cluster a cada uno de estos dataset. Y luego representar los resultados en streamlit."
   ]
  },
  {
   "cell_type": "code",
   "execution_count": null,
   "metadata": {},
   "outputs": [],
   "source": []
  },
  {
   "cell_type": "code",
   "execution_count": null,
   "metadata": {},
   "outputs": [],
   "source": []
  }
 ],
 "metadata": {
  "kernelspec": {
   "display_name": "datamecum",
   "language": "python",
   "name": "python3"
  },
  "language_info": {
   "codemirror_mode": {
    "name": "ipython",
    "version": 3
   },
   "file_extension": ".py",
   "mimetype": "text/x-python",
   "name": "python",
   "nbconvert_exporter": "python",
   "pygments_lexer": "ipython3",
   "version": "3.9.13"
  }
 },
 "nbformat": 4,
 "nbformat_minor": 2
}
