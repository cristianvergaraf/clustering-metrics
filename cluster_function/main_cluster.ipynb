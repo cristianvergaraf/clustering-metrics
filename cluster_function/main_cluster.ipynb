{
 "cells": [
  {
   "cell_type": "code",
   "execution_count": 1,
   "metadata": {},
   "outputs": [],
   "source": [
    "import pandas as pd\n",
    "from sklearn.metrics import silhouette_score\n",
    "import copy\n",
    "from sklearn.cluster import AgglomerativeClustering\n",
    "from sklearn.cluster import KMeans\n",
    "import copy\n",
    "import cluster_function as cf\n",
    "from sklearn.preprocessing import StandardScaler"
   ]
  },
  {
   "cell_type": "code",
   "execution_count": 2,
   "metadata": {},
   "outputs": [],
   "source": [
    "datos_Ptrans = pd.read_csv(r\"C:\\Users\\crist\\Documents\\GitHub\\manifolds\\ciudades\\datos\\cluster\\df_datos_PTrans.csv\", encoding = \"ISO-8859-1\", index_col = [0] )\n",
    "datos_Ptrans_test1 = datos_Ptrans.copy()\n",
    "datos_Ptrans_test2 = datos_Ptrans.copy()\n",
    "datos_Ptrans_test3 = datos_Ptrans.copy()"
   ]
  },
  {
   "cell_type": "code",
   "execution_count": 3,
   "metadata": {},
   "outputs": [],
   "source": [
    "datos_Ptrans_test1['F1'] = datos_Ptrans_test1['LSI'] * 0.810 + datos_Ptrans_test1[\"TE\"] * 0.924 + datos_Ptrans_test1[\"T_Viviendas\"] * 0.979 + datos_Ptrans_test1[\"PobT\"] * 0.979 + datos_Ptrans_test1[\"Vehiculos\"] * 0.965 \n",
    "datos_Ptrans_test1['F2'] = datos_Ptrans_test1['ED'] * 0.930 + datos_Ptrans_test1['AREA_MN'] * -0.878\n",
    "datos_Ptrans_test1['F3'] = datos_Ptrans_test1['SHEI'] * 0.991 + datos_Ptrans_test1['SIDI'] * 0.951 \n",
    "datos_Ptrans_test1['F4'] = datos_Ptrans_test1['LPI'] * -0.821 + datos_Ptrans_test1['AREA_AM'] * -0.862 + datos_Ptrans_test1['MESH'] * -0.881 + datos_Ptrans_test1['SPLIT'] * 0.804 + datos_Ptrans_test1['DIVISION'] * 0.793\n",
    "datos_Ptrans_test1['F5'] = datos_Ptrans_test1['RES_UNI'] * -0.784"
   ]
  },
  {
   "cell_type": "code",
   "execution_count": 7,
   "metadata": {},
   "outputs": [],
   "source": [
    "datos_Ptrans_test1_TA = datos_Ptrans_test1.query('Ciudades != \"Torrejón de Ardoz\"').copy()"
   ]
  },
  {
   "cell_type": "code",
   "execution_count": 8,
   "metadata": {},
   "outputs": [],
   "source": [
    "# INCORPORAR AL ANALISIS DE LOS RESULTADOS NO ESTANDARIZADOS.\n",
    "\n",
    "datos_Ptrans_test1_sel = datos_Ptrans_test1.loc[:,['F1','F2','F3','F4','F5']]\n",
    "datos_Ptrans_test1_TA_sel = datos_Ptrans_test1_TA.loc[:,['F1','F2','F3','F4','F5']]"
   ]
  },
  {
   "cell_type": "code",
   "execution_count": 9,
   "metadata": {},
   "outputs": [],
   "source": [
    "datos_Ptrans_test1_sel_st = cf.Scaler(datos_Ptrans_test1_sel,StandardScaler())\n",
    "datos_Ptrans_test1_TA_sel_st = cf.Scaler(datos_Ptrans_test1_TA_sel,StandardScaler())"
   ]
  },
  {
   "cell_type": "code",
   "execution_count": 10,
   "metadata": {},
   "outputs": [],
   "source": [
    "datos_Ptrans_test2['F1'] = datos_Ptrans_test2['AREA_MN'] * 0.815 + datos_Ptrans_test2[\"ED\"] * 0.913 + datos_Ptrans_test2[\"RES_PLU\"]  * 0.654 \n",
    "datos_Ptrans_test2['F2'] = datos_Ptrans_test2['LPI'] * -0.848 + datos_Ptrans_test2['SPLIT'] * 0.834 + datos_Ptrans_test2['MESH'] * -0.764\n",
    "datos_Ptrans_test2['F3'] = datos_Ptrans_test2['LSI'] * 0.755 + datos_Ptrans_test2['T_Viviendas'] * 0.957 \n",
    "datos_Ptrans_test2['F4'] = datos_Ptrans_test2['RES_UNI'] * 0.817 \n",
    "datos_Ptrans_test2['F5'] = datos_Ptrans_test2['SIDI'] * 0.751 "
   ]
  },
  {
   "cell_type": "code",
   "execution_count": 11,
   "metadata": {},
   "outputs": [],
   "source": [
    "datos_Ptrans_test2_TA = datos_Ptrans_test2.query('Ciudades != \"Torrejón de Ardoz\"').copy()"
   ]
  },
  {
   "cell_type": "code",
   "execution_count": 12,
   "metadata": {},
   "outputs": [],
   "source": [
    "datos_Ptrans_test2_sel = datos_Ptrans_test2.loc[:,['F1','F2','F3','F4','F5']]\n",
    "datos_Ptrans_test2_TA_sel = datos_Ptrans_test2_TA.loc[:,['F1','F2','F3','F4','F5']]"
   ]
  },
  {
   "cell_type": "code",
   "execution_count": 17,
   "metadata": {},
   "outputs": [],
   "source": [
    "datos_Ptrans_test2_sel_st = cf.Scaler(datos_Ptrans_test2_sel,StandardScaler())\n",
    "datos_Ptrans_test2_TA_sel_st = cf.Scaler(datos_Ptrans_test2_TA_sel,StandardScaler())"
   ]
  },
  {
   "cell_type": "code",
   "execution_count": 14,
   "metadata": {},
   "outputs": [],
   "source": [
    "# Probar uno con el total de viviendas, Area_MN, Diversidad, Renta, total_viviendas,SIDI,RES_UNI, DIVISION, ED_SING, ED\n",
    "datos_Ptrans_test3_sel = datos_Ptrans_test3.loc[:,['AREA_MN', \"ED\", \"RES_PLU\",'T_Viviendas','RES_UNI','SIDI',\"RNMDP_2020\"]]  \n",
    "datos_Ptrans_test3_TA = datos_Ptrans_test3.query('Ciudades != \"Torrejón de Ardoz\"').copy()\n",
    "datos_Ptrans_test3_TA_sel = datos_Ptrans_test3_TA.loc[:,['AREA_MN', \"ED\", \"RES_PLU\",'T_Viviendas','RES_UNI','SIDI',\"RNMDP_2020\"]]  \n"
   ]
  },
  {
   "cell_type": "code",
   "execution_count": 18,
   "metadata": {},
   "outputs": [
    {
     "data": {
      "text/html": [
       "<div>\n",
       "<style scoped>\n",
       "    .dataframe tbody tr th:only-of-type {\n",
       "        vertical-align: middle;\n",
       "    }\n",
       "\n",
       "    .dataframe tbody tr th {\n",
       "        vertical-align: top;\n",
       "    }\n",
       "\n",
       "    .dataframe thead th {\n",
       "        text-align: right;\n",
       "    }\n",
       "</style>\n",
       "<table border=\"1\" class=\"dataframe\">\n",
       "  <thead>\n",
       "    <tr style=\"text-align: right;\">\n",
       "      <th></th>\n",
       "      <th>TA</th>\n",
       "      <th>LPI</th>\n",
       "      <th>AREA_MN</th>\n",
       "      <th>AREA_AM</th>\n",
       "      <th>AREA_MD</th>\n",
       "      <th>GYRATE_MN</th>\n",
       "      <th>GYRATE_AM</th>\n",
       "      <th>GYRATE_MD</th>\n",
       "      <th>PRD</th>\n",
       "      <th>SHDI</th>\n",
       "      <th>...</th>\n",
       "      <th>Viv_vacias</th>\n",
       "      <th>COM</th>\n",
       "      <th>ED_SING</th>\n",
       "      <th>EQUIP</th>\n",
       "      <th>IND</th>\n",
       "      <th>OCIO</th>\n",
       "      <th>OFI</th>\n",
       "      <th>RES_PLU</th>\n",
       "      <th>RES_UNI</th>\n",
       "      <th>Ciudades</th>\n",
       "    </tr>\n",
       "  </thead>\n",
       "  <tbody>\n",
       "  </tbody>\n",
       "</table>\n",
       "<p>0 rows × 49 columns</p>\n",
       "</div>"
      ],
      "text/plain": [
       "Empty DataFrame\n",
       "Columns: [TA, LPI, AREA_MN, AREA_AM, AREA_MD, GYRATE_MN, GYRATE_AM, GYRATE_MD, PRD, SHDI, SIDI, MSIDI, SHEI, SIEI, MSIEI, NP, DIVISION, SPLIT, MESH, PAFRAC, SHAPE_MN, SHAPE_MD, PARA_MN, PARA_MD, FRAC_MD, SQUARE_MN, SQUARE_MD, IJI, LSI, TE, ED, RNMDP_2020, PobT, PobH, PobM, Vehiculos, T_Viviendas, T_Viv_Prin, T_Viv_Sec, Viv_vacias, COM, ED_SING, EQUIP, IND, OCIO, OFI, RES_PLU, RES_UNI, Ciudades]\n",
       "Index: []\n",
       "\n",
       "[0 rows x 49 columns]"
      ]
     },
     "execution_count": 18,
     "metadata": {},
     "output_type": "execute_result"
    }
   ],
   "source": [
    "datos_Ptrans_test3_TA.query('Ciudades == \"Torrejón de Ardoz\"')"
   ]
  },
  {
   "cell_type": "markdown",
   "metadata": {},
   "source": [
    "### Aplicar el analisis cluster a cada uno de estos dataset. Y luego representar los resultados en streamlit"
   ]
  },
  {
   "cell_type": "code",
   "execution_count": 19,
   "metadata": {},
   "outputs": [],
   "source": [
    "lista_datos = [datos_Ptrans_test1_sel_st,datos_Ptrans_test1_TA_sel_st, \n",
    "               datos_Ptrans_test2_sel_st,datos_Ptrans_test2_TA_sel_st,\n",
    "               datos_Ptrans_test3_sel,datos_Ptrans_test3_TA_sel]"
   ]
  },
  {
   "cell_type": "code",
   "execution_count": 20,
   "metadata": {},
   "outputs": [],
   "source": [
    "nombre_datos = ['Ptrans_test1','Ptrans_test1_TA', \n",
    "               'Ptrans_test2','Ptrans_test2_TA',\n",
    "               'Ptrans_test3','Ptrans_test3_TA']"
   ]
  },
  {
   "cell_type": "code",
   "execution_count": 21,
   "metadata": {},
   "outputs": [],
   "source": [
    "nombre_datos_AG = ['Ptrans_test1_AG','Ptrans_test1_TA_AG', \n",
    "               'Ptrans_test2_AG','Ptrans_test2_TA_AG',\n",
    "               'Ptrans_test3_AG','Ptrans_test3_TA_AG']"
   ]
  },
  {
   "cell_type": "code",
   "execution_count": 22,
   "metadata": {},
   "outputs": [],
   "source": [
    "nombre_datos_KM = ['Ptrans_test1_KM','Ptrans_test1_TA_KM', \n",
    "               'Ptrans_test2_KM','Ptrans_test2_TA_KM',\n",
    "               'Ptrans_test3_KM','Ptrans_test3_TA_KM']"
   ]
  },
  {
   "cell_type": "code",
   "execution_count": 23,
   "metadata": {},
   "outputs": [],
   "source": [
    "sil_list = []\n",
    "num = []\n",
    "df_list_AG = copy.deepcopy(lista_datos)\n",
    "numbers = [2,3,4,5,6,7,8,9,10]\n",
    "for number in numbers:\n",
    "    for index, item in enumerate(lista_datos):\n",
    "        n = number\n",
    "        sil, labels = cf.cluster_analysis_score(AgglomerativeClustering, lista_datos[index], n)\n",
    "        num.append(n)\n",
    "        sil_list.append(sil)\n",
    "        df_name = \"AG\"+str(n)+nombre_datos_AG[index]\n",
    "        df_list_AG[index][df_name] = labels"
   ]
  },
  {
   "cell_type": "code",
   "execution_count": 24,
   "metadata": {},
   "outputs": [
    {
     "data": {
      "text/html": [
       "<div>\n",
       "<style scoped>\n",
       "    .dataframe tbody tr th:only-of-type {\n",
       "        vertical-align: middle;\n",
       "    }\n",
       "\n",
       "    .dataframe tbody tr th {\n",
       "        vertical-align: top;\n",
       "    }\n",
       "\n",
       "    .dataframe thead th {\n",
       "        text-align: right;\n",
       "    }\n",
       "</style>\n",
       "<table border=\"1\" class=\"dataframe\">\n",
       "  <thead>\n",
       "    <tr style=\"text-align: right;\">\n",
       "      <th></th>\n",
       "      <th>F1</th>\n",
       "      <th>F2</th>\n",
       "      <th>F3</th>\n",
       "      <th>F4</th>\n",
       "      <th>F5</th>\n",
       "      <th>AG2Ptrans_test1_TA_AG</th>\n",
       "      <th>AG3Ptrans_test1_TA_AG</th>\n",
       "      <th>AG4Ptrans_test1_TA_AG</th>\n",
       "      <th>AG5Ptrans_test1_TA_AG</th>\n",
       "      <th>AG6Ptrans_test1_TA_AG</th>\n",
       "      <th>AG7Ptrans_test1_TA_AG</th>\n",
       "      <th>AG8Ptrans_test1_TA_AG</th>\n",
       "      <th>AG9Ptrans_test1_TA_AG</th>\n",
       "      <th>AG10Ptrans_test1_TA_AG</th>\n",
       "    </tr>\n",
       "  </thead>\n",
       "  <tbody>\n",
       "    <tr>\n",
       "      <th>0</th>\n",
       "      <td>0.227217</td>\n",
       "      <td>-0.640045</td>\n",
       "      <td>-0.122274</td>\n",
       "      <td>0.466785</td>\n",
       "      <td>-0.724467</td>\n",
       "      <td>0</td>\n",
       "      <td>1</td>\n",
       "      <td>0</td>\n",
       "      <td>1</td>\n",
       "      <td>0</td>\n",
       "      <td>3</td>\n",
       "      <td>1</td>\n",
       "      <td>1</td>\n",
       "      <td>0</td>\n",
       "    </tr>\n",
       "    <tr>\n",
       "      <th>1</th>\n",
       "      <td>0.055980</td>\n",
       "      <td>-1.244665</td>\n",
       "      <td>0.053472</td>\n",
       "      <td>0.041664</td>\n",
       "      <td>1.185869</td>\n",
       "      <td>1</td>\n",
       "      <td>0</td>\n",
       "      <td>3</td>\n",
       "      <td>3</td>\n",
       "      <td>3</td>\n",
       "      <td>1</td>\n",
       "      <td>0</td>\n",
       "      <td>8</td>\n",
       "      <td>8</td>\n",
       "    </tr>\n",
       "    <tr>\n",
       "      <th>2</th>\n",
       "      <td>-0.447147</td>\n",
       "      <td>-2.152661</td>\n",
       "      <td>0.053472</td>\n",
       "      <td>0.091551</td>\n",
       "      <td>-1.078103</td>\n",
       "      <td>0</td>\n",
       "      <td>1</td>\n",
       "      <td>0</td>\n",
       "      <td>1</td>\n",
       "      <td>0</td>\n",
       "      <td>3</td>\n",
       "      <td>1</td>\n",
       "      <td>1</td>\n",
       "      <td>0</td>\n",
       "    </tr>\n",
       "    <tr>\n",
       "      <th>3</th>\n",
       "      <td>-0.494557</td>\n",
       "      <td>-1.389489</td>\n",
       "      <td>-0.026553</td>\n",
       "      <td>0.050738</td>\n",
       "      <td>1.305855</td>\n",
       "      <td>1</td>\n",
       "      <td>0</td>\n",
       "      <td>3</td>\n",
       "      <td>3</td>\n",
       "      <td>3</td>\n",
       "      <td>1</td>\n",
       "      <td>0</td>\n",
       "      <td>8</td>\n",
       "      <td>8</td>\n",
       "    </tr>\n",
       "    <tr>\n",
       "      <th>4</th>\n",
       "      <td>-0.168570</td>\n",
       "      <td>0.605279</td>\n",
       "      <td>-1.886507</td>\n",
       "      <td>0.604534</td>\n",
       "      <td>-1.851174</td>\n",
       "      <td>0</td>\n",
       "      <td>2</td>\n",
       "      <td>2</td>\n",
       "      <td>2</td>\n",
       "      <td>2</td>\n",
       "      <td>2</td>\n",
       "      <td>2</td>\n",
       "      <td>0</td>\n",
       "      <td>1</td>\n",
       "    </tr>\n",
       "    <tr>\n",
       "      <th>...</th>\n",
       "      <td>...</td>\n",
       "      <td>...</td>\n",
       "      <td>...</td>\n",
       "      <td>...</td>\n",
       "      <td>...</td>\n",
       "      <td>...</td>\n",
       "      <td>...</td>\n",
       "      <td>...</td>\n",
       "      <td>...</td>\n",
       "      <td>...</td>\n",
       "      <td>...</td>\n",
       "      <td>...</td>\n",
       "      <td>...</td>\n",
       "      <td>...</td>\n",
       "    </tr>\n",
       "    <tr>\n",
       "      <th>66</th>\n",
       "      <td>1.651625</td>\n",
       "      <td>0.774760</td>\n",
       "      <td>-0.837797</td>\n",
       "      <td>0.181439</td>\n",
       "      <td>1.245655</td>\n",
       "      <td>0</td>\n",
       "      <td>1</td>\n",
       "      <td>0</td>\n",
       "      <td>1</td>\n",
       "      <td>0</td>\n",
       "      <td>6</td>\n",
       "      <td>6</td>\n",
       "      <td>2</td>\n",
       "      <td>2</td>\n",
       "    </tr>\n",
       "    <tr>\n",
       "      <th>67</th>\n",
       "      <td>0.685674</td>\n",
       "      <td>-1.640736</td>\n",
       "      <td>0.124318</td>\n",
       "      <td>-0.486423</td>\n",
       "      <td>0.527706</td>\n",
       "      <td>0</td>\n",
       "      <td>1</td>\n",
       "      <td>0</td>\n",
       "      <td>1</td>\n",
       "      <td>0</td>\n",
       "      <td>3</td>\n",
       "      <td>1</td>\n",
       "      <td>1</td>\n",
       "      <td>0</td>\n",
       "    </tr>\n",
       "    <tr>\n",
       "      <th>68</th>\n",
       "      <td>1.146653</td>\n",
       "      <td>0.601389</td>\n",
       "      <td>-1.339278</td>\n",
       "      <td>-0.518387</td>\n",
       "      <td>-1.440387</td>\n",
       "      <td>0</td>\n",
       "      <td>2</td>\n",
       "      <td>2</td>\n",
       "      <td>2</td>\n",
       "      <td>2</td>\n",
       "      <td>2</td>\n",
       "      <td>2</td>\n",
       "      <td>0</td>\n",
       "      <td>9</td>\n",
       "    </tr>\n",
       "    <tr>\n",
       "      <th>69</th>\n",
       "      <td>-1.314090</td>\n",
       "      <td>0.229596</td>\n",
       "      <td>0.326386</td>\n",
       "      <td>-1.514164</td>\n",
       "      <td>0.186127</td>\n",
       "      <td>1</td>\n",
       "      <td>0</td>\n",
       "      <td>1</td>\n",
       "      <td>0</td>\n",
       "      <td>1</td>\n",
       "      <td>0</td>\n",
       "      <td>3</td>\n",
       "      <td>3</td>\n",
       "      <td>3</td>\n",
       "    </tr>\n",
       "    <tr>\n",
       "      <th>70</th>\n",
       "      <td>1.473234</td>\n",
       "      <td>-1.292156</td>\n",
       "      <td>-0.438391</td>\n",
       "      <td>0.341038</td>\n",
       "      <td>0.670616</td>\n",
       "      <td>0</td>\n",
       "      <td>1</td>\n",
       "      <td>0</td>\n",
       "      <td>1</td>\n",
       "      <td>0</td>\n",
       "      <td>3</td>\n",
       "      <td>1</td>\n",
       "      <td>1</td>\n",
       "      <td>0</td>\n",
       "    </tr>\n",
       "  </tbody>\n",
       "</table>\n",
       "<p>71 rows × 14 columns</p>\n",
       "</div>"
      ],
      "text/plain": [
       "          F1        F2        F3        F4        F5  AG2Ptrans_test1_TA_AG  \\\n",
       "0   0.227217 -0.640045 -0.122274  0.466785 -0.724467                      0   \n",
       "1   0.055980 -1.244665  0.053472  0.041664  1.185869                      1   \n",
       "2  -0.447147 -2.152661  0.053472  0.091551 -1.078103                      0   \n",
       "3  -0.494557 -1.389489 -0.026553  0.050738  1.305855                      1   \n",
       "4  -0.168570  0.605279 -1.886507  0.604534 -1.851174                      0   \n",
       "..       ...       ...       ...       ...       ...                    ...   \n",
       "66  1.651625  0.774760 -0.837797  0.181439  1.245655                      0   \n",
       "67  0.685674 -1.640736  0.124318 -0.486423  0.527706                      0   \n",
       "68  1.146653  0.601389 -1.339278 -0.518387 -1.440387                      0   \n",
       "69 -1.314090  0.229596  0.326386 -1.514164  0.186127                      1   \n",
       "70  1.473234 -1.292156 -0.438391  0.341038  0.670616                      0   \n",
       "\n",
       "    AG3Ptrans_test1_TA_AG  AG4Ptrans_test1_TA_AG  AG5Ptrans_test1_TA_AG  \\\n",
       "0                       1                      0                      1   \n",
       "1                       0                      3                      3   \n",
       "2                       1                      0                      1   \n",
       "3                       0                      3                      3   \n",
       "4                       2                      2                      2   \n",
       "..                    ...                    ...                    ...   \n",
       "66                      1                      0                      1   \n",
       "67                      1                      0                      1   \n",
       "68                      2                      2                      2   \n",
       "69                      0                      1                      0   \n",
       "70                      1                      0                      1   \n",
       "\n",
       "    AG6Ptrans_test1_TA_AG  AG7Ptrans_test1_TA_AG  AG8Ptrans_test1_TA_AG  \\\n",
       "0                       0                      3                      1   \n",
       "1                       3                      1                      0   \n",
       "2                       0                      3                      1   \n",
       "3                       3                      1                      0   \n",
       "4                       2                      2                      2   \n",
       "..                    ...                    ...                    ...   \n",
       "66                      0                      6                      6   \n",
       "67                      0                      3                      1   \n",
       "68                      2                      2                      2   \n",
       "69                      1                      0                      3   \n",
       "70                      0                      3                      1   \n",
       "\n",
       "    AG9Ptrans_test1_TA_AG  AG10Ptrans_test1_TA_AG  \n",
       "0                       1                       0  \n",
       "1                       8                       8  \n",
       "2                       1                       0  \n",
       "3                       8                       8  \n",
       "4                       0                       1  \n",
       "..                    ...                     ...  \n",
       "66                      2                       2  \n",
       "67                      1                       0  \n",
       "68                      0                       9  \n",
       "69                      3                       3  \n",
       "70                      1                       0  \n",
       "\n",
       "[71 rows x 14 columns]"
      ]
     },
     "execution_count": 24,
     "metadata": {},
     "output_type": "execute_result"
    }
   ],
   "source": [
    "df_list_AG[1]"
   ]
  },
  {
   "cell_type": "code",
   "execution_count": 176,
   "metadata": {},
   "outputs": [
    {
     "data": {
      "text/plain": [
       "['Ptrans_test1_AG',\n",
       " 'Ptrans_test1_TA_AG',\n",
       " 'Ptrans_test2_AG',\n",
       " 'Ptrans_test2_TA_AG',\n",
       " 'Ptrans_test3_AG',\n",
       " 'Ptrans_test3_TA_AG']"
      ]
     },
     "execution_count": 176,
     "metadata": {},
     "output_type": "execute_result"
    }
   ],
   "source": [
    "nombre_datos_AG"
   ]
  },
  {
   "cell_type": "code",
   "execution_count": 177,
   "metadata": {},
   "outputs": [
    {
     "data": {
      "text/plain": [
       "['Ptrans_test1_KM',\n",
       " 'Ptrans_test1_TA_KM',\n",
       " 'Ptrans_test2_KM',\n",
       " 'Ptrans_test2_TA_KM',\n",
       " 'Ptrans_test3_KM',\n",
       " 'Ptrans_test3_TA_KM']"
      ]
     },
     "execution_count": 177,
     "metadata": {},
     "output_type": "execute_result"
    }
   ],
   "source": [
    "nombre_datos_KM"
   ]
  },
  {
   "cell_type": "code",
   "execution_count": 173,
   "metadata": {},
   "outputs": [],
   "source": [
    "for index, df in enumerate(df_list_AG):\n",
    "    name = nombre_datos_AG[index]\n",
    "    df.to_csv(f'df_{name}.csv', index = False)\n",
    "    \n",
    "    "
   ]
  },
  {
   "cell_type": "code",
   "execution_count": 74,
   "metadata": {},
   "outputs": [
    {
     "data": {
      "text/html": [
       "<div>\n",
       "<style scoped>\n",
       "    .dataframe tbody tr th:only-of-type {\n",
       "        vertical-align: middle;\n",
       "    }\n",
       "\n",
       "    .dataframe tbody tr th {\n",
       "        vertical-align: top;\n",
       "    }\n",
       "\n",
       "    .dataframe thead th {\n",
       "        text-align: right;\n",
       "    }\n",
       "</style>\n",
       "<table border=\"1\" class=\"dataframe\">\n",
       "  <thead>\n",
       "    <tr style=\"text-align: right;\">\n",
       "      <th></th>\n",
       "      <th>Data</th>\n",
       "      <th>Sil_Score</th>\n",
       "      <th>n_clusters</th>\n",
       "      <th>Metodo</th>\n",
       "    </tr>\n",
       "  </thead>\n",
       "  <tbody>\n",
       "    <tr>\n",
       "      <th>0</th>\n",
       "      <td>Ptrans_test1</td>\n",
       "      <td>0.201544</td>\n",
       "      <td>2</td>\n",
       "      <td>Agglomerative</td>\n",
       "    </tr>\n",
       "    <tr>\n",
       "      <th>1</th>\n",
       "      <td>Ptrans_test1_TA</td>\n",
       "      <td>0.172515</td>\n",
       "      <td>2</td>\n",
       "      <td>Agglomerative</td>\n",
       "    </tr>\n",
       "    <tr>\n",
       "      <th>2</th>\n",
       "      <td>Ptrans_test2</td>\n",
       "      <td>0.190819</td>\n",
       "      <td>2</td>\n",
       "      <td>Agglomerative</td>\n",
       "    </tr>\n",
       "    <tr>\n",
       "      <th>3</th>\n",
       "      <td>Ptrans_test2_TA</td>\n",
       "      <td>0.202066</td>\n",
       "      <td>2</td>\n",
       "      <td>Agglomerative</td>\n",
       "    </tr>\n",
       "    <tr>\n",
       "      <th>4</th>\n",
       "      <td>Ptrans_test3</td>\n",
       "      <td>0.230562</td>\n",
       "      <td>2</td>\n",
       "      <td>Agglomerative</td>\n",
       "    </tr>\n",
       "    <tr>\n",
       "      <th>5</th>\n",
       "      <td>Ptrans_test3_TA</td>\n",
       "      <td>0.237429</td>\n",
       "      <td>2</td>\n",
       "      <td>Agglomerative</td>\n",
       "    </tr>\n",
       "    <tr>\n",
       "      <th>6</th>\n",
       "      <td>Ptrans_test1</td>\n",
       "      <td>0.167750</td>\n",
       "      <td>3</td>\n",
       "      <td>Agglomerative</td>\n",
       "    </tr>\n",
       "    <tr>\n",
       "      <th>7</th>\n",
       "      <td>Ptrans_test1_TA</td>\n",
       "      <td>0.165661</td>\n",
       "      <td>3</td>\n",
       "      <td>Agglomerative</td>\n",
       "    </tr>\n",
       "    <tr>\n",
       "      <th>8</th>\n",
       "      <td>Ptrans_test2</td>\n",
       "      <td>0.214934</td>\n",
       "      <td>3</td>\n",
       "      <td>Agglomerative</td>\n",
       "    </tr>\n",
       "    <tr>\n",
       "      <th>9</th>\n",
       "      <td>Ptrans_test2_TA</td>\n",
       "      <td>0.225872</td>\n",
       "      <td>3</td>\n",
       "      <td>Agglomerative</td>\n",
       "    </tr>\n",
       "    <tr>\n",
       "      <th>10</th>\n",
       "      <td>Ptrans_test3</td>\n",
       "      <td>0.223726</td>\n",
       "      <td>3</td>\n",
       "      <td>Agglomerative</td>\n",
       "    </tr>\n",
       "    <tr>\n",
       "      <th>11</th>\n",
       "      <td>Ptrans_test3_TA</td>\n",
       "      <td>0.233677</td>\n",
       "      <td>3</td>\n",
       "      <td>Agglomerative</td>\n",
       "    </tr>\n",
       "    <tr>\n",
       "      <th>12</th>\n",
       "      <td>Ptrans_test1</td>\n",
       "      <td>0.182924</td>\n",
       "      <td>4</td>\n",
       "      <td>Agglomerative</td>\n",
       "    </tr>\n",
       "    <tr>\n",
       "      <th>13</th>\n",
       "      <td>Ptrans_test1_TA</td>\n",
       "      <td>0.163646</td>\n",
       "      <td>4</td>\n",
       "      <td>Agglomerative</td>\n",
       "    </tr>\n",
       "    <tr>\n",
       "      <th>14</th>\n",
       "      <td>Ptrans_test2</td>\n",
       "      <td>0.204768</td>\n",
       "      <td>4</td>\n",
       "      <td>Agglomerative</td>\n",
       "    </tr>\n",
       "    <tr>\n",
       "      <th>15</th>\n",
       "      <td>Ptrans_test2_TA</td>\n",
       "      <td>0.229533</td>\n",
       "      <td>4</td>\n",
       "      <td>Agglomerative</td>\n",
       "    </tr>\n",
       "    <tr>\n",
       "      <th>16</th>\n",
       "      <td>Ptrans_test3</td>\n",
       "      <td>0.227108</td>\n",
       "      <td>4</td>\n",
       "      <td>Agglomerative</td>\n",
       "    </tr>\n",
       "    <tr>\n",
       "      <th>17</th>\n",
       "      <td>Ptrans_test3_TA</td>\n",
       "      <td>0.220728</td>\n",
       "      <td>4</td>\n",
       "      <td>Agglomerative</td>\n",
       "    </tr>\n",
       "    <tr>\n",
       "      <th>18</th>\n",
       "      <td>Ptrans_test1</td>\n",
       "      <td>0.183987</td>\n",
       "      <td>5</td>\n",
       "      <td>Agglomerative</td>\n",
       "    </tr>\n",
       "    <tr>\n",
       "      <th>19</th>\n",
       "      <td>Ptrans_test1_TA</td>\n",
       "      <td>0.169555</td>\n",
       "      <td>5</td>\n",
       "      <td>Agglomerative</td>\n",
       "    </tr>\n",
       "    <tr>\n",
       "      <th>20</th>\n",
       "      <td>Ptrans_test2</td>\n",
       "      <td>0.209615</td>\n",
       "      <td>5</td>\n",
       "      <td>Agglomerative</td>\n",
       "    </tr>\n",
       "    <tr>\n",
       "      <th>21</th>\n",
       "      <td>Ptrans_test2_TA</td>\n",
       "      <td>0.213139</td>\n",
       "      <td>5</td>\n",
       "      <td>Agglomerative</td>\n",
       "    </tr>\n",
       "    <tr>\n",
       "      <th>22</th>\n",
       "      <td>Ptrans_test3</td>\n",
       "      <td>0.231631</td>\n",
       "      <td>5</td>\n",
       "      <td>Agglomerative</td>\n",
       "    </tr>\n",
       "    <tr>\n",
       "      <th>23</th>\n",
       "      <td>Ptrans_test3_TA</td>\n",
       "      <td>0.226516</td>\n",
       "      <td>5</td>\n",
       "      <td>Agglomerative</td>\n",
       "    </tr>\n",
       "    <tr>\n",
       "      <th>24</th>\n",
       "      <td>Ptrans_test1</td>\n",
       "      <td>0.194510</td>\n",
       "      <td>6</td>\n",
       "      <td>Agglomerative</td>\n",
       "    </tr>\n",
       "    <tr>\n",
       "      <th>25</th>\n",
       "      <td>Ptrans_test1_TA</td>\n",
       "      <td>0.191197</td>\n",
       "      <td>6</td>\n",
       "      <td>Agglomerative</td>\n",
       "    </tr>\n",
       "    <tr>\n",
       "      <th>26</th>\n",
       "      <td>Ptrans_test2</td>\n",
       "      <td>0.203218</td>\n",
       "      <td>6</td>\n",
       "      <td>Agglomerative</td>\n",
       "    </tr>\n",
       "    <tr>\n",
       "      <th>27</th>\n",
       "      <td>Ptrans_test2_TA</td>\n",
       "      <td>0.212033</td>\n",
       "      <td>6</td>\n",
       "      <td>Agglomerative</td>\n",
       "    </tr>\n",
       "    <tr>\n",
       "      <th>28</th>\n",
       "      <td>Ptrans_test3</td>\n",
       "      <td>0.203806</td>\n",
       "      <td>6</td>\n",
       "      <td>Agglomerative</td>\n",
       "    </tr>\n",
       "    <tr>\n",
       "      <th>29</th>\n",
       "      <td>Ptrans_test3_TA</td>\n",
       "      <td>0.210139</td>\n",
       "      <td>6</td>\n",
       "      <td>Agglomerative</td>\n",
       "    </tr>\n",
       "    <tr>\n",
       "      <th>30</th>\n",
       "      <td>Ptrans_test1</td>\n",
       "      <td>0.192566</td>\n",
       "      <td>7</td>\n",
       "      <td>Agglomerative</td>\n",
       "    </tr>\n",
       "    <tr>\n",
       "      <th>31</th>\n",
       "      <td>Ptrans_test1_TA</td>\n",
       "      <td>0.201277</td>\n",
       "      <td>7</td>\n",
       "      <td>Agglomerative</td>\n",
       "    </tr>\n",
       "    <tr>\n",
       "      <th>32</th>\n",
       "      <td>Ptrans_test2</td>\n",
       "      <td>0.201989</td>\n",
       "      <td>7</td>\n",
       "      <td>Agglomerative</td>\n",
       "    </tr>\n",
       "    <tr>\n",
       "      <th>33</th>\n",
       "      <td>Ptrans_test2_TA</td>\n",
       "      <td>0.187395</td>\n",
       "      <td>7</td>\n",
       "      <td>Agglomerative</td>\n",
       "    </tr>\n",
       "    <tr>\n",
       "      <th>34</th>\n",
       "      <td>Ptrans_test3</td>\n",
       "      <td>0.207523</td>\n",
       "      <td>7</td>\n",
       "      <td>Agglomerative</td>\n",
       "    </tr>\n",
       "    <tr>\n",
       "      <th>35</th>\n",
       "      <td>Ptrans_test3_TA</td>\n",
       "      <td>0.220988</td>\n",
       "      <td>7</td>\n",
       "      <td>Agglomerative</td>\n",
       "    </tr>\n",
       "    <tr>\n",
       "      <th>36</th>\n",
       "      <td>Ptrans_test1</td>\n",
       "      <td>0.197100</td>\n",
       "      <td>8</td>\n",
       "      <td>Agglomerative</td>\n",
       "    </tr>\n",
       "    <tr>\n",
       "      <th>37</th>\n",
       "      <td>Ptrans_test1_TA</td>\n",
       "      <td>0.196388</td>\n",
       "      <td>8</td>\n",
       "      <td>Agglomerative</td>\n",
       "    </tr>\n",
       "    <tr>\n",
       "      <th>38</th>\n",
       "      <td>Ptrans_test2</td>\n",
       "      <td>0.172016</td>\n",
       "      <td>8</td>\n",
       "      <td>Agglomerative</td>\n",
       "    </tr>\n",
       "    <tr>\n",
       "      <th>39</th>\n",
       "      <td>Ptrans_test2_TA</td>\n",
       "      <td>0.187411</td>\n",
       "      <td>8</td>\n",
       "      <td>Agglomerative</td>\n",
       "    </tr>\n",
       "    <tr>\n",
       "      <th>40</th>\n",
       "      <td>Ptrans_test3</td>\n",
       "      <td>0.217148</td>\n",
       "      <td>8</td>\n",
       "      <td>Agglomerative</td>\n",
       "    </tr>\n",
       "    <tr>\n",
       "      <th>41</th>\n",
       "      <td>Ptrans_test3_TA</td>\n",
       "      <td>0.210493</td>\n",
       "      <td>8</td>\n",
       "      <td>Agglomerative</td>\n",
       "    </tr>\n",
       "    <tr>\n",
       "      <th>42</th>\n",
       "      <td>Ptrans_test1</td>\n",
       "      <td>0.192456</td>\n",
       "      <td>9</td>\n",
       "      <td>Agglomerative</td>\n",
       "    </tr>\n",
       "    <tr>\n",
       "      <th>43</th>\n",
       "      <td>Ptrans_test1_TA</td>\n",
       "      <td>0.202552</td>\n",
       "      <td>9</td>\n",
       "      <td>Agglomerative</td>\n",
       "    </tr>\n",
       "    <tr>\n",
       "      <th>44</th>\n",
       "      <td>Ptrans_test2</td>\n",
       "      <td>0.180242</td>\n",
       "      <td>9</td>\n",
       "      <td>Agglomerative</td>\n",
       "    </tr>\n",
       "    <tr>\n",
       "      <th>45</th>\n",
       "      <td>Ptrans_test2_TA</td>\n",
       "      <td>0.190335</td>\n",
       "      <td>9</td>\n",
       "      <td>Agglomerative</td>\n",
       "    </tr>\n",
       "    <tr>\n",
       "      <th>46</th>\n",
       "      <td>Ptrans_test3</td>\n",
       "      <td>0.206799</td>\n",
       "      <td>9</td>\n",
       "      <td>Agglomerative</td>\n",
       "    </tr>\n",
       "    <tr>\n",
       "      <th>47</th>\n",
       "      <td>Ptrans_test3_TA</td>\n",
       "      <td>0.212417</td>\n",
       "      <td>9</td>\n",
       "      <td>Agglomerative</td>\n",
       "    </tr>\n",
       "    <tr>\n",
       "      <th>48</th>\n",
       "      <td>Ptrans_test1</td>\n",
       "      <td>0.196258</td>\n",
       "      <td>10</td>\n",
       "      <td>Agglomerative</td>\n",
       "    </tr>\n",
       "    <tr>\n",
       "      <th>49</th>\n",
       "      <td>Ptrans_test1_TA</td>\n",
       "      <td>0.198841</td>\n",
       "      <td>10</td>\n",
       "      <td>Agglomerative</td>\n",
       "    </tr>\n",
       "    <tr>\n",
       "      <th>50</th>\n",
       "      <td>Ptrans_test2</td>\n",
       "      <td>0.175328</td>\n",
       "      <td>10</td>\n",
       "      <td>Agglomerative</td>\n",
       "    </tr>\n",
       "    <tr>\n",
       "      <th>51</th>\n",
       "      <td>Ptrans_test2_TA</td>\n",
       "      <td>0.205171</td>\n",
       "      <td>10</td>\n",
       "      <td>Agglomerative</td>\n",
       "    </tr>\n",
       "    <tr>\n",
       "      <th>52</th>\n",
       "      <td>Ptrans_test3</td>\n",
       "      <td>0.208696</td>\n",
       "      <td>10</td>\n",
       "      <td>Agglomerative</td>\n",
       "    </tr>\n",
       "    <tr>\n",
       "      <th>53</th>\n",
       "      <td>Ptrans_test3_TA</td>\n",
       "      <td>0.219144</td>\n",
       "      <td>10</td>\n",
       "      <td>Agglomerative</td>\n",
       "    </tr>\n",
       "  </tbody>\n",
       "</table>\n",
       "</div>"
      ],
      "text/plain": [
       "               Data  Sil_Score  n_clusters         Metodo\n",
       "0      Ptrans_test1   0.201544           2  Agglomerative\n",
       "1   Ptrans_test1_TA   0.172515           2  Agglomerative\n",
       "2      Ptrans_test2   0.190819           2  Agglomerative\n",
       "3   Ptrans_test2_TA   0.202066           2  Agglomerative\n",
       "4      Ptrans_test3   0.230562           2  Agglomerative\n",
       "5   Ptrans_test3_TA   0.237429           2  Agglomerative\n",
       "6      Ptrans_test1   0.167750           3  Agglomerative\n",
       "7   Ptrans_test1_TA   0.165661           3  Agglomerative\n",
       "8      Ptrans_test2   0.214934           3  Agglomerative\n",
       "9   Ptrans_test2_TA   0.225872           3  Agglomerative\n",
       "10     Ptrans_test3   0.223726           3  Agglomerative\n",
       "11  Ptrans_test3_TA   0.233677           3  Agglomerative\n",
       "12     Ptrans_test1   0.182924           4  Agglomerative\n",
       "13  Ptrans_test1_TA   0.163646           4  Agglomerative\n",
       "14     Ptrans_test2   0.204768           4  Agglomerative\n",
       "15  Ptrans_test2_TA   0.229533           4  Agglomerative\n",
       "16     Ptrans_test3   0.227108           4  Agglomerative\n",
       "17  Ptrans_test3_TA   0.220728           4  Agglomerative\n",
       "18     Ptrans_test1   0.183987           5  Agglomerative\n",
       "19  Ptrans_test1_TA   0.169555           5  Agglomerative\n",
       "20     Ptrans_test2   0.209615           5  Agglomerative\n",
       "21  Ptrans_test2_TA   0.213139           5  Agglomerative\n",
       "22     Ptrans_test3   0.231631           5  Agglomerative\n",
       "23  Ptrans_test3_TA   0.226516           5  Agglomerative\n",
       "24     Ptrans_test1   0.194510           6  Agglomerative\n",
       "25  Ptrans_test1_TA   0.191197           6  Agglomerative\n",
       "26     Ptrans_test2   0.203218           6  Agglomerative\n",
       "27  Ptrans_test2_TA   0.212033           6  Agglomerative\n",
       "28     Ptrans_test3   0.203806           6  Agglomerative\n",
       "29  Ptrans_test3_TA   0.210139           6  Agglomerative\n",
       "30     Ptrans_test1   0.192566           7  Agglomerative\n",
       "31  Ptrans_test1_TA   0.201277           7  Agglomerative\n",
       "32     Ptrans_test2   0.201989           7  Agglomerative\n",
       "33  Ptrans_test2_TA   0.187395           7  Agglomerative\n",
       "34     Ptrans_test3   0.207523           7  Agglomerative\n",
       "35  Ptrans_test3_TA   0.220988           7  Agglomerative\n",
       "36     Ptrans_test1   0.197100           8  Agglomerative\n",
       "37  Ptrans_test1_TA   0.196388           8  Agglomerative\n",
       "38     Ptrans_test2   0.172016           8  Agglomerative\n",
       "39  Ptrans_test2_TA   0.187411           8  Agglomerative\n",
       "40     Ptrans_test3   0.217148           8  Agglomerative\n",
       "41  Ptrans_test3_TA   0.210493           8  Agglomerative\n",
       "42     Ptrans_test1   0.192456           9  Agglomerative\n",
       "43  Ptrans_test1_TA   0.202552           9  Agglomerative\n",
       "44     Ptrans_test2   0.180242           9  Agglomerative\n",
       "45  Ptrans_test2_TA   0.190335           9  Agglomerative\n",
       "46     Ptrans_test3   0.206799           9  Agglomerative\n",
       "47  Ptrans_test3_TA   0.212417           9  Agglomerative\n",
       "48     Ptrans_test1   0.196258          10  Agglomerative\n",
       "49  Ptrans_test1_TA   0.198841          10  Agglomerative\n",
       "50     Ptrans_test2   0.175328          10  Agglomerative\n",
       "51  Ptrans_test2_TA   0.205171          10  Agglomerative\n",
       "52     Ptrans_test3   0.208696          10  Agglomerative\n",
       "53  Ptrans_test3_TA   0.219144          10  Agglomerative"
      ]
     },
     "execution_count": 74,
     "metadata": {},
     "output_type": "execute_result"
    }
   ],
   "source": [
    "sil_agglomerative = pd.DataFrame({'Data': 9*nombre_datos, \"Sil_Score\": sil_list, \"n_clusters\" : num, \"Metodo\":\"Agglomerative\"})\n",
    "sil_agglomerative.to_csv(\"sil_agglomerative.csv\", index_label=None)\n",
    "sil_agglomerative"
   ]
  },
  {
   "cell_type": "code",
   "execution_count": 166,
   "metadata": {},
   "outputs": [],
   "source": [
    "sil_list = []\n",
    "num = []\n",
    "df_list_KM = copy.deepcopy(lista_datos)\n",
    "numbers = [2,3,4,5,6,7,8,9,10]\n",
    "for number in numbers:\n",
    "    for index, item in enumerate(lista_datos):\n",
    "        n = number\n",
    "        sil, labels = cf.cluster_analysis_score(KMeans, lista_datos[index], n)\n",
    "        num.append(n)\n",
    "        sil_list.append(sil)\n",
    "        df_name = \"KM\"+str(n)+nombre_datos_KM[index]\n",
    "        df_list_KM[index][df_name] = labels"
   ]
  },
  {
   "cell_type": "code",
   "execution_count": 179,
   "metadata": {},
   "outputs": [],
   "source": [
    "for index, df in enumerate(df_list_KM):\n",
    "    name = nombre_datos_KM[index]\n",
    "    df.to_csv(f'df_{name}.csv', index = False)"
   ]
  },
  {
   "cell_type": "code",
   "execution_count": 143,
   "metadata": {},
   "outputs": [
    {
     "data": {
      "text/html": [
       "<div>\n",
       "<style scoped>\n",
       "    .dataframe tbody tr th:only-of-type {\n",
       "        vertical-align: middle;\n",
       "    }\n",
       "\n",
       "    .dataframe tbody tr th {\n",
       "        vertical-align: top;\n",
       "    }\n",
       "\n",
       "    .dataframe thead th {\n",
       "        text-align: right;\n",
       "    }\n",
       "</style>\n",
       "<table border=\"1\" class=\"dataframe\">\n",
       "  <thead>\n",
       "    <tr style=\"text-align: right;\">\n",
       "      <th></th>\n",
       "      <th>Data</th>\n",
       "      <th>Sil_Score</th>\n",
       "      <th>n_clusters</th>\n",
       "      <th>Metodo</th>\n",
       "    </tr>\n",
       "  </thead>\n",
       "  <tbody>\n",
       "    <tr>\n",
       "      <th>0</th>\n",
       "      <td>Ptrans_test1</td>\n",
       "      <td>0.219189</td>\n",
       "      <td>2</td>\n",
       "      <td>KMeans</td>\n",
       "    </tr>\n",
       "    <tr>\n",
       "      <th>1</th>\n",
       "      <td>Ptrans_test1_TA</td>\n",
       "      <td>0.221991</td>\n",
       "      <td>2</td>\n",
       "      <td>KMeans</td>\n",
       "    </tr>\n",
       "    <tr>\n",
       "      <th>2</th>\n",
       "      <td>Ptrans_test2</td>\n",
       "      <td>0.230440</td>\n",
       "      <td>2</td>\n",
       "      <td>KMeans</td>\n",
       "    </tr>\n",
       "    <tr>\n",
       "      <th>3</th>\n",
       "      <td>Ptrans_test2_TA</td>\n",
       "      <td>0.236772</td>\n",
       "      <td>2</td>\n",
       "      <td>KMeans</td>\n",
       "    </tr>\n",
       "    <tr>\n",
       "      <th>4</th>\n",
       "      <td>Ptrans_test3</td>\n",
       "      <td>0.212149</td>\n",
       "      <td>2</td>\n",
       "      <td>KMeans</td>\n",
       "    </tr>\n",
       "    <tr>\n",
       "      <th>5</th>\n",
       "      <td>Ptrans_test3_TA</td>\n",
       "      <td>0.209489</td>\n",
       "      <td>2</td>\n",
       "      <td>KMeans</td>\n",
       "    </tr>\n",
       "    <tr>\n",
       "      <th>6</th>\n",
       "      <td>Ptrans_test1</td>\n",
       "      <td>0.206541</td>\n",
       "      <td>3</td>\n",
       "      <td>KMeans</td>\n",
       "    </tr>\n",
       "    <tr>\n",
       "      <th>7</th>\n",
       "      <td>Ptrans_test1_TA</td>\n",
       "      <td>0.212233</td>\n",
       "      <td>3</td>\n",
       "      <td>KMeans</td>\n",
       "    </tr>\n",
       "    <tr>\n",
       "      <th>8</th>\n",
       "      <td>Ptrans_test2</td>\n",
       "      <td>0.224783</td>\n",
       "      <td>3</td>\n",
       "      <td>KMeans</td>\n",
       "    </tr>\n",
       "    <tr>\n",
       "      <th>9</th>\n",
       "      <td>Ptrans_test2_TA</td>\n",
       "      <td>0.229488</td>\n",
       "      <td>3</td>\n",
       "      <td>KMeans</td>\n",
       "    </tr>\n",
       "    <tr>\n",
       "      <th>10</th>\n",
       "      <td>Ptrans_test3</td>\n",
       "      <td>0.226929</td>\n",
       "      <td>3</td>\n",
       "      <td>KMeans</td>\n",
       "    </tr>\n",
       "    <tr>\n",
       "      <th>11</th>\n",
       "      <td>Ptrans_test3_TA</td>\n",
       "      <td>0.229824</td>\n",
       "      <td>3</td>\n",
       "      <td>KMeans</td>\n",
       "    </tr>\n",
       "    <tr>\n",
       "      <th>12</th>\n",
       "      <td>Ptrans_test1</td>\n",
       "      <td>0.210518</td>\n",
       "      <td>4</td>\n",
       "      <td>KMeans</td>\n",
       "    </tr>\n",
       "    <tr>\n",
       "      <th>13</th>\n",
       "      <td>Ptrans_test1_TA</td>\n",
       "      <td>0.206659</td>\n",
       "      <td>4</td>\n",
       "      <td>KMeans</td>\n",
       "    </tr>\n",
       "    <tr>\n",
       "      <th>14</th>\n",
       "      <td>Ptrans_test2</td>\n",
       "      <td>0.235011</td>\n",
       "      <td>4</td>\n",
       "      <td>KMeans</td>\n",
       "    </tr>\n",
       "    <tr>\n",
       "      <th>15</th>\n",
       "      <td>Ptrans_test2_TA</td>\n",
       "      <td>0.246479</td>\n",
       "      <td>4</td>\n",
       "      <td>KMeans</td>\n",
       "    </tr>\n",
       "    <tr>\n",
       "      <th>16</th>\n",
       "      <td>Ptrans_test3</td>\n",
       "      <td>0.212671</td>\n",
       "      <td>4</td>\n",
       "      <td>KMeans</td>\n",
       "    </tr>\n",
       "    <tr>\n",
       "      <th>17</th>\n",
       "      <td>Ptrans_test3_TA</td>\n",
       "      <td>0.215250</td>\n",
       "      <td>4</td>\n",
       "      <td>KMeans</td>\n",
       "    </tr>\n",
       "    <tr>\n",
       "      <th>18</th>\n",
       "      <td>Ptrans_test1</td>\n",
       "      <td>0.208706</td>\n",
       "      <td>5</td>\n",
       "      <td>KMeans</td>\n",
       "    </tr>\n",
       "    <tr>\n",
       "      <th>19</th>\n",
       "      <td>Ptrans_test1_TA</td>\n",
       "      <td>0.206981</td>\n",
       "      <td>5</td>\n",
       "      <td>KMeans</td>\n",
       "    </tr>\n",
       "    <tr>\n",
       "      <th>20</th>\n",
       "      <td>Ptrans_test2</td>\n",
       "      <td>0.237206</td>\n",
       "      <td>5</td>\n",
       "      <td>KMeans</td>\n",
       "    </tr>\n",
       "    <tr>\n",
       "      <th>21</th>\n",
       "      <td>Ptrans_test2_TA</td>\n",
       "      <td>0.212028</td>\n",
       "      <td>5</td>\n",
       "      <td>KMeans</td>\n",
       "    </tr>\n",
       "    <tr>\n",
       "      <th>22</th>\n",
       "      <td>Ptrans_test3</td>\n",
       "      <td>0.216831</td>\n",
       "      <td>5</td>\n",
       "      <td>KMeans</td>\n",
       "    </tr>\n",
       "    <tr>\n",
       "      <th>23</th>\n",
       "      <td>Ptrans_test3_TA</td>\n",
       "      <td>0.222817</td>\n",
       "      <td>5</td>\n",
       "      <td>KMeans</td>\n",
       "    </tr>\n",
       "    <tr>\n",
       "      <th>24</th>\n",
       "      <td>Ptrans_test1</td>\n",
       "      <td>0.211222</td>\n",
       "      <td>6</td>\n",
       "      <td>KMeans</td>\n",
       "    </tr>\n",
       "    <tr>\n",
       "      <th>25</th>\n",
       "      <td>Ptrans_test1_TA</td>\n",
       "      <td>0.206015</td>\n",
       "      <td>6</td>\n",
       "      <td>KMeans</td>\n",
       "    </tr>\n",
       "    <tr>\n",
       "      <th>26</th>\n",
       "      <td>Ptrans_test2</td>\n",
       "      <td>0.212901</td>\n",
       "      <td>6</td>\n",
       "      <td>KMeans</td>\n",
       "    </tr>\n",
       "    <tr>\n",
       "      <th>27</th>\n",
       "      <td>Ptrans_test2_TA</td>\n",
       "      <td>0.214431</td>\n",
       "      <td>6</td>\n",
       "      <td>KMeans</td>\n",
       "    </tr>\n",
       "    <tr>\n",
       "      <th>28</th>\n",
       "      <td>Ptrans_test3</td>\n",
       "      <td>0.211485</td>\n",
       "      <td>6</td>\n",
       "      <td>KMeans</td>\n",
       "    </tr>\n",
       "    <tr>\n",
       "      <th>29</th>\n",
       "      <td>Ptrans_test3_TA</td>\n",
       "      <td>0.202389</td>\n",
       "      <td>6</td>\n",
       "      <td>KMeans</td>\n",
       "    </tr>\n",
       "    <tr>\n",
       "      <th>30</th>\n",
       "      <td>Ptrans_test1</td>\n",
       "      <td>0.201922</td>\n",
       "      <td>7</td>\n",
       "      <td>KMeans</td>\n",
       "    </tr>\n",
       "    <tr>\n",
       "      <th>31</th>\n",
       "      <td>Ptrans_test1_TA</td>\n",
       "      <td>0.216215</td>\n",
       "      <td>7</td>\n",
       "      <td>KMeans</td>\n",
       "    </tr>\n",
       "    <tr>\n",
       "      <th>32</th>\n",
       "      <td>Ptrans_test2</td>\n",
       "      <td>0.198923</td>\n",
       "      <td>7</td>\n",
       "      <td>KMeans</td>\n",
       "    </tr>\n",
       "    <tr>\n",
       "      <th>33</th>\n",
       "      <td>Ptrans_test2_TA</td>\n",
       "      <td>0.228790</td>\n",
       "      <td>7</td>\n",
       "      <td>KMeans</td>\n",
       "    </tr>\n",
       "    <tr>\n",
       "      <th>34</th>\n",
       "      <td>Ptrans_test3</td>\n",
       "      <td>0.209696</td>\n",
       "      <td>7</td>\n",
       "      <td>KMeans</td>\n",
       "    </tr>\n",
       "    <tr>\n",
       "      <th>35</th>\n",
       "      <td>Ptrans_test3_TA</td>\n",
       "      <td>0.197883</td>\n",
       "      <td>7</td>\n",
       "      <td>KMeans</td>\n",
       "    </tr>\n",
       "    <tr>\n",
       "      <th>36</th>\n",
       "      <td>Ptrans_test1</td>\n",
       "      <td>0.200009</td>\n",
       "      <td>8</td>\n",
       "      <td>KMeans</td>\n",
       "    </tr>\n",
       "    <tr>\n",
       "      <th>37</th>\n",
       "      <td>Ptrans_test1_TA</td>\n",
       "      <td>0.212774</td>\n",
       "      <td>8</td>\n",
       "      <td>KMeans</td>\n",
       "    </tr>\n",
       "    <tr>\n",
       "      <th>38</th>\n",
       "      <td>Ptrans_test2</td>\n",
       "      <td>0.196878</td>\n",
       "      <td>8</td>\n",
       "      <td>KMeans</td>\n",
       "    </tr>\n",
       "    <tr>\n",
       "      <th>39</th>\n",
       "      <td>Ptrans_test2_TA</td>\n",
       "      <td>0.208350</td>\n",
       "      <td>8</td>\n",
       "      <td>KMeans</td>\n",
       "    </tr>\n",
       "    <tr>\n",
       "      <th>40</th>\n",
       "      <td>Ptrans_test3</td>\n",
       "      <td>0.211811</td>\n",
       "      <td>8</td>\n",
       "      <td>KMeans</td>\n",
       "    </tr>\n",
       "    <tr>\n",
       "      <th>41</th>\n",
       "      <td>Ptrans_test3_TA</td>\n",
       "      <td>0.218938</td>\n",
       "      <td>8</td>\n",
       "      <td>KMeans</td>\n",
       "    </tr>\n",
       "    <tr>\n",
       "      <th>42</th>\n",
       "      <td>Ptrans_test1</td>\n",
       "      <td>0.225764</td>\n",
       "      <td>9</td>\n",
       "      <td>KMeans</td>\n",
       "    </tr>\n",
       "    <tr>\n",
       "      <th>43</th>\n",
       "      <td>Ptrans_test1_TA</td>\n",
       "      <td>0.202442</td>\n",
       "      <td>9</td>\n",
       "      <td>KMeans</td>\n",
       "    </tr>\n",
       "    <tr>\n",
       "      <th>44</th>\n",
       "      <td>Ptrans_test2</td>\n",
       "      <td>0.197750</td>\n",
       "      <td>9</td>\n",
       "      <td>KMeans</td>\n",
       "    </tr>\n",
       "    <tr>\n",
       "      <th>45</th>\n",
       "      <td>Ptrans_test2_TA</td>\n",
       "      <td>0.212187</td>\n",
       "      <td>9</td>\n",
       "      <td>KMeans</td>\n",
       "    </tr>\n",
       "    <tr>\n",
       "      <th>46</th>\n",
       "      <td>Ptrans_test3</td>\n",
       "      <td>0.187288</td>\n",
       "      <td>9</td>\n",
       "      <td>KMeans</td>\n",
       "    </tr>\n",
       "    <tr>\n",
       "      <th>47</th>\n",
       "      <td>Ptrans_test3_TA</td>\n",
       "      <td>0.204589</td>\n",
       "      <td>9</td>\n",
       "      <td>KMeans</td>\n",
       "    </tr>\n",
       "    <tr>\n",
       "      <th>48</th>\n",
       "      <td>Ptrans_test1</td>\n",
       "      <td>0.225679</td>\n",
       "      <td>10</td>\n",
       "      <td>KMeans</td>\n",
       "    </tr>\n",
       "    <tr>\n",
       "      <th>49</th>\n",
       "      <td>Ptrans_test1_TA</td>\n",
       "      <td>0.210644</td>\n",
       "      <td>10</td>\n",
       "      <td>KMeans</td>\n",
       "    </tr>\n",
       "    <tr>\n",
       "      <th>50</th>\n",
       "      <td>Ptrans_test2</td>\n",
       "      <td>0.193225</td>\n",
       "      <td>10</td>\n",
       "      <td>KMeans</td>\n",
       "    </tr>\n",
       "    <tr>\n",
       "      <th>51</th>\n",
       "      <td>Ptrans_test2_TA</td>\n",
       "      <td>0.213644</td>\n",
       "      <td>10</td>\n",
       "      <td>KMeans</td>\n",
       "    </tr>\n",
       "    <tr>\n",
       "      <th>52</th>\n",
       "      <td>Ptrans_test3</td>\n",
       "      <td>0.199001</td>\n",
       "      <td>10</td>\n",
       "      <td>KMeans</td>\n",
       "    </tr>\n",
       "    <tr>\n",
       "      <th>53</th>\n",
       "      <td>Ptrans_test3_TA</td>\n",
       "      <td>0.210548</td>\n",
       "      <td>10</td>\n",
       "      <td>KMeans</td>\n",
       "    </tr>\n",
       "  </tbody>\n",
       "</table>\n",
       "</div>"
      ],
      "text/plain": [
       "               Data  Sil_Score  n_clusters  Metodo\n",
       "0      Ptrans_test1   0.219189           2  KMeans\n",
       "1   Ptrans_test1_TA   0.221991           2  KMeans\n",
       "2      Ptrans_test2   0.230440           2  KMeans\n",
       "3   Ptrans_test2_TA   0.236772           2  KMeans\n",
       "4      Ptrans_test3   0.212149           2  KMeans\n",
       "5   Ptrans_test3_TA   0.209489           2  KMeans\n",
       "6      Ptrans_test1   0.206541           3  KMeans\n",
       "7   Ptrans_test1_TA   0.212233           3  KMeans\n",
       "8      Ptrans_test2   0.224783           3  KMeans\n",
       "9   Ptrans_test2_TA   0.229488           3  KMeans\n",
       "10     Ptrans_test3   0.226929           3  KMeans\n",
       "11  Ptrans_test3_TA   0.229824           3  KMeans\n",
       "12     Ptrans_test1   0.210518           4  KMeans\n",
       "13  Ptrans_test1_TA   0.206659           4  KMeans\n",
       "14     Ptrans_test2   0.235011           4  KMeans\n",
       "15  Ptrans_test2_TA   0.246479           4  KMeans\n",
       "16     Ptrans_test3   0.212671           4  KMeans\n",
       "17  Ptrans_test3_TA   0.215250           4  KMeans\n",
       "18     Ptrans_test1   0.208706           5  KMeans\n",
       "19  Ptrans_test1_TA   0.206981           5  KMeans\n",
       "20     Ptrans_test2   0.237206           5  KMeans\n",
       "21  Ptrans_test2_TA   0.212028           5  KMeans\n",
       "22     Ptrans_test3   0.216831           5  KMeans\n",
       "23  Ptrans_test3_TA   0.222817           5  KMeans\n",
       "24     Ptrans_test1   0.211222           6  KMeans\n",
       "25  Ptrans_test1_TA   0.206015           6  KMeans\n",
       "26     Ptrans_test2   0.212901           6  KMeans\n",
       "27  Ptrans_test2_TA   0.214431           6  KMeans\n",
       "28     Ptrans_test3   0.211485           6  KMeans\n",
       "29  Ptrans_test3_TA   0.202389           6  KMeans\n",
       "30     Ptrans_test1   0.201922           7  KMeans\n",
       "31  Ptrans_test1_TA   0.216215           7  KMeans\n",
       "32     Ptrans_test2   0.198923           7  KMeans\n",
       "33  Ptrans_test2_TA   0.228790           7  KMeans\n",
       "34     Ptrans_test3   0.209696           7  KMeans\n",
       "35  Ptrans_test3_TA   0.197883           7  KMeans\n",
       "36     Ptrans_test1   0.200009           8  KMeans\n",
       "37  Ptrans_test1_TA   0.212774           8  KMeans\n",
       "38     Ptrans_test2   0.196878           8  KMeans\n",
       "39  Ptrans_test2_TA   0.208350           8  KMeans\n",
       "40     Ptrans_test3   0.211811           8  KMeans\n",
       "41  Ptrans_test3_TA   0.218938           8  KMeans\n",
       "42     Ptrans_test1   0.225764           9  KMeans\n",
       "43  Ptrans_test1_TA   0.202442           9  KMeans\n",
       "44     Ptrans_test2   0.197750           9  KMeans\n",
       "45  Ptrans_test2_TA   0.212187           9  KMeans\n",
       "46     Ptrans_test3   0.187288           9  KMeans\n",
       "47  Ptrans_test3_TA   0.204589           9  KMeans\n",
       "48     Ptrans_test1   0.225679          10  KMeans\n",
       "49  Ptrans_test1_TA   0.210644          10  KMeans\n",
       "50     Ptrans_test2   0.193225          10  KMeans\n",
       "51  Ptrans_test2_TA   0.213644          10  KMeans\n",
       "52     Ptrans_test3   0.199001          10  KMeans\n",
       "53  Ptrans_test3_TA   0.210548          10  KMeans"
      ]
     },
     "execution_count": 143,
     "metadata": {},
     "output_type": "execute_result"
    }
   ],
   "source": [
    "sil_KMeans = pd.DataFrame({'Data': 9*nombre_datos, \"Sil_Score\": sil_list, \"n_clusters\" : num, \"Metodo\":\"KMeans\"})\n",
    "sil_KMeans.to_csv('sil_Kmeans.csv', index_label = False)\n",
    "sil_KMeans"
   ]
  },
  {
   "cell_type": "code",
   "execution_count": 142,
   "metadata": {},
   "outputs": [
    {
     "data": {
      "text/html": [
       "<div>\n",
       "<style scoped>\n",
       "    .dataframe tbody tr th:only-of-type {\n",
       "        vertical-align: middle;\n",
       "    }\n",
       "\n",
       "    .dataframe tbody tr th {\n",
       "        vertical-align: top;\n",
       "    }\n",
       "\n",
       "    .dataframe thead th {\n",
       "        text-align: right;\n",
       "    }\n",
       "</style>\n",
       "<table border=\"1\" class=\"dataframe\">\n",
       "  <thead>\n",
       "    <tr style=\"text-align: right;\">\n",
       "      <th></th>\n",
       "      <th>Data</th>\n",
       "      <th>Sil_Score</th>\n",
       "      <th>n_clusters</th>\n",
       "      <th>Metodo</th>\n",
       "    </tr>\n",
       "  </thead>\n",
       "  <tbody>\n",
       "    <tr>\n",
       "      <th>5</th>\n",
       "      <td>Ptrans_test3_TA</td>\n",
       "      <td>0.209489</td>\n",
       "      <td>2</td>\n",
       "      <td>KMeans</td>\n",
       "    </tr>\n",
       "    <tr>\n",
       "      <th>11</th>\n",
       "      <td>Ptrans_test3_TA</td>\n",
       "      <td>0.229824</td>\n",
       "      <td>3</td>\n",
       "      <td>KMeans</td>\n",
       "    </tr>\n",
       "    <tr>\n",
       "      <th>17</th>\n",
       "      <td>Ptrans_test3_TA</td>\n",
       "      <td>0.215250</td>\n",
       "      <td>4</td>\n",
       "      <td>KMeans</td>\n",
       "    </tr>\n",
       "    <tr>\n",
       "      <th>23</th>\n",
       "      <td>Ptrans_test3_TA</td>\n",
       "      <td>0.222817</td>\n",
       "      <td>5</td>\n",
       "      <td>KMeans</td>\n",
       "    </tr>\n",
       "    <tr>\n",
       "      <th>29</th>\n",
       "      <td>Ptrans_test3_TA</td>\n",
       "      <td>0.202389</td>\n",
       "      <td>6</td>\n",
       "      <td>KMeans</td>\n",
       "    </tr>\n",
       "    <tr>\n",
       "      <th>35</th>\n",
       "      <td>Ptrans_test3_TA</td>\n",
       "      <td>0.197883</td>\n",
       "      <td>7</td>\n",
       "      <td>KMeans</td>\n",
       "    </tr>\n",
       "    <tr>\n",
       "      <th>41</th>\n",
       "      <td>Ptrans_test3_TA</td>\n",
       "      <td>0.218938</td>\n",
       "      <td>8</td>\n",
       "      <td>KMeans</td>\n",
       "    </tr>\n",
       "    <tr>\n",
       "      <th>47</th>\n",
       "      <td>Ptrans_test3_TA</td>\n",
       "      <td>0.204589</td>\n",
       "      <td>9</td>\n",
       "      <td>KMeans</td>\n",
       "    </tr>\n",
       "    <tr>\n",
       "      <th>53</th>\n",
       "      <td>Ptrans_test3_TA</td>\n",
       "      <td>0.210548</td>\n",
       "      <td>10</td>\n",
       "      <td>KMeans</td>\n",
       "    </tr>\n",
       "  </tbody>\n",
       "</table>\n",
       "</div>"
      ],
      "text/plain": [
       "               Data  Sil_Score  n_clusters  Metodo\n",
       "5   Ptrans_test3_TA   0.209489           2  KMeans\n",
       "11  Ptrans_test3_TA   0.229824           3  KMeans\n",
       "17  Ptrans_test3_TA   0.215250           4  KMeans\n",
       "23  Ptrans_test3_TA   0.222817           5  KMeans\n",
       "29  Ptrans_test3_TA   0.202389           6  KMeans\n",
       "35  Ptrans_test3_TA   0.197883           7  KMeans\n",
       "41  Ptrans_test3_TA   0.218938           8  KMeans\n",
       "47  Ptrans_test3_TA   0.204589           9  KMeans\n",
       "53  Ptrans_test3_TA   0.210548          10  KMeans"
      ]
     },
     "execution_count": 142,
     "metadata": {},
     "output_type": "execute_result"
    }
   ],
   "source": [
    "dft = sil_KMeans.query('Data == \"Ptrans_test3_TA\"')\n",
    "dft"
   ]
  },
  {
   "cell_type": "code",
   "execution_count": 86,
   "metadata": {},
   "outputs": [],
   "source": [
    "import plotly.express as px"
   ]
  },
  {
   "cell_type": "code",
   "execution_count": 178,
   "metadata": {},
   "outputs": [
    {
     "data": {
      "text/html": [
       "<div>\n",
       "<style scoped>\n",
       "    .dataframe tbody tr th:only-of-type {\n",
       "        vertical-align: middle;\n",
       "    }\n",
       "\n",
       "    .dataframe tbody tr th {\n",
       "        vertical-align: top;\n",
       "    }\n",
       "\n",
       "    .dataframe thead th {\n",
       "        text-align: right;\n",
       "    }\n",
       "</style>\n",
       "<table border=\"1\" class=\"dataframe\">\n",
       "  <thead>\n",
       "    <tr style=\"text-align: right;\">\n",
       "      <th></th>\n",
       "      <th>Data</th>\n",
       "      <th>Sil_Score</th>\n",
       "      <th>n_clusters</th>\n",
       "      <th>Metodo</th>\n",
       "    </tr>\n",
       "  </thead>\n",
       "  <tbody>\n",
       "    <tr>\n",
       "      <th>0</th>\n",
       "      <td>Ptrans_test1</td>\n",
       "      <td>0.219189</td>\n",
       "      <td>2</td>\n",
       "      <td>KMeans</td>\n",
       "    </tr>\n",
       "    <tr>\n",
       "      <th>1</th>\n",
       "      <td>Ptrans_test1_TA</td>\n",
       "      <td>0.221991</td>\n",
       "      <td>2</td>\n",
       "      <td>KMeans</td>\n",
       "    </tr>\n",
       "    <tr>\n",
       "      <th>2</th>\n",
       "      <td>Ptrans_test2</td>\n",
       "      <td>0.230440</td>\n",
       "      <td>2</td>\n",
       "      <td>KMeans</td>\n",
       "    </tr>\n",
       "    <tr>\n",
       "      <th>3</th>\n",
       "      <td>Ptrans_test2_TA</td>\n",
       "      <td>0.236772</td>\n",
       "      <td>2</td>\n",
       "      <td>KMeans</td>\n",
       "    </tr>\n",
       "    <tr>\n",
       "      <th>4</th>\n",
       "      <td>Ptrans_test3</td>\n",
       "      <td>0.212149</td>\n",
       "      <td>2</td>\n",
       "      <td>KMeans</td>\n",
       "    </tr>\n",
       "    <tr>\n",
       "      <th>5</th>\n",
       "      <td>Ptrans_test3_TA</td>\n",
       "      <td>0.209489</td>\n",
       "      <td>2</td>\n",
       "      <td>KMeans</td>\n",
       "    </tr>\n",
       "    <tr>\n",
       "      <th>6</th>\n",
       "      <td>Ptrans_test1</td>\n",
       "      <td>0.206541</td>\n",
       "      <td>3</td>\n",
       "      <td>KMeans</td>\n",
       "    </tr>\n",
       "    <tr>\n",
       "      <th>7</th>\n",
       "      <td>Ptrans_test1_TA</td>\n",
       "      <td>0.212233</td>\n",
       "      <td>3</td>\n",
       "      <td>KMeans</td>\n",
       "    </tr>\n",
       "    <tr>\n",
       "      <th>8</th>\n",
       "      <td>Ptrans_test2</td>\n",
       "      <td>0.224783</td>\n",
       "      <td>3</td>\n",
       "      <td>KMeans</td>\n",
       "    </tr>\n",
       "    <tr>\n",
       "      <th>9</th>\n",
       "      <td>Ptrans_test2_TA</td>\n",
       "      <td>0.229488</td>\n",
       "      <td>3</td>\n",
       "      <td>KMeans</td>\n",
       "    </tr>\n",
       "    <tr>\n",
       "      <th>10</th>\n",
       "      <td>Ptrans_test3</td>\n",
       "      <td>0.226929</td>\n",
       "      <td>3</td>\n",
       "      <td>KMeans</td>\n",
       "    </tr>\n",
       "    <tr>\n",
       "      <th>11</th>\n",
       "      <td>Ptrans_test3_TA</td>\n",
       "      <td>0.229824</td>\n",
       "      <td>3</td>\n",
       "      <td>KMeans</td>\n",
       "    </tr>\n",
       "    <tr>\n",
       "      <th>12</th>\n",
       "      <td>Ptrans_test1</td>\n",
       "      <td>0.210518</td>\n",
       "      <td>4</td>\n",
       "      <td>KMeans</td>\n",
       "    </tr>\n",
       "    <tr>\n",
       "      <th>13</th>\n",
       "      <td>Ptrans_test1_TA</td>\n",
       "      <td>0.206659</td>\n",
       "      <td>4</td>\n",
       "      <td>KMeans</td>\n",
       "    </tr>\n",
       "    <tr>\n",
       "      <th>14</th>\n",
       "      <td>Ptrans_test2</td>\n",
       "      <td>0.235011</td>\n",
       "      <td>4</td>\n",
       "      <td>KMeans</td>\n",
       "    </tr>\n",
       "    <tr>\n",
       "      <th>15</th>\n",
       "      <td>Ptrans_test2_TA</td>\n",
       "      <td>0.246479</td>\n",
       "      <td>4</td>\n",
       "      <td>KMeans</td>\n",
       "    </tr>\n",
       "    <tr>\n",
       "      <th>16</th>\n",
       "      <td>Ptrans_test3</td>\n",
       "      <td>0.212671</td>\n",
       "      <td>4</td>\n",
       "      <td>KMeans</td>\n",
       "    </tr>\n",
       "    <tr>\n",
       "      <th>17</th>\n",
       "      <td>Ptrans_test3_TA</td>\n",
       "      <td>0.215250</td>\n",
       "      <td>4</td>\n",
       "      <td>KMeans</td>\n",
       "    </tr>\n",
       "    <tr>\n",
       "      <th>18</th>\n",
       "      <td>Ptrans_test1</td>\n",
       "      <td>0.208706</td>\n",
       "      <td>5</td>\n",
       "      <td>KMeans</td>\n",
       "    </tr>\n",
       "    <tr>\n",
       "      <th>19</th>\n",
       "      <td>Ptrans_test1_TA</td>\n",
       "      <td>0.206981</td>\n",
       "      <td>5</td>\n",
       "      <td>KMeans</td>\n",
       "    </tr>\n",
       "    <tr>\n",
       "      <th>20</th>\n",
       "      <td>Ptrans_test2</td>\n",
       "      <td>0.237206</td>\n",
       "      <td>5</td>\n",
       "      <td>KMeans</td>\n",
       "    </tr>\n",
       "    <tr>\n",
       "      <th>21</th>\n",
       "      <td>Ptrans_test2_TA</td>\n",
       "      <td>0.212028</td>\n",
       "      <td>5</td>\n",
       "      <td>KMeans</td>\n",
       "    </tr>\n",
       "    <tr>\n",
       "      <th>22</th>\n",
       "      <td>Ptrans_test3</td>\n",
       "      <td>0.216831</td>\n",
       "      <td>5</td>\n",
       "      <td>KMeans</td>\n",
       "    </tr>\n",
       "    <tr>\n",
       "      <th>23</th>\n",
       "      <td>Ptrans_test3_TA</td>\n",
       "      <td>0.222817</td>\n",
       "      <td>5</td>\n",
       "      <td>KMeans</td>\n",
       "    </tr>\n",
       "    <tr>\n",
       "      <th>24</th>\n",
       "      <td>Ptrans_test1</td>\n",
       "      <td>0.211222</td>\n",
       "      <td>6</td>\n",
       "      <td>KMeans</td>\n",
       "    </tr>\n",
       "    <tr>\n",
       "      <th>25</th>\n",
       "      <td>Ptrans_test1_TA</td>\n",
       "      <td>0.206015</td>\n",
       "      <td>6</td>\n",
       "      <td>KMeans</td>\n",
       "    </tr>\n",
       "    <tr>\n",
       "      <th>26</th>\n",
       "      <td>Ptrans_test2</td>\n",
       "      <td>0.212901</td>\n",
       "      <td>6</td>\n",
       "      <td>KMeans</td>\n",
       "    </tr>\n",
       "    <tr>\n",
       "      <th>27</th>\n",
       "      <td>Ptrans_test2_TA</td>\n",
       "      <td>0.214431</td>\n",
       "      <td>6</td>\n",
       "      <td>KMeans</td>\n",
       "    </tr>\n",
       "    <tr>\n",
       "      <th>28</th>\n",
       "      <td>Ptrans_test3</td>\n",
       "      <td>0.211485</td>\n",
       "      <td>6</td>\n",
       "      <td>KMeans</td>\n",
       "    </tr>\n",
       "    <tr>\n",
       "      <th>29</th>\n",
       "      <td>Ptrans_test3_TA</td>\n",
       "      <td>0.202389</td>\n",
       "      <td>6</td>\n",
       "      <td>KMeans</td>\n",
       "    </tr>\n",
       "    <tr>\n",
       "      <th>30</th>\n",
       "      <td>Ptrans_test1</td>\n",
       "      <td>0.201922</td>\n",
       "      <td>7</td>\n",
       "      <td>KMeans</td>\n",
       "    </tr>\n",
       "    <tr>\n",
       "      <th>31</th>\n",
       "      <td>Ptrans_test1_TA</td>\n",
       "      <td>0.216215</td>\n",
       "      <td>7</td>\n",
       "      <td>KMeans</td>\n",
       "    </tr>\n",
       "    <tr>\n",
       "      <th>32</th>\n",
       "      <td>Ptrans_test2</td>\n",
       "      <td>0.198923</td>\n",
       "      <td>7</td>\n",
       "      <td>KMeans</td>\n",
       "    </tr>\n",
       "    <tr>\n",
       "      <th>33</th>\n",
       "      <td>Ptrans_test2_TA</td>\n",
       "      <td>0.228790</td>\n",
       "      <td>7</td>\n",
       "      <td>KMeans</td>\n",
       "    </tr>\n",
       "    <tr>\n",
       "      <th>34</th>\n",
       "      <td>Ptrans_test3</td>\n",
       "      <td>0.209696</td>\n",
       "      <td>7</td>\n",
       "      <td>KMeans</td>\n",
       "    </tr>\n",
       "    <tr>\n",
       "      <th>35</th>\n",
       "      <td>Ptrans_test3_TA</td>\n",
       "      <td>0.197883</td>\n",
       "      <td>7</td>\n",
       "      <td>KMeans</td>\n",
       "    </tr>\n",
       "    <tr>\n",
       "      <th>36</th>\n",
       "      <td>Ptrans_test1</td>\n",
       "      <td>0.200009</td>\n",
       "      <td>8</td>\n",
       "      <td>KMeans</td>\n",
       "    </tr>\n",
       "    <tr>\n",
       "      <th>37</th>\n",
       "      <td>Ptrans_test1_TA</td>\n",
       "      <td>0.212774</td>\n",
       "      <td>8</td>\n",
       "      <td>KMeans</td>\n",
       "    </tr>\n",
       "    <tr>\n",
       "      <th>38</th>\n",
       "      <td>Ptrans_test2</td>\n",
       "      <td>0.196878</td>\n",
       "      <td>8</td>\n",
       "      <td>KMeans</td>\n",
       "    </tr>\n",
       "    <tr>\n",
       "      <th>39</th>\n",
       "      <td>Ptrans_test2_TA</td>\n",
       "      <td>0.208350</td>\n",
       "      <td>8</td>\n",
       "      <td>KMeans</td>\n",
       "    </tr>\n",
       "    <tr>\n",
       "      <th>40</th>\n",
       "      <td>Ptrans_test3</td>\n",
       "      <td>0.211811</td>\n",
       "      <td>8</td>\n",
       "      <td>KMeans</td>\n",
       "    </tr>\n",
       "    <tr>\n",
       "      <th>41</th>\n",
       "      <td>Ptrans_test3_TA</td>\n",
       "      <td>0.218938</td>\n",
       "      <td>8</td>\n",
       "      <td>KMeans</td>\n",
       "    </tr>\n",
       "    <tr>\n",
       "      <th>42</th>\n",
       "      <td>Ptrans_test1</td>\n",
       "      <td>0.225764</td>\n",
       "      <td>9</td>\n",
       "      <td>KMeans</td>\n",
       "    </tr>\n",
       "    <tr>\n",
       "      <th>43</th>\n",
       "      <td>Ptrans_test1_TA</td>\n",
       "      <td>0.202442</td>\n",
       "      <td>9</td>\n",
       "      <td>KMeans</td>\n",
       "    </tr>\n",
       "    <tr>\n",
       "      <th>44</th>\n",
       "      <td>Ptrans_test2</td>\n",
       "      <td>0.197750</td>\n",
       "      <td>9</td>\n",
       "      <td>KMeans</td>\n",
       "    </tr>\n",
       "    <tr>\n",
       "      <th>45</th>\n",
       "      <td>Ptrans_test2_TA</td>\n",
       "      <td>0.212187</td>\n",
       "      <td>9</td>\n",
       "      <td>KMeans</td>\n",
       "    </tr>\n",
       "    <tr>\n",
       "      <th>46</th>\n",
       "      <td>Ptrans_test3</td>\n",
       "      <td>0.187288</td>\n",
       "      <td>9</td>\n",
       "      <td>KMeans</td>\n",
       "    </tr>\n",
       "    <tr>\n",
       "      <th>47</th>\n",
       "      <td>Ptrans_test3_TA</td>\n",
       "      <td>0.204589</td>\n",
       "      <td>9</td>\n",
       "      <td>KMeans</td>\n",
       "    </tr>\n",
       "    <tr>\n",
       "      <th>48</th>\n",
       "      <td>Ptrans_test1</td>\n",
       "      <td>0.225679</td>\n",
       "      <td>10</td>\n",
       "      <td>KMeans</td>\n",
       "    </tr>\n",
       "    <tr>\n",
       "      <th>49</th>\n",
       "      <td>Ptrans_test1_TA</td>\n",
       "      <td>0.210644</td>\n",
       "      <td>10</td>\n",
       "      <td>KMeans</td>\n",
       "    </tr>\n",
       "    <tr>\n",
       "      <th>50</th>\n",
       "      <td>Ptrans_test2</td>\n",
       "      <td>0.193225</td>\n",
       "      <td>10</td>\n",
       "      <td>KMeans</td>\n",
       "    </tr>\n",
       "    <tr>\n",
       "      <th>51</th>\n",
       "      <td>Ptrans_test2_TA</td>\n",
       "      <td>0.213644</td>\n",
       "      <td>10</td>\n",
       "      <td>KMeans</td>\n",
       "    </tr>\n",
       "    <tr>\n",
       "      <th>52</th>\n",
       "      <td>Ptrans_test3</td>\n",
       "      <td>0.199001</td>\n",
       "      <td>10</td>\n",
       "      <td>KMeans</td>\n",
       "    </tr>\n",
       "    <tr>\n",
       "      <th>53</th>\n",
       "      <td>Ptrans_test3_TA</td>\n",
       "      <td>0.210548</td>\n",
       "      <td>10</td>\n",
       "      <td>KMeans</td>\n",
       "    </tr>\n",
       "  </tbody>\n",
       "</table>\n",
       "</div>"
      ],
      "text/plain": [
       "               Data  Sil_Score  n_clusters  Metodo\n",
       "0      Ptrans_test1   0.219189           2  KMeans\n",
       "1   Ptrans_test1_TA   0.221991           2  KMeans\n",
       "2      Ptrans_test2   0.230440           2  KMeans\n",
       "3   Ptrans_test2_TA   0.236772           2  KMeans\n",
       "4      Ptrans_test3   0.212149           2  KMeans\n",
       "5   Ptrans_test3_TA   0.209489           2  KMeans\n",
       "6      Ptrans_test1   0.206541           3  KMeans\n",
       "7   Ptrans_test1_TA   0.212233           3  KMeans\n",
       "8      Ptrans_test2   0.224783           3  KMeans\n",
       "9   Ptrans_test2_TA   0.229488           3  KMeans\n",
       "10     Ptrans_test3   0.226929           3  KMeans\n",
       "11  Ptrans_test3_TA   0.229824           3  KMeans\n",
       "12     Ptrans_test1   0.210518           4  KMeans\n",
       "13  Ptrans_test1_TA   0.206659           4  KMeans\n",
       "14     Ptrans_test2   0.235011           4  KMeans\n",
       "15  Ptrans_test2_TA   0.246479           4  KMeans\n",
       "16     Ptrans_test3   0.212671           4  KMeans\n",
       "17  Ptrans_test3_TA   0.215250           4  KMeans\n",
       "18     Ptrans_test1   0.208706           5  KMeans\n",
       "19  Ptrans_test1_TA   0.206981           5  KMeans\n",
       "20     Ptrans_test2   0.237206           5  KMeans\n",
       "21  Ptrans_test2_TA   0.212028           5  KMeans\n",
       "22     Ptrans_test3   0.216831           5  KMeans\n",
       "23  Ptrans_test3_TA   0.222817           5  KMeans\n",
       "24     Ptrans_test1   0.211222           6  KMeans\n",
       "25  Ptrans_test1_TA   0.206015           6  KMeans\n",
       "26     Ptrans_test2   0.212901           6  KMeans\n",
       "27  Ptrans_test2_TA   0.214431           6  KMeans\n",
       "28     Ptrans_test3   0.211485           6  KMeans\n",
       "29  Ptrans_test3_TA   0.202389           6  KMeans\n",
       "30     Ptrans_test1   0.201922           7  KMeans\n",
       "31  Ptrans_test1_TA   0.216215           7  KMeans\n",
       "32     Ptrans_test2   0.198923           7  KMeans\n",
       "33  Ptrans_test2_TA   0.228790           7  KMeans\n",
       "34     Ptrans_test3   0.209696           7  KMeans\n",
       "35  Ptrans_test3_TA   0.197883           7  KMeans\n",
       "36     Ptrans_test1   0.200009           8  KMeans\n",
       "37  Ptrans_test1_TA   0.212774           8  KMeans\n",
       "38     Ptrans_test2   0.196878           8  KMeans\n",
       "39  Ptrans_test2_TA   0.208350           8  KMeans\n",
       "40     Ptrans_test3   0.211811           8  KMeans\n",
       "41  Ptrans_test3_TA   0.218938           8  KMeans\n",
       "42     Ptrans_test1   0.225764           9  KMeans\n",
       "43  Ptrans_test1_TA   0.202442           9  KMeans\n",
       "44     Ptrans_test2   0.197750           9  KMeans\n",
       "45  Ptrans_test2_TA   0.212187           9  KMeans\n",
       "46     Ptrans_test3   0.187288           9  KMeans\n",
       "47  Ptrans_test3_TA   0.204589           9  KMeans\n",
       "48     Ptrans_test1   0.225679          10  KMeans\n",
       "49  Ptrans_test1_TA   0.210644          10  KMeans\n",
       "50     Ptrans_test2   0.193225          10  KMeans\n",
       "51  Ptrans_test2_TA   0.213644          10  KMeans\n",
       "52     Ptrans_test3   0.199001          10  KMeans\n",
       "53  Ptrans_test3_TA   0.210548          10  KMeans"
      ]
     },
     "execution_count": 178,
     "metadata": {},
     "output_type": "execute_result"
    }
   ],
   "source": [
    "sil_score.query('Metodo == \"KMeans\"')"
   ]
  },
  {
   "cell_type": "code",
   "execution_count": 126,
   "metadata": {},
   "outputs": [
    {
     "data": {
      "application/vnd.plotly.v1+json": {
       "config": {
        "plotlyServerURL": "https://plot.ly"
       },
       "data": [
        {
         "hovertemplate": "Data=Ptrans_test1<br>n_clusters=%{x}<br>Sil_Score=%{y}<extra></extra>",
         "legendgroup": "Ptrans_test1",
         "marker": {
          "color": "#636efa",
          "size": 12,
          "symbol": "circle"
         },
         "mode": "markers",
         "name": "Ptrans_test1",
         "orientation": "v",
         "showlegend": true,
         "type": "scatter",
         "x": [
          2,
          3,
          4,
          5,
          6,
          7,
          8,
          9,
          10
         ],
         "xaxis": "x",
         "y": [
          0.20154400921916252,
          0.16775015067703392,
          0.18292365713235542,
          0.18398654333709474,
          0.19451013578545398,
          0.19256566863174976,
          0.19709987310538624,
          0.19245635037676886,
          0.19625760903490308
         ],
         "yaxis": "y"
        },
        {
         "hovertemplate": "Data=Ptrans_test1_TA<br>n_clusters=%{x}<br>Sil_Score=%{y}<extra></extra>",
         "legendgroup": "Ptrans_test1_TA",
         "marker": {
          "color": "#EF553B",
          "size": 12,
          "symbol": "circle"
         },
         "mode": "markers",
         "name": "Ptrans_test1_TA",
         "orientation": "v",
         "showlegend": true,
         "type": "scatter",
         "x": [
          2,
          3,
          4,
          5,
          6,
          7,
          8,
          9,
          10
         ],
         "xaxis": "x",
         "y": [
          0.172514604595549,
          0.16566104094329567,
          0.16364625874041458,
          0.16955464276272134,
          0.19119685845677156,
          0.20127679935345652,
          0.19638762240137186,
          0.20255234106800551,
          0.19884081328842113
         ],
         "yaxis": "y"
        },
        {
         "hovertemplate": "Data=Ptrans_test2<br>n_clusters=%{x}<br>Sil_Score=%{y}<extra></extra>",
         "legendgroup": "Ptrans_test2",
         "marker": {
          "color": "#00cc96",
          "size": 12,
          "symbol": "circle"
         },
         "mode": "markers",
         "name": "Ptrans_test2",
         "orientation": "v",
         "showlegend": true,
         "type": "scatter",
         "x": [
          2,
          3,
          4,
          5,
          6,
          7,
          8,
          9,
          10
         ],
         "xaxis": "x",
         "y": [
          0.19081922451866407,
          0.21493390193337594,
          0.20476823772342911,
          0.20961536917952417,
          0.20321770367338537,
          0.20198868652237062,
          0.17201583299888237,
          0.18024162833750074,
          0.1753278140603974
         ],
         "yaxis": "y"
        },
        {
         "hovertemplate": "Data=Ptrans_test2_TA<br>n_clusters=%{x}<br>Sil_Score=%{y}<extra></extra>",
         "legendgroup": "Ptrans_test2_TA",
         "marker": {
          "color": "#ab63fa",
          "size": 12,
          "symbol": "circle"
         },
         "mode": "markers",
         "name": "Ptrans_test2_TA",
         "orientation": "v",
         "showlegend": true,
         "type": "scatter",
         "x": [
          2,
          3,
          4,
          5,
          6,
          7,
          8,
          9,
          10
         ],
         "xaxis": "x",
         "y": [
          0.20206637244937217,
          0.22587190807585344,
          0.22953281866683503,
          0.21313899281714957,
          0.21203331153097044,
          0.18739544367805755,
          0.187411210975066,
          0.19033548330671005,
          0.2051711129757596
         ],
         "yaxis": "y"
        },
        {
         "hovertemplate": "Data=Ptrans_test3<br>n_clusters=%{x}<br>Sil_Score=%{y}<extra></extra>",
         "legendgroup": "Ptrans_test3",
         "marker": {
          "color": "#FFA15A",
          "size": 12,
          "symbol": "circle"
         },
         "mode": "markers",
         "name": "Ptrans_test3",
         "orientation": "v",
         "showlegend": true,
         "type": "scatter",
         "x": [
          2,
          3,
          4,
          5,
          6,
          7,
          8,
          9,
          10
         ],
         "xaxis": "x",
         "y": [
          0.23056206981435848,
          0.22372647134046306,
          0.22710801302589553,
          0.23163075173203604,
          0.20380588469115513,
          0.20752332559590558,
          0.2171480805829584,
          0.2067987741041708,
          0.2086959605356135
         ],
         "yaxis": "y"
        },
        {
         "hovertemplate": "Data=Ptrans_test3_TA<br>n_clusters=%{x}<br>Sil_Score=%{y}<extra></extra>",
         "legendgroup": "Ptrans_test3_TA",
         "marker": {
          "color": "#19d3f3",
          "size": 12,
          "symbol": "circle"
         },
         "mode": "markers",
         "name": "Ptrans_test3_TA",
         "orientation": "v",
         "showlegend": true,
         "type": "scatter",
         "x": [
          2,
          3,
          4,
          5,
          6,
          7,
          8,
          9,
          10
         ],
         "xaxis": "x",
         "y": [
          0.23742893343046906,
          0.2336766825629637,
          0.22072802255776003,
          0.22651558809130748,
          0.21013887363910208,
          0.2209879153549572,
          0.21049284399618667,
          0.21241675136328353,
          0.2191443127536389
         ],
         "yaxis": "y"
        },
        {
         "hovertemplate": "Data=Ptrans_test1<br>n_clusters=%{x}<br>Sil_Score=%{y}<extra></extra>",
         "legendgroup": "Ptrans_test1",
         "line": {
          "color": "#636efa",
          "dash": "solid",
          "shape": "linear"
         },
         "marker": {
          "symbol": "circle"
         },
         "mode": "lines",
         "name": "Ptrans_test1",
         "orientation": "v",
         "showlegend": true,
         "type": "scatter",
         "x": [
          2,
          3,
          4,
          5,
          6,
          7,
          8,
          9,
          10
         ],
         "xaxis": "x",
         "y": [
          0.20154400921916252,
          0.16775015067703392,
          0.18292365713235542,
          0.18398654333709474,
          0.19451013578545398,
          0.19256566863174976,
          0.19709987310538624,
          0.19245635037676886,
          0.19625760903490308
         ],
         "yaxis": "y"
        },
        {
         "hovertemplate": "Data=Ptrans_test1_TA<br>n_clusters=%{x}<br>Sil_Score=%{y}<extra></extra>",
         "legendgroup": "Ptrans_test1_TA",
         "line": {
          "color": "#EF553B",
          "dash": "solid",
          "shape": "linear"
         },
         "marker": {
          "symbol": "circle"
         },
         "mode": "lines",
         "name": "Ptrans_test1_TA",
         "orientation": "v",
         "showlegend": true,
         "type": "scatter",
         "x": [
          2,
          3,
          4,
          5,
          6,
          7,
          8,
          9,
          10
         ],
         "xaxis": "x",
         "y": [
          0.172514604595549,
          0.16566104094329567,
          0.16364625874041458,
          0.16955464276272134,
          0.19119685845677156,
          0.20127679935345652,
          0.19638762240137186,
          0.20255234106800551,
          0.19884081328842113
         ],
         "yaxis": "y"
        },
        {
         "hovertemplate": "Data=Ptrans_test2<br>n_clusters=%{x}<br>Sil_Score=%{y}<extra></extra>",
         "legendgroup": "Ptrans_test2",
         "line": {
          "color": "#00cc96",
          "dash": "solid",
          "shape": "linear"
         },
         "marker": {
          "symbol": "circle"
         },
         "mode": "lines",
         "name": "Ptrans_test2",
         "orientation": "v",
         "showlegend": true,
         "type": "scatter",
         "x": [
          2,
          3,
          4,
          5,
          6,
          7,
          8,
          9,
          10
         ],
         "xaxis": "x",
         "y": [
          0.19081922451866407,
          0.21493390193337594,
          0.20476823772342911,
          0.20961536917952417,
          0.20321770367338537,
          0.20198868652237062,
          0.17201583299888237,
          0.18024162833750074,
          0.1753278140603974
         ],
         "yaxis": "y"
        },
        {
         "hovertemplate": "Data=Ptrans_test2_TA<br>n_clusters=%{x}<br>Sil_Score=%{y}<extra></extra>",
         "legendgroup": "Ptrans_test2_TA",
         "line": {
          "color": "#ab63fa",
          "dash": "solid",
          "shape": "linear"
         },
         "marker": {
          "symbol": "circle"
         },
         "mode": "lines",
         "name": "Ptrans_test2_TA",
         "orientation": "v",
         "showlegend": true,
         "type": "scatter",
         "x": [
          2,
          3,
          4,
          5,
          6,
          7,
          8,
          9,
          10
         ],
         "xaxis": "x",
         "y": [
          0.20206637244937217,
          0.22587190807585344,
          0.22953281866683503,
          0.21313899281714957,
          0.21203331153097044,
          0.18739544367805755,
          0.187411210975066,
          0.19033548330671005,
          0.2051711129757596
         ],
         "yaxis": "y"
        },
        {
         "hovertemplate": "Data=Ptrans_test3<br>n_clusters=%{x}<br>Sil_Score=%{y}<extra></extra>",
         "legendgroup": "Ptrans_test3",
         "line": {
          "color": "#FFA15A",
          "dash": "solid",
          "shape": "linear"
         },
         "marker": {
          "symbol": "circle"
         },
         "mode": "lines",
         "name": "Ptrans_test3",
         "orientation": "v",
         "showlegend": true,
         "type": "scatter",
         "x": [
          2,
          3,
          4,
          5,
          6,
          7,
          8,
          9,
          10
         ],
         "xaxis": "x",
         "y": [
          0.23056206981435848,
          0.22372647134046306,
          0.22710801302589553,
          0.23163075173203604,
          0.20380588469115513,
          0.20752332559590558,
          0.2171480805829584,
          0.2067987741041708,
          0.2086959605356135
         ],
         "yaxis": "y"
        },
        {
         "hovertemplate": "Data=Ptrans_test3_TA<br>n_clusters=%{x}<br>Sil_Score=%{y}<extra></extra>",
         "legendgroup": "Ptrans_test3_TA",
         "line": {
          "color": "#19d3f3",
          "dash": "solid",
          "shape": "linear"
         },
         "marker": {
          "symbol": "circle"
         },
         "mode": "lines",
         "name": "Ptrans_test3_TA",
         "orientation": "v",
         "showlegend": true,
         "type": "scatter",
         "x": [
          2,
          3,
          4,
          5,
          6,
          7,
          8,
          9,
          10
         ],
         "xaxis": "x",
         "y": [
          0.23742893343046906,
          0.2336766825629637,
          0.22072802255776003,
          0.22651558809130748,
          0.21013887363910208,
          0.2209879153549572,
          0.21049284399618667,
          0.21241675136328353,
          0.2191443127536389
         ],
         "yaxis": "y"
        }
       ],
       "layout": {
        "legend": {
         "orientation": "v",
         "title": {
          "text": "Data"
         },
         "tracegroupgap": 0,
         "traceorder": "normal",
         "x": 1,
         "y": 1
        },
        "plot_bgcolor": "white",
        "template": {
         "data": {
          "bar": [
           {
            "error_x": {
             "color": "#2a3f5f"
            },
            "error_y": {
             "color": "#2a3f5f"
            },
            "marker": {
             "line": {
              "color": "#E5ECF6",
              "width": 0.5
             },
             "pattern": {
              "fillmode": "overlay",
              "size": 10,
              "solidity": 0.2
             }
            },
            "type": "bar"
           }
          ],
          "barpolar": [
           {
            "marker": {
             "line": {
              "color": "#E5ECF6",
              "width": 0.5
             },
             "pattern": {
              "fillmode": "overlay",
              "size": 10,
              "solidity": 0.2
             }
            },
            "type": "barpolar"
           }
          ],
          "carpet": [
           {
            "aaxis": {
             "endlinecolor": "#2a3f5f",
             "gridcolor": "white",
             "linecolor": "white",
             "minorgridcolor": "white",
             "startlinecolor": "#2a3f5f"
            },
            "baxis": {
             "endlinecolor": "#2a3f5f",
             "gridcolor": "white",
             "linecolor": "white",
             "minorgridcolor": "white",
             "startlinecolor": "#2a3f5f"
            },
            "type": "carpet"
           }
          ],
          "choropleth": [
           {
            "colorbar": {
             "outlinewidth": 0,
             "ticks": ""
            },
            "type": "choropleth"
           }
          ],
          "contour": [
           {
            "colorbar": {
             "outlinewidth": 0,
             "ticks": ""
            },
            "colorscale": [
             [
              0,
              "#0d0887"
             ],
             [
              0.1111111111111111,
              "#46039f"
             ],
             [
              0.2222222222222222,
              "#7201a8"
             ],
             [
              0.3333333333333333,
              "#9c179e"
             ],
             [
              0.4444444444444444,
              "#bd3786"
             ],
             [
              0.5555555555555556,
              "#d8576b"
             ],
             [
              0.6666666666666666,
              "#ed7953"
             ],
             [
              0.7777777777777778,
              "#fb9f3a"
             ],
             [
              0.8888888888888888,
              "#fdca26"
             ],
             [
              1,
              "#f0f921"
             ]
            ],
            "type": "contour"
           }
          ],
          "contourcarpet": [
           {
            "colorbar": {
             "outlinewidth": 0,
             "ticks": ""
            },
            "type": "contourcarpet"
           }
          ],
          "heatmap": [
           {
            "colorbar": {
             "outlinewidth": 0,
             "ticks": ""
            },
            "colorscale": [
             [
              0,
              "#0d0887"
             ],
             [
              0.1111111111111111,
              "#46039f"
             ],
             [
              0.2222222222222222,
              "#7201a8"
             ],
             [
              0.3333333333333333,
              "#9c179e"
             ],
             [
              0.4444444444444444,
              "#bd3786"
             ],
             [
              0.5555555555555556,
              "#d8576b"
             ],
             [
              0.6666666666666666,
              "#ed7953"
             ],
             [
              0.7777777777777778,
              "#fb9f3a"
             ],
             [
              0.8888888888888888,
              "#fdca26"
             ],
             [
              1,
              "#f0f921"
             ]
            ],
            "type": "heatmap"
           }
          ],
          "heatmapgl": [
           {
            "colorbar": {
             "outlinewidth": 0,
             "ticks": ""
            },
            "colorscale": [
             [
              0,
              "#0d0887"
             ],
             [
              0.1111111111111111,
              "#46039f"
             ],
             [
              0.2222222222222222,
              "#7201a8"
             ],
             [
              0.3333333333333333,
              "#9c179e"
             ],
             [
              0.4444444444444444,
              "#bd3786"
             ],
             [
              0.5555555555555556,
              "#d8576b"
             ],
             [
              0.6666666666666666,
              "#ed7953"
             ],
             [
              0.7777777777777778,
              "#fb9f3a"
             ],
             [
              0.8888888888888888,
              "#fdca26"
             ],
             [
              1,
              "#f0f921"
             ]
            ],
            "type": "heatmapgl"
           }
          ],
          "histogram": [
           {
            "marker": {
             "pattern": {
              "fillmode": "overlay",
              "size": 10,
              "solidity": 0.2
             }
            },
            "type": "histogram"
           }
          ],
          "histogram2d": [
           {
            "colorbar": {
             "outlinewidth": 0,
             "ticks": ""
            },
            "colorscale": [
             [
              0,
              "#0d0887"
             ],
             [
              0.1111111111111111,
              "#46039f"
             ],
             [
              0.2222222222222222,
              "#7201a8"
             ],
             [
              0.3333333333333333,
              "#9c179e"
             ],
             [
              0.4444444444444444,
              "#bd3786"
             ],
             [
              0.5555555555555556,
              "#d8576b"
             ],
             [
              0.6666666666666666,
              "#ed7953"
             ],
             [
              0.7777777777777778,
              "#fb9f3a"
             ],
             [
              0.8888888888888888,
              "#fdca26"
             ],
             [
              1,
              "#f0f921"
             ]
            ],
            "type": "histogram2d"
           }
          ],
          "histogram2dcontour": [
           {
            "colorbar": {
             "outlinewidth": 0,
             "ticks": ""
            },
            "colorscale": [
             [
              0,
              "#0d0887"
             ],
             [
              0.1111111111111111,
              "#46039f"
             ],
             [
              0.2222222222222222,
              "#7201a8"
             ],
             [
              0.3333333333333333,
              "#9c179e"
             ],
             [
              0.4444444444444444,
              "#bd3786"
             ],
             [
              0.5555555555555556,
              "#d8576b"
             ],
             [
              0.6666666666666666,
              "#ed7953"
             ],
             [
              0.7777777777777778,
              "#fb9f3a"
             ],
             [
              0.8888888888888888,
              "#fdca26"
             ],
             [
              1,
              "#f0f921"
             ]
            ],
            "type": "histogram2dcontour"
           }
          ],
          "mesh3d": [
           {
            "colorbar": {
             "outlinewidth": 0,
             "ticks": ""
            },
            "type": "mesh3d"
           }
          ],
          "parcoords": [
           {
            "line": {
             "colorbar": {
              "outlinewidth": 0,
              "ticks": ""
             }
            },
            "type": "parcoords"
           }
          ],
          "pie": [
           {
            "automargin": true,
            "type": "pie"
           }
          ],
          "scatter": [
           {
            "fillpattern": {
             "fillmode": "overlay",
             "size": 10,
             "solidity": 0.2
            },
            "type": "scatter"
           }
          ],
          "scatter3d": [
           {
            "line": {
             "colorbar": {
              "outlinewidth": 0,
              "ticks": ""
             }
            },
            "marker": {
             "colorbar": {
              "outlinewidth": 0,
              "ticks": ""
             }
            },
            "type": "scatter3d"
           }
          ],
          "scattercarpet": [
           {
            "marker": {
             "colorbar": {
              "outlinewidth": 0,
              "ticks": ""
             }
            },
            "type": "scattercarpet"
           }
          ],
          "scattergeo": [
           {
            "marker": {
             "colorbar": {
              "outlinewidth": 0,
              "ticks": ""
             }
            },
            "type": "scattergeo"
           }
          ],
          "scattergl": [
           {
            "marker": {
             "colorbar": {
              "outlinewidth": 0,
              "ticks": ""
             }
            },
            "type": "scattergl"
           }
          ],
          "scattermapbox": [
           {
            "marker": {
             "colorbar": {
              "outlinewidth": 0,
              "ticks": ""
             }
            },
            "type": "scattermapbox"
           }
          ],
          "scatterpolar": [
           {
            "marker": {
             "colorbar": {
              "outlinewidth": 0,
              "ticks": ""
             }
            },
            "type": "scatterpolar"
           }
          ],
          "scatterpolargl": [
           {
            "marker": {
             "colorbar": {
              "outlinewidth": 0,
              "ticks": ""
             }
            },
            "type": "scatterpolargl"
           }
          ],
          "scatterternary": [
           {
            "marker": {
             "colorbar": {
              "outlinewidth": 0,
              "ticks": ""
             }
            },
            "type": "scatterternary"
           }
          ],
          "surface": [
           {
            "colorbar": {
             "outlinewidth": 0,
             "ticks": ""
            },
            "colorscale": [
             [
              0,
              "#0d0887"
             ],
             [
              0.1111111111111111,
              "#46039f"
             ],
             [
              0.2222222222222222,
              "#7201a8"
             ],
             [
              0.3333333333333333,
              "#9c179e"
             ],
             [
              0.4444444444444444,
              "#bd3786"
             ],
             [
              0.5555555555555556,
              "#d8576b"
             ],
             [
              0.6666666666666666,
              "#ed7953"
             ],
             [
              0.7777777777777778,
              "#fb9f3a"
             ],
             [
              0.8888888888888888,
              "#fdca26"
             ],
             [
              1,
              "#f0f921"
             ]
            ],
            "type": "surface"
           }
          ],
          "table": [
           {
            "cells": {
             "fill": {
              "color": "#EBF0F8"
             },
             "line": {
              "color": "white"
             }
            },
            "header": {
             "fill": {
              "color": "#C8D4E3"
             },
             "line": {
              "color": "white"
             }
            },
            "type": "table"
           }
          ]
         },
         "layout": {
          "annotationdefaults": {
           "arrowcolor": "#2a3f5f",
           "arrowhead": 0,
           "arrowwidth": 1
          },
          "autotypenumbers": "strict",
          "coloraxis": {
           "colorbar": {
            "outlinewidth": 0,
            "ticks": ""
           }
          },
          "colorscale": {
           "diverging": [
            [
             0,
             "#8e0152"
            ],
            [
             0.1,
             "#c51b7d"
            ],
            [
             0.2,
             "#de77ae"
            ],
            [
             0.3,
             "#f1b6da"
            ],
            [
             0.4,
             "#fde0ef"
            ],
            [
             0.5,
             "#f7f7f7"
            ],
            [
             0.6,
             "#e6f5d0"
            ],
            [
             0.7,
             "#b8e186"
            ],
            [
             0.8,
             "#7fbc41"
            ],
            [
             0.9,
             "#4d9221"
            ],
            [
             1,
             "#276419"
            ]
           ],
           "sequential": [
            [
             0,
             "#0d0887"
            ],
            [
             0.1111111111111111,
             "#46039f"
            ],
            [
             0.2222222222222222,
             "#7201a8"
            ],
            [
             0.3333333333333333,
             "#9c179e"
            ],
            [
             0.4444444444444444,
             "#bd3786"
            ],
            [
             0.5555555555555556,
             "#d8576b"
            ],
            [
             0.6666666666666666,
             "#ed7953"
            ],
            [
             0.7777777777777778,
             "#fb9f3a"
            ],
            [
             0.8888888888888888,
             "#fdca26"
            ],
            [
             1,
             "#f0f921"
            ]
           ],
           "sequentialminus": [
            [
             0,
             "#0d0887"
            ],
            [
             0.1111111111111111,
             "#46039f"
            ],
            [
             0.2222222222222222,
             "#7201a8"
            ],
            [
             0.3333333333333333,
             "#9c179e"
            ],
            [
             0.4444444444444444,
             "#bd3786"
            ],
            [
             0.5555555555555556,
             "#d8576b"
            ],
            [
             0.6666666666666666,
             "#ed7953"
            ],
            [
             0.7777777777777778,
             "#fb9f3a"
            ],
            [
             0.8888888888888888,
             "#fdca26"
            ],
            [
             1,
             "#f0f921"
            ]
           ]
          },
          "colorway": [
           "#636efa",
           "#EF553B",
           "#00cc96",
           "#ab63fa",
           "#FFA15A",
           "#19d3f3",
           "#FF6692",
           "#B6E880",
           "#FF97FF",
           "#FECB52"
          ],
          "font": {
           "color": "#2a3f5f"
          },
          "geo": {
           "bgcolor": "white",
           "lakecolor": "white",
           "landcolor": "#E5ECF6",
           "showlakes": true,
           "showland": true,
           "subunitcolor": "white"
          },
          "hoverlabel": {
           "align": "left"
          },
          "hovermode": "closest",
          "mapbox": {
           "style": "light"
          },
          "paper_bgcolor": "white",
          "plot_bgcolor": "#E5ECF6",
          "polar": {
           "angularaxis": {
            "gridcolor": "white",
            "linecolor": "white",
            "ticks": ""
           },
           "bgcolor": "#E5ECF6",
           "radialaxis": {
            "gridcolor": "white",
            "linecolor": "white",
            "ticks": ""
           }
          },
          "scene": {
           "xaxis": {
            "backgroundcolor": "#E5ECF6",
            "gridcolor": "white",
            "gridwidth": 2,
            "linecolor": "white",
            "showbackground": true,
            "ticks": "",
            "zerolinecolor": "white"
           },
           "yaxis": {
            "backgroundcolor": "#E5ECF6",
            "gridcolor": "white",
            "gridwidth": 2,
            "linecolor": "white",
            "showbackground": true,
            "ticks": "",
            "zerolinecolor": "white"
           },
           "zaxis": {
            "backgroundcolor": "#E5ECF6",
            "gridcolor": "white",
            "gridwidth": 2,
            "linecolor": "white",
            "showbackground": true,
            "ticks": "",
            "zerolinecolor": "white"
           }
          },
          "shapedefaults": {
           "line": {
            "color": "#2a3f5f"
           }
          },
          "ternary": {
           "aaxis": {
            "gridcolor": "white",
            "linecolor": "white",
            "ticks": ""
           },
           "baxis": {
            "gridcolor": "white",
            "linecolor": "white",
            "ticks": ""
           },
           "bgcolor": "#E5ECF6",
           "caxis": {
            "gridcolor": "white",
            "linecolor": "white",
            "ticks": ""
           }
          },
          "title": {
           "x": 0.05
          },
          "xaxis": {
           "automargin": true,
           "gridcolor": "white",
           "linecolor": "white",
           "ticks": "",
           "title": {
            "standoff": 15
           },
           "zerolinecolor": "white",
           "zerolinewidth": 2
          },
          "yaxis": {
           "automargin": true,
           "gridcolor": "white",
           "linecolor": "white",
           "ticks": "",
           "title": {
            "standoff": 15
           },
           "zerolinecolor": "white",
           "zerolinewidth": 2
          }
         }
        },
        "title": {
         "text": "KMEANS Plot"
        },
        "xaxis": {
         "anchor": "y",
         "domain": [
          0,
          1
         ],
         "gridcolor": "LightGray",
         "gridwidth": 1,
         "showgrid": true,
         "title": {
          "text": "n_clusters"
         }
        },
        "yaxis": {
         "anchor": "x",
         "domain": [
          0,
          1
         ],
         "gridcolor": "LightGray",
         "gridwidth": 1,
         "showgrid": true,
         "title": {
          "text": "Sil_Score"
         }
        }
       }
      }
     },
     "metadata": {},
     "output_type": "display_data"
    }
   ],
   "source": [
    "scatter_fig = px.scatter(data_frame=sil_score.query('Metodo == \"Agglomerative\"'), x=\"n_clusters\", y=\"Sil_Score\", color='Data',\n",
    "                          title='KMEANS Plot')\n",
    "\n",
    "# Create traces for lines connecting the points\n",
    "lines_fig = px.line(data_frame=sil_score.query('Metodo == \"Agglomerative\"'), x=\"n_clusters\", y=\"Sil_Score\", color='Data', \n",
    "            line_shape='linear')\n",
    "# Update the scatter plot to show markers and lines\n",
    "scatter_fig.update_traces(marker=dict(size=12), selector=dict(mode='markers'))\n",
    "scatter_fig.add_traces(lines_fig.data)  # Add lines to the scatter plot\n",
    "\n",
    "    # Customize the appearance of the combined plot\n",
    "scatter_fig.update_xaxes(showgrid=True, gridwidth=1, gridcolor='LightGray')\n",
    "scatter_fig.update_yaxes(showgrid=True, gridwidth=1, gridcolor='LightGray')\n",
    "scatter_fig.update_layout(plot_bgcolor='white')\n",
    "\n",
    "    # Update legend positions for both traces\n",
    "scatter_fig.update_layout(legend=dict(x=1, y=1, traceorder='normal', orientation='v'))\n",
    "    #lines_fig.update_layout(legend=dict(x=1, y=1.15, traceorder='normal', orientation='h'))\n",
    "\n",
    "    # Show the combined plot with markers and lines\n",
    "scatter_fig.show()"
   ]
  },
  {
   "cell_type": "code",
   "execution_count": 132,
   "metadata": {},
   "outputs": [],
   "source": [
    "def Sil_scatter(df,clus):\n",
    "    scatter_fig = px.scatter(data_frame=df, x=\"n_clusters\", y=\"Sil_Score\", color='Data',\n",
    "                          title=f'{clus} Plot')\n",
    "\n",
    "    # Create traces for lines connecting the points\n",
    "    lines_fig = px.line(data_frame=df, x=\"n_clusters\", y=\"Sil_Score\", color='Data', \n",
    "            line_shape='linear')\n",
    "    # Update the scatter plot to show markers and lines\n",
    "    \n",
    "    scatter_fig.update_traces(marker=dict(size=12), selector=dict(mode='markers'))\n",
    "    scatter_fig.add_traces(lines_fig.data)  # Add lines to the scatter plot\n",
    "\n",
    "    # Customize the appearance of the combined plot\n",
    "    scatter_fig.update_xaxes(showgrid=True, gridwidth=1, gridcolor='LightGray')\n",
    "    scatter_fig.update_yaxes(showgrid=True, gridwidth=1, gridcolor='LightGray')\n",
    "    scatter_fig.update_layout(plot_bgcolor='white')\n",
    "\n",
    "    # Update legend positions for both traces\n",
    "    scatter_fig.update_layout(legend=dict(x=1, y=1, traceorder='normal', orientation='v'))\n",
    "    #lines_fig.update_layout(legend=dict(x=1, y=1.15, traceorder='normal', orientation='h'))\n",
    "\n",
    "    # Show the combined plot with markers and lines\n",
    "    return scatter_fig.show()"
   ]
  },
  {
   "cell_type": "code",
   "execution_count": 133,
   "metadata": {},
   "outputs": [
    {
     "data": {
      "application/vnd.plotly.v1+json": {
       "config": {
        "plotlyServerURL": "https://plot.ly"
       },
       "data": [
        {
         "hovertemplate": "Data=Ptrans_test1<br>n_clusters=%{x}<br>Sil_Score=%{y}<extra></extra>",
         "legendgroup": "Ptrans_test1",
         "marker": {
          "color": "#636efa",
          "size": 12,
          "symbol": "circle"
         },
         "mode": "markers",
         "name": "Ptrans_test1",
         "orientation": "v",
         "showlegend": true,
         "type": "scatter",
         "x": [
          2,
          3,
          4,
          5,
          6,
          7,
          8,
          9,
          10
         ],
         "xaxis": "x",
         "y": [
          0.2191885665763659,
          0.20654101242374248,
          0.21051781696167288,
          0.20870618382333483,
          0.21122165581140837,
          0.20192200624307263,
          0.20000859448348896,
          0.22576387252280739,
          0.2256787258788321
         ],
         "yaxis": "y"
        },
        {
         "hovertemplate": "Data=Ptrans_test1_TA<br>n_clusters=%{x}<br>Sil_Score=%{y}<extra></extra>",
         "legendgroup": "Ptrans_test1_TA",
         "marker": {
          "color": "#EF553B",
          "size": 12,
          "symbol": "circle"
         },
         "mode": "markers",
         "name": "Ptrans_test1_TA",
         "orientation": "v",
         "showlegend": true,
         "type": "scatter",
         "x": [
          2,
          3,
          4,
          5,
          6,
          7,
          8,
          9,
          10
         ],
         "xaxis": "x",
         "y": [
          0.22199088586936744,
          0.2122331429451806,
          0.20665913334488192,
          0.2069807791342704,
          0.20601455615496103,
          0.21621478713395814,
          0.21277363926956247,
          0.20244187414362824,
          0.21064355991253503
         ],
         "yaxis": "y"
        },
        {
         "hovertemplate": "Data=Ptrans_test2<br>n_clusters=%{x}<br>Sil_Score=%{y}<extra></extra>",
         "legendgroup": "Ptrans_test2",
         "marker": {
          "color": "#00cc96",
          "size": 12,
          "symbol": "circle"
         },
         "mode": "markers",
         "name": "Ptrans_test2",
         "orientation": "v",
         "showlegend": true,
         "type": "scatter",
         "x": [
          2,
          3,
          4,
          5,
          6,
          7,
          8,
          9,
          10
         ],
         "xaxis": "x",
         "y": [
          0.23044031305779297,
          0.22478253632650244,
          0.23501072151936458,
          0.2372056193813879,
          0.21290130059722712,
          0.19892332250369704,
          0.1968776036548269,
          0.19775038986168872,
          0.19322549135232525
         ],
         "yaxis": "y"
        },
        {
         "hovertemplate": "Data=Ptrans_test2_TA<br>n_clusters=%{x}<br>Sil_Score=%{y}<extra></extra>",
         "legendgroup": "Ptrans_test2_TA",
         "marker": {
          "color": "#ab63fa",
          "size": 12,
          "symbol": "circle"
         },
         "mode": "markers",
         "name": "Ptrans_test2_TA",
         "orientation": "v",
         "showlegend": true,
         "type": "scatter",
         "x": [
          2,
          3,
          4,
          5,
          6,
          7,
          8,
          9,
          10
         ],
         "xaxis": "x",
         "y": [
          0.23677228467546385,
          0.22948787431090997,
          0.2464787303050973,
          0.2120284487964471,
          0.21443131884168695,
          0.22879022252592676,
          0.2083503883841456,
          0.2121872306293426,
          0.21364375382861886
         ],
         "yaxis": "y"
        },
        {
         "hovertemplate": "Data=Ptrans_test3<br>n_clusters=%{x}<br>Sil_Score=%{y}<extra></extra>",
         "legendgroup": "Ptrans_test3",
         "marker": {
          "color": "#FFA15A",
          "size": 12,
          "symbol": "circle"
         },
         "mode": "markers",
         "name": "Ptrans_test3",
         "orientation": "v",
         "showlegend": true,
         "type": "scatter",
         "x": [
          2,
          3,
          4,
          5,
          6,
          7,
          8,
          9,
          10
         ],
         "xaxis": "x",
         "y": [
          0.2121492817022781,
          0.22692946180210574,
          0.21267061500770357,
          0.21683066769456114,
          0.21148547354550104,
          0.20969646577333526,
          0.21181080129975463,
          0.18728797651121637,
          0.19900138376186904
         ],
         "yaxis": "y"
        },
        {
         "hovertemplate": "Data=Ptrans_test3_TA<br>n_clusters=%{x}<br>Sil_Score=%{y}<extra></extra>",
         "legendgroup": "Ptrans_test3_TA",
         "marker": {
          "color": "#19d3f3",
          "size": 12,
          "symbol": "circle"
         },
         "mode": "markers",
         "name": "Ptrans_test3_TA",
         "orientation": "v",
         "showlegend": true,
         "type": "scatter",
         "x": [
          2,
          3,
          4,
          5,
          6,
          7,
          8,
          9,
          10
         ],
         "xaxis": "x",
         "y": [
          0.20948911873087706,
          0.229824321107121,
          0.2152495450537263,
          0.22281743610414434,
          0.20238908912400055,
          0.19788329509559632,
          0.21893834005099533,
          0.2045893131204519,
          0.2105483109274938
         ],
         "yaxis": "y"
        },
        {
         "hovertemplate": "Data=Ptrans_test1<br>n_clusters=%{x}<br>Sil_Score=%{y}<extra></extra>",
         "legendgroup": "Ptrans_test1",
         "line": {
          "color": "#636efa",
          "dash": "solid",
          "shape": "linear"
         },
         "marker": {
          "symbol": "circle"
         },
         "mode": "lines",
         "name": "Ptrans_test1",
         "orientation": "v",
         "showlegend": true,
         "type": "scatter",
         "x": [
          2,
          3,
          4,
          5,
          6,
          7,
          8,
          9,
          10
         ],
         "xaxis": "x",
         "y": [
          0.2191885665763659,
          0.20654101242374248,
          0.21051781696167288,
          0.20870618382333483,
          0.21122165581140837,
          0.20192200624307263,
          0.20000859448348896,
          0.22576387252280739,
          0.2256787258788321
         ],
         "yaxis": "y"
        },
        {
         "hovertemplate": "Data=Ptrans_test1_TA<br>n_clusters=%{x}<br>Sil_Score=%{y}<extra></extra>",
         "legendgroup": "Ptrans_test1_TA",
         "line": {
          "color": "#EF553B",
          "dash": "solid",
          "shape": "linear"
         },
         "marker": {
          "symbol": "circle"
         },
         "mode": "lines",
         "name": "Ptrans_test1_TA",
         "orientation": "v",
         "showlegend": true,
         "type": "scatter",
         "x": [
          2,
          3,
          4,
          5,
          6,
          7,
          8,
          9,
          10
         ],
         "xaxis": "x",
         "y": [
          0.22199088586936744,
          0.2122331429451806,
          0.20665913334488192,
          0.2069807791342704,
          0.20601455615496103,
          0.21621478713395814,
          0.21277363926956247,
          0.20244187414362824,
          0.21064355991253503
         ],
         "yaxis": "y"
        },
        {
         "hovertemplate": "Data=Ptrans_test2<br>n_clusters=%{x}<br>Sil_Score=%{y}<extra></extra>",
         "legendgroup": "Ptrans_test2",
         "line": {
          "color": "#00cc96",
          "dash": "solid",
          "shape": "linear"
         },
         "marker": {
          "symbol": "circle"
         },
         "mode": "lines",
         "name": "Ptrans_test2",
         "orientation": "v",
         "showlegend": true,
         "type": "scatter",
         "x": [
          2,
          3,
          4,
          5,
          6,
          7,
          8,
          9,
          10
         ],
         "xaxis": "x",
         "y": [
          0.23044031305779297,
          0.22478253632650244,
          0.23501072151936458,
          0.2372056193813879,
          0.21290130059722712,
          0.19892332250369704,
          0.1968776036548269,
          0.19775038986168872,
          0.19322549135232525
         ],
         "yaxis": "y"
        },
        {
         "hovertemplate": "Data=Ptrans_test2_TA<br>n_clusters=%{x}<br>Sil_Score=%{y}<extra></extra>",
         "legendgroup": "Ptrans_test2_TA",
         "line": {
          "color": "#ab63fa",
          "dash": "solid",
          "shape": "linear"
         },
         "marker": {
          "symbol": "circle"
         },
         "mode": "lines",
         "name": "Ptrans_test2_TA",
         "orientation": "v",
         "showlegend": true,
         "type": "scatter",
         "x": [
          2,
          3,
          4,
          5,
          6,
          7,
          8,
          9,
          10
         ],
         "xaxis": "x",
         "y": [
          0.23677228467546385,
          0.22948787431090997,
          0.2464787303050973,
          0.2120284487964471,
          0.21443131884168695,
          0.22879022252592676,
          0.2083503883841456,
          0.2121872306293426,
          0.21364375382861886
         ],
         "yaxis": "y"
        },
        {
         "hovertemplate": "Data=Ptrans_test3<br>n_clusters=%{x}<br>Sil_Score=%{y}<extra></extra>",
         "legendgroup": "Ptrans_test3",
         "line": {
          "color": "#FFA15A",
          "dash": "solid",
          "shape": "linear"
         },
         "marker": {
          "symbol": "circle"
         },
         "mode": "lines",
         "name": "Ptrans_test3",
         "orientation": "v",
         "showlegend": true,
         "type": "scatter",
         "x": [
          2,
          3,
          4,
          5,
          6,
          7,
          8,
          9,
          10
         ],
         "xaxis": "x",
         "y": [
          0.2121492817022781,
          0.22692946180210574,
          0.21267061500770357,
          0.21683066769456114,
          0.21148547354550104,
          0.20969646577333526,
          0.21181080129975463,
          0.18728797651121637,
          0.19900138376186904
         ],
         "yaxis": "y"
        },
        {
         "hovertemplate": "Data=Ptrans_test3_TA<br>n_clusters=%{x}<br>Sil_Score=%{y}<extra></extra>",
         "legendgroup": "Ptrans_test3_TA",
         "line": {
          "color": "#19d3f3",
          "dash": "solid",
          "shape": "linear"
         },
         "marker": {
          "symbol": "circle"
         },
         "mode": "lines",
         "name": "Ptrans_test3_TA",
         "orientation": "v",
         "showlegend": true,
         "type": "scatter",
         "x": [
          2,
          3,
          4,
          5,
          6,
          7,
          8,
          9,
          10
         ],
         "xaxis": "x",
         "y": [
          0.20948911873087706,
          0.229824321107121,
          0.2152495450537263,
          0.22281743610414434,
          0.20238908912400055,
          0.19788329509559632,
          0.21893834005099533,
          0.2045893131204519,
          0.2105483109274938
         ],
         "yaxis": "y"
        }
       ],
       "layout": {
        "legend": {
         "orientation": "v",
         "title": {
          "text": "Data"
         },
         "tracegroupgap": 0,
         "traceorder": "normal",
         "x": 1,
         "y": 1
        },
        "plot_bgcolor": "white",
        "template": {
         "data": {
          "bar": [
           {
            "error_x": {
             "color": "#2a3f5f"
            },
            "error_y": {
             "color": "#2a3f5f"
            },
            "marker": {
             "line": {
              "color": "#E5ECF6",
              "width": 0.5
             },
             "pattern": {
              "fillmode": "overlay",
              "size": 10,
              "solidity": 0.2
             }
            },
            "type": "bar"
           }
          ],
          "barpolar": [
           {
            "marker": {
             "line": {
              "color": "#E5ECF6",
              "width": 0.5
             },
             "pattern": {
              "fillmode": "overlay",
              "size": 10,
              "solidity": 0.2
             }
            },
            "type": "barpolar"
           }
          ],
          "carpet": [
           {
            "aaxis": {
             "endlinecolor": "#2a3f5f",
             "gridcolor": "white",
             "linecolor": "white",
             "minorgridcolor": "white",
             "startlinecolor": "#2a3f5f"
            },
            "baxis": {
             "endlinecolor": "#2a3f5f",
             "gridcolor": "white",
             "linecolor": "white",
             "minorgridcolor": "white",
             "startlinecolor": "#2a3f5f"
            },
            "type": "carpet"
           }
          ],
          "choropleth": [
           {
            "colorbar": {
             "outlinewidth": 0,
             "ticks": ""
            },
            "type": "choropleth"
           }
          ],
          "contour": [
           {
            "colorbar": {
             "outlinewidth": 0,
             "ticks": ""
            },
            "colorscale": [
             [
              0,
              "#0d0887"
             ],
             [
              0.1111111111111111,
              "#46039f"
             ],
             [
              0.2222222222222222,
              "#7201a8"
             ],
             [
              0.3333333333333333,
              "#9c179e"
             ],
             [
              0.4444444444444444,
              "#bd3786"
             ],
             [
              0.5555555555555556,
              "#d8576b"
             ],
             [
              0.6666666666666666,
              "#ed7953"
             ],
             [
              0.7777777777777778,
              "#fb9f3a"
             ],
             [
              0.8888888888888888,
              "#fdca26"
             ],
             [
              1,
              "#f0f921"
             ]
            ],
            "type": "contour"
           }
          ],
          "contourcarpet": [
           {
            "colorbar": {
             "outlinewidth": 0,
             "ticks": ""
            },
            "type": "contourcarpet"
           }
          ],
          "heatmap": [
           {
            "colorbar": {
             "outlinewidth": 0,
             "ticks": ""
            },
            "colorscale": [
             [
              0,
              "#0d0887"
             ],
             [
              0.1111111111111111,
              "#46039f"
             ],
             [
              0.2222222222222222,
              "#7201a8"
             ],
             [
              0.3333333333333333,
              "#9c179e"
             ],
             [
              0.4444444444444444,
              "#bd3786"
             ],
             [
              0.5555555555555556,
              "#d8576b"
             ],
             [
              0.6666666666666666,
              "#ed7953"
             ],
             [
              0.7777777777777778,
              "#fb9f3a"
             ],
             [
              0.8888888888888888,
              "#fdca26"
             ],
             [
              1,
              "#f0f921"
             ]
            ],
            "type": "heatmap"
           }
          ],
          "heatmapgl": [
           {
            "colorbar": {
             "outlinewidth": 0,
             "ticks": ""
            },
            "colorscale": [
             [
              0,
              "#0d0887"
             ],
             [
              0.1111111111111111,
              "#46039f"
             ],
             [
              0.2222222222222222,
              "#7201a8"
             ],
             [
              0.3333333333333333,
              "#9c179e"
             ],
             [
              0.4444444444444444,
              "#bd3786"
             ],
             [
              0.5555555555555556,
              "#d8576b"
             ],
             [
              0.6666666666666666,
              "#ed7953"
             ],
             [
              0.7777777777777778,
              "#fb9f3a"
             ],
             [
              0.8888888888888888,
              "#fdca26"
             ],
             [
              1,
              "#f0f921"
             ]
            ],
            "type": "heatmapgl"
           }
          ],
          "histogram": [
           {
            "marker": {
             "pattern": {
              "fillmode": "overlay",
              "size": 10,
              "solidity": 0.2
             }
            },
            "type": "histogram"
           }
          ],
          "histogram2d": [
           {
            "colorbar": {
             "outlinewidth": 0,
             "ticks": ""
            },
            "colorscale": [
             [
              0,
              "#0d0887"
             ],
             [
              0.1111111111111111,
              "#46039f"
             ],
             [
              0.2222222222222222,
              "#7201a8"
             ],
             [
              0.3333333333333333,
              "#9c179e"
             ],
             [
              0.4444444444444444,
              "#bd3786"
             ],
             [
              0.5555555555555556,
              "#d8576b"
             ],
             [
              0.6666666666666666,
              "#ed7953"
             ],
             [
              0.7777777777777778,
              "#fb9f3a"
             ],
             [
              0.8888888888888888,
              "#fdca26"
             ],
             [
              1,
              "#f0f921"
             ]
            ],
            "type": "histogram2d"
           }
          ],
          "histogram2dcontour": [
           {
            "colorbar": {
             "outlinewidth": 0,
             "ticks": ""
            },
            "colorscale": [
             [
              0,
              "#0d0887"
             ],
             [
              0.1111111111111111,
              "#46039f"
             ],
             [
              0.2222222222222222,
              "#7201a8"
             ],
             [
              0.3333333333333333,
              "#9c179e"
             ],
             [
              0.4444444444444444,
              "#bd3786"
             ],
             [
              0.5555555555555556,
              "#d8576b"
             ],
             [
              0.6666666666666666,
              "#ed7953"
             ],
             [
              0.7777777777777778,
              "#fb9f3a"
             ],
             [
              0.8888888888888888,
              "#fdca26"
             ],
             [
              1,
              "#f0f921"
             ]
            ],
            "type": "histogram2dcontour"
           }
          ],
          "mesh3d": [
           {
            "colorbar": {
             "outlinewidth": 0,
             "ticks": ""
            },
            "type": "mesh3d"
           }
          ],
          "parcoords": [
           {
            "line": {
             "colorbar": {
              "outlinewidth": 0,
              "ticks": ""
             }
            },
            "type": "parcoords"
           }
          ],
          "pie": [
           {
            "automargin": true,
            "type": "pie"
           }
          ],
          "scatter": [
           {
            "fillpattern": {
             "fillmode": "overlay",
             "size": 10,
             "solidity": 0.2
            },
            "type": "scatter"
           }
          ],
          "scatter3d": [
           {
            "line": {
             "colorbar": {
              "outlinewidth": 0,
              "ticks": ""
             }
            },
            "marker": {
             "colorbar": {
              "outlinewidth": 0,
              "ticks": ""
             }
            },
            "type": "scatter3d"
           }
          ],
          "scattercarpet": [
           {
            "marker": {
             "colorbar": {
              "outlinewidth": 0,
              "ticks": ""
             }
            },
            "type": "scattercarpet"
           }
          ],
          "scattergeo": [
           {
            "marker": {
             "colorbar": {
              "outlinewidth": 0,
              "ticks": ""
             }
            },
            "type": "scattergeo"
           }
          ],
          "scattergl": [
           {
            "marker": {
             "colorbar": {
              "outlinewidth": 0,
              "ticks": ""
             }
            },
            "type": "scattergl"
           }
          ],
          "scattermapbox": [
           {
            "marker": {
             "colorbar": {
              "outlinewidth": 0,
              "ticks": ""
             }
            },
            "type": "scattermapbox"
           }
          ],
          "scatterpolar": [
           {
            "marker": {
             "colorbar": {
              "outlinewidth": 0,
              "ticks": ""
             }
            },
            "type": "scatterpolar"
           }
          ],
          "scatterpolargl": [
           {
            "marker": {
             "colorbar": {
              "outlinewidth": 0,
              "ticks": ""
             }
            },
            "type": "scatterpolargl"
           }
          ],
          "scatterternary": [
           {
            "marker": {
             "colorbar": {
              "outlinewidth": 0,
              "ticks": ""
             }
            },
            "type": "scatterternary"
           }
          ],
          "surface": [
           {
            "colorbar": {
             "outlinewidth": 0,
             "ticks": ""
            },
            "colorscale": [
             [
              0,
              "#0d0887"
             ],
             [
              0.1111111111111111,
              "#46039f"
             ],
             [
              0.2222222222222222,
              "#7201a8"
             ],
             [
              0.3333333333333333,
              "#9c179e"
             ],
             [
              0.4444444444444444,
              "#bd3786"
             ],
             [
              0.5555555555555556,
              "#d8576b"
             ],
             [
              0.6666666666666666,
              "#ed7953"
             ],
             [
              0.7777777777777778,
              "#fb9f3a"
             ],
             [
              0.8888888888888888,
              "#fdca26"
             ],
             [
              1,
              "#f0f921"
             ]
            ],
            "type": "surface"
           }
          ],
          "table": [
           {
            "cells": {
             "fill": {
              "color": "#EBF0F8"
             },
             "line": {
              "color": "white"
             }
            },
            "header": {
             "fill": {
              "color": "#C8D4E3"
             },
             "line": {
              "color": "white"
             }
            },
            "type": "table"
           }
          ]
         },
         "layout": {
          "annotationdefaults": {
           "arrowcolor": "#2a3f5f",
           "arrowhead": 0,
           "arrowwidth": 1
          },
          "autotypenumbers": "strict",
          "coloraxis": {
           "colorbar": {
            "outlinewidth": 0,
            "ticks": ""
           }
          },
          "colorscale": {
           "diverging": [
            [
             0,
             "#8e0152"
            ],
            [
             0.1,
             "#c51b7d"
            ],
            [
             0.2,
             "#de77ae"
            ],
            [
             0.3,
             "#f1b6da"
            ],
            [
             0.4,
             "#fde0ef"
            ],
            [
             0.5,
             "#f7f7f7"
            ],
            [
             0.6,
             "#e6f5d0"
            ],
            [
             0.7,
             "#b8e186"
            ],
            [
             0.8,
             "#7fbc41"
            ],
            [
             0.9,
             "#4d9221"
            ],
            [
             1,
             "#276419"
            ]
           ],
           "sequential": [
            [
             0,
             "#0d0887"
            ],
            [
             0.1111111111111111,
             "#46039f"
            ],
            [
             0.2222222222222222,
             "#7201a8"
            ],
            [
             0.3333333333333333,
             "#9c179e"
            ],
            [
             0.4444444444444444,
             "#bd3786"
            ],
            [
             0.5555555555555556,
             "#d8576b"
            ],
            [
             0.6666666666666666,
             "#ed7953"
            ],
            [
             0.7777777777777778,
             "#fb9f3a"
            ],
            [
             0.8888888888888888,
             "#fdca26"
            ],
            [
             1,
             "#f0f921"
            ]
           ],
           "sequentialminus": [
            [
             0,
             "#0d0887"
            ],
            [
             0.1111111111111111,
             "#46039f"
            ],
            [
             0.2222222222222222,
             "#7201a8"
            ],
            [
             0.3333333333333333,
             "#9c179e"
            ],
            [
             0.4444444444444444,
             "#bd3786"
            ],
            [
             0.5555555555555556,
             "#d8576b"
            ],
            [
             0.6666666666666666,
             "#ed7953"
            ],
            [
             0.7777777777777778,
             "#fb9f3a"
            ],
            [
             0.8888888888888888,
             "#fdca26"
            ],
            [
             1,
             "#f0f921"
            ]
           ]
          },
          "colorway": [
           "#636efa",
           "#EF553B",
           "#00cc96",
           "#ab63fa",
           "#FFA15A",
           "#19d3f3",
           "#FF6692",
           "#B6E880",
           "#FF97FF",
           "#FECB52"
          ],
          "font": {
           "color": "#2a3f5f"
          },
          "geo": {
           "bgcolor": "white",
           "lakecolor": "white",
           "landcolor": "#E5ECF6",
           "showlakes": true,
           "showland": true,
           "subunitcolor": "white"
          },
          "hoverlabel": {
           "align": "left"
          },
          "hovermode": "closest",
          "mapbox": {
           "style": "light"
          },
          "paper_bgcolor": "white",
          "plot_bgcolor": "#E5ECF6",
          "polar": {
           "angularaxis": {
            "gridcolor": "white",
            "linecolor": "white",
            "ticks": ""
           },
           "bgcolor": "#E5ECF6",
           "radialaxis": {
            "gridcolor": "white",
            "linecolor": "white",
            "ticks": ""
           }
          },
          "scene": {
           "xaxis": {
            "backgroundcolor": "#E5ECF6",
            "gridcolor": "white",
            "gridwidth": 2,
            "linecolor": "white",
            "showbackground": true,
            "ticks": "",
            "zerolinecolor": "white"
           },
           "yaxis": {
            "backgroundcolor": "#E5ECF6",
            "gridcolor": "white",
            "gridwidth": 2,
            "linecolor": "white",
            "showbackground": true,
            "ticks": "",
            "zerolinecolor": "white"
           },
           "zaxis": {
            "backgroundcolor": "#E5ECF6",
            "gridcolor": "white",
            "gridwidth": 2,
            "linecolor": "white",
            "showbackground": true,
            "ticks": "",
            "zerolinecolor": "white"
           }
          },
          "shapedefaults": {
           "line": {
            "color": "#2a3f5f"
           }
          },
          "ternary": {
           "aaxis": {
            "gridcolor": "white",
            "linecolor": "white",
            "ticks": ""
           },
           "baxis": {
            "gridcolor": "white",
            "linecolor": "white",
            "ticks": ""
           },
           "bgcolor": "#E5ECF6",
           "caxis": {
            "gridcolor": "white",
            "linecolor": "white",
            "ticks": ""
           }
          },
          "title": {
           "x": 0.05
          },
          "xaxis": {
           "automargin": true,
           "gridcolor": "white",
           "linecolor": "white",
           "ticks": "",
           "title": {
            "standoff": 15
           },
           "zerolinecolor": "white",
           "zerolinewidth": 2
          },
          "yaxis": {
           "automargin": true,
           "gridcolor": "white",
           "linecolor": "white",
           "ticks": "",
           "title": {
            "standoff": 15
           },
           "zerolinecolor": "white",
           "zerolinewidth": 2
          }
         }
        },
        "title": {
         "text": "Agglomerative Plot"
        },
        "xaxis": {
         "anchor": "y",
         "domain": [
          0,
          1
         ],
         "gridcolor": "LightGray",
         "gridwidth": 1,
         "showgrid": true,
         "title": {
          "text": "n_clusters"
         }
        },
        "yaxis": {
         "anchor": "x",
         "domain": [
          0,
          1
         ],
         "gridcolor": "LightGray",
         "gridwidth": 1,
         "showgrid": true,
         "title": {
          "text": "Sil_Score"
         }
        }
       }
      }
     },
     "metadata": {},
     "output_type": "display_data"
    }
   ],
   "source": [
    "dfs = sil_score.query('Metodo == \"KMeans\"')\n",
    "Sil_scatter(dfs, \"Agglomerative\")"
   ]
  },
  {
   "cell_type": "code",
   "execution_count": 108,
   "metadata": {},
   "outputs": [
    {
     "data": {
      "text/html": [
       "<div>\n",
       "<style scoped>\n",
       "    .dataframe tbody tr th:only-of-type {\n",
       "        vertical-align: middle;\n",
       "    }\n",
       "\n",
       "    .dataframe tbody tr th {\n",
       "        vertical-align: top;\n",
       "    }\n",
       "\n",
       "    .dataframe thead th {\n",
       "        text-align: right;\n",
       "    }\n",
       "</style>\n",
       "<table border=\"1\" class=\"dataframe\">\n",
       "  <thead>\n",
       "    <tr style=\"text-align: right;\">\n",
       "      <th></th>\n",
       "      <th>Data</th>\n",
       "      <th>Sil_Score</th>\n",
       "      <th>n_clusters</th>\n",
       "      <th>Metodo</th>\n",
       "    </tr>\n",
       "  </thead>\n",
       "  <tbody>\n",
       "    <tr>\n",
       "      <th>0</th>\n",
       "      <td>Ptrans_test1</td>\n",
       "      <td>0.201544</td>\n",
       "      <td>2</td>\n",
       "      <td>Agglomerative</td>\n",
       "    </tr>\n",
       "    <tr>\n",
       "      <th>1</th>\n",
       "      <td>Ptrans_test1_TA</td>\n",
       "      <td>0.172515</td>\n",
       "      <td>2</td>\n",
       "      <td>Agglomerative</td>\n",
       "    </tr>\n",
       "    <tr>\n",
       "      <th>2</th>\n",
       "      <td>Ptrans_test2</td>\n",
       "      <td>0.190819</td>\n",
       "      <td>2</td>\n",
       "      <td>Agglomerative</td>\n",
       "    </tr>\n",
       "    <tr>\n",
       "      <th>3</th>\n",
       "      <td>Ptrans_test2_TA</td>\n",
       "      <td>0.202066</td>\n",
       "      <td>2</td>\n",
       "      <td>Agglomerative</td>\n",
       "    </tr>\n",
       "    <tr>\n",
       "      <th>4</th>\n",
       "      <td>Ptrans_test3</td>\n",
       "      <td>0.230562</td>\n",
       "      <td>2</td>\n",
       "      <td>Agglomerative</td>\n",
       "    </tr>\n",
       "    <tr>\n",
       "      <th>...</th>\n",
       "      <td>...</td>\n",
       "      <td>...</td>\n",
       "      <td>...</td>\n",
       "      <td>...</td>\n",
       "    </tr>\n",
       "    <tr>\n",
       "      <th>49</th>\n",
       "      <td>Ptrans_test1_TA</td>\n",
       "      <td>0.210644</td>\n",
       "      <td>10</td>\n",
       "      <td>KMeans</td>\n",
       "    </tr>\n",
       "    <tr>\n",
       "      <th>50</th>\n",
       "      <td>Ptrans_test2</td>\n",
       "      <td>0.193225</td>\n",
       "      <td>10</td>\n",
       "      <td>KMeans</td>\n",
       "    </tr>\n",
       "    <tr>\n",
       "      <th>51</th>\n",
       "      <td>Ptrans_test2_TA</td>\n",
       "      <td>0.213644</td>\n",
       "      <td>10</td>\n",
       "      <td>KMeans</td>\n",
       "    </tr>\n",
       "    <tr>\n",
       "      <th>52</th>\n",
       "      <td>Ptrans_test3</td>\n",
       "      <td>0.199001</td>\n",
       "      <td>10</td>\n",
       "      <td>KMeans</td>\n",
       "    </tr>\n",
       "    <tr>\n",
       "      <th>53</th>\n",
       "      <td>Ptrans_test3_TA</td>\n",
       "      <td>0.210548</td>\n",
       "      <td>10</td>\n",
       "      <td>KMeans</td>\n",
       "    </tr>\n",
       "  </tbody>\n",
       "</table>\n",
       "<p>108 rows × 4 columns</p>\n",
       "</div>"
      ],
      "text/plain": [
       "               Data  Sil_Score  n_clusters         Metodo\n",
       "0      Ptrans_test1   0.201544           2  Agglomerative\n",
       "1   Ptrans_test1_TA   0.172515           2  Agglomerative\n",
       "2      Ptrans_test2   0.190819           2  Agglomerative\n",
       "3   Ptrans_test2_TA   0.202066           2  Agglomerative\n",
       "4      Ptrans_test3   0.230562           2  Agglomerative\n",
       "..              ...        ...         ...            ...\n",
       "49  Ptrans_test1_TA   0.210644          10         KMeans\n",
       "50     Ptrans_test2   0.193225          10         KMeans\n",
       "51  Ptrans_test2_TA   0.213644          10         KMeans\n",
       "52     Ptrans_test3   0.199001          10         KMeans\n",
       "53  Ptrans_test3_TA   0.210548          10         KMeans\n",
       "\n",
       "[108 rows x 4 columns]"
      ]
     },
     "execution_count": 108,
     "metadata": {},
     "output_type": "execute_result"
    }
   ],
   "source": [
    "sil_score = pd.concat([sil_agglomerative,sil_KMeans], axis = 0)\n",
    "sil_score.to_csv('sil_score.csv', index_label = False)\n",
    "sil_score"
   ]
  },
  {
   "cell_type": "code",
   "execution_count": 2,
   "metadata": {},
   "outputs": [],
   "source": [
    "def ex_variables(df): \n",
    "    my_list = df.columns\n",
    "    exclude_element = ['F1','F2','F3','F4','F5']\n",
    "    variables_keep = [item for item in my_list if item not in exclude_element]\n",
    "    return variables_keep"
   ]
  },
  {
   "cell_type": "code",
   "execution_count": 28,
   "metadata": {},
   "outputs": [
    {
     "data": {
      "text/plain": [
       "['AG2Ptrans_test1_AG',\n",
       " 'AG3Ptrans_test1_AG',\n",
       " 'AG4Ptrans_test1_AG',\n",
       " 'AG5Ptrans_test1_AG',\n",
       " 'AG6Ptrans_test1_AG',\n",
       " 'AG7Ptrans_test1_AG',\n",
       " 'AG8Ptrans_test1_AG',\n",
       " 'AG9Ptrans_test1_AG',\n",
       " 'AG10Ptrans_test1_AG']"
      ]
     },
     "execution_count": 28,
     "metadata": {},
     "output_type": "execute_result"
    }
   ],
   "source": [
    "ex_variables(df_list_AG[0])"
   ]
  },
  {
   "cell_type": "code",
   "execution_count": 137,
   "metadata": {},
   "outputs": [
    {
     "data": {
      "text/html": [
       "<div>\n",
       "<style scoped>\n",
       "    .dataframe tbody tr th:only-of-type {\n",
       "        vertical-align: middle;\n",
       "    }\n",
       "\n",
       "    .dataframe tbody tr th {\n",
       "        vertical-align: top;\n",
       "    }\n",
       "\n",
       "    .dataframe thead th {\n",
       "        text-align: right;\n",
       "    }\n",
       "</style>\n",
       "<table border=\"1\" class=\"dataframe\">\n",
       "  <thead>\n",
       "    <tr style=\"text-align: right;\">\n",
       "      <th></th>\n",
       "      <th>F1</th>\n",
       "      <th>F2</th>\n",
       "      <th>F3</th>\n",
       "      <th>F4</th>\n",
       "      <th>F5</th>\n",
       "      <th>AG2datos_Ptrans_test2_TA_sel_st</th>\n",
       "      <th>AG3datos_Ptrans_test2_TA_sel_st</th>\n",
       "      <th>AG4datos_Ptrans_test2_TA_sel_st</th>\n",
       "      <th>AG5datos_Ptrans_test2_TA_sel_st</th>\n",
       "      <th>AG6datos_Ptrans_test2_TA_sel_st</th>\n",
       "      <th>...</th>\n",
       "      <th>AG10datos_Ptrans_test2_TA_sel_st</th>\n",
       "      <th>AG2Ptrans_test2_TA_AG</th>\n",
       "      <th>AG3Ptrans_test2_TA_AG</th>\n",
       "      <th>AG4Ptrans_test2_TA_AG</th>\n",
       "      <th>AG5Ptrans_test2_TA_AG</th>\n",
       "      <th>AG6Ptrans_test2_TA_AG</th>\n",
       "      <th>AG7Ptrans_test2_TA_AG</th>\n",
       "      <th>AG8Ptrans_test2_TA_AG</th>\n",
       "      <th>AG9Ptrans_test2_TA_AG</th>\n",
       "      <th>AG10Ptrans_test2_TA_AG</th>\n",
       "    </tr>\n",
       "  </thead>\n",
       "  <tbody>\n",
       "    <tr>\n",
       "      <th>0</th>\n",
       "      <td>-0.347499</td>\n",
       "      <td>0.444099</td>\n",
       "      <td>0.166838</td>\n",
       "      <td>0.724467</td>\n",
       "      <td>-0.033231</td>\n",
       "      <td>0</td>\n",
       "      <td>0</td>\n",
       "      <td>1</td>\n",
       "      <td>1</td>\n",
       "      <td>0</td>\n",
       "      <td>...</td>\n",
       "      <td>2</td>\n",
       "      <td>0</td>\n",
       "      <td>0</td>\n",
       "      <td>1</td>\n",
       "      <td>1</td>\n",
       "      <td>0</td>\n",
       "      <td>6</td>\n",
       "      <td>2</td>\n",
       "      <td>2</td>\n",
       "      <td>2</td>\n",
       "    </tr>\n",
       "    <tr>\n",
       "      <th>1</th>\n",
       "      <td>-1.189521</td>\n",
       "      <td>0.144039</td>\n",
       "      <td>-0.182973</td>\n",
       "      <td>-1.185869</td>\n",
       "      <td>-0.280596</td>\n",
       "      <td>1</td>\n",
       "      <td>1</td>\n",
       "      <td>0</td>\n",
       "      <td>4</td>\n",
       "      <td>1</td>\n",
       "      <td>...</td>\n",
       "      <td>6</td>\n",
       "      <td>1</td>\n",
       "      <td>1</td>\n",
       "      <td>0</td>\n",
       "      <td>4</td>\n",
       "      <td>1</td>\n",
       "      <td>0</td>\n",
       "      <td>6</td>\n",
       "      <td>6</td>\n",
       "      <td>6</td>\n",
       "    </tr>\n",
       "    <tr>\n",
       "      <th>2</th>\n",
       "      <td>-0.639781</td>\n",
       "      <td>0.103534</td>\n",
       "      <td>-1.253357</td>\n",
       "      <td>1.078103</td>\n",
       "      <td>-0.280596</td>\n",
       "      <td>1</td>\n",
       "      <td>1</td>\n",
       "      <td>0</td>\n",
       "      <td>4</td>\n",
       "      <td>1</td>\n",
       "      <td>...</td>\n",
       "      <td>7</td>\n",
       "      <td>1</td>\n",
       "      <td>1</td>\n",
       "      <td>0</td>\n",
       "      <td>4</td>\n",
       "      <td>1</td>\n",
       "      <td>0</td>\n",
       "      <td>7</td>\n",
       "      <td>7</td>\n",
       "      <td>7</td>\n",
       "    </tr>\n",
       "    <tr>\n",
       "      <th>3</th>\n",
       "      <td>0.277041</td>\n",
       "      <td>-0.034819</td>\n",
       "      <td>-0.675398</td>\n",
       "      <td>-1.305855</td>\n",
       "      <td>0.043210</td>\n",
       "      <td>1</td>\n",
       "      <td>1</td>\n",
       "      <td>0</td>\n",
       "      <td>4</td>\n",
       "      <td>1</td>\n",
       "      <td>...</td>\n",
       "      <td>6</td>\n",
       "      <td>1</td>\n",
       "      <td>1</td>\n",
       "      <td>0</td>\n",
       "      <td>4</td>\n",
       "      <td>1</td>\n",
       "      <td>0</td>\n",
       "      <td>6</td>\n",
       "      <td>6</td>\n",
       "      <td>6</td>\n",
       "    </tr>\n",
       "    <tr>\n",
       "      <th>4</th>\n",
       "      <td>-1.648388</td>\n",
       "      <td>0.648045</td>\n",
       "      <td>-0.182606</td>\n",
       "      <td>1.851174</td>\n",
       "      <td>-1.954475</td>\n",
       "      <td>0</td>\n",
       "      <td>2</td>\n",
       "      <td>2</td>\n",
       "      <td>2</td>\n",
       "      <td>2</td>\n",
       "      <td>...</td>\n",
       "      <td>3</td>\n",
       "      <td>0</td>\n",
       "      <td>2</td>\n",
       "      <td>2</td>\n",
       "      <td>2</td>\n",
       "      <td>2</td>\n",
       "      <td>2</td>\n",
       "      <td>0</td>\n",
       "      <td>3</td>\n",
       "      <td>3</td>\n",
       "    </tr>\n",
       "    <tr>\n",
       "      <th>...</th>\n",
       "      <td>...</td>\n",
       "      <td>...</td>\n",
       "      <td>...</td>\n",
       "      <td>...</td>\n",
       "      <td>...</td>\n",
       "      <td>...</td>\n",
       "      <td>...</td>\n",
       "      <td>...</td>\n",
       "      <td>...</td>\n",
       "      <td>...</td>\n",
       "      <td>...</td>\n",
       "      <td>...</td>\n",
       "      <td>...</td>\n",
       "      <td>...</td>\n",
       "      <td>...</td>\n",
       "      <td>...</td>\n",
       "      <td>...</td>\n",
       "      <td>...</td>\n",
       "      <td>...</td>\n",
       "      <td>...</td>\n",
       "      <td>...</td>\n",
       "    </tr>\n",
       "    <tr>\n",
       "      <th>66</th>\n",
       "      <td>1.983945</td>\n",
       "      <td>0.291506</td>\n",
       "      <td>1.679640</td>\n",
       "      <td>-1.245655</td>\n",
       "      <td>-1.047333</td>\n",
       "      <td>0</td>\n",
       "      <td>0</td>\n",
       "      <td>3</td>\n",
       "      <td>3</td>\n",
       "      <td>3</td>\n",
       "      <td>...</td>\n",
       "      <td>0</td>\n",
       "      <td>0</td>\n",
       "      <td>0</td>\n",
       "      <td>3</td>\n",
       "      <td>3</td>\n",
       "      <td>3</td>\n",
       "      <td>3</td>\n",
       "      <td>3</td>\n",
       "      <td>1</td>\n",
       "      <td>0</td>\n",
       "    </tr>\n",
       "    <tr>\n",
       "      <th>67</th>\n",
       "      <td>-0.392685</td>\n",
       "      <td>-0.224995</td>\n",
       "      <td>0.577080</td>\n",
       "      <td>-0.527706</td>\n",
       "      <td>0.207704</td>\n",
       "      <td>0</td>\n",
       "      <td>0</td>\n",
       "      <td>1</td>\n",
       "      <td>1</td>\n",
       "      <td>0</td>\n",
       "      <td>...</td>\n",
       "      <td>2</td>\n",
       "      <td>0</td>\n",
       "      <td>0</td>\n",
       "      <td>1</td>\n",
       "      <td>1</td>\n",
       "      <td>0</td>\n",
       "      <td>6</td>\n",
       "      <td>2</td>\n",
       "      <td>2</td>\n",
       "      <td>2</td>\n",
       "    </tr>\n",
       "    <tr>\n",
       "      <th>68</th>\n",
       "      <td>-0.522916</td>\n",
       "      <td>-0.491179</td>\n",
       "      <td>1.266834</td>\n",
       "      <td>1.440387</td>\n",
       "      <td>-1.336156</td>\n",
       "      <td>0</td>\n",
       "      <td>2</td>\n",
       "      <td>2</td>\n",
       "      <td>2</td>\n",
       "      <td>2</td>\n",
       "      <td>...</td>\n",
       "      <td>3</td>\n",
       "      <td>0</td>\n",
       "      <td>2</td>\n",
       "      <td>2</td>\n",
       "      <td>2</td>\n",
       "      <td>2</td>\n",
       "      <td>2</td>\n",
       "      <td>0</td>\n",
       "      <td>3</td>\n",
       "      <td>3</td>\n",
       "    </tr>\n",
       "    <tr>\n",
       "      <th>69</th>\n",
       "      <td>-0.255992</td>\n",
       "      <td>-1.495058</td>\n",
       "      <td>-1.057702</td>\n",
       "      <td>-0.186127</td>\n",
       "      <td>0.593116</td>\n",
       "      <td>1</td>\n",
       "      <td>1</td>\n",
       "      <td>0</td>\n",
       "      <td>0</td>\n",
       "      <td>4</td>\n",
       "      <td>...</td>\n",
       "      <td>9</td>\n",
       "      <td>1</td>\n",
       "      <td>1</td>\n",
       "      <td>0</td>\n",
       "      <td>0</td>\n",
       "      <td>4</td>\n",
       "      <td>1</td>\n",
       "      <td>1</td>\n",
       "      <td>0</td>\n",
       "      <td>9</td>\n",
       "    </tr>\n",
       "    <tr>\n",
       "      <th>70</th>\n",
       "      <td>0.101763</td>\n",
       "      <td>0.722935</td>\n",
       "      <td>1.377529</td>\n",
       "      <td>-0.670616</td>\n",
       "      <td>-0.382615</td>\n",
       "      <td>0</td>\n",
       "      <td>0</td>\n",
       "      <td>1</td>\n",
       "      <td>1</td>\n",
       "      <td>0</td>\n",
       "      <td>...</td>\n",
       "      <td>2</td>\n",
       "      <td>0</td>\n",
       "      <td>0</td>\n",
       "      <td>1</td>\n",
       "      <td>1</td>\n",
       "      <td>0</td>\n",
       "      <td>6</td>\n",
       "      <td>2</td>\n",
       "      <td>2</td>\n",
       "      <td>2</td>\n",
       "    </tr>\n",
       "  </tbody>\n",
       "</table>\n",
       "<p>71 rows × 23 columns</p>\n",
       "</div>"
      ],
      "text/plain": [
       "          F1        F2        F3        F4        F5  \\\n",
       "0  -0.347499  0.444099  0.166838  0.724467 -0.033231   \n",
       "1  -1.189521  0.144039 -0.182973 -1.185869 -0.280596   \n",
       "2  -0.639781  0.103534 -1.253357  1.078103 -0.280596   \n",
       "3   0.277041 -0.034819 -0.675398 -1.305855  0.043210   \n",
       "4  -1.648388  0.648045 -0.182606  1.851174 -1.954475   \n",
       "..       ...       ...       ...       ...       ...   \n",
       "66  1.983945  0.291506  1.679640 -1.245655 -1.047333   \n",
       "67 -0.392685 -0.224995  0.577080 -0.527706  0.207704   \n",
       "68 -0.522916 -0.491179  1.266834  1.440387 -1.336156   \n",
       "69 -0.255992 -1.495058 -1.057702 -0.186127  0.593116   \n",
       "70  0.101763  0.722935  1.377529 -0.670616 -0.382615   \n",
       "\n",
       "    AG2datos_Ptrans_test2_TA_sel_st  AG3datos_Ptrans_test2_TA_sel_st  \\\n",
       "0                                 0                                0   \n",
       "1                                 1                                1   \n",
       "2                                 1                                1   \n",
       "3                                 1                                1   \n",
       "4                                 0                                2   \n",
       "..                              ...                              ...   \n",
       "66                                0                                0   \n",
       "67                                0                                0   \n",
       "68                                0                                2   \n",
       "69                                1                                1   \n",
       "70                                0                                0   \n",
       "\n",
       "    AG4datos_Ptrans_test2_TA_sel_st  AG5datos_Ptrans_test2_TA_sel_st  \\\n",
       "0                                 1                                1   \n",
       "1                                 0                                4   \n",
       "2                                 0                                4   \n",
       "3                                 0                                4   \n",
       "4                                 2                                2   \n",
       "..                              ...                              ...   \n",
       "66                                3                                3   \n",
       "67                                1                                1   \n",
       "68                                2                                2   \n",
       "69                                0                                0   \n",
       "70                                1                                1   \n",
       "\n",
       "    AG6datos_Ptrans_test2_TA_sel_st  ...  AG10datos_Ptrans_test2_TA_sel_st  \\\n",
       "0                                 0  ...                                 2   \n",
       "1                                 1  ...                                 6   \n",
       "2                                 1  ...                                 7   \n",
       "3                                 1  ...                                 6   \n",
       "4                                 2  ...                                 3   \n",
       "..                              ...  ...                               ...   \n",
       "66                                3  ...                                 0   \n",
       "67                                0  ...                                 2   \n",
       "68                                2  ...                                 3   \n",
       "69                                4  ...                                 9   \n",
       "70                                0  ...                                 2   \n",
       "\n",
       "    AG2Ptrans_test2_TA_AG  AG3Ptrans_test2_TA_AG  AG4Ptrans_test2_TA_AG  \\\n",
       "0                       0                      0                      1   \n",
       "1                       1                      1                      0   \n",
       "2                       1                      1                      0   \n",
       "3                       1                      1                      0   \n",
       "4                       0                      2                      2   \n",
       "..                    ...                    ...                    ...   \n",
       "66                      0                      0                      3   \n",
       "67                      0                      0                      1   \n",
       "68                      0                      2                      2   \n",
       "69                      1                      1                      0   \n",
       "70                      0                      0                      1   \n",
       "\n",
       "    AG5Ptrans_test2_TA_AG  AG6Ptrans_test2_TA_AG  AG7Ptrans_test2_TA_AG  \\\n",
       "0                       1                      0                      6   \n",
       "1                       4                      1                      0   \n",
       "2                       4                      1                      0   \n",
       "3                       4                      1                      0   \n",
       "4                       2                      2                      2   \n",
       "..                    ...                    ...                    ...   \n",
       "66                      3                      3                      3   \n",
       "67                      1                      0                      6   \n",
       "68                      2                      2                      2   \n",
       "69                      0                      4                      1   \n",
       "70                      1                      0                      6   \n",
       "\n",
       "    AG8Ptrans_test2_TA_AG  AG9Ptrans_test2_TA_AG  AG10Ptrans_test2_TA_AG  \n",
       "0                       2                      2                       2  \n",
       "1                       6                      6                       6  \n",
       "2                       7                      7                       7  \n",
       "3                       6                      6                       6  \n",
       "4                       0                      3                       3  \n",
       "..                    ...                    ...                     ...  \n",
       "66                      3                      1                       0  \n",
       "67                      2                      2                       2  \n",
       "68                      0                      3                       3  \n",
       "69                      1                      0                       9  \n",
       "70                      2                      2                       2  \n",
       "\n",
       "[71 rows x 23 columns]"
      ]
     },
     "execution_count": 137,
     "metadata": {},
     "output_type": "execute_result"
    }
   ],
   "source": [
    "df_list[3]"
   ]
  },
  {
   "cell_type": "code",
   "execution_count": 138,
   "metadata": {},
   "outputs": [],
   "source": [
    "def grafico(df,variables,cluster):\n",
    "    datos_melt_todos = cf.ajustar_data(df, variables)\n",
    "    datos_group = cf.group_data(datos_melt_todos,cluster)\n",
    "    return cf.interactive_scatter(datos_group, cluster)"
   ]
  },
  {
   "cell_type": "code",
   "execution_count": 5,
   "metadata": {},
   "outputs": [
    {
     "ename": "NameError",
     "evalue": "name 'grafico' is not defined",
     "output_type": "error",
     "traceback": [
      "\u001b[1;31m---------------------------------------------------------------------------\u001b[0m",
      "\u001b[1;31mNameError\u001b[0m                                 Traceback (most recent call last)",
      "\u001b[1;32mc:\\Users\\crist\\Documents\\GitHub\\manifolds\\ciudades\\cluster_function\\main_cluster.ipynb Cell 37\u001b[0m line \u001b[0;36m1\n\u001b[1;32m----> <a href='vscode-notebook-cell:/c%3A/Users/crist/Documents/GitHub/manifolds/ciudades/cluster_function/main_cluster.ipynb#X53sZmlsZQ%3D%3D?line=0'>1</a>\u001b[0m grafico(df_list_KM[\u001b[39m3\u001b[39m],variables_keep,\u001b[39m'\u001b[39m\u001b[39mAG5datos_Ptrans_test2_TA_sel_st\u001b[39m\u001b[39m'\u001b[39m)\n",
      "\u001b[1;31mNameError\u001b[0m: name 'grafico' is not defined"
     ]
    }
   ],
   "source": [
    "grafico(df_list_KM[3],variables_keep,'AG5datos_Ptrans_test2_TA_sel_st')"
   ]
  },
  {
   "cell_type": "code",
   "execution_count": 86,
   "metadata": {},
   "outputs": [],
   "source": [
    "import plotly.express as px"
   ]
  },
  {
   "cell_type": "code",
   "execution_count": 140,
   "metadata": {},
   "outputs": [
    {
     "data": {
      "application/vnd.plotly.v1+json": {
       "config": {
        "plotlyServerURL": "https://plot.ly"
       },
       "data": [
        {
         "customdata": [
          [
           "Albacete",
           1
          ],
          [
           "Alcalá de Henares",
           0
          ],
          [
           "Alcobendas",
           0
          ],
          [
           "Alcorcón",
           0
          ],
          [
           "Algeciras",
           2
          ],
          [
           "Alicante/Alacant",
           1
          ],
          [
           "Almería",
           1
          ],
          [
           "Ávila",
           0
          ],
          [
           "Badajoz",
           2
          ],
          [
           "Badalona",
           1
          ],
          [
           "Barcelona",
           3
          ],
          [
           "Burgos",
           0
          ],
          [
           "Cáceres",
           0
          ],
          [
           "Cádiz",
           3
          ],
          [
           "Cartagena",
           2
          ],
          [
           "Castelló de la Plana",
           0
          ],
          [
           "Ceuta",
           0
          ],
          [
           "Ciudad Real",
           0
          ],
          [
           "Córdoba",
           2
          ],
          [
           "Coruña, A",
           1
          ],
          [
           "Cuenca",
           0
          ],
          [
           "Dos Hermanas",
           0
          ],
          [
           "Elche/Elx",
           2
          ],
          [
           "Fuenlabrada",
           0
          ],
          [
           "Getafe",
           0
          ],
          [
           "Gijón",
           1
          ],
          [
           "Girona",
           1
          ],
          [
           "Granada",
           1
          ],
          [
           "Guadalajara",
           0
          ],
          [
           "Hospitalet de Llobregat, L'",
           3
          ],
          [
           "Huelva",
           0
          ],
          [
           "Huesca",
           0
          ],
          [
           "Jaén",
           0
          ],
          [
           "Jerez de la Frontera",
           0
          ],
          [
           "Palmas de Gran Canaria, Las",
           1
          ],
          [
           "Leganés",
           0
          ],
          [
           "León",
           0
          ],
          [
           "Lleida",
           0
          ],
          [
           "Logroño",
           3
          ],
          [
           "Lugo",
           1
          ],
          [
           "Madrid",
           1
          ],
          [
           "Málaga",
           1
          ],
          [
           "Marbella",
           2
          ],
          [
           "Mataró",
           1
          ],
          [
           "Melilla",
           0
          ],
          [
           "Móstoles",
           0
          ],
          [
           "Murcia",
           1
          ],
          [
           "Ourense",
           2
          ],
          [
           "Oviedo",
           3
          ],
          [
           "Palencia",
           0
          ],
          [
           "Palma de Mallorca",
           1
          ],
          [
           "Parla",
           0
          ],
          [
           "Pontevedra",
           0
          ],
          [
           "Sabadell",
           1
          ],
          [
           "Salamanca",
           0
          ],
          [
           "San Cristóbal de La Laguna",
           2
          ],
          [
           "Santa Coloma de Gramenet",
           3
          ],
          [
           "Santa Cruz de Tenerife",
           1
          ],
          [
           "Santander",
           1
          ],
          [
           "Segovia",
           0
          ],
          [
           "Sevilla",
           1
          ],
          [
           "Soria",
           0
          ],
          [
           "Tarragona",
           0
          ],
          [
           "Terrassa",
           1
          ],
          [
           "Teruel",
           0
          ],
          [
           "Toledo",
           0
          ],
          [
           "Torrejón de Ardoz",
           3
          ],
          [
           "Valencia",
           1
          ],
          [
           "Valladolid",
           2
          ],
          [
           "Vigo",
           0
          ],
          [
           "Zamora",
           1
          ]
         ],
         "hovertemplate": "F4=%{x}<br>F1=%{y}<br>Ciudades=%{customdata[0]}<br>AG4datos_Ptrans_test2_TA_sel_st=%{marker.color}<extra></extra>",
         "legendgroup": "",
         "marker": {
          "color": [
           1,
           0,
           0,
           0,
           2,
           1,
           1,
           0,
           2,
           1,
           3,
           0,
           0,
           3,
           2,
           0,
           0,
           0,
           2,
           1,
           0,
           0,
           2,
           0,
           0,
           1,
           1,
           1,
           0,
           3,
           0,
           0,
           0,
           0,
           1,
           0,
           0,
           0,
           3,
           1,
           1,
           1,
           2,
           1,
           0,
           0,
           1,
           2,
           3,
           0,
           1,
           0,
           0,
           1,
           0,
           2,
           3,
           1,
           1,
           0,
           1,
           0,
           0,
           1,
           0,
           0,
           3,
           1,
           2,
           0,
           1
          ],
          "coloraxis": "coloraxis",
          "symbol": "circle"
         },
         "mode": "markers",
         "name": "",
         "orientation": "v",
         "showlegend": false,
         "type": "scatter",
         "x": [
          0.7244666399988691,
          -1.185869176114419,
          1.0781026302248842,
          -1.305854554959429,
          1.8511740736976645,
          0.9640220633967247,
          0.7400621519702927,
          0.48730056255323456,
          2.195076762505252,
          -0.307079628571573,
          -1.0119942623661966,
          -1.233666911773408,
          0.39171987222599264,
          -2.370173799432799,
          1.1423302600135619,
          0.014787630112195147,
          0.3219503689473722,
          0.20310469765967545,
          1.6953553947277287,
          -0.2853944464073421,
          -0.23371397084239412,
          1.1635129683193641,
          1.4369173830554895,
          -1.5873816936806724,
          -0.48217141356845783,
          0.1883540689811923,
          0.5725844352241827,
          -0.2855345342723785,
          -0.0486749654229399,
          -1.897116785949764,
          -1.0205473806667695,
          -1.2660321857557246,
          0.04502633158017334,
          0.8704881937005178,
          0.46758422353572576,
          -1.3976375662843783,
          -0.8250751881045204,
          -0.6212495455490066,
          -1.842731457943064,
          -0.43913278342091494,
          -1.1654661717635912,
          0.6737268999297689,
          1.5389800585374322,
          0.1919243578742445,
          0.015259700702673748,
          -0.4185224326001097,
          0.9482271611993387,
          1.8401338881852316,
          -0.5838071831796796,
          -0.31622588385541744,
          0.6442135908843527,
          -0.667849726980238,
          0.9660294776043208,
          0.09804942237981695,
          -1.4746908380399315,
          1.4708904056313643,
          -0.3713380333365056,
          0.4530744888065948,
          -0.01742405492383198,
          -0.5178469208985718,
          -0.8724487273727205,
          -0.49015391248962664,
          0.4178896668364614,
          0.5950767133686348,
          0.3081132261594632,
          1.0170135099490705,
          -1.245654864673628,
          -0.5277062889986731,
          1.4403874304301547,
          -0.1861274346784662,
          -0.6706159860318739
         ],
         "xaxis": "x",
         "y": [
          -0.3474991996317637,
          -1.1895209556293813,
          -0.6397805360681461,
          0.2770406761941915,
          -1.6483875134881556,
          0.5182601485232413,
          0.14170025055232563,
          -2.251120641152691,
          -1.5103273534221997,
          1.3067454253144644,
          2.0866754851839047,
          -0.950158923833,
          -1.0522927911277957,
          1.901868272292979,
          -0.9103716398391442,
          0.03266108012738794,
          -0.8129371500599905,
          0.44954145855639893,
          -0.9673776147807182,
          0.27521030133836094,
          -0.0820974838980332,
          -2.428197472769656,
          -0.520370166315365,
          -0.39022033906011105,
          -1.1284009272540039,
          -0.20633615229614088,
          0.3619040243532664,
          0.2523203326861191,
          -0.44332445332805814,
          1.0163950524570498,
          -0.2616476999965235,
          0.3657584405923815,
          -0.31666862018732794,
          -1.5017180522737652,
          0.8841237011070717,
          -0.6306470693643815,
          0.22324266201205767,
          0.014880121339922307,
          1.14082936003674,
          1.5707014718332895,
          -0.7436825327634958,
          -0.4854394180248098,
          0.2977613607147361,
          0.8700942657903088,
          -1.0312177346490174,
          -0.011935842744646463,
          0.4084876468216867,
          0.031579785427698015,
          1.4851625361697727,
          -0.433224254741477,
          0.6701656776729503,
          -0.22241853519777552,
          0.38130312347820305,
          1.2465381270159888,
          0.39015873723776046,
          0.020633624294083528,
          2.668479732620696,
          0.8957613669117372,
          1.1197201029032495,
          0.35848993403179086,
          0.610503917457712,
          0.3230126336342095,
          -0.4831422695603849,
          0.9345746448150664,
          -0.866085737134432,
          -1.9798513231012183,
          1.983945097547166,
          -0.39268470212267775,
          -0.5229163606522925,
          -0.2559918642982239,
          0.10176275172083396
         ],
         "yaxis": "y"
        }
       ],
       "layout": {
        "coloraxis": {
         "colorbar": {
          "title": {
           "text": "AG4datos_Ptrans_test2_TA_sel_st"
          }
         },
         "colorscale": [
          [
           0,
           "#0d0887"
          ],
          [
           0.1111111111111111,
           "#46039f"
          ],
          [
           0.2222222222222222,
           "#7201a8"
          ],
          [
           0.3333333333333333,
           "#9c179e"
          ],
          [
           0.4444444444444444,
           "#bd3786"
          ],
          [
           0.5555555555555556,
           "#d8576b"
          ],
          [
           0.6666666666666666,
           "#ed7953"
          ],
          [
           0.7777777777777778,
           "#fb9f3a"
          ],
          [
           0.8888888888888888,
           "#fdca26"
          ],
          [
           1,
           "#f0f921"
          ]
         ]
        },
        "legend": {
         "tracegroupgap": 0
        },
        "margin": {
         "t": 60
        },
        "template": {
         "data": {
          "bar": [
           {
            "error_x": {
             "color": "#2a3f5f"
            },
            "error_y": {
             "color": "#2a3f5f"
            },
            "marker": {
             "line": {
              "color": "#E5ECF6",
              "width": 0.5
             },
             "pattern": {
              "fillmode": "overlay",
              "size": 10,
              "solidity": 0.2
             }
            },
            "type": "bar"
           }
          ],
          "barpolar": [
           {
            "marker": {
             "line": {
              "color": "#E5ECF6",
              "width": 0.5
             },
             "pattern": {
              "fillmode": "overlay",
              "size": 10,
              "solidity": 0.2
             }
            },
            "type": "barpolar"
           }
          ],
          "carpet": [
           {
            "aaxis": {
             "endlinecolor": "#2a3f5f",
             "gridcolor": "white",
             "linecolor": "white",
             "minorgridcolor": "white",
             "startlinecolor": "#2a3f5f"
            },
            "baxis": {
             "endlinecolor": "#2a3f5f",
             "gridcolor": "white",
             "linecolor": "white",
             "minorgridcolor": "white",
             "startlinecolor": "#2a3f5f"
            },
            "type": "carpet"
           }
          ],
          "choropleth": [
           {
            "colorbar": {
             "outlinewidth": 0,
             "ticks": ""
            },
            "type": "choropleth"
           }
          ],
          "contour": [
           {
            "colorbar": {
             "outlinewidth": 0,
             "ticks": ""
            },
            "colorscale": [
             [
              0,
              "#0d0887"
             ],
             [
              0.1111111111111111,
              "#46039f"
             ],
             [
              0.2222222222222222,
              "#7201a8"
             ],
             [
              0.3333333333333333,
              "#9c179e"
             ],
             [
              0.4444444444444444,
              "#bd3786"
             ],
             [
              0.5555555555555556,
              "#d8576b"
             ],
             [
              0.6666666666666666,
              "#ed7953"
             ],
             [
              0.7777777777777778,
              "#fb9f3a"
             ],
             [
              0.8888888888888888,
              "#fdca26"
             ],
             [
              1,
              "#f0f921"
             ]
            ],
            "type": "contour"
           }
          ],
          "contourcarpet": [
           {
            "colorbar": {
             "outlinewidth": 0,
             "ticks": ""
            },
            "type": "contourcarpet"
           }
          ],
          "heatmap": [
           {
            "colorbar": {
             "outlinewidth": 0,
             "ticks": ""
            },
            "colorscale": [
             [
              0,
              "#0d0887"
             ],
             [
              0.1111111111111111,
              "#46039f"
             ],
             [
              0.2222222222222222,
              "#7201a8"
             ],
             [
              0.3333333333333333,
              "#9c179e"
             ],
             [
              0.4444444444444444,
              "#bd3786"
             ],
             [
              0.5555555555555556,
              "#d8576b"
             ],
             [
              0.6666666666666666,
              "#ed7953"
             ],
             [
              0.7777777777777778,
              "#fb9f3a"
             ],
             [
              0.8888888888888888,
              "#fdca26"
             ],
             [
              1,
              "#f0f921"
             ]
            ],
            "type": "heatmap"
           }
          ],
          "heatmapgl": [
           {
            "colorbar": {
             "outlinewidth": 0,
             "ticks": ""
            },
            "colorscale": [
             [
              0,
              "#0d0887"
             ],
             [
              0.1111111111111111,
              "#46039f"
             ],
             [
              0.2222222222222222,
              "#7201a8"
             ],
             [
              0.3333333333333333,
              "#9c179e"
             ],
             [
              0.4444444444444444,
              "#bd3786"
             ],
             [
              0.5555555555555556,
              "#d8576b"
             ],
             [
              0.6666666666666666,
              "#ed7953"
             ],
             [
              0.7777777777777778,
              "#fb9f3a"
             ],
             [
              0.8888888888888888,
              "#fdca26"
             ],
             [
              1,
              "#f0f921"
             ]
            ],
            "type": "heatmapgl"
           }
          ],
          "histogram": [
           {
            "marker": {
             "pattern": {
              "fillmode": "overlay",
              "size": 10,
              "solidity": 0.2
             }
            },
            "type": "histogram"
           }
          ],
          "histogram2d": [
           {
            "colorbar": {
             "outlinewidth": 0,
             "ticks": ""
            },
            "colorscale": [
             [
              0,
              "#0d0887"
             ],
             [
              0.1111111111111111,
              "#46039f"
             ],
             [
              0.2222222222222222,
              "#7201a8"
             ],
             [
              0.3333333333333333,
              "#9c179e"
             ],
             [
              0.4444444444444444,
              "#bd3786"
             ],
             [
              0.5555555555555556,
              "#d8576b"
             ],
             [
              0.6666666666666666,
              "#ed7953"
             ],
             [
              0.7777777777777778,
              "#fb9f3a"
             ],
             [
              0.8888888888888888,
              "#fdca26"
             ],
             [
              1,
              "#f0f921"
             ]
            ],
            "type": "histogram2d"
           }
          ],
          "histogram2dcontour": [
           {
            "colorbar": {
             "outlinewidth": 0,
             "ticks": ""
            },
            "colorscale": [
             [
              0,
              "#0d0887"
             ],
             [
              0.1111111111111111,
              "#46039f"
             ],
             [
              0.2222222222222222,
              "#7201a8"
             ],
             [
              0.3333333333333333,
              "#9c179e"
             ],
             [
              0.4444444444444444,
              "#bd3786"
             ],
             [
              0.5555555555555556,
              "#d8576b"
             ],
             [
              0.6666666666666666,
              "#ed7953"
             ],
             [
              0.7777777777777778,
              "#fb9f3a"
             ],
             [
              0.8888888888888888,
              "#fdca26"
             ],
             [
              1,
              "#f0f921"
             ]
            ],
            "type": "histogram2dcontour"
           }
          ],
          "mesh3d": [
           {
            "colorbar": {
             "outlinewidth": 0,
             "ticks": ""
            },
            "type": "mesh3d"
           }
          ],
          "parcoords": [
           {
            "line": {
             "colorbar": {
              "outlinewidth": 0,
              "ticks": ""
             }
            },
            "type": "parcoords"
           }
          ],
          "pie": [
           {
            "automargin": true,
            "type": "pie"
           }
          ],
          "scatter": [
           {
            "fillpattern": {
             "fillmode": "overlay",
             "size": 10,
             "solidity": 0.2
            },
            "type": "scatter"
           }
          ],
          "scatter3d": [
           {
            "line": {
             "colorbar": {
              "outlinewidth": 0,
              "ticks": ""
             }
            },
            "marker": {
             "colorbar": {
              "outlinewidth": 0,
              "ticks": ""
             }
            },
            "type": "scatter3d"
           }
          ],
          "scattercarpet": [
           {
            "marker": {
             "colorbar": {
              "outlinewidth": 0,
              "ticks": ""
             }
            },
            "type": "scattercarpet"
           }
          ],
          "scattergeo": [
           {
            "marker": {
             "colorbar": {
              "outlinewidth": 0,
              "ticks": ""
             }
            },
            "type": "scattergeo"
           }
          ],
          "scattergl": [
           {
            "marker": {
             "colorbar": {
              "outlinewidth": 0,
              "ticks": ""
             }
            },
            "type": "scattergl"
           }
          ],
          "scattermapbox": [
           {
            "marker": {
             "colorbar": {
              "outlinewidth": 0,
              "ticks": ""
             }
            },
            "type": "scattermapbox"
           }
          ],
          "scatterpolar": [
           {
            "marker": {
             "colorbar": {
              "outlinewidth": 0,
              "ticks": ""
             }
            },
            "type": "scatterpolar"
           }
          ],
          "scatterpolargl": [
           {
            "marker": {
             "colorbar": {
              "outlinewidth": 0,
              "ticks": ""
             }
            },
            "type": "scatterpolargl"
           }
          ],
          "scatterternary": [
           {
            "marker": {
             "colorbar": {
              "outlinewidth": 0,
              "ticks": ""
             }
            },
            "type": "scatterternary"
           }
          ],
          "surface": [
           {
            "colorbar": {
             "outlinewidth": 0,
             "ticks": ""
            },
            "colorscale": [
             [
              0,
              "#0d0887"
             ],
             [
              0.1111111111111111,
              "#46039f"
             ],
             [
              0.2222222222222222,
              "#7201a8"
             ],
             [
              0.3333333333333333,
              "#9c179e"
             ],
             [
              0.4444444444444444,
              "#bd3786"
             ],
             [
              0.5555555555555556,
              "#d8576b"
             ],
             [
              0.6666666666666666,
              "#ed7953"
             ],
             [
              0.7777777777777778,
              "#fb9f3a"
             ],
             [
              0.8888888888888888,
              "#fdca26"
             ],
             [
              1,
              "#f0f921"
             ]
            ],
            "type": "surface"
           }
          ],
          "table": [
           {
            "cells": {
             "fill": {
              "color": "#EBF0F8"
             },
             "line": {
              "color": "white"
             }
            },
            "header": {
             "fill": {
              "color": "#C8D4E3"
             },
             "line": {
              "color": "white"
             }
            },
            "type": "table"
           }
          ]
         },
         "layout": {
          "annotationdefaults": {
           "arrowcolor": "#2a3f5f",
           "arrowhead": 0,
           "arrowwidth": 1
          },
          "autotypenumbers": "strict",
          "coloraxis": {
           "colorbar": {
            "outlinewidth": 0,
            "ticks": ""
           }
          },
          "colorscale": {
           "diverging": [
            [
             0,
             "#8e0152"
            ],
            [
             0.1,
             "#c51b7d"
            ],
            [
             0.2,
             "#de77ae"
            ],
            [
             0.3,
             "#f1b6da"
            ],
            [
             0.4,
             "#fde0ef"
            ],
            [
             0.5,
             "#f7f7f7"
            ],
            [
             0.6,
             "#e6f5d0"
            ],
            [
             0.7,
             "#b8e186"
            ],
            [
             0.8,
             "#7fbc41"
            ],
            [
             0.9,
             "#4d9221"
            ],
            [
             1,
             "#276419"
            ]
           ],
           "sequential": [
            [
             0,
             "#0d0887"
            ],
            [
             0.1111111111111111,
             "#46039f"
            ],
            [
             0.2222222222222222,
             "#7201a8"
            ],
            [
             0.3333333333333333,
             "#9c179e"
            ],
            [
             0.4444444444444444,
             "#bd3786"
            ],
            [
             0.5555555555555556,
             "#d8576b"
            ],
            [
             0.6666666666666666,
             "#ed7953"
            ],
            [
             0.7777777777777778,
             "#fb9f3a"
            ],
            [
             0.8888888888888888,
             "#fdca26"
            ],
            [
             1,
             "#f0f921"
            ]
           ],
           "sequentialminus": [
            [
             0,
             "#0d0887"
            ],
            [
             0.1111111111111111,
             "#46039f"
            ],
            [
             0.2222222222222222,
             "#7201a8"
            ],
            [
             0.3333333333333333,
             "#9c179e"
            ],
            [
             0.4444444444444444,
             "#bd3786"
            ],
            [
             0.5555555555555556,
             "#d8576b"
            ],
            [
             0.6666666666666666,
             "#ed7953"
            ],
            [
             0.7777777777777778,
             "#fb9f3a"
            ],
            [
             0.8888888888888888,
             "#fdca26"
            ],
            [
             1,
             "#f0f921"
            ]
           ]
          },
          "colorway": [
           "#636efa",
           "#EF553B",
           "#00cc96",
           "#ab63fa",
           "#FFA15A",
           "#19d3f3",
           "#FF6692",
           "#B6E880",
           "#FF97FF",
           "#FECB52"
          ],
          "font": {
           "color": "#2a3f5f"
          },
          "geo": {
           "bgcolor": "white",
           "lakecolor": "white",
           "landcolor": "#E5ECF6",
           "showlakes": true,
           "showland": true,
           "subunitcolor": "white"
          },
          "hoverlabel": {
           "align": "left"
          },
          "hovermode": "closest",
          "mapbox": {
           "style": "light"
          },
          "paper_bgcolor": "white",
          "plot_bgcolor": "#E5ECF6",
          "polar": {
           "angularaxis": {
            "gridcolor": "white",
            "linecolor": "white",
            "ticks": ""
           },
           "bgcolor": "#E5ECF6",
           "radialaxis": {
            "gridcolor": "white",
            "linecolor": "white",
            "ticks": ""
           }
          },
          "scene": {
           "xaxis": {
            "backgroundcolor": "#E5ECF6",
            "gridcolor": "white",
            "gridwidth": 2,
            "linecolor": "white",
            "showbackground": true,
            "ticks": "",
            "zerolinecolor": "white"
           },
           "yaxis": {
            "backgroundcolor": "#E5ECF6",
            "gridcolor": "white",
            "gridwidth": 2,
            "linecolor": "white",
            "showbackground": true,
            "ticks": "",
            "zerolinecolor": "white"
           },
           "zaxis": {
            "backgroundcolor": "#E5ECF6",
            "gridcolor": "white",
            "gridwidth": 2,
            "linecolor": "white",
            "showbackground": true,
            "ticks": "",
            "zerolinecolor": "white"
           }
          },
          "shapedefaults": {
           "line": {
            "color": "#2a3f5f"
           }
          },
          "ternary": {
           "aaxis": {
            "gridcolor": "white",
            "linecolor": "white",
            "ticks": ""
           },
           "baxis": {
            "gridcolor": "white",
            "linecolor": "white",
            "ticks": ""
           },
           "bgcolor": "#E5ECF6",
           "caxis": {
            "gridcolor": "white",
            "linecolor": "white",
            "ticks": ""
           }
          },
          "title": {
           "x": 0.05
          },
          "xaxis": {
           "automargin": true,
           "gridcolor": "white",
           "linecolor": "white",
           "ticks": "",
           "title": {
            "standoff": 15
           },
           "zerolinecolor": "white",
           "zerolinewidth": 2
          },
          "yaxis": {
           "automargin": true,
           "gridcolor": "white",
           "linecolor": "white",
           "ticks": "",
           "title": {
            "standoff": 15
           },
           "zerolinecolor": "white",
           "zerolinewidth": 2
          }
         }
        },
        "xaxis": {
         "anchor": "y",
         "domain": [
          0,
          1
         ],
         "title": {
          "text": "F4"
         }
        },
        "yaxis": {
         "anchor": "x",
         "domain": [
          0,
          1
         ],
         "title": {
          "text": "F1"
         }
        }
       }
      }
     },
     "metadata": {},
     "output_type": "display_data"
    }
   ],
   "source": [
    "df_list[3]['Ciudades'] = datos_Ptrans['Ciudades']\n",
    "cl1 = df_list[3]\n",
    "px.scatter(cl1, x = 'F4', y = 'F1', color = 'AG4datos_Ptrans_test2_TA_sel_st', hover_data=[\"Ciudades\",'AG4datos_Ptrans_test2_TA_sel_st']) "
   ]
  },
  {
   "cell_type": "code",
   "execution_count": 4,
   "metadata": {},
   "outputs": [
    {
     "ename": "NameError",
     "evalue": "name 'df_list_KM' is not defined",
     "output_type": "error",
     "traceback": [
      "\u001b[1;31m---------------------------------------------------------------------------\u001b[0m",
      "\u001b[1;31mNameError\u001b[0m                                 Traceback (most recent call last)",
      "\u001b[1;32mc:\\Users\\crist\\Documents\\GitHub\\manifolds\\ciudades\\cluster_function\\main_cluster.ipynb Cell 41\u001b[0m line \u001b[0;36m2\n\u001b[0;32m      <a href='vscode-notebook-cell:/c%3A/Users/crist/Documents/GitHub/manifolds/ciudades/cluster_function/main_cluster.ipynb#X60sZmlsZQ%3D%3D?line=0'>1</a>\u001b[0m \u001b[39m# Customize the layout (optional)\u001b[39;00m\n\u001b[1;32m----> <a href='vscode-notebook-cell:/c%3A/Users/crist/Documents/GitHub/manifolds/ciudades/cluster_function/main_cluster.ipynb#X60sZmlsZQ%3D%3D?line=1'>2</a>\u001b[0m cl1 \u001b[39m=\u001b[39m df_list_KM[\u001b[39m3\u001b[39m]\n\u001b[0;32m      <a href='vscode-notebook-cell:/c%3A/Users/crist/Documents/GitHub/manifolds/ciudades/cluster_function/main_cluster.ipynb#X60sZmlsZQ%3D%3D?line=2'>3</a>\u001b[0m fig \u001b[39m=\u001b[39m px\u001b[39m.\u001b[39mscatter_3d(cl1, x \u001b[39m=\u001b[39m \u001b[39m'\u001b[39m\u001b[39mF2\u001b[39m\u001b[39m'\u001b[39m, y \u001b[39m=\u001b[39m \u001b[39m'\u001b[39m\u001b[39mF3\u001b[39m\u001b[39m'\u001b[39m, z \u001b[39m=\u001b[39m \u001b[39m'\u001b[39m\u001b[39mF1\u001b[39m\u001b[39m'\u001b[39m, color \u001b[39m=\u001b[39m \u001b[39m'\u001b[39m\u001b[39mAG4datos_Ptrans_test2_TA_sel_st\u001b[39m\u001b[39m'\u001b[39m, hover_data \u001b[39m=\u001b[39m [\u001b[39m'\u001b[39m\u001b[39mCiudades\u001b[39m\u001b[39m'\u001b[39m, \u001b[39m'\u001b[39m\u001b[39mAG4datos_Ptrans_test2_TA_sel_st\u001b[39m\u001b[39m'\u001b[39m])\n\u001b[0;32m      <a href='vscode-notebook-cell:/c%3A/Users/crist/Documents/GitHub/manifolds/ciudades/cluster_function/main_cluster.ipynb#X60sZmlsZQ%3D%3D?line=3'>4</a>\u001b[0m fig\u001b[39m.\u001b[39mupdate_layout(title\u001b[39m=\u001b[39m\u001b[39m'\u001b[39m\u001b[39m3D Scatter Plot\u001b[39m\u001b[39m'\u001b[39m, scene\u001b[39m=\u001b[39m\u001b[39mdict\u001b[39m(xaxis_title\u001b[39m=\u001b[39m\u001b[39m'\u001b[39m\u001b[39mF1\u001b[39m\u001b[39m'\u001b[39m, yaxis_title\u001b[39m=\u001b[39m\u001b[39m'\u001b[39m\u001b[39mF2\u001b[39m\u001b[39m'\u001b[39m, zaxis_title\u001b[39m=\u001b[39m\u001b[39m'\u001b[39m\u001b[39mF3\u001b[39m\u001b[39m'\u001b[39m))\n",
      "\u001b[1;31mNameError\u001b[0m: name 'df_list_KM' is not defined"
     ]
    }
   ],
   "source": [
    "# Customize the layout (optional)\n",
    "cl1 = df_list_KM[3]\n",
    "fig = px.scatter_3d(cl1, x = 'F2', y = 'F3', z = 'F1', color = 'AG4datos_Ptrans_test2_TA_sel_st', hover_data = ['Ciudades', 'AG4datos_Ptrans_test2_TA_sel_st'])\n",
    "fig.update_layout(title='3D Scatter Plot', scene=dict(xaxis_title='F1', yaxis_title='F2', zaxis_title='F3'))\n",
    "\n",
    "# Show the plot\n",
    "fig.show()"
   ]
  }
 ],
 "metadata": {
  "kernelspec": {
   "display_name": "datamecum",
   "language": "python",
   "name": "python3"
  },
  "language_info": {
   "codemirror_mode": {
    "name": "ipython",
    "version": 3
   },
   "file_extension": ".py",
   "mimetype": "text/x-python",
   "name": "python",
   "nbconvert_exporter": "python",
   "pygments_lexer": "ipython3",
   "version": "3.9.13"
  }
 },
 "nbformat": 4,
 "nbformat_minor": 2
}
