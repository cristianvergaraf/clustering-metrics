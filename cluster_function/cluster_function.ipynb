{
 "cells": [
  {
   "cell_type": "markdown",
   "metadata": {},
   "source": [
    "The objetive of this function is to try different clusters automatically and then analyse the quality of the cluster using silhoutte.\n",
    "\n",
    "At lest we want to test three different cluster algoritms, the normally used hierarquical clustering using ward, the kmeans, the affinity propagation method, and the density clusted DBSCAN.\n",
    "\n",
    "We know that in our dataset most variable show no normal behaiour and also we have many outliers. We had scaled the data using MinMax and Standarscaler, and Ptranform scaler. After PowerTransform scaler we got a dataset with more normally distributed variables and fewer outliers. \n",
    "\n"
   ]
  },
  {
   "cell_type": "markdown",
   "metadata": {},
   "source": []
  },
  {
   "cell_type": "code",
   "execution_count": 1,
   "metadata": {},
   "outputs": [],
   "source": [
    "from sklearn.cluster import AgglomerativeClustering\n",
    "import numpy as np"
   ]
  },
  {
   "cell_type": "code",
   "execution_count": 2,
   "metadata": {},
   "outputs": [],
   "source": [
    "from sklearn import metrics\n",
    "from sklearn.cluster import DBSCAN\n",
    "\n",
    "\n"
   ]
  },
  {
   "cell_type": "code",
   "execution_count": 3,
   "metadata": {},
   "outputs": [],
   "source": [
    "import pandas as pd\n"
   ]
  },
  {
   "cell_type": "code",
   "execution_count": 4,
   "metadata": {},
   "outputs": [],
   "source": [
    "datos_Ptrans = pd.read_csv(r\"C:\\Users\\crist\\Documents\\GitHub\\manifolds\\ciudades\\datos\\cluster\\df_datos_PTrans.csv\", encoding = \"ISO-8859-1\", index_col = [0] )\n"
   ]
  },
  {
   "cell_type": "code",
   "execution_count": 5,
   "metadata": {},
   "outputs": [],
   "source": [
    "datos_Ptrans['F1'] = datos_Ptrans['AREA_MN'] * 0.815 + datos_Ptrans[\"ED\"] * 0.913 + datos_Ptrans[\"RES_PLU\"]  * 0.654 \n",
    "datos_Ptrans['F2'] = datos_Ptrans['LPI'] * -0.848 + datos_Ptrans['SPLIT'] * 0.834 + datos_Ptrans['MESH'] * -0.764\n",
    "datos_Ptrans['F3'] = datos_Ptrans['LSI'] * 0.755 + datos_Ptrans['T_Viviendas'] * 0.957 \n",
    "datos_Ptrans['F4'] = datos_Ptrans['RES_UNI'] * 0.817 \n",
    "datos_Ptrans['F5'] = datos_Ptrans['SIDI'] * 0.751 "
   ]
  },
  {
   "cell_type": "code",
   "execution_count": 6,
   "metadata": {},
   "outputs": [],
   "source": [
    "datos_Ptrans_sel = datos_Ptrans.loc[:,[\"Ciudades\",\"F1\",\"F2\",\"F3\",\"F4\",\"F5\"]]"
   ]
  },
  {
   "cell_type": "code",
   "execution_count": 7,
   "metadata": {},
   "outputs": [],
   "source": [
    "from sklearn.preprocessing import MinMaxScaler"
   ]
  },
  {
   "cell_type": "code",
   "execution_count": 9,
   "metadata": {},
   "outputs": [],
   "source": [
    "MM = MinMaxScaler()\n",
    "MM.fit(datos_Ptrans_sel.loc[:,[\"F1\",\"F2\",\"F3\",\"F4\",\"F5\"]])\n",
    "datos_Ptrans_mm = MM.transform(datos_Ptrans_sel.loc[:,[\"F1\",\"F2\",\"F3\",\"F4\",\"F5\"]])"
   ]
  },
  {
   "cell_type": "code",
   "execution_count": 10,
   "metadata": {},
   "outputs": [],
   "source": [
    "df_datos_Ptrans_mm = pd.DataFrame(datos_Ptrans_mm, columns= [\"F1\",\"F2\",\"F3\",\"F4\",\"F5\"])"
   ]
  },
  {
   "cell_type": "code",
   "execution_count": 11,
   "metadata": {},
   "outputs": [],
   "source": [
    "df_datos_Ptrans_mm.insert(0,'Ciudades',datos_Ptrans[\"Ciudades\"])"
   ]
  },
  {
   "cell_type": "markdown",
   "metadata": {},
   "source": [
    "# StandarScaler"
   ]
  },
  {
   "cell_type": "code",
   "execution_count": 20,
   "metadata": {},
   "outputs": [],
   "source": [
    "def Scaler(df,method):\n",
    "    st = method\n",
    "    scaler = st.fit_transform(df)\n",
    "    col = df.columns\n",
    "    df_scaler = pd.DataFrame(data = scaler, columns = col)\n",
    "    return df_scaler\n",
    "    "
   ]
  },
  {
   "cell_type": "code",
   "execution_count": 22,
   "metadata": {},
   "outputs": [
    {
     "data": {
      "text/html": [
       "<div>\n",
       "<style scoped>\n",
       "    .dataframe tbody tr th:only-of-type {\n",
       "        vertical-align: middle;\n",
       "    }\n",
       "\n",
       "    .dataframe tbody tr th {\n",
       "        vertical-align: top;\n",
       "    }\n",
       "\n",
       "    .dataframe thead th {\n",
       "        text-align: right;\n",
       "    }\n",
       "</style>\n",
       "<table border=\"1\" class=\"dataframe\">\n",
       "  <thead>\n",
       "    <tr style=\"text-align: right;\">\n",
       "      <th></th>\n",
       "      <th>F1</th>\n",
       "      <th>F2</th>\n",
       "      <th>F3</th>\n",
       "      <th>F4</th>\n",
       "      <th>F5</th>\n",
       "    </tr>\n",
       "  </thead>\n",
       "  <tbody>\n",
       "    <tr>\n",
       "      <th>0</th>\n",
       "      <td>0.456580</td>\n",
       "      <td>0.607890</td>\n",
       "      <td>0.479798</td>\n",
       "      <td>0.677869</td>\n",
       "      <td>0.551441</td>\n",
       "    </tr>\n",
       "    <tr>\n",
       "      <th>1</th>\n",
       "      <td>0.304864</td>\n",
       "      <td>0.560888</td>\n",
       "      <td>0.406081</td>\n",
       "      <td>0.259417</td>\n",
       "      <td>0.492855</td>\n",
       "    </tr>\n",
       "    <tr>\n",
       "      <th>2</th>\n",
       "      <td>0.403916</td>\n",
       "      <td>0.554543</td>\n",
       "      <td>0.180514</td>\n",
       "      <td>0.755331</td>\n",
       "      <td>0.492855</td>\n",
       "    </tr>\n",
       "    <tr>\n",
       "      <th>3</th>\n",
       "      <td>0.569109</td>\n",
       "      <td>0.532872</td>\n",
       "      <td>0.302310</td>\n",
       "      <td>0.233135</td>\n",
       "      <td>0.569546</td>\n",
       "    </tr>\n",
       "    <tr>\n",
       "      <th>4</th>\n",
       "      <td>0.222185</td>\n",
       "      <td>0.639836</td>\n",
       "      <td>0.406158</td>\n",
       "      <td>0.924669</td>\n",
       "      <td>0.096409</td>\n",
       "    </tr>\n",
       "    <tr>\n",
       "      <th>...</th>\n",
       "      <td>...</td>\n",
       "      <td>...</td>\n",
       "      <td>...</td>\n",
       "      <td>...</td>\n",
       "      <td>...</td>\n",
       "    </tr>\n",
       "    <tr>\n",
       "      <th>67</th>\n",
       "      <td>0.876660</td>\n",
       "      <td>0.583988</td>\n",
       "      <td>0.798597</td>\n",
       "      <td>0.246321</td>\n",
       "      <td>0.311259</td>\n",
       "    </tr>\n",
       "    <tr>\n",
       "      <th>68</th>\n",
       "      <td>0.448438</td>\n",
       "      <td>0.503083</td>\n",
       "      <td>0.566250</td>\n",
       "      <td>0.403585</td>\n",
       "      <td>0.608505</td>\n",
       "    </tr>\n",
       "    <tr>\n",
       "      <th>69</th>\n",
       "      <td>0.424973</td>\n",
       "      <td>0.461387</td>\n",
       "      <td>0.711605</td>\n",
       "      <td>0.834688</td>\n",
       "      <td>0.242853</td>\n",
       "    </tr>\n",
       "    <tr>\n",
       "      <th>70</th>\n",
       "      <td>0.473067</td>\n",
       "      <td>0.304139</td>\n",
       "      <td>0.221745</td>\n",
       "      <td>0.478407</td>\n",
       "      <td>0.699787</td>\n",
       "    </tr>\n",
       "    <tr>\n",
       "      <th>71</th>\n",
       "      <td>0.537528</td>\n",
       "      <td>0.651567</td>\n",
       "      <td>0.734932</td>\n",
       "      <td>0.372281</td>\n",
       "      <td>0.468692</td>\n",
       "    </tr>\n",
       "  </tbody>\n",
       "</table>\n",
       "<p>72 rows × 5 columns</p>\n",
       "</div>"
      ],
      "text/plain": [
       "          F1        F2        F3        F4        F5\n",
       "0   0.456580  0.607890  0.479798  0.677869  0.551441\n",
       "1   0.304864  0.560888  0.406081  0.259417  0.492855\n",
       "2   0.403916  0.554543  0.180514  0.755331  0.492855\n",
       "3   0.569109  0.532872  0.302310  0.233135  0.569546\n",
       "4   0.222185  0.639836  0.406158  0.924669  0.096409\n",
       "..       ...       ...       ...       ...       ...\n",
       "67  0.876660  0.583988  0.798597  0.246321  0.311259\n",
       "68  0.448438  0.503083  0.566250  0.403585  0.608505\n",
       "69  0.424973  0.461387  0.711605  0.834688  0.242853\n",
       "70  0.473067  0.304139  0.221745  0.478407  0.699787\n",
       "71  0.537528  0.651567  0.734932  0.372281  0.468692\n",
       "\n",
       "[72 rows x 5 columns]"
      ]
     },
     "execution_count": 22,
     "metadata": {},
     "output_type": "execute_result"
    }
   ],
   "source": [
    "Scaler(datos_Ptrans_sel.iloc[:,-5:], MinMaxScaler())"
   ]
  },
  {
   "cell_type": "code",
   "execution_count": 8,
   "metadata": {},
   "outputs": [],
   "source": [
    "from sklearn.preprocessing import StandardScaler"
   ]
  },
  {
   "cell_type": "code",
   "execution_count": 9,
   "metadata": {},
   "outputs": [],
   "source": [
    "st = StandardScaler()\n",
    "st.fit(datos_Ptrans_sel.iloc[:,-5:])\n",
    "datos_Ptrans_st = st.transform(datos_Ptrans_sel.iloc[:,-5:])"
   ]
  },
  {
   "cell_type": "code",
   "execution_count": 11,
   "metadata": {},
   "outputs": [],
   "source": [
    "col = datos_Ptrans_sel.iloc[:,-5:].columns"
   ]
  },
  {
   "cell_type": "code",
   "execution_count": 12,
   "metadata": {},
   "outputs": [],
   "source": [
    "df_datos_Ptrans_st = pd.DataFrame(data = datos_Ptrans_st, \n",
    "                                  columns = col)"
   ]
  },
  {
   "cell_type": "code",
   "execution_count": 15,
   "metadata": {},
   "outputs": [],
   "source": [
    "df_datos_Ptrans_st.insert(0,\"Ciudad\", datos_Ptrans[\"Ciudades\"])"
   ]
  },
  {
   "cell_type": "markdown",
   "metadata": {},
   "source": [
    "# CLUSTER ANALYSIS"
   ]
  },
  {
   "cell_type": "code",
   "execution_count": 16,
   "metadata": {},
   "outputs": [],
   "source": [
    "from sklearn.cluster import AgglomerativeClustering \n"
   ]
  },
  {
   "cell_type": "code",
   "execution_count": 17,
   "metadata": {},
   "outputs": [],
   "source": [
    "n_clusters = [1,2,3,4,5]"
   ]
  },
  {
   "cell_type": "code",
   "execution_count": 18,
   "metadata": {},
   "outputs": [],
   "source": [
    "def AGcluster_col(df,n):\n",
    "    Ag = AgglomerativeClustering(n_clusters = 5)\n",
    "    Ag.fit(df)\n",
    "    df['clusters'] = Ag.labels_\n",
    "    return df"
   ]
  },
  {
   "cell_type": "code",
   "execution_count": 19,
   "metadata": {},
   "outputs": [],
   "source": [
    "df_datos_Ptrans_st_clus =  AGcluster_col(df_datos_Ptrans_st.iloc[:,-5:],5)"
   ]
  },
  {
   "cell_type": "code",
   "execution_count": 20,
   "metadata": {},
   "outputs": [],
   "source": [
    "import seaborn as sns"
   ]
  },
  {
   "cell_type": "code",
   "execution_count": 21,
   "metadata": {},
   "outputs": [],
   "source": [
    "df_datos_Ptrans_st_clus.insert(0,\"Ciudades\", datos_Ptrans['Ciudades'])"
   ]
  },
  {
   "cell_type": "code",
   "execution_count": 22,
   "metadata": {},
   "outputs": [
    {
     "data": {
      "text/plain": [
       "<AxesSubplot:xlabel='F1', ylabel='F2'>"
      ]
     },
     "execution_count": 22,
     "metadata": {},
     "output_type": "execute_result"
    },
    {
     "data": {
      "image/png": "[encoded data removed]",
      "text/plain": [
       "<Figure size 640x480 with 1 Axes>"
      ]
     },
     "metadata": {},
     "output_type": "display_data"
    }
   ],
   "source": [
    "sns.scatterplot(data = df_datos_Ptrans_st_clus, x = \"F1\", y = \"F2\", hue = \"clusters\") "
   ]
  },
  {
   "cell_type": "code",
   "execution_count": 23,
   "metadata": {},
   "outputs": [],
   "source": [
    "from yellowbrick.cluster import KElbowVisualizer\n",
    "from sklearn.metrics import davies_bouldin_score\n",
    "import seaborn as sns"
   ]
  },
  {
   "cell_type": "code",
   "execution_count": 24,
   "metadata": {},
   "outputs": [],
   "source": [
    "from yellowbrick.cluster import KElbowVisualizer\n",
    "from yellowbrick.cluster import SilhouetteVisualizer\n"
   ]
  },
  {
   "cell_type": "markdown",
   "metadata": {},
   "source": [
    "# Interactive Chart."
   ]
  },
  {
   "cell_type": "code",
   "execution_count": 25,
   "metadata": {},
   "outputs": [],
   "source": [
    "import plotly.express as px\n"
   ]
  },
  {
   "cell_type": "code",
   "execution_count": 65,
   "metadata": {},
   "outputs": [
    {
     "data": {
      "application/vnd.plotly.v1+json": {
       "config": {
        "plotlyServerURL": "https://plot.ly"
       },
       "data": [
        {
         "customdata": [
          [
           "Albacete",
           1
          ],
          [
           "Alcalá de Henares",
           0
          ],
          [
           "Alcobendas",
           0
          ],
          [
           "Alcorcón",
           1
          ],
          [
           "Algeciras",
           2
          ],
          [
           "Alicante/Alacant",
           1
          ],
          [
           "Almería",
           1
          ],
          [
           "Ávila",
           0
          ],
          [
           "Badajoz",
           2
          ],
          [
           "Badalona",
           1
          ],
          [
           "Barcelona",
           3
          ],
          [
           "Burgos",
           0
          ],
          [
           "Cáceres",
           0
          ],
          [
           "Cádiz",
           3
          ],
          [
           "Cartagena",
           2
          ],
          [
           "Castelló de la Plana",
           0
          ],
          [
           "Ceuta",
           0
          ],
          [
           "Ciudad Real",
           0
          ],
          [
           "Córdoba",
           2
          ],
          [
           "Coruña, A",
           1
          ],
          [
           "Cuenca",
           0
          ],
          [
           "Dos Hermanas",
           0
          ],
          [
           "Elche/Elx",
           2
          ],
          [
           "Fuenlabrada",
           0
          ],
          [
           "Getafe",
           0
          ],
          [
           "Gijón",
           1
          ],
          [
           "Girona",
           1
          ],
          [
           "Granada",
           1
          ],
          [
           "Guadalajara",
           0
          ],
          [
           "Hospitalet de Llobregat, L'",
           3
          ],
          [
           "Huelva",
           0
          ],
          [
           "Huesca",
           0
          ],
          [
           "Jaén",
           0
          ],
          [
           "Jerez de la Frontera",
           0
          ],
          [
           "Palmas de Gran Canaria, Las",
           1
          ],
          [
           "Leganés",
           0
          ],
          [
           "León",
           1
          ],
          [
           "Lleida",
           1
          ],
          [
           "Logroño",
           3
          ],
          [
           "Lugo",
           1
          ],
          [
           "Madrid",
           1
          ],
          [
           "Málaga",
           1
          ],
          [
           "Marbella",
           2
          ],
          [
           "Mataró",
           1
          ],
          [
           "Melilla",
           0
          ],
          [
           "Móstoles",
           0
          ],
          [
           "Murcia",
           1
          ],
          [
           "Ourense",
           2
          ],
          [
           "Oviedo",
           1
          ],
          [
           "Palencia",
           0
          ],
          [
           "Palma de Mallorca",
           1
          ],
          [
           "Parla",
           0
          ],
          [
           "Pontevedra",
           0
          ],
          [
           "Sabadell",
           1
          ],
          [
           "Salamanca",
           1
          ],
          [
           "San Cristóbal de La Laguna",
           2
          ],
          [
           "Santa Coloma de Gramenet",
           3
          ],
          [
           "Santa Cruz de Tenerife",
           1
          ],
          [
           "Santander",
           1
          ],
          [
           "Segovia",
           0
          ],
          [
           "Sevilla",
           1
          ],
          [
           "Soria",
           0
          ],
          [
           "Tarragona",
           0
          ],
          [
           "Terrassa",
           1
          ],
          [
           "Teruel",
           0
          ],
          [
           "Toledo",
           0
          ],
          [
           "Torrejón de Ardoz",
           4
          ],
          [
           "Valencia",
           3
          ],
          [
           "Valladolid",
           1
          ],
          [
           "Vigo",
           2
          ],
          [
           "Zamora",
           0
          ],
          [
           "Zaragoza",
           1
          ]
         ],
         "hovertemplate": "F2=%{x}<br>F5=%{y}<br>Ciudades=%{customdata[0]}<br>clusters=%{marker.color}<extra></extra>",
         "legendgroup": "",
         "marker": {
          "color": [
           1,
           0,
           0,
           1,
           2,
           1,
           1,
           0,
           2,
           1,
           3,
           0,
           0,
           3,
           2,
           0,
           0,
           0,
           2,
           1,
           0,
           0,
           2,
           0,
           0,
           1,
           1,
           1,
           0,
           3,
           0,
           0,
           0,
           0,
           1,
           0,
           1,
           1,
           3,
           1,
           1,
           1,
           2,
           1,
           0,
           0,
           1,
           2,
           1,
           0,
           1,
           0,
           0,
           1,
           1,
           2,
           3,
           1,
           1,
           0,
           1,
           0,
           0,
           1,
           0,
           0,
           4,
           3,
           1,
           2,
           0,
           1
          ],
          "coloraxis": "coloraxis",
          "symbol": "circle"
         },
         "mode": "markers",
         "name": "",
         "orientation": "v",
         "showlegend": false,
         "type": "scatter",
         "x": [
          0.45905944658364795,
          0.1789933063501674,
          0.14118641097796003,
          0.012052555891379461,
          0.6494158004209347,
          1.2772108216158307,
          0.32532351512881275,
          -0.4753307883172784,
          0.5406705941783009,
          0.21312673946339705,
          1.4609572784270057,
          0.15917583151032427,
          -1.7171613274741566,
          0.30979240786452017,
          -0.9043415335087299,
          -1.0415119265841164,
          -0.06076373813510902,
          -0.8728538723657865,
          1.808289207768202,
          0.4283155589848024,
          0.35336407182693785,
          -0.650070801140505,
          0.2607712239516546,
          -0.47820827518479436,
          -0.09404471248105034,
          -0.38604603829448153,
          1.4479399778045392,
          -0.293755618835734,
          0.06042030965329501,
          0.2408706291804973,
          -1.2222645862700772,
          0.5860970606975233,
          0.18245477194627416,
          -0.7059401747796797,
          1.0130916982229465,
          -1.88244009790127,
          -0.5177874762788114,
          0.17281568580871456,
          0.6547838303147617,
          0.8252149522257484,
          -0.017202801700671316,
          1.0963726092062316,
          0.4746958635153757,
          -0.20712527747630796,
          -0.7338479854902485,
          -0.5045615355572521,
          -0.17807667178436937,
          1.8272084306942462,
          0.07537158246529524,
          -0.35739759388033193,
          0.20336328119753402,
          -2.2851135729210084,
          -0.6290250481371598,
          1.2341434416960917,
          -0.19474392203451932,
          2.7955118879125713,
          -0.9294080646199038,
          2.0457206751449553,
          -0.05487030012619528,
          -0.16568160885884167,
          -0.4191624961732231,
          -0.14851736777484356,
          -0.7346610468742962,
          1.631106056671997,
          -0.19275310612553426,
          -2.032778057114784,
          -3.1631511134150165,
          0.3166336121610296,
          -0.16545138881377097,
          -0.4138992332063923,
          -1.3508884984524765,
          0.719316530625221
         ],
         "xaxis": "x",
         "y": [
          -0.00041923597592980963,
          -0.2403989703330426,
          -0.2403989703330426,
          0.07374001803085599,
          -1.8643066979734597,
          -0.32945844158881826,
          0.11762605556061148,
          0.8379997773596543,
          -2.1621089351216223,
          0.7990075442380972,
          -0.6800553210920786,
          -1.5270571216568554,
          0.5929010926560031,
          -0.9348273525544406,
          -0.514600244986459,
          1.5030720904299213,
          1.7395266877074866,
          0.03419817407042779,
          -1.68426363715956,
          1.127561462263086,
          1.319744476386967,
          -0.9286696136871507,
          -1.2309642319666088,
          -1.3165450189546422,
          -0.4438394918643723,
          -0.4998731436745871,
          0.4581822023576912,
          0.7782839288881295,
          0.6599622783822932,
          -1.057287399559503,
          0.7184421979629825,
          -0.7406777307182758,
          1.3709615346912147,
          0.27777581642654764,
          0.48026864019218785,
          0.8145713534557004,
          0.4111984445227973,
          0.26644438522501923,
          -0.4273243570732366,
          0.863282569797073,
          0.9148990667799951,
          0.6788396998693758,
          -1.556526164199419,
          1.349680491943256,
          1.3269443865322523,
          1.2181585225599507,
          -0.031114166329455507,
          -1.880282130725908,
          -0.44312433792165073,
          -0.12251218621506772,
          0.571080747494135,
          0.679346596513513,
          -0.48757984296643136,
          0.5887845889216815,
          0.031788977602776894,
          -1.2689878589357377,
          -1.0085577354955941,
          -0.1135246679401735,
          0.7160233886557622,
          1.8111299684847115,
          1.8369485875296463,
          -0.24751838805539492,
          1.557684647438757,
          0.05868180713662529,
          -0.6444361143973323,
          0.049222873717435396,
          -2.2592119208215933,
          -0.9842468670311859,
          0.23332364338639047,
          -1.2644468945837928,
          0.6072291225549319,
          -0.3393726558335205
         ],
         "yaxis": "y"
        }
       ],
       "layout": {
        "coloraxis": {
         "colorbar": {
          "title": {
           "text": "clusters"
          }
         },
         "colorscale": [
          [
           0,
           "#0d0887"
          ],
          [
           0.1111111111111111,
           "#46039f"
          ],
          [
           0.2222222222222222,
           "#7201a8"
          ],
          [
           0.3333333333333333,
           "#9c179e"
          ],
          [
           0.4444444444444444,
           "#bd3786"
          ],
          [
           0.5555555555555556,
           "#d8576b"
          ],
          [
           0.6666666666666666,
           "#ed7953"
          ],
          [
           0.7777777777777778,
           "#fb9f3a"
          ],
          [
           0.8888888888888888,
           "#fdca26"
          ],
          [
           1,
           "#f0f921"
          ]
         ]
        },
        "legend": {
         "tracegroupgap": 0
        },
        "margin": {
         "t": 60
        },
        "template": {
         "data": {
          "bar": [
           {
            "error_x": {
             "color": "#2a3f5f"
            },
            "error_y": {
             "color": "#2a3f5f"
            },
            "marker": {
             "line": {
              "color": "#E5ECF6",
              "width": 0.5
             },
             "pattern": {
              "fillmode": "overlay",
              "size": 10,
              "solidity": 0.2
             }
            },
            "type": "bar"
           }
          ],
          "barpolar": [
           {
            "marker": {
             "line": {
              "color": "#E5ECF6",
              "width": 0.5
             },
             "pattern": {
              "fillmode": "overlay",
              "size": 10,
              "solidity": 0.2
             }
            },
            "type": "barpolar"
           }
          ],
          "carpet": [
           {
            "aaxis": {
             "endlinecolor": "#2a3f5f",
             "gridcolor": "white",
             "linecolor": "white",
             "minorgridcolor": "white",
             "startlinecolor": "#2a3f5f"
            },
            "baxis": {
             "endlinecolor": "#2a3f5f",
             "gridcolor": "white",
             "linecolor": "white",
             "minorgridcolor": "white",
             "startlinecolor": "#2a3f5f"
            },
            "type": "carpet"
           }
          ],
          "choropleth": [
           {
            "colorbar": {
             "outlinewidth": 0,
             "ticks": ""
            },
            "type": "choropleth"
           }
          ],
          "contour": [
           {
            "colorbar": {
             "outlinewidth": 0,
             "ticks": ""
            },
            "colorscale": [
             [
              0,
              "#0d0887"
             ],
             [
              0.1111111111111111,
              "#46039f"
             ],
             [
              0.2222222222222222,
              "#7201a8"
             ],
             [
              0.3333333333333333,
              "#9c179e"
             ],
             [
              0.4444444444444444,
              "#bd3786"
             ],
             [
              0.5555555555555556,
              "#d8576b"
             ],
             [
              0.6666666666666666,
              "#ed7953"
             ],
             [
              0.7777777777777778,
              "#fb9f3a"
             ],
             [
              0.8888888888888888,
              "#fdca26"
             ],
             [
              1,
              "#f0f921"
             ]
            ],
            "type": "contour"
           }
          ],
          "contourcarpet": [
           {
            "colorbar": {
             "outlinewidth": 0,
             "ticks": ""
            },
            "type": "contourcarpet"
           }
          ],
          "heatmap": [
           {
            "colorbar": {
             "outlinewidth": 0,
             "ticks": ""
            },
            "colorscale": [
             [
              0,
              "#0d0887"
             ],
             [
              0.1111111111111111,
              "#46039f"
             ],
             [
              0.2222222222222222,
              "#7201a8"
             ],
             [
              0.3333333333333333,
              "#9c179e"
             ],
             [
              0.4444444444444444,
              "#bd3786"
             ],
             [
              0.5555555555555556,
              "#d8576b"
             ],
             [
              0.6666666666666666,
              "#ed7953"
             ],
             [
              0.7777777777777778,
              "#fb9f3a"
             ],
             [
              0.8888888888888888,
              "#fdca26"
             ],
             [
              1,
              "#f0f921"
             ]
            ],
            "type": "heatmap"
           }
          ],
          "heatmapgl": [
           {
            "colorbar": {
             "outlinewidth": 0,
             "ticks": ""
            },
            "colorscale": [
             [
              0,
              "#0d0887"
             ],
             [
              0.1111111111111111,
              "#46039f"
             ],
             [
              0.2222222222222222,
              "#7201a8"
             ],
             [
              0.3333333333333333,
              "#9c179e"
             ],
             [
              0.4444444444444444,
              "#bd3786"
             ],
             [
              0.5555555555555556,
              "#d8576b"
             ],
             [
              0.6666666666666666,
              "#ed7953"
             ],
             [
              0.7777777777777778,
              "#fb9f3a"
             ],
             [
              0.8888888888888888,
              "#fdca26"
             ],
             [
              1,
              "#f0f921"
             ]
            ],
            "type": "heatmapgl"
           }
          ],
          "histogram": [
           {
            "marker": {
             "pattern": {
              "fillmode": "overlay",
              "size": 10,
              "solidity": 0.2
             }
            },
            "type": "histogram"
           }
          ],
          "histogram2d": [
           {
            "colorbar": {
             "outlinewidth": 0,
             "ticks": ""
            },
            "colorscale": [
             [
              0,
              "#0d0887"
             ],
             [
              0.1111111111111111,
              "#46039f"
             ],
             [
              0.2222222222222222,
              "#7201a8"
             ],
             [
              0.3333333333333333,
              "#9c179e"
             ],
             [
              0.4444444444444444,
              "#bd3786"
             ],
             [
              0.5555555555555556,
              "#d8576b"
             ],
             [
              0.6666666666666666,
              "#ed7953"
             ],
             [
              0.7777777777777778,
              "#fb9f3a"
             ],
             [
              0.8888888888888888,
              "#fdca26"
             ],
             [
              1,
              "#f0f921"
             ]
            ],
            "type": "histogram2d"
           }
          ],
          "histogram2dcontour": [
           {
            "colorbar": {
             "outlinewidth": 0,
             "ticks": ""
            },
            "colorscale": [
             [
              0,
              "#0d0887"
             ],
             [
              0.1111111111111111,
              "#46039f"
             ],
             [
              0.2222222222222222,
              "#7201a8"
             ],
             [
              0.3333333333333333,
              "#9c179e"
             ],
             [
              0.4444444444444444,
              "#bd3786"
             ],
             [
              0.5555555555555556,
              "#d8576b"
             ],
             [
              0.6666666666666666,
              "#ed7953"
             ],
             [
              0.7777777777777778,
              "#fb9f3a"
             ],
             [
              0.8888888888888888,
              "#fdca26"
             ],
             [
              1,
              "#f0f921"
             ]
            ],
            "type": "histogram2dcontour"
           }
          ],
          "mesh3d": [
           {
            "colorbar": {
             "outlinewidth": 0,
             "ticks": ""
            },
            "type": "mesh3d"
           }
          ],
          "parcoords": [
           {
            "line": {
             "colorbar": {
              "outlinewidth": 0,
              "ticks": ""
             }
            },
            "type": "parcoords"
           }
          ],
          "pie": [
           {
            "automargin": true,
            "type": "pie"
           }
          ],
          "scatter": [
           {
            "fillpattern": {
             "fillmode": "overlay",
             "size": 10,
             "solidity": 0.2
            },
            "type": "scatter"
           }
          ],
          "scatter3d": [
           {
            "line": {
             "colorbar": {
              "outlinewidth": 0,
              "ticks": ""
             }
            },
            "marker": {
             "colorbar": {
              "outlinewidth": 0,
              "ticks": ""
             }
            },
            "type": "scatter3d"
           }
          ],
          "scattercarpet": [
           {
            "marker": {
             "colorbar": {
              "outlinewidth": 0,
              "ticks": ""
             }
            },
            "type": "scattercarpet"
           }
          ],
          "scattergeo": [
           {
            "marker": {
             "colorbar": {
              "outlinewidth": 0,
              "ticks": ""
             }
            },
            "type": "scattergeo"
           }
          ],
          "scattergl": [
           {
            "marker": {
             "colorbar": {
              "outlinewidth": 0,
              "ticks": ""
             }
            },
            "type": "scattergl"
           }
          ],
          "scattermapbox": [
           {
            "marker": {
             "colorbar": {
              "outlinewidth": 0,
              "ticks": ""
             }
            },
            "type": "scattermapbox"
           }
          ],
          "scatterpolar": [
           {
            "marker": {
             "colorbar": {
              "outlinewidth": 0,
              "ticks": ""
             }
            },
            "type": "scatterpolar"
           }
          ],
          "scatterpolargl": [
           {
            "marker": {
             "colorbar": {
              "outlinewidth": 0,
              "ticks": ""
             }
            },
            "type": "scatterpolargl"
           }
          ],
          "scatterternary": [
           {
            "marker": {
             "colorbar": {
              "outlinewidth": 0,
              "ticks": ""
             }
            },
            "type": "scatterternary"
           }
          ],
          "surface": [
           {
            "colorbar": {
             "outlinewidth": 0,
             "ticks": ""
            },
            "colorscale": [
             [
              0,
              "#0d0887"
             ],
             [
              0.1111111111111111,
              "#46039f"
             ],
             [
              0.2222222222222222,
              "#7201a8"
             ],
             [
              0.3333333333333333,
              "#9c179e"
             ],
             [
              0.4444444444444444,
              "#bd3786"
             ],
             [
              0.5555555555555556,
              "#d8576b"
             ],
             [
              0.6666666666666666,
              "#ed7953"
             ],
             [
              0.7777777777777778,
              "#fb9f3a"
             ],
             [
              0.8888888888888888,
              "#fdca26"
             ],
             [
              1,
              "#f0f921"
             ]
            ],
            "type": "surface"
           }
          ],
          "table": [
           {
            "cells": {
             "fill": {
              "color": "#EBF0F8"
             },
             "line": {
              "color": "white"
             }
            },
            "header": {
             "fill": {
              "color": "#C8D4E3"
             },
             "line": {
              "color": "white"
             }
            },
            "type": "table"
           }
          ]
         },
         "layout": {
          "annotationdefaults": {
           "arrowcolor": "#2a3f5f",
           "arrowhead": 0,
           "arrowwidth": 1
          },
          "autotypenumbers": "strict",
          "coloraxis": {
           "colorbar": {
            "outlinewidth": 0,
            "ticks": ""
           }
          },
          "colorscale": {
           "diverging": [
            [
             0,
             "#8e0152"
            ],
            [
             0.1,
             "#c51b7d"
            ],
            [
             0.2,
             "#de77ae"
            ],
            [
             0.3,
             "#f1b6da"
            ],
            [
             0.4,
             "#fde0ef"
            ],
            [
             0.5,
             "#f7f7f7"
            ],
            [
             0.6,
             "#e6f5d0"
            ],
            [
             0.7,
             "#b8e186"
            ],
            [
             0.8,
             "#7fbc41"
            ],
            [
             0.9,
             "#4d9221"
            ],
            [
             1,
             "#276419"
            ]
           ],
           "sequential": [
            [
             0,
             "#0d0887"
            ],
            [
             0.1111111111111111,
             "#46039f"
            ],
            [
             0.2222222222222222,
             "#7201a8"
            ],
            [
             0.3333333333333333,
             "#9c179e"
            ],
            [
             0.4444444444444444,
             "#bd3786"
            ],
            [
             0.5555555555555556,
             "#d8576b"
            ],
            [
             0.6666666666666666,
             "#ed7953"
            ],
            [
             0.7777777777777778,
             "#fb9f3a"
            ],
            [
             0.8888888888888888,
             "#fdca26"
            ],
            [
             1,
             "#f0f921"
            ]
           ],
           "sequentialminus": [
            [
             0,
             "#0d0887"
            ],
            [
             0.1111111111111111,
             "#46039f"
            ],
            [
             0.2222222222222222,
             "#7201a8"
            ],
            [
             0.3333333333333333,
             "#9c179e"
            ],
            [
             0.4444444444444444,
             "#bd3786"
            ],
            [
             0.5555555555555556,
             "#d8576b"
            ],
            [
             0.6666666666666666,
             "#ed7953"
            ],
            [
             0.7777777777777778,
             "#fb9f3a"
            ],
            [
             0.8888888888888888,
             "#fdca26"
            ],
            [
             1,
             "#f0f921"
            ]
           ]
          },
          "colorway": [
           "#636efa",
           "#EF553B",
           "#00cc96",
           "#ab63fa",
           "#FFA15A",
           "#19d3f3",
           "#FF6692",
           "#B6E880",
           "#FF97FF",
           "#FECB52"
          ],
          "font": {
           "color": "#2a3f5f"
          },
          "geo": {
           "bgcolor": "white",
           "lakecolor": "white",
           "landcolor": "#E5ECF6",
           "showlakes": true,
           "showland": true,
           "subunitcolor": "white"
          },
          "hoverlabel": {
           "align": "left"
          },
          "hovermode": "closest",
          "mapbox": {
           "style": "light"
          },
          "paper_bgcolor": "white",
          "plot_bgcolor": "#E5ECF6",
          "polar": {
           "angularaxis": {
            "gridcolor": "white",
            "linecolor": "white",
            "ticks": ""
           },
           "bgcolor": "#E5ECF6",
           "radialaxis": {
            "gridcolor": "white",
            "linecolor": "white",
            "ticks": ""
           }
          },
          "scene": {
           "xaxis": {
            "backgroundcolor": "#E5ECF6",
            "gridcolor": "white",
            "gridwidth": 2,
            "linecolor": "white",
            "showbackground": true,
            "ticks": "",
            "zerolinecolor": "white"
           },
           "yaxis": {
            "backgroundcolor": "#E5ECF6",
            "gridcolor": "white",
            "gridwidth": 2,
            "linecolor": "white",
            "showbackground": true,
            "ticks": "",
            "zerolinecolor": "white"
           },
           "zaxis": {
            "backgroundcolor": "#E5ECF6",
            "gridcolor": "white",
            "gridwidth": 2,
            "linecolor": "white",
            "showbackground": true,
            "ticks": "",
            "zerolinecolor": "white"
           }
          },
          "shapedefaults": {
           "line": {
            "color": "#2a3f5f"
           }
          },
          "ternary": {
           "aaxis": {
            "gridcolor": "white",
            "linecolor": "white",
            "ticks": ""
           },
           "baxis": {
            "gridcolor": "white",
            "linecolor": "white",
            "ticks": ""
           },
           "bgcolor": "#E5ECF6",
           "caxis": {
            "gridcolor": "white",
            "linecolor": "white",
            "ticks": ""
           }
          },
          "title": {
           "x": 0.05
          },
          "xaxis": {
           "automargin": true,
           "gridcolor": "white",
           "linecolor": "white",
           "ticks": "",
           "title": {
            "standoff": 15
           },
           "zerolinecolor": "white",
           "zerolinewidth": 2
          },
          "yaxis": {
           "automargin": true,
           "gridcolor": "white",
           "linecolor": "white",
           "ticks": "",
           "title": {
            "standoff": 15
           },
           "zerolinecolor": "white",
           "zerolinewidth": 2
          }
         }
        },
        "xaxis": {
         "anchor": "y",
         "domain": [
          0,
          1
         ],
         "title": {
          "text": "F2"
         }
        },
        "yaxis": {
         "anchor": "x",
         "domain": [
          0,
          1
         ],
         "title": {
          "text": "F5"
         }
        }
       }
      }
     },
     "metadata": {},
     "output_type": "display_data"
    }
   ],
   "source": [
    "fig = px.scatter(df_datos_Ptrans_st_clus,x='F2', y='F5', color ='clusters', hover_data = [\"Ciudades\",'clusters'])\n",
    "fig.show()"
   ]
  },
  {
   "cell_type": "code",
   "execution_count": 26,
   "metadata": {},
   "outputs": [],
   "source": [
    "from sklearn.cluster import KMeans"
   ]
  },
  {
   "cell_type": "code",
   "execution_count": 27,
   "metadata": {},
   "outputs": [
    {
     "data": {
      "image/png": "[encoded data removed]",
      "text/plain": [
       "<Figure size 800x550 with 2 Axes>"
      ]
     },
     "metadata": {},
     "output_type": "display_data"
    },
    {
     "data": {
      "text/plain": [
       "<AxesSubplot:title={'center':'Distortion Score Elbow for KMeans Clustering'}, xlabel='k', ylabel='distortion score'>"
      ]
     },
     "execution_count": 27,
     "metadata": {},
     "output_type": "execute_result"
    }
   ],
   "source": [
    "#ELBOW\n",
    "aglomerativo = AgglomerativeClustering()\n",
    "KM = KMeans()\n",
    "visualizer = KElbowVisualizer(KM, k=(2,10), timings = True)\n",
    "visualizer.fit(df_datos_Ptrans_mm.iloc[:,1:6])\n",
    "visualizer.show()"
   ]
  },
  {
   "cell_type": "code",
   "execution_count": 28,
   "metadata": {},
   "outputs": [
    {
     "data": {
      "image/png": "[encoded data removed]",
      "text/plain": [
       "<Figure size 800x550 with 2 Axes>"
      ]
     },
     "metadata": {},
     "output_type": "display_data"
    },
    {
     "data": {
      "text/plain": [
       "<AxesSubplot:title={'center':'Calinski Harabasz Score Elbow for AgglomerativeClustering Clustering'}, xlabel='k', ylabel='calinski harabasz score'>"
      ]
     },
     "execution_count": 28,
     "metadata": {},
     "output_type": "execute_result"
    }
   ],
   "source": [
    "visualizer_sil = KElbowVisualizer(aglomerativo, k = (2,10), metric = \"calinski_harabasz\",\n",
    "                                  timings = True)\n",
    "\n",
    "visualizer_sil.fit(df_datos_Ptrans_mm.iloc[:,1:6])\n",
    "\n",
    "visualizer_sil.show()\n"
   ]
  },
  {
   "cell_type": "code",
   "execution_count": null,
   "metadata": {},
   "outputs": [],
   "source": []
  },
  {
   "cell_type": "code",
   "execution_count": 29,
   "metadata": {},
   "outputs": [
    {
     "data": {
      "text/html": [
       "<style>#sk-container-id-1 {color: black;background-color: white;}#sk-container-id-1 pre{padding: 0;}#sk-container-id-1 div.sk-toggleable {background-color: white;}#sk-container-id-1 label.sk-toggleable__label {cursor: pointer;display: block;width: 100%;margin-bottom: 0;padding: 0.3em;box-sizing: border-box;text-align: center;}#sk-container-id-1 label.sk-toggleable__label-arrow:before {content: \"▸\";float: left;margin-right: 0.25em;color: #696969;}#sk-container-id-1 label.sk-toggleable__label-arrow:hover:before {color: black;}#sk-container-id-1 div.sk-estimator:hover label.sk-toggleable__label-arrow:before {color: black;}#sk-container-id-1 div.sk-toggleable__content {max-height: 0;max-width: 0;overflow: hidden;text-align: left;background-color: #f0f8ff;}#sk-container-id-1 div.sk-toggleable__content pre {margin: 0.2em;color: black;border-radius: 0.25em;background-color: #f0f8ff;}#sk-container-id-1 input.sk-toggleable__control:checked~div.sk-toggleable__content {max-height: 200px;max-width: 100%;overflow: auto;}#sk-container-id-1 input.sk-toggleable__control:checked~label.sk-toggleable__label-arrow:before {content: \"▾\";}#sk-container-id-1 div.sk-estimator input.sk-toggleable__control:checked~label.sk-toggleable__label {background-color: #d4ebff;}#sk-container-id-1 div.sk-label input.sk-toggleable__control:checked~label.sk-toggleable__label {background-color: #d4ebff;}#sk-container-id-1 input.sk-hidden--visually {border: 0;clip: rect(1px 1px 1px 1px);clip: rect(1px, 1px, 1px, 1px);height: 1px;margin: -1px;overflow: hidden;padding: 0;position: absolute;width: 1px;}#sk-container-id-1 div.sk-estimator {font-family: monospace;background-color: #f0f8ff;border: 1px dotted black;border-radius: 0.25em;box-sizing: border-box;margin-bottom: 0.5em;}#sk-container-id-1 div.sk-estimator:hover {background-color: #d4ebff;}#sk-container-id-1 div.sk-parallel-item::after {content: \"\";width: 100%;border-bottom: 1px solid gray;flex-grow: 1;}#sk-container-id-1 div.sk-label:hover label.sk-toggleable__label {background-color: #d4ebff;}#sk-container-id-1 div.sk-serial::before {content: \"\";position: absolute;border-left: 1px solid gray;box-sizing: border-box;top: 0;bottom: 0;left: 50%;z-index: 0;}#sk-container-id-1 div.sk-serial {display: flex;flex-direction: column;align-items: center;background-color: white;padding-right: 0.2em;padding-left: 0.2em;position: relative;}#sk-container-id-1 div.sk-item {position: relative;z-index: 1;}#sk-container-id-1 div.sk-parallel {display: flex;align-items: stretch;justify-content: center;background-color: white;position: relative;}#sk-container-id-1 div.sk-item::before, #sk-container-id-1 div.sk-parallel-item::before {content: \"\";position: absolute;border-left: 1px solid gray;box-sizing: border-box;top: 0;bottom: 0;left: 50%;z-index: -1;}#sk-container-id-1 div.sk-parallel-item {display: flex;flex-direction: column;z-index: 1;position: relative;background-color: white;}#sk-container-id-1 div.sk-parallel-item:first-child::after {align-self: flex-end;width: 50%;}#sk-container-id-1 div.sk-parallel-item:last-child::after {align-self: flex-start;width: 50%;}#sk-container-id-1 div.sk-parallel-item:only-child::after {width: 0;}#sk-container-id-1 div.sk-dashed-wrapped {border: 1px dashed gray;margin: 0 0.4em 0.5em 0.4em;box-sizing: border-box;padding-bottom: 0.4em;background-color: white;}#sk-container-id-1 div.sk-label label {font-family: monospace;font-weight: bold;display: inline-block;line-height: 1.2em;}#sk-container-id-1 div.sk-label-container {text-align: center;}#sk-container-id-1 div.sk-container {/* jupyter's `normalize.less` sets `[hidden] { display: none; }` but bootstrap.min.css set `[hidden] { display: none !important; }` so we also need the `!important` here to be able to override the default hidden behavior on the sphinx rendered scikit-learn.org. See: https://github.com/scikit-learn/scikit-learn/issues/21755 */display: inline-block !important;position: relative;}#sk-container-id-1 div.sk-text-repr-fallback {display: none;}</style><div id=\"sk-container-id-1\" class=\"sk-top-container\"><div class=\"sk-text-repr-fallback\"><pre>KElbowVisualizer(ax=&lt;AxesSubplot:&gt;,\n",
       "                 estimator=AgglomerativeClustering(n_clusters=9), k=(2, 10),\n",
       "                 metric=&#x27;silhouette&#x27;)</pre><b>In a Jupyter environment, please rerun this cell to show the HTML representation or trust the notebook. <br />On GitHub, the HTML representation is unable to render, please try loading this page with nbviewer.org.</b></div><div class=\"sk-container\" hidden><div class=\"sk-item sk-dashed-wrapped\"><div class=\"sk-label-container\"><div class=\"sk-label sk-toggleable\"><input class=\"sk-toggleable__control sk-hidden--visually\" id=\"sk-estimator-id-1\" type=\"checkbox\" ><label for=\"sk-estimator-id-1\" class=\"sk-toggleable__label sk-toggleable__label-arrow\">KElbowVisualizer</label><div class=\"sk-toggleable__content\"><pre>KElbowVisualizer(ax=&lt;AxesSubplot:&gt;,\n",
       "                 estimator=AgglomerativeClustering(n_clusters=9), k=(2, 10),\n",
       "                 metric=&#x27;silhouette&#x27;)</pre></div></div></div><div class=\"sk-parallel\"><div class=\"sk-parallel-item\"><div class=\"sk-item\"><div class=\"sk-label-container\"><div class=\"sk-label sk-toggleable\"><input class=\"sk-toggleable__control sk-hidden--visually\" id=\"sk-estimator-id-2\" type=\"checkbox\" ><label for=\"sk-estimator-id-2\" class=\"sk-toggleable__label sk-toggleable__label-arrow\">estimator: AgglomerativeClustering</label><div class=\"sk-toggleable__content\"><pre>AgglomerativeClustering(n_clusters=9)</pre></div></div></div><div class=\"sk-serial\"><div class=\"sk-item\"><div class=\"sk-estimator sk-toggleable\"><input class=\"sk-toggleable__control sk-hidden--visually\" id=\"sk-estimator-id-3\" type=\"checkbox\" ><label for=\"sk-estimator-id-3\" class=\"sk-toggleable__label sk-toggleable__label-arrow\">AgglomerativeClustering</label><div class=\"sk-toggleable__content\"><pre>AgglomerativeClustering(n_clusters=9)</pre></div></div></div></div></div></div></div></div></div></div>"
      ],
      "text/plain": [
       "KElbowVisualizer(ax=<AxesSubplot:>,\n",
       "                 estimator=AgglomerativeClustering(n_clusters=9), k=(2, 10),\n",
       "                 metric='silhouette')"
      ]
     },
     "execution_count": 29,
     "metadata": {},
     "output_type": "execute_result"
    },
    {
     "data": {
      "image/png": "[encoded data removed]",
      "text/plain": [
       "<Figure size 800x550 with 2 Axes>"
      ]
     },
     "metadata": {},
     "output_type": "display_data"
    }
   ],
   "source": [
    "visualizer_sil = KElbowVisualizer(aglomerativo, k = (2,10), metric = \"silhouette\",\n",
    "                                  timings = True)\n",
    "\n",
    "visualizer_sil.fit(df_datos_Ptrans_mm.iloc[:,1:6])\n",
    "\n"
   ]
  },
  {
   "cell_type": "code",
   "execution_count": 30,
   "metadata": {},
   "outputs": [
    {
     "data": {
      "text/html": [
       "<div>\n",
       "<style scoped>\n",
       "    .dataframe tbody tr th:only-of-type {\n",
       "        vertical-align: middle;\n",
       "    }\n",
       "\n",
       "    .dataframe tbody tr th {\n",
       "        vertical-align: top;\n",
       "    }\n",
       "\n",
       "    .dataframe thead th {\n",
       "        text-align: right;\n",
       "    }\n",
       "</style>\n",
       "<table border=\"1\" class=\"dataframe\">\n",
       "  <thead>\n",
       "    <tr style=\"text-align: right;\">\n",
       "      <th></th>\n",
       "      <th>n_clusters</th>\n",
       "      <th>k_means_sil</th>\n",
       "    </tr>\n",
       "  </thead>\n",
       "  <tbody>\n",
       "    <tr>\n",
       "      <th>0</th>\n",
       "      <td>2</td>\n",
       "      <td>0.277411</td>\n",
       "    </tr>\n",
       "    <tr>\n",
       "      <th>1</th>\n",
       "      <td>3</td>\n",
       "      <td>0.204567</td>\n",
       "    </tr>\n",
       "    <tr>\n",
       "      <th>2</th>\n",
       "      <td>4</td>\n",
       "      <td>0.215324</td>\n",
       "    </tr>\n",
       "    <tr>\n",
       "      <th>3</th>\n",
       "      <td>5</td>\n",
       "      <td>0.221818</td>\n",
       "    </tr>\n",
       "    <tr>\n",
       "      <th>4</th>\n",
       "      <td>6</td>\n",
       "      <td>0.189792</td>\n",
       "    </tr>\n",
       "    <tr>\n",
       "      <th>5</th>\n",
       "      <td>7</td>\n",
       "      <td>0.194335</td>\n",
       "    </tr>\n",
       "    <tr>\n",
       "      <th>6</th>\n",
       "      <td>8</td>\n",
       "      <td>0.197087</td>\n",
       "    </tr>\n",
       "    <tr>\n",
       "      <th>7</th>\n",
       "      <td>9</td>\n",
       "      <td>0.206696</td>\n",
       "    </tr>\n",
       "  </tbody>\n",
       "</table>\n",
       "</div>"
      ],
      "text/plain": [
       "   n_clusters  k_means_sil\n",
       "0           2     0.277411\n",
       "1           3     0.204567\n",
       "2           4     0.215324\n",
       "3           5     0.221818\n",
       "4           6     0.189792\n",
       "5           7     0.194335\n",
       "6           8     0.197087\n",
       "7           9     0.206696"
      ]
     },
     "execution_count": 30,
     "metadata": {},
     "output_type": "execute_result"
    }
   ],
   "source": [
    "pd.DataFrame({'n_clusters': visualizer_sil.k_values_, 'k_means_sil' : visualizer_sil.k_scores_ })   \n"
   ]
  },
  {
   "cell_type": "code",
   "execution_count": 31,
   "metadata": {},
   "outputs": [
    {
     "data": {
      "text/plain": [
       "[0.27741132911550753,\n",
       " 0.20456745565620385,\n",
       " 0.2153242771733276,\n",
       " 0.22181845685193535,\n",
       " 0.189792224685659,\n",
       " 0.1943346265030498,\n",
       " 0.19708718385318028,\n",
       " 0.2066955517803165]"
      ]
     },
     "execution_count": 31,
     "metadata": {},
     "output_type": "execute_result"
    }
   ],
   "source": [
    "visualizer_sil.k_scores_ ## Valores para cada clustes\n"
   ]
  },
  {
   "cell_type": "markdown",
   "metadata": {},
   "source": [
    "# Function para calcular silhouette"
   ]
  },
  {
   "cell_type": "code",
   "execution_count": 32,
   "metadata": {},
   "outputs": [],
   "source": [
    "from sklearn.cluster import KMeans\n",
    "from sklearn.metrics import silhouette_score"
   ]
  },
  {
   "cell_type": "code",
   "execution_count": 33,
   "metadata": {},
   "outputs": [],
   "source": [
    "clusters_functions = [AgglomerativeClustering,KMeans]"
   ]
  },
  {
   "cell_type": "code",
   "execution_count": 34,
   "metadata": {},
   "outputs": [],
   "source": [
    "from sklearn.cluster import AffinityPropagation"
   ]
  },
  {
   "cell_type": "code",
   "execution_count": 35,
   "metadata": {},
   "outputs": [
    {
     "data": {
      "text/plain": [
       "array([0, 6, 6, 6, 1, 0, 0, 5, 1, 2, 3, 3, 5, 3, 1, 2, 5, 6, 1, 2, 5, 1,\n",
       "       1, 3, 6, 0, 0, 2, 6, 3, 4, 6, 2, 0, 0, 4, 4, 6, 3, 2, 2, 0, 1, 2,\n",
       "       5, 4, 0, 1, 3, 6, 0, 4, 6, 0, 4, 1, 3, 0, 2, 5, 2, 6, 5, 0, 6, 5,\n",
       "       7, 3, 2, 1, 4, 2], dtype=int64)"
      ]
     },
     "execution_count": 35,
     "metadata": {},
     "output_type": "execute_result"
    }
   ],
   "source": [
    "AF = AffinityPropagation()\n",
    "X = datos_Ptrans_mm\n",
    "AF.fit(X)\n",
    "AF.labels_"
   ]
  },
  {
   "cell_type": "code",
   "execution_count": 36,
   "metadata": {},
   "outputs": [
    {
     "data": {
      "text/html": [
       "<div>\n",
       "<style scoped>\n",
       "    .dataframe tbody tr th:only-of-type {\n",
       "        vertical-align: middle;\n",
       "    }\n",
       "\n",
       "    .dataframe tbody tr th {\n",
       "        vertical-align: top;\n",
       "    }\n",
       "\n",
       "    .dataframe thead th {\n",
       "        text-align: right;\n",
       "    }\n",
       "</style>\n",
       "<table border=\"1\" class=\"dataframe\">\n",
       "  <thead>\n",
       "    <tr style=\"text-align: right;\">\n",
       "      <th></th>\n",
       "      <th>Ciudades</th>\n",
       "      <th>F1</th>\n",
       "      <th>F2</th>\n",
       "      <th>F3</th>\n",
       "      <th>F4</th>\n",
       "      <th>F5</th>\n",
       "      <th>clusters</th>\n",
       "      <th>Af_clust</th>\n",
       "    </tr>\n",
       "  </thead>\n",
       "  <tbody>\n",
       "    <tr>\n",
       "      <th>0</th>\n",
       "      <td>Albacete</td>\n",
       "      <td>-0.293192</td>\n",
       "      <td>0.459059</td>\n",
       "      <td>0.188866</td>\n",
       "      <td>0.736434</td>\n",
       "      <td>-0.000419</td>\n",
       "      <td>1</td>\n",
       "      <td>0</td>\n",
       "    </tr>\n",
       "    <tr>\n",
       "      <th>1</th>\n",
       "      <td>Alcalá de Henares</td>\n",
       "      <td>-1.096090</td>\n",
       "      <td>0.178993</td>\n",
       "      <td>-0.155832</td>\n",
       "      <td>-1.128990</td>\n",
       "      <td>-0.240399</td>\n",
       "      <td>0</td>\n",
       "      <td>6</td>\n",
       "    </tr>\n",
       "    <tr>\n",
       "      <th>2</th>\n",
       "      <td>Alcobendas</td>\n",
       "      <td>-0.571892</td>\n",
       "      <td>0.141186</td>\n",
       "      <td>-1.210573</td>\n",
       "      <td>1.081756</td>\n",
       "      <td>-0.240399</td>\n",
       "      <td>0</td>\n",
       "      <td>6</td>\n",
       "    </tr>\n",
       "    <tr>\n",
       "      <th>3</th>\n",
       "      <td>Alcorcón</td>\n",
       "      <td>0.302330</td>\n",
       "      <td>0.012053</td>\n",
       "      <td>-0.641061</td>\n",
       "      <td>-1.246154</td>\n",
       "      <td>0.073740</td>\n",
       "      <td>1</td>\n",
       "      <td>6</td>\n",
       "    </tr>\n",
       "    <tr>\n",
       "      <th>4</th>\n",
       "      <td>Algeciras</td>\n",
       "      <td>-1.533635</td>\n",
       "      <td>0.649416</td>\n",
       "      <td>-0.155470</td>\n",
       "      <td>1.836653</td>\n",
       "      <td>-1.864307</td>\n",
       "      <td>2</td>\n",
       "      <td>1</td>\n",
       "    </tr>\n",
       "    <tr>\n",
       "      <th>...</th>\n",
       "      <td>...</td>\n",
       "      <td>...</td>\n",
       "      <td>...</td>\n",
       "      <td>...</td>\n",
       "      <td>...</td>\n",
       "      <td>...</td>\n",
       "      <td>...</td>\n",
       "      <td>...</td>\n",
       "    </tr>\n",
       "    <tr>\n",
       "      <th>67</th>\n",
       "      <td>Valencia</td>\n",
       "      <td>1.929925</td>\n",
       "      <td>0.316634</td>\n",
       "      <td>1.679559</td>\n",
       "      <td>-1.187370</td>\n",
       "      <td>-0.984247</td>\n",
       "      <td>3</td>\n",
       "      <td>3</td>\n",
       "    </tr>\n",
       "    <tr>\n",
       "      <th>68</th>\n",
       "      <td>Valladolid</td>\n",
       "      <td>-0.336278</td>\n",
       "      <td>-0.165451</td>\n",
       "      <td>0.593113</td>\n",
       "      <td>-0.486300</td>\n",
       "      <td>0.233324</td>\n",
       "      <td>1</td>\n",
       "      <td>2</td>\n",
       "    </tr>\n",
       "    <tr>\n",
       "      <th>69</th>\n",
       "      <td>Vigo</td>\n",
       "      <td>-0.460458</td>\n",
       "      <td>-0.413899</td>\n",
       "      <td>1.272786</td>\n",
       "      <td>1.435524</td>\n",
       "      <td>-1.264447</td>\n",
       "      <td>2</td>\n",
       "      <td>1</td>\n",
       "    </tr>\n",
       "    <tr>\n",
       "      <th>70</th>\n",
       "      <td>Zamora</td>\n",
       "      <td>-0.205936</td>\n",
       "      <td>-1.350888</td>\n",
       "      <td>-1.017777</td>\n",
       "      <td>-0.152752</td>\n",
       "      <td>0.607229</td>\n",
       "      <td>0</td>\n",
       "      <td>4</td>\n",
       "    </tr>\n",
       "    <tr>\n",
       "      <th>71</th>\n",
       "      <td>Zaragoza</td>\n",
       "      <td>0.135196</td>\n",
       "      <td>0.719317</td>\n",
       "      <td>1.381863</td>\n",
       "      <td>-0.625850</td>\n",
       "      <td>-0.339373</td>\n",
       "      <td>1</td>\n",
       "      <td>2</td>\n",
       "    </tr>\n",
       "  </tbody>\n",
       "</table>\n",
       "<p>72 rows × 8 columns</p>\n",
       "</div>"
      ],
      "text/plain": [
       "             Ciudades        F1        F2        F3        F4        F5  \\\n",
       "0            Albacete -0.293192  0.459059  0.188866  0.736434 -0.000419   \n",
       "1   Alcalá de Henares -1.096090  0.178993 -0.155832 -1.128990 -0.240399   \n",
       "2          Alcobendas -0.571892  0.141186 -1.210573  1.081756 -0.240399   \n",
       "3            Alcorcón  0.302330  0.012053 -0.641061 -1.246154  0.073740   \n",
       "4           Algeciras -1.533635  0.649416 -0.155470  1.836653 -1.864307   \n",
       "..                ...       ...       ...       ...       ...       ...   \n",
       "67           Valencia  1.929925  0.316634  1.679559 -1.187370 -0.984247   \n",
       "68         Valladolid -0.336278 -0.165451  0.593113 -0.486300  0.233324   \n",
       "69               Vigo -0.460458 -0.413899  1.272786  1.435524 -1.264447   \n",
       "70             Zamora -0.205936 -1.350888 -1.017777 -0.152752  0.607229   \n",
       "71           Zaragoza  0.135196  0.719317  1.381863 -0.625850 -0.339373   \n",
       "\n",
       "    clusters  Af_clust  \n",
       "0          1         0  \n",
       "1          0         6  \n",
       "2          0         6  \n",
       "3          1         6  \n",
       "4          2         1  \n",
       "..       ...       ...  \n",
       "67         3         3  \n",
       "68         1         2  \n",
       "69         2         1  \n",
       "70         0         4  \n",
       "71         1         2  \n",
       "\n",
       "[72 rows x 8 columns]"
      ]
     },
     "execution_count": 36,
     "metadata": {},
     "output_type": "execute_result"
    }
   ],
   "source": [
    "df_datos_Ptrans_st_clus['Af_clust'] = AF.labels_\n",
    "df_datos_Ptrans_st_clus"
   ]
  },
  {
   "cell_type": "code",
   "execution_count": 37,
   "metadata": {},
   "outputs": [
    {
     "data": {
      "application/vnd.plotly.v1+json": {
       "config": {
        "plotlyServerURL": "https://plot.ly"
       },
       "data": [
        {
         "customdata": [
          [
           "Albacete",
           0
          ],
          [
           "Alcalá de Henares",
           6
          ],
          [
           "Alcobendas",
           6
          ],
          [
           "Alcorcón",
           6
          ],
          [
           "Algeciras",
           1
          ],
          [
           "Alicante/Alacant",
           0
          ],
          [
           "Almería",
           0
          ],
          [
           "Ávila",
           5
          ],
          [
           "Badajoz",
           1
          ],
          [
           "Badalona",
           2
          ],
          [
           "Barcelona",
           3
          ],
          [
           "Burgos",
           3
          ],
          [
           "Cáceres",
           5
          ],
          [
           "Cádiz",
           3
          ],
          [
           "Cartagena",
           1
          ],
          [
           "Castelló de la Plana",
           2
          ],
          [
           "Ceuta",
           5
          ],
          [
           "Ciudad Real",
           6
          ],
          [
           "Córdoba",
           1
          ],
          [
           "Coruña, A",
           2
          ],
          [
           "Cuenca",
           5
          ],
          [
           "Dos Hermanas",
           1
          ],
          [
           "Elche/Elx",
           1
          ],
          [
           "Fuenlabrada",
           3
          ],
          [
           "Getafe",
           6
          ],
          [
           "Gijón",
           0
          ],
          [
           "Girona",
           0
          ],
          [
           "Granada",
           2
          ],
          [
           "Guadalajara",
           6
          ],
          [
           "Hospitalet de Llobregat, L'",
           3
          ],
          [
           "Huelva",
           4
          ],
          [
           "Huesca",
           6
          ],
          [
           "Jaén",
           2
          ],
          [
           "Jerez de la Frontera",
           0
          ],
          [
           "Palmas de Gran Canaria, Las",
           0
          ],
          [
           "Leganés",
           4
          ],
          [
           "León",
           4
          ],
          [
           "Lleida",
           6
          ],
          [
           "Logroño",
           3
          ],
          [
           "Lugo",
           2
          ],
          [
           "Madrid",
           2
          ],
          [
           "Málaga",
           0
          ],
          [
           "Marbella",
           1
          ],
          [
           "Mataró",
           2
          ],
          [
           "Melilla",
           5
          ],
          [
           "Móstoles",
           4
          ],
          [
           "Murcia",
           0
          ],
          [
           "Ourense",
           1
          ],
          [
           "Oviedo",
           3
          ],
          [
           "Palencia",
           6
          ],
          [
           "Palma de Mallorca",
           0
          ],
          [
           "Parla",
           4
          ],
          [
           "Pontevedra",
           6
          ],
          [
           "Sabadell",
           0
          ],
          [
           "Salamanca",
           4
          ],
          [
           "San Cristóbal de La Laguna",
           1
          ],
          [
           "Santa Coloma de Gramenet",
           3
          ],
          [
           "Santa Cruz de Tenerife",
           0
          ],
          [
           "Santander",
           2
          ],
          [
           "Segovia",
           5
          ],
          [
           "Sevilla",
           2
          ],
          [
           "Soria",
           6
          ],
          [
           "Tarragona",
           5
          ],
          [
           "Terrassa",
           0
          ],
          [
           "Teruel",
           6
          ],
          [
           "Toledo",
           5
          ],
          [
           "Torrejón de Ardoz",
           7
          ],
          [
           "Valencia",
           3
          ],
          [
           "Valladolid",
           2
          ],
          [
           "Vigo",
           1
          ],
          [
           "Zamora",
           4
          ],
          [
           "Zaragoza",
           2
          ]
         ],
         "hovertemplate": "F1=%{x}<br>F4=%{y}<br>Ciudades=%{customdata[0]}<br>Af_clust=%{marker.color}<extra></extra>",
         "legendgroup": "",
         "marker": {
          "color": [
           0,
           6,
           6,
           6,
           1,
           0,
           0,
           5,
           1,
           2,
           3,
           3,
           5,
           3,
           1,
           2,
           5,
           6,
           1,
           2,
           5,
           1,
           1,
           3,
           6,
           0,
           0,
           2,
           6,
           3,
           4,
           6,
           2,
           0,
           0,
           4,
           4,
           6,
           3,
           2,
           2,
           0,
           1,
           2,
           5,
           4,
           0,
           1,
           3,
           6,
           0,
           4,
           6,
           0,
           4,
           1,
           3,
           0,
           2,
           5,
           2,
           6,
           5,
           0,
           6,
           5,
           7,
           3,
           2,
           1,
           4,
           2
          ],
          "coloraxis": "coloraxis",
          "symbol": "circle"
         },
         "mode": "markers",
         "name": "",
         "orientation": "v",
         "showlegend": false,
         "type": "scatter",
         "x": [
          -0.29319154608829096,
          -1.0960896624653655,
          -0.5718923430753101,
          0.3023297528939769,
          -1.533635476868627,
          0.5323412206345015,
          0.17327777526570165,
          -2.1083632549015827,
          -1.4019901343651642,
          1.2841903730078525,
          2.0278818174564734,
          -0.867849331271301,
          -0.9652376577429149,
          1.8516614739010737,
          -0.8299107208412436,
          0.06930499318268263,
          -0.7370034203390636,
          0.4668154710427843,
          -0.8842679741744437,
          0.30058442444665057,
          -0.040121436999020696,
          -2.2772124010745745,
          -0.4580302483402317,
          -0.333927693500377,
          -1.0378095107876186,
          -0.1585874886509199,
          0.383250016415726,
          0.2787580136871794,
          -0.38456438193972925,
          1.007330819443943,
          -0.21132904449103235,
          0.3869253413299286,
          -0.26379347651772134,
          -1.3937808551794841,
          0.8812053148556173,
          -0.5631832531257791,
          0.2510314058572234,
          0.052350207613133824,
          1.1259834201122583,
          1.535881984354892,
          -0.6709666447074277,
          -0.42472251988029397,
          0.32208767298700114,
          0.8678277422342101,
          -0.9451418312053885,
          0.026780218596844717,
          0.4276691807277004,
          0.06827393968383216,
          1.4543175237789685,
          -0.37493347826955936,
          0.67718862196686,
          -0.1739226208450741,
          0.40174775716396843,
          1.22678054238094,
          0.41019190430894037,
          0.05783638021088681,
          2.5826531532798946,
          0.8923022489752367,
          1.1058549820168333,
          0.37999455814670985,
          0.6202989815800728,
          0.34616567253838804,
          -0.42253210596047786,
          0.9293121094652204,
          -0.7876825152035588,
          -1.8496981753557786,
          -2.7094647380702126,
          1.9299246873221096,
          -0.3362775525710132,
          -0.460458136482655,
          -0.20593600114463717,
          0.13519592956965407
         ],
         "xaxis": "x",
         "y": [
          0.736434411638551,
          -1.1289896576475045,
          1.0817564656822134,
          -1.2461541958255469,
          1.836653099963983,
          0.9703579181577164,
          0.7516632751498485,
          0.5048440778587173,
          2.172470681240919,
          -0.2708603381864221,
          -0.959202520529966,
          -1.1756636747515017,
          0.4115104771422869,
          -2.2854514331481566,
          1.1444741122396438,
          0.043439863065846046,
          0.34338124582060775,
          0.22732962082328795,
          1.6844976978911375,
          -0.24968497183732036,
          -0.19921949753806936,
          1.1651588178254422,
          1.4321355302945078,
          -1.5210626680942245,
          -0.44183573806767434,
          0.2129257775084894,
          0.5881229377640897,
          -0.24982176625485136,
          -0.018530735093941653,
          -1.823515928587895,
          -0.9675545561305976,
          -1.2072680453477083,
          0.07296765659122115,
          0.8790230175852283,
          0.48559126740976977,
          -1.3357794004795969,
          -0.7766778894178201,
          -0.5776441612357572,
          -1.7704091925763565,
          -0.3998089405228987,
          -1.1090663252780057,
          0.6868875562658701,
          1.5317987255368553,
          0.21641212937355292,
          0.043900835338078543,
          -0.3796831363719914,
          0.9549343520587621,
          1.825872467778498,
          -0.5410820639408538,
          -0.2797915661969146,
          0.6580681012814527,
          -0.6231487784562936,
          0.9723181383181149,
          0.12474418141544583,
          -1.4110211598276947,
          1.4653098515237326,
          -0.3336080362044141,
          0.47142265465887345,
          0.011985470559757443,
          -0.47667251885576967,
          -0.8229376829330602,
          -0.44963056947637114,
          0.43706502328170027,
          0.6100864253717834,
          0.32986941246178497,
          1.0221035426867855,
          -2.058992063352646,
          -1.18736979243663,
          -0.48630009449286354,
          1.4355239973062575,
          -0.15275171465644527,
          -0.6258500031170451
         ],
         "yaxis": "y"
        }
       ],
       "layout": {
        "coloraxis": {
         "colorbar": {
          "title": {
           "text": "Af_clust"
          }
         },
         "colorscale": [
          [
           0,
           "#0d0887"
          ],
          [
           0.1111111111111111,
           "#46039f"
          ],
          [
           0.2222222222222222,
           "#7201a8"
          ],
          [
           0.3333333333333333,
           "#9c179e"
          ],
          [
           0.4444444444444444,
           "#bd3786"
          ],
          [
           0.5555555555555556,
           "#d8576b"
          ],
          [
           0.6666666666666666,
           "#ed7953"
          ],
          [
           0.7777777777777778,
           "#fb9f3a"
          ],
          [
           0.8888888888888888,
           "#fdca26"
          ],
          [
           1,
           "#f0f921"
          ]
         ]
        },
        "legend": {
         "tracegroupgap": 0
        },
        "margin": {
         "t": 60
        },
        "template": {
         "data": {
          "bar": [
           {
            "error_x": {
             "color": "#2a3f5f"
            },
            "error_y": {
             "color": "#2a3f5f"
            },
            "marker": {
             "line": {
              "color": "#E5ECF6",
              "width": 0.5
             },
             "pattern": {
              "fillmode": "overlay",
              "size": 10,
              "solidity": 0.2
             }
            },
            "type": "bar"
           }
          ],
          "barpolar": [
           {
            "marker": {
             "line": {
              "color": "#E5ECF6",
              "width": 0.5
             },
             "pattern": {
              "fillmode": "overlay",
              "size": 10,
              "solidity": 0.2
             }
            },
            "type": "barpolar"
           }
          ],
          "carpet": [
           {
            "aaxis": {
             "endlinecolor": "#2a3f5f",
             "gridcolor": "white",
             "linecolor": "white",
             "minorgridcolor": "white",
             "startlinecolor": "#2a3f5f"
            },
            "baxis": {
             "endlinecolor": "#2a3f5f",
             "gridcolor": "white",
             "linecolor": "white",
             "minorgridcolor": "white",
             "startlinecolor": "#2a3f5f"
            },
            "type": "carpet"
           }
          ],
          "choropleth": [
           {
            "colorbar": {
             "outlinewidth": 0,
             "ticks": ""
            },
            "type": "choropleth"
           }
          ],
          "contour": [
           {
            "colorbar": {
             "outlinewidth": 0,
             "ticks": ""
            },
            "colorscale": [
             [
              0,
              "#0d0887"
             ],
             [
              0.1111111111111111,
              "#46039f"
             ],
             [
              0.2222222222222222,
              "#7201a8"
             ],
             [
              0.3333333333333333,
              "#9c179e"
             ],
             [
              0.4444444444444444,
              "#bd3786"
             ],
             [
              0.5555555555555556,
              "#d8576b"
             ],
             [
              0.6666666666666666,
              "#ed7953"
             ],
             [
              0.7777777777777778,
              "#fb9f3a"
             ],
             [
              0.8888888888888888,
              "#fdca26"
             ],
             [
              1,
              "#f0f921"
             ]
            ],
            "type": "contour"
           }
          ],
          "contourcarpet": [
           {
            "colorbar": {
             "outlinewidth": 0,
             "ticks": ""
            },
            "type": "contourcarpet"
           }
          ],
          "heatmap": [
           {
            "colorbar": {
             "outlinewidth": 0,
             "ticks": ""
            },
            "colorscale": [
             [
              0,
              "#0d0887"
             ],
             [
              0.1111111111111111,
              "#46039f"
             ],
             [
              0.2222222222222222,
              "#7201a8"
             ],
             [
              0.3333333333333333,
              "#9c179e"
             ],
             [
              0.4444444444444444,
              "#bd3786"
             ],
             [
              0.5555555555555556,
              "#d8576b"
             ],
             [
              0.6666666666666666,
              "#ed7953"
             ],
             [
              0.7777777777777778,
              "#fb9f3a"
             ],
             [
              0.8888888888888888,
              "#fdca26"
             ],
             [
              1,
              "#f0f921"
             ]
            ],
            "type": "heatmap"
           }
          ],
          "heatmapgl": [
           {
            "colorbar": {
             "outlinewidth": 0,
             "ticks": ""
            },
            "colorscale": [
             [
              0,
              "#0d0887"
             ],
             [
              0.1111111111111111,
              "#46039f"
             ],
             [
              0.2222222222222222,
              "#7201a8"
             ],
             [
              0.3333333333333333,
              "#9c179e"
             ],
             [
              0.4444444444444444,
              "#bd3786"
             ],
             [
              0.5555555555555556,
              "#d8576b"
             ],
             [
              0.6666666666666666,
              "#ed7953"
             ],
             [
              0.7777777777777778,
              "#fb9f3a"
             ],
             [
              0.8888888888888888,
              "#fdca26"
             ],
             [
              1,
              "#f0f921"
             ]
            ],
            "type": "heatmapgl"
           }
          ],
          "histogram": [
           {
            "marker": {
             "pattern": {
              "fillmode": "overlay",
              "size": 10,
              "solidity": 0.2
             }
            },
            "type": "histogram"
           }
          ],
          "histogram2d": [
           {
            "colorbar": {
             "outlinewidth": 0,
             "ticks": ""
            },
            "colorscale": [
             [
              0,
              "#0d0887"
             ],
             [
              0.1111111111111111,
              "#46039f"
             ],
             [
              0.2222222222222222,
              "#7201a8"
             ],
             [
              0.3333333333333333,
              "#9c179e"
             ],
             [
              0.4444444444444444,
              "#bd3786"
             ],
             [
              0.5555555555555556,
              "#d8576b"
             ],
             [
              0.6666666666666666,
              "#ed7953"
             ],
             [
              0.7777777777777778,
              "#fb9f3a"
             ],
             [
              0.8888888888888888,
              "#fdca26"
             ],
             [
              1,
              "#f0f921"
             ]
            ],
            "type": "histogram2d"
           }
          ],
          "histogram2dcontour": [
           {
            "colorbar": {
             "outlinewidth": 0,
             "ticks": ""
            },
            "colorscale": [
             [
              0,
              "#0d0887"
             ],
             [
              0.1111111111111111,
              "#46039f"
             ],
             [
              0.2222222222222222,
              "#7201a8"
             ],
             [
              0.3333333333333333,
              "#9c179e"
             ],
             [
              0.4444444444444444,
              "#bd3786"
             ],
             [
              0.5555555555555556,
              "#d8576b"
             ],
             [
              0.6666666666666666,
              "#ed7953"
             ],
             [
              0.7777777777777778,
              "#fb9f3a"
             ],
             [
              0.8888888888888888,
              "#fdca26"
             ],
             [
              1,
              "#f0f921"
             ]
            ],
            "type": "histogram2dcontour"
           }
          ],
          "mesh3d": [
           {
            "colorbar": {
             "outlinewidth": 0,
             "ticks": ""
            },
            "type": "mesh3d"
           }
          ],
          "parcoords": [
           {
            "line": {
             "colorbar": {
              "outlinewidth": 0,
              "ticks": ""
             }
            },
            "type": "parcoords"
           }
          ],
          "pie": [
           {
            "automargin": true,
            "type": "pie"
           }
          ],
          "scatter": [
           {
            "fillpattern": {
             "fillmode": "overlay",
             "size": 10,
             "solidity": 0.2
            },
            "type": "scatter"
           }
          ],
          "scatter3d": [
           {
            "line": {
             "colorbar": {
              "outlinewidth": 0,
              "ticks": ""
             }
            },
            "marker": {
             "colorbar": {
              "outlinewidth": 0,
              "ticks": ""
             }
            },
            "type": "scatter3d"
           }
          ],
          "scattercarpet": [
           {
            "marker": {
             "colorbar": {
              "outlinewidth": 0,
              "ticks": ""
             }
            },
            "type": "scattercarpet"
           }
          ],
          "scattergeo": [
           {
            "marker": {
             "colorbar": {
              "outlinewidth": 0,
              "ticks": ""
             }
            },
            "type": "scattergeo"
           }
          ],
          "scattergl": [
           {
            "marker": {
             "colorbar": {
              "outlinewidth": 0,
              "ticks": ""
             }
            },
            "type": "scattergl"
           }
          ],
          "scattermapbox": [
           {
            "marker": {
             "colorbar": {
              "outlinewidth": 0,
              "ticks": ""
             }
            },
            "type": "scattermapbox"
           }
          ],
          "scatterpolar": [
           {
            "marker": {
             "colorbar": {
              "outlinewidth": 0,
              "ticks": ""
             }
            },
            "type": "scatterpolar"
           }
          ],
          "scatterpolargl": [
           {
            "marker": {
             "colorbar": {
              "outlinewidth": 0,
              "ticks": ""
             }
            },
            "type": "scatterpolargl"
           }
          ],
          "scatterternary": [
           {
            "marker": {
             "colorbar": {
              "outlinewidth": 0,
              "ticks": ""
             }
            },
            "type": "scatterternary"
           }
          ],
          "surface": [
           {
            "colorbar": {
             "outlinewidth": 0,
             "ticks": ""
            },
            "colorscale": [
             [
              0,
              "#0d0887"
             ],
             [
              0.1111111111111111,
              "#46039f"
             ],
             [
              0.2222222222222222,
              "#7201a8"
             ],
             [
              0.3333333333333333,
              "#9c179e"
             ],
             [
              0.4444444444444444,
              "#bd3786"
             ],
             [
              0.5555555555555556,
              "#d8576b"
             ],
             [
              0.6666666666666666,
              "#ed7953"
             ],
             [
              0.7777777777777778,
              "#fb9f3a"
             ],
             [
              0.8888888888888888,
              "#fdca26"
             ],
             [
              1,
              "#f0f921"
             ]
            ],
            "type": "surface"
           }
          ],
          "table": [
           {
            "cells": {
             "fill": {
              "color": "#EBF0F8"
             },
             "line": {
              "color": "white"
             }
            },
            "header": {
             "fill": {
              "color": "#C8D4E3"
             },
             "line": {
              "color": "white"
             }
            },
            "type": "table"
           }
          ]
         },
         "layout": {
          "annotationdefaults": {
           "arrowcolor": "#2a3f5f",
           "arrowhead": 0,
           "arrowwidth": 1
          },
          "autotypenumbers": "strict",
          "coloraxis": {
           "colorbar": {
            "outlinewidth": 0,
            "ticks": ""
           }
          },
          "colorscale": {
           "diverging": [
            [
             0,
             "#8e0152"
            ],
            [
             0.1,
             "#c51b7d"
            ],
            [
             0.2,
             "#de77ae"
            ],
            [
             0.3,
             "#f1b6da"
            ],
            [
             0.4,
             "#fde0ef"
            ],
            [
             0.5,
             "#f7f7f7"
            ],
            [
             0.6,
             "#e6f5d0"
            ],
            [
             0.7,
             "#b8e186"
            ],
            [
             0.8,
             "#7fbc41"
            ],
            [
             0.9,
             "#4d9221"
            ],
            [
             1,
             "#276419"
            ]
           ],
           "sequential": [
            [
             0,
             "#0d0887"
            ],
            [
             0.1111111111111111,
             "#46039f"
            ],
            [
             0.2222222222222222,
             "#7201a8"
            ],
            [
             0.3333333333333333,
             "#9c179e"
            ],
            [
             0.4444444444444444,
             "#bd3786"
            ],
            [
             0.5555555555555556,
             "#d8576b"
            ],
            [
             0.6666666666666666,
             "#ed7953"
            ],
            [
             0.7777777777777778,
             "#fb9f3a"
            ],
            [
             0.8888888888888888,
             "#fdca26"
            ],
            [
             1,
             "#f0f921"
            ]
           ],
           "sequentialminus": [
            [
             0,
             "#0d0887"
            ],
            [
             0.1111111111111111,
             "#46039f"
            ],
            [
             0.2222222222222222,
             "#7201a8"
            ],
            [
             0.3333333333333333,
             "#9c179e"
            ],
            [
             0.4444444444444444,
             "#bd3786"
            ],
            [
             0.5555555555555556,
             "#d8576b"
            ],
            [
             0.6666666666666666,
             "#ed7953"
            ],
            [
             0.7777777777777778,
             "#fb9f3a"
            ],
            [
             0.8888888888888888,
             "#fdca26"
            ],
            [
             1,
             "#f0f921"
            ]
           ]
          },
          "colorway": [
           "#636efa",
           "#EF553B",
           "#00cc96",
           "#ab63fa",
           "#FFA15A",
           "#19d3f3",
           "#FF6692",
           "#B6E880",
           "#FF97FF",
           "#FECB52"
          ],
          "font": {
           "color": "#2a3f5f"
          },
          "geo": {
           "bgcolor": "white",
           "lakecolor": "white",
           "landcolor": "#E5ECF6",
           "showlakes": true,
           "showland": true,
           "subunitcolor": "white"
          },
          "hoverlabel": {
           "align": "left"
          },
          "hovermode": "closest",
          "mapbox": {
           "style": "light"
          },
          "paper_bgcolor": "white",
          "plot_bgcolor": "#E5ECF6",
          "polar": {
           "angularaxis": {
            "gridcolor": "white",
            "linecolor": "white",
            "ticks": ""
           },
           "bgcolor": "#E5ECF6",
           "radialaxis": {
            "gridcolor": "white",
            "linecolor": "white",
            "ticks": ""
           }
          },
          "scene": {
           "xaxis": {
            "backgroundcolor": "#E5ECF6",
            "gridcolor": "white",
            "gridwidth": 2,
            "linecolor": "white",
            "showbackground": true,
            "ticks": "",
            "zerolinecolor": "white"
           },
           "yaxis": {
            "backgroundcolor": "#E5ECF6",
            "gridcolor": "white",
            "gridwidth": 2,
            "linecolor": "white",
            "showbackground": true,
            "ticks": "",
            "zerolinecolor": "white"
           },
           "zaxis": {
            "backgroundcolor": "#E5ECF6",
            "gridcolor": "white",
            "gridwidth": 2,
            "linecolor": "white",
            "showbackground": true,
            "ticks": "",
            "zerolinecolor": "white"
           }
          },
          "shapedefaults": {
           "line": {
            "color": "#2a3f5f"
           }
          },
          "ternary": {
           "aaxis": {
            "gridcolor": "white",
            "linecolor": "white",
            "ticks": ""
           },
           "baxis": {
            "gridcolor": "white",
            "linecolor": "white",
            "ticks": ""
           },
           "bgcolor": "#E5ECF6",
           "caxis": {
            "gridcolor": "white",
            "linecolor": "white",
            "ticks": ""
           }
          },
          "title": {
           "x": 0.05
          },
          "xaxis": {
           "automargin": true,
           "gridcolor": "white",
           "linecolor": "white",
           "ticks": "",
           "title": {
            "standoff": 15
           },
           "zerolinecolor": "white",
           "zerolinewidth": 2
          },
          "yaxis": {
           "automargin": true,
           "gridcolor": "white",
           "linecolor": "white",
           "ticks": "",
           "title": {
            "standoff": 15
           },
           "zerolinecolor": "white",
           "zerolinewidth": 2
          }
         }
        },
        "xaxis": {
         "anchor": "y",
         "domain": [
          0,
          1
         ],
         "title": {
          "text": "F1"
         }
        },
        "yaxis": {
         "anchor": "x",
         "domain": [
          0,
          1
         ],
         "title": {
          "text": "F4"
         }
        }
       }
      }
     },
     "metadata": {},
     "output_type": "display_data"
    }
   ],
   "source": [
    "fig = px.scatter(df_datos_Ptrans_st_clus,x='F1', y='F4', color ='Af_clust', hover_data = [\"Ciudades\",'Af_clust'])\n",
    "fig.show()"
   ]
  },
  {
   "cell_type": "code",
   "execution_count": 38,
   "metadata": {},
   "outputs": [],
   "source": [
    "df_datos_Ptrans_mm['Affinity_clus'] = AF.labels_"
   ]
  },
  {
   "cell_type": "markdown",
   "metadata": {},
   "source": [
    "# Ejemplo de un DBSCAN"
   ]
  },
  {
   "cell_type": "code",
   "execution_count": 39,
   "metadata": {},
   "outputs": [],
   "source": [
    "from sklearn.cluster import DBSCAN"
   ]
  },
  {
   "cell_type": "code",
   "execution_count": 70,
   "metadata": {},
   "outputs": [
    {
     "data": {
      "text/plain": [
       "array([ 0,  1, -1,  2,  3,  0,  0, -1,  3,  4, -1,  5, -1, -1, -1,  2,  6,\n",
       "       -1, -1,  7,  8, -1,  9,  5,  1, -1, -1,  7,  8, 10,  2, -1,  2, -1,\n",
       "        0,  2,  2,  2, 10,  4, -1, -1,  9,  4,  6,  2,  0, -1, -1,  8,  0,\n",
       "       -1, -1,  0,  2, -1, -1,  0,  4,  8, -1, -1,  2,  0, -1, -1, -1, -1,\n",
       "        7,  9, -1, -1], dtype=int64)"
      ]
     },
     "execution_count": 70,
     "metadata": {},
     "output_type": "execute_result"
    }
   ],
   "source": [
    "dbscan = DBSCAN(eps = 1, min_samples = 2)\n",
    "dbscan.fit(df_datos_Ptrans_st.loc[:,['F1','F2','F3','F4','F5']])\n",
    "labels = dbscan.labels_\n",
    "labels\n"
   ]
  },
  {
   "cell_type": "code",
   "execution_count": 72,
   "metadata": {},
   "outputs": [
    {
     "ename": "TypeError",
     "evalue": "'numpy.float64' object is not callable",
     "output_type": "error",
     "traceback": [
      "\u001b[1;31m---------------------------------------------------------------------------\u001b[0m",
      "\u001b[1;31mTypeError\u001b[0m                                 Traceback (most recent call last)",
      "\u001b[1;32mc:\\Users\\crist\\Documents\\GitHub\\manifolds\\ciudades\\cluster_function\\cluster_function.ipynb Cell 49\u001b[0m line \u001b[0;36m1\n\u001b[1;32m----> <a href='vscode-notebook-cell:/c%3A/Users/crist/Documents/GitHub/manifolds/ciudades/cluster_function/cluster_function.ipynb#X66sZmlsZQ%3D%3D?line=0'>1</a>\u001b[0m silhouette_score(df_datos_Ptrans_st\u001b[39m.\u001b[39mloc[:,[\u001b[39m'\u001b[39m\u001b[39mF1\u001b[39m\u001b[39m'\u001b[39m,\u001b[39m'\u001b[39m\u001b[39mF2\u001b[39m\u001b[39m'\u001b[39m,\u001b[39m'\u001b[39m\u001b[39mF3\u001b[39m\u001b[39m'\u001b[39m,\u001b[39m'\u001b[39m\u001b[39mF4\u001b[39m\u001b[39m'\u001b[39m,\u001b[39m'\u001b[39m\u001b[39mF5\u001b[39m\u001b[39m'\u001b[39m]],labels)\n",
      "\u001b[1;31mTypeError\u001b[0m: 'numpy.float64' object is not callable"
     ]
    }
   ],
   "source": [
    "silhouette_score(df_datos_Ptrans_st.loc[:,['F1','F2','F3','F4','F5']],labels)"
   ]
  },
  {
   "cell_type": "code",
   "execution_count": 42,
   "metadata": {},
   "outputs": [],
   "source": [
    "df_datos_Ptrans_st['dbcluster'] = labels"
   ]
  },
  {
   "cell_type": "code",
   "execution_count": 43,
   "metadata": {},
   "outputs": [
    {
     "data": {
      "text/html": [
       "<div>\n",
       "<style scoped>\n",
       "    .dataframe tbody tr th:only-of-type {\n",
       "        vertical-align: middle;\n",
       "    }\n",
       "\n",
       "    .dataframe tbody tr th {\n",
       "        vertical-align: top;\n",
       "    }\n",
       "\n",
       "    .dataframe thead th {\n",
       "        text-align: right;\n",
       "    }\n",
       "</style>\n",
       "<table border=\"1\" class=\"dataframe\">\n",
       "  <thead>\n",
       "    <tr style=\"text-align: right;\">\n",
       "      <th></th>\n",
       "      <th>Ciudad</th>\n",
       "      <th>F1</th>\n",
       "      <th>F2</th>\n",
       "      <th>F3</th>\n",
       "      <th>F4</th>\n",
       "      <th>F5</th>\n",
       "      <th>dbcluster</th>\n",
       "    </tr>\n",
       "  </thead>\n",
       "  <tbody>\n",
       "    <tr>\n",
       "      <th>0</th>\n",
       "      <td>Albacete</td>\n",
       "      <td>-0.293192</td>\n",
       "      <td>0.459059</td>\n",
       "      <td>0.188866</td>\n",
       "      <td>0.736434</td>\n",
       "      <td>-0.000419</td>\n",
       "      <td>0</td>\n",
       "    </tr>\n",
       "    <tr>\n",
       "      <th>1</th>\n",
       "      <td>Alcalá de Henares</td>\n",
       "      <td>-1.096090</td>\n",
       "      <td>0.178993</td>\n",
       "      <td>-0.155832</td>\n",
       "      <td>-1.128990</td>\n",
       "      <td>-0.240399</td>\n",
       "      <td>1</td>\n",
       "    </tr>\n",
       "    <tr>\n",
       "      <th>2</th>\n",
       "      <td>Alcobendas</td>\n",
       "      <td>-0.571892</td>\n",
       "      <td>0.141186</td>\n",
       "      <td>-1.210573</td>\n",
       "      <td>1.081756</td>\n",
       "      <td>-0.240399</td>\n",
       "      <td>-1</td>\n",
       "    </tr>\n",
       "    <tr>\n",
       "      <th>3</th>\n",
       "      <td>Alcorcón</td>\n",
       "      <td>0.302330</td>\n",
       "      <td>0.012053</td>\n",
       "      <td>-0.641061</td>\n",
       "      <td>-1.246154</td>\n",
       "      <td>0.073740</td>\n",
       "      <td>2</td>\n",
       "    </tr>\n",
       "    <tr>\n",
       "      <th>4</th>\n",
       "      <td>Algeciras</td>\n",
       "      <td>-1.533635</td>\n",
       "      <td>0.649416</td>\n",
       "      <td>-0.155470</td>\n",
       "      <td>1.836653</td>\n",
       "      <td>-1.864307</td>\n",
       "      <td>3</td>\n",
       "    </tr>\n",
       "    <tr>\n",
       "      <th>...</th>\n",
       "      <td>...</td>\n",
       "      <td>...</td>\n",
       "      <td>...</td>\n",
       "      <td>...</td>\n",
       "      <td>...</td>\n",
       "      <td>...</td>\n",
       "      <td>...</td>\n",
       "    </tr>\n",
       "    <tr>\n",
       "      <th>67</th>\n",
       "      <td>Valencia</td>\n",
       "      <td>1.929925</td>\n",
       "      <td>0.316634</td>\n",
       "      <td>1.679559</td>\n",
       "      <td>-1.187370</td>\n",
       "      <td>-0.984247</td>\n",
       "      <td>-1</td>\n",
       "    </tr>\n",
       "    <tr>\n",
       "      <th>68</th>\n",
       "      <td>Valladolid</td>\n",
       "      <td>-0.336278</td>\n",
       "      <td>-0.165451</td>\n",
       "      <td>0.593113</td>\n",
       "      <td>-0.486300</td>\n",
       "      <td>0.233324</td>\n",
       "      <td>7</td>\n",
       "    </tr>\n",
       "    <tr>\n",
       "      <th>69</th>\n",
       "      <td>Vigo</td>\n",
       "      <td>-0.460458</td>\n",
       "      <td>-0.413899</td>\n",
       "      <td>1.272786</td>\n",
       "      <td>1.435524</td>\n",
       "      <td>-1.264447</td>\n",
       "      <td>9</td>\n",
       "    </tr>\n",
       "    <tr>\n",
       "      <th>70</th>\n",
       "      <td>Zamora</td>\n",
       "      <td>-0.205936</td>\n",
       "      <td>-1.350888</td>\n",
       "      <td>-1.017777</td>\n",
       "      <td>-0.152752</td>\n",
       "      <td>0.607229</td>\n",
       "      <td>-1</td>\n",
       "    </tr>\n",
       "    <tr>\n",
       "      <th>71</th>\n",
       "      <td>Zaragoza</td>\n",
       "      <td>0.135196</td>\n",
       "      <td>0.719317</td>\n",
       "      <td>1.381863</td>\n",
       "      <td>-0.625850</td>\n",
       "      <td>-0.339373</td>\n",
       "      <td>-1</td>\n",
       "    </tr>\n",
       "  </tbody>\n",
       "</table>\n",
       "<p>72 rows × 7 columns</p>\n",
       "</div>"
      ],
      "text/plain": [
       "               Ciudad        F1        F2        F3        F4        F5  \\\n",
       "0            Albacete -0.293192  0.459059  0.188866  0.736434 -0.000419   \n",
       "1   Alcalá de Henares -1.096090  0.178993 -0.155832 -1.128990 -0.240399   \n",
       "2          Alcobendas -0.571892  0.141186 -1.210573  1.081756 -0.240399   \n",
       "3            Alcorcón  0.302330  0.012053 -0.641061 -1.246154  0.073740   \n",
       "4           Algeciras -1.533635  0.649416 -0.155470  1.836653 -1.864307   \n",
       "..                ...       ...       ...       ...       ...       ...   \n",
       "67           Valencia  1.929925  0.316634  1.679559 -1.187370 -0.984247   \n",
       "68         Valladolid -0.336278 -0.165451  0.593113 -0.486300  0.233324   \n",
       "69               Vigo -0.460458 -0.413899  1.272786  1.435524 -1.264447   \n",
       "70             Zamora -0.205936 -1.350888 -1.017777 -0.152752  0.607229   \n",
       "71           Zaragoza  0.135196  0.719317  1.381863 -0.625850 -0.339373   \n",
       "\n",
       "    dbcluster  \n",
       "0           0  \n",
       "1           1  \n",
       "2          -1  \n",
       "3           2  \n",
       "4           3  \n",
       "..        ...  \n",
       "67         -1  \n",
       "68          7  \n",
       "69          9  \n",
       "70         -1  \n",
       "71         -1  \n",
       "\n",
       "[72 rows x 7 columns]"
      ]
     },
     "execution_count": 43,
     "metadata": {},
     "output_type": "execute_result"
    }
   ],
   "source": [
    "df_datos_Ptrans_st"
   ]
  },
  {
   "cell_type": "code",
   "execution_count": 45,
   "metadata": {},
   "outputs": [
    {
     "data": {
      "application/vnd.plotly.v1+json": {
       "config": {
        "plotlyServerURL": "https://plot.ly"
       },
       "data": [
        {
         "customdata": [
          [
           "Albacete",
           0
          ],
          [
           "Alcalá de Henares",
           1
          ],
          [
           "Alcobendas",
           -1
          ],
          [
           "Alcorcón",
           2
          ],
          [
           "Algeciras",
           3
          ],
          [
           "Alicante/Alacant",
           0
          ],
          [
           "Almería",
           0
          ],
          [
           "Ávila",
           -1
          ],
          [
           "Badajoz",
           3
          ],
          [
           "Badalona",
           4
          ],
          [
           "Barcelona",
           -1
          ],
          [
           "Burgos",
           5
          ],
          [
           "Cáceres",
           -1
          ],
          [
           "Cádiz",
           -1
          ],
          [
           "Cartagena",
           -1
          ],
          [
           "Castelló de la Plana",
           2
          ],
          [
           "Ceuta",
           6
          ],
          [
           "Ciudad Real",
           -1
          ],
          [
           "Córdoba",
           -1
          ],
          [
           "Coruña, A",
           7
          ],
          [
           "Cuenca",
           8
          ],
          [
           "Dos Hermanas",
           -1
          ],
          [
           "Elche/Elx",
           9
          ],
          [
           "Fuenlabrada",
           5
          ],
          [
           "Getafe",
           1
          ],
          [
           "Gijón",
           -1
          ],
          [
           "Girona",
           -1
          ],
          [
           "Granada",
           7
          ],
          [
           "Guadalajara",
           8
          ],
          [
           "Hospitalet de Llobregat, L'",
           10
          ],
          [
           "Huelva",
           2
          ],
          [
           "Huesca",
           -1
          ],
          [
           "Jaén",
           2
          ],
          [
           "Jerez de la Frontera",
           -1
          ],
          [
           "Palmas de Gran Canaria, Las",
           0
          ],
          [
           "Leganés",
           2
          ],
          [
           "León",
           2
          ],
          [
           "Lleida",
           2
          ],
          [
           "Logroño",
           10
          ],
          [
           "Lugo",
           4
          ],
          [
           "Madrid",
           -1
          ],
          [
           "Málaga",
           -1
          ],
          [
           "Marbella",
           9
          ],
          [
           "Mataró",
           4
          ],
          [
           "Melilla",
           6
          ],
          [
           "Móstoles",
           2
          ],
          [
           "Murcia",
           0
          ],
          [
           "Ourense",
           -1
          ],
          [
           "Oviedo",
           -1
          ],
          [
           "Palencia",
           8
          ],
          [
           "Palma de Mallorca",
           0
          ],
          [
           "Parla",
           -1
          ],
          [
           "Pontevedra",
           -1
          ],
          [
           "Sabadell",
           0
          ],
          [
           "Salamanca",
           2
          ],
          [
           "San Cristóbal de La Laguna",
           -1
          ],
          [
           "Santa Coloma de Gramenet",
           -1
          ],
          [
           "Santa Cruz de Tenerife",
           0
          ],
          [
           "Santander",
           4
          ],
          [
           "Segovia",
           8
          ],
          [
           "Sevilla",
           -1
          ],
          [
           "Soria",
           -1
          ],
          [
           "Tarragona",
           2
          ],
          [
           "Terrassa",
           0
          ],
          [
           "Teruel",
           -1
          ],
          [
           "Toledo",
           -1
          ],
          [
           "Torrejón de Ardoz",
           -1
          ],
          [
           "Valencia",
           -1
          ],
          [
           "Valladolid",
           7
          ],
          [
           "Vigo",
           9
          ],
          [
           "Zamora",
           -1
          ],
          [
           "Zaragoza",
           -1
          ]
         ],
         "hovertemplate": "F5=%{x}<br>F4=%{y}<br>Ciudad=%{customdata[0]}<br>dbcluster=%{marker.color}<extra></extra>",
         "legendgroup": "",
         "marker": {
          "color": [
           0,
           1,
           -1,
           2,
           3,
           0,
           0,
           -1,
           3,
           4,
           -1,
           5,
           -1,
           -1,
           -1,
           2,
           6,
           -1,
           -1,
           7,
           8,
           -1,
           9,
           5,
           1,
           -1,
           -1,
           7,
           8,
           10,
           2,
           -1,
           2,
           -1,
           0,
           2,
           2,
           2,
           10,
           4,
           -1,
           -1,
           9,
           4,
           6,
           2,
           0,
           -1,
           -1,
           8,
           0,
           -1,
           -1,
           0,
           2,
           -1,
           -1,
           0,
           4,
           8,
           -1,
           -1,
           2,
           0,
           -1,
           -1,
           -1,
           -1,
           7,
           9,
           -1,
           -1
          ],
          "coloraxis": "coloraxis",
          "symbol": "circle"
         },
         "mode": "markers",
         "name": "",
         "orientation": "v",
         "showlegend": false,
         "type": "scatter",
         "x": [
          -0.00041923597592980963,
          -0.2403989703330426,
          -0.2403989703330426,
          0.07374001803085599,
          -1.8643066979734597,
          -0.32945844158881826,
          0.11762605556061148,
          0.8379997773596543,
          -2.1621089351216223,
          0.7990075442380972,
          -0.6800553210920786,
          -1.5270571216568554,
          0.5929010926560031,
          -0.9348273525544406,
          -0.514600244986459,
          1.5030720904299213,
          1.7395266877074866,
          0.03419817407042779,
          -1.68426363715956,
          1.127561462263086,
          1.319744476386967,
          -0.9286696136871507,
          -1.2309642319666088,
          -1.3165450189546422,
          -0.4438394918643723,
          -0.4998731436745871,
          0.4581822023576912,
          0.7782839288881295,
          0.6599622783822932,
          -1.057287399559503,
          0.7184421979629825,
          -0.7406777307182758,
          1.3709615346912147,
          0.27777581642654764,
          0.48026864019218785,
          0.8145713534557004,
          0.4111984445227973,
          0.26644438522501923,
          -0.4273243570732366,
          0.863282569797073,
          0.9148990667799951,
          0.6788396998693758,
          -1.556526164199419,
          1.349680491943256,
          1.3269443865322523,
          1.2181585225599507,
          -0.031114166329455507,
          -1.880282130725908,
          -0.44312433792165073,
          -0.12251218621506772,
          0.571080747494135,
          0.679346596513513,
          -0.48757984296643136,
          0.5887845889216815,
          0.031788977602776894,
          -1.2689878589357377,
          -1.0085577354955941,
          -0.1135246679401735,
          0.7160233886557622,
          1.8111299684847115,
          1.8369485875296463,
          -0.24751838805539492,
          1.557684647438757,
          0.05868180713662529,
          -0.6444361143973323,
          0.049222873717435396,
          -2.2592119208215933,
          -0.9842468670311859,
          0.23332364338639047,
          -1.2644468945837928,
          0.6072291225549319,
          -0.3393726558335205
         ],
         "xaxis": "x",
         "y": [
          0.736434411638551,
          -1.1289896576475045,
          1.0817564656822134,
          -1.2461541958255469,
          1.836653099963983,
          0.9703579181577164,
          0.7516632751498485,
          0.5048440778587173,
          2.172470681240919,
          -0.2708603381864221,
          -0.959202520529966,
          -1.1756636747515017,
          0.4115104771422869,
          -2.2854514331481566,
          1.1444741122396438,
          0.043439863065846046,
          0.34338124582060775,
          0.22732962082328795,
          1.6844976978911375,
          -0.24968497183732036,
          -0.19921949753806936,
          1.1651588178254422,
          1.4321355302945078,
          -1.5210626680942245,
          -0.44183573806767434,
          0.2129257775084894,
          0.5881229377640897,
          -0.24982176625485136,
          -0.018530735093941653,
          -1.823515928587895,
          -0.9675545561305976,
          -1.2072680453477083,
          0.07296765659122115,
          0.8790230175852283,
          0.48559126740976977,
          -1.3357794004795969,
          -0.7766778894178201,
          -0.5776441612357572,
          -1.7704091925763565,
          -0.3998089405228987,
          -1.1090663252780057,
          0.6868875562658701,
          1.5317987255368553,
          0.21641212937355292,
          0.043900835338078543,
          -0.3796831363719914,
          0.9549343520587621,
          1.825872467778498,
          -0.5410820639408538,
          -0.2797915661969146,
          0.6580681012814527,
          -0.6231487784562936,
          0.9723181383181149,
          0.12474418141544583,
          -1.4110211598276947,
          1.4653098515237326,
          -0.3336080362044141,
          0.47142265465887345,
          0.011985470559757443,
          -0.47667251885576967,
          -0.8229376829330602,
          -0.44963056947637114,
          0.43706502328170027,
          0.6100864253717834,
          0.32986941246178497,
          1.0221035426867855,
          -2.058992063352646,
          -1.18736979243663,
          -0.48630009449286354,
          1.4355239973062575,
          -0.15275171465644527,
          -0.6258500031170451
         ],
         "yaxis": "y"
        }
       ],
       "layout": {
        "coloraxis": {
         "colorbar": {
          "title": {
           "text": "dbcluster"
          }
         },
         "colorscale": [
          [
           0,
           "#0d0887"
          ],
          [
           0.1111111111111111,
           "#46039f"
          ],
          [
           0.2222222222222222,
           "#7201a8"
          ],
          [
           0.3333333333333333,
           "#9c179e"
          ],
          [
           0.4444444444444444,
           "#bd3786"
          ],
          [
           0.5555555555555556,
           "#d8576b"
          ],
          [
           0.6666666666666666,
           "#ed7953"
          ],
          [
           0.7777777777777778,
           "#fb9f3a"
          ],
          [
           0.8888888888888888,
           "#fdca26"
          ],
          [
           1,
           "#f0f921"
          ]
         ]
        },
        "legend": {
         "tracegroupgap": 0
        },
        "margin": {
         "t": 60
        },
        "template": {
         "data": {
          "bar": [
           {
            "error_x": {
             "color": "#2a3f5f"
            },
            "error_y": {
             "color": "#2a3f5f"
            },
            "marker": {
             "line": {
              "color": "#E5ECF6",
              "width": 0.5
             },
             "pattern": {
              "fillmode": "overlay",
              "size": 10,
              "solidity": 0.2
             }
            },
            "type": "bar"
           }
          ],
          "barpolar": [
           {
            "marker": {
             "line": {
              "color": "#E5ECF6",
              "width": 0.5
             },
             "pattern": {
              "fillmode": "overlay",
              "size": 10,
              "solidity": 0.2
             }
            },
            "type": "barpolar"
           }
          ],
          "carpet": [
           {
            "aaxis": {
             "endlinecolor": "#2a3f5f",
             "gridcolor": "white",
             "linecolor": "white",
             "minorgridcolor": "white",
             "startlinecolor": "#2a3f5f"
            },
            "baxis": {
             "endlinecolor": "#2a3f5f",
             "gridcolor": "white",
             "linecolor": "white",
             "minorgridcolor": "white",
             "startlinecolor": "#2a3f5f"
            },
            "type": "carpet"
           }
          ],
          "choropleth": [
           {
            "colorbar": {
             "outlinewidth": 0,
             "ticks": ""
            },
            "type": "choropleth"
           }
          ],
          "contour": [
           {
            "colorbar": {
             "outlinewidth": 0,
             "ticks": ""
            },
            "colorscale": [
             [
              0,
              "#0d0887"
             ],
             [
              0.1111111111111111,
              "#46039f"
             ],
             [
              0.2222222222222222,
              "#7201a8"
             ],
             [
              0.3333333333333333,
              "#9c179e"
             ],
             [
              0.4444444444444444,
              "#bd3786"
             ],
             [
              0.5555555555555556,
              "#d8576b"
             ],
             [
              0.6666666666666666,
              "#ed7953"
             ],
             [
              0.7777777777777778,
              "#fb9f3a"
             ],
             [
              0.8888888888888888,
              "#fdca26"
             ],
             [
              1,
              "#f0f921"
             ]
            ],
            "type": "contour"
           }
          ],
          "contourcarpet": [
           {
            "colorbar": {
             "outlinewidth": 0,
             "ticks": ""
            },
            "type": "contourcarpet"
           }
          ],
          "heatmap": [
           {
            "colorbar": {
             "outlinewidth": 0,
             "ticks": ""
            },
            "colorscale": [
             [
              0,
              "#0d0887"
             ],
             [
              0.1111111111111111,
              "#46039f"
             ],
             [
              0.2222222222222222,
              "#7201a8"
             ],
             [
              0.3333333333333333,
              "#9c179e"
             ],
             [
              0.4444444444444444,
              "#bd3786"
             ],
             [
              0.5555555555555556,
              "#d8576b"
             ],
             [
              0.6666666666666666,
              "#ed7953"
             ],
             [
              0.7777777777777778,
              "#fb9f3a"
             ],
             [
              0.8888888888888888,
              "#fdca26"
             ],
             [
              1,
              "#f0f921"
             ]
            ],
            "type": "heatmap"
           }
          ],
          "heatmapgl": [
           {
            "colorbar": {
             "outlinewidth": 0,
             "ticks": ""
            },
            "colorscale": [
             [
              0,
              "#0d0887"
             ],
             [
              0.1111111111111111,
              "#46039f"
             ],
             [
              0.2222222222222222,
              "#7201a8"
             ],
             [
              0.3333333333333333,
              "#9c179e"
             ],
             [
              0.4444444444444444,
              "#bd3786"
             ],
             [
              0.5555555555555556,
              "#d8576b"
             ],
             [
              0.6666666666666666,
              "#ed7953"
             ],
             [
              0.7777777777777778,
              "#fb9f3a"
             ],
             [
              0.8888888888888888,
              "#fdca26"
             ],
             [
              1,
              "#f0f921"
             ]
            ],
            "type": "heatmapgl"
           }
          ],
          "histogram": [
           {
            "marker": {
             "pattern": {
              "fillmode": "overlay",
              "size": 10,
              "solidity": 0.2
             }
            },
            "type": "histogram"
           }
          ],
          "histogram2d": [
           {
            "colorbar": {
             "outlinewidth": 0,
             "ticks": ""
            },
            "colorscale": [
             [
              0,
              "#0d0887"
             ],
             [
              0.1111111111111111,
              "#46039f"
             ],
             [
              0.2222222222222222,
              "#7201a8"
             ],
             [
              0.3333333333333333,
              "#9c179e"
             ],
             [
              0.4444444444444444,
              "#bd3786"
             ],
             [
              0.5555555555555556,
              "#d8576b"
             ],
             [
              0.6666666666666666,
              "#ed7953"
             ],
             [
              0.7777777777777778,
              "#fb9f3a"
             ],
             [
              0.8888888888888888,
              "#fdca26"
             ],
             [
              1,
              "#f0f921"
             ]
            ],
            "type": "histogram2d"
           }
          ],
          "histogram2dcontour": [
           {
            "colorbar": {
             "outlinewidth": 0,
             "ticks": ""
            },
            "colorscale": [
             [
              0,
              "#0d0887"
             ],
             [
              0.1111111111111111,
              "#46039f"
             ],
             [
              0.2222222222222222,
              "#7201a8"
             ],
             [
              0.3333333333333333,
              "#9c179e"
             ],
             [
              0.4444444444444444,
              "#bd3786"
             ],
             [
              0.5555555555555556,
              "#d8576b"
             ],
             [
              0.6666666666666666,
              "#ed7953"
             ],
             [
              0.7777777777777778,
              "#fb9f3a"
             ],
             [
              0.8888888888888888,
              "#fdca26"
             ],
             [
              1,
              "#f0f921"
             ]
            ],
            "type": "histogram2dcontour"
           }
          ],
          "mesh3d": [
           {
            "colorbar": {
             "outlinewidth": 0,
             "ticks": ""
            },
            "type": "mesh3d"
           }
          ],
          "parcoords": [
           {
            "line": {
             "colorbar": {
              "outlinewidth": 0,
              "ticks": ""
             }
            },
            "type": "parcoords"
           }
          ],
          "pie": [
           {
            "automargin": true,
            "type": "pie"
           }
          ],
          "scatter": [
           {
            "fillpattern": {
             "fillmode": "overlay",
             "size": 10,
             "solidity": 0.2
            },
            "type": "scatter"
           }
          ],
          "scatter3d": [
           {
            "line": {
             "colorbar": {
              "outlinewidth": 0,
              "ticks": ""
             }
            },
            "marker": {
             "colorbar": {
              "outlinewidth": 0,
              "ticks": ""
             }
            },
            "type": "scatter3d"
           }
          ],
          "scattercarpet": [
           {
            "marker": {
             "colorbar": {
              "outlinewidth": 0,
              "ticks": ""
             }
            },
            "type": "scattercarpet"
           }
          ],
          "scattergeo": [
           {
            "marker": {
             "colorbar": {
              "outlinewidth": 0,
              "ticks": ""
             }
            },
            "type": "scattergeo"
           }
          ],
          "scattergl": [
           {
            "marker": {
             "colorbar": {
              "outlinewidth": 0,
              "ticks": ""
             }
            },
            "type": "scattergl"
           }
          ],
          "scattermapbox": [
           {
            "marker": {
             "colorbar": {
              "outlinewidth": 0,
              "ticks": ""
             }
            },
            "type": "scattermapbox"
           }
          ],
          "scatterpolar": [
           {
            "marker": {
             "colorbar": {
              "outlinewidth": 0,
              "ticks": ""
             }
            },
            "type": "scatterpolar"
           }
          ],
          "scatterpolargl": [
           {
            "marker": {
             "colorbar": {
              "outlinewidth": 0,
              "ticks": ""
             }
            },
            "type": "scatterpolargl"
           }
          ],
          "scatterternary": [
           {
            "marker": {
             "colorbar": {
              "outlinewidth": 0,
              "ticks": ""
             }
            },
            "type": "scatterternary"
           }
          ],
          "surface": [
           {
            "colorbar": {
             "outlinewidth": 0,
             "ticks": ""
            },
            "colorscale": [
             [
              0,
              "#0d0887"
             ],
             [
              0.1111111111111111,
              "#46039f"
             ],
             [
              0.2222222222222222,
              "#7201a8"
             ],
             [
              0.3333333333333333,
              "#9c179e"
             ],
             [
              0.4444444444444444,
              "#bd3786"
             ],
             [
              0.5555555555555556,
              "#d8576b"
             ],
             [
              0.6666666666666666,
              "#ed7953"
             ],
             [
              0.7777777777777778,
              "#fb9f3a"
             ],
             [
              0.8888888888888888,
              "#fdca26"
             ],
             [
              1,
              "#f0f921"
             ]
            ],
            "type": "surface"
           }
          ],
          "table": [
           {
            "cells": {
             "fill": {
              "color": "#EBF0F8"
             },
             "line": {
              "color": "white"
             }
            },
            "header": {
             "fill": {
              "color": "#C8D4E3"
             },
             "line": {
              "color": "white"
             }
            },
            "type": "table"
           }
          ]
         },
         "layout": {
          "annotationdefaults": {
           "arrowcolor": "#2a3f5f",
           "arrowhead": 0,
           "arrowwidth": 1
          },
          "autotypenumbers": "strict",
          "coloraxis": {
           "colorbar": {
            "outlinewidth": 0,
            "ticks": ""
           }
          },
          "colorscale": {
           "diverging": [
            [
             0,
             "#8e0152"
            ],
            [
             0.1,
             "#c51b7d"
            ],
            [
             0.2,
             "#de77ae"
            ],
            [
             0.3,
             "#f1b6da"
            ],
            [
             0.4,
             "#fde0ef"
            ],
            [
             0.5,
             "#f7f7f7"
            ],
            [
             0.6,
             "#e6f5d0"
            ],
            [
             0.7,
             "#b8e186"
            ],
            [
             0.8,
             "#7fbc41"
            ],
            [
             0.9,
             "#4d9221"
            ],
            [
             1,
             "#276419"
            ]
           ],
           "sequential": [
            [
             0,
             "#0d0887"
            ],
            [
             0.1111111111111111,
             "#46039f"
            ],
            [
             0.2222222222222222,
             "#7201a8"
            ],
            [
             0.3333333333333333,
             "#9c179e"
            ],
            [
             0.4444444444444444,
             "#bd3786"
            ],
            [
             0.5555555555555556,
             "#d8576b"
            ],
            [
             0.6666666666666666,
             "#ed7953"
            ],
            [
             0.7777777777777778,
             "#fb9f3a"
            ],
            [
             0.8888888888888888,
             "#fdca26"
            ],
            [
             1,
             "#f0f921"
            ]
           ],
           "sequentialminus": [
            [
             0,
             "#0d0887"
            ],
            [
             0.1111111111111111,
             "#46039f"
            ],
            [
             0.2222222222222222,
             "#7201a8"
            ],
            [
             0.3333333333333333,
             "#9c179e"
            ],
            [
             0.4444444444444444,
             "#bd3786"
            ],
            [
             0.5555555555555556,
             "#d8576b"
            ],
            [
             0.6666666666666666,
             "#ed7953"
            ],
            [
             0.7777777777777778,
             "#fb9f3a"
            ],
            [
             0.8888888888888888,
             "#fdca26"
            ],
            [
             1,
             "#f0f921"
            ]
           ]
          },
          "colorway": [
           "#636efa",
           "#EF553B",
           "#00cc96",
           "#ab63fa",
           "#FFA15A",
           "#19d3f3",
           "#FF6692",
           "#B6E880",
           "#FF97FF",
           "#FECB52"
          ],
          "font": {
           "color": "#2a3f5f"
          },
          "geo": {
           "bgcolor": "white",
           "lakecolor": "white",
           "landcolor": "#E5ECF6",
           "showlakes": true,
           "showland": true,
           "subunitcolor": "white"
          },
          "hoverlabel": {
           "align": "left"
          },
          "hovermode": "closest",
          "mapbox": {
           "style": "light"
          },
          "paper_bgcolor": "white",
          "plot_bgcolor": "#E5ECF6",
          "polar": {
           "angularaxis": {
            "gridcolor": "white",
            "linecolor": "white",
            "ticks": ""
           },
           "bgcolor": "#E5ECF6",
           "radialaxis": {
            "gridcolor": "white",
            "linecolor": "white",
            "ticks": ""
           }
          },
          "scene": {
           "xaxis": {
            "backgroundcolor": "#E5ECF6",
            "gridcolor": "white",
            "gridwidth": 2,
            "linecolor": "white",
            "showbackground": true,
            "ticks": "",
            "zerolinecolor": "white"
           },
           "yaxis": {
            "backgroundcolor": "#E5ECF6",
            "gridcolor": "white",
            "gridwidth": 2,
            "linecolor": "white",
            "showbackground": true,
            "ticks": "",
            "zerolinecolor": "white"
           },
           "zaxis": {
            "backgroundcolor": "#E5ECF6",
            "gridcolor": "white",
            "gridwidth": 2,
            "linecolor": "white",
            "showbackground": true,
            "ticks": "",
            "zerolinecolor": "white"
           }
          },
          "shapedefaults": {
           "line": {
            "color": "#2a3f5f"
           }
          },
          "ternary": {
           "aaxis": {
            "gridcolor": "white",
            "linecolor": "white",
            "ticks": ""
           },
           "baxis": {
            "gridcolor": "white",
            "linecolor": "white",
            "ticks": ""
           },
           "bgcolor": "#E5ECF6",
           "caxis": {
            "gridcolor": "white",
            "linecolor": "white",
            "ticks": ""
           }
          },
          "title": {
           "x": 0.05
          },
          "xaxis": {
           "automargin": true,
           "gridcolor": "white",
           "linecolor": "white",
           "ticks": "",
           "title": {
            "standoff": 15
           },
           "zerolinecolor": "white",
           "zerolinewidth": 2
          },
          "yaxis": {
           "automargin": true,
           "gridcolor": "white",
           "linecolor": "white",
           "ticks": "",
           "title": {
            "standoff": 15
           },
           "zerolinecolor": "white",
           "zerolinewidth": 2
          }
         }
        },
        "xaxis": {
         "anchor": "y",
         "domain": [
          0,
          1
         ],
         "title": {
          "text": "F5"
         }
        },
        "yaxis": {
         "anchor": "x",
         "domain": [
          0,
          1
         ],
         "title": {
          "text": "F4"
         }
        }
       }
      }
     },
     "metadata": {},
     "output_type": "display_data"
    }
   ],
   "source": [
    "px.scatter(df_datos_Ptrans_st, x = 'F5', y = 'F4', color = 'dbcluster', hover_data=['Ciudad','dbcluster'])"
   ]
  },
  {
   "cell_type": "markdown",
   "metadata": {},
   "source": [
    "# Funcion cluster analysis para iterar por distintos methods de cluster"
   ]
  },
  {
   "cell_type": "code",
   "execution_count": 265,
   "metadata": {},
   "outputs": [],
   "source": [
    "from sklearn.metrics import silhouette_score"
   ]
  },
  {
   "cell_type": "code",
   "execution_count": 264,
   "metadata": {},
   "outputs": [],
   "source": [
    "# Function para implementar fit de un methodo cluster y obtener el score the silhoutte\n",
    "def cluster_analysis_score(cluster_method,df,n):\n",
    "    clus = cluster_method(n_clusters = n)\n",
    "    clus.fit(df)\n",
    "    labels = clus.labels_ \n",
    "    silhouette_avg = silhouette_score(df,labels)\n",
    "    return(silhouette_avg,labels)\n",
    "\n"
   ]
  },
  {
   "cell_type": "code",
   "execution_count": 305,
   "metadata": {},
   "outputs": [
    {
     "name": "stdout",
     "output_type": "stream",
     "text": [
      "0.21185623448121416\n"
     ]
    }
   ],
   "source": [
    "Ptrans_mm_1 = df_datos_Ptrans_mm.iloc[:,1:6]\n",
    "silo, labels = cluster_analysis_score(AgglomerativeClustering,Ptrans_mm_1,10)\n",
    "print(silo)"
   ]
  },
  {
   "cell_type": "code",
   "execution_count": 306,
   "metadata": {},
   "outputs": [
    {
     "name": "stdout",
     "output_type": "stream",
     "text": [
      "0.23478597673710377\n"
     ]
    }
   ],
   "source": [
    "Ptrans_mm_2 = df_datos_Ptrans_mm.iloc[:,1:4]\n",
    "silo, labels = cluster_analysis_score(AgglomerativeClustering,Ptrans_mm_2,4)                                          \n",
    "print(silo)\n"
   ]
  },
  {
   "cell_type": "code",
   "execution_count": 279,
   "metadata": {},
   "outputs": [],
   "source": [
    "datos_usos = datos_Ptrans.loc[:,  ['COM',\n",
    "       'ED_SING', 'EQUIP', 'IND', 'OCIO', 'OFI', 'RES_PLU', 'RES_UNI']]"
   ]
  },
  {
   "cell_type": "code",
   "execution_count": 303,
   "metadata": {},
   "outputs": [],
   "source": [
    "import copy"
   ]
  },
  {
   "cell_type": "code",
   "execution_count": 311,
   "metadata": {},
   "outputs": [],
   "source": [
    "## Iteracion por datos # \n",
    "## Esto se puede perfeccionar pero funciona. \n",
    "\n",
    "n_cluster = []\n",
    "lista_datos = [Ptrans_mm_1, Ptrans_mm_2, datos_usos]\n",
    "nombre_datos = ['Ptrans_mm_1', 'Ptrans_mm_2','datos_usos']\n",
    "sil_list = []\n",
    "num = []\n",
    "l_df1 = pd.DataFrame()\n",
    "l_df2 = pd.DataFrame()\n",
    "df_list = copy.deepcopy(lista_datos)\n",
    "numbers = [2,3,4,5,6,7,8,9,10]\n",
    "for number in numbers:\n",
    "    for index, item in enumerate(lista_datos):\n",
    "        n = number\n",
    "        sil, labels = cluster_analysis_score(AgglomerativeClustering, lista_datos[index], n)\n",
    "        num.append(n)\n",
    "        sil_list.append(sil)\n",
    "        df_name = \"AG\"+str(n)+nombre_datos[index]\n",
    "        df_list[index][df_name] = labels\n",
    "\n",
    "\n",
    "       "
   ]
  },
  {
   "cell_type": "code",
   "execution_count": 312,
   "metadata": {},
   "outputs": [],
   "source": [
    "for index, item in enumerate(df_list):\n",
    "    df_list[index]['Ciudades']  = datos_Ptrans.loc[:,['Ciudades']] \n"
   ]
  },
  {
   "cell_type": "code",
   "execution_count": 313,
   "metadata": {},
   "outputs": [
    {
     "data": {
      "text/html": [
       "<div>\n",
       "<style scoped>\n",
       "    .dataframe tbody tr th:only-of-type {\n",
       "        vertical-align: middle;\n",
       "    }\n",
       "\n",
       "    .dataframe tbody tr th {\n",
       "        vertical-align: top;\n",
       "    }\n",
       "\n",
       "    .dataframe thead th {\n",
       "        text-align: right;\n",
       "    }\n",
       "</style>\n",
       "<table border=\"1\" class=\"dataframe\">\n",
       "  <thead>\n",
       "    <tr style=\"text-align: right;\">\n",
       "      <th></th>\n",
       "      <th>F1</th>\n",
       "      <th>F2</th>\n",
       "      <th>F3</th>\n",
       "      <th>F4</th>\n",
       "      <th>F5</th>\n",
       "      <th>AG2Ptrans_mm_1</th>\n",
       "      <th>AG3Ptrans_mm_1</th>\n",
       "      <th>AG4Ptrans_mm_1</th>\n",
       "      <th>AG5Ptrans_mm_1</th>\n",
       "      <th>AG6Ptrans_mm_1</th>\n",
       "      <th>AG7Ptrans_mm_1</th>\n",
       "      <th>AG8Ptrans_mm_1</th>\n",
       "      <th>AG9Ptrans_mm_1</th>\n",
       "      <th>AG10Ptrans_mm_1</th>\n",
       "      <th>Ciudades</th>\n",
       "    </tr>\n",
       "  </thead>\n",
       "  <tbody>\n",
       "    <tr>\n",
       "      <th>0</th>\n",
       "      <td>0.456580</td>\n",
       "      <td>0.607890</td>\n",
       "      <td>0.479798</td>\n",
       "      <td>0.677869</td>\n",
       "      <td>0.551441</td>\n",
       "      <td>0</td>\n",
       "      <td>0</td>\n",
       "      <td>2</td>\n",
       "      <td>0</td>\n",
       "      <td>5</td>\n",
       "      <td>5</td>\n",
       "      <td>5</td>\n",
       "      <td>5</td>\n",
       "      <td>5</td>\n",
       "      <td>Albacete</td>\n",
       "    </tr>\n",
       "    <tr>\n",
       "      <th>1</th>\n",
       "      <td>0.304864</td>\n",
       "      <td>0.560888</td>\n",
       "      <td>0.406081</td>\n",
       "      <td>0.259417</td>\n",
       "      <td>0.492855</td>\n",
       "      <td>0</td>\n",
       "      <td>0</td>\n",
       "      <td>1</td>\n",
       "      <td>1</td>\n",
       "      <td>1</td>\n",
       "      <td>0</td>\n",
       "      <td>7</td>\n",
       "      <td>7</td>\n",
       "      <td>3</td>\n",
       "      <td>Alcalá de Henares</td>\n",
       "    </tr>\n",
       "    <tr>\n",
       "      <th>2</th>\n",
       "      <td>0.403916</td>\n",
       "      <td>0.554543</td>\n",
       "      <td>0.180514</td>\n",
       "      <td>0.755331</td>\n",
       "      <td>0.492855</td>\n",
       "      <td>0</td>\n",
       "      <td>2</td>\n",
       "      <td>0</td>\n",
       "      <td>2</td>\n",
       "      <td>0</td>\n",
       "      <td>1</td>\n",
       "      <td>0</td>\n",
       "      <td>8</td>\n",
       "      <td>8</td>\n",
       "      <td>Alcobendas</td>\n",
       "    </tr>\n",
       "    <tr>\n",
       "      <th>3</th>\n",
       "      <td>0.569109</td>\n",
       "      <td>0.532872</td>\n",
       "      <td>0.302310</td>\n",
       "      <td>0.233135</td>\n",
       "      <td>0.569546</td>\n",
       "      <td>0</td>\n",
       "      <td>0</td>\n",
       "      <td>1</td>\n",
       "      <td>1</td>\n",
       "      <td>1</td>\n",
       "      <td>0</td>\n",
       "      <td>7</td>\n",
       "      <td>7</td>\n",
       "      <td>3</td>\n",
       "      <td>Alcorcón</td>\n",
       "    </tr>\n",
       "    <tr>\n",
       "      <th>4</th>\n",
       "      <td>0.222185</td>\n",
       "      <td>0.639836</td>\n",
       "      <td>0.406158</td>\n",
       "      <td>0.924669</td>\n",
       "      <td>0.096409</td>\n",
       "      <td>1</td>\n",
       "      <td>1</td>\n",
       "      <td>3</td>\n",
       "      <td>3</td>\n",
       "      <td>3</td>\n",
       "      <td>3</td>\n",
       "      <td>3</td>\n",
       "      <td>3</td>\n",
       "      <td>1</td>\n",
       "      <td>Algeciras</td>\n",
       "    </tr>\n",
       "    <tr>\n",
       "      <th>...</th>\n",
       "      <td>...</td>\n",
       "      <td>...</td>\n",
       "      <td>...</td>\n",
       "      <td>...</td>\n",
       "      <td>...</td>\n",
       "      <td>...</td>\n",
       "      <td>...</td>\n",
       "      <td>...</td>\n",
       "      <td>...</td>\n",
       "      <td>...</td>\n",
       "      <td>...</td>\n",
       "      <td>...</td>\n",
       "      <td>...</td>\n",
       "      <td>...</td>\n",
       "      <td>...</td>\n",
       "    </tr>\n",
       "    <tr>\n",
       "      <th>67</th>\n",
       "      <td>0.876660</td>\n",
       "      <td>0.583988</td>\n",
       "      <td>0.798597</td>\n",
       "      <td>0.246321</td>\n",
       "      <td>0.311259</td>\n",
       "      <td>0</td>\n",
       "      <td>0</td>\n",
       "      <td>1</td>\n",
       "      <td>1</td>\n",
       "      <td>1</td>\n",
       "      <td>0</td>\n",
       "      <td>1</td>\n",
       "      <td>1</td>\n",
       "      <td>0</td>\n",
       "      <td>Valencia</td>\n",
       "    </tr>\n",
       "    <tr>\n",
       "      <th>68</th>\n",
       "      <td>0.448438</td>\n",
       "      <td>0.503083</td>\n",
       "      <td>0.566250</td>\n",
       "      <td>0.403585</td>\n",
       "      <td>0.608505</td>\n",
       "      <td>0</td>\n",
       "      <td>0</td>\n",
       "      <td>1</td>\n",
       "      <td>1</td>\n",
       "      <td>1</td>\n",
       "      <td>0</td>\n",
       "      <td>7</td>\n",
       "      <td>7</td>\n",
       "      <td>3</td>\n",
       "      <td>Valladolid</td>\n",
       "    </tr>\n",
       "    <tr>\n",
       "      <th>69</th>\n",
       "      <td>0.424973</td>\n",
       "      <td>0.461387</td>\n",
       "      <td>0.711605</td>\n",
       "      <td>0.834688</td>\n",
       "      <td>0.242853</td>\n",
       "      <td>1</td>\n",
       "      <td>1</td>\n",
       "      <td>3</td>\n",
       "      <td>3</td>\n",
       "      <td>3</td>\n",
       "      <td>3</td>\n",
       "      <td>3</td>\n",
       "      <td>3</td>\n",
       "      <td>1</td>\n",
       "      <td>Vigo</td>\n",
       "    </tr>\n",
       "    <tr>\n",
       "      <th>70</th>\n",
       "      <td>0.473067</td>\n",
       "      <td>0.304139</td>\n",
       "      <td>0.221745</td>\n",
       "      <td>0.478407</td>\n",
       "      <td>0.699787</td>\n",
       "      <td>0</td>\n",
       "      <td>2</td>\n",
       "      <td>0</td>\n",
       "      <td>2</td>\n",
       "      <td>0</td>\n",
       "      <td>1</td>\n",
       "      <td>0</td>\n",
       "      <td>2</td>\n",
       "      <td>2</td>\n",
       "      <td>Zamora</td>\n",
       "    </tr>\n",
       "    <tr>\n",
       "      <th>71</th>\n",
       "      <td>0.537528</td>\n",
       "      <td>0.651567</td>\n",
       "      <td>0.734932</td>\n",
       "      <td>0.372281</td>\n",
       "      <td>0.468692</td>\n",
       "      <td>0</td>\n",
       "      <td>0</td>\n",
       "      <td>1</td>\n",
       "      <td>1</td>\n",
       "      <td>1</td>\n",
       "      <td>0</td>\n",
       "      <td>7</td>\n",
       "      <td>7</td>\n",
       "      <td>3</td>\n",
       "      <td>Zaragoza</td>\n",
       "    </tr>\n",
       "  </tbody>\n",
       "</table>\n",
       "<p>72 rows × 15 columns</p>\n",
       "</div>"
      ],
      "text/plain": [
       "          F1        F2        F3        F4        F5  AG2Ptrans_mm_1  \\\n",
       "0   0.456580  0.607890  0.479798  0.677869  0.551441               0   \n",
       "1   0.304864  0.560888  0.406081  0.259417  0.492855               0   \n",
       "2   0.403916  0.554543  0.180514  0.755331  0.492855               0   \n",
       "3   0.569109  0.532872  0.302310  0.233135  0.569546               0   \n",
       "4   0.222185  0.639836  0.406158  0.924669  0.096409               1   \n",
       "..       ...       ...       ...       ...       ...             ...   \n",
       "67  0.876660  0.583988  0.798597  0.246321  0.311259               0   \n",
       "68  0.448438  0.503083  0.566250  0.403585  0.608505               0   \n",
       "69  0.424973  0.461387  0.711605  0.834688  0.242853               1   \n",
       "70  0.473067  0.304139  0.221745  0.478407  0.699787               0   \n",
       "71  0.537528  0.651567  0.734932  0.372281  0.468692               0   \n",
       "\n",
       "    AG3Ptrans_mm_1  AG4Ptrans_mm_1  AG5Ptrans_mm_1  AG6Ptrans_mm_1  \\\n",
       "0                0               2               0               5   \n",
       "1                0               1               1               1   \n",
       "2                2               0               2               0   \n",
       "3                0               1               1               1   \n",
       "4                1               3               3               3   \n",
       "..             ...             ...             ...             ...   \n",
       "67               0               1               1               1   \n",
       "68               0               1               1               1   \n",
       "69               1               3               3               3   \n",
       "70               2               0               2               0   \n",
       "71               0               1               1               1   \n",
       "\n",
       "    AG7Ptrans_mm_1  AG8Ptrans_mm_1  AG9Ptrans_mm_1  AG10Ptrans_mm_1  \\\n",
       "0                5               5               5                5   \n",
       "1                0               7               7                3   \n",
       "2                1               0               8                8   \n",
       "3                0               7               7                3   \n",
       "4                3               3               3                1   \n",
       "..             ...             ...             ...              ...   \n",
       "67               0               1               1                0   \n",
       "68               0               7               7                3   \n",
       "69               3               3               3                1   \n",
       "70               1               0               2                2   \n",
       "71               0               7               7                3   \n",
       "\n",
       "             Ciudades  \n",
       "0            Albacete  \n",
       "1   Alcalá de Henares  \n",
       "2          Alcobendas  \n",
       "3            Alcorcón  \n",
       "4           Algeciras  \n",
       "..                ...  \n",
       "67           Valencia  \n",
       "68         Valladolid  \n",
       "69               Vigo  \n",
       "70             Zamora  \n",
       "71           Zaragoza  \n",
       "\n",
       "[72 rows x 15 columns]"
      ]
     },
     "execution_count": 313,
     "metadata": {},
     "output_type": "execute_result"
    }
   ],
   "source": [
    "df_list[0]"
   ]
  },
  {
   "cell_type": "code",
   "execution_count": 314,
   "metadata": {},
   "outputs": [
    {
     "data": {
      "text/plain": [
       "[0.27741132911550753,\n",
       " 0.3063735318524567,\n",
       " 0.1706744135200078,\n",
       " 0.20456745565620385,\n",
       " 0.2573739142545347,\n",
       " 0.11809003788396234,\n",
       " 0.2153242771733276,\n",
       " 0.23478597673710377,\n",
       " 0.12882431275483472,\n",
       " 0.22181845685193535,\n",
       " 0.24755744395822335,\n",
       " 0.11613176561833446,\n",
       " 0.189792224685659,\n",
       " 0.2632192985015066,\n",
       " 0.11917763375416356,\n",
       " 0.1943346265030498,\n",
       " 0.277741539376704,\n",
       " 0.11752986147117792,\n",
       " 0.19708718385318028,\n",
       " 0.2934471278614014,\n",
       " 0.1189896493489379,\n",
       " 0.2066955517803165,\n",
       " 0.3035529574499013,\n",
       " 0.12400841500613557,\n",
       " 0.21185623448121416,\n",
       " 0.31195401406710516,\n",
       " 0.1250758769263881]"
      ]
     },
     "execution_count": 314,
     "metadata": {},
     "output_type": "execute_result"
    }
   ],
   "source": [
    "sil_list"
   ]
  },
  {
   "cell_type": "code",
   "execution_count": 254,
   "metadata": {},
   "outputs": [],
   "source": [
    "lista_datos = [Ptrans_mm_1, Ptrans_mm_2]\n"
   ]
  },
  {
   "cell_type": "code",
   "execution_count": 315,
   "metadata": {},
   "outputs": [
    {
     "data": {
      "text/html": [
       "<div>\n",
       "<style scoped>\n",
       "    .dataframe tbody tr th:only-of-type {\n",
       "        vertical-align: middle;\n",
       "    }\n",
       "\n",
       "    .dataframe tbody tr th {\n",
       "        vertical-align: top;\n",
       "    }\n",
       "\n",
       "    .dataframe thead th {\n",
       "        text-align: right;\n",
       "    }\n",
       "</style>\n",
       "<table border=\"1\" class=\"dataframe\">\n",
       "  <thead>\n",
       "    <tr style=\"text-align: right;\">\n",
       "      <th></th>\n",
       "      <th>Data</th>\n",
       "      <th>Sil_Score</th>\n",
       "      <th>n_clusters</th>\n",
       "    </tr>\n",
       "  </thead>\n",
       "  <tbody>\n",
       "    <tr>\n",
       "      <th>0</th>\n",
       "      <td>Ptrans_mm_1</td>\n",
       "      <td>0.277411</td>\n",
       "      <td>2</td>\n",
       "    </tr>\n",
       "    <tr>\n",
       "      <th>1</th>\n",
       "      <td>Ptrans_mm_2</td>\n",
       "      <td>0.306374</td>\n",
       "      <td>2</td>\n",
       "    </tr>\n",
       "    <tr>\n",
       "      <th>2</th>\n",
       "      <td>datos_usos</td>\n",
       "      <td>0.170674</td>\n",
       "      <td>2</td>\n",
       "    </tr>\n",
       "    <tr>\n",
       "      <th>3</th>\n",
       "      <td>Ptrans_mm_1</td>\n",
       "      <td>0.204567</td>\n",
       "      <td>3</td>\n",
       "    </tr>\n",
       "    <tr>\n",
       "      <th>4</th>\n",
       "      <td>Ptrans_mm_2</td>\n",
       "      <td>0.257374</td>\n",
       "      <td>3</td>\n",
       "    </tr>\n",
       "    <tr>\n",
       "      <th>5</th>\n",
       "      <td>datos_usos</td>\n",
       "      <td>0.118090</td>\n",
       "      <td>3</td>\n",
       "    </tr>\n",
       "    <tr>\n",
       "      <th>6</th>\n",
       "      <td>Ptrans_mm_1</td>\n",
       "      <td>0.215324</td>\n",
       "      <td>4</td>\n",
       "    </tr>\n",
       "    <tr>\n",
       "      <th>7</th>\n",
       "      <td>Ptrans_mm_2</td>\n",
       "      <td>0.234786</td>\n",
       "      <td>4</td>\n",
       "    </tr>\n",
       "    <tr>\n",
       "      <th>8</th>\n",
       "      <td>datos_usos</td>\n",
       "      <td>0.128824</td>\n",
       "      <td>4</td>\n",
       "    </tr>\n",
       "    <tr>\n",
       "      <th>9</th>\n",
       "      <td>Ptrans_mm_1</td>\n",
       "      <td>0.221818</td>\n",
       "      <td>5</td>\n",
       "    </tr>\n",
       "    <tr>\n",
       "      <th>10</th>\n",
       "      <td>Ptrans_mm_2</td>\n",
       "      <td>0.247557</td>\n",
       "      <td>5</td>\n",
       "    </tr>\n",
       "    <tr>\n",
       "      <th>11</th>\n",
       "      <td>datos_usos</td>\n",
       "      <td>0.116132</td>\n",
       "      <td>5</td>\n",
       "    </tr>\n",
       "    <tr>\n",
       "      <th>12</th>\n",
       "      <td>Ptrans_mm_1</td>\n",
       "      <td>0.189792</td>\n",
       "      <td>6</td>\n",
       "    </tr>\n",
       "    <tr>\n",
       "      <th>13</th>\n",
       "      <td>Ptrans_mm_2</td>\n",
       "      <td>0.263219</td>\n",
       "      <td>6</td>\n",
       "    </tr>\n",
       "    <tr>\n",
       "      <th>14</th>\n",
       "      <td>datos_usos</td>\n",
       "      <td>0.119178</td>\n",
       "      <td>6</td>\n",
       "    </tr>\n",
       "    <tr>\n",
       "      <th>15</th>\n",
       "      <td>Ptrans_mm_1</td>\n",
       "      <td>0.194335</td>\n",
       "      <td>7</td>\n",
       "    </tr>\n",
       "    <tr>\n",
       "      <th>16</th>\n",
       "      <td>Ptrans_mm_2</td>\n",
       "      <td>0.277742</td>\n",
       "      <td>7</td>\n",
       "    </tr>\n",
       "    <tr>\n",
       "      <th>17</th>\n",
       "      <td>datos_usos</td>\n",
       "      <td>0.117530</td>\n",
       "      <td>7</td>\n",
       "    </tr>\n",
       "    <tr>\n",
       "      <th>18</th>\n",
       "      <td>Ptrans_mm_1</td>\n",
       "      <td>0.197087</td>\n",
       "      <td>8</td>\n",
       "    </tr>\n",
       "    <tr>\n",
       "      <th>19</th>\n",
       "      <td>Ptrans_mm_2</td>\n",
       "      <td>0.293447</td>\n",
       "      <td>8</td>\n",
       "    </tr>\n",
       "    <tr>\n",
       "      <th>20</th>\n",
       "      <td>datos_usos</td>\n",
       "      <td>0.118990</td>\n",
       "      <td>8</td>\n",
       "    </tr>\n",
       "    <tr>\n",
       "      <th>21</th>\n",
       "      <td>Ptrans_mm_1</td>\n",
       "      <td>0.206696</td>\n",
       "      <td>9</td>\n",
       "    </tr>\n",
       "    <tr>\n",
       "      <th>22</th>\n",
       "      <td>Ptrans_mm_2</td>\n",
       "      <td>0.303553</td>\n",
       "      <td>9</td>\n",
       "    </tr>\n",
       "    <tr>\n",
       "      <th>23</th>\n",
       "      <td>datos_usos</td>\n",
       "      <td>0.124008</td>\n",
       "      <td>9</td>\n",
       "    </tr>\n",
       "    <tr>\n",
       "      <th>24</th>\n",
       "      <td>Ptrans_mm_1</td>\n",
       "      <td>0.211856</td>\n",
       "      <td>10</td>\n",
       "    </tr>\n",
       "    <tr>\n",
       "      <th>25</th>\n",
       "      <td>Ptrans_mm_2</td>\n",
       "      <td>0.311954</td>\n",
       "      <td>10</td>\n",
       "    </tr>\n",
       "    <tr>\n",
       "      <th>26</th>\n",
       "      <td>datos_usos</td>\n",
       "      <td>0.125076</td>\n",
       "      <td>10</td>\n",
       "    </tr>\n",
       "  </tbody>\n",
       "</table>\n",
       "</div>"
      ],
      "text/plain": [
       "           Data  Sil_Score  n_clusters\n",
       "0   Ptrans_mm_1   0.277411           2\n",
       "1   Ptrans_mm_2   0.306374           2\n",
       "2    datos_usos   0.170674           2\n",
       "3   Ptrans_mm_1   0.204567           3\n",
       "4   Ptrans_mm_2   0.257374           3\n",
       "5    datos_usos   0.118090           3\n",
       "6   Ptrans_mm_1   0.215324           4\n",
       "7   Ptrans_mm_2   0.234786           4\n",
       "8    datos_usos   0.128824           4\n",
       "9   Ptrans_mm_1   0.221818           5\n",
       "10  Ptrans_mm_2   0.247557           5\n",
       "11   datos_usos   0.116132           5\n",
       "12  Ptrans_mm_1   0.189792           6\n",
       "13  Ptrans_mm_2   0.263219           6\n",
       "14   datos_usos   0.119178           6\n",
       "15  Ptrans_mm_1   0.194335           7\n",
       "16  Ptrans_mm_2   0.277742           7\n",
       "17   datos_usos   0.117530           7\n",
       "18  Ptrans_mm_1   0.197087           8\n",
       "19  Ptrans_mm_2   0.293447           8\n",
       "20   datos_usos   0.118990           8\n",
       "21  Ptrans_mm_1   0.206696           9\n",
       "22  Ptrans_mm_2   0.303553           9\n",
       "23   datos_usos   0.124008           9\n",
       "24  Ptrans_mm_1   0.211856          10\n",
       "25  Ptrans_mm_2   0.311954          10\n",
       "26   datos_usos   0.125076          10"
      ]
     },
     "execution_count": 315,
     "metadata": {},
     "output_type": "execute_result"
    }
   ],
   "source": [
    "pd.DataFrame({'Data': 9*nombre_datos, \"Sil_Score\": sil_list, \"n_clusters\" : num})"
   ]
  },
  {
   "cell_type": "code",
   "execution_count": 318,
   "metadata": {},
   "outputs": [
    {
     "data": {
      "text/html": [
       "<div>\n",
       "<style scoped>\n",
       "    .dataframe tbody tr th:only-of-type {\n",
       "        vertical-align: middle;\n",
       "    }\n",
       "\n",
       "    .dataframe tbody tr th {\n",
       "        vertical-align: top;\n",
       "    }\n",
       "\n",
       "    .dataframe thead th {\n",
       "        text-align: right;\n",
       "    }\n",
       "</style>\n",
       "<table border=\"1\" class=\"dataframe\">\n",
       "  <thead>\n",
       "    <tr style=\"text-align: right;\">\n",
       "      <th></th>\n",
       "      <th>F1</th>\n",
       "      <th>F2</th>\n",
       "      <th>F3</th>\n",
       "      <th>F4</th>\n",
       "      <th>F5</th>\n",
       "    </tr>\n",
       "  </thead>\n",
       "  <tbody>\n",
       "    <tr>\n",
       "      <th>0</th>\n",
       "      <td>0.456580</td>\n",
       "      <td>0.607890</td>\n",
       "      <td>0.479798</td>\n",
       "      <td>0.677869</td>\n",
       "      <td>0.551441</td>\n",
       "    </tr>\n",
       "    <tr>\n",
       "      <th>1</th>\n",
       "      <td>0.304864</td>\n",
       "      <td>0.560888</td>\n",
       "      <td>0.406081</td>\n",
       "      <td>0.259417</td>\n",
       "      <td>0.492855</td>\n",
       "    </tr>\n",
       "    <tr>\n",
       "      <th>2</th>\n",
       "      <td>0.403916</td>\n",
       "      <td>0.554543</td>\n",
       "      <td>0.180514</td>\n",
       "      <td>0.755331</td>\n",
       "      <td>0.492855</td>\n",
       "    </tr>\n",
       "    <tr>\n",
       "      <th>3</th>\n",
       "      <td>0.569109</td>\n",
       "      <td>0.532872</td>\n",
       "      <td>0.302310</td>\n",
       "      <td>0.233135</td>\n",
       "      <td>0.569546</td>\n",
       "    </tr>\n",
       "    <tr>\n",
       "      <th>4</th>\n",
       "      <td>0.222185</td>\n",
       "      <td>0.639836</td>\n",
       "      <td>0.406158</td>\n",
       "      <td>0.924669</td>\n",
       "      <td>0.096409</td>\n",
       "    </tr>\n",
       "    <tr>\n",
       "      <th>...</th>\n",
       "      <td>...</td>\n",
       "      <td>...</td>\n",
       "      <td>...</td>\n",
       "      <td>...</td>\n",
       "      <td>...</td>\n",
       "    </tr>\n",
       "    <tr>\n",
       "      <th>67</th>\n",
       "      <td>0.876660</td>\n",
       "      <td>0.583988</td>\n",
       "      <td>0.798597</td>\n",
       "      <td>0.246321</td>\n",
       "      <td>0.311259</td>\n",
       "    </tr>\n",
       "    <tr>\n",
       "      <th>68</th>\n",
       "      <td>0.448438</td>\n",
       "      <td>0.503083</td>\n",
       "      <td>0.566250</td>\n",
       "      <td>0.403585</td>\n",
       "      <td>0.608505</td>\n",
       "    </tr>\n",
       "    <tr>\n",
       "      <th>69</th>\n",
       "      <td>0.424973</td>\n",
       "      <td>0.461387</td>\n",
       "      <td>0.711605</td>\n",
       "      <td>0.834688</td>\n",
       "      <td>0.242853</td>\n",
       "    </tr>\n",
       "    <tr>\n",
       "      <th>70</th>\n",
       "      <td>0.473067</td>\n",
       "      <td>0.304139</td>\n",
       "      <td>0.221745</td>\n",
       "      <td>0.478407</td>\n",
       "      <td>0.699787</td>\n",
       "    </tr>\n",
       "    <tr>\n",
       "      <th>71</th>\n",
       "      <td>0.537528</td>\n",
       "      <td>0.651567</td>\n",
       "      <td>0.734932</td>\n",
       "      <td>0.372281</td>\n",
       "      <td>0.468692</td>\n",
       "    </tr>\n",
       "  </tbody>\n",
       "</table>\n",
       "<p>72 rows × 5 columns</p>\n",
       "</div>"
      ],
      "text/plain": [
       "          F1        F2        F3        F4        F5\n",
       "0   0.456580  0.607890  0.479798  0.677869  0.551441\n",
       "1   0.304864  0.560888  0.406081  0.259417  0.492855\n",
       "2   0.403916  0.554543  0.180514  0.755331  0.492855\n",
       "3   0.569109  0.532872  0.302310  0.233135  0.569546\n",
       "4   0.222185  0.639836  0.406158  0.924669  0.096409\n",
       "..       ...       ...       ...       ...       ...\n",
       "67  0.876660  0.583988  0.798597  0.246321  0.311259\n",
       "68  0.448438  0.503083  0.566250  0.403585  0.608505\n",
       "69  0.424973  0.461387  0.711605  0.834688  0.242853\n",
       "70  0.473067  0.304139  0.221745  0.478407  0.699787\n",
       "71  0.537528  0.651567  0.734932  0.372281  0.468692\n",
       "\n",
       "[72 rows x 5 columns]"
      ]
     },
     "execution_count": 318,
     "metadata": {},
     "output_type": "execute_result"
    }
   ],
   "source": [
    "lista_datos[0]"
   ]
  },
  {
   "cell_type": "code",
   "execution_count": 333,
   "metadata": {},
   "outputs": [
    {
     "data": {
      "text/html": [
       "<div>\n",
       "<style scoped>\n",
       "    .dataframe tbody tr th:only-of-type {\n",
       "        vertical-align: middle;\n",
       "    }\n",
       "\n",
       "    .dataframe tbody tr th {\n",
       "        vertical-align: top;\n",
       "    }\n",
       "\n",
       "    .dataframe thead th {\n",
       "        text-align: right;\n",
       "    }\n",
       "</style>\n",
       "<table border=\"1\" class=\"dataframe\">\n",
       "  <thead>\n",
       "    <tr style=\"text-align: right;\">\n",
       "      <th></th>\n",
       "      <th>F1</th>\n",
       "      <th>F2</th>\n",
       "      <th>F3</th>\n",
       "      <th>F4</th>\n",
       "      <th>F5</th>\n",
       "      <th>AG2Ptrans_mm_1</th>\n",
       "      <th>AG3Ptrans_mm_1</th>\n",
       "      <th>AG4Ptrans_mm_1</th>\n",
       "      <th>AG5Ptrans_mm_1</th>\n",
       "      <th>AG6Ptrans_mm_1</th>\n",
       "      <th>AG7Ptrans_mm_1</th>\n",
       "      <th>AG8Ptrans_mm_1</th>\n",
       "      <th>AG9Ptrans_mm_1</th>\n",
       "      <th>AG10Ptrans_mm_1</th>\n",
       "      <th>Ciudades</th>\n",
       "    </tr>\n",
       "  </thead>\n",
       "  <tbody>\n",
       "    <tr>\n",
       "      <th>0</th>\n",
       "      <td>0.456580</td>\n",
       "      <td>0.607890</td>\n",
       "      <td>0.479798</td>\n",
       "      <td>0.677869</td>\n",
       "      <td>0.551441</td>\n",
       "      <td>0</td>\n",
       "      <td>0</td>\n",
       "      <td>2</td>\n",
       "      <td>0</td>\n",
       "      <td>5</td>\n",
       "      <td>5</td>\n",
       "      <td>5</td>\n",
       "      <td>5</td>\n",
       "      <td>5</td>\n",
       "      <td>Albacete</td>\n",
       "    </tr>\n",
       "    <tr>\n",
       "      <th>1</th>\n",
       "      <td>0.304864</td>\n",
       "      <td>0.560888</td>\n",
       "      <td>0.406081</td>\n",
       "      <td>0.259417</td>\n",
       "      <td>0.492855</td>\n",
       "      <td>0</td>\n",
       "      <td>0</td>\n",
       "      <td>1</td>\n",
       "      <td>1</td>\n",
       "      <td>1</td>\n",
       "      <td>0</td>\n",
       "      <td>7</td>\n",
       "      <td>7</td>\n",
       "      <td>3</td>\n",
       "      <td>Alcalá de Henares</td>\n",
       "    </tr>\n",
       "    <tr>\n",
       "      <th>2</th>\n",
       "      <td>0.403916</td>\n",
       "      <td>0.554543</td>\n",
       "      <td>0.180514</td>\n",
       "      <td>0.755331</td>\n",
       "      <td>0.492855</td>\n",
       "      <td>0</td>\n",
       "      <td>2</td>\n",
       "      <td>0</td>\n",
       "      <td>2</td>\n",
       "      <td>0</td>\n",
       "      <td>1</td>\n",
       "      <td>0</td>\n",
       "      <td>8</td>\n",
       "      <td>8</td>\n",
       "      <td>Alcobendas</td>\n",
       "    </tr>\n",
       "    <tr>\n",
       "      <th>3</th>\n",
       "      <td>0.569109</td>\n",
       "      <td>0.532872</td>\n",
       "      <td>0.302310</td>\n",
       "      <td>0.233135</td>\n",
       "      <td>0.569546</td>\n",
       "      <td>0</td>\n",
       "      <td>0</td>\n",
       "      <td>1</td>\n",
       "      <td>1</td>\n",
       "      <td>1</td>\n",
       "      <td>0</td>\n",
       "      <td>7</td>\n",
       "      <td>7</td>\n",
       "      <td>3</td>\n",
       "      <td>Alcorcón</td>\n",
       "    </tr>\n",
       "    <tr>\n",
       "      <th>4</th>\n",
       "      <td>0.222185</td>\n",
       "      <td>0.639836</td>\n",
       "      <td>0.406158</td>\n",
       "      <td>0.924669</td>\n",
       "      <td>0.096409</td>\n",
       "      <td>1</td>\n",
       "      <td>1</td>\n",
       "      <td>3</td>\n",
       "      <td>3</td>\n",
       "      <td>3</td>\n",
       "      <td>3</td>\n",
       "      <td>3</td>\n",
       "      <td>3</td>\n",
       "      <td>1</td>\n",
       "      <td>Algeciras</td>\n",
       "    </tr>\n",
       "    <tr>\n",
       "      <th>...</th>\n",
       "      <td>...</td>\n",
       "      <td>...</td>\n",
       "      <td>...</td>\n",
       "      <td>...</td>\n",
       "      <td>...</td>\n",
       "      <td>...</td>\n",
       "      <td>...</td>\n",
       "      <td>...</td>\n",
       "      <td>...</td>\n",
       "      <td>...</td>\n",
       "      <td>...</td>\n",
       "      <td>...</td>\n",
       "      <td>...</td>\n",
       "      <td>...</td>\n",
       "      <td>...</td>\n",
       "    </tr>\n",
       "    <tr>\n",
       "      <th>67</th>\n",
       "      <td>0.876660</td>\n",
       "      <td>0.583988</td>\n",
       "      <td>0.798597</td>\n",
       "      <td>0.246321</td>\n",
       "      <td>0.311259</td>\n",
       "      <td>0</td>\n",
       "      <td>0</td>\n",
       "      <td>1</td>\n",
       "      <td>1</td>\n",
       "      <td>1</td>\n",
       "      <td>0</td>\n",
       "      <td>1</td>\n",
       "      <td>1</td>\n",
       "      <td>0</td>\n",
       "      <td>Valencia</td>\n",
       "    </tr>\n",
       "    <tr>\n",
       "      <th>68</th>\n",
       "      <td>0.448438</td>\n",
       "      <td>0.503083</td>\n",
       "      <td>0.566250</td>\n",
       "      <td>0.403585</td>\n",
       "      <td>0.608505</td>\n",
       "      <td>0</td>\n",
       "      <td>0</td>\n",
       "      <td>1</td>\n",
       "      <td>1</td>\n",
       "      <td>1</td>\n",
       "      <td>0</td>\n",
       "      <td>7</td>\n",
       "      <td>7</td>\n",
       "      <td>3</td>\n",
       "      <td>Valladolid</td>\n",
       "    </tr>\n",
       "    <tr>\n",
       "      <th>69</th>\n",
       "      <td>0.424973</td>\n",
       "      <td>0.461387</td>\n",
       "      <td>0.711605</td>\n",
       "      <td>0.834688</td>\n",
       "      <td>0.242853</td>\n",
       "      <td>1</td>\n",
       "      <td>1</td>\n",
       "      <td>3</td>\n",
       "      <td>3</td>\n",
       "      <td>3</td>\n",
       "      <td>3</td>\n",
       "      <td>3</td>\n",
       "      <td>3</td>\n",
       "      <td>1</td>\n",
       "      <td>Vigo</td>\n",
       "    </tr>\n",
       "    <tr>\n",
       "      <th>70</th>\n",
       "      <td>0.473067</td>\n",
       "      <td>0.304139</td>\n",
       "      <td>0.221745</td>\n",
       "      <td>0.478407</td>\n",
       "      <td>0.699787</td>\n",
       "      <td>0</td>\n",
       "      <td>2</td>\n",
       "      <td>0</td>\n",
       "      <td>2</td>\n",
       "      <td>0</td>\n",
       "      <td>1</td>\n",
       "      <td>0</td>\n",
       "      <td>2</td>\n",
       "      <td>2</td>\n",
       "      <td>Zamora</td>\n",
       "    </tr>\n",
       "    <tr>\n",
       "      <th>71</th>\n",
       "      <td>0.537528</td>\n",
       "      <td>0.651567</td>\n",
       "      <td>0.734932</td>\n",
       "      <td>0.372281</td>\n",
       "      <td>0.468692</td>\n",
       "      <td>0</td>\n",
       "      <td>0</td>\n",
       "      <td>1</td>\n",
       "      <td>1</td>\n",
       "      <td>1</td>\n",
       "      <td>0</td>\n",
       "      <td>7</td>\n",
       "      <td>7</td>\n",
       "      <td>3</td>\n",
       "      <td>Zaragoza</td>\n",
       "    </tr>\n",
       "  </tbody>\n",
       "</table>\n",
       "<p>72 rows × 15 columns</p>\n",
       "</div>"
      ],
      "text/plain": [
       "          F1        F2        F3        F4        F5  AG2Ptrans_mm_1  \\\n",
       "0   0.456580  0.607890  0.479798  0.677869  0.551441               0   \n",
       "1   0.304864  0.560888  0.406081  0.259417  0.492855               0   \n",
       "2   0.403916  0.554543  0.180514  0.755331  0.492855               0   \n",
       "3   0.569109  0.532872  0.302310  0.233135  0.569546               0   \n",
       "4   0.222185  0.639836  0.406158  0.924669  0.096409               1   \n",
       "..       ...       ...       ...       ...       ...             ...   \n",
       "67  0.876660  0.583988  0.798597  0.246321  0.311259               0   \n",
       "68  0.448438  0.503083  0.566250  0.403585  0.608505               0   \n",
       "69  0.424973  0.461387  0.711605  0.834688  0.242853               1   \n",
       "70  0.473067  0.304139  0.221745  0.478407  0.699787               0   \n",
       "71  0.537528  0.651567  0.734932  0.372281  0.468692               0   \n",
       "\n",
       "    AG3Ptrans_mm_1  AG4Ptrans_mm_1  AG5Ptrans_mm_1  AG6Ptrans_mm_1  \\\n",
       "0                0               2               0               5   \n",
       "1                0               1               1               1   \n",
       "2                2               0               2               0   \n",
       "3                0               1               1               1   \n",
       "4                1               3               3               3   \n",
       "..             ...             ...             ...             ...   \n",
       "67               0               1               1               1   \n",
       "68               0               1               1               1   \n",
       "69               1               3               3               3   \n",
       "70               2               0               2               0   \n",
       "71               0               1               1               1   \n",
       "\n",
       "    AG7Ptrans_mm_1  AG8Ptrans_mm_1  AG9Ptrans_mm_1  AG10Ptrans_mm_1  \\\n",
       "0                5               5               5                5   \n",
       "1                0               7               7                3   \n",
       "2                1               0               8                8   \n",
       "3                0               7               7                3   \n",
       "4                3               3               3                1   \n",
       "..             ...             ...             ...              ...   \n",
       "67               0               1               1                0   \n",
       "68               0               7               7                3   \n",
       "69               3               3               3                1   \n",
       "70               1               0               2                2   \n",
       "71               0               7               7                3   \n",
       "\n",
       "             Ciudades  \n",
       "0            Albacete  \n",
       "1   Alcalá de Henares  \n",
       "2          Alcobendas  \n",
       "3            Alcorcón  \n",
       "4           Algeciras  \n",
       "..                ...  \n",
       "67           Valencia  \n",
       "68         Valladolid  \n",
       "69               Vigo  \n",
       "70             Zamora  \n",
       "71           Zaragoza  \n",
       "\n",
       "[72 rows x 15 columns]"
      ]
     },
     "execution_count": 333,
     "metadata": {},
     "output_type": "execute_result"
    }
   ],
   "source": [
    "df_list[0]"
   ]
  },
  {
   "cell_type": "code",
   "execution_count": 338,
   "metadata": {},
   "outputs": [
    {
     "data": {
      "application/vnd.plotly.v1+json": {
       "config": {
        "plotlyServerURL": "https://plot.ly"
       },
       "data": [
        {
         "customdata": [
          [
           "Albacete",
           2
          ],
          [
           "Alcalá de Henares",
           1
          ],
          [
           "Alcobendas",
           0
          ],
          [
           "Alcorcón",
           1
          ],
          [
           "Algeciras",
           3
          ],
          [
           "Alicante/Alacant",
           2
          ],
          [
           "Almería",
           2
          ],
          [
           "Ávila",
           0
          ],
          [
           "Badajoz",
           3
          ],
          [
           "Badalona",
           2
          ],
          [
           "Barcelona",
           1
          ],
          [
           "Burgos",
           1
          ],
          [
           "Cáceres",
           0
          ],
          [
           "Cádiz",
           1
          ],
          [
           "Cartagena",
           3
          ],
          [
           "Castelló de la Plana",
           2
          ],
          [
           "Ceuta",
           0
          ],
          [
           "Ciudad Real",
           0
          ],
          [
           "Córdoba",
           3
          ],
          [
           "Coruña, A",
           2
          ],
          [
           "Cuenca",
           0
          ],
          [
           "Dos Hermanas",
           0
          ],
          [
           "Elche/Elx",
           3
          ],
          [
           "Fuenlabrada",
           1
          ],
          [
           "Getafe",
           1
          ],
          [
           "Gijón",
           2
          ],
          [
           "Girona",
           2
          ],
          [
           "Granada",
           2
          ],
          [
           "Guadalajara",
           0
          ],
          [
           "Hospitalet de Llobregat, L'",
           1
          ],
          [
           "Huelva",
           0
          ],
          [
           "Huesca",
           0
          ],
          [
           "Jaén",
           2
          ],
          [
           "Jerez de la Frontera",
           0
          ],
          [
           "Palmas de Gran Canaria, Las",
           2
          ],
          [
           "Leganés",
           0
          ],
          [
           "León",
           1
          ],
          [
           "Lleida",
           1
          ],
          [
           "Logroño",
           1
          ],
          [
           "Lugo",
           2
          ],
          [
           "Madrid",
           2
          ],
          [
           "Málaga",
           2
          ],
          [
           "Marbella",
           3
          ],
          [
           "Mataró",
           2
          ],
          [
           "Melilla",
           0
          ],
          [
           "Móstoles",
           2
          ],
          [
           "Murcia",
           2
          ],
          [
           "Ourense",
           3
          ],
          [
           "Oviedo",
           1
          ],
          [
           "Palencia",
           0
          ],
          [
           "Palma de Mallorca",
           2
          ],
          [
           "Parla",
           0
          ],
          [
           "Pontevedra",
           0
          ],
          [
           "Sabadell",
           2
          ],
          [
           "Salamanca",
           1
          ],
          [
           "San Cristóbal de La Laguna",
           3
          ],
          [
           "Santa Coloma de Gramenet",
           1
          ],
          [
           "Santa Cruz de Tenerife",
           2
          ],
          [
           "Santander",
           2
          ],
          [
           "Segovia",
           0
          ],
          [
           "Sevilla",
           2
          ],
          [
           "Soria",
           0
          ],
          [
           "Tarragona",
           2
          ],
          [
           "Terrassa",
           2
          ],
          [
           "Teruel",
           0
          ],
          [
           "Toledo",
           0
          ],
          [
           "Torrejón de Ardoz",
           0
          ],
          [
           "Valencia",
           1
          ],
          [
           "Valladolid",
           1
          ],
          [
           "Vigo",
           3
          ],
          [
           "Zamora",
           0
          ],
          [
           "Zaragoza",
           1
          ]
         ],
         "hovertemplate": "F1=%{x}<br>F2=%{y}<br>Ciudades=%{customdata[0]}<br>AG4Ptrans_mm_1=%{marker.color}<extra></extra>",
         "legendgroup": "",
         "marker": {
          "color": [
           2,
           1,
           0,
           1,
           3,
           2,
           2,
           0,
           3,
           2,
           1,
           1,
           0,
           1,
           3,
           2,
           0,
           0,
           3,
           2,
           0,
           0,
           3,
           1,
           1,
           2,
           2,
           2,
           0,
           1,
           0,
           0,
           2,
           0,
           2,
           0,
           1,
           1,
           1,
           2,
           2,
           2,
           3,
           2,
           0,
           2,
           2,
           3,
           1,
           0,
           2,
           0,
           0,
           2,
           1,
           3,
           1,
           2,
           2,
           0,
           2,
           0,
           2,
           2,
           0,
           0,
           0,
           1,
           1,
           3,
           0,
           1
          ],
          "coloraxis": "coloraxis",
          "symbol": "circle"
         },
         "mode": "markers",
         "name": "",
         "orientation": "v",
         "showlegend": false,
         "type": "scatter",
         "x": [
          0.45657962305248084,
          0.30486378208654163,
          0.4039162465539052,
          0.5691094856157543,
          0.22218500897787302,
          0.6125725135495188,
          0.5447237897038758,
          0.11358429564676215,
          0.24706074780421983,
          0.7546421287412435,
          0.8951702612804249,
          0.347992135588855,
          0.3295896115954281,
          0.8618716184358598,
          0.3551610254754668,
          0.5250770652321929,
          0.37271681361352693,
          0.6001907505319529,
          0.34488966447233305,
          0.5687796878895587,
          0.504399817969701,
          0.0816785162141132,
          0.42543165816655737,
          0.44888210983595395,
          0.3158764150010511,
          0.4820144414372677,
          0.5844002000675265,
          0.5646553635249888,
          0.4393137877617014,
          0.70232667408812,
          0.4720483830608438,
          0.5850946904378581,
          0.4621346900736862,
          0.2486119753759068,
          0.6784939652978499,
          0.4055619185000585,
          0.5594161363574923,
          0.521873284455264,
          0.7247473009721604,
          0.8022018423595711,
          0.3851951402470988,
          0.4317254953681773,
          0.5728429474355142,
          0.6759661356281306,
          0.33338692430654,
          0.517041572550644,
          0.5927936571340398,
          0.5248822370896574,
          0.7867894002616278,
          0.44113364587293347,
          0.639942916912813,
          0.4791167107916184,
          0.5878955380641491,
          0.7437939519232727,
          0.5894911463477011,
          0.5229099530840412,
          1,
          0.6805908449115405,
          0.7209438259724208,
          0.5837850478098005,
          0.6291930353805493,
          0.5773927326152326,
          0.43213939656327277,
          0.68758423796321,
          0.3631404784099349,
          0.1624617176650034,
          0,
          0.8766602559960616,
          0.4484380798428812,
          0.4249728837793897,
          0.4730674539615904,
          0.5375278340434224
         ],
         "xaxis": "x",
         "y": [
          0.6078898167578259,
          0.5608883098474532,
          0.5545434476923382,
          0.5328718319191674,
          0.6398359687377039,
          0.7451943387369844,
          0.5854458672636124,
          0.4510777542712002,
          0.6215860347813104,
          0.566616680977961,
          0.7760311987457207,
          0.5575624840983837,
          0.2426701737652715,
          0.582839392076002,
          0.3790799344421768,
          0.3560596036993869,
          0.5206515915715818,
          0.3843642844945171,
          0.834321444269559,
          0.6027302889254924,
          0.5901517143121663,
          0.42175238165249457,
          0.5746125156941788,
          0.4505948461310898,
          0.5150662825285085,
          0.46606177837239615,
          0.7738465978344816,
          0.48155022258180774,
          0.5409890477696256,
          0.5712727405186531,
          0.325725171353458,
          0.6292096353287991,
          0.5614692229810431,
          0.412376222331733,
          0.700869106158126,
          0.2149326141163554,
          0.44395255052128624,
          0.5598515637619511,
          0.6407368469871754,
          0.669339089113138,
          0.5279621134830799,
          0.7148455486863794,
          0.6105139653173676,
          0.4960887761701085,
          0.4076926530974348,
          0.4461721660153346,
          0.5009637969063822,
          0.8374965227933535,
          0.5434982134681505,
          0.4708696428896153,
          0.5649781492698097,
          0.1473547908815085,
          0.42528434058332454,
          0.7379666469023994,
          0.4981666509280919,
          1,
          0.37487319693988996,
          0.8741678774918865,
          0.5216406453253519,
          0.5030439720937968,
          0.46050407895704687,
          0.5059245245063387,
          0.40755620279241395,
          0.8045860571438348,
          0.49850075539222116,
          0.18970246447036626,
          0,
          0.5839875026999767,
          0.5030826082853417,
          0.46138737491885207,
          0.30413913566831496,
          0.6515669107608913
         ],
         "yaxis": "y"
        }
       ],
       "layout": {
        "coloraxis": {
         "colorbar": {
          "title": {
           "text": "AG4Ptrans_mm_1"
          }
         },
         "colorscale": [
          [
           0,
           "#0d0887"
          ],
          [
           0.1111111111111111,
           "#46039f"
          ],
          [
           0.2222222222222222,
           "#7201a8"
          ],
          [
           0.3333333333333333,
           "#9c179e"
          ],
          [
           0.4444444444444444,
           "#bd3786"
          ],
          [
           0.5555555555555556,
           "#d8576b"
          ],
          [
           0.6666666666666666,
           "#ed7953"
          ],
          [
           0.7777777777777778,
           "#fb9f3a"
          ],
          [
           0.8888888888888888,
           "#fdca26"
          ],
          [
           1,
           "#f0f921"
          ]
         ]
        },
        "legend": {
         "tracegroupgap": 0
        },
        "margin": {
         "t": 60
        },
        "template": {
         "data": {
          "bar": [
           {
            "error_x": {
             "color": "#2a3f5f"
            },
            "error_y": {
             "color": "#2a3f5f"
            },
            "marker": {
             "line": {
              "color": "#E5ECF6",
              "width": 0.5
             },
             "pattern": {
              "fillmode": "overlay",
              "size": 10,
              "solidity": 0.2
             }
            },
            "type": "bar"
           }
          ],
          "barpolar": [
           {
            "marker": {
             "line": {
              "color": "#E5ECF6",
              "width": 0.5
             },
             "pattern": {
              "fillmode": "overlay",
              "size": 10,
              "solidity": 0.2
             }
            },
            "type": "barpolar"
           }
          ],
          "carpet": [
           {
            "aaxis": {
             "endlinecolor": "#2a3f5f",
             "gridcolor": "white",
             "linecolor": "white",
             "minorgridcolor": "white",
             "startlinecolor": "#2a3f5f"
            },
            "baxis": {
             "endlinecolor": "#2a3f5f",
             "gridcolor": "white",
             "linecolor": "white",
             "minorgridcolor": "white",
             "startlinecolor": "#2a3f5f"
            },
            "type": "carpet"
           }
          ],
          "choropleth": [
           {
            "colorbar": {
             "outlinewidth": 0,
             "ticks": ""
            },
            "type": "choropleth"
           }
          ],
          "contour": [
           {
            "colorbar": {
             "outlinewidth": 0,
             "ticks": ""
            },
            "colorscale": [
             [
              0,
              "#0d0887"
             ],
             [
              0.1111111111111111,
              "#46039f"
             ],
             [
              0.2222222222222222,
              "#7201a8"
             ],
             [
              0.3333333333333333,
              "#9c179e"
             ],
             [
              0.4444444444444444,
              "#bd3786"
             ],
             [
              0.5555555555555556,
              "#d8576b"
             ],
             [
              0.6666666666666666,
              "#ed7953"
             ],
             [
              0.7777777777777778,
              "#fb9f3a"
             ],
             [
              0.8888888888888888,
              "#fdca26"
             ],
             [
              1,
              "#f0f921"
             ]
            ],
            "type": "contour"
           }
          ],
          "contourcarpet": [
           {
            "colorbar": {
             "outlinewidth": 0,
             "ticks": ""
            },
            "type": "contourcarpet"
           }
          ],
          "heatmap": [
           {
            "colorbar": {
             "outlinewidth": 0,
             "ticks": ""
            },
            "colorscale": [
             [
              0,
              "#0d0887"
             ],
             [
              0.1111111111111111,
              "#46039f"
             ],
             [
              0.2222222222222222,
              "#7201a8"
             ],
             [
              0.3333333333333333,
              "#9c179e"
             ],
             [
              0.4444444444444444,
              "#bd3786"
             ],
             [
              0.5555555555555556,
              "#d8576b"
             ],
             [
              0.6666666666666666,
              "#ed7953"
             ],
             [
              0.7777777777777778,
              "#fb9f3a"
             ],
             [
              0.8888888888888888,
              "#fdca26"
             ],
             [
              1,
              "#f0f921"
             ]
            ],
            "type": "heatmap"
           }
          ],
          "heatmapgl": [
           {
            "colorbar": {
             "outlinewidth": 0,
             "ticks": ""
            },
            "colorscale": [
             [
              0,
              "#0d0887"
             ],
             [
              0.1111111111111111,
              "#46039f"
             ],
             [
              0.2222222222222222,
              "#7201a8"
             ],
             [
              0.3333333333333333,
              "#9c179e"
             ],
             [
              0.4444444444444444,
              "#bd3786"
             ],
             [
              0.5555555555555556,
              "#d8576b"
             ],
             [
              0.6666666666666666,
              "#ed7953"
             ],
             [
              0.7777777777777778,
              "#fb9f3a"
             ],
             [
              0.8888888888888888,
              "#fdca26"
             ],
             [
              1,
              "#f0f921"
             ]
            ],
            "type": "heatmapgl"
           }
          ],
          "histogram": [
           {
            "marker": {
             "pattern": {
              "fillmode": "overlay",
              "size": 10,
              "solidity": 0.2
             }
            },
            "type": "histogram"
           }
          ],
          "histogram2d": [
           {
            "colorbar": {
             "outlinewidth": 0,
             "ticks": ""
            },
            "colorscale": [
             [
              0,
              "#0d0887"
             ],
             [
              0.1111111111111111,
              "#46039f"
             ],
             [
              0.2222222222222222,
              "#7201a8"
             ],
             [
              0.3333333333333333,
              "#9c179e"
             ],
             [
              0.4444444444444444,
              "#bd3786"
             ],
             [
              0.5555555555555556,
              "#d8576b"
             ],
             [
              0.6666666666666666,
              "#ed7953"
             ],
             [
              0.7777777777777778,
              "#fb9f3a"
             ],
             [
              0.8888888888888888,
              "#fdca26"
             ],
             [
              1,
              "#f0f921"
             ]
            ],
            "type": "histogram2d"
           }
          ],
          "histogram2dcontour": [
           {
            "colorbar": {
             "outlinewidth": 0,
             "ticks": ""
            },
            "colorscale": [
             [
              0,
              "#0d0887"
             ],
             [
              0.1111111111111111,
              "#46039f"
             ],
             [
              0.2222222222222222,
              "#7201a8"
             ],
             [
              0.3333333333333333,
              "#9c179e"
             ],
             [
              0.4444444444444444,
              "#bd3786"
             ],
             [
              0.5555555555555556,
              "#d8576b"
             ],
             [
              0.6666666666666666,
              "#ed7953"
             ],
             [
              0.7777777777777778,
              "#fb9f3a"
             ],
             [
              0.8888888888888888,
              "#fdca26"
             ],
             [
              1,
              "#f0f921"
             ]
            ],
            "type": "histogram2dcontour"
           }
          ],
          "mesh3d": [
           {
            "colorbar": {
             "outlinewidth": 0,
             "ticks": ""
            },
            "type": "mesh3d"
           }
          ],
          "parcoords": [
           {
            "line": {
             "colorbar": {
              "outlinewidth": 0,
              "ticks": ""
             }
            },
            "type": "parcoords"
           }
          ],
          "pie": [
           {
            "automargin": true,
            "type": "pie"
           }
          ],
          "scatter": [
           {
            "fillpattern": {
             "fillmode": "overlay",
             "size": 10,
             "solidity": 0.2
            },
            "type": "scatter"
           }
          ],
          "scatter3d": [
           {
            "line": {
             "colorbar": {
              "outlinewidth": 0,
              "ticks": ""
             }
            },
            "marker": {
             "colorbar": {
              "outlinewidth": 0,
              "ticks": ""
             }
            },
            "type": "scatter3d"
           }
          ],
          "scattercarpet": [
           {
            "marker": {
             "colorbar": {
              "outlinewidth": 0,
              "ticks": ""
             }
            },
            "type": "scattercarpet"
           }
          ],
          "scattergeo": [
           {
            "marker": {
             "colorbar": {
              "outlinewidth": 0,
              "ticks": ""
             }
            },
            "type": "scattergeo"
           }
          ],
          "scattergl": [
           {
            "marker": {
             "colorbar": {
              "outlinewidth": 0,
              "ticks": ""
             }
            },
            "type": "scattergl"
           }
          ],
          "scattermapbox": [
           {
            "marker": {
             "colorbar": {
              "outlinewidth": 0,
              "ticks": ""
             }
            },
            "type": "scattermapbox"
           }
          ],
          "scatterpolar": [
           {
            "marker": {
             "colorbar": {
              "outlinewidth": 0,
              "ticks": ""
             }
            },
            "type": "scatterpolar"
           }
          ],
          "scatterpolargl": [
           {
            "marker": {
             "colorbar": {
              "outlinewidth": 0,
              "ticks": ""
             }
            },
            "type": "scatterpolargl"
           }
          ],
          "scatterternary": [
           {
            "marker": {
             "colorbar": {
              "outlinewidth": 0,
              "ticks": ""
             }
            },
            "type": "scatterternary"
           }
          ],
          "surface": [
           {
            "colorbar": {
             "outlinewidth": 0,
             "ticks": ""
            },
            "colorscale": [
             [
              0,
              "#0d0887"
             ],
             [
              0.1111111111111111,
              "#46039f"
             ],
             [
              0.2222222222222222,
              "#7201a8"
             ],
             [
              0.3333333333333333,
              "#9c179e"
             ],
             [
              0.4444444444444444,
              "#bd3786"
             ],
             [
              0.5555555555555556,
              "#d8576b"
             ],
             [
              0.6666666666666666,
              "#ed7953"
             ],
             [
              0.7777777777777778,
              "#fb9f3a"
             ],
             [
              0.8888888888888888,
              "#fdca26"
             ],
             [
              1,
              "#f0f921"
             ]
            ],
            "type": "surface"
           }
          ],
          "table": [
           {
            "cells": {
             "fill": {
              "color": "#EBF0F8"
             },
             "line": {
              "color": "white"
             }
            },
            "header": {
             "fill": {
              "color": "#C8D4E3"
             },
             "line": {
              "color": "white"
             }
            },
            "type": "table"
           }
          ]
         },
         "layout": {
          "annotationdefaults": {
           "arrowcolor": "#2a3f5f",
           "arrowhead": 0,
           "arrowwidth": 1
          },
          "autotypenumbers": "strict",
          "coloraxis": {
           "colorbar": {
            "outlinewidth": 0,
            "ticks": ""
           }
          },
          "colorscale": {
           "diverging": [
            [
             0,
             "#8e0152"
            ],
            [
             0.1,
             "#c51b7d"
            ],
            [
             0.2,
             "#de77ae"
            ],
            [
             0.3,
             "#f1b6da"
            ],
            [
             0.4,
             "#fde0ef"
            ],
            [
             0.5,
             "#f7f7f7"
            ],
            [
             0.6,
             "#e6f5d0"
            ],
            [
             0.7,
             "#b8e186"
            ],
            [
             0.8,
             "#7fbc41"
            ],
            [
             0.9,
             "#4d9221"
            ],
            [
             1,
             "#276419"
            ]
           ],
           "sequential": [
            [
             0,
             "#0d0887"
            ],
            [
             0.1111111111111111,
             "#46039f"
            ],
            [
             0.2222222222222222,
             "#7201a8"
            ],
            [
             0.3333333333333333,
             "#9c179e"
            ],
            [
             0.4444444444444444,
             "#bd3786"
            ],
            [
             0.5555555555555556,
             "#d8576b"
            ],
            [
             0.6666666666666666,
             "#ed7953"
            ],
            [
             0.7777777777777778,
             "#fb9f3a"
            ],
            [
             0.8888888888888888,
             "#fdca26"
            ],
            [
             1,
             "#f0f921"
            ]
           ],
           "sequentialminus": [
            [
             0,
             "#0d0887"
            ],
            [
             0.1111111111111111,
             "#46039f"
            ],
            [
             0.2222222222222222,
             "#7201a8"
            ],
            [
             0.3333333333333333,
             "#9c179e"
            ],
            [
             0.4444444444444444,
             "#bd3786"
            ],
            [
             0.5555555555555556,
             "#d8576b"
            ],
            [
             0.6666666666666666,
             "#ed7953"
            ],
            [
             0.7777777777777778,
             "#fb9f3a"
            ],
            [
             0.8888888888888888,
             "#fdca26"
            ],
            [
             1,
             "#f0f921"
            ]
           ]
          },
          "colorway": [
           "#636efa",
           "#EF553B",
           "#00cc96",
           "#ab63fa",
           "#FFA15A",
           "#19d3f3",
           "#FF6692",
           "#B6E880",
           "#FF97FF",
           "#FECB52"
          ],
          "font": {
           "color": "#2a3f5f"
          },
          "geo": {
           "bgcolor": "white",
           "lakecolor": "white",
           "landcolor": "#E5ECF6",
           "showlakes": true,
           "showland": true,
           "subunitcolor": "white"
          },
          "hoverlabel": {
           "align": "left"
          },
          "hovermode": "closest",
          "mapbox": {
           "style": "light"
          },
          "paper_bgcolor": "white",
          "plot_bgcolor": "#E5ECF6",
          "polar": {
           "angularaxis": {
            "gridcolor": "white",
            "linecolor": "white",
            "ticks": ""
           },
           "bgcolor": "#E5ECF6",
           "radialaxis": {
            "gridcolor": "white",
            "linecolor": "white",
            "ticks": ""
           }
          },
          "scene": {
           "xaxis": {
            "backgroundcolor": "#E5ECF6",
            "gridcolor": "white",
            "gridwidth": 2,
            "linecolor": "white",
            "showbackground": true,
            "ticks": "",
            "zerolinecolor": "white"
           },
           "yaxis": {
            "backgroundcolor": "#E5ECF6",
            "gridcolor": "white",
            "gridwidth": 2,
            "linecolor": "white",
            "showbackground": true,
            "ticks": "",
            "zerolinecolor": "white"
           },
           "zaxis": {
            "backgroundcolor": "#E5ECF6",
            "gridcolor": "white",
            "gridwidth": 2,
            "linecolor": "white",
            "showbackground": true,
            "ticks": "",
            "zerolinecolor": "white"
           }
          },
          "shapedefaults": {
           "line": {
            "color": "#2a3f5f"
           }
          },
          "ternary": {
           "aaxis": {
            "gridcolor": "white",
            "linecolor": "white",
            "ticks": ""
           },
           "baxis": {
            "gridcolor": "white",
            "linecolor": "white",
            "ticks": ""
           },
           "bgcolor": "#E5ECF6",
           "caxis": {
            "gridcolor": "white",
            "linecolor": "white",
            "ticks": ""
           }
          },
          "title": {
           "x": 0.05
          },
          "xaxis": {
           "automargin": true,
           "gridcolor": "white",
           "linecolor": "white",
           "ticks": "",
           "title": {
            "standoff": 15
           },
           "zerolinecolor": "white",
           "zerolinewidth": 2
          },
          "yaxis": {
           "automargin": true,
           "gridcolor": "white",
           "linecolor": "white",
           "ticks": "",
           "title": {
            "standoff": 15
           },
           "zerolinecolor": "white",
           "zerolinewidth": 2
          }
         }
        },
        "xaxis": {
         "anchor": "y",
         "domain": [
          0,
          1
         ],
         "title": {
          "text": "F1"
         }
        },
        "yaxis": {
         "anchor": "x",
         "domain": [
          0,
          1
         ],
         "title": {
          "text": "F2"
         }
        }
       }
      }
     },
     "metadata": {},
     "output_type": "display_data"
    }
   ],
   "source": [
    "cl1 = df_list[0]\n",
    "px.scatter(cl1, x = 'F1', y = 'F2', color = \"AG4Ptrans_mm_1\", hover_data=[\"Ciudades\",\"AG4Ptrans_mm_1\"]) \n",
    "#px.scatter(df_datos_Ptrans_st, x = 'F5', y = 'F4', color = 'dbcluster', hover_data=['Ciudad','dbcluster'])"
   ]
  },
  {
   "cell_type": "markdown",
   "metadata": {},
   "source": [
    "# Datos "
   ]
  },
  {
   "cell_type": "code",
   "execution_count": 489,
   "metadata": {},
   "outputs": [],
   "source": [
    "def ajustar_data(df, variables):\n",
    "    df = df.drop(\"Ciudades\", axis = 1)\n",
    "    df_melt = df.melt(id_vars = variables_to_keep)\n",
    "    return df_melt"
   ]
  },
  {
   "cell_type": "code",
   "execution_count": 476,
   "metadata": {},
   "outputs": [],
   "source": [
    "variables_keep = ('AG2Ptrans_mm_1', 'AG3Ptrans_mm_1',\n",
    "       'AG4Ptrans_mm_1', 'AG5Ptrans_mm_1', 'AG6Ptrans_mm_1', 'AG7Ptrans_mm_1',\n",
    "       'AG8Ptrans_mm_1', 'AG9Ptrans_mm_1', 'AG10Ptrans_mm_1')"
   ]
  },
  {
   "cell_type": "code",
   "execution_count": 490,
   "metadata": {},
   "outputs": [
    {
     "data": {
      "text/html": [
       "<div>\n",
       "<style scoped>\n",
       "    .dataframe tbody tr th:only-of-type {\n",
       "        vertical-align: middle;\n",
       "    }\n",
       "\n",
       "    .dataframe tbody tr th {\n",
       "        vertical-align: top;\n",
       "    }\n",
       "\n",
       "    .dataframe thead th {\n",
       "        text-align: right;\n",
       "    }\n",
       "</style>\n",
       "<table border=\"1\" class=\"dataframe\">\n",
       "  <thead>\n",
       "    <tr style=\"text-align: right;\">\n",
       "      <th></th>\n",
       "      <th>AG2Ptrans_mm_1</th>\n",
       "      <th>AG3Ptrans_mm_1</th>\n",
       "      <th>AG4Ptrans_mm_1</th>\n",
       "      <th>AG5Ptrans_mm_1</th>\n",
       "      <th>AG6Ptrans_mm_1</th>\n",
       "      <th>AG7Ptrans_mm_1</th>\n",
       "      <th>AG8Ptrans_mm_1</th>\n",
       "      <th>AG9Ptrans_mm_1</th>\n",
       "      <th>AG10Ptrans_mm_1</th>\n",
       "      <th>variable</th>\n",
       "      <th>value</th>\n",
       "    </tr>\n",
       "  </thead>\n",
       "  <tbody>\n",
       "    <tr>\n",
       "      <th>0</th>\n",
       "      <td>0</td>\n",
       "      <td>0</td>\n",
       "      <td>2</td>\n",
       "      <td>0</td>\n",
       "      <td>5</td>\n",
       "      <td>5</td>\n",
       "      <td>5</td>\n",
       "      <td>5</td>\n",
       "      <td>5</td>\n",
       "      <td>F1</td>\n",
       "      <td>0.456580</td>\n",
       "    </tr>\n",
       "    <tr>\n",
       "      <th>1</th>\n",
       "      <td>0</td>\n",
       "      <td>0</td>\n",
       "      <td>1</td>\n",
       "      <td>1</td>\n",
       "      <td>1</td>\n",
       "      <td>0</td>\n",
       "      <td>7</td>\n",
       "      <td>7</td>\n",
       "      <td>3</td>\n",
       "      <td>F1</td>\n",
       "      <td>0.304864</td>\n",
       "    </tr>\n",
       "    <tr>\n",
       "      <th>2</th>\n",
       "      <td>0</td>\n",
       "      <td>2</td>\n",
       "      <td>0</td>\n",
       "      <td>2</td>\n",
       "      <td>0</td>\n",
       "      <td>1</td>\n",
       "      <td>0</td>\n",
       "      <td>8</td>\n",
       "      <td>8</td>\n",
       "      <td>F1</td>\n",
       "      <td>0.403916</td>\n",
       "    </tr>\n",
       "    <tr>\n",
       "      <th>3</th>\n",
       "      <td>0</td>\n",
       "      <td>0</td>\n",
       "      <td>1</td>\n",
       "      <td>1</td>\n",
       "      <td>1</td>\n",
       "      <td>0</td>\n",
       "      <td>7</td>\n",
       "      <td>7</td>\n",
       "      <td>3</td>\n",
       "      <td>F1</td>\n",
       "      <td>0.569109</td>\n",
       "    </tr>\n",
       "    <tr>\n",
       "      <th>4</th>\n",
       "      <td>1</td>\n",
       "      <td>1</td>\n",
       "      <td>3</td>\n",
       "      <td>3</td>\n",
       "      <td>3</td>\n",
       "      <td>3</td>\n",
       "      <td>3</td>\n",
       "      <td>3</td>\n",
       "      <td>1</td>\n",
       "      <td>F1</td>\n",
       "      <td>0.222185</td>\n",
       "    </tr>\n",
       "    <tr>\n",
       "      <th>...</th>\n",
       "      <td>...</td>\n",
       "      <td>...</td>\n",
       "      <td>...</td>\n",
       "      <td>...</td>\n",
       "      <td>...</td>\n",
       "      <td>...</td>\n",
       "      <td>...</td>\n",
       "      <td>...</td>\n",
       "      <td>...</td>\n",
       "      <td>...</td>\n",
       "      <td>...</td>\n",
       "    </tr>\n",
       "    <tr>\n",
       "      <th>355</th>\n",
       "      <td>0</td>\n",
       "      <td>0</td>\n",
       "      <td>1</td>\n",
       "      <td>1</td>\n",
       "      <td>1</td>\n",
       "      <td>0</td>\n",
       "      <td>1</td>\n",
       "      <td>1</td>\n",
       "      <td>0</td>\n",
       "      <td>F5</td>\n",
       "      <td>0.311259</td>\n",
       "    </tr>\n",
       "    <tr>\n",
       "      <th>356</th>\n",
       "      <td>0</td>\n",
       "      <td>0</td>\n",
       "      <td>1</td>\n",
       "      <td>1</td>\n",
       "      <td>1</td>\n",
       "      <td>0</td>\n",
       "      <td>7</td>\n",
       "      <td>7</td>\n",
       "      <td>3</td>\n",
       "      <td>F5</td>\n",
       "      <td>0.608505</td>\n",
       "    </tr>\n",
       "    <tr>\n",
       "      <th>357</th>\n",
       "      <td>1</td>\n",
       "      <td>1</td>\n",
       "      <td>3</td>\n",
       "      <td>3</td>\n",
       "      <td>3</td>\n",
       "      <td>3</td>\n",
       "      <td>3</td>\n",
       "      <td>3</td>\n",
       "      <td>1</td>\n",
       "      <td>F5</td>\n",
       "      <td>0.242853</td>\n",
       "    </tr>\n",
       "    <tr>\n",
       "      <th>358</th>\n",
       "      <td>0</td>\n",
       "      <td>2</td>\n",
       "      <td>0</td>\n",
       "      <td>2</td>\n",
       "      <td>0</td>\n",
       "      <td>1</td>\n",
       "      <td>0</td>\n",
       "      <td>2</td>\n",
       "      <td>2</td>\n",
       "      <td>F5</td>\n",
       "      <td>0.699787</td>\n",
       "    </tr>\n",
       "    <tr>\n",
       "      <th>359</th>\n",
       "      <td>0</td>\n",
       "      <td>0</td>\n",
       "      <td>1</td>\n",
       "      <td>1</td>\n",
       "      <td>1</td>\n",
       "      <td>0</td>\n",
       "      <td>7</td>\n",
       "      <td>7</td>\n",
       "      <td>3</td>\n",
       "      <td>F5</td>\n",
       "      <td>0.468692</td>\n",
       "    </tr>\n",
       "  </tbody>\n",
       "</table>\n",
       "<p>360 rows × 11 columns</p>\n",
       "</div>"
      ],
      "text/plain": [
       "     AG2Ptrans_mm_1  AG3Ptrans_mm_1  AG4Ptrans_mm_1  AG5Ptrans_mm_1  \\\n",
       "0                 0               0               2               0   \n",
       "1                 0               0               1               1   \n",
       "2                 0               2               0               2   \n",
       "3                 0               0               1               1   \n",
       "4                 1               1               3               3   \n",
       "..              ...             ...             ...             ...   \n",
       "355               0               0               1               1   \n",
       "356               0               0               1               1   \n",
       "357               1               1               3               3   \n",
       "358               0               2               0               2   \n",
       "359               0               0               1               1   \n",
       "\n",
       "     AG6Ptrans_mm_1  AG7Ptrans_mm_1  AG8Ptrans_mm_1  AG9Ptrans_mm_1  \\\n",
       "0                 5               5               5               5   \n",
       "1                 1               0               7               7   \n",
       "2                 0               1               0               8   \n",
       "3                 1               0               7               7   \n",
       "4                 3               3               3               3   \n",
       "..              ...             ...             ...             ...   \n",
       "355               1               0               1               1   \n",
       "356               1               0               7               7   \n",
       "357               3               3               3               3   \n",
       "358               0               1               0               2   \n",
       "359               1               0               7               7   \n",
       "\n",
       "     AG10Ptrans_mm_1 variable     value  \n",
       "0                  5       F1  0.456580  \n",
       "1                  3       F1  0.304864  \n",
       "2                  8       F1  0.403916  \n",
       "3                  3       F1  0.569109  \n",
       "4                  1       F1  0.222185  \n",
       "..               ...      ...       ...  \n",
       "355                0       F5  0.311259  \n",
       "356                3       F5  0.608505  \n",
       "357                1       F5  0.242853  \n",
       "358                2       F5  0.699787  \n",
       "359                3       F5  0.468692  \n",
       "\n",
       "[360 rows x 11 columns]"
      ]
     },
     "execution_count": 490,
     "metadata": {},
     "output_type": "execute_result"
    }
   ],
   "source": [
    "df_melt = ajustar_data(df_list[0], variables_keep)\n",
    "df_melt"
   ]
  },
  {
   "cell_type": "code",
   "execution_count": 491,
   "metadata": {},
   "outputs": [],
   "source": [
    "def group_data(df,cluster):\n",
    "    im3_groups_mean = df.groupby(['variable',cluster,\n",
    "    ])['value'].mean().reset_index() \n",
    "    \n",
    "    return im3_groups_mean"
   ]
  },
  {
   "cell_type": "code",
   "execution_count": 498,
   "metadata": {},
   "outputs": [],
   "source": [
    "im3_groups_mean = group_data(df_melt, 'AG3Ptrans_mm_1')"
   ]
  },
  {
   "cell_type": "code",
   "execution_count": 499,
   "metadata": {},
   "outputs": [],
   "source": [
    "import seaborn.objects as so\n",
    "from seaborn import axes_style"
   ]
  },
  {
   "cell_type": "code",
   "execution_count": 500,
   "metadata": {},
   "outputs": [],
   "source": []
  },
  {
   "cell_type": "code",
   "execution_count": 501,
   "metadata": {},
   "outputs": [
    {
     "data": {
      "application/vnd.plotly.v1+json": {
       "config": {
        "plotlyServerURL": "https://plot.ly"
       },
       "data": [
        {
         "hovertemplate": "AG3Ptrans_mm_1=0<br> =%{x}<br>Factor value=%{y}<extra></extra>",
         "legendgroup": "0",
         "marker": {
          "color": "red",
          "size": 12,
          "symbol": "circle"
         },
         "mode": "markers",
         "name": "0",
         "orientation": "v",
         "showlegend": true,
         "type": "scatter",
         "x": [
          "F1",
          "F2",
          "F3",
          "F4",
          "F5"
         ],
         "xaxis": "x",
         "y": [
          0.6015663766266854,
          0.5736914098235126,
          0.531616114705778,
          0.43749419210156715,
          0.5969670408269049
         ],
         "yaxis": "y"
        },
        {
         "hovertemplate": "AG3Ptrans_mm_1=1<br> =%{x}<br>Factor value=%{y}<extra></extra>",
         "legendgroup": "1",
         "marker": {
          "color": "green",
          "size": 12,
          "symbol": "circle"
         },
         "mode": "markers",
         "name": "1",
         "orientation": "v",
         "showlegend": true,
         "type": "scatter",
         "x": [
          "F1",
          "F2",
          "F3",
          "F4",
          "F5"
         ],
         "xaxis": "x",
         "y": [
          0.4044817918094503,
          0.6620926401060558,
          0.5659972214240097,
          0.8747921904597631,
          0.18734130488134987
         ],
         "yaxis": "y"
        },
        {
         "hovertemplate": "AG3Ptrans_mm_1=2<br> =%{x}<br>Factor value=%{y}<extra></extra>",
         "legendgroup": "2",
         "marker": {
          "color": "blue",
          "size": 12,
          "symbol": "circle"
         },
         "mode": "markers",
         "name": "2",
         "orientation": "v",
         "showlegend": true,
         "type": "scatter",
         "x": [
          "F1",
          "F2",
          "F3",
          "F4",
          "F5"
         ],
         "xaxis": "x",
         "y": [
          0.38900395712538915,
          0.3973161962837483,
          0.2157754829745269,
          0.50463571536522,
          0.6158833173821848
         ],
         "yaxis": "y"
        },
        {
         "hovertemplate": "AG3Ptrans_mm_1=0<br>variable=%{x}<br>value=%{y}<extra></extra>",
         "legendgroup": "0",
         "line": {
          "color": "red",
          "dash": "solid",
          "shape": "linear"
         },
         "marker": {
          "symbol": "circle"
         },
         "mode": "lines",
         "name": "0",
         "orientation": "v",
         "showlegend": true,
         "type": "scatter",
         "x": [
          "F1",
          "F2",
          "F3",
          "F4",
          "F5"
         ],
         "xaxis": "x",
         "y": [
          0.6015663766266854,
          0.5736914098235126,
          0.531616114705778,
          0.43749419210156715,
          0.5969670408269049
         ],
         "yaxis": "y"
        },
        {
         "hovertemplate": "AG3Ptrans_mm_1=1<br>variable=%{x}<br>value=%{y}<extra></extra>",
         "legendgroup": "1",
         "line": {
          "color": "green",
          "dash": "solid",
          "shape": "linear"
         },
         "marker": {
          "symbol": "circle"
         },
         "mode": "lines",
         "name": "1",
         "orientation": "v",
         "showlegend": true,
         "type": "scatter",
         "x": [
          "F1",
          "F2",
          "F3",
          "F4",
          "F5"
         ],
         "xaxis": "x",
         "y": [
          0.4044817918094503,
          0.6620926401060558,
          0.5659972214240097,
          0.8747921904597631,
          0.18734130488134987
         ],
         "yaxis": "y"
        },
        {
         "hovertemplate": "AG3Ptrans_mm_1=2<br>variable=%{x}<br>value=%{y}<extra></extra>",
         "legendgroup": "2",
         "line": {
          "color": "blue",
          "dash": "solid",
          "shape": "linear"
         },
         "marker": {
          "symbol": "circle"
         },
         "mode": "lines",
         "name": "2",
         "orientation": "v",
         "showlegend": true,
         "type": "scatter",
         "x": [
          "F1",
          "F2",
          "F3",
          "F4",
          "F5"
         ],
         "xaxis": "x",
         "y": [
          0.38900395712538915,
          0.3973161962837483,
          0.2157754829745269,
          0.50463571536522,
          0.6158833173821848
         ],
         "yaxis": "y"
        }
       ],
       "layout": {
        "legend": {
         "orientation": "v",
         "title": {
          "text": "AG3Ptrans_mm_1"
         },
         "tracegroupgap": 0,
         "traceorder": "normal",
         "x": 1,
         "y": 1
        },
        "plot_bgcolor": "white",
        "template": {
         "data": {
          "bar": [
           {
            "error_x": {
             "color": "#2a3f5f"
            },
            "error_y": {
             "color": "#2a3f5f"
            },
            "marker": {
             "line": {
              "color": "#E5ECF6",
              "width": 0.5
             },
             "pattern": {
              "fillmode": "overlay",
              "size": 10,
              "solidity": 0.2
             }
            },
            "type": "bar"
           }
          ],
          "barpolar": [
           {
            "marker": {
             "line": {
              "color": "#E5ECF6",
              "width": 0.5
             },
             "pattern": {
              "fillmode": "overlay",
              "size": 10,
              "solidity": 0.2
             }
            },
            "type": "barpolar"
           }
          ],
          "carpet": [
           {
            "aaxis": {
             "endlinecolor": "#2a3f5f",
             "gridcolor": "white",
             "linecolor": "white",
             "minorgridcolor": "white",
             "startlinecolor": "#2a3f5f"
            },
            "baxis": {
             "endlinecolor": "#2a3f5f",
             "gridcolor": "white",
             "linecolor": "white",
             "minorgridcolor": "white",
             "startlinecolor": "#2a3f5f"
            },
            "type": "carpet"
           }
          ],
          "choropleth": [
           {
            "colorbar": {
             "outlinewidth": 0,
             "ticks": ""
            },
            "type": "choropleth"
           }
          ],
          "contour": [
           {
            "colorbar": {
             "outlinewidth": 0,
             "ticks": ""
            },
            "colorscale": [
             [
              0,
              "#0d0887"
             ],
             [
              0.1111111111111111,
              "#46039f"
             ],
             [
              0.2222222222222222,
              "#7201a8"
             ],
             [
              0.3333333333333333,
              "#9c179e"
             ],
             [
              0.4444444444444444,
              "#bd3786"
             ],
             [
              0.5555555555555556,
              "#d8576b"
             ],
             [
              0.6666666666666666,
              "#ed7953"
             ],
             [
              0.7777777777777778,
              "#fb9f3a"
             ],
             [
              0.8888888888888888,
              "#fdca26"
             ],
             [
              1,
              "#f0f921"
             ]
            ],
            "type": "contour"
           }
          ],
          "contourcarpet": [
           {
            "colorbar": {
             "outlinewidth": 0,
             "ticks": ""
            },
            "type": "contourcarpet"
           }
          ],
          "heatmap": [
           {
            "colorbar": {
             "outlinewidth": 0,
             "ticks": ""
            },
            "colorscale": [
             [
              0,
              "#0d0887"
             ],
             [
              0.1111111111111111,
              "#46039f"
             ],
             [
              0.2222222222222222,
              "#7201a8"
             ],
             [
              0.3333333333333333,
              "#9c179e"
             ],
             [
              0.4444444444444444,
              "#bd3786"
             ],
             [
              0.5555555555555556,
              "#d8576b"
             ],
             [
              0.6666666666666666,
              "#ed7953"
             ],
             [
              0.7777777777777778,
              "#fb9f3a"
             ],
             [
              0.8888888888888888,
              "#fdca26"
             ],
             [
              1,
              "#f0f921"
             ]
            ],
            "type": "heatmap"
           }
          ],
          "heatmapgl": [
           {
            "colorbar": {
             "outlinewidth": 0,
             "ticks": ""
            },
            "colorscale": [
             [
              0,
              "#0d0887"
             ],
             [
              0.1111111111111111,
              "#46039f"
             ],
             [
              0.2222222222222222,
              "#7201a8"
             ],
             [
              0.3333333333333333,
              "#9c179e"
             ],
             [
              0.4444444444444444,
              "#bd3786"
             ],
             [
              0.5555555555555556,
              "#d8576b"
             ],
             [
              0.6666666666666666,
              "#ed7953"
             ],
             [
              0.7777777777777778,
              "#fb9f3a"
             ],
             [
              0.8888888888888888,
              "#fdca26"
             ],
             [
              1,
              "#f0f921"
             ]
            ],
            "type": "heatmapgl"
           }
          ],
          "histogram": [
           {
            "marker": {
             "pattern": {
              "fillmode": "overlay",
              "size": 10,
              "solidity": 0.2
             }
            },
            "type": "histogram"
           }
          ],
          "histogram2d": [
           {
            "colorbar": {
             "outlinewidth": 0,
             "ticks": ""
            },
            "colorscale": [
             [
              0,
              "#0d0887"
             ],
             [
              0.1111111111111111,
              "#46039f"
             ],
             [
              0.2222222222222222,
              "#7201a8"
             ],
             [
              0.3333333333333333,
              "#9c179e"
             ],
             [
              0.4444444444444444,
              "#bd3786"
             ],
             [
              0.5555555555555556,
              "#d8576b"
             ],
             [
              0.6666666666666666,
              "#ed7953"
             ],
             [
              0.7777777777777778,
              "#fb9f3a"
             ],
             [
              0.8888888888888888,
              "#fdca26"
             ],
             [
              1,
              "#f0f921"
             ]
            ],
            "type": "histogram2d"
           }
          ],
          "histogram2dcontour": [
           {
            "colorbar": {
             "outlinewidth": 0,
             "ticks": ""
            },
            "colorscale": [
             [
              0,
              "#0d0887"
             ],
             [
              0.1111111111111111,
              "#46039f"
             ],
             [
              0.2222222222222222,
              "#7201a8"
             ],
             [
              0.3333333333333333,
              "#9c179e"
             ],
             [
              0.4444444444444444,
              "#bd3786"
             ],
             [
              0.5555555555555556,
              "#d8576b"
             ],
             [
              0.6666666666666666,
              "#ed7953"
             ],
             [
              0.7777777777777778,
              "#fb9f3a"
             ],
             [
              0.8888888888888888,
              "#fdca26"
             ],
             [
              1,
              "#f0f921"
             ]
            ],
            "type": "histogram2dcontour"
           }
          ],
          "mesh3d": [
           {
            "colorbar": {
             "outlinewidth": 0,
             "ticks": ""
            },
            "type": "mesh3d"
           }
          ],
          "parcoords": [
           {
            "line": {
             "colorbar": {
              "outlinewidth": 0,
              "ticks": ""
             }
            },
            "type": "parcoords"
           }
          ],
          "pie": [
           {
            "automargin": true,
            "type": "pie"
           }
          ],
          "scatter": [
           {
            "fillpattern": {
             "fillmode": "overlay",
             "size": 10,
             "solidity": 0.2
            },
            "type": "scatter"
           }
          ],
          "scatter3d": [
           {
            "line": {
             "colorbar": {
              "outlinewidth": 0,
              "ticks": ""
             }
            },
            "marker": {
             "colorbar": {
              "outlinewidth": 0,
              "ticks": ""
             }
            },
            "type": "scatter3d"
           }
          ],
          "scattercarpet": [
           {
            "marker": {
             "colorbar": {
              "outlinewidth": 0,
              "ticks": ""
             }
            },
            "type": "scattercarpet"
           }
          ],
          "scattergeo": [
           {
            "marker": {
             "colorbar": {
              "outlinewidth": 0,
              "ticks": ""
             }
            },
            "type": "scattergeo"
           }
          ],
          "scattergl": [
           {
            "marker": {
             "colorbar": {
              "outlinewidth": 0,
              "ticks": ""
             }
            },
            "type": "scattergl"
           }
          ],
          "scattermapbox": [
           {
            "marker": {
             "colorbar": {
              "outlinewidth": 0,
              "ticks": ""
             }
            },
            "type": "scattermapbox"
           }
          ],
          "scatterpolar": [
           {
            "marker": {
             "colorbar": {
              "outlinewidth": 0,
              "ticks": ""
             }
            },
            "type": "scatterpolar"
           }
          ],
          "scatterpolargl": [
           {
            "marker": {
             "colorbar": {
              "outlinewidth": 0,
              "ticks": ""
             }
            },
            "type": "scatterpolargl"
           }
          ],
          "scatterternary": [
           {
            "marker": {
             "colorbar": {
              "outlinewidth": 0,
              "ticks": ""
             }
            },
            "type": "scatterternary"
           }
          ],
          "surface": [
           {
            "colorbar": {
             "outlinewidth": 0,
             "ticks": ""
            },
            "colorscale": [
             [
              0,
              "#0d0887"
             ],
             [
              0.1111111111111111,
              "#46039f"
             ],
             [
              0.2222222222222222,
              "#7201a8"
             ],
             [
              0.3333333333333333,
              "#9c179e"
             ],
             [
              0.4444444444444444,
              "#bd3786"
             ],
             [
              0.5555555555555556,
              "#d8576b"
             ],
             [
              0.6666666666666666,
              "#ed7953"
             ],
             [
              0.7777777777777778,
              "#fb9f3a"
             ],
             [
              0.8888888888888888,
              "#fdca26"
             ],
             [
              1,
              "#f0f921"
             ]
            ],
            "type": "surface"
           }
          ],
          "table": [
           {
            "cells": {
             "fill": {
              "color": "#EBF0F8"
             },
             "line": {
              "color": "white"
             }
            },
            "header": {
             "fill": {
              "color": "#C8D4E3"
             },
             "line": {
              "color": "white"
             }
            },
            "type": "table"
           }
          ]
         },
         "layout": {
          "annotationdefaults": {
           "arrowcolor": "#2a3f5f",
           "arrowhead": 0,
           "arrowwidth": 1
          },
          "autotypenumbers": "strict",
          "coloraxis": {
           "colorbar": {
            "outlinewidth": 0,
            "ticks": ""
           }
          },
          "colorscale": {
           "diverging": [
            [
             0,
             "#8e0152"
            ],
            [
             0.1,
             "#c51b7d"
            ],
            [
             0.2,
             "#de77ae"
            ],
            [
             0.3,
             "#f1b6da"
            ],
            [
             0.4,
             "#fde0ef"
            ],
            [
             0.5,
             "#f7f7f7"
            ],
            [
             0.6,
             "#e6f5d0"
            ],
            [
             0.7,
             "#b8e186"
            ],
            [
             0.8,
             "#7fbc41"
            ],
            [
             0.9,
             "#4d9221"
            ],
            [
             1,
             "#276419"
            ]
           ],
           "sequential": [
            [
             0,
             "#0d0887"
            ],
            [
             0.1111111111111111,
             "#46039f"
            ],
            [
             0.2222222222222222,
             "#7201a8"
            ],
            [
             0.3333333333333333,
             "#9c179e"
            ],
            [
             0.4444444444444444,
             "#bd3786"
            ],
            [
             0.5555555555555556,
             "#d8576b"
            ],
            [
             0.6666666666666666,
             "#ed7953"
            ],
            [
             0.7777777777777778,
             "#fb9f3a"
            ],
            [
             0.8888888888888888,
             "#fdca26"
            ],
            [
             1,
             "#f0f921"
            ]
           ],
           "sequentialminus": [
            [
             0,
             "#0d0887"
            ],
            [
             0.1111111111111111,
             "#46039f"
            ],
            [
             0.2222222222222222,
             "#7201a8"
            ],
            [
             0.3333333333333333,
             "#9c179e"
            ],
            [
             0.4444444444444444,
             "#bd3786"
            ],
            [
             0.5555555555555556,
             "#d8576b"
            ],
            [
             0.6666666666666666,
             "#ed7953"
            ],
            [
             0.7777777777777778,
             "#fb9f3a"
            ],
            [
             0.8888888888888888,
             "#fdca26"
            ],
            [
             1,
             "#f0f921"
            ]
           ]
          },
          "colorway": [
           "#636efa",
           "#EF553B",
           "#00cc96",
           "#ab63fa",
           "#FFA15A",
           "#19d3f3",
           "#FF6692",
           "#B6E880",
           "#FF97FF",
           "#FECB52"
          ],
          "font": {
           "color": "#2a3f5f"
          },
          "geo": {
           "bgcolor": "white",
           "lakecolor": "white",
           "landcolor": "#E5ECF6",
           "showlakes": true,
           "showland": true,
           "subunitcolor": "white"
          },
          "hoverlabel": {
           "align": "left"
          },
          "hovermode": "closest",
          "mapbox": {
           "style": "light"
          },
          "paper_bgcolor": "white",
          "plot_bgcolor": "#E5ECF6",
          "polar": {
           "angularaxis": {
            "gridcolor": "white",
            "linecolor": "white",
            "ticks": ""
           },
           "bgcolor": "#E5ECF6",
           "radialaxis": {
            "gridcolor": "white",
            "linecolor": "white",
            "ticks": ""
           }
          },
          "scene": {
           "xaxis": {
            "backgroundcolor": "#E5ECF6",
            "gridcolor": "white",
            "gridwidth": 2,
            "linecolor": "white",
            "showbackground": true,
            "ticks": "",
            "zerolinecolor": "white"
           },
           "yaxis": {
            "backgroundcolor": "#E5ECF6",
            "gridcolor": "white",
            "gridwidth": 2,
            "linecolor": "white",
            "showbackground": true,
            "ticks": "",
            "zerolinecolor": "white"
           },
           "zaxis": {
            "backgroundcolor": "#E5ECF6",
            "gridcolor": "white",
            "gridwidth": 2,
            "linecolor": "white",
            "showbackground": true,
            "ticks": "",
            "zerolinecolor": "white"
           }
          },
          "shapedefaults": {
           "line": {
            "color": "#2a3f5f"
           }
          },
          "ternary": {
           "aaxis": {
            "gridcolor": "white",
            "linecolor": "white",
            "ticks": ""
           },
           "baxis": {
            "gridcolor": "white",
            "linecolor": "white",
            "ticks": ""
           },
           "bgcolor": "#E5ECF6",
           "caxis": {
            "gridcolor": "white",
            "linecolor": "white",
            "ticks": ""
           }
          },
          "title": {
           "x": 0.05
          },
          "xaxis": {
           "automargin": true,
           "gridcolor": "white",
           "linecolor": "white",
           "ticks": "",
           "title": {
            "standoff": 15
           },
           "zerolinecolor": "white",
           "zerolinewidth": 2
          },
          "yaxis": {
           "automargin": true,
           "gridcolor": "white",
           "linecolor": "white",
           "ticks": "",
           "title": {
            "standoff": 15
           },
           "zerolinecolor": "white",
           "zerolinewidth": 2
          }
         }
        },
        "title": {
         "text": "Customized Plot"
        },
        "xaxis": {
         "anchor": "y",
         "domain": [
          0,
          1
         ],
         "gridcolor": "LightGray",
         "gridwidth": 1,
         "showgrid": true,
         "title": {
          "text": " "
         }
        },
        "yaxis": {
         "anchor": "x",
         "domain": [
          0,
          1
         ],
         "gridcolor": "LightGray",
         "gridwidth": 1,
         "showgrid": true,
         "title": {
          "text": "Factor value"
         }
        }
       }
      }
     },
     "metadata": {},
     "output_type": "display_data"
    }
   ],
   "source": [
    "interactive_scatter(im3_groups_mean,'AG3Ptrans_mm_1')"
   ]
  },
  {
   "cell_type": "code",
   "execution_count": 502,
   "metadata": {},
   "outputs": [
    {
     "data": {
      "application/vnd.plotly.v1+json": {
       "config": {
        "plotlyServerURL": "https://plot.ly"
       },
       "data": [
        {
         "customdata": [
          [
           "Albacete",
           2
          ],
          [
           "Alcalá de Henares",
           1
          ],
          [
           "Alcobendas",
           0
          ],
          [
           "Alcorcón",
           1
          ],
          [
           "Algeciras",
           3
          ],
          [
           "Alicante/Alacant",
           2
          ],
          [
           "Almería",
           2
          ],
          [
           "Ávila",
           0
          ],
          [
           "Badajoz",
           3
          ],
          [
           "Badalona",
           2
          ],
          [
           "Barcelona",
           1
          ],
          [
           "Burgos",
           1
          ],
          [
           "Cáceres",
           0
          ],
          [
           "Cádiz",
           1
          ],
          [
           "Cartagena",
           3
          ],
          [
           "Castelló de la Plana",
           2
          ],
          [
           "Ceuta",
           0
          ],
          [
           "Ciudad Real",
           0
          ],
          [
           "Córdoba",
           3
          ],
          [
           "Coruña, A",
           2
          ],
          [
           "Cuenca",
           0
          ],
          [
           "Dos Hermanas",
           0
          ],
          [
           "Elche/Elx",
           3
          ],
          [
           "Fuenlabrada",
           1
          ],
          [
           "Getafe",
           1
          ],
          [
           "Gijón",
           2
          ],
          [
           "Girona",
           2
          ],
          [
           "Granada",
           2
          ],
          [
           "Guadalajara",
           0
          ],
          [
           "Hospitalet de Llobregat, L'",
           1
          ],
          [
           "Huelva",
           0
          ],
          [
           "Huesca",
           0
          ],
          [
           "Jaén",
           2
          ],
          [
           "Jerez de la Frontera",
           0
          ],
          [
           "Palmas de Gran Canaria, Las",
           2
          ],
          [
           "Leganés",
           0
          ],
          [
           "León",
           1
          ],
          [
           "Lleida",
           1
          ],
          [
           "Logroño",
           1
          ],
          [
           "Lugo",
           2
          ],
          [
           "Madrid",
           2
          ],
          [
           "Málaga",
           2
          ],
          [
           "Marbella",
           3
          ],
          [
           "Mataró",
           2
          ],
          [
           "Melilla",
           0
          ],
          [
           "Móstoles",
           2
          ],
          [
           "Murcia",
           2
          ],
          [
           "Ourense",
           3
          ],
          [
           "Oviedo",
           1
          ],
          [
           "Palencia",
           0
          ],
          [
           "Palma de Mallorca",
           2
          ],
          [
           "Parla",
           0
          ],
          [
           "Pontevedra",
           0
          ],
          [
           "Sabadell",
           2
          ],
          [
           "Salamanca",
           1
          ],
          [
           "San Cristóbal de La Laguna",
           3
          ],
          [
           "Santa Coloma de Gramenet",
           1
          ],
          [
           "Santa Cruz de Tenerife",
           2
          ],
          [
           "Santander",
           2
          ],
          [
           "Segovia",
           0
          ],
          [
           "Sevilla",
           2
          ],
          [
           "Soria",
           0
          ],
          [
           "Tarragona",
           2
          ],
          [
           "Terrassa",
           2
          ],
          [
           "Teruel",
           0
          ],
          [
           "Toledo",
           0
          ],
          [
           "Torrejón de Ardoz",
           0
          ],
          [
           "Valencia",
           1
          ],
          [
           "Valladolid",
           1
          ],
          [
           "Vigo",
           3
          ],
          [
           "Zamora",
           0
          ],
          [
           "Zaragoza",
           1
          ]
         ],
         "hovertemplate": "F3=%{x}<br>F4=%{y}<br>Ciudades=%{customdata[0]}<br>AG4Ptrans_mm_1=%{marker.color}<extra></extra>",
         "legendgroup": "",
         "marker": {
          "color": [
           2,
           1,
           0,
           1,
           3,
           2,
           2,
           0,
           3,
           2,
           1,
           1,
           0,
           1,
           3,
           2,
           0,
           0,
           3,
           2,
           0,
           0,
           3,
           1,
           1,
           2,
           2,
           2,
           0,
           1,
           0,
           0,
           2,
           0,
           2,
           0,
           1,
           1,
           1,
           2,
           2,
           2,
           3,
           2,
           0,
           2,
           2,
           3,
           1,
           0,
           2,
           0,
           0,
           2,
           1,
           3,
           1,
           2,
           2,
           0,
           2,
           0,
           2,
           2,
           0,
           0,
           0,
           1,
           1,
           3,
           0,
           1
          ],
          "coloraxis": "coloraxis",
          "symbol": "circle"
         },
         "mode": "markers",
         "name": "",
         "orientation": "v",
         "showlegend": false,
         "type": "scatter",
         "x": [
          0.4797977742620733,
          0.4060806180921276,
          0.1805138674266487,
          0.30230968118947177,
          0.4061580691066445,
          0.653226179410856,
          0.5748188720392107,
          0.19198805358508916,
          0.4796002510827243,
          0.5258858144218431,
          0.9208443906924173,
          0.41366122336903866,
          0.3267075638416254,
          0.2896622202461922,
          0.6479291454783532,
          0.4860470912246578,
          0.12355862303570819,
          0.2184974639423231,
          0.6848823835255542,
          0.5616535785468031,
          0.1588695889170279,
          0.4166630422884402,
          0.5639751283763715,
          0.40298431329451,
          0.41501630626888975,
          0.573046079914459,
          0.3384992471903179,
          0.5911895048102678,
          0.22771677878224633,
          0.47736596340560555,
          0.3816650642067797,
          0.0845345152994953,
          0.38545819370593953,
          0.5595331540409957,
          0.7152080541660494,
          0.36802403450247256,
          0.4162468519810693,
          0.3703949139038074,
          0.3441736685294483,
          0.409581208483916,
          1,
          0.7757417025293925,
          0.5375602821267583,
          0.3708332909348811,
          0.14983679213727524,
          0.4033176951502111,
          0.7850084867617446,
          0.505900095642132,
          0.4937615520497701,
          0.2222014346703346,
          0.706585726089088,
          0.2139682776017773,
          0.29256599733535515,
          0.5726438572166428,
          0.43811615323522696,
          0.5563648006509189,
          0.27377793807157924,
          0.5756599967960194,
          0.47155089801767286,
          0.12176696136215631,
          0.7987515315193602,
          0,
          0.38197818152779317,
          0.5956026258983665,
          0.034172635060540635,
          0.18462927008178098,
          0.06790228714743296,
          0.7985972970671988,
          0.5662499297605961,
          0.7116048368266293,
          0.22174522017408646,
          0.7349320911623796
         ],
         "xaxis": "x",
         "y": [
          0.6778686947070708,
          0.25941722305283854,
          0.7553312535366761,
          0.23313490246229607,
          0.9246694821802741,
          0.7303423585613849,
          0.6812848296507797,
          0.6259184075918435,
          1,
          0.45191258242469745,
          0.2975038321861626,
          0.24894731893465194,
          0.604981837072773,
          0,
          0.7694000606957319,
          0.5224163268121969,
          0.5896991045410012,
          0.5636664323633662,
          0.8905380195462085,
          0.4566626354327464,
          0.4679830383030345,
          0.7740400488011843,
          0.8339281997420296,
          0.1714675011002712,
          0.4135594224784109,
          0.560435365748652,
          0.6445995011077146,
          0.45663194974241333,
          0.5085150973672583,
          0.10362125957051777,
          0.29563030559993686,
          0.24185783424083113,
          0.5290399942446238,
          0.7098541359704873,
          0.6215996218537965,
          0.213030198442286,
          0.3384477128616462,
          0.3830949101600537,
          0.11553414962306552,
          0.42298686344000225,
          0.2638864201043507,
          0.6667543562100486,
          0.8562846233593601,
          0.5612174233475973,
          0.5225197319997268,
          0.427501478912073,
          0.7268825479807624,
          0.9222511734012384,
          0.3912965108961657,
          0.4499091315385403,
          0.660289583106141,
          0.37288732553813786,
          0.7307820746690465,
          0.5406544916484934,
          0.1961519853606271,
          0.8413698553784407,
          0.4378370341293475,
          0.6184213221017296,
          0.5153604851669241,
          0.40574484431975466,
          0.32807072727772923,
          0.4118108878004413,
          0.6107142266219151,
          0.6495263452840184,
          0.5866681333817676,
          0.7419499244185914,
          0.05079931052733194,
          0.24632140547435533,
          0.4035851889040581,
          0.8346882998345846,
          0.4784066800108242,
          0.37228138748192274
         ],
         "yaxis": "y"
        }
       ],
       "layout": {
        "coloraxis": {
         "colorbar": {
          "title": {
           "text": "AG4Ptrans_mm_1"
          }
         },
         "colorscale": [
          [
           0,
           "#0d0887"
          ],
          [
           0.1111111111111111,
           "#46039f"
          ],
          [
           0.2222222222222222,
           "#7201a8"
          ],
          [
           0.3333333333333333,
           "#9c179e"
          ],
          [
           0.4444444444444444,
           "#bd3786"
          ],
          [
           0.5555555555555556,
           "#d8576b"
          ],
          [
           0.6666666666666666,
           "#ed7953"
          ],
          [
           0.7777777777777778,
           "#fb9f3a"
          ],
          [
           0.8888888888888888,
           "#fdca26"
          ],
          [
           1,
           "#f0f921"
          ]
         ]
        },
        "legend": {
         "tracegroupgap": 0
        },
        "margin": {
         "t": 60
        },
        "template": {
         "data": {
          "bar": [
           {
            "error_x": {
             "color": "#2a3f5f"
            },
            "error_y": {
             "color": "#2a3f5f"
            },
            "marker": {
             "line": {
              "color": "#E5ECF6",
              "width": 0.5
             },
             "pattern": {
              "fillmode": "overlay",
              "size": 10,
              "solidity": 0.2
             }
            },
            "type": "bar"
           }
          ],
          "barpolar": [
           {
            "marker": {
             "line": {
              "color": "#E5ECF6",
              "width": 0.5
             },
             "pattern": {
              "fillmode": "overlay",
              "size": 10,
              "solidity": 0.2
             }
            },
            "type": "barpolar"
           }
          ],
          "carpet": [
           {
            "aaxis": {
             "endlinecolor": "#2a3f5f",
             "gridcolor": "white",
             "linecolor": "white",
             "minorgridcolor": "white",
             "startlinecolor": "#2a3f5f"
            },
            "baxis": {
             "endlinecolor": "#2a3f5f",
             "gridcolor": "white",
             "linecolor": "white",
             "minorgridcolor": "white",
             "startlinecolor": "#2a3f5f"
            },
            "type": "carpet"
           }
          ],
          "choropleth": [
           {
            "colorbar": {
             "outlinewidth": 0,
             "ticks": ""
            },
            "type": "choropleth"
           }
          ],
          "contour": [
           {
            "colorbar": {
             "outlinewidth": 0,
             "ticks": ""
            },
            "colorscale": [
             [
              0,
              "#0d0887"
             ],
             [
              0.1111111111111111,
              "#46039f"
             ],
             [
              0.2222222222222222,
              "#7201a8"
             ],
             [
              0.3333333333333333,
              "#9c179e"
             ],
             [
              0.4444444444444444,
              "#bd3786"
             ],
             [
              0.5555555555555556,
              "#d8576b"
             ],
             [
              0.6666666666666666,
              "#ed7953"
             ],
             [
              0.7777777777777778,
              "#fb9f3a"
             ],
             [
              0.8888888888888888,
              "#fdca26"
             ],
             [
              1,
              "#f0f921"
             ]
            ],
            "type": "contour"
           }
          ],
          "contourcarpet": [
           {
            "colorbar": {
             "outlinewidth": 0,
             "ticks": ""
            },
            "type": "contourcarpet"
           }
          ],
          "heatmap": [
           {
            "colorbar": {
             "outlinewidth": 0,
             "ticks": ""
            },
            "colorscale": [
             [
              0,
              "#0d0887"
             ],
             [
              0.1111111111111111,
              "#46039f"
             ],
             [
              0.2222222222222222,
              "#7201a8"
             ],
             [
              0.3333333333333333,
              "#9c179e"
             ],
             [
              0.4444444444444444,
              "#bd3786"
             ],
             [
              0.5555555555555556,
              "#d8576b"
             ],
             [
              0.6666666666666666,
              "#ed7953"
             ],
             [
              0.7777777777777778,
              "#fb9f3a"
             ],
             [
              0.8888888888888888,
              "#fdca26"
             ],
             [
              1,
              "#f0f921"
             ]
            ],
            "type": "heatmap"
           }
          ],
          "heatmapgl": [
           {
            "colorbar": {
             "outlinewidth": 0,
             "ticks": ""
            },
            "colorscale": [
             [
              0,
              "#0d0887"
             ],
             [
              0.1111111111111111,
              "#46039f"
             ],
             [
              0.2222222222222222,
              "#7201a8"
             ],
             [
              0.3333333333333333,
              "#9c179e"
             ],
             [
              0.4444444444444444,
              "#bd3786"
             ],
             [
              0.5555555555555556,
              "#d8576b"
             ],
             [
              0.6666666666666666,
              "#ed7953"
             ],
             [
              0.7777777777777778,
              "#fb9f3a"
             ],
             [
              0.8888888888888888,
              "#fdca26"
             ],
             [
              1,
              "#f0f921"
             ]
            ],
            "type": "heatmapgl"
           }
          ],
          "histogram": [
           {
            "marker": {
             "pattern": {
              "fillmode": "overlay",
              "size": 10,
              "solidity": 0.2
             }
            },
            "type": "histogram"
           }
          ],
          "histogram2d": [
           {
            "colorbar": {
             "outlinewidth": 0,
             "ticks": ""
            },
            "colorscale": [
             [
              0,
              "#0d0887"
             ],
             [
              0.1111111111111111,
              "#46039f"
             ],
             [
              0.2222222222222222,
              "#7201a8"
             ],
             [
              0.3333333333333333,
              "#9c179e"
             ],
             [
              0.4444444444444444,
              "#bd3786"
             ],
             [
              0.5555555555555556,
              "#d8576b"
             ],
             [
              0.6666666666666666,
              "#ed7953"
             ],
             [
              0.7777777777777778,
              "#fb9f3a"
             ],
             [
              0.8888888888888888,
              "#fdca26"
             ],
             [
              1,
              "#f0f921"
             ]
            ],
            "type": "histogram2d"
           }
          ],
          "histogram2dcontour": [
           {
            "colorbar": {
             "outlinewidth": 0,
             "ticks": ""
            },
            "colorscale": [
             [
              0,
              "#0d0887"
             ],
             [
              0.1111111111111111,
              "#46039f"
             ],
             [
              0.2222222222222222,
              "#7201a8"
             ],
             [
              0.3333333333333333,
              "#9c179e"
             ],
             [
              0.4444444444444444,
              "#bd3786"
             ],
             [
              0.5555555555555556,
              "#d8576b"
             ],
             [
              0.6666666666666666,
              "#ed7953"
             ],
             [
              0.7777777777777778,
              "#fb9f3a"
             ],
             [
              0.8888888888888888,
              "#fdca26"
             ],
             [
              1,
              "#f0f921"
             ]
            ],
            "type": "histogram2dcontour"
           }
          ],
          "mesh3d": [
           {
            "colorbar": {
             "outlinewidth": 0,
             "ticks": ""
            },
            "type": "mesh3d"
           }
          ],
          "parcoords": [
           {
            "line": {
             "colorbar": {
              "outlinewidth": 0,
              "ticks": ""
             }
            },
            "type": "parcoords"
           }
          ],
          "pie": [
           {
            "automargin": true,
            "type": "pie"
           }
          ],
          "scatter": [
           {
            "fillpattern": {
             "fillmode": "overlay",
             "size": 10,
             "solidity": 0.2
            },
            "type": "scatter"
           }
          ],
          "scatter3d": [
           {
            "line": {
             "colorbar": {
              "outlinewidth": 0,
              "ticks": ""
             }
            },
            "marker": {
             "colorbar": {
              "outlinewidth": 0,
              "ticks": ""
             }
            },
            "type": "scatter3d"
           }
          ],
          "scattercarpet": [
           {
            "marker": {
             "colorbar": {
              "outlinewidth": 0,
              "ticks": ""
             }
            },
            "type": "scattercarpet"
           }
          ],
          "scattergeo": [
           {
            "marker": {
             "colorbar": {
              "outlinewidth": 0,
              "ticks": ""
             }
            },
            "type": "scattergeo"
           }
          ],
          "scattergl": [
           {
            "marker": {
             "colorbar": {
              "outlinewidth": 0,
              "ticks": ""
             }
            },
            "type": "scattergl"
           }
          ],
          "scattermapbox": [
           {
            "marker": {
             "colorbar": {
              "outlinewidth": 0,
              "ticks": ""
             }
            },
            "type": "scattermapbox"
           }
          ],
          "scatterpolar": [
           {
            "marker": {
             "colorbar": {
              "outlinewidth": 0,
              "ticks": ""
             }
            },
            "type": "scatterpolar"
           }
          ],
          "scatterpolargl": [
           {
            "marker": {
             "colorbar": {
              "outlinewidth": 0,
              "ticks": ""
             }
            },
            "type": "scatterpolargl"
           }
          ],
          "scatterternary": [
           {
            "marker": {
             "colorbar": {
              "outlinewidth": 0,
              "ticks": ""
             }
            },
            "type": "scatterternary"
           }
          ],
          "surface": [
           {
            "colorbar": {
             "outlinewidth": 0,
             "ticks": ""
            },
            "colorscale": [
             [
              0,
              "#0d0887"
             ],
             [
              0.1111111111111111,
              "#46039f"
             ],
             [
              0.2222222222222222,
              "#7201a8"
             ],
             [
              0.3333333333333333,
              "#9c179e"
             ],
             [
              0.4444444444444444,
              "#bd3786"
             ],
             [
              0.5555555555555556,
              "#d8576b"
             ],
             [
              0.6666666666666666,
              "#ed7953"
             ],
             [
              0.7777777777777778,
              "#fb9f3a"
             ],
             [
              0.8888888888888888,
              "#fdca26"
             ],
             [
              1,
              "#f0f921"
             ]
            ],
            "type": "surface"
           }
          ],
          "table": [
           {
            "cells": {
             "fill": {
              "color": "#EBF0F8"
             },
             "line": {
              "color": "white"
             }
            },
            "header": {
             "fill": {
              "color": "#C8D4E3"
             },
             "line": {
              "color": "white"
             }
            },
            "type": "table"
           }
          ]
         },
         "layout": {
          "annotationdefaults": {
           "arrowcolor": "#2a3f5f",
           "arrowhead": 0,
           "arrowwidth": 1
          },
          "autotypenumbers": "strict",
          "coloraxis": {
           "colorbar": {
            "outlinewidth": 0,
            "ticks": ""
           }
          },
          "colorscale": {
           "diverging": [
            [
             0,
             "#8e0152"
            ],
            [
             0.1,
             "#c51b7d"
            ],
            [
             0.2,
             "#de77ae"
            ],
            [
             0.3,
             "#f1b6da"
            ],
            [
             0.4,
             "#fde0ef"
            ],
            [
             0.5,
             "#f7f7f7"
            ],
            [
             0.6,
             "#e6f5d0"
            ],
            [
             0.7,
             "#b8e186"
            ],
            [
             0.8,
             "#7fbc41"
            ],
            [
             0.9,
             "#4d9221"
            ],
            [
             1,
             "#276419"
            ]
           ],
           "sequential": [
            [
             0,
             "#0d0887"
            ],
            [
             0.1111111111111111,
             "#46039f"
            ],
            [
             0.2222222222222222,
             "#7201a8"
            ],
            [
             0.3333333333333333,
             "#9c179e"
            ],
            [
             0.4444444444444444,
             "#bd3786"
            ],
            [
             0.5555555555555556,
             "#d8576b"
            ],
            [
             0.6666666666666666,
             "#ed7953"
            ],
            [
             0.7777777777777778,
             "#fb9f3a"
            ],
            [
             0.8888888888888888,
             "#fdca26"
            ],
            [
             1,
             "#f0f921"
            ]
           ],
           "sequentialminus": [
            [
             0,
             "#0d0887"
            ],
            [
             0.1111111111111111,
             "#46039f"
            ],
            [
             0.2222222222222222,
             "#7201a8"
            ],
            [
             0.3333333333333333,
             "#9c179e"
            ],
            [
             0.4444444444444444,
             "#bd3786"
            ],
            [
             0.5555555555555556,
             "#d8576b"
            ],
            [
             0.6666666666666666,
             "#ed7953"
            ],
            [
             0.7777777777777778,
             "#fb9f3a"
            ],
            [
             0.8888888888888888,
             "#fdca26"
            ],
            [
             1,
             "#f0f921"
            ]
           ]
          },
          "colorway": [
           "#636efa",
           "#EF553B",
           "#00cc96",
           "#ab63fa",
           "#FFA15A",
           "#19d3f3",
           "#FF6692",
           "#B6E880",
           "#FF97FF",
           "#FECB52"
          ],
          "font": {
           "color": "#2a3f5f"
          },
          "geo": {
           "bgcolor": "white",
           "lakecolor": "white",
           "landcolor": "#E5ECF6",
           "showlakes": true,
           "showland": true,
           "subunitcolor": "white"
          },
          "hoverlabel": {
           "align": "left"
          },
          "hovermode": "closest",
          "mapbox": {
           "style": "light"
          },
          "paper_bgcolor": "white",
          "plot_bgcolor": "#E5ECF6",
          "polar": {
           "angularaxis": {
            "gridcolor": "white",
            "linecolor": "white",
            "ticks": ""
           },
           "bgcolor": "#E5ECF6",
           "radialaxis": {
            "gridcolor": "white",
            "linecolor": "white",
            "ticks": ""
           }
          },
          "scene": {
           "xaxis": {
            "backgroundcolor": "#E5ECF6",
            "gridcolor": "white",
            "gridwidth": 2,
            "linecolor": "white",
            "showbackground": true,
            "ticks": "",
            "zerolinecolor": "white"
           },
           "yaxis": {
            "backgroundcolor": "#E5ECF6",
            "gridcolor": "white",
            "gridwidth": 2,
            "linecolor": "white",
            "showbackground": true,
            "ticks": "",
            "zerolinecolor": "white"
           },
           "zaxis": {
            "backgroundcolor": "#E5ECF6",
            "gridcolor": "white",
            "gridwidth": 2,
            "linecolor": "white",
            "showbackground": true,
            "ticks": "",
            "zerolinecolor": "white"
           }
          },
          "shapedefaults": {
           "line": {
            "color": "#2a3f5f"
           }
          },
          "ternary": {
           "aaxis": {
            "gridcolor": "white",
            "linecolor": "white",
            "ticks": ""
           },
           "baxis": {
            "gridcolor": "white",
            "linecolor": "white",
            "ticks": ""
           },
           "bgcolor": "#E5ECF6",
           "caxis": {
            "gridcolor": "white",
            "linecolor": "white",
            "ticks": ""
           }
          },
          "title": {
           "x": 0.05
          },
          "xaxis": {
           "automargin": true,
           "gridcolor": "white",
           "linecolor": "white",
           "ticks": "",
           "title": {
            "standoff": 15
           },
           "zerolinecolor": "white",
           "zerolinewidth": 2
          },
          "yaxis": {
           "automargin": true,
           "gridcolor": "white",
           "linecolor": "white",
           "ticks": "",
           "title": {
            "standoff": 15
           },
           "zerolinecolor": "white",
           "zerolinewidth": 2
          }
         }
        },
        "xaxis": {
         "anchor": "y",
         "domain": [
          0,
          1
         ],
         "title": {
          "text": "F3"
         }
        },
        "yaxis": {
         "anchor": "x",
         "domain": [
          0,
          1
         ],
         "title": {
          "text": "F4"
         }
        }
       }
      }
     },
     "metadata": {},
     "output_type": "display_data"
    }
   ],
   "source": [
    "cl1 = df_list[0]\n",
    "px.scatter(cl1, x = 'F3', y = 'F4', color = \"AG4Ptrans_mm_1\", hover_data=[\"Ciudades\",\"AG4Ptrans_mm_1\"]) "
   ]
  },
  {
   "cell_type": "code",
   "execution_count": 23,
   "metadata": {},
   "outputs": [
    {
     "ename": "NameError",
     "evalue": "name 'fig' is not defined",
     "output_type": "error",
     "traceback": [
      "\u001b[1;31m---------------------------------------------------------------------------\u001b[0m",
      "\u001b[1;31mNameError\u001b[0m                                 Traceback (most recent call last)",
      "\u001b[1;32mc:\\Users\\crist\\Documents\\GitHub\\manifolds\\ciudades\\cluster_function\\cluster_function.ipynb Cell 82\u001b[0m line \u001b[0;36m2\n\u001b[0;32m      <a href='vscode-notebook-cell:/c%3A/Users/crist/Documents/GitHub/manifolds/ciudades/cluster_function/cluster_function.ipynb#Y141sZmlsZQ%3D%3D?line=0'>1</a>\u001b[0m \u001b[39m# Customize the layout (optional)\u001b[39;00m\n\u001b[1;32m----> <a href='vscode-notebook-cell:/c%3A/Users/crist/Documents/GitHub/manifolds/ciudades/cluster_function/cluster_function.ipynb#Y141sZmlsZQ%3D%3D?line=1'>2</a>\u001b[0m fig\u001b[39m.\u001b[39mupdate_layout(title\u001b[39m=\u001b[39m\u001b[39m'\u001b[39m\u001b[39m3D Scatter Plot\u001b[39m\u001b[39m'\u001b[39m, scene\u001b[39m=\u001b[39m\u001b[39mdict\u001b[39m(xaxis_title\u001b[39m=\u001b[39m\u001b[39m'\u001b[39m\u001b[39mX Axis\u001b[39m\u001b[39m'\u001b[39m, yaxis_title\u001b[39m=\u001b[39m\u001b[39m'\u001b[39m\u001b[39mY Axis\u001b[39m\u001b[39m'\u001b[39m, zaxis_title\u001b[39m=\u001b[39m\u001b[39m'\u001b[39m\u001b[39mZ Axis\u001b[39m\u001b[39m'\u001b[39m))\n\u001b[0;32m      <a href='vscode-notebook-cell:/c%3A/Users/crist/Documents/GitHub/manifolds/ciudades/cluster_function/cluster_function.ipynb#Y141sZmlsZQ%3D%3D?line=3'>4</a>\u001b[0m \u001b[39m# Show the plot\u001b[39;00m\n\u001b[0;32m      <a href='vscode-notebook-cell:/c%3A/Users/crist/Documents/GitHub/manifolds/ciudades/cluster_function/cluster_function.ipynb#Y141sZmlsZQ%3D%3D?line=4'>5</a>\u001b[0m fig\u001b[39m.\u001b[39mshow()\n",
      "\u001b[1;31mNameError\u001b[0m: name 'fig' is not defined"
     ]
    }
   ],
   "source": [
    "# Customize the layout (optional)\n",
    "fig.update_layout(title='3D Scatter Plot', scene=dict(xaxis_title='X Axis', yaxis_title='Y Axis', zaxis_title='Z Axis'))\n",
    "\n",
    "# Show the plot\n",
    "fig.show()\n",
    "\n",
    "\n",
    "\n",
    "\n"
   ]
  },
  {
   "cell_type": "code",
   "execution_count": 258,
   "metadata": {},
   "outputs": [],
   "source": [
    "## Iteracion por methodo de cluster \n",
    "n_clus = []\n",
    "sil_list = []\n",
    "cluster_names = ['Aglomerative','Kmeans']\n",
    "num = []\n",
    "numbers = [2,3,4,5,6,7,8,9,10]\n",
    "for number in numbers:\n",
    "    #print(number)    \n",
    "    for index, item in enumerate(clusters_functions): # podria ser interesante ennumerate\n",
    "        n = number\n",
    "        a = cluster_analysis_score(item,df_datos_Ptrans_mm.iloc[:,1:6],n)\n",
    "        num.append(n)\n",
    "        sil_list.append(a)\n",
    "        #print(a)\n",
    "    \n",
    "    "
   ]
  },
  {
   "cell_type": "code",
   "execution_count": null,
   "metadata": {},
   "outputs": [],
   "source": []
  },
  {
   "cell_type": "code",
   "execution_count": 259,
   "metadata": {},
   "outputs": [
    {
     "data": {
      "text/plain": [
       "[(0.27741132911550753,\n",
       "  array([0, 0, 0, 0, 1, 0, 0, 0, 1, 0, 0, 0, 0, 0, 1, 0, 0, 0, 1, 0, 0, 0,\n",
       "         1, 0, 0, 0, 0, 0, 0, 0, 0, 0, 0, 0, 0, 0, 0, 0, 0, 0, 0, 0, 1, 0,\n",
       "         0, 0, 0, 1, 0, 0, 0, 0, 0, 0, 0, 1, 0, 0, 0, 0, 0, 0, 0, 0, 0, 0,\n",
       "         0, 0, 0, 1, 0, 0], dtype=int64)),\n",
       " (0.23801659927771698,\n",
       "  array([0, 1, 1, 1, 0, 0, 0, 1, 0, 1, 0, 1, 1, 1, 0, 1, 1, 1, 0, 1, 1, 0,\n",
       "         0, 1, 1, 0, 1, 1, 1, 1, 1, 1, 1, 0, 0, 1, 1, 1, 1, 1, 0, 0, 0, 1,\n",
       "         1, 1, 0, 0, 1, 1, 0, 1, 1, 0, 1, 0, 1, 0, 1, 1, 1, 1, 1, 0, 1, 1,\n",
       "         1, 0, 1, 0, 1, 0])),\n",
       " (0.20456745565620385,\n",
       "  array([0, 0, 2, 0, 1, 0, 0, 2, 1, 0, 0, 0, 2, 0, 1, 0, 2, 2, 1, 0, 2, 2,\n",
       "         1, 0, 0, 0, 0, 0, 2, 0, 2, 2, 0, 2, 0, 2, 0, 0, 0, 0, 0, 0, 1, 0,\n",
       "         2, 0, 0, 1, 0, 2, 0, 2, 2, 0, 0, 1, 0, 0, 0, 2, 0, 2, 0, 0, 2, 2,\n",
       "         2, 0, 0, 1, 2, 0], dtype=int64)),\n",
       " (0.22130037888924736,\n",
       "  array([1, 0, 0, 1, 2, 1, 1, 0, 2, 1, 1, 1, 0, 1, 2, 0, 0, 0, 2, 1, 0, 2,\n",
       "         2, 1, 0, 1, 1, 1, 0, 1, 0, 0, 0, 0, 1, 0, 1, 1, 1, 1, 1, 1, 2, 0,\n",
       "         0, 0, 1, 2, 1, 0, 1, 0, 0, 1, 1, 2, 1, 1, 1, 0, 1, 0, 0, 1, 0, 0,\n",
       "         0, 1, 1, 2, 0, 1])),\n",
       " (0.2153242771733276,\n",
       "  array([2, 1, 0, 1, 3, 2, 2, 0, 3, 2, 1, 1, 0, 1, 3, 2, 0, 0, 3, 2, 0, 0,\n",
       "         3, 1, 1, 2, 2, 2, 0, 1, 0, 0, 2, 0, 2, 0, 1, 1, 1, 2, 2, 2, 3, 2,\n",
       "         0, 2, 2, 3, 1, 0, 2, 0, 0, 2, 1, 3, 1, 2, 2, 0, 2, 0, 2, 2, 0, 0,\n",
       "         0, 1, 1, 3, 0, 1], dtype=int64)),\n",
       " (0.25413226179339343,\n",
       "  array([2, 3, 0, 3, 1, 2, 2, 0, 1, 2, 2, 3, 0, 3, 1, 0, 0, 0, 1, 2, 0, 1,\n",
       "         1, 3, 3, 2, 2, 2, 0, 3, 0, 3, 0, 0, 2, 0, 0, 0, 3, 2, 2, 2, 1, 0,\n",
       "         0, 0, 2, 1, 2, 0, 2, 0, 0, 2, 3, 1, 3, 2, 2, 0, 2, 3, 0, 2, 0, 0,\n",
       "         3, 2, 2, 1, 0, 2])),\n",
       " (0.22181845685193535,\n",
       "  array([0, 1, 2, 1, 3, 0, 0, 2, 3, 0, 1, 1, 2, 1, 3, 0, 2, 2, 3, 0, 2, 2,\n",
       "         3, 1, 1, 0, 0, 0, 2, 1, 2, 2, 0, 2, 0, 2, 1, 1, 1, 0, 0, 0, 3, 0,\n",
       "         2, 0, 0, 3, 1, 2, 0, 2, 2, 0, 1, 3, 1, 0, 0, 2, 0, 2, 0, 0, 2, 2,\n",
       "         4, 1, 1, 3, 2, 1], dtype=int64)),\n",
       " (0.22106331947002358,\n",
       "  array([1, 3, 1, 3, 2, 0, 0, 1, 2, 0, 0, 3, 1, 3, 1, 4, 4, 4, 2, 0, 4, 1,\n",
       "         2, 3, 1, 0, 0, 0, 4, 3, 4, 3, 4, 1, 0, 4, 4, 4, 3, 0, 0, 0, 2, 4,\n",
       "         4, 4, 0, 2, 0, 1, 0, 4, 1, 0, 3, 2, 3, 0, 0, 4, 0, 3, 4, 0, 1, 1,\n",
       "         3, 0, 0, 2, 4, 0])),\n",
       " (0.189792224685659,\n",
       "  array([5, 1, 0, 1, 3, 5, 5, 0, 3, 2, 1, 1, 0, 1, 3, 2, 0, 0, 3, 2, 0, 0,\n",
       "         3, 1, 1, 5, 5, 2, 0, 1, 0, 0, 2, 0, 5, 0, 1, 1, 1, 2, 2, 5, 3, 2,\n",
       "         0, 2, 5, 3, 1, 0, 5, 0, 0, 5, 1, 3, 1, 5, 2, 0, 2, 0, 2, 5, 0, 0,\n",
       "         4, 1, 1, 3, 0, 1], dtype=int64)),\n",
       " (0.21649820710783904,\n",
       "  array([1, 5, 0, 5, 2, 1, 1, 0, 2, 3, 1, 5, 0, 5, 2, 3, 3, 0, 2, 3, 3, 2,\n",
       "         2, 5, 0, 1, 1, 3, 0, 5, 3, 5, 3, 0, 1, 3, 3, 3, 5, 3, 1, 1, 2, 3,\n",
       "         0, 3, 1, 2, 5, 0, 1, 0, 0, 1, 5, 2, 5, 1, 3, 3, 3, 0, 3, 1, 0, 0,\n",
       "         4, 1, 1, 2, 0, 1])),\n",
       " (0.1943346265030498,\n",
       "  array([5, 0, 1, 0, 3, 5, 5, 6, 3, 2, 0, 0, 6, 0, 3, 2, 1, 1, 3, 2, 1, 6,\n",
       "         3, 0, 0, 5, 5, 2, 1, 0, 1, 1, 2, 6, 5, 1, 0, 0, 0, 2, 2, 5, 3, 2,\n",
       "         1, 2, 5, 3, 0, 1, 5, 1, 1, 5, 0, 3, 0, 5, 2, 1, 2, 1, 2, 5, 1, 6,\n",
       "         4, 0, 0, 3, 1, 0], dtype=int64)),\n",
       " (0.21509265733036273,\n",
       "  array([0, 1, 2, 1, 3, 0, 0, 2, 3, 0, 0, 4, 2, 4, 2, 5, 5, 1, 3, 0, 5, 2,\n",
       "         3, 4, 1, 0, 0, 0, 5, 4, 1, 4, 5, 2, 0, 1, 1, 1, 4, 0, 0, 0, 3, 5,\n",
       "         5, 5, 0, 3, 4, 1, 0, 1, 2, 0, 1, 3, 4, 0, 0, 5, 0, 1, 5, 0, 2, 2,\n",
       "         6, 4, 1, 3, 1, 0])),\n",
       " (0.19708718385318028,\n",
       "  array([5, 7, 0, 7, 3, 5, 5, 6, 3, 2, 1, 7, 6, 1, 3, 2, 0, 0, 3, 2, 0, 6,\n",
       "         3, 7, 7, 5, 5, 2, 0, 1, 0, 0, 2, 6, 5, 0, 7, 7, 1, 2, 2, 5, 3, 2,\n",
       "         0, 2, 5, 3, 7, 0, 5, 0, 0, 5, 7, 3, 1, 5, 2, 0, 2, 0, 2, 5, 0, 6,\n",
       "         4, 1, 7, 3, 0, 7], dtype=int64)),\n",
       " (0.19006027689229174,\n",
       "  array([3, 2, 3, 2, 1, 6, 3, 4, 1, 0, 6, 2, 4, 7, 3, 0, 4, 2, 1, 0, 4, 1,\n",
       "         1, 2, 2, 3, 3, 0, 4, 7, 4, 2, 0, 3, 6, 4, 0, 2, 7, 0, 0, 6, 1, 0,\n",
       "         4, 0, 6, 1, 7, 2, 6, 4, 3, 6, 2, 1, 7, 6, 0, 4, 0, 2, 4, 6, 2, 4,\n",
       "         5, 7, 0, 1, 4, 6])),\n",
       " (0.2066955517803165,\n",
       "  array([5, 7, 8, 7, 3, 5, 5, 6, 3, 0, 1, 7, 6, 1, 3, 0, 2, 8, 3, 0, 2, 6,\n",
       "         3, 7, 7, 5, 5, 0, 8, 1, 2, 8, 0, 6, 5, 2, 7, 7, 1, 0, 0, 5, 3, 0,\n",
       "         2, 0, 5, 3, 7, 8, 5, 2, 8, 5, 7, 3, 1, 5, 0, 2, 0, 8, 0, 5, 8, 6,\n",
       "         4, 1, 7, 3, 2, 7], dtype=int64)),\n",
       " (0.1947186179157393,\n",
       "  array([4, 1, 6, 1, 5, 4, 4, 6, 5, 3, 8, 1, 6, 1, 0, 2, 2, 6, 5, 3, 2, 0,\n",
       "         0, 1, 6, 0, 4, 3, 6, 1, 6, 1, 2, 0, 4, 6, 3, 3, 1, 3, 8, 4, 5, 2,\n",
       "         2, 2, 4, 5, 1, 6, 4, 6, 6, 4, 1, 5, 1, 4, 3, 2, 3, 6, 2, 4, 6, 6,\n",
       "         7, 8, 3, 0, 6, 8])),\n",
       " (0.21185623448121416,\n",
       "  array([5, 3, 8, 3, 1, 5, 5, 6, 1, 7, 0, 3, 6, 0, 1, 7, 2, 8, 1, 7, 2, 6,\n",
       "         1, 3, 3, 5, 5, 7, 8, 0, 2, 8, 7, 6, 5, 2, 3, 3, 0, 7, 4, 5, 1, 7,\n",
       "         2, 7, 5, 1, 3, 8, 5, 2, 8, 5, 3, 1, 0, 5, 7, 2, 4, 8, 7, 5, 8, 6,\n",
       "         9, 0, 3, 1, 2, 3], dtype=int64)),\n",
       " (0.19737354899982285,\n",
       "  array([1, 0, 6, 0, 5, 1, 1, 6, 5, 7, 3, 0, 6, 3, 1, 4, 4, 2, 5, 7, 4, 6,\n",
       "         5, 0, 0, 1, 7, 7, 4, 3, 2, 0, 4, 6, 1, 2, 2, 7, 3, 7, 8, 1, 5, 4,\n",
       "         4, 4, 1, 5, 3, 2, 1, 2, 6, 7, 0, 5, 3, 1, 7, 4, 8, 2, 4, 1, 6, 6,\n",
       "         9, 3, 7, 5, 2, 1]))]"
      ]
     },
     "execution_count": 259,
     "metadata": {},
     "output_type": "execute_result"
    }
   ],
   "source": [
    "sil_list"
   ]
  },
  {
   "cell_type": "code",
   "execution_count": 260,
   "metadata": {},
   "outputs": [
    {
     "data": {
      "text/html": [
       "<div>\n",
       "<style scoped>\n",
       "    .dataframe tbody tr th:only-of-type {\n",
       "        vertical-align: middle;\n",
       "    }\n",
       "\n",
       "    .dataframe tbody tr th {\n",
       "        vertical-align: top;\n",
       "    }\n",
       "\n",
       "    .dataframe thead th {\n",
       "        text-align: right;\n",
       "    }\n",
       "</style>\n",
       "<table border=\"1\" class=\"dataframe\">\n",
       "  <thead>\n",
       "    <tr style=\"text-align: right;\">\n",
       "      <th></th>\n",
       "      <th>Method</th>\n",
       "      <th>Sil_Score</th>\n",
       "      <th>n_clusters</th>\n",
       "    </tr>\n",
       "  </thead>\n",
       "  <tbody>\n",
       "    <tr>\n",
       "      <th>0</th>\n",
       "      <td>Aglomerative</td>\n",
       "      <td>(0.27741132911550753, [0, 0, 0, 0, 1, 0, 0, 0,...</td>\n",
       "      <td>2</td>\n",
       "    </tr>\n",
       "    <tr>\n",
       "      <th>1</th>\n",
       "      <td>Kmeans</td>\n",
       "      <td>(0.23801659927771698, [0, 1, 1, 1, 0, 0, 0, 1,...</td>\n",
       "      <td>2</td>\n",
       "    </tr>\n",
       "    <tr>\n",
       "      <th>2</th>\n",
       "      <td>Aglomerative</td>\n",
       "      <td>(0.20456745565620385, [0, 0, 2, 0, 1, 0, 0, 2,...</td>\n",
       "      <td>3</td>\n",
       "    </tr>\n",
       "    <tr>\n",
       "      <th>3</th>\n",
       "      <td>Kmeans</td>\n",
       "      <td>(0.22130037888924736, [1, 0, 0, 1, 2, 1, 1, 0,...</td>\n",
       "      <td>3</td>\n",
       "    </tr>\n",
       "    <tr>\n",
       "      <th>4</th>\n",
       "      <td>Aglomerative</td>\n",
       "      <td>(0.2153242771733276, [2, 1, 0, 1, 3, 2, 2, 0, ...</td>\n",
       "      <td>4</td>\n",
       "    </tr>\n",
       "    <tr>\n",
       "      <th>5</th>\n",
       "      <td>Kmeans</td>\n",
       "      <td>(0.25413226179339343, [2, 3, 0, 3, 1, 2, 2, 0,...</td>\n",
       "      <td>4</td>\n",
       "    </tr>\n",
       "    <tr>\n",
       "      <th>6</th>\n",
       "      <td>Aglomerative</td>\n",
       "      <td>(0.22181845685193535, [0, 1, 2, 1, 3, 0, 0, 2,...</td>\n",
       "      <td>5</td>\n",
       "    </tr>\n",
       "    <tr>\n",
       "      <th>7</th>\n",
       "      <td>Kmeans</td>\n",
       "      <td>(0.22106331947002358, [1, 3, 1, 3, 2, 0, 0, 1,...</td>\n",
       "      <td>5</td>\n",
       "    </tr>\n",
       "    <tr>\n",
       "      <th>8</th>\n",
       "      <td>Aglomerative</td>\n",
       "      <td>(0.189792224685659, [5, 1, 0, 1, 3, 5, 5, 0, 3...</td>\n",
       "      <td>6</td>\n",
       "    </tr>\n",
       "    <tr>\n",
       "      <th>9</th>\n",
       "      <td>Kmeans</td>\n",
       "      <td>(0.21649820710783904, [1, 5, 0, 5, 2, 1, 1, 0,...</td>\n",
       "      <td>6</td>\n",
       "    </tr>\n",
       "    <tr>\n",
       "      <th>10</th>\n",
       "      <td>Aglomerative</td>\n",
       "      <td>(0.1943346265030498, [5, 0, 1, 0, 3, 5, 5, 6, ...</td>\n",
       "      <td>7</td>\n",
       "    </tr>\n",
       "    <tr>\n",
       "      <th>11</th>\n",
       "      <td>Kmeans</td>\n",
       "      <td>(0.21509265733036273, [0, 1, 2, 1, 3, 0, 0, 2,...</td>\n",
       "      <td>7</td>\n",
       "    </tr>\n",
       "    <tr>\n",
       "      <th>12</th>\n",
       "      <td>Aglomerative</td>\n",
       "      <td>(0.19708718385318028, [5, 7, 0, 7, 3, 5, 5, 6,...</td>\n",
       "      <td>8</td>\n",
       "    </tr>\n",
       "    <tr>\n",
       "      <th>13</th>\n",
       "      <td>Kmeans</td>\n",
       "      <td>(0.19006027689229174, [3, 2, 3, 2, 1, 6, 3, 4,...</td>\n",
       "      <td>8</td>\n",
       "    </tr>\n",
       "    <tr>\n",
       "      <th>14</th>\n",
       "      <td>Aglomerative</td>\n",
       "      <td>(0.2066955517803165, [5, 7, 8, 7, 3, 5, 5, 6, ...</td>\n",
       "      <td>9</td>\n",
       "    </tr>\n",
       "    <tr>\n",
       "      <th>15</th>\n",
       "      <td>Kmeans</td>\n",
       "      <td>(0.1947186179157393, [4, 1, 6, 1, 5, 4, 4, 6, ...</td>\n",
       "      <td>9</td>\n",
       "    </tr>\n",
       "    <tr>\n",
       "      <th>16</th>\n",
       "      <td>Aglomerative</td>\n",
       "      <td>(0.21185623448121416, [5, 3, 8, 3, 1, 5, 5, 6,...</td>\n",
       "      <td>10</td>\n",
       "    </tr>\n",
       "    <tr>\n",
       "      <th>17</th>\n",
       "      <td>Kmeans</td>\n",
       "      <td>(0.19737354899982285, [1, 0, 6, 0, 5, 1, 1, 6,...</td>\n",
       "      <td>10</td>\n",
       "    </tr>\n",
       "  </tbody>\n",
       "</table>\n",
       "</div>"
      ],
      "text/plain": [
       "          Method                                          Sil_Score  \\\n",
       "0   Aglomerative  (0.27741132911550753, [0, 0, 0, 0, 1, 0, 0, 0,...   \n",
       "1         Kmeans  (0.23801659927771698, [0, 1, 1, 1, 0, 0, 0, 1,...   \n",
       "2   Aglomerative  (0.20456745565620385, [0, 0, 2, 0, 1, 0, 0, 2,...   \n",
       "3         Kmeans  (0.22130037888924736, [1, 0, 0, 1, 2, 1, 1, 0,...   \n",
       "4   Aglomerative  (0.2153242771733276, [2, 1, 0, 1, 3, 2, 2, 0, ...   \n",
       "5         Kmeans  (0.25413226179339343, [2, 3, 0, 3, 1, 2, 2, 0,...   \n",
       "6   Aglomerative  (0.22181845685193535, [0, 1, 2, 1, 3, 0, 0, 2,...   \n",
       "7         Kmeans  (0.22106331947002358, [1, 3, 1, 3, 2, 0, 0, 1,...   \n",
       "8   Aglomerative  (0.189792224685659, [5, 1, 0, 1, 3, 5, 5, 0, 3...   \n",
       "9         Kmeans  (0.21649820710783904, [1, 5, 0, 5, 2, 1, 1, 0,...   \n",
       "10  Aglomerative  (0.1943346265030498, [5, 0, 1, 0, 3, 5, 5, 6, ...   \n",
       "11        Kmeans  (0.21509265733036273, [0, 1, 2, 1, 3, 0, 0, 2,...   \n",
       "12  Aglomerative  (0.19708718385318028, [5, 7, 0, 7, 3, 5, 5, 6,...   \n",
       "13        Kmeans  (0.19006027689229174, [3, 2, 3, 2, 1, 6, 3, 4,...   \n",
       "14  Aglomerative  (0.2066955517803165, [5, 7, 8, 7, 3, 5, 5, 6, ...   \n",
       "15        Kmeans  (0.1947186179157393, [4, 1, 6, 1, 5, 4, 4, 6, ...   \n",
       "16  Aglomerative  (0.21185623448121416, [5, 3, 8, 3, 1, 5, 5, 6,...   \n",
       "17        Kmeans  (0.19737354899982285, [1, 0, 6, 0, 5, 1, 1, 6,...   \n",
       "\n",
       "    n_clusters  \n",
       "0            2  \n",
       "1            2  \n",
       "2            3  \n",
       "3            3  \n",
       "4            4  \n",
       "5            4  \n",
       "6            5  \n",
       "7            5  \n",
       "8            6  \n",
       "9            6  \n",
       "10           7  \n",
       "11           7  \n",
       "12           8  \n",
       "13           8  \n",
       "14           9  \n",
       "15           9  \n",
       "16          10  \n",
       "17          10  "
      ]
     },
     "execution_count": 260,
     "metadata": {},
     "output_type": "execute_result"
    }
   ],
   "source": [
    "pd.DataFrame({'Method': 9*cluster_names, \"Sil_Score\": sil_list, \"n_clusters\" : num})"
   ]
  },
  {
   "cell_type": "code",
   "execution_count": 109,
   "metadata": {},
   "outputs": [],
   "source": [
    "sil_dic1 = {}\n",
    "for index, item in enumerate(clusters_functions):\n",
    "    a = cluster_analysis_score(item,df,2)\n",
    "    sil_dic1[cluster_names[index]] = a\n",
    "    \n",
    "    "
   ]
  },
  {
   "cell_type": "code",
   "execution_count": 110,
   "metadata": {},
   "outputs": [],
   "source": [
    "df_b = pd.DataFrame()"
   ]
  },
  {
   "cell_type": "code",
   "execution_count": 111,
   "metadata": {},
   "outputs": [
    {
     "data": {
      "text/html": [
       "<div>\n",
       "<style scoped>\n",
       "    .dataframe tbody tr th:only-of-type {\n",
       "        vertical-align: middle;\n",
       "    }\n",
       "\n",
       "    .dataframe tbody tr th {\n",
       "        vertical-align: top;\n",
       "    }\n",
       "\n",
       "    .dataframe thead th {\n",
       "        text-align: right;\n",
       "    }\n",
       "</style>\n",
       "<table border=\"1\" class=\"dataframe\">\n",
       "  <thead>\n",
       "    <tr style=\"text-align: right;\">\n",
       "      <th></th>\n",
       "      <th>Method</th>\n",
       "      <th>Score</th>\n",
       "    </tr>\n",
       "  </thead>\n",
       "  <tbody>\n",
       "    <tr>\n",
       "      <th>0</th>\n",
       "      <td>Aglomerative</td>\n",
       "      <td>0.277411</td>\n",
       "    </tr>\n",
       "    <tr>\n",
       "      <th>1</th>\n",
       "      <td>Kmeans</td>\n",
       "      <td>0.238017</td>\n",
       "    </tr>\n",
       "  </tbody>\n",
       "</table>\n",
       "</div>"
      ],
      "text/plain": [
       "         Method     Score\n",
       "0  Aglomerative  0.277411\n",
       "1        Kmeans  0.238017"
      ]
     },
     "execution_count": 111,
     "metadata": {},
     "output_type": "execute_result"
    }
   ],
   "source": [
    "pd.DataFrame(list(sil_dic1.items()), columns = [\"Method\",\"Score\"])"
   ]
  },
  {
   "cell_type": "markdown",
   "metadata": {},
   "source": [
    "How can I do this as well returing a dataframe"
   ]
  },
  {
   "cell_type": "code",
   "execution_count": 143,
   "metadata": {},
   "outputs": [],
   "source": [
    "\n",
    "def cluster_analysis(cluster_method,df):\n",
    "    visualizer_sil = KElbowVisualizer(cluster_method, k = (2,10), metric = \"silhouette\",\n",
    "                                  timings = True)\n",
    "    visualizer_sil.fit(df)\n",
    "    return visualizer_sil.k_scores_\n",
    "\n",
    "    "
   ]
  },
  {
   "cell_type": "code",
   "execution_count": 187,
   "metadata": {},
   "outputs": [
    {
     "data": {
      "text/html": [
       "<style>#sk-container-id-2 {color: black;background-color: white;}#sk-container-id-2 pre{padding: 0;}#sk-container-id-2 div.sk-toggleable {background-color: white;}#sk-container-id-2 label.sk-toggleable__label {cursor: pointer;display: block;width: 100%;margin-bottom: 0;padding: 0.3em;box-sizing: border-box;text-align: center;}#sk-container-id-2 label.sk-toggleable__label-arrow:before {content: \"▸\";float: left;margin-right: 0.25em;color: #696969;}#sk-container-id-2 label.sk-toggleable__label-arrow:hover:before {color: black;}#sk-container-id-2 div.sk-estimator:hover label.sk-toggleable__label-arrow:before {color: black;}#sk-container-id-2 div.sk-toggleable__content {max-height: 0;max-width: 0;overflow: hidden;text-align: left;background-color: #f0f8ff;}#sk-container-id-2 div.sk-toggleable__content pre {margin: 0.2em;color: black;border-radius: 0.25em;background-color: #f0f8ff;}#sk-container-id-2 input.sk-toggleable__control:checked~div.sk-toggleable__content {max-height: 200px;max-width: 100%;overflow: auto;}#sk-container-id-2 input.sk-toggleable__control:checked~label.sk-toggleable__label-arrow:before {content: \"▾\";}#sk-container-id-2 div.sk-estimator input.sk-toggleable__control:checked~label.sk-toggleable__label {background-color: #d4ebff;}#sk-container-id-2 div.sk-label input.sk-toggleable__control:checked~label.sk-toggleable__label {background-color: #d4ebff;}#sk-container-id-2 input.sk-hidden--visually {border: 0;clip: rect(1px 1px 1px 1px);clip: rect(1px, 1px, 1px, 1px);height: 1px;margin: -1px;overflow: hidden;padding: 0;position: absolute;width: 1px;}#sk-container-id-2 div.sk-estimator {font-family: monospace;background-color: #f0f8ff;border: 1px dotted black;border-radius: 0.25em;box-sizing: border-box;margin-bottom: 0.5em;}#sk-container-id-2 div.sk-estimator:hover {background-color: #d4ebff;}#sk-container-id-2 div.sk-parallel-item::after {content: \"\";width: 100%;border-bottom: 1px solid gray;flex-grow: 1;}#sk-container-id-2 div.sk-label:hover label.sk-toggleable__label {background-color: #d4ebff;}#sk-container-id-2 div.sk-serial::before {content: \"\";position: absolute;border-left: 1px solid gray;box-sizing: border-box;top: 0;bottom: 0;left: 50%;z-index: 0;}#sk-container-id-2 div.sk-serial {display: flex;flex-direction: column;align-items: center;background-color: white;padding-right: 0.2em;padding-left: 0.2em;position: relative;}#sk-container-id-2 div.sk-item {position: relative;z-index: 1;}#sk-container-id-2 div.sk-parallel {display: flex;align-items: stretch;justify-content: center;background-color: white;position: relative;}#sk-container-id-2 div.sk-item::before, #sk-container-id-2 div.sk-parallel-item::before {content: \"\";position: absolute;border-left: 1px solid gray;box-sizing: border-box;top: 0;bottom: 0;left: 50%;z-index: -1;}#sk-container-id-2 div.sk-parallel-item {display: flex;flex-direction: column;z-index: 1;position: relative;background-color: white;}#sk-container-id-2 div.sk-parallel-item:first-child::after {align-self: flex-end;width: 50%;}#sk-container-id-2 div.sk-parallel-item:last-child::after {align-self: flex-start;width: 50%;}#sk-container-id-2 div.sk-parallel-item:only-child::after {width: 0;}#sk-container-id-2 div.sk-dashed-wrapped {border: 1px dashed gray;margin: 0 0.4em 0.5em 0.4em;box-sizing: border-box;padding-bottom: 0.4em;background-color: white;}#sk-container-id-2 div.sk-label label {font-family: monospace;font-weight: bold;display: inline-block;line-height: 1.2em;}#sk-container-id-2 div.sk-label-container {text-align: center;}#sk-container-id-2 div.sk-container {/* jupyter's `normalize.less` sets `[hidden] { display: none; }` but bootstrap.min.css set `[hidden] { display: none !important; }` so we also need the `!important` here to be able to override the default hidden behavior on the sphinx rendered scikit-learn.org. See: https://github.com/scikit-learn/scikit-learn/issues/21755 */display: inline-block !important;position: relative;}#sk-container-id-2 div.sk-text-repr-fallback {display: none;}</style><div id=\"sk-container-id-2\" class=\"sk-top-container\"><div class=\"sk-text-repr-fallback\"><pre>KElbowVisualizer(ax=&lt;AxesSubplot:&gt;,\n",
       "                 estimator=AgglomerativeClustering(n_clusters=9), k=(2, 10),\n",
       "                 metric=&#x27;silhouette&#x27;)</pre><b>In a Jupyter environment, please rerun this cell to show the HTML representation or trust the notebook. <br />On GitHub, the HTML representation is unable to render, please try loading this page with nbviewer.org.</b></div><div class=\"sk-container\" hidden><div class=\"sk-item sk-dashed-wrapped\"><div class=\"sk-label-container\"><div class=\"sk-label sk-toggleable\"><input class=\"sk-toggleable__control sk-hidden--visually\" id=\"sk-estimator-id-4\" type=\"checkbox\" ><label for=\"sk-estimator-id-4\" class=\"sk-toggleable__label sk-toggleable__label-arrow\">KElbowVisualizer</label><div class=\"sk-toggleable__content\"><pre>KElbowVisualizer(ax=&lt;AxesSubplot:&gt;,\n",
       "                 estimator=AgglomerativeClustering(n_clusters=9), k=(2, 10),\n",
       "                 metric=&#x27;silhouette&#x27;)</pre></div></div></div><div class=\"sk-parallel\"><div class=\"sk-parallel-item\"><div class=\"sk-item\"><div class=\"sk-label-container\"><div class=\"sk-label sk-toggleable\"><input class=\"sk-toggleable__control sk-hidden--visually\" id=\"sk-estimator-id-5\" type=\"checkbox\" ><label for=\"sk-estimator-id-5\" class=\"sk-toggleable__label sk-toggleable__label-arrow\">estimator: AgglomerativeClustering</label><div class=\"sk-toggleable__content\"><pre>AgglomerativeClustering(n_clusters=9)</pre></div></div></div><div class=\"sk-serial\"><div class=\"sk-item\"><div class=\"sk-estimator sk-toggleable\"><input class=\"sk-toggleable__control sk-hidden--visually\" id=\"sk-estimator-id-6\" type=\"checkbox\" ><label for=\"sk-estimator-id-6\" class=\"sk-toggleable__label sk-toggleable__label-arrow\">AgglomerativeClustering</label><div class=\"sk-toggleable__content\"><pre>AgglomerativeClustering(n_clusters=9)</pre></div></div></div></div></div></div></div></div></div></div>"
      ],
      "text/plain": [
       "KElbowVisualizer(ax=<AxesSubplot:>,\n",
       "                 estimator=AgglomerativeClustering(n_clusters=9), k=(2, 10),\n",
       "                 metric='silhouette')"
      ]
     },
     "execution_count": 187,
     "metadata": {},
     "output_type": "execute_result"
    },
    {
     "data": {
      "image/png": "[encoded data removed]",
      "text/plain": [
       "<Figure size 800x550 with 2 Axes>"
      ]
     },
     "metadata": {},
     "output_type": "display_data"
    }
   ],
   "source": [
    "Ptrans_mm_1 = df_datos_Ptrans_mm.iloc[:,1:6]\n",
    "visualizer_sil = KElbowVisualizer(aglomerativo, k = (2,10), metric = \"silhouette\",\n",
    "                                  timings = True)\n",
    "\n",
    "visualizer_sil.fit(Ptrans_mm_1)"
   ]
  },
  {
   "cell_type": "code",
   "execution_count": 146,
   "metadata": {},
   "outputs": [
    {
     "data": {
      "text/plain": [
       "[0.27741132911550753,\n",
       " 0.20456745565620385,\n",
       " 0.2153242771733276,\n",
       " 0.22181845685193535,\n",
       " 0.189792224685659,\n",
       " 0.1943346265030498,\n",
       " 0.19708718385318028,\n",
       " 0.2066955517803165]"
      ]
     },
     "execution_count": 146,
     "metadata": {},
     "output_type": "execute_result"
    },
    {
     "data": {
      "image/png": "[encoded data removed]",
      "text/plain": [
       "<Figure size 800x550 with 2 Axes>"
      ]
     },
     "metadata": {},
     "output_type": "display_data"
    }
   ],
   "source": [
    "cluster_analysis(aglomerativo,df_datos_Ptrans_mm.iloc[:,1:6])"
   ]
  },
  {
   "cell_type": "markdown",
   "metadata": {},
   "source": [
    "### Necesitamos definir distintos dataset con algunas hipotesis eliminando algunas observaciones que podrian ser outliers y algunas variables. \n",
    "\n",
    "1. En principio podemos eliminar del dataset torrejon de ardoz debido a que es un outliers muy importante.\n",
    "\n",
    "A- En los datos Ptrans el mayor numero de outliers de las observaciones es torrejon de ardoz, Madrid. \n",
    "\n",
    "B- Desde el punto de vista de las variables podemos descartar SQUAERE_MN \n",
    "\n"
   ]
  },
  {
   "cell_type": "markdown",
   "metadata": {},
   "source": []
  }
 ],
 "metadata": {
  "kernelspec": {
   "display_name": "datamecum",
   "language": "python",
   "name": "python3"
  },
  "language_info": {
   "codemirror_mode": {
    "name": "ipython",
    "version": 3
   },
   "file_extension": ".py",
   "mimetype": "text/x-python",
   "name": "python",
   "nbconvert_exporter": "python",
   "pygments_lexer": "ipython3",
   "version": "3.9.13"
  }
 },
 "nbformat": 4,
 "nbformat_minor": 2
}
