{
 "cells": [
  {
   "cell_type": "markdown",
   "id": "27e1badd-3162-4d39-ace0-51af422bf56c",
   "metadata": {},
   "source": [
    "## En este notebook vamos a crear un dataframe con los datos de divisionimport pandas as pd\n"
   ]
  },
  {
   "cell_type": "code",
   "execution_count": 101,
   "id": "471c1e4b-9e32-4a64-9304-c139e3fa60e8",
   "metadata": {
    "tags": []
   },
   "outputs": [],
   "source": [
    "import pandas as pd\n",
    "import os\n",
    "import glob\n",
    "import os\n",
    "import string"
   ]
  },
  {
   "cell_type": "code",
   "execution_count": 69,
   "id": "61df40f8-65c2-4d15-a866-a9343581b8dc",
   "metadata": {
    "tags": []
   },
   "outputs": [],
   "source": [
    "path =(r\"C:/projectos/manifolds/ciudades/datos/division\")\n",
    "os.chdir(path)"
   ]
  },
  {
   "cell_type": "code",
   "execution_count": 70,
   "id": "991fd482-8698-4dbd-a10e-649e554fa5d2",
   "metadata": {
    "tags": []
   },
   "outputs": [],
   "source": [
    "file_name = []\n",
    "for file in os.listdir():\n",
    "    file_name.append(file) "
   ]
  },
  {
   "cell_type": "code",
   "execution_count": 71,
   "id": "7398afff-5639-4720-934b-4feaea2092cb",
   "metadata": {
    "tags": []
   },
   "outputs": [],
   "source": [
    "#file_name"
   ]
  },
  {
   "cell_type": "code",
   "execution_count": 72,
   "id": "1d1a9ea3-62e8-4a75-a3a2-68d4c18abe8e",
   "metadata": {
    "tags": []
   },
   "outputs": [
    {
     "data": {
      "text/html": [
       "<div>\n",
       "<style scoped>\n",
       "    .dataframe tbody tr th:only-of-type {\n",
       "        vertical-align: middle;\n",
       "    }\n",
       "\n",
       "    .dataframe tbody tr th {\n",
       "        vertical-align: top;\n",
       "    }\n",
       "\n",
       "    .dataframe thead th {\n",
       "        text-align: right;\n",
       "    }\n",
       "</style>\n",
       "<table border=\"1\" class=\"dataframe\">\n",
       "  <thead>\n",
       "    <tr style=\"text-align: right;\">\n",
       "      <th></th>\n",
       "      <th>NP</th>\n",
       "      <th>DIVISION</th>\n",
       "      <th>SPLIT</th>\n",
       "      <th>MESH</th>\n",
       "    </tr>\n",
       "  </thead>\n",
       "  <tbody>\n",
       "  </tbody>\n",
       "</table>\n",
       "</div>"
      ],
      "text/plain": [
       "Empty DataFrame\n",
       "Columns: [NP, DIVISION, SPLIT, MESH]\n",
       "Index: []"
      ]
     },
     "execution_count": 72,
     "metadata": {},
     "output_type": "execute_result"
    }
   ],
   "source": [
    "df = pd.DataFrame(columns = ['NP', 'DIVISION', 'SPLIT', 'MESH'])\n",
    "df"
   ]
  },
  {
   "cell_type": "code",
   "execution_count": 73,
   "id": "914f17f2-0c6c-4641-a071-f9537d902da0",
   "metadata": {
    "tags": []
   },
   "outputs": [],
   "source": [
    "dict_metricas = {}\n",
    "\n",
    "for file in file_name:\n",
    "    n = -4\n",
    "    with open(file) as f:\n",
    "        lines = f.readlines()[n:]\n",
    "        for line in lines:\n",
    "            x = line.split(\" \", 1)\n",
    "            dict_metricas[x[0]] = x[1][:-1]\n",
    "            df_temp = pd.DataFrame(dict_metricas, index = [file])\n",
    "        df = pd.concat([df, df_temp], axis = 0)"
   ]
  },
  {
   "cell_type": "code",
   "execution_count": 74,
   "id": "c7fffb19-3319-4182-b42d-befd2643a1dd",
   "metadata": {
    "tags": []
   },
   "outputs": [
    {
     "data": {
      "text/plain": [
       "{'NP': '33840',\n",
       " 'DIVISION': '0.999085',\n",
       " 'SPLIT': '1092.444948',\n",
       " 'MESH': '61016.933997',\n",
       " 'Landscape': 'Indices'}"
      ]
     },
     "execution_count": 74,
     "metadata": {},
     "output_type": "execute_result"
    }
   ],
   "source": [
    "dict_metricas"
   ]
  },
  {
   "cell_type": "code",
   "execution_count": 100,
   "id": "58bee67a-3693-4361-814e-db6c53b86555",
   "metadata": {
    "tags": []
   },
   "outputs": [],
   "source": [
    "df_division = df.reset_index()"
   ]
  },
  {
   "cell_type": "code",
   "execution_count": 76,
   "id": "81b90de5-74cf-4982-8254-d816397d52f8",
   "metadata": {
    "tags": []
   },
   "outputs": [
    {
     "data": {
      "text/html": [
       "<div>\n",
       "<style scoped>\n",
       "    .dataframe tbody tr th:only-of-type {\n",
       "        vertical-align: middle;\n",
       "    }\n",
       "\n",
       "    .dataframe tbody tr th {\n",
       "        vertical-align: top;\n",
       "    }\n",
       "\n",
       "    .dataframe thead th {\n",
       "        text-align: right;\n",
       "    }\n",
       "</style>\n",
       "<table border=\"1\" class=\"dataframe\">\n",
       "  <thead>\n",
       "    <tr style=\"text-align: right;\">\n",
       "      <th></th>\n",
       "      <th>index</th>\n",
       "      <th>NP</th>\n",
       "      <th>DIVISION</th>\n",
       "      <th>SPLIT</th>\n",
       "      <th>MESH</th>\n",
       "      <th>Landscape</th>\n",
       "    </tr>\n",
       "  </thead>\n",
       "  <tbody>\n",
       "    <tr>\n",
       "      <th>0</th>\n",
       "      <td>albacete_division.txt</td>\n",
       "      <td>16340</td>\n",
       "      <td>0.998687</td>\n",
       "      <td>761.324954</td>\n",
       "      <td>30324.38851</td>\n",
       "      <td>NaN</td>\n",
       "    </tr>\n",
       "    <tr>\n",
       "      <th>1</th>\n",
       "      <td>alcala division.txt</td>\n",
       "      <td>12799</td>\n",
       "      <td>0.997699</td>\n",
       "      <td>434.606088</td>\n",
       "      <td>54766.19330</td>\n",
       "      <td>NaN</td>\n",
       "    </tr>\n",
       "    <tr>\n",
       "      <th>2</th>\n",
       "      <td>alcorcon_division.txt</td>\n",
       "      <td>5605</td>\n",
       "      <td>0.997393</td>\n",
       "      <td>383.553726</td>\n",
       "      <td>32451.17466</td>\n",
       "      <td>NaN</td>\n",
       "    </tr>\n",
       "    <tr>\n",
       "      <th>3</th>\n",
       "      <td>algeciras_division.txt</td>\n",
       "      <td>19036</td>\n",
       "      <td>0.996577</td>\n",
       "      <td>292.158740</td>\n",
       "      <td>72379.330489</td>\n",
       "      <td>NaN</td>\n",
       "    </tr>\n",
       "    <tr>\n",
       "      <th>4</th>\n",
       "      <td>alicante_division.txt</td>\n",
       "      <td>23930</td>\n",
       "      <td>0.999096</td>\n",
       "      <td>1106.442543</td>\n",
       "      <td>35305.458629</td>\n",
       "      <td>NaN</td>\n",
       "    </tr>\n",
       "  </tbody>\n",
       "</table>\n",
       "</div>"
      ],
      "text/plain": [
       "                    index     NP  DIVISION        SPLIT          MESH  \\\n",
       "0   albacete_division.txt  16340  0.998687   761.324954   30324.38851   \n",
       "1     alcala division.txt  12799  0.997699   434.606088   54766.19330   \n",
       "2   alcorcon_division.txt   5605  0.997393   383.553726   32451.17466   \n",
       "3  algeciras_division.txt  19036  0.996577   292.158740  72379.330489   \n",
       "4   alicante_division.txt  23930  0.999096  1106.442543  35305.458629   \n",
       "\n",
       "  Landscape  \n",
       "0       NaN  \n",
       "1       NaN  \n",
       "2       NaN  \n",
       "3       NaN  \n",
       "4       NaN  "
      ]
     },
     "execution_count": 76,
     "metadata": {},
     "output_type": "execute_result"
    }
   ],
   "source": [
    "df_division.head()"
   ]
  },
  {
   "cell_type": "code",
   "execution_count": 77,
   "id": "e4c1bb71-ec42-4b29-bc7b-4f09cfb9a204",
   "metadata": {
    "tags": []
   },
   "outputs": [
    {
     "name": "stderr",
     "output_type": "stream",
     "text": [
      "C:\\Users\\crist\\AppData\\Local\\Temp\\ipykernel_24516\\4219627780.py:1: FutureWarning: In a future version of pandas all arguments of StringMethods.split except for the argument 'pat' will be keyword-only.\n",
      "  df_division[['ciudad','metrica']] = df_division['index'].str.split('_division',1,expand = True)\n"
     ]
    }
   ],
   "source": [
    "df_division[['ciudad','metrica']] = df_division['index'].str.split('_division',1,expand = True)"
   ]
  },
  {
   "cell_type": "code",
   "execution_count": 82,
   "id": "794b44d6-5a6d-4109-95a2-8b8b147927be",
   "metadata": {
    "tags": []
   },
   "outputs": [],
   "source": [
    "df_division = df_division.loc[:,[\"ciudad\",\"NP\",\"DIVISION\",\"SPLIT\",\"MESH\"]]"
   ]
  },
  {
   "cell_type": "code",
   "execution_count": 87,
   "id": "9a8b9368-51fa-4756-8db7-ce356b1a5bb1",
   "metadata": {
    "tags": []
   },
   "outputs": [],
   "source": [
    "df_division.to_csv('ciudades_division.csv')"
   ]
  },
  {
   "cell_type": "code",
   "execution_count": 93,
   "id": "c1e66882-7ee8-4f14-ad14-3f7c247e6111",
   "metadata": {
    "tags": []
   },
   "outputs": [
    {
     "data": {
      "text/plain": [
       "ciudad      object\n",
       "NP          object\n",
       "DIVISION    object\n",
       "SPLIT       object\n",
       "MESH        object\n",
       "dtype: object"
      ]
     },
     "execution_count": 93,
     "metadata": {},
     "output_type": "execute_result"
    }
   ],
   "source": [
    "df_division.dtypes"
   ]
  },
  {
   "cell_type": "code",
   "execution_count": 96,
   "id": "35fa7b12-4552-4808-87fd-850d3e9e40fe",
   "metadata": {
    "tags": []
   },
   "outputs": [],
   "source": [
    "df_division['DIVISION'] = df_division.NP.astype('float')"
   ]
  },
  {
   "cell_type": "code",
   "execution_count": 98,
   "id": "dab1c605-9cd3-4afb-ab59-39d70ff575fd",
   "metadata": {
    "tags": []
   },
   "outputs": [
    {
     "data": {
      "text/plain": [
       "0    16340.0\n",
       "1    12799.0\n",
       "2     5605.0\n",
       "3    19036.0\n",
       "4    23930.0\n",
       "Name: NP, dtype: float64"
      ]
     },
     "execution_count": 98,
     "metadata": {},
     "output_type": "execute_result"
    }
   ],
   "source": [
    "df_division.head()"
   ]
  },
  {
   "cell_type": "code",
   "execution_count": null,
   "id": "43c40569-73a3-4043-b831-6a06c38c9227",
   "metadata": {},
   "outputs": [],
   "source": []
  },
  {
   "cell_type": "code",
   "execution_count": 99,
   "id": "48f86406-4267-4643-a41c-cedc27675986",
   "metadata": {
    "tags": []
   },
   "outputs": [
    {
     "ename": "AttributeError",
     "evalue": "'Rectangle' object has no property 'column'",
     "output_type": "error",
     "traceback": [
      "\u001b[1;31m---------------------------------------------------------------------------\u001b[0m",
      "\u001b[1;31mAttributeError\u001b[0m                            Traceback (most recent call last)",
      "Cell \u001b[1;32mIn [99], line 1\u001b[0m\n\u001b[1;32m----> 1\u001b[0m df_division\u001b[38;5;241m.\u001b[39mhist(column \u001b[38;5;241m=\u001b[39m \u001b[38;5;124m'\u001b[39m\u001b[38;5;124mDIVISION\u001b[39m\u001b[38;5;124m'\u001b[39m, by \u001b[38;5;241m=\u001b[39m \u001b[38;5;28;01mNone\u001b[39;00m)\n",
      "File \u001b[1;32m~\\miniconda3\\envs\\datamecum\\lib\\site-packages\\pandas\\plotting\\_core.py:105\u001b[0m, in \u001b[0;36mhist_series\u001b[1;34m(self, by, ax, grid, xlabelsize, xrot, ylabelsize, yrot, figsize, bins, backend, legend, **kwargs)\u001b[0m\n\u001b[0;32m     53\u001b[0m \u001b[38;5;124;03m\"\"\"\u001b[39;00m\n\u001b[0;32m     54\u001b[0m \u001b[38;5;124;03mDraw histogram of the input series using matplotlib.\u001b[39;00m\n\u001b[0;32m     55\u001b[0m \n\u001b[1;32m   (...)\u001b[0m\n\u001b[0;32m    102\u001b[0m \u001b[38;5;124;03mmatplotlib.axes.Axes.hist : Plot a histogram using matplotlib.\u001b[39;00m\n\u001b[0;32m    103\u001b[0m \u001b[38;5;124;03m\"\"\"\u001b[39;00m\n\u001b[0;32m    104\u001b[0m plot_backend \u001b[38;5;241m=\u001b[39m _get_plot_backend(backend)\n\u001b[1;32m--> 105\u001b[0m \u001b[38;5;28;01mreturn\u001b[39;00m plot_backend\u001b[38;5;241m.\u001b[39mhist_series(\n\u001b[0;32m    106\u001b[0m     \u001b[38;5;28mself\u001b[39m,\n\u001b[0;32m    107\u001b[0m     by\u001b[38;5;241m=\u001b[39mby,\n\u001b[0;32m    108\u001b[0m     ax\u001b[38;5;241m=\u001b[39max,\n\u001b[0;32m    109\u001b[0m     grid\u001b[38;5;241m=\u001b[39mgrid,\n\u001b[0;32m    110\u001b[0m     xlabelsize\u001b[38;5;241m=\u001b[39mxlabelsize,\n\u001b[0;32m    111\u001b[0m     xrot\u001b[38;5;241m=\u001b[39mxrot,\n\u001b[0;32m    112\u001b[0m     ylabelsize\u001b[38;5;241m=\u001b[39mylabelsize,\n\u001b[0;32m    113\u001b[0m     yrot\u001b[38;5;241m=\u001b[39myrot,\n\u001b[0;32m    114\u001b[0m     figsize\u001b[38;5;241m=\u001b[39mfigsize,\n\u001b[0;32m    115\u001b[0m     bins\u001b[38;5;241m=\u001b[39mbins,\n\u001b[0;32m    116\u001b[0m     legend\u001b[38;5;241m=\u001b[39mlegend,\n\u001b[0;32m    117\u001b[0m     \u001b[38;5;241m*\u001b[39m\u001b[38;5;241m*\u001b[39mkwargs,\n\u001b[0;32m    118\u001b[0m )\n",
      "File \u001b[1;32m~\\miniconda3\\envs\\datamecum\\lib\\site-packages\\pandas\\plotting\\_matplotlib\\hist.py:410\u001b[0m, in \u001b[0;36mhist_series\u001b[1;34m(self, by, ax, grid, xlabelsize, xrot, ylabelsize, yrot, figsize, bins, legend, **kwds)\u001b[0m\n\u001b[0;32m    408\u001b[0m \u001b[38;5;28;01mif\u001b[39;00m legend:\n\u001b[0;32m    409\u001b[0m     kwds[\u001b[38;5;124m\"\u001b[39m\u001b[38;5;124mlabel\u001b[39m\u001b[38;5;124m\"\u001b[39m] \u001b[38;5;241m=\u001b[39m \u001b[38;5;28mself\u001b[39m\u001b[38;5;241m.\u001b[39mname\n\u001b[1;32m--> 410\u001b[0m ax\u001b[38;5;241m.\u001b[39mhist(values, bins\u001b[38;5;241m=\u001b[39mbins, \u001b[38;5;241m*\u001b[39m\u001b[38;5;241m*\u001b[39mkwds)\n\u001b[0;32m    411\u001b[0m \u001b[38;5;28;01mif\u001b[39;00m legend:\n\u001b[0;32m    412\u001b[0m     ax\u001b[38;5;241m.\u001b[39mlegend()\n",
      "File \u001b[1;32m~\\AppData\\Roaming\\Python\\Python39\\site-packages\\matplotlib\\__init__.py:1414\u001b[0m, in \u001b[0;36m_preprocess_data.<locals>.inner\u001b[1;34m(ax, data, *args, **kwargs)\u001b[0m\n\u001b[0;32m   1411\u001b[0m \u001b[38;5;129m@functools\u001b[39m\u001b[38;5;241m.\u001b[39mwraps(func)\n\u001b[0;32m   1412\u001b[0m \u001b[38;5;28;01mdef\u001b[39;00m \u001b[38;5;21minner\u001b[39m(ax, \u001b[38;5;241m*\u001b[39margs, data\u001b[38;5;241m=\u001b[39m\u001b[38;5;28;01mNone\u001b[39;00m, \u001b[38;5;241m*\u001b[39m\u001b[38;5;241m*\u001b[39mkwargs):\n\u001b[0;32m   1413\u001b[0m     \u001b[38;5;28;01mif\u001b[39;00m data \u001b[38;5;129;01mis\u001b[39;00m \u001b[38;5;28;01mNone\u001b[39;00m:\n\u001b[1;32m-> 1414\u001b[0m         \u001b[38;5;28;01mreturn\u001b[39;00m func(ax, \u001b[38;5;241m*\u001b[39m\u001b[38;5;28mmap\u001b[39m(sanitize_sequence, args), \u001b[38;5;241m*\u001b[39m\u001b[38;5;241m*\u001b[39mkwargs)\n\u001b[0;32m   1416\u001b[0m     bound \u001b[38;5;241m=\u001b[39m new_sig\u001b[38;5;241m.\u001b[39mbind(ax, \u001b[38;5;241m*\u001b[39margs, \u001b[38;5;241m*\u001b[39m\u001b[38;5;241m*\u001b[39mkwargs)\n\u001b[0;32m   1417\u001b[0m     auto_label \u001b[38;5;241m=\u001b[39m (bound\u001b[38;5;241m.\u001b[39marguments\u001b[38;5;241m.\u001b[39mget(label_namer)\n\u001b[0;32m   1418\u001b[0m                   \u001b[38;5;129;01mor\u001b[39;00m bound\u001b[38;5;241m.\u001b[39mkwargs\u001b[38;5;241m.\u001b[39mget(label_namer))\n",
      "File \u001b[1;32m~\\AppData\\Roaming\\Python\\Python39\\site-packages\\matplotlib\\axes\\_axes.py:6793\u001b[0m, in \u001b[0;36mAxes.hist\u001b[1;34m(self, x, bins, range, density, weights, cumulative, bottom, histtype, align, orientation, rwidth, log, color, label, stacked, **kwargs)\u001b[0m\n\u001b[0;32m   6791\u001b[0m \u001b[38;5;28;01mif\u001b[39;00m patch:\n\u001b[0;32m   6792\u001b[0m     p \u001b[38;5;241m=\u001b[39m patch[\u001b[38;5;241m0\u001b[39m]\n\u001b[1;32m-> 6793\u001b[0m     \u001b[43mp\u001b[49m\u001b[38;5;241;43m.\u001b[39;49m\u001b[43mupdate\u001b[49m\u001b[43m(\u001b[49m\u001b[43mkwargs\u001b[49m\u001b[43m)\u001b[49m\n\u001b[0;32m   6794\u001b[0m     \u001b[38;5;28;01mif\u001b[39;00m lbl \u001b[38;5;129;01mis\u001b[39;00m \u001b[38;5;129;01mnot\u001b[39;00m \u001b[38;5;28;01mNone\u001b[39;00m:\n\u001b[0;32m   6795\u001b[0m         p\u001b[38;5;241m.\u001b[39mset_label(lbl)\n",
      "File \u001b[1;32m~\\AppData\\Roaming\\Python\\Python39\\site-packages\\matplotlib\\artist.py:1067\u001b[0m, in \u001b[0;36mArtist.update\u001b[1;34m(self, props)\u001b[0m\n\u001b[0;32m   1065\u001b[0m             func \u001b[38;5;241m=\u001b[39m \u001b[38;5;28mgetattr\u001b[39m(\u001b[38;5;28mself\u001b[39m, \u001b[38;5;124mf\u001b[39m\u001b[38;5;124m\"\u001b[39m\u001b[38;5;124mset_\u001b[39m\u001b[38;5;132;01m{\u001b[39;00mk\u001b[38;5;132;01m}\u001b[39;00m\u001b[38;5;124m\"\u001b[39m, \u001b[38;5;28;01mNone\u001b[39;00m)\n\u001b[0;32m   1066\u001b[0m             \u001b[38;5;28;01mif\u001b[39;00m \u001b[38;5;129;01mnot\u001b[39;00m callable(func):\n\u001b[1;32m-> 1067\u001b[0m                 \u001b[38;5;28;01mraise\u001b[39;00m \u001b[38;5;167;01mAttributeError\u001b[39;00m(\u001b[38;5;124mf\u001b[39m\u001b[38;5;124m\"\u001b[39m\u001b[38;5;132;01m{\u001b[39;00m\u001b[38;5;28mtype\u001b[39m(\u001b[38;5;28mself\u001b[39m)\u001b[38;5;241m.\u001b[39m\u001b[38;5;18m__name__\u001b[39m\u001b[38;5;132;01m!r}\u001b[39;00m\u001b[38;5;124m object \u001b[39m\u001b[38;5;124m\"\u001b[39m\n\u001b[0;32m   1068\u001b[0m                                      \u001b[38;5;124mf\u001b[39m\u001b[38;5;124m\"\u001b[39m\u001b[38;5;124mhas no property \u001b[39m\u001b[38;5;132;01m{\u001b[39;00mk\u001b[38;5;132;01m!r}\u001b[39;00m\u001b[38;5;124m\"\u001b[39m)\n\u001b[0;32m   1069\u001b[0m             ret\u001b[38;5;241m.\u001b[39mappend(func(v))\n\u001b[0;32m   1070\u001b[0m \u001b[38;5;28;01mif\u001b[39;00m ret:\n",
      "\u001b[1;31mAttributeError\u001b[0m: 'Rectangle' object has no property 'column'"
     ]
    },
    {
     "data": {
      "image/png": "[encoded data removed]",
      "text/plain": [
       "<Figure size 640x480 with 1 Axes>"
      ]
     },
     "metadata": {},
     "output_type": "display_data"
    }
   ],
   "source": [
    "df_division.hist(column = 'DIVISION', by = None)"
   ]
  },
  {
   "cell_type": "code",
   "execution_count": null,
   "id": "2353d9d6-7e30-49a5-a5c8-a6948d3f0256",
   "metadata": {},
   "outputs": [],
   "source": []
  }
 ],
 "metadata": {
  "kernelspec": {
   "display_name": "Python 3 (ipykernel)",
   "language": "python",
   "name": "python3"
  },
  "language_info": {
   "codemirror_mode": {
    "name": "ipython",
    "version": 3
   },
   "file_extension": ".py",
   "mimetype": "text/x-python",
   "name": "python",
   "nbconvert_exporter": "python",
   "pygments_lexer": "ipython3",
   "version": "3.9.13"
  }
 },
 "nbformat": 4,
 "nbformat_minor": 5
}
