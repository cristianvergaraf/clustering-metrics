{
 "cells": [
  {
   "cell_type": "code",
   "execution_count": null,
   "metadata": {},
   "outputs": [],
   "source": [
    "import pandas as pd\n",
    "from sklearn.linear_model import LinearRegression\n",
    "import statsmodels.formula.api as smf # Asi usaremos la notacion de formula\n",
    "import statsmodels.api as sm # asi usaremos la notacion de sklearn\n",
    "import numpy as np\n",
    "import seaborn as sns\n",
    "import pandas as pd\n",
    "import matplotlib.pyplot as plt"
   ]
  },
  {
   "cell_type": "code",
   "execution_count": null,
   "metadata": {},
   "outputs": [],
   "source": [
    "usos_wide = pd.read_csv(r\"C:\\Users\\crist\\Documents\\GitHub\\manifolds\\ciudades\\datos\\datos_completos\\df_datos_std.csv\", encoding = 'ISO-8859-1')\n",
    "usos_wide = usos_wide.iloc[:,1:3]"
   ]
  },
  {
   "cell_type": "code",
   "execution_count": null,
   "metadata": {},
   "outputs": [
    {
     "ename": "ImportError",
     "evalue": "cannot import name 'outliers_iqr' from 'outliers' (c:\\Users\\crist\\Documents\\GitHub\\manifolds\\ciudades\\datos\\notebook\\outliers.py)",
     "output_type": "error",
     "traceback": [
      "\u001b[1;31m---------------------------------------------------------------------------\u001b[0m",
      "\u001b[1;31mImportError\u001b[0m                               Traceback (most recent call last)",
      "\u001b[1;32mc:\\Users\\crist\\Documents\\GitHub\\manifolds\\ciudades\\datos\\notebook\\outliers_funcion_nb.ipynb Cell 3\u001b[0m in \u001b[0;36m3\n\u001b[0;32m      <a href='vscode-notebook-cell:/c%3A/Users/crist/Documents/GitHub/manifolds/ciudades/datos/notebook/outliers_funcion_nb.ipynb#X54sZmlsZQ%3D%3D?line=0'>1</a>\u001b[0m \u001b[39mimport\u001b[39;00m \u001b[39msys\u001b[39;00m\n\u001b[0;32m      <a href='vscode-notebook-cell:/c%3A/Users/crist/Documents/GitHub/manifolds/ciudades/datos/notebook/outliers_funcion_nb.ipynb#X54sZmlsZQ%3D%3D?line=1'>2</a>\u001b[0m sys\u001b[39m.\u001b[39mpath\u001b[39m.\u001b[39mappend(\u001b[39m'\u001b[39m\u001b[39mdatos/notebook/\u001b[39m\u001b[39m'\u001b[39m)\n\u001b[1;32m----> <a href='vscode-notebook-cell:/c%3A/Users/crist/Documents/GitHub/manifolds/ciudades/datos/notebook/outliers_funcion_nb.ipynb#X54sZmlsZQ%3D%3D?line=2'>3</a>\u001b[0m \u001b[39mfrom\u001b[39;00m \u001b[39moutliers\u001b[39;00m \u001b[39mimport\u001b[39;00m outliers_iqr\n",
      "\u001b[1;31mImportError\u001b[0m: cannot import name 'outliers_iqr' from 'outliers' (c:\\Users\\crist\\Documents\\GitHub\\manifolds\\ciudades\\datos\\notebook\\outliers.py)"
     ]
    }
   ],
   "source": [
    "import sys\n",
    "sys.path.append('datos/notebook/')\n",
    "from outliers import outliers_iqr"
   ]
  },
  {
   "cell_type": "code",
   "execution_count": null,
   "metadata": {},
   "outputs": [],
   "source": []
  },
  {
   "cell_type": "code",
   "execution_count": 107,
   "metadata": {},
   "outputs": [
    {
     "data": {
      "text/plain": [
       "<module 'outliers' from 'c:\\\\Users\\\\crist\\\\Documents\\\\GitHub\\\\manifolds\\\\ciudades\\\\datos\\\\notebook\\\\outliers.py'>"
      ]
     },
     "execution_count": 107,
     "metadata": {},
     "output_type": "execute_result"
    }
   ],
   "source": [
    "outliers"
   ]
  },
  {
   "cell_type": "code",
   "execution_count": 104,
   "metadata": {},
   "outputs": [
    {
     "name": "stdout",
     "output_type": "stream",
     "text": [
      "<module 'outliers' from 'c:\\\\Users\\\\crist\\\\Documents\\\\GitHub\\\\manifolds\\\\ciudades\\\\datos\\\\notebook\\\\outliers.py'>\n"
     ]
    }
   ],
   "source": [
    "print(outliers)"
   ]
  },
  {
   "cell_type": "code",
   "execution_count": null,
   "metadata": {},
   "outputs": [],
   "source": []
  }
 ],
 "metadata": {
  "kernelspec": {
   "display_name": "datamecum",
   "language": "python",
   "name": "python3"
  },
  "language_info": {
   "codemirror_mode": {
    "name": "ipython",
    "version": 3
   },
   "file_extension": ".py",
   "mimetype": "text/x-python",
   "name": "python",
   "nbconvert_exporter": "python",
   "pygments_lexer": "ipython3",
   "version": "3.9.13"
  },
  "orig_nbformat": 4
 },
 "nbformat": 4,
 "nbformat_minor": 2
}
