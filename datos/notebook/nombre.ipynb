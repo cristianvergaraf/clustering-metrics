{
 "cells": [
  {
   "cell_type": "code",
   "execution_count": 5,
   "id": "8361991c-9d0c-46d1-892e-662a526d8364",
   "metadata": {
    "tags": []
   },
   "outputs": [],
   "source": [
    "import pandas as pd"
   ]
  },
  {
   "cell_type": "code",
   "execution_count": 6,
   "id": "34f26c7c-d816-4c75-b131-6cc192917193",
   "metadata": {
    "tags": []
   },
   "outputs": [
    {
     "ename": "FileNotFoundError",
     "evalue": "[Errno 2] No such file or directory: 'C:/projectos/manifolds/ciudades/datos/metricas/ciudades_forma.csv'",
     "output_type": "error",
     "traceback": [
      "\u001b[1;31m---------------------------------------------------------------------------\u001b[0m",
      "\u001b[1;31mFileNotFoundError\u001b[0m                         Traceback (most recent call last)",
      "\u001b[1;32mc:\\Users\\CRISTIAN\\github\\clustering-metrics\\datos\\notebook\\nombre.ipynb Cell 2\u001b[0m line \u001b[0;36m1\n\u001b[1;32m----> <a href='vscode-notebook-cell:/c%3A/Users/CRISTIAN/github/clustering-metrics/datos/notebook/nombre.ipynb#W1sZmlsZQ%3D%3D?line=0'>1</a>\u001b[0m forma \u001b[39m=\u001b[39m pd\u001b[39m.\u001b[39mread_csv(\u001b[39m\"\u001b[39m\u001b[39mC:/projectos/manifolds/ciudades/datos/metricas/ciudades_forma.csv\u001b[39m\u001b[39m\"\u001b[39m)\n",
      "File \u001b[1;32mc:\\Users\\CRISTIAN\\anaconda3\\envs\\spatial_uah\\Lib\\site-packages\\pandas\\io\\parsers\\readers.py:912\u001b[0m, in \u001b[0;36mread_csv\u001b[1;34m(filepath_or_buffer, sep, delimiter, header, names, index_col, usecols, dtype, engine, converters, true_values, false_values, skipinitialspace, skiprows, skipfooter, nrows, na_values, keep_default_na, na_filter, verbose, skip_blank_lines, parse_dates, infer_datetime_format, keep_date_col, date_parser, date_format, dayfirst, cache_dates, iterator, chunksize, compression, thousands, decimal, lineterminator, quotechar, quoting, doublequote, escapechar, comment, encoding, encoding_errors, dialect, on_bad_lines, delim_whitespace, low_memory, memory_map, float_precision, storage_options, dtype_backend)\u001b[0m\n\u001b[0;32m    899\u001b[0m kwds_defaults \u001b[39m=\u001b[39m _refine_defaults_read(\n\u001b[0;32m    900\u001b[0m     dialect,\n\u001b[0;32m    901\u001b[0m     delimiter,\n\u001b[1;32m   (...)\u001b[0m\n\u001b[0;32m    908\u001b[0m     dtype_backend\u001b[39m=\u001b[39mdtype_backend,\n\u001b[0;32m    909\u001b[0m )\n\u001b[0;32m    910\u001b[0m kwds\u001b[39m.\u001b[39mupdate(kwds_defaults)\n\u001b[1;32m--> 912\u001b[0m \u001b[39mreturn\u001b[39;00m _read(filepath_or_buffer, kwds)\n",
      "File \u001b[1;32mc:\\Users\\CRISTIAN\\anaconda3\\envs\\spatial_uah\\Lib\\site-packages\\pandas\\io\\parsers\\readers.py:577\u001b[0m, in \u001b[0;36m_read\u001b[1;34m(filepath_or_buffer, kwds)\u001b[0m\n\u001b[0;32m    574\u001b[0m _validate_names(kwds\u001b[39m.\u001b[39mget(\u001b[39m\"\u001b[39m\u001b[39mnames\u001b[39m\u001b[39m\"\u001b[39m, \u001b[39mNone\u001b[39;00m))\n\u001b[0;32m    576\u001b[0m \u001b[39m# Create the parser.\u001b[39;00m\n\u001b[1;32m--> 577\u001b[0m parser \u001b[39m=\u001b[39m TextFileReader(filepath_or_buffer, \u001b[39m*\u001b[39m\u001b[39m*\u001b[39mkwds)\n\u001b[0;32m    579\u001b[0m \u001b[39mif\u001b[39;00m chunksize \u001b[39mor\u001b[39;00m iterator:\n\u001b[0;32m    580\u001b[0m     \u001b[39mreturn\u001b[39;00m parser\n",
      "File \u001b[1;32mc:\\Users\\CRISTIAN\\anaconda3\\envs\\spatial_uah\\Lib\\site-packages\\pandas\\io\\parsers\\readers.py:1407\u001b[0m, in \u001b[0;36mTextFileReader.__init__\u001b[1;34m(self, f, engine, **kwds)\u001b[0m\n\u001b[0;32m   1404\u001b[0m     \u001b[39mself\u001b[39m\u001b[39m.\u001b[39moptions[\u001b[39m\"\u001b[39m\u001b[39mhas_index_names\u001b[39m\u001b[39m\"\u001b[39m] \u001b[39m=\u001b[39m kwds[\u001b[39m\"\u001b[39m\u001b[39mhas_index_names\u001b[39m\u001b[39m\"\u001b[39m]\n\u001b[0;32m   1406\u001b[0m \u001b[39mself\u001b[39m\u001b[39m.\u001b[39mhandles: IOHandles \u001b[39m|\u001b[39m \u001b[39mNone\u001b[39;00m \u001b[39m=\u001b[39m \u001b[39mNone\u001b[39;00m\n\u001b[1;32m-> 1407\u001b[0m \u001b[39mself\u001b[39m\u001b[39m.\u001b[39m_engine \u001b[39m=\u001b[39m \u001b[39mself\u001b[39m\u001b[39m.\u001b[39m_make_engine(f, \u001b[39mself\u001b[39m\u001b[39m.\u001b[39mengine)\n",
      "File \u001b[1;32mc:\\Users\\CRISTIAN\\anaconda3\\envs\\spatial_uah\\Lib\\site-packages\\pandas\\io\\parsers\\readers.py:1661\u001b[0m, in \u001b[0;36mTextFileReader._make_engine\u001b[1;34m(self, f, engine)\u001b[0m\n\u001b[0;32m   1659\u001b[0m     \u001b[39mif\u001b[39;00m \u001b[39m\"\u001b[39m\u001b[39mb\u001b[39m\u001b[39m\"\u001b[39m \u001b[39mnot\u001b[39;00m \u001b[39min\u001b[39;00m mode:\n\u001b[0;32m   1660\u001b[0m         mode \u001b[39m+\u001b[39m\u001b[39m=\u001b[39m \u001b[39m\"\u001b[39m\u001b[39mb\u001b[39m\u001b[39m\"\u001b[39m\n\u001b[1;32m-> 1661\u001b[0m \u001b[39mself\u001b[39m\u001b[39m.\u001b[39mhandles \u001b[39m=\u001b[39m get_handle(\n\u001b[0;32m   1662\u001b[0m     f,\n\u001b[0;32m   1663\u001b[0m     mode,\n\u001b[0;32m   1664\u001b[0m     encoding\u001b[39m=\u001b[39m\u001b[39mself\u001b[39m\u001b[39m.\u001b[39moptions\u001b[39m.\u001b[39mget(\u001b[39m\"\u001b[39m\u001b[39mencoding\u001b[39m\u001b[39m\"\u001b[39m, \u001b[39mNone\u001b[39;00m),\n\u001b[0;32m   1665\u001b[0m     compression\u001b[39m=\u001b[39m\u001b[39mself\u001b[39m\u001b[39m.\u001b[39moptions\u001b[39m.\u001b[39mget(\u001b[39m\"\u001b[39m\u001b[39mcompression\u001b[39m\u001b[39m\"\u001b[39m, \u001b[39mNone\u001b[39;00m),\n\u001b[0;32m   1666\u001b[0m     memory_map\u001b[39m=\u001b[39m\u001b[39mself\u001b[39m\u001b[39m.\u001b[39moptions\u001b[39m.\u001b[39mget(\u001b[39m\"\u001b[39m\u001b[39mmemory_map\u001b[39m\u001b[39m\"\u001b[39m, \u001b[39mFalse\u001b[39;00m),\n\u001b[0;32m   1667\u001b[0m     is_text\u001b[39m=\u001b[39mis_text,\n\u001b[0;32m   1668\u001b[0m     errors\u001b[39m=\u001b[39m\u001b[39mself\u001b[39m\u001b[39m.\u001b[39moptions\u001b[39m.\u001b[39mget(\u001b[39m\"\u001b[39m\u001b[39mencoding_errors\u001b[39m\u001b[39m\"\u001b[39m, \u001b[39m\"\u001b[39m\u001b[39mstrict\u001b[39m\u001b[39m\"\u001b[39m),\n\u001b[0;32m   1669\u001b[0m     storage_options\u001b[39m=\u001b[39m\u001b[39mself\u001b[39m\u001b[39m.\u001b[39moptions\u001b[39m.\u001b[39mget(\u001b[39m\"\u001b[39m\u001b[39mstorage_options\u001b[39m\u001b[39m\"\u001b[39m, \u001b[39mNone\u001b[39;00m),\n\u001b[0;32m   1670\u001b[0m )\n\u001b[0;32m   1671\u001b[0m \u001b[39massert\u001b[39;00m \u001b[39mself\u001b[39m\u001b[39m.\u001b[39mhandles \u001b[39mis\u001b[39;00m \u001b[39mnot\u001b[39;00m \u001b[39mNone\u001b[39;00m\n\u001b[0;32m   1672\u001b[0m f \u001b[39m=\u001b[39m \u001b[39mself\u001b[39m\u001b[39m.\u001b[39mhandles\u001b[39m.\u001b[39mhandle\n",
      "File \u001b[1;32mc:\\Users\\CRISTIAN\\anaconda3\\envs\\spatial_uah\\Lib\\site-packages\\pandas\\io\\common.py:859\u001b[0m, in \u001b[0;36mget_handle\u001b[1;34m(path_or_buf, mode, encoding, compression, memory_map, is_text, errors, storage_options)\u001b[0m\n\u001b[0;32m    854\u001b[0m \u001b[39melif\u001b[39;00m \u001b[39misinstance\u001b[39m(handle, \u001b[39mstr\u001b[39m):\n\u001b[0;32m    855\u001b[0m     \u001b[39m# Check whether the filename is to be opened in binary mode.\u001b[39;00m\n\u001b[0;32m    856\u001b[0m     \u001b[39m# Binary mode does not support 'encoding' and 'newline'.\u001b[39;00m\n\u001b[0;32m    857\u001b[0m     \u001b[39mif\u001b[39;00m ioargs\u001b[39m.\u001b[39mencoding \u001b[39mand\u001b[39;00m \u001b[39m\"\u001b[39m\u001b[39mb\u001b[39m\u001b[39m\"\u001b[39m \u001b[39mnot\u001b[39;00m \u001b[39min\u001b[39;00m ioargs\u001b[39m.\u001b[39mmode:\n\u001b[0;32m    858\u001b[0m         \u001b[39m# Encoding\u001b[39;00m\n\u001b[1;32m--> 859\u001b[0m         handle \u001b[39m=\u001b[39m \u001b[39mopen\u001b[39m(\n\u001b[0;32m    860\u001b[0m             handle,\n\u001b[0;32m    861\u001b[0m             ioargs\u001b[39m.\u001b[39mmode,\n\u001b[0;32m    862\u001b[0m             encoding\u001b[39m=\u001b[39mioargs\u001b[39m.\u001b[39mencoding,\n\u001b[0;32m    863\u001b[0m             errors\u001b[39m=\u001b[39merrors,\n\u001b[0;32m    864\u001b[0m             newline\u001b[39m=\u001b[39m\u001b[39m\"\u001b[39m\u001b[39m\"\u001b[39m,\n\u001b[0;32m    865\u001b[0m         )\n\u001b[0;32m    866\u001b[0m     \u001b[39melse\u001b[39;00m:\n\u001b[0;32m    867\u001b[0m         \u001b[39m# Binary mode\u001b[39;00m\n\u001b[0;32m    868\u001b[0m         handle \u001b[39m=\u001b[39m \u001b[39mopen\u001b[39m(handle, ioargs\u001b[39m.\u001b[39mmode)\n",
      "\u001b[1;31mFileNotFoundError\u001b[0m: [Errno 2] No such file or directory: 'C:/projectos/manifolds/ciudades/datos/metricas/ciudades_forma.csv'"
     ]
    }
   ],
   "source": [
    "forma = pd.read_csv(\"C:/projectos/manifolds/ciudades/datos/metricas/ciudades_forma.csv\")"
   ]
  },
  {
   "cell_type": "code",
   "execution_count": 119,
   "id": "681a132f-1313-4d59-8f9a-0ba7330dbb2c",
   "metadata": {
    "tags": []
   },
   "outputs": [
    {
     "data": {
      "text/plain": [
       "Index(['Ciudades', 'PAFRAC', 'SHAPE_MN', 'SHAPE_MD', 'PARA_MN', 'PARA_MD',\n",
       "       'FRAC_MN', 'FRAC_MD', 'SQUARE_MN', 'SQUARE_MD'],\n",
       "      dtype='object')"
      ]
     },
     "execution_count": 119,
     "metadata": {},
     "output_type": "execute_result"
    }
   ],
   "source": [
    "forma.columns"
   ]
  },
  {
   "cell_type": "code",
   "execution_count": 120,
   "id": "3c3471f9-6253-41e7-a5c2-01433004d566",
   "metadata": {
    "tags": []
   },
   "outputs": [
    {
     "name": "stderr",
     "output_type": "stream",
     "text": [
      "C:\\Users\\crist\\AppData\\Local\\Temp\\ipykernel_23728\\32696972.py:2: FutureWarning: The default value of regex will change from True to False in a future version.\n",
      "  forma['Ciudad'] = forma['Ciudad'].str.replace(r'\\.txt$', '')\n"
     ]
    }
   ],
   "source": [
    "forma['Ciudad'] = forma['Ciudades'].str.replace('_', ' ')\n",
    "forma['Ciudad'] = forma['Ciudad'].str.replace(r'\\.txt$', '')\n",
    "forma['Ciudad'] = forma['Ciudad'].apply(lambda x: x.capitalize())"
   ]
  },
  {
   "cell_type": "code",
   "execution_count": 121,
   "id": "acdbc3b3-3d66-4fa5-906f-f4cd99b390f4",
   "metadata": {
    "tags": []
   },
   "outputs": [],
   "source": [
    "area = pd.read_csv(\"C:/projectos/manifolds/ciudades/datos/metricas/ciudades_area.csv\")"
   ]
  },
  {
   "cell_type": "code",
   "execution_count": 122,
   "id": "4d8ef793-a40b-4616-a458-d14890deaaee",
   "metadata": {
    "tags": []
   },
   "outputs": [
    {
     "name": "stderr",
     "output_type": "stream",
     "text": [
      "C:\\Users\\crist\\AppData\\Local\\Temp\\ipykernel_23728\\2630718424.py:2: FutureWarning: The default value of regex will change from True to False in a future version.\n",
      "  area['Ciudad'] = area['Ciudad'].str.replace(r'\\.txt$', '')\n"
     ]
    }
   ],
   "source": [
    "area['Ciudad'] = area['Ciudades'].str.replace('_', ' ')\n",
    "area['Ciudad'] = area['Ciudad'].str.replace(r'\\.txt$', '')\n",
    "area['Ciudad'] = area['Ciudad'].apply(lambda x: x.capitalize())"
   ]
  },
  {
   "cell_type": "code",
   "execution_count": 123,
   "id": "bb067056-e057-4be4-9fba-4c1c94089d04",
   "metadata": {
    "tags": []
   },
   "outputs": [
    {
     "data": {
      "text/html": [
       "<div>\n",
       "<style scoped>\n",
       "    .dataframe tbody tr th:only-of-type {\n",
       "        vertical-align: middle;\n",
       "    }\n",
       "\n",
       "    .dataframe tbody tr th {\n",
       "        vertical-align: top;\n",
       "    }\n",
       "\n",
       "    .dataframe thead th {\n",
       "        text-align: right;\n",
       "    }\n",
       "</style>\n",
       "<table border=\"1\" class=\"dataframe\">\n",
       "  <thead>\n",
       "    <tr style=\"text-align: right;\">\n",
       "      <th></th>\n",
       "      <th>Ciudades</th>\n",
       "      <th>TA</th>\n",
       "      <th>LPI</th>\n",
       "      <th>AREA_MN</th>\n",
       "      <th>AREA_AM</th>\n",
       "      <th>AREA_MD</th>\n",
       "      <th>GYRATE_MN</th>\n",
       "      <th>GYRATE_AM</th>\n",
       "      <th>GYRATE_MD</th>\n",
       "      <th>Ciudad</th>\n",
       "    </tr>\n",
       "  </thead>\n",
       "  <tbody>\n",
       "    <tr>\n",
       "      <th>0</th>\n",
       "      <td>Albacete.txt</td>\n",
       "      <td>1605.293355</td>\n",
       "      <td>2.929497</td>\n",
       "      <td>0.116461</td>\n",
       "      <td>2.976411</td>\n",
       "      <td>0.031520</td>\n",
       "      <td>8.380829</td>\n",
       "      <td>36.057566</td>\n",
       "      <td>5.710261</td>\n",
       "      <td>Albacete</td>\n",
       "    </tr>\n",
       "    <tr>\n",
       "      <th>1</th>\n",
       "      <td>Alcala.txt</td>\n",
       "      <td>1615.304126</td>\n",
       "      <td>2.451039</td>\n",
       "      <td>0.136451</td>\n",
       "      <td>4.559123</td>\n",
       "      <td>0.019854</td>\n",
       "      <td>7.591469</td>\n",
       "      <td>55.583827</td>\n",
       "      <td>4.874116</td>\n",
       "      <td>Alcala</td>\n",
       "    </tr>\n",
       "    <tr>\n",
       "      <th>2</th>\n",
       "      <td>Alcobendas.txt</td>\n",
       "      <td>1386.626321</td>\n",
       "      <td>2.882984</td>\n",
       "      <td>0.289423</td>\n",
       "      <td>3.843857</td>\n",
       "      <td>0.069676</td>\n",
       "      <td>12.998986</td>\n",
       "      <td>45.886723</td>\n",
       "      <td>9.320043</td>\n",
       "      <td>Alcobendas</td>\n",
       "    </tr>\n",
       "    <tr>\n",
       "      <th>3</th>\n",
       "      <td>Alcorcon.txt</td>\n",
       "      <td>787.044792</td>\n",
       "      <td>3.295528</td>\n",
       "      <td>0.161214</td>\n",
       "      <td>3.023467</td>\n",
       "      <td>0.028205</td>\n",
       "      <td>9.644223</td>\n",
       "      <td>43.879007</td>\n",
       "      <td>6.077800</td>\n",
       "      <td>Alcorcon</td>\n",
       "    </tr>\n",
       "    <tr>\n",
       "      <th>4</th>\n",
       "      <td>Algeciras.txt</td>\n",
       "      <td>1063.319019</td>\n",
       "      <td>2.044908</td>\n",
       "      <td>0.063300</td>\n",
       "      <td>2.629819</td>\n",
       "      <td>0.013341</td>\n",
       "      <td>5.460983</td>\n",
       "      <td>38.065313</td>\n",
       "      <td>3.687046</td>\n",
       "      <td>Algeciras</td>\n",
       "    </tr>\n",
       "    <tr>\n",
       "      <th>...</th>\n",
       "      <td>...</td>\n",
       "      <td>...</td>\n",
       "      <td>...</td>\n",
       "      <td>...</td>\n",
       "      <td>...</td>\n",
       "      <td>...</td>\n",
       "      <td>...</td>\n",
       "      <td>...</td>\n",
       "      <td>...</td>\n",
       "      <td>...</td>\n",
       "    </tr>\n",
       "    <tr>\n",
       "      <th>67</th>\n",
       "      <td>Valencia.txt</td>\n",
       "      <td>2164.215491</td>\n",
       "      <td>2.515410</td>\n",
       "      <td>0.065111</td>\n",
       "      <td>4.506163</td>\n",
       "      <td>0.024895</td>\n",
       "      <td>6.216411</td>\n",
       "      <td>38.408851</td>\n",
       "      <td>4.992987</td>\n",
       "      <td>Valencia</td>\n",
       "    </tr>\n",
       "    <tr>\n",
       "      <th>68</th>\n",
       "      <td>Valladolid.txt</td>\n",
       "      <td>2764.692882</td>\n",
       "      <td>2.285334</td>\n",
       "      <td>0.170702</td>\n",
       "      <td>9.992102</td>\n",
       "      <td>0.028855</td>\n",
       "      <td>8.463257</td>\n",
       "      <td>74.230483</td>\n",
       "      <td>5.392190</td>\n",
       "      <td>Valladolid</td>\n",
       "    </tr>\n",
       "    <tr>\n",
       "      <th>69</th>\n",
       "      <td>Vigo.txt</td>\n",
       "      <td>2673.672921</td>\n",
       "      <td>4.253406</td>\n",
       "      <td>0.076896</td>\n",
       "      <td>7.653004</td>\n",
       "      <td>0.037150</td>\n",
       "      <td>7.448687</td>\n",
       "      <td>40.795189</td>\n",
       "      <td>6.359690</td>\n",
       "      <td>Vigo</td>\n",
       "    </tr>\n",
       "    <tr>\n",
       "      <th>70</th>\n",
       "      <td>Zamora.txt</td>\n",
       "      <td>551.778808</td>\n",
       "      <td>9.977708</td>\n",
       "      <td>0.075195</td>\n",
       "      <td>6.638329</td>\n",
       "      <td>0.018018</td>\n",
       "      <td>6.080244</td>\n",
       "      <td>52.258509</td>\n",
       "      <td>4.223122</td>\n",
       "      <td>Zamora</td>\n",
       "    </tr>\n",
       "    <tr>\n",
       "      <th>71</th>\n",
       "      <td>Zaragoza.txt</td>\n",
       "      <td>4188.643450</td>\n",
       "      <td>1.576180</td>\n",
       "      <td>0.148265</td>\n",
       "      <td>6.420273</td>\n",
       "      <td>0.028926</td>\n",
       "      <td>8.365215</td>\n",
       "      <td>65.532054</td>\n",
       "      <td>5.374877</td>\n",
       "      <td>Zaragoza</td>\n",
       "    </tr>\n",
       "  </tbody>\n",
       "</table>\n",
       "<p>72 rows × 10 columns</p>\n",
       "</div>"
      ],
      "text/plain": [
       "          Ciudades           TA       LPI   AREA_MN   AREA_AM   AREA_MD  \\\n",
       "0     Albacete.txt  1605.293355  2.929497  0.116461  2.976411  0.031520   \n",
       "1       Alcala.txt  1615.304126  2.451039  0.136451  4.559123  0.019854   \n",
       "2   Alcobendas.txt  1386.626321  2.882984  0.289423  3.843857  0.069676   \n",
       "3     Alcorcon.txt   787.044792  3.295528  0.161214  3.023467  0.028205   \n",
       "4    Algeciras.txt  1063.319019  2.044908  0.063300  2.629819  0.013341   \n",
       "..             ...          ...       ...       ...       ...       ...   \n",
       "67    Valencia.txt  2164.215491  2.515410  0.065111  4.506163  0.024895   \n",
       "68  Valladolid.txt  2764.692882  2.285334  0.170702  9.992102  0.028855   \n",
       "69        Vigo.txt  2673.672921  4.253406  0.076896  7.653004  0.037150   \n",
       "70      Zamora.txt   551.778808  9.977708  0.075195  6.638329  0.018018   \n",
       "71    Zaragoza.txt  4188.643450  1.576180  0.148265  6.420273  0.028926   \n",
       "\n",
       "    GYRATE_MN  GYRATE_AM  GYRATE_MD      Ciudad  \n",
       "0    8.380829  36.057566   5.710261    Albacete  \n",
       "1    7.591469  55.583827   4.874116      Alcala  \n",
       "2   12.998986  45.886723   9.320043  Alcobendas  \n",
       "3    9.644223  43.879007   6.077800    Alcorcon  \n",
       "4    5.460983  38.065313   3.687046   Algeciras  \n",
       "..        ...        ...        ...         ...  \n",
       "67   6.216411  38.408851   4.992987    Valencia  \n",
       "68   8.463257  74.230483   5.392190  Valladolid  \n",
       "69   7.448687  40.795189   6.359690        Vigo  \n",
       "70   6.080244  52.258509   4.223122      Zamora  \n",
       "71   8.365215  65.532054   5.374877    Zaragoza  \n",
       "\n",
       "[72 rows x 10 columns]"
      ]
     },
     "execution_count": 123,
     "metadata": {},
     "output_type": "execute_result"
    }
   ],
   "source": [
    "area"
   ]
  },
  {
   "cell_type": "code",
   "execution_count": 124,
   "id": "5dd6bba1-b7b9-49c3-a497-5303151478fc",
   "metadata": {
    "tags": []
   },
   "outputs": [
    {
     "name": "stdout",
     "output_type": "stream",
     "text": [
      "Albacete\n",
      "Alcala\n",
      "Alcobendas\n",
      "Alcorcon\n",
      "Algeciras\n",
      "Alicante\n",
      "Almeria\n",
      "Avila\n",
      "Badajoz\n",
      "Badalona\n",
      "Barcelona\n",
      "Burgos\n",
      "Caceres\n",
      "Cadiz\n",
      "Cartagena\n",
      "Castello\n",
      "Ceuta\n",
      "Ciudad real\n",
      "Cordoba\n",
      "Corunia\n",
      "Cuenca\n",
      "Dos hermanas\n",
      "Elche\n",
      "Fuentelabra\n",
      "Getafe\n",
      "Gijon\n",
      "Girona\n",
      "Granada\n",
      "Guadalajara\n",
      "Hospitalet\n",
      "Huelva\n",
      "Huesca\n",
      "Jaen\n",
      "Jerez\n",
      "Las palmas\n",
      "Leganes\n",
      "Leon\n",
      "Lleida\n",
      "Logronio\n",
      "Lugo\n",
      "Madrid\n",
      "Malaga\n",
      "Marbella\n",
      "Mataro\n",
      "Melilla\n",
      "Mostoles\n",
      "Murcia\n",
      "Ourense\n",
      "Oviedo\n",
      "Palencia\n",
      "Palma\n",
      "Parla\n",
      "Pontevedra\n",
      "Sabadell\n",
      "Salamanca\n",
      "San cristobal\n",
      "Santa coloma\n",
      "Santa cruz\n",
      "Santander\n",
      "Segovia\n",
      "Sevilla\n",
      "Soria\n",
      "Terragona\n",
      "Terrasa\n",
      "Teruel\n",
      "Toledo\n",
      "Torrejon\n",
      "Valencia\n",
      "Valladolid\n",
      "Vigo\n",
      "Zamora\n",
      "Zaragoza\n"
     ]
    }
   ],
   "source": [
    "for cid in area.Ciudad:\n",
    "    print(cid)"
   ]
  },
  {
   "cell_type": "code",
   "execution_count": 125,
   "id": "7bd49fed-0e2a-4b0a-9dbc-7b7c49102a4e",
   "metadata": {
    "tags": []
   },
   "outputs": [],
   "source": [
    "cid_forma = pd.Series(forma.Ciudad)"
   ]
  },
  {
   "cell_type": "code",
   "execution_count": 126,
   "id": "d56ca60f-7132-4501-b597-c31e91d0863b",
   "metadata": {
    "tags": []
   },
   "outputs": [],
   "source": [
    "cid_area = pd.Series(area.Ciudad)"
   ]
  },
  {
   "cell_type": "code",
   "execution_count": 127,
   "id": "711387d0-ebf4-4ecc-898f-d58981a089ee",
   "metadata": {
    "tags": []
   },
   "outputs": [],
   "source": [
    "df_ciudades_nombre = pd.DataFrame({'forma':cid_forma,'area':cid_area})"
   ]
  },
  {
   "cell_type": "code",
   "execution_count": 128,
   "id": "222c587d-1324-4a98-9f0f-7c4a42ddd5a0",
   "metadata": {
    "tags": []
   },
   "outputs": [],
   "source": [
    "df_ciudades_nombre.to_csv('ciudades_nombre.csv')"
   ]
  },
  {
   "cell_type": "code",
   "execution_count": 129,
   "id": "c642963f-1ede-4e3d-bef5-14353805cd76",
   "metadata": {
    "tags": []
   },
   "outputs": [
    {
     "data": {
      "text/plain": [
       "pandas.core.series.Series"
      ]
     },
     "execution_count": 129,
     "metadata": {},
     "output_type": "execute_result"
    }
   ],
   "source": [
    "type(forma.Ciudad)"
   ]
  },
  {
   "cell_type": "code",
   "execution_count": 130,
   "id": "c78949a6-dec1-4b49-9baf-58a25006ea23",
   "metadata": {
    "tags": []
   },
   "outputs": [
    {
     "name": "stdout",
     "output_type": "stream",
     "text": [
      "Albacete\n",
      "Alcala\n",
      "Alcobendas\n",
      "Alcorcon\n",
      "Algeciras\n",
      "Alicante\n",
      "Almeria\n",
      "Avila\n",
      "Badajoz\n",
      "Badalona\n",
      "Barcelona\n",
      "Burgos\n",
      "Caceres\n",
      "Cadiz\n",
      "Cartagena\n",
      "Castello\n",
      "Ceuta\n",
      "Ciudad real\n",
      "Cordoba\n",
      "Corunia\n",
      "Cuenca\n",
      "Dos hermanas\n",
      "Elche\n",
      "Fuentelabra\n",
      "Getafe\n",
      "Gijon\n",
      "Girona\n",
      "Granada\n",
      "Guadalajara\n",
      "Hospitalet\n",
      "Huelva\n",
      "Huesca\n",
      "Jaen\n",
      "Jerez\n",
      "Las palmas\n",
      "Leganes\n",
      "Leon\n",
      "Lleida\n",
      "Logronio\n",
      "Lugo\n",
      "Madrid\n",
      "Malaga\n",
      "Marbella\n",
      "Mataro\n",
      "Melilla\n",
      "Mostoles\n",
      "Murcia\n",
      "Ourense\n",
      "Oviedo\n",
      "Palencia\n",
      "Palma\n",
      "Parla\n",
      "Pontevedra\n",
      "Sabadell\n",
      "Salamanca\n",
      "San cristobal\n",
      "Santa coloma\n",
      "Santa cruz\n",
      "Santander\n",
      "Segovia\n",
      "Sevilla\n",
      "Soria\n",
      "Terragona\n",
      "Terrasa\n",
      "Teruel\n",
      "Toledo\n",
      "Torrejon\n",
      "Valencia\n",
      "Valladolid\n",
      "Vigo\n",
      "Zamora\n",
      "Zaragoza\n"
     ]
    }
   ],
   "source": [
    "for cid in forma.Ciudad:\n",
    "    print(cid)"
   ]
  },
  {
   "cell_type": "code",
   "execution_count": 131,
   "id": "50c1b513-9cf0-405f-b4c7-2e6e460bab27",
   "metadata": {
    "tags": []
   },
   "outputs": [],
   "source": [
    "rep = {'Alcorcon':'Alcorcón','Ciudad real':'Ciudad Real','Bodajoz':'Badajoz','Dos hermanas':'Dos Hermanas','Fuentelabra':'Fuenlabrada',\n",
    "'Leganes':'Leganés','Logronio':'Logroño','Mataro':'Mataró','Mostoles':'Móstoles','Santa coloma':'Santa Coloma','Santa cruz tenerife':'Santa Cruz de Tenerife',\n",
    "'San cristobal':'San Cristóbal','Terrasa':'Terrassa','Terragona':'Tarragona','Corunia':'Coruña','Gijon':'Gijón',\n",
    "'Las palmas':'Palmas de Gran Canaria, Las'}"
   ]
  },
  {
   "cell_type": "code",
   "execution_count": 132,
   "id": "a7e7083e-899c-4c98-a13c-4053f622a3c2",
   "metadata": {
    "tags": []
   },
   "outputs": [],
   "source": [
    "def replace_cities(df, replacements,col):\n",
    "    for city, replacement in replacements.items():\n",
    "        df[col] = df[col].str.replace(city, replacement)\n",
    "    return df"
   ]
  },
  {
   "cell_type": "code",
   "execution_count": 133,
   "id": "1744dff4-8be8-4a57-8018-830c55edb185",
   "metadata": {
    "tags": []
   },
   "outputs": [],
   "source": [
    "forma_replace = replace_cities(forma, rep,'Ciudad')"
   ]
  },
  {
   "cell_type": "code",
   "execution_count": 134,
   "id": "9f0b2af5-7cf2-4bb0-867a-94b26904cd93",
   "metadata": {
    "tags": []
   },
   "outputs": [],
   "source": [
    "area_replace = replace_cities(area, rep,'Ciudad')"
   ]
  },
  {
   "cell_type": "code",
   "execution_count": 135,
   "id": "dbdb45e4-9cfc-454e-9a2a-db6d07aac985",
   "metadata": {
    "tags": []
   },
   "outputs": [
    {
     "name": "stdout",
     "output_type": "stream",
     "text": [
      "Albacete\n",
      "Alcala\n",
      "Alcobendas\n",
      "Alcorcón\n",
      "Algeciras\n",
      "Alicante\n",
      "Almeria\n",
      "Avila\n",
      "Badajoz\n",
      "Badalona\n",
      "Barcelona\n",
      "Burgos\n",
      "Caceres\n",
      "Cadiz\n",
      "Cartagena\n",
      "Castello\n",
      "Ceuta\n",
      "Ciudad Real\n",
      "Cordoba\n",
      "Coruña\n",
      "Cuenca\n",
      "Dos Hermanas\n",
      "Elche\n",
      "Fuenlabrada\n",
      "Getafe\n",
      "Gijón\n",
      "Girona\n",
      "Granada\n",
      "Guadalajara\n",
      "Hospitalet\n",
      "Huelva\n",
      "Huesca\n",
      "Jaen\n",
      "Jerez\n",
      "Palmas de Gran Canaria, Las\n",
      "Leganés\n",
      "Leon\n",
      "Lleida\n",
      "Logroño\n",
      "Lugo\n",
      "Madrid\n",
      "Malaga\n",
      "Marbella\n",
      "Mataró\n",
      "Melilla\n",
      "Móstoles\n",
      "Murcia\n",
      "Ourense\n",
      "Oviedo\n",
      "Palencia\n",
      "Palma\n",
      "Parla\n",
      "Pontevedra\n",
      "Sabadell\n",
      "Salamanca\n",
      "San Cristóbal\n",
      "Santa Coloma\n",
      "Santa cruz\n",
      "Santander\n",
      "Segovia\n",
      "Sevilla\n",
      "Soria\n",
      "Tarragona\n",
      "Terrassa\n",
      "Teruel\n",
      "Toledo\n",
      "Torrejon\n",
      "Valencia\n",
      "Valladolid\n",
      "Vigo\n",
      "Zamora\n",
      "Zaragoza\n"
     ]
    }
   ],
   "source": [
    "for city in forma_replace.Ciudad:\n",
    "    print(city)"
   ]
  },
  {
   "cell_type": "code",
   "execution_count": 136,
   "id": "d7bcc81b-a52e-43f0-b750-8850ace28437",
   "metadata": {
    "tags": []
   },
   "outputs": [
    {
     "name": "stdout",
     "output_type": "stream",
     "text": [
      "Albacete\n",
      "Alcala\n",
      "Alcobendas\n",
      "Alcorcón\n",
      "Algeciras\n",
      "Alicante\n",
      "Almeria\n",
      "Avila\n",
      "Badajoz\n",
      "Badalona\n",
      "Barcelona\n",
      "Burgos\n",
      "Caceres\n",
      "Cadiz\n",
      "Cartagena\n",
      "Castello\n",
      "Ceuta\n",
      "Ciudad Real\n",
      "Cordoba\n",
      "Coruña\n",
      "Cuenca\n",
      "Dos Hermanas\n",
      "Elche\n",
      "Fuenlabrada\n",
      "Getafe\n",
      "Gijón\n",
      "Girona\n",
      "Granada\n",
      "Guadalajara\n",
      "Hospitalet\n",
      "Huelva\n",
      "Huesca\n",
      "Jaen\n",
      "Jerez\n",
      "Palmas de Gran Canaria, Las\n",
      "Leganés\n",
      "Leon\n",
      "Lleida\n",
      "Logroño\n",
      "Lugo\n",
      "Madrid\n",
      "Malaga\n",
      "Marbella\n",
      "Mataró\n",
      "Melilla\n",
      "Móstoles\n",
      "Murcia\n",
      "Ourense\n",
      "Oviedo\n",
      "Palencia\n",
      "Palma\n",
      "Parla\n",
      "Pontevedra\n",
      "Sabadell\n",
      "Salamanca\n",
      "San Cristóbal\n",
      "Santa Coloma\n",
      "Santa cruz\n",
      "Santander\n",
      "Segovia\n",
      "Sevilla\n",
      "Soria\n",
      "Tarragona\n",
      "Terrassa\n",
      "Teruel\n",
      "Toledo\n",
      "Torrejon\n",
      "Valencia\n",
      "Valladolid\n",
      "Vigo\n",
      "Zamora\n",
      "Zaragoza\n"
     ]
    }
   ],
   "source": [
    "for city in area_replace.Ciudad:\n",
    "    print(city)"
   ]
  },
  {
   "cell_type": "code",
   "execution_count": 137,
   "id": "0f393187-59e8-4b81-af8a-7b7daf73b12f",
   "metadata": {
    "tags": []
   },
   "outputs": [],
   "source": [
    "forma_area = pd.merge(forma_replace, area_replace, how = 'left', on = 'Ciudad')"
   ]
  },
  {
   "cell_type": "code",
   "execution_count": 140,
   "id": "8cf90449-7ae7-4e2e-ab4b-49c88e19d00f",
   "metadata": {
    "tags": []
   },
   "outputs": [],
   "source": [
    "forma_area.to_csv('C:/projectos/manifolds/ciudades/datos/metricas/forma_area.csv', encoding = 'ISO-8859-1')"
   ]
  },
  {
   "cell_type": "code",
   "execution_count": null,
   "id": "7a5eb712-086a-47e6-945b-35ee6eff8b19",
   "metadata": {},
   "outputs": [],
   "source": [
    "\"C:/projectos/manifolds/ciudades/datos/metricas/ciudades_forma.csv\""
   ]
  }
 ],
 "metadata": {
  "kernelspec": {
   "display_name": "Python 3 (ipykernel)",
   "language": "python",
   "name": "python3"
  },
  "language_info": {
   "codemirror_mode": {
    "name": "ipython",
    "version": 3
   },
   "file_extension": ".py",
   "mimetype": "text/x-python",
   "name": "python",
   "nbconvert_exporter": "python",
   "pygments_lexer": "ipython3",
   "version": "3.11.5"
  }
 },
 "nbformat": 4,
 "nbformat_minor": 5
}
