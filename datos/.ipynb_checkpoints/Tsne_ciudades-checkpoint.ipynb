{
 "cells": [
  {
   "cell_type": "markdown",
   "id": "different-pharmaceutical",
   "metadata": {},
   "source": [
    "# Vamos a realizar un analisis de reduccion de la dimensionalidad a traves del metodo TSNE en dos y tres dimensiones para encontrar patrones a partir de relaciones no lineales entre las variables debido a los bajos datos de correlacion que muestran las variables de uso en las ciudades seleccionadas.\n"
   ]
  },
  {
   "cell_type": "code",
   "execution_count": 2,
   "id": "premium-standing",
   "metadata": {},
   "outputs": [
    {
     "ename": "ModuleNotFoundError",
     "evalue": "No module named 'sklearn'",
     "output_type": "error",
     "traceback": [
      "\u001b[1;31m---------------------------------------------------------------------------\u001b[0m",
      "\u001b[1;31mModuleNotFoundError\u001b[0m                       Traceback (most recent call last)",
      "\u001b[1;32m<ipython-input-2-76a2661f83bf>\u001b[0m in \u001b[0;36m<module>\u001b[1;34m\u001b[0m\n\u001b[1;32m----> 1\u001b[1;33m \u001b[1;32mfrom\u001b[0m \u001b[0msklearn\u001b[0m\u001b[1;33m.\u001b[0m\u001b[0mmanifold\u001b[0m \u001b[1;32mimport\u001b[0m \u001b[0mTSNE\u001b[0m\u001b[1;33m\u001b[0m\u001b[1;33m\u001b[0m\u001b[0m\n\u001b[0m",
      "\u001b[1;31mModuleNotFoundError\u001b[0m: No module named 'sklearn'"
     ]
    }
   ],
   "source": [
    "from sklearn.manifold import TSNE"
   ]
  },
  {
   "cell_type": "code",
   "execution_count": null,
   "id": "technical-channel",
   "metadata": {},
   "outputs": [],
   "source": [
    "tsne = TSNE(n_components = 2, random_state = 42, n_iter = 5000)"
   ]
  },
  {
   "cell_type": "code",
   "execution_count": null,
   "id": "suburban-closer",
   "metadata": {},
   "outputs": [],
   "source": [
    "df_st_usos_wide.iloc[:,1:16]"
   ]
  },
  {
   "cell_type": "code",
   "execution_count": null,
   "id": "valid-deficit",
   "metadata": {},
   "outputs": [],
   "source": [
    "usos_wide.iloc[:,2:17]"
   ]
  },
  {
   "cell_type": "code",
   "execution_count": null,
   "id": "moving-holly",
   "metadata": {},
   "outputs": [],
   "source": [
    "tsne_res_2d_df = tsne.fit_transform(usos_wide.iloc[:,2:17])\n",
    "tsne_res_2d_mm = tsne.fit_transform(df_mm_usos_wide.iloc[:,1:16])\n",
    "tsne_res_2d_st = tsne.fit_transform(df_st_usos_wide.iloc[:,1:16])"
   ]
  },
  {
   "cell_type": "code",
   "execution_count": null,
   "id": "stretch-lottery",
   "metadata": {},
   "outputs": [],
   "source": [
    "tsne_res_2d_df"
   ]
  },
  {
   "cell_type": "code",
   "execution_count": null,
   "id": "mechanical-ottawa",
   "metadata": {},
   "outputs": [],
   "source": [
    "df_tsne = pd.DataFrame({'x':tsne_res_2d_df[:,0], 'y':tsne_res_2d_df[:,1]})\n",
    "df_tsne_mm = pd.DataFrame({\"x\":tsne_res_2d_mm[:,0], \"y\":tsne_res_2d_mm[:,1]})\n",
    "df_tsne_st = pd.DataFrame({\"x\":tsne_res_2d_st[:,0], \"y\":tsne_res_2d_st[:,1]})"
   ]
  },
  {
   "cell_type": "code",
   "execution_count": null,
   "id": "superior-senate",
   "metadata": {},
   "outputs": [],
   "source": [
    "from sklearn.cluster import KMeans\n",
    "from sklearn.cluster import AgglomerativeClustering"
   ]
  },
  {
   "cell_type": "code",
   "execution_count": null,
   "id": "changing-valuation",
   "metadata": {},
   "outputs": [],
   "source": [
    "usos_wide.loc[:,['ciudades', 'COM', 'ED_SING', 'EQUIP_EDU', 'EQUIP_OTR',\n",
    "       'EQUIP_SANI', 'HOS_REST', 'IND', 'IND_MX', 'OCIO_ESP', 'OFI', 'RES_PLU',\n",
    "       'RES_PLU_MX', 'RES_UNI', 'RES_UNI_MX', 'SIN_EDIF']].head(5)"
   ]
  },
  {
   "cell_type": "code",
   "execution_count": null,
   "id": "stock-wedding",
   "metadata": {},
   "outputs": [],
   "source": [
    "Ag_tsne = AgglomerativeClustering(n_clusters = 4)\n",
    "\n",
    "Ag_tsne_df_cluster = Ag_tsne.fit(df_tsne.loc[:,['x','y']])\n",
    "Ag_tsne_mm_cluster = Ag_tsne.fit(df_tsne_mm.loc[:,['x','y']])\n",
    "Ag_tsne_st_cluster = Ag_tsne.fit(df_tsne_st.loc[:,['x','y']])\n",
    "\n",
    "uso_wide_cluster = Ag_tsne.fit(usos_wide.loc[:,['COM', 'ED_SING', 'EQUIP_EDU', 'EQUIP_OTR',\n",
    "       'EQUIP_SANI', 'HOS_REST', 'IND', 'IND_MX', 'OCIO_ESP', 'OFI', 'RES_PLU',\n",
    "       'RES_PLU_MX', 'RES_UNI', 'RES_UNI_MX', 'SIN_EDIF']])\n",
    "\n",
    "mm_usos_wide_cluster = Ag_tsne.fit(df_mm_usos_wide.loc[:,['COM', 'ED_SING', 'EQUIP_EDU', 'EQUIP_OTR',\n",
    "       'EQUIP_SANI', 'HOS_REST', 'IND', 'IND_MX', 'OCIO_ESP', 'OFI', 'RES_PLU',\n",
    "       'RES_PLU_MX', 'RES_UNI', 'RES_UNI_MX', 'SIN_EDIF']])\n",
    "\n",
    "st_usos_wide_cluster = Ag_tsne.fit(df_st_usos_wide.loc[:,['COM', 'ED_SING', 'EQUIP_EDU', 'EQUIP_OTR',\n",
    "       'EQUIP_SANI', 'HOS_REST', 'IND', 'IND_MX', 'OCIO_ESP', 'OFI', 'RES_PLU',\n",
    "       'RES_PLU_MX', 'RES_UNI', 'RES_UNI_MX', 'SIN_EDIF']])"
   ]
  },
  {
   "cell_type": "code",
   "execution_count": null,
   "id": "stock-pipeline",
   "metadata": {},
   "outputs": [],
   "source": [
    "uso_wide_cluster.labels_"
   ]
  },
  {
   "cell_type": "code",
   "execution_count": null,
   "id": "interracial-customs",
   "metadata": {},
   "outputs": [],
   "source": [
    "kmeans_tsne = KMeans(n_clusters = 4)\n",
    "k_tsne_df = kmeans_tsne.fit(df_tsne.loc[:,['x','y']])\n",
    "k_tsne_mm = kmeans_tsne.fit(df_tsne_mm.loc[:,[\"x\",\"y\"]])\n",
    "k_tsne_st = kmeans_tsne.fit(df_tsne_st.loc[:,[\"x\",\"y\"]])\n",
    "\n",
    "k_uso_wide_cluster = kmeans_tsne.fit(usos_wide.loc[:,['COM', 'ED_SING', 'EQUIP_EDU', 'EQUIP_OTR',\n",
    "       'EQUIP_SANI', 'HOS_REST', 'IND', 'IND_MX', 'OCIO_ESP', 'OFI', 'RES_PLU',\n",
    "       'RES_PLU_MX', 'RES_UNI', 'RES_UNI_MX', 'SIN_EDIF']])\n",
    "\n",
    "k_mm_usos_wide_cluster = kmeans_tsne.fit(df_mm_usos_wide.loc[:,['COM', 'ED_SING', 'EQUIP_EDU', 'EQUIP_OTR',\n",
    "       'EQUIP_SANI', 'HOS_REST', 'IND', 'IND_MX', 'OCIO_ESP', 'OFI', 'RES_PLU',\n",
    "       'RES_PLU_MX', 'RES_UNI', 'RES_UNI_MX', 'SIN_EDIF']])\n",
    "\n",
    "k_st_usos_wide_cluster = kmeans_tsne.fit(df_st_usos_wide.loc[:,['COM', 'ED_SING', 'EQUIP_EDU', 'EQUIP_OTR',\n",
    "       'EQUIP_SANI', 'HOS_REST', 'IND', 'IND_MX', 'OCIO_ESP', 'OFI', 'RES_PLU',\n",
    "       'RES_PLU_MX', 'RES_UNI', 'RES_UNI_MX', 'SIN_EDIF']])"
   ]
  },
  {
   "cell_type": "code",
   "execution_count": null,
   "id": "freelance-medicare",
   "metadata": {},
   "outputs": [],
   "source": [
    "# Incorporar ciudades\n",
    "df_tsne[\"ciudades\"]  = df_mm_usos_wide.loc[:,\"ciudades\"]\n",
    "df_tsne_mm[\"ciudades\"] = df_mm_usos_wide.loc[:,\"ciudades\"]\n",
    "df_tsne_st[\"ciudades\"] = df_st_usos_wide.loc[:,\"ciudades\"]\n",
    "\n",
    "## Incorporar cluster kmeans en dataframe tsne \n",
    "df_tsne['k_cluster'] = k_tsne_df.labels_\n",
    "df_tsne_mm[\"kcluster_mm\"] = k_tsne_mm.labels_\n",
    "df_tsne_st[\"kcluster_st\"] = k_tsne_st.labels_\n",
    "\n",
    "## Incorporar clusters en hierarquical en dataframes tsne\n",
    "df_tsne['hcluster_tsne'] = Ag_tsne_df_cluster.labels_\n",
    "df_tsne_mm[\"hcluster_mm_tsne\"] = Ag_tsne_mm_cluster.labels_\n",
    "df_tsne_st[\"hcluster_st_tsne\"] = Ag_tsne_st_cluster.labels_\n",
    "\n",
    "# Incoporar kulster k means en base de datos df_mm_usos_wide\n",
    "df_mm_usos_wide['kcluster'] = k_mm_usos_wide_cluster.labels_\n",
    "df_st_usos_wide['kcluster'] = k_st_usos_wide_cluster.labels_\n",
    "\n",
    "usos_wide['kcluster_or'] = k_uso_wide_cluster.labels_\n",
    "usos_wide['kcluster_mm'] = k_mm_usos_wide_cluster.labels_ \n",
    "usos_wide['kcluster_st'] = k_st_usos_wide_cluster.labels_\n",
    "\n",
    "\n",
    "usos_wide['hcluster_or'] = uso_wide_cluster.labels_\n",
    "usos_wide['hcluster_mm'] = mm_usos_wide_cluster.labels_\n",
    "usos_wide['hcluster_st'] = st_usos_wide_cluster.labels_\n"
   ]
  },
  {
   "cell_type": "code",
   "execution_count": null,
   "id": "hourly-operations",
   "metadata": {},
   "outputs": [],
   "source": [
    "# Agregamos algunas etiquetas al data original que provienen del TSNE"
   ]
  },
  {
   "cell_type": "code",
   "execution_count": null,
   "id": "fundamental-directive",
   "metadata": {},
   "outputs": [],
   "source": [
    "usos_wide[\"kcluster_st_tsne\"] = df_tsne_st[\"kcluster_st\"] "
   ]
  },
  {
   "cell_type": "code",
   "execution_count": null,
   "id": "cellular-cinema",
   "metadata": {},
   "outputs": [],
   "source": [
    "import seaborn as sn"
   ]
  },
  {
   "cell_type": "code",
   "execution_count": null,
   "id": "silver-diana",
   "metadata": {},
   "outputs": [],
   "source": [
    "sn.scatterplot(data = df_tsne_mm, x = 'x', y = 'y', hue = \"kcluster_mm\", palette = \"deep\")"
   ]
  },
  {
   "cell_type": "code",
   "execution_count": null,
   "id": "removable-greeting",
   "metadata": {},
   "outputs": [],
   "source": [
    "## Disminuir el tamano de la letra\n",
    "\n",
    "fig = go.Figure(data=go.Splom(\n",
    "                  dimensions=[dict(label='COM', values=usos_wide['COM']),\n",
    "                              dict(label='ED_SING', values=usos_wide['ED_SING']),\n",
    "                              dict(label='EQUIP_EDU', values=usos_wide['EQUIP_EDU']),\n",
    "                              dict(label='EQUIP_OTR', values=usos_wide['EQUIP_OTR']),\n",
    "                              dict(label='EQUIP_SANI', values=usos_wide['EQUIP_SANI']),\n",
    "                              dict(label='HOS_REST', values=usos_wide['HOS_REST']),\n",
    "                              dict(label='IND', values=usos_wide['IND']),\n",
    "                              dict(label='IND_MX', values=usos_wide['IND_MX']),\n",
    "                              dict(label='OCIO_ESP', values=usos_wide['OCIO_ESP']),\n",
    "                              dict(label='RES_PLU', values=usos_wide['RES_PLU']),\n",
    "                              dict(label='RES_PLU_MX', values=usos_wide['RES_PLU_MX']),\n",
    "                              dict(label='RES_UNI', values=usos_wide['RES_UNI']),\n",
    "                              dict(label='RES_UNI_MX', values=usos_wide['RES_UNI_MX']),\n",
    "                              dict(label='SIN_EDIF', values=usos_wide['SIN_EDIF'])],\n",
    "                  text = df_mm_usos_wide['ciudades'],\n",
    "                  marker=dict(color= usos_wide['Agcluster_mm'],\n",
    "                              size=5,\n",
    "                              showscale=False,\n",
    "                              line=dict(width=0.5,\n",
    "                                        color='rgb(230,230,230)')),\n",
    "                  diagonal=dict(visible=False)))\n",
    "                \n",
    "        \n",
    "\n",
    "fig.update_layout(title=\"Scatterplot matrix\",\n",
    "                  dragmode='select',\n",
    "                  width=1000,\n",
    "                  height=1000,\n",
    "                  hovermode='closest')\n",
    "\n",
    "fig.show()"
   ]
  },
  {
   "cell_type": "code",
   "execution_count": null,
   "id": "reduced-spell",
   "metadata": {},
   "outputs": [],
   "source": [
    "## Disminuir el tamano de la letra\n",
    "\n",
    "fig = go.Figure(data=go.Splom(\n",
    "                  dimensions=[dict(label='COM', values=usos_wide['COM']),\n",
    "                              dict(label='ED_SING', values=usos_wide['ED_SING']),\n",
    "                              dict(label='EQUIP_EDU', values=usos_wide['EQUIP_EDU']),\n",
    "                              dict(label='EQUIP_OTR', values=usos_wide['EQUIP_OTR']),\n",
    "                              dict(label='EQUIP_SANI', values=usos_wide['EQUIP_SANI']),\n",
    "                              dict(label='HOS_REST', values=usos_wide['HOS_REST']),\n",
    "                              dict(label='IND', values=usos_wide['IND']),\n",
    "                              dict(label='IND_MX', values=usos_wide['IND_MX']),\n",
    "                              dict(label='OCIO_ESP', values=usos_wide['OCIO_ESP']),\n",
    "                              dict(label='RES_PLU', values=usos_wide['RES_PLU']),\n",
    "                              dict(label='RES_PLU_MX', values=usos_wide['RES_PLU_MX']),\n",
    "                              dict(label='RES_UNI', values=usos_wide['RES_UNI']),\n",
    "                              dict(label='RES_UNI_MX', values=usos_wide['RES_UNI_MX']),\n",
    "                              dict(label='SIN_EDIF', values=usos_wide['SIN_EDIF'])],\n",
    "                  text = df_mm_usos_wide['ciudades'],\n",
    "                  marker=dict(color= usos_wide['kcluster'],\n",
    "                              size=5,\n",
    "                              showscale=False,\n",
    "                              line=dict(width=0.5,\n",
    "                                        color='rgb(230,230,230)')),\n",
    "                  diagonal=dict(visible=False)))\n",
    "                \n",
    "        \n",
    "\n",
    "fig.update_layout(title=\"Scatterplot matrix\",\n",
    "                  dragmode='select',\n",
    "                  width=1000,\n",
    "                  height=1000,\n",
    "                  hovermode='closest')\n",
    "\n",
    "fig.show()"
   ]
  },
  {
   "cell_type": "code",
   "execution_count": null,
   "id": "rolled-priest",
   "metadata": {},
   "outputs": [],
   "source": [
    "import plotly.express as px\n",
    "fig = px.scatter(x= df_tsne['x'], y =df_tsne['y'], color=df_tsne['k_cluster'],\n",
    "                 hover_data=[df_tsne['ciudades']])\n",
    "fig.show()"
   ]
  },
  {
   "cell_type": "code",
   "execution_count": null,
   "id": "bridal-feature",
   "metadata": {},
   "outputs": [],
   "source": [
    "import plotly.express as px\n",
    "fig = px.scatter(x= df_tsne_mm['x'], y =df_tsne_mm['y'], color=df_tsne_mm['kcluster_mm'],\n",
    "                 hover_data=[df_tsne_mm['ciudades']])\n",
    "fig.show()"
   ]
  },
  {
   "cell_type": "code",
   "execution_count": null,
   "id": "minimal-showcase",
   "metadata": {},
   "outputs": [],
   "source": [
    "df_tsne_st"
   ]
  },
  {
   "cell_type": "code",
   "execution_count": null,
   "id": "mysterious-niger",
   "metadata": {},
   "outputs": [],
   "source": [
    "import plotly.express as px\n",
    "fig = px.scatter(x= df_tsne_st['x'], y =df_tsne_st['y'], color=df_tsne_st['kcluster_st'],\n",
    "                 hover_data=[df_tsne_st['ciudades']])\n",
    "fig.show()"
   ]
  },
  {
   "cell_type": "code",
   "execution_count": null,
   "id": "robust-flush",
   "metadata": {},
   "outputs": [],
   "source": [
    "# Ahora vamos a ver el resultado de los cluster jerarquicos "
   ]
  },
  {
   "cell_type": "code",
   "execution_count": null,
   "id": "outer-sleeve",
   "metadata": {},
   "outputs": [],
   "source": [
    "df_tsne"
   ]
  },
  {
   "cell_type": "code",
   "execution_count": null,
   "id": "liable-patent",
   "metadata": {},
   "outputs": [],
   "source": [
    "fig = px.scatter(x= df_tsne['x'], y =df_tsne['y'], color=df_tsne['Agcluster'],\n",
    "                 hover_data=[df_tsne_st['ciudades']])\n",
    "fig.show()"
   ]
  },
  {
   "cell_type": "code",
   "execution_count": null,
   "id": "lonely-constitutional",
   "metadata": {},
   "outputs": [],
   "source": [
    "fig = px.scatter(x= df_tsne_mm['x'], y =df_tsne_mm['y'], color=df_tsne['Agcluster'],\n",
    "                 hover_data=[df_tsne_mm['ciudades']])\n",
    "fig.show()"
   ]
  },
  {
   "cell_type": "code",
   "execution_count": null,
   "id": "preceding-cabinet",
   "metadata": {},
   "outputs": [],
   "source": [
    "fig = px.scatter(x= df_tsne_st['x'], y =df_tsne_st['y'], color=df_tsne_st['Agcluster_st'],\n",
    "                 hover_data=[df_tsne_st['ciudades']])\n",
    "fig.show()"
   ]
  },
  {
   "cell_type": "markdown",
   "id": "failing-deadline",
   "metadata": {},
   "source": [
    "Los resultados anteriores pueden estar influido debido a que la escala de las dimensiones del TSNE no esta estandarizadas y por eso algunos patrones extranos. \n",
    "\n",
    "1.- Una opcion es volver a hacer los cluster estandarizando el TSNE. \n",
    "2.- Otra opcion es jugar con los parametros del TSNE para ver si podemos encontrar el mejor patron. \n",
    "3.- La tarcera opcion es volver hacerlo con 3 dimensiones.\n",
    "4.- Volver a hacerlo después de descartar los outliers. "
   ]
  },
  {
   "cell_type": "markdown",
   "id": "compliant-great",
   "metadata": {},
   "source": [
    "Podemos hacer un ensayo del árbol de decisión, sobre los del TSNE y las variables originales."
   ]
  },
  {
   "cell_type": "code",
   "execution_count": null,
   "id": "posted-masters",
   "metadata": {},
   "outputs": [],
   "source": [
    "1.- Primer aproximacion vamos a calcular el mejor cluster "
   ]
  },
  {
   "cell_type": "code",
   "execution_count": null,
   "id": "demonstrated-peace",
   "metadata": {},
   "outputs": [],
   "source": [
    "## Tenemos aquí que hacer el analisis de los grupos con group.by\n",
    "\n",
    "df_st_usos_wide[\"cluster_st\"] = df_tsne_st['Agcluster_st']"
   ]
  },
  {
   "cell_type": "code",
   "execution_count": null,
   "id": "ranging-petite",
   "metadata": {},
   "outputs": [],
   "source": [
    "1.- Vamos a realizar un arbol a partir de los valores de los cluster construidos a partir de los datos originales estandarizados.\n",
    "\n",
    "2- Segundo arbol a partir de los clusters construidos a partir de los agrupamientos detectados por el TSN a partir de datos estandarizados. "
   ]
  },
  {
   "cell_type": "code",
   "execution_count": null,
   "id": "painful-duncan",
   "metadata": {},
   "outputs": [],
   "source": [
    "usos_wide[\"cluster_st_tsne\"] = df_tsne_st['Agcluster_st']"
   ]
  },
  {
   "cell_type": "code",
   "execution_count": null,
   "id": "canadian-wisdom",
   "metadata": {},
   "outputs": [],
   "source": [
    "usos_wide.head(5)"
   ]
  },
  {
   "cell_type": "code",
   "execution_count": null,
   "id": "effective-scenario",
   "metadata": {},
   "outputs": [],
   "source": [
    "usos_wide.columns"
   ]
  },
  {
   "cell_type": "code",
   "execution_count": null,
   "id": "higher-palace",
   "metadata": {},
   "outputs": [],
   "source": [
    "mean_cluster_TSNE_st  = usos_wide.loc[:,['COM', 'ED_SING', 'EQUIP_EDU', 'EQUIP_OTR',\n",
    "       'EQUIP_SANI', 'HOS_REST', 'IND', 'IND_MX', 'OCIO_ESP', 'OFI', 'RES_PLU',\n",
    "       'RES_PLU_MX', 'RES_UNI', 'RES_UNI_MX', 'SIN_EDIF','cluster_st']].groupby(by = \"cluster_st\", axis = 0).mean()"
   ]
  },
  {
   "cell_type": "code",
   "execution_count": null,
   "id": "acute-watershed",
   "metadata": {},
   "outputs": [],
   "source": [
    "mean_cluster_TSNE_st"
   ]
  },
  {
   "cell_type": "code",
   "execution_count": null,
   "id": "prostate-winter",
   "metadata": {},
   "outputs": [],
   "source": [
    "mean_cluster_TSNE_st = mean_cluster_TSNE_st.reset_index()"
   ]
  },
  {
   "cell_type": "code",
   "execution_count": null,
   "id": "processed-basin",
   "metadata": {},
   "outputs": [],
   "source": [
    "mean_cluster_TSNE_st.columns\n",
    "variables = ['COM', 'ED_SING', 'EQUIP_EDU', 'EQUIP_OTR', 'EQUIP_SANI',\n",
    "       'HOS_REST', 'IND', 'IND_MX', 'OCIO_ESP', 'OFI', 'RES_PLU', 'RES_PLU_MX',\n",
    "       'RES_UNI', 'RES_UNI_MX', 'SIN_EDIF']"
   ]
  },
  {
   "cell_type": "code",
   "execution_count": null,
   "id": "earned-injury",
   "metadata": {},
   "outputs": [],
   "source": [
    "long_mean_cluster_TSNE_st = pd.melt(mean_cluster_TSNE_st, id_vars = \"cluster_st\", value_vars = variables )"
   ]
  },
  {
   "cell_type": "code",
   "execution_count": null,
   "id": "seven-coordination",
   "metadata": {},
   "outputs": [],
   "source": [
    "long_mean_cluster_TSNE_st"
   ]
  },
  {
   "cell_type": "code",
   "execution_count": null,
   "id": "mexican-johnson",
   "metadata": {},
   "outputs": [],
   "source": [
    "import seaborn.objects as so\n",
    "from seaborn import axes_style"
   ]
  },
  {
   "cell_type": "code",
   "execution_count": null,
   "id": "critical-index",
   "metadata": {},
   "outputs": [],
   "source": [
    "(\n",
    "    so.Plot(long_mean_cluster_TSNE_st, x=\"USO\", y=\"value\", color = \"cluster_st\").theme({**axes_style(\"whitegrid\"), \"grid.linestyle\": \":\"})\n",
    "    .add(so.Dot())\n",
    "    .add(so.Line())\n",
    "    .label(\n",
    "        x = \"  \",\n",
    "        y = \"Factor value\"\n",
    "    )\n",
    ")"
   ]
  },
  {
   "cell_type": "code",
   "execution_count": null,
   "id": "smooth-greek",
   "metadata": {},
   "outputs": [],
   "source": [
    "fig = go.Figure(data=go.Splom(\n",
    "                  dimensions=[dict(label='COM', values=usos_wide['COM']),\n",
    "                              dict(label='ED_SING', values=usos_wide['ED_SING']),\n",
    "                              dict(label='EQUIP_EDU', values=usos_wide['EQUIP_EDU']),\n",
    "                              dict(label='EQUIP_OTR', values=usos_wide['EQUIP_OTR']),\n",
    "                              dict(label='EQUIP_SANI', values=usos_wide['EQUIP_SANI']),\n",
    "                              dict(label='HOS_REST', values=usos_wide['HOS_REST']),\n",
    "                              dict(label='IND', values=usos_wide['IND']),\n",
    "                              dict(label='IND_MX', values=usos_wide['IND_MX']),\n",
    "                              dict(label='OCIO_ESP', values=usos_wide['OCIO_ESP']),\n",
    "                              dict(label='RES_PLU', values=usos_wide['RES_PLU']),\n",
    "                              dict(label='RES_PLU_MX', values=usos_wide['RES_PLU_MX']),\n",
    "                              dict(label='RES_UNI', values=usos_wide['RES_UNI']),\n",
    "                              dict(label='RES_UNI_MX', values=usos_wide['RES_UNI_MX']),\n",
    "                              dict(label='SIN_EDIF', values=usos_wide['SIN_EDIF'])],\n",
    "                  text = (usos_wide.loc[:,\"ciudades\"]),\n",
    "                  marker=dict(color= usos_wide['cluster_mm'],\n",
    "                              size=5,\n",
    "                              showscale=False,\n",
    "                              line=dict(width=0.5,\n",
    "                                        color='rgb(230,230,230)')),\n",
    "                  diagonal=dict(visible=False)))\n",
    "                \n",
    "        \n",
    "\n",
    "fig.update_layout(title=\"Scatterplot matrix\",\n",
    "                  dragmode='select',\n",
    "                  width=1000,\n",
    "                  height=1000,\n",
    "                  hovermode='closest')\n",
    "\n",
    "fig.show()"
   ]
  },
  {
   "cell_type": "code",
   "execution_count": null,
   "id": "sapphire-annual",
   "metadata": {},
   "outputs": [],
   "source": [
    "usos_wide.iloc[:,2:18]"
   ]
  },
  {
   "cell_type": "code",
   "execution_count": null,
   "id": "editorial-ultimate",
   "metadata": {},
   "outputs": [],
   "source": [
    "No es tan útil el gráfico anterior para ver patrones. Quizás sea más interesante un gráfico de barras paralelas."
   ]
  },
  {
   "cell_type": "code",
   "execution_count": null,
   "id": "twenty-campbell",
   "metadata": {},
   "outputs": [],
   "source": [
    "# Vamos a avanzar con el análisis de arbol de decision para explicar los grupos"
   ]
  },
  {
   "cell_type": "code",
   "execution_count": null,
   "id": "controversial-consultation",
   "metadata": {},
   "outputs": [],
   "source": [
    "import pandas as pd \n",
    "import numpy as np\n",
    "import matplotlib.pyplot as plt"
   ]
  },
  {
   "cell_type": "code",
   "execution_count": null,
   "id": "executed-stable",
   "metadata": {},
   "outputs": [],
   "source": [
    "from sklearn.tree import DecisionTreeClassifier, plot_tree\n",
    "from sklearn.model_selection import ParameterGrid, GridSearchCV\n",
    "from sklearn.metrics import make_scorer, accuracy_score, classification_report"
   ]
  },
  {
   "cell_type": "code",
   "execution_count": null,
   "id": "sunset-degree",
   "metadata": {},
   "outputs": [],
   "source": [
    "EPS = 10 * 6 # Esto que es? el umbral minimo?"
   ]
  },
  {
   "cell_type": "code",
   "execution_count": null,
   "id": "decent-dover",
   "metadata": {},
   "outputs": [],
   "source": [
    "from sklearn.model_selection import train_test_split"
   ]
  },
  {
   "cell_type": "code",
   "execution_count": null,
   "id": "psychological-penguin",
   "metadata": {},
   "outputs": [],
   "source": [
    "usos_wide"
   ]
  },
  {
   "cell_type": "code",
   "execution_count": null,
   "id": "knowing-little",
   "metadata": {},
   "outputs": [],
   "source": [
    "usos_wide.columns"
   ]
  },
  {
   "cell_type": "code",
   "execution_count": null,
   "id": "exotic-seller",
   "metadata": {},
   "outputs": [],
   "source": [
    "labels = usos_wide.Agcluster_st\n",
    "labels_mm = usos_wide.Agcluster_mm\n",
    "labels_tsne = usos_wide.cluster_st_tsne\n",
    "features = usos_wide.loc[:,['COM', 'ED_SING', 'EQUIP_EDU', 'EQUIP_OTR', 'EQUIP_SANI',\n",
    "       'HOS_REST', 'IND', 'IND_MX', 'OCIO_ESP', 'OFI', 'RES_PLU', 'RES_PLU_MX',\n",
    "       'RES_UNI', 'RES_UNI_MX', 'SIN_EDIF']]"
   ]
  },
  {
   "cell_type": "code",
   "execution_count": null,
   "id": "selective-skirt",
   "metadata": {},
   "outputs": [],
   "source": [
    "full_tree = DecisionTreeClassifier(random_state=42)\n",
    "full_tree_mm = DecisionTreeClassifier(random_state=42)\n",
    "full_tree_tsne = DecisionTreeClassifier(random_state=42)\n",
    "full_tree.fit(features, labels)\n",
    "full_tree_mm.fit(features, labels_mm)\n",
    "full_tree_tsne.fit(features, labels_tsne)"
   ]
  },
  {
   "cell_type": "code",
   "execution_count": null,
   "id": "twelve-characteristic",
   "metadata": {},
   "outputs": [],
   "source": [
    "feature_names = features.columns"
   ]
  },
  {
   "cell_type": "code",
   "execution_count": null,
   "id": "naughty-request",
   "metadata": {},
   "outputs": [],
   "source": [
    "class_names = [\"0\",\"1\",\"2\",\"3\",'4']"
   ]
  },
  {
   "cell_type": "code",
   "execution_count": null,
   "id": "academic-chamber",
   "metadata": {},
   "outputs": [],
   "source": [
    "plt.figure(figsize =(4,4), dpi =1000)\n",
    "plot_tree(full_tree, feature_names = feature_names, class_names = class_names, filled = True)"
   ]
  },
  {
   "cell_type": "code",
   "execution_count": null,
   "id": "vulnerable-milan",
   "metadata": {},
   "outputs": [],
   "source": [
    "plt.figure(figsize =(4,4), dpi =1000)\n",
    "plot_tree(full_tree_mm, feature_names = feature_names, class_names = class_names, filled = True)"
   ]
  },
  {
   "cell_type": "code",
   "execution_count": null,
   "id": "radio-sydney",
   "metadata": {},
   "outputs": [],
   "source": [
    "plt.figure(figsize =(4,4), dpi =1000)\n",
    "plot_tree(full_tree_tsne, feature_names = feature_names, class_names = class_names, filled = True)"
   ]
  },
  {
   "cell_type": "code",
   "execution_count": null,
   "id": "determined-paradise",
   "metadata": {},
   "outputs": [],
   "source": [
    "print(classification_report(labels, full_tree.predict(features)))"
   ]
  },
  {
   "cell_type": "code",
   "execution_count": null,
   "id": "trained-soundtrack",
   "metadata": {},
   "outputs": [],
   "source": [
    "Importance = full_tree.feature_importances_"
   ]
  },
  {
   "cell_type": "code",
   "execution_count": null,
   "id": "intensive-stadium",
   "metadata": {},
   "outputs": [],
   "source": [
    "pd.DataFrame({'features':feature_names, 'Importance':Importance})"
   ]
  },
  {
   "cell_type": "markdown",
   "id": "electric-somewhere",
   "metadata": {},
   "source": [
    "1.- Si hago el cluster con los datos originales, luego ejecuto el arbol de decision puedo sacar una idea de la importancia relativa solo en base a los datos originales ##\n",
    "\n",
    "2.- Esto lo puedo complementar nuevamente con un random forest, para tener la idea de muchos arboles. Sin embargo, no puedo ajustar los parametros en base a las predicciones si no tengo un conjunto de test. "
   ]
  },
  {
   "cell_type": "code",
   "execution_count": null,
   "id": "banner-consolidation",
   "metadata": {},
   "outputs": [],
   "source": [
    "usos_wide['Agcluster']"
   ]
  }
 ],
 "metadata": {
  "kernelspec": {
   "display_name": "Python 3",
   "language": "python",
   "name": "python3"
  },
  "language_info": {
   "codemirror_mode": {
    "name": "ipython",
    "version": 3
   },
   "file_extension": ".py",
   "mimetype": "text/x-python",
   "name": "python",
   "nbconvert_exporter": "python",
   "pygments_lexer": "ipython3",
   "version": "3.8.5"
  }
 },
 "nbformat": 4,
 "nbformat_minor": 5
}
