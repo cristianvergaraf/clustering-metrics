{
 "cells": [
  {
   "cell_type": "code",
   "execution_count": 2,
   "id": "ccda0740-fa74-424b-9ad3-5f1d73cc516f",
   "metadata": {
    "tags": []
   },
   "outputs": [],
   "source": [
    "import pandas as pd\n",
    "import re \n",
    "import os"
   ]
  },
  {
   "cell_type": "code",
   "execution_count": 3,
   "id": "f69d634c-3dc2-4d1d-859f-a7ffc3d66c9c",
   "metadata": {
    "tags": []
   },
   "outputs": [
    {
     "name": "stdout",
     "output_type": "stream",
     "text": [
      "c:\\Users\\crist\\Documents\\GitHub\\manifolds\\ciudades\\datos\\socioeconomicos\n"
     ]
    }
   ],
   "source": [
    "import os\n",
    "print(os.getcwd())"
   ]
  },
  {
   "cell_type": "code",
   "execution_count": 4,
   "id": "f6bb018b-b52f-4807-ad40-d5950eeeed43",
   "metadata": {
    "tags": []
   },
   "outputs": [],
   "source": [
    "df_municipios = pd.read_excel('DatosMunicipales2020.xlsx', sheet_name=0, dtype ={\"Código INE\":str})"
   ]
  },
  {
   "cell_type": "code",
   "execution_count": 5,
   "id": "b1687e86-c048-4292-ad99-6d02db09516a",
   "metadata": {
    "tags": []
   },
   "outputs": [
    {
     "data": {
      "text/html": [
       "<div>\n",
       "<style scoped>\n",
       "    .dataframe tbody tr th:only-of-type {\n",
       "        vertical-align: middle;\n",
       "    }\n",
       "\n",
       "    .dataframe tbody tr th {\n",
       "        vertical-align: top;\n",
       "    }\n",
       "\n",
       "    .dataframe thead th {\n",
       "        text-align: right;\n",
       "    }\n",
       "</style>\n",
       "<table border=\"1\" class=\"dataframe\">\n",
       "  <thead>\n",
       "    <tr style=\"text-align: right;\">\n",
       "      <th></th>\n",
       "      <th>Código INE</th>\n",
       "      <th>Municipio</th>\n",
       "      <th>Provincia</th>\n",
       "      <th>Comunidad Autónoma</th>\n",
       "      <th>Población Total</th>\n",
       "      <th>Población Hombres</th>\n",
       "      <th>Población Mujeres</th>\n",
       "      <th>Unnamed: 7</th>\n",
       "      <th>Conductores Hombres</th>\n",
       "      <th>Conductoras Mujeres</th>\n",
       "      <th>...</th>\n",
       "      <th>Alcohol (6 puntos)</th>\n",
       "      <th>Drogas (6 puntos)</th>\n",
       "      <th>Casco, Cinturón, SRI (3 puntos)</th>\n",
       "      <th>Móvil (3 puntos)</th>\n",
       "      <th>Semáforo (4 puntos)</th>\n",
       "      <th>Otra (3 puntos)</th>\n",
       "      <th>Otra (4 puntos)</th>\n",
       "      <th>Otra (6 puntos)</th>\n",
       "      <th>Unnamed: 95</th>\n",
       "      <th>Campañas</th>\n",
       "    </tr>\n",
       "  </thead>\n",
       "  <tbody>\n",
       "    <tr>\n",
       "      <th>0</th>\n",
       "      <td>01001</td>\n",
       "      <td>Alava ( municipio sin especificar)</td>\n",
       "      <td>Araba/Álava</td>\n",
       "      <td>País Vasco</td>\n",
       "      <td>NaN</td>\n",
       "      <td>NaN</td>\n",
       "      <td>NaN</td>\n",
       "      <td>NaN</td>\n",
       "      <td>1.0</td>\n",
       "      <td>0.0</td>\n",
       "      <td>...</td>\n",
       "      <td>NaN</td>\n",
       "      <td>NaN</td>\n",
       "      <td>NaN</td>\n",
       "      <td>NaN</td>\n",
       "      <td>NaN</td>\n",
       "      <td>NaN</td>\n",
       "      <td>NaN</td>\n",
       "      <td>NaN</td>\n",
       "      <td>NaN</td>\n",
       "      <td>0.0</td>\n",
       "    </tr>\n",
       "    <tr>\n",
       "      <th>1</th>\n",
       "      <td>01002</td>\n",
       "      <td>Alegría-Dulantzi</td>\n",
       "      <td>Araba/Álava</td>\n",
       "      <td>País Vasco</td>\n",
       "      <td>2935.0</td>\n",
       "      <td>1531.0</td>\n",
       "      <td>1404.0</td>\n",
       "      <td>NaN</td>\n",
       "      <td>1038.0</td>\n",
       "      <td>818.0</td>\n",
       "      <td>...</td>\n",
       "      <td>NaN</td>\n",
       "      <td>NaN</td>\n",
       "      <td>NaN</td>\n",
       "      <td>NaN</td>\n",
       "      <td>NaN</td>\n",
       "      <td>NaN</td>\n",
       "      <td>NaN</td>\n",
       "      <td>NaN</td>\n",
       "      <td>NaN</td>\n",
       "      <td>0.0</td>\n",
       "    </tr>\n",
       "  </tbody>\n",
       "</table>\n",
       "<p>2 rows × 97 columns</p>\n",
       "</div>"
      ],
      "text/plain": [
       "  Código INE                           Municipio    Provincia  \\\n",
       "0      01001  Alava ( municipio sin especificar)  Araba/Álava   \n",
       "1      01002                    Alegría-Dulantzi  Araba/Álava   \n",
       "\n",
       "  Comunidad Autónoma  Población Total  Población Hombres  Población Mujeres  \\\n",
       "0         País Vasco              NaN                NaN                NaN   \n",
       "1         País Vasco           2935.0             1531.0             1404.0   \n",
       "\n",
       "   Unnamed: 7  Conductores Hombres  Conductoras Mujeres  ...  \\\n",
       "0         NaN                  1.0                  0.0  ...   \n",
       "1         NaN               1038.0                818.0  ...   \n",
       "\n",
       "   Alcohol (6 puntos)  Drogas (6 puntos)  Casco, Cinturón, SRI (3 puntos)  \\\n",
       "0                 NaN                NaN                              NaN   \n",
       "1                 NaN                NaN                              NaN   \n",
       "\n",
       "   Móvil (3 puntos)  Semáforo (4 puntos)  Otra (3 puntos)  Otra (4 puntos)  \\\n",
       "0               NaN                  NaN              NaN              NaN   \n",
       "1               NaN                  NaN              NaN              NaN   \n",
       "\n",
       "   Otra (6 puntos)  Unnamed: 95  Campañas  \n",
       "0              NaN          NaN       0.0  \n",
       "1              NaN          NaN       0.0  \n",
       "\n",
       "[2 rows x 97 columns]"
      ]
     },
     "execution_count": 5,
     "metadata": {},
     "output_type": "execute_result"
    }
   ],
   "source": [
    "df_municipios.head(2)"
   ]
  },
  {
   "cell_type": "code",
   "execution_count": 6,
   "id": "63147540-8616-4689-bc85-cd100a193882",
   "metadata": {
    "tags": []
   },
   "outputs": [],
   "source": [
    "df_municipios_small = df_municipios.iloc[:,0:2].reset_index()"
   ]
  },
  {
   "cell_type": "code",
   "execution_count": 7,
   "id": "eee85155-d64f-46d7-984f-4f41b3e1184f",
   "metadata": {
    "tags": []
   },
   "outputs": [
    {
     "data": {
      "text/html": [
       "<div>\n",
       "<style scoped>\n",
       "    .dataframe tbody tr th:only-of-type {\n",
       "        vertical-align: middle;\n",
       "    }\n",
       "\n",
       "    .dataframe tbody tr th {\n",
       "        vertical-align: top;\n",
       "    }\n",
       "\n",
       "    .dataframe thead th {\n",
       "        text-align: right;\n",
       "    }\n",
       "</style>\n",
       "<table border=\"1\" class=\"dataframe\">\n",
       "  <thead>\n",
       "    <tr style=\"text-align: right;\">\n",
       "      <th></th>\n",
       "      <th>index</th>\n",
       "      <th>Código INE</th>\n",
       "      <th>Municipio</th>\n",
       "    </tr>\n",
       "  </thead>\n",
       "  <tbody>\n",
       "    <tr>\n",
       "      <th>0</th>\n",
       "      <td>0</td>\n",
       "      <td>01001</td>\n",
       "      <td>Alava ( municipio sin especificar)</td>\n",
       "    </tr>\n",
       "    <tr>\n",
       "      <th>1</th>\n",
       "      <td>1</td>\n",
       "      <td>01002</td>\n",
       "      <td>Alegría-Dulantzi</td>\n",
       "    </tr>\n",
       "    <tr>\n",
       "      <th>2</th>\n",
       "      <td>2</td>\n",
       "      <td>01003</td>\n",
       "      <td>Amurrio</td>\n",
       "    </tr>\n",
       "    <tr>\n",
       "      <th>3</th>\n",
       "      <td>3</td>\n",
       "      <td>01004</td>\n",
       "      <td>Aramaio</td>\n",
       "    </tr>\n",
       "    <tr>\n",
       "      <th>4</th>\n",
       "      <td>4</td>\n",
       "      <td>01006</td>\n",
       "      <td>Artziniega</td>\n",
       "    </tr>\n",
       "    <tr>\n",
       "      <th>...</th>\n",
       "      <td>...</td>\n",
       "      <td>...</td>\n",
       "      <td>...</td>\n",
       "    </tr>\n",
       "    <tr>\n",
       "      <th>8191</th>\n",
       "      <td>8191</td>\n",
       "      <td>50901</td>\n",
       "      <td>Biel</td>\n",
       "    </tr>\n",
       "    <tr>\n",
       "      <th>8192</th>\n",
       "      <td>8192</td>\n",
       "      <td>50902</td>\n",
       "      <td>Marracos</td>\n",
       "    </tr>\n",
       "    <tr>\n",
       "      <th>8193</th>\n",
       "      <td>8193</td>\n",
       "      <td>50903</td>\n",
       "      <td>Villamayor de Gállego</td>\n",
       "    </tr>\n",
       "    <tr>\n",
       "      <th>8194</th>\n",
       "      <td>8194</td>\n",
       "      <td>51001</td>\n",
       "      <td>Ceuta</td>\n",
       "    </tr>\n",
       "    <tr>\n",
       "      <th>8195</th>\n",
       "      <td>8195</td>\n",
       "      <td>52001</td>\n",
       "      <td>Melilla</td>\n",
       "    </tr>\n",
       "  </tbody>\n",
       "</table>\n",
       "<p>8196 rows × 3 columns</p>\n",
       "</div>"
      ],
      "text/plain": [
       "      index Código INE                           Municipio\n",
       "0         0      01001  Alava ( municipio sin especificar)\n",
       "1         1      01002                    Alegría-Dulantzi\n",
       "2         2      01003                             Amurrio\n",
       "3         3      01004                             Aramaio\n",
       "4         4      01006                          Artziniega\n",
       "...     ...        ...                                 ...\n",
       "8191   8191      50901                                Biel\n",
       "8192   8192      50902                            Marracos\n",
       "8193   8193      50903               Villamayor de Gállego\n",
       "8194   8194      51001                               Ceuta\n",
       "8195   8195      52001                             Melilla\n",
       "\n",
       "[8196 rows x 3 columns]"
      ]
     },
     "execution_count": 7,
     "metadata": {},
     "output_type": "execute_result"
    }
   ],
   "source": [
    "df_municipios_small"
   ]
  },
  {
   "cell_type": "code",
   "execution_count": 158,
   "id": "258f2453-96d6-43ef-bbaa-2ddeb9352949",
   "metadata": {
    "tags": []
   },
   "outputs": [],
   "source": [
    "df_ciudades = pd.read_csv(\"C:\\projectos\\manifolds\\ciudades\\datos\\metricas\\ciudades_division.csv\")"
   ]
  },
  {
   "cell_type": "code",
   "execution_count": 8,
   "id": "ec12130d-26ac-4012-b966-eda853ef05fd",
   "metadata": {
    "tags": []
   },
   "outputs": [
    {
     "ename": "NameError",
     "evalue": "name 'df_ciudades' is not defined",
     "output_type": "error",
     "traceback": [
      "\u001b[1;31m---------------------------------------------------------------------------\u001b[0m",
      "\u001b[1;31mNameError\u001b[0m                                 Traceback (most recent call last)",
      "\u001b[1;32mc:\\Users\\crist\\Documents\\GitHub\\manifolds\\ciudades\\datos\\socioeconomicos\\reading_sociodata.ipynb Cell 8\u001b[0m in \u001b[0;36m1\n\u001b[1;32m----> <a href='vscode-notebook-cell:/c%3A/Users/crist/Documents/GitHub/manifolds/ciudades/datos/socioeconomicos/reading_sociodata.ipynb#X10sZmlsZQ%3D%3D?line=0'>1</a>\u001b[0m df_ciudades\u001b[39m.\u001b[39mcolumns\n",
      "\u001b[1;31mNameError\u001b[0m: name 'df_ciudades' is not defined"
     ]
    }
   ],
   "source": [
    "df_ciudades.columns"
   ]
  },
  {
   "cell_type": "code",
   "execution_count": 160,
   "id": "af0f0bc5-d281-4009-a45c-a225325c4e23",
   "metadata": {
    "tags": []
   },
   "outputs": [
    {
     "name": "stderr",
     "output_type": "stream",
     "text": [
      "C:\\Users\\crist\\AppData\\Local\\Temp\\ipykernel_23368\\2696729365.py:1: FutureWarning: The default value of regex will change from True to False in a future version.\n",
      "  df_ciudades['ciudades'] = df_ciudades['index'].str.replace(r'\\.txt$', '')\n"
     ]
    }
   ],
   "source": [
    "df_ciudades['ciudades'] = df_ciudades['index'].str.replace(r'\\.txt$', '')\n",
    "df_ciudades['ciudades'] = df_ciudades['ciudades'].str.replace('_', ' ')"
   ]
  },
  {
   "cell_type": "code",
   "execution_count": 161,
   "id": "66052412-33f4-4786-b175-8f1a2b6af801",
   "metadata": {
    "tags": []
   },
   "outputs": [],
   "source": [
    "df_ciudades['ciudades'] = df_ciudades['ciudades'].apply(lambda x: x.capitalize())"
   ]
  },
  {
   "cell_type": "code",
   "execution_count": 162,
   "id": "ab99d306-25f3-465e-bdb4-b4c2fdf3fd15",
   "metadata": {
    "tags": []
   },
   "outputs": [
    {
     "name": "stdout",
     "output_type": "stream",
     "text": [
      "Albacete\n",
      "Alcala\n",
      "Alcobendas\n",
      "Alcorcon\n",
      "Algeciras\n",
      "Alicante\n",
      "Almeria\n",
      "Avila\n",
      "Badalona\n",
      "Barcelona\n",
      "Bodajoz\n",
      "Burgos\n",
      "Caceres\n",
      "Cadiz\n",
      "Cartagena\n",
      "Castello\n",
      "Ceuta\n",
      "Ciudad real\n",
      "Cordoba\n",
      "Corunia\n",
      "Cuenca\n",
      "Dos hermanas\n",
      "Elche\n",
      "Fuentelabra\n",
      "Getafe\n",
      "Gijon\n",
      "Girona\n",
      "Granada\n",
      "Guadalajara\n",
      "Hospitalet\n",
      "Huelva\n",
      "Huesca\n",
      "Jaen\n",
      "Jerez\n",
      "Las palmas\n",
      "Leganes\n",
      "Leon\n",
      "Lleida\n",
      "Logronio\n",
      "Lugo\n",
      "Madrid\n",
      "Malaga\n",
      "Marbella\n",
      "Mataro\n",
      "Melilla\n",
      "Mostoles\n",
      "Murcia\n",
      "Ourense\n",
      "Oviedo\n",
      "Palencia\n",
      "Palma\n",
      "Parla\n",
      "Pontevedra\n",
      "Sabadell\n",
      "Salamanca\n",
      "Santander\n",
      "Santa coloma\n",
      "Santa cruz tenerife\n",
      "San cristobal\n",
      "Segovia\n",
      "Sevilla\n",
      "Soria\n",
      "Terragona\n",
      "Terrasa\n",
      "Teruel\n",
      "Toledo\n",
      "Torrejon\n",
      "Valencia\n",
      "Valladolid\n",
      "Vigo\n",
      "Zamora\n",
      "Zaragoza\n"
     ]
    }
   ],
   "source": [
    "for cities in df_ciudades.ciudades:\n",
    "    print(cities)"
   ]
  },
  {
   "cell_type": "code",
   "execution_count": 163,
   "id": "4105bb2a-4f31-419e-8c29-b060601b65f9",
   "metadata": {
    "tags": []
   },
   "outputs": [],
   "source": [
    "rep = {'Avila':'Ávila','Alicante':'Alicante/Alacant','Alcorcon':'Alcorcón', 'Almeria':'Almería','Alcala':'Alcalá de Henares', 'Cadiz':'Cádiz','Caceres':'Cáceres', 'Cordoba':'Córdoba','Castello': 'Castelló de la Plana', 'Ciudad real':'Ciudad Real','Bodajoz':'Badajoz','Dos hermanas':'Dos Hermanas','Fuentelabra':'Fuenlabrada',\n",
    "'Leganes':'Leganés','Logronio':'Logroño','Mataro':'Mataró','Mostoles':'Móstoles','Santa coloma':'Santa Coloma de Gramenet','Santa cruz tenerife':'Santa Cruz de Tenerife','Jaen':'Jaén','Jerez':'Jerez de la Frontera','Leon':'León','Malaga':'Málaga',\n",
    "'San cristobal':'San Cristóbal de La Laguna','Terrasa':'Terrassa','Terragona':'Tarragona','Torrejon':'Torrejón de Ardoz','Corunia':'Coruña, A','Gijon':'Gijón',\n",
    "'Palma':'Palma de Mallorca','Las palma':'Palmas de Gran Canaria, Las', 'Elche': 'Elche/Elx', 'Hospitalet':\"Hospitalet de Llobregat, L'\"} "
   ]
  },
  {
   "cell_type": "code",
   "execution_count": 164,
   "id": "ae5bde5d-d6d9-41f0-a6ac-8b9a9f5526e1",
   "metadata": {
    "tags": []
   },
   "outputs": [],
   "source": [
    "def replace_cities(df, replacements):\n",
    "    for city, replacement in replacements.items():\n",
    "        df['ciudades'] = df['ciudades'].str.replace(city, replacement)\n",
    "    return df\n"
   ]
  },
  {
   "cell_type": "code",
   "execution_count": 165,
   "id": "f78c26ea-a1f0-4d8f-82e3-b04f739059c7",
   "metadata": {
    "tags": []
   },
   "outputs": [],
   "source": [
    "df = replace_cities(df_ciudades, rep)"
   ]
  },
  {
   "cell_type": "code",
   "execution_count": 166,
   "id": "5ef14515-0f90-47dd-9484-fc4ea0d3670d",
   "metadata": {
    "tags": []
   },
   "outputs": [],
   "source": [
    "df_ciudades['ciudades'] = df['ciudades'].str.replace('Palmas de Gran Canaria, Lass', 'Palmas de Gran Canaria, Las')"
   ]
  },
  {
   "cell_type": "code",
   "execution_count": 167,
   "id": "fb8dee55-41b5-4a53-9b28-c5c0f9680abd",
   "metadata": {
    "tags": []
   },
   "outputs": [],
   "source": [
    "nombre_ciudades = df_ciudades.ciudades"
   ]
  },
  {
   "cell_type": "code",
   "execution_count": 168,
   "id": "6dd5b52e-fdb8-4e5c-aea7-8dd006505e62",
   "metadata": {
    "tags": []
   },
   "outputs": [
    {
     "name": "stdout",
     "output_type": "stream",
     "text": [
      "72\n",
      "Albacete\n",
      "Alcalá de Henares\n",
      "Alcobendas\n",
      "Alcorcón\n",
      "Algeciras\n",
      "Alicante/Alacant\n",
      "Almería\n",
      "Ávila\n",
      "Badalona\n",
      "Barcelona\n",
      "Badajoz\n",
      "Burgos\n",
      "Cáceres\n",
      "Cádiz\n",
      "Cartagena\n",
      "Castelló de la Plana\n",
      "Ceuta\n",
      "Ciudad Real\n",
      "Córdoba\n",
      "Coruña, A\n",
      "Cuenca\n",
      "Dos Hermanas\n",
      "Elche/Elx\n",
      "Fuenlabrada\n",
      "Getafe\n",
      "Gijón\n",
      "Girona\n",
      "Granada\n",
      "Guadalajara\n",
      "Hospitalet de Llobregat, L'\n",
      "Huelva\n",
      "Huesca\n",
      "Jaén\n",
      "Jerez de la Frontera\n",
      "Palmas de Gran Canaria, Las\n",
      "Leganés\n",
      "León\n",
      "Lleida\n",
      "Logroño\n",
      "Lugo\n",
      "Madrid\n",
      "Málaga\n",
      "Marbella\n",
      "Mataró\n",
      "Melilla\n",
      "Móstoles\n",
      "Murcia\n",
      "Ourense\n",
      "Oviedo\n",
      "Palencia\n",
      "Palma de Mallorca\n",
      "Parla\n",
      "Pontevedra\n",
      "Sabadell\n",
      "Salamanca\n",
      "Santander\n",
      "Santa Coloma de Gramenet\n",
      "Santa Cruz de Tenerife\n",
      "San Cristóbal de La Laguna\n",
      "Segovia\n",
      "Sevilla\n",
      "Soria\n",
      "Tarragona\n",
      "Terrassa\n",
      "Teruel\n",
      "Toledo\n",
      "Torrejón de Ardoz\n",
      "Valencia\n",
      "Valladolid\n",
      "Vigo\n",
      "Zamora\n",
      "Zaragoza\n"
     ]
    }
   ],
   "source": [
    "print(len(nombre_ciudades))\n",
    "for ciudades in nombre_ciudades:\n",
    "    print(ciudades)"
   ]
  },
  {
   "cell_type": "code",
   "execution_count": 169,
   "id": "8dcb92bc-3f8e-409e-98c5-778858e980aa",
   "metadata": {
    "tags": []
   },
   "outputs": [],
   "source": [
    "#buscar los nombres de ciudades en la columna \"municipios\"\n",
    "nombre_dic = {}\n",
    "saltar =  'municipio sin especificar'\n",
    "for ciudad in nombre_ciudades:\n",
    "    filtro_exacto = df_municipios['Municipio'] == ciudad\n",
    "    filtro_relativo = df_municipios['Municipio'].str.contains(ciudad, regex=True)\n",
    "    mun = df_municipios.loc[filtro, 'Municipio'].iloc[0]\n",
    "    if filtro_exacto.any():\n",
    "        temp = df_municipios.loc[filtro_exacto, 'Municipio'].iloc[0]\n",
    "        if temp == None:\n",
    "            nombre_dic[ciudad] = df_municipios.loc[filtro_relativo, 'Municipio'].iloc[0]\n",
    "        else: \n",
    "            nombre_dic[ciudad] = temp\n",
    "    else:\n",
    "        # si no se encuentra ninguna coincidencia, agregar un valor nulo\n",
    "        nombre_dic[ciudad] = None"
   ]
  },
  {
   "cell_type": "code",
   "execution_count": 170,
   "id": "56cfa734-7a65-4ebd-b9b1-d0373e3859bc",
   "metadata": {
    "tags": []
   },
   "outputs": [
    {
     "data": {
      "text/plain": [
       "0              Albacete\n",
       "1     Alcalá de Henares\n",
       "2            Alcobendas\n",
       "3              Alcorcón\n",
       "4             Algeciras\n",
       "            ...        \n",
       "67             Valencia\n",
       "68           Valladolid\n",
       "69                 Vigo\n",
       "70               Zamora\n",
       "71             Zaragoza\n",
       "Name: ciudades, Length: 72, dtype: object"
      ]
     },
     "execution_count": 170,
     "metadata": {},
     "output_type": "execute_result"
    }
   ],
   "source": [
    "nombre_ciudades"
   ]
  },
  {
   "cell_type": "code",
   "execution_count": 171,
   "id": "08a35bf0-daa4-4206-a19b-2475246b92f9",
   "metadata": {
    "tags": []
   },
   "outputs": [],
   "source": [
    "# buscar los nombres de ciudades en la columna \"municipios\"\n",
    "nombre_dic = {}\n",
    "saltar =  'municipio sin especificar'\n",
    "for ciudad in nombre_ciudades:\n",
    "    filtro_exacto = df_municipios['Municipio'] == ciudad\n",
    "    filtro_relativo = df_municipios['Municipio'].str.contains(ciudad, regex=True)\n",
    "    try:\n",
    "        valor = df_municipios.loc[filtro_exacto, 'Municipio'].iloc[0]\n",
    "        nombre_dic[ciudad] = valor\n",
    "    except IndexError:\n",
    "        mun = df_municipios.loc[filtro_relativo, 'Municipio'].iloc[0]\n",
    "        if saltar in mun:\n",
    "            pass # En este caso tendria que ser una funcion recursiva.\n",
    "        else:\n",
    "            nombre_dic[ciudad] = mun\n",
    "    "
   ]
  },
  {
   "cell_type": "code",
   "execution_count": 172,
   "id": "f24879a0-ebdd-4f53-a4b7-d230de0a6092",
   "metadata": {
    "tags": []
   },
   "outputs": [
    {
     "data": {
      "text/plain": [
       "72"
      ]
     },
     "execution_count": 172,
     "metadata": {},
     "output_type": "execute_result"
    }
   ],
   "source": [
    "len(nombre_dic)"
   ]
  },
  {
   "cell_type": "code",
   "execution_count": 173,
   "id": "e3b83a50-f825-4fbb-8c57-b5637a115e95",
   "metadata": {
    "tags": []
   },
   "outputs": [
    {
     "data": {
      "text/plain": [
       "{'Albacete': 'Albacete',\n",
       " 'Alcalá de Henares': 'Alcalá de Henares',\n",
       " 'Alcobendas': 'Alcobendas',\n",
       " 'Alcorcón': 'Alcorcón',\n",
       " 'Algeciras': 'Algeciras',\n",
       " 'Alicante/Alacant': 'Alicante/Alacant',\n",
       " 'Almería': 'Almería',\n",
       " 'Ávila': 'Ávila',\n",
       " 'Badalona': 'Badalona',\n",
       " 'Barcelona': 'Barcelona',\n",
       " 'Badajoz': 'Badajoz',\n",
       " 'Burgos': 'Burgos',\n",
       " 'Cáceres': 'Cáceres',\n",
       " 'Cádiz': 'Cádiz',\n",
       " 'Cartagena': 'Cartagena',\n",
       " 'Castelló de la Plana': 'Castelló de la Plana',\n",
       " 'Ceuta': 'Ceuta',\n",
       " 'Ciudad Real': 'Ciudad Real',\n",
       " 'Córdoba': 'Córdoba',\n",
       " 'Coruña, A': 'Coruña, A',\n",
       " 'Cuenca': 'Cuenca',\n",
       " 'Dos Hermanas': 'Dos Hermanas',\n",
       " 'Elche/Elx': 'Elche/Elx',\n",
       " 'Fuenlabrada': 'Fuenlabrada',\n",
       " 'Getafe': 'Getafe',\n",
       " 'Gijón': 'Gijón',\n",
       " 'Girona': 'Girona',\n",
       " 'Granada': 'Granada',\n",
       " 'Guadalajara': 'Guadalajara',\n",
       " \"Hospitalet de Llobregat, L'\": \"Hospitalet de Llobregat, L'\",\n",
       " 'Huelva': 'Huelva',\n",
       " 'Huesca': 'Huesca',\n",
       " 'Jaén': 'Jaén',\n",
       " 'Jerez de la Frontera': 'Jerez de la Frontera',\n",
       " 'Palmas de Gran Canaria, Las': 'Palmas de Gran Canaria, Las',\n",
       " 'Leganés': 'Leganés',\n",
       " 'León': 'León',\n",
       " 'Lleida': 'Lleida',\n",
       " 'Logroño': 'Logroño',\n",
       " 'Lugo': 'Lugo',\n",
       " 'Madrid': 'Madrid',\n",
       " 'Málaga': 'Málaga',\n",
       " 'Marbella': 'Marbella',\n",
       " 'Mataró': 'Mataró',\n",
       " 'Melilla': 'Melilla',\n",
       " 'Móstoles': 'Móstoles',\n",
       " 'Murcia': 'Murcia',\n",
       " 'Ourense': 'Ourense',\n",
       " 'Oviedo': 'Oviedo',\n",
       " 'Palencia': 'Palencia',\n",
       " 'Palma de Mallorca': 'Palma de Mallorca',\n",
       " 'Parla': 'Parla',\n",
       " 'Pontevedra': 'Pontevedra',\n",
       " 'Sabadell': 'Sabadell',\n",
       " 'Salamanca': 'Salamanca',\n",
       " 'Santander': 'Santander',\n",
       " 'Santa Coloma de Gramenet': 'Santa Coloma de Gramenet',\n",
       " 'Santa Cruz de Tenerife': 'Santa Cruz de Tenerife',\n",
       " 'San Cristóbal de La Laguna': 'San Cristóbal de La Laguna',\n",
       " 'Segovia': 'Segovia',\n",
       " 'Sevilla': 'Sevilla',\n",
       " 'Soria': 'Soria',\n",
       " 'Tarragona': 'Tarragona',\n",
       " 'Terrassa': 'Terrassa',\n",
       " 'Teruel': 'Teruel',\n",
       " 'Toledo': 'Toledo',\n",
       " 'Torrejón de Ardoz': 'Torrejón de Ardoz',\n",
       " 'Valencia': 'Valencia',\n",
       " 'Valladolid': 'Valladolid',\n",
       " 'Vigo': 'Vigo',\n",
       " 'Zamora': 'Zamora',\n",
       " 'Zaragoza': 'Zaragoza'}"
      ]
     },
     "execution_count": 173,
     "metadata": {},
     "output_type": "execute_result"
    }
   ],
   "source": [
    "nombre_dic"
   ]
  },
  {
   "cell_type": "code",
   "execution_count": 174,
   "id": "9a5ed345-454d-4cef-927e-8a24febcee29",
   "metadata": {
    "tags": []
   },
   "outputs": [
    {
     "name": "stdout",
     "output_type": "stream",
     "text": [
      "intentamos con Albacete\n",
      "Asignaremos el codigo de Albacete\n",
      "intentamos con Alcalá de Henares\n",
      "Asignaremos el codigo de Alcalá de Henares\n",
      "intentamos con Alcobendas\n",
      "Asignaremos el codigo de Alcobendas\n",
      "intentamos con Alcorcón\n",
      "Asignaremos el codigo de Alcorcón\n",
      "intentamos con Algeciras\n",
      "Asignaremos el codigo de Algeciras\n",
      "intentamos con Alicante/Alacant\n",
      "Asignaremos el codigo de Alicante/Alacant\n",
      "intentamos con Almería\n",
      "Asignaremos el codigo de Almería\n",
      "intentamos con Ávila\n",
      "Asignaremos el codigo de Ávila\n",
      "intentamos con Badalona\n",
      "Asignaremos el codigo de Badalona\n",
      "intentamos con Barcelona\n",
      "Asignaremos el codigo de Barcelona\n",
      "intentamos con Badajoz\n",
      "Asignaremos el codigo de Badajoz\n",
      "intentamos con Burgos\n",
      "Asignaremos el codigo de Burgos\n",
      "intentamos con Cáceres\n",
      "Asignaremos el codigo de Cáceres\n",
      "intentamos con Cádiz\n",
      "Asignaremos el codigo de Cádiz\n",
      "intentamos con Cartagena\n",
      "Asignaremos el codigo de Cartagena\n",
      "intentamos con Castelló de la Plana\n",
      "Asignaremos el codigo de Castelló de la Plana\n",
      "intentamos con Ceuta\n",
      "Asignaremos el codigo de Ceuta\n",
      "intentamos con Ciudad Real\n",
      "Asignaremos el codigo de Ciudad Real\n",
      "intentamos con Córdoba\n",
      "Asignaremos el codigo de Córdoba\n",
      "intentamos con Coruña, A\n",
      "Asignaremos el codigo de Coruña, A\n",
      "intentamos con Cuenca\n",
      "Asignaremos el codigo de Cuenca\n",
      "intentamos con Dos Hermanas\n",
      "Asignaremos el codigo de Dos Hermanas\n",
      "intentamos con Elche/Elx\n",
      "Asignaremos el codigo de Elche/Elx\n",
      "intentamos con Fuenlabrada\n",
      "Asignaremos el codigo de Fuenlabrada\n",
      "intentamos con Getafe\n",
      "Asignaremos el codigo de Getafe\n",
      "intentamos con Gijón\n",
      "Asignaremos el codigo de Gijón\n",
      "intentamos con Girona\n",
      "Asignaremos el codigo de Girona\n",
      "intentamos con Granada\n",
      "Asignaremos el codigo de Granada\n",
      "intentamos con Guadalajara\n",
      "Asignaremos el codigo de Guadalajara\n",
      "intentamos con Hospitalet de Llobregat, L'\n",
      "Asignaremos el codigo de Hospitalet de Llobregat, L'\n",
      "intentamos con Huelva\n",
      "Asignaremos el codigo de Huelva\n",
      "intentamos con Huesca\n",
      "Asignaremos el codigo de Huesca\n",
      "intentamos con Jaén\n",
      "Asignaremos el codigo de Jaén\n",
      "intentamos con Jerez de la Frontera\n",
      "Asignaremos el codigo de Jerez de la Frontera\n",
      "intentamos con Palmas de Gran Canaria, Las\n",
      "Asignaremos el codigo de Palmas de Gran Canaria, Las\n",
      "intentamos con Leganés\n",
      "Asignaremos el codigo de Leganés\n",
      "intentamos con León\n",
      "Asignaremos el codigo de León\n",
      "intentamos con Lleida\n",
      "Asignaremos el codigo de Lleida\n",
      "intentamos con Logroño\n",
      "Asignaremos el codigo de Logroño\n",
      "intentamos con Lugo\n",
      "Asignaremos el codigo de Lugo\n",
      "intentamos con Madrid\n",
      "Asignaremos el codigo de Madrid\n",
      "intentamos con Málaga\n",
      "Asignaremos el codigo de Málaga\n",
      "intentamos con Marbella\n",
      "Asignaremos el codigo de Marbella\n",
      "intentamos con Mataró\n",
      "Asignaremos el codigo de Mataró\n",
      "intentamos con Melilla\n",
      "Asignaremos el codigo de Melilla\n",
      "intentamos con Móstoles\n",
      "Asignaremos el codigo de Móstoles\n",
      "intentamos con Murcia\n",
      "Asignaremos el codigo de Murcia\n",
      "intentamos con Ourense\n",
      "Asignaremos el codigo de Ourense\n",
      "intentamos con Oviedo\n",
      "Asignaremos el codigo de Oviedo\n",
      "intentamos con Palencia\n",
      "Asignaremos el codigo de Palencia\n",
      "intentamos con Palma de Mallorca\n",
      "Asignaremos el codigo de Palma de Mallorca\n",
      "intentamos con Parla\n",
      "Asignaremos el codigo de Parla\n",
      "intentamos con Pontevedra\n",
      "Asignaremos el codigo de Pontevedra\n",
      "intentamos con Sabadell\n",
      "Asignaremos el codigo de Sabadell\n",
      "intentamos con Salamanca\n",
      "Asignaremos el codigo de Salamanca\n",
      "intentamos con Santander\n",
      "Asignaremos el codigo de Santander\n",
      "intentamos con Santa Coloma de Gramenet\n",
      "Asignaremos el codigo de Santa Coloma de Gramenet\n",
      "intentamos con Santa Cruz de Tenerife\n",
      "Asignaremos el codigo de Santa Cruz de Tenerife\n",
      "intentamos con San Cristóbal de La Laguna\n",
      "Asignaremos el codigo de San Cristóbal de La Laguna\n",
      "intentamos con Segovia\n",
      "Asignaremos el codigo de Segovia\n",
      "intentamos con Sevilla\n",
      "Asignaremos el codigo de Sevilla\n",
      "intentamos con Soria\n",
      "Asignaremos el codigo de Soria\n",
      "intentamos con Tarragona\n",
      "Asignaremos el codigo de Tarragona\n",
      "intentamos con Terrassa\n",
      "Asignaremos el codigo de Terrassa\n",
      "intentamos con Teruel\n",
      "Asignaremos el codigo de Teruel\n",
      "intentamos con Toledo\n",
      "Asignaremos el codigo de Toledo\n",
      "intentamos con Torrejón de Ardoz\n",
      "Asignaremos el codigo de Torrejón de Ardoz\n",
      "intentamos con Valencia\n",
      "Asignaremos el codigo de Valencia\n",
      "intentamos con Valladolid\n",
      "Asignaremos el codigo de Valladolid\n",
      "intentamos con Vigo\n",
      "Asignaremos el codigo de Vigo\n",
      "intentamos con Zamora\n",
      "Asignaremos el codigo de Zamora\n",
      "intentamos con Zaragoza\n",
      "Asignaremos el codigo de Zaragoza\n"
     ]
    }
   ],
   "source": [
    "### Buscar los nombres de ciudades en la columna \"municipios\"\n",
    "codigos_dic = {}\n",
    "saltar =  'municipio sin especificar'\n",
    "for ciudad in nombre_ciudades:\n",
    "    filtro_exacto = df_municipios['Municipio'] == ciudad\n",
    "    filtro_relativo = df_municipios['Municipio'].str.contains(ciudad, regex=True)\n",
    "    try:\n",
    "        print(f\"intentamos con {ciudad}\")\n",
    "        valor = df_municipios.loc[filtro_exacto, 'Municipio'].iloc[0]\n",
    "        print(f\"Asignaremos el codigo de {valor}\")\n",
    "        codigos_dic[ciudad] = df_municipios.loc[filtro_exacto, 'Código INE'].iloc[0]\n",
    "    except IndexError:\n",
    "        mun = df_municipios.loc[filtro_relativo, 'Código INE'].iloc[0]\n",
    "        nombre = df_municipios.loc[filtro_relativo, 'Municipio'].iloc[0]\n",
    "        codigos_dic[ciudad] = mun\n",
    "        print(f\"asigneremos {mun} que corresponde a {nombre}, porque ha fallado {ciudad} en el try\")\n",
    "        "
   ]
  },
  {
   "cell_type": "code",
   "execution_count": 175,
   "id": "52e4996f-dcde-4e20-80cc-820f3be4b7ab",
   "metadata": {
    "tags": []
   },
   "outputs": [
    {
     "data": {
      "text/plain": [
       "72"
      ]
     },
     "execution_count": 175,
     "metadata": {},
     "output_type": "execute_result"
    }
   ],
   "source": [
    "len(codigos_dic)"
   ]
  },
  {
   "cell_type": "code",
   "execution_count": 176,
   "id": "5641ae0b-2048-43be-b1f3-0c0ef6c9594d",
   "metadata": {
    "tags": []
   },
   "outputs": [
    {
     "data": {
      "text/plain": [
       "{'Albacete': '02005',\n",
       " 'Alcalá de Henares': '28039',\n",
       " 'Alcobendas': '28040',\n",
       " 'Alcorcón': '28041',\n",
       " 'Algeciras': '11021',\n",
       " 'Alicante/Alacant': '03017',\n",
       " 'Almería': '04017',\n",
       " 'Ávila': '05025',\n",
       " 'Badalona': '08029',\n",
       " 'Barcelona': '08033',\n",
       " 'Badajoz': '06021',\n",
       " 'Burgos': '09075',\n",
       " 'Cáceres': '10053',\n",
       " 'Cádiz': '11029',\n",
       " 'Cartagena': '31007',\n",
       " 'Castelló de la Plana': '12060',\n",
       " 'Ceuta': '51001',\n",
       " 'Ciudad Real': '13053',\n",
       " 'Córdoba': '14041',\n",
       " 'Coruña, A': '15051',\n",
       " 'Cuenca': '16102',\n",
       " 'Dos Hermanas': '41094',\n",
       " 'Elche/Elx': '03068',\n",
       " 'Fuenlabrada': '28094',\n",
       " 'Getafe': '28102',\n",
       " 'Gijón': '33063',\n",
       " 'Girona': '17102',\n",
       " 'Granada': '18117',\n",
       " 'Guadalajara': '19162',\n",
       " \"Hospitalet de Llobregat, L'\": '08115',\n",
       " 'Huelva': '21068',\n",
       " 'Huesca': '22167',\n",
       " 'Jaén': '23081',\n",
       " 'Jerez de la Frontera': '11037',\n",
       " 'Palmas de Gran Canaria, Las': '36025',\n",
       " 'Leganés': '28113',\n",
       " 'León': '24120',\n",
       " 'Lleida': '25153',\n",
       " 'Logroño': '26124',\n",
       " 'Lugo': '27062',\n",
       " 'Madrid': '28117',\n",
       " 'Málaga': '29903',\n",
       " 'Marbella': '30001',\n",
       " 'Mataró': '08135',\n",
       " 'Melilla': '52001',\n",
       " 'Móstoles': '28129',\n",
       " 'Murcia': '31021',\n",
       " 'Ourense': '32092',\n",
       " 'Oviedo': '34006',\n",
       " 'Palencia': '34171',\n",
       " 'Palma de Mallorca': '07047',\n",
       " 'Parla': '28141',\n",
       " 'Pontevedra': '37022',\n",
       " 'Sabadell': '08201',\n",
       " 'Salamanca': '37324',\n",
       " 'Santander': '40030',\n",
       " 'Santa Coloma de Gramenet': '08259',\n",
       " 'Santa Cruz de Tenerife': '39033',\n",
       " 'San Cristóbal de La Laguna': '39018',\n",
       " 'Segovia': '41015',\n",
       " 'Sevilla': '42044',\n",
       " 'Soria': '43018',\n",
       " 'Tarragona': '44022',\n",
       " 'Terrassa': '08293',\n",
       " 'Teruel': '45014',\n",
       " 'Toledo': '46023',\n",
       " 'Torrejón de Ardoz': '28182',\n",
       " 'Valencia': '47045',\n",
       " 'Valladolid': '48018',\n",
       " 'Vigo': '37041',\n",
       " 'Zamora': '50065',\n",
       " 'Zaragoza': '50297'}"
      ]
     },
     "execution_count": 176,
     "metadata": {},
     "output_type": "execute_result"
    }
   ],
   "source": [
    "codigos_dic"
   ]
  },
  {
   "cell_type": "code",
   "execution_count": 177,
   "id": "e712398d-31b6-4ece-a69b-a04f2047ecee",
   "metadata": {
    "tags": []
   },
   "outputs": [],
   "source": [
    "\n",
    "codigos_INE = pd.DataFrame(codigos_dic, index = [0])"
   ]
  },
  {
   "cell_type": "code",
   "execution_count": 178,
   "id": "a7057d0b-bab0-4170-8c47-2f95e4670dfc",
   "metadata": {
    "tags": []
   },
   "outputs": [],
   "source": [
    "codigos_INE.to_csv('codigos_INE.csv', encoding = \"ISO-8859-1\")"
   ]
  },
  {
   "cell_type": "code",
   "execution_count": 179,
   "id": "5c1c7546-941d-4390-8a8b-83af492ef065",
   "metadata": {
    "tags": []
   },
   "outputs": [],
   "source": [
    "codigos_INE_long = codigos_INE.melt(value_vars= codigos_INE.columns, var_name = \"Ciudad\", value_name = 'COD')"
   ]
  },
  {
   "cell_type": "code",
   "execution_count": 180,
   "id": "17db15de-d0e7-414d-a58d-a728c57dcb10",
   "metadata": {
    "tags": []
   },
   "outputs": [],
   "source": [
    "codigos_INE_long.to_csv('C:\\projectos\\manifolds\\ciudades\\datos\\socioeconomicos\\codigos_INE_long_final.csv', encoding = 'ISO-8859-1')"
   ]
  },
  {
   "attachments": {},
   "cell_type": "markdown",
   "id": "49b42faa-05f9-4721-9690-c964b14456b5",
   "metadata": {},
   "source": [
    "## Ahora a partir del código INE"
   ]
  },
  {
   "attachments": {},
   "cell_type": "markdown",
   "id": "f3f7c2e7-d825-4a34-9689-a5c10a2b65c2",
   "metadata": {},
   "source": [
    "### Vamos a cargar los codigos INE desde el archivo generado\n"
   ]
  },
  {
   "cell_type": "code",
   "execution_count": 191,
   "id": "b778566a-3316-4c52-905d-af857b3bf779",
   "metadata": {
    "tags": []
   },
   "outputs": [],
   "source": [
    "codigos_INE_long = pd.read_csv(\"codigos_INE_long_final.csv\", encoding = 'ISO-8859-1', dtype ={\"COD\":str})"
   ]
  },
  {
   "cell_type": "code",
   "execution_count": 192,
   "id": "02323f91-482e-42e2-947e-bc3cc2e0bf79",
   "metadata": {
    "tags": []
   },
   "outputs": [
    {
     "data": {
      "text/html": [
       "<div>\n",
       "<style scoped>\n",
       "    .dataframe tbody tr th:only-of-type {\n",
       "        vertical-align: middle;\n",
       "    }\n",
       "\n",
       "    .dataframe tbody tr th {\n",
       "        vertical-align: top;\n",
       "    }\n",
       "\n",
       "    .dataframe thead th {\n",
       "        text-align: right;\n",
       "    }\n",
       "</style>\n",
       "<table border=\"1\" class=\"dataframe\">\n",
       "  <thead>\n",
       "    <tr style=\"text-align: right;\">\n",
       "      <th></th>\n",
       "      <th>Unnamed: 0</th>\n",
       "      <th>Ciudad</th>\n",
       "      <th>COD</th>\n",
       "    </tr>\n",
       "  </thead>\n",
       "  <tbody>\n",
       "    <tr>\n",
       "      <th>0</th>\n",
       "      <td>0</td>\n",
       "      <td>Albacete</td>\n",
       "      <td>02005</td>\n",
       "    </tr>\n",
       "    <tr>\n",
       "      <th>1</th>\n",
       "      <td>1</td>\n",
       "      <td>Alcalá de Henares</td>\n",
       "      <td>28039</td>\n",
       "    </tr>\n",
       "    <tr>\n",
       "      <th>2</th>\n",
       "      <td>2</td>\n",
       "      <td>Alcobendas</td>\n",
       "      <td>28040</td>\n",
       "    </tr>\n",
       "    <tr>\n",
       "      <th>3</th>\n",
       "      <td>3</td>\n",
       "      <td>Alcorcón</td>\n",
       "      <td>28041</td>\n",
       "    </tr>\n",
       "    <tr>\n",
       "      <th>4</th>\n",
       "      <td>4</td>\n",
       "      <td>Algeciras</td>\n",
       "      <td>11021</td>\n",
       "    </tr>\n",
       "    <tr>\n",
       "      <th>...</th>\n",
       "      <td>...</td>\n",
       "      <td>...</td>\n",
       "      <td>...</td>\n",
       "    </tr>\n",
       "    <tr>\n",
       "      <th>67</th>\n",
       "      <td>67</td>\n",
       "      <td>Valencia</td>\n",
       "      <td>47045</td>\n",
       "    </tr>\n",
       "    <tr>\n",
       "      <th>68</th>\n",
       "      <td>68</td>\n",
       "      <td>Valladolid</td>\n",
       "      <td>48018</td>\n",
       "    </tr>\n",
       "    <tr>\n",
       "      <th>69</th>\n",
       "      <td>69</td>\n",
       "      <td>Vigo</td>\n",
       "      <td>37041</td>\n",
       "    </tr>\n",
       "    <tr>\n",
       "      <th>70</th>\n",
       "      <td>70</td>\n",
       "      <td>Zamora</td>\n",
       "      <td>50065</td>\n",
       "    </tr>\n",
       "    <tr>\n",
       "      <th>71</th>\n",
       "      <td>71</td>\n",
       "      <td>Zaragoza</td>\n",
       "      <td>50297</td>\n",
       "    </tr>\n",
       "  </tbody>\n",
       "</table>\n",
       "<p>72 rows × 3 columns</p>\n",
       "</div>"
      ],
      "text/plain": [
       "    Unnamed: 0             Ciudad    COD\n",
       "0            0           Albacete  02005\n",
       "1            1  Alcalá de Henares  28039\n",
       "2            2         Alcobendas  28040\n",
       "3            3           Alcorcón  28041\n",
       "4            4          Algeciras  11021\n",
       "..         ...                ...    ...\n",
       "67          67           Valencia  47045\n",
       "68          68         Valladolid  48018\n",
       "69          69               Vigo  37041\n",
       "70          70             Zamora  50065\n",
       "71          71           Zaragoza  50297\n",
       "\n",
       "[72 rows x 3 columns]"
      ]
     },
     "execution_count": 192,
     "metadata": {},
     "output_type": "execute_result"
    }
   ],
   "source": [
    "codigos_INE_long"
   ]
  },
  {
   "cell_type": "code",
   "execution_count": 193,
   "id": "126ef2ed-9825-4cbf-82e8-50998f0648e6",
   "metadata": {},
   "outputs": [
    {
     "data": {
      "text/plain": [
       "Unnamed: 0     int64\n",
       "Ciudad        object\n",
       "COD           object\n",
       "dtype: object"
      ]
     },
     "execution_count": 193,
     "metadata": {},
     "output_type": "execute_result"
    }
   ],
   "source": [
    "codigos_INE_long.dtypes"
   ]
  },
  {
   "cell_type": "code",
   "execution_count": null,
   "id": "8b93edb7-a26f-447f-b576-49b0e7f7b38d",
   "metadata": {},
   "outputs": [],
   "source": []
  },
  {
   "cell_type": "code",
   "execution_count": 194,
   "id": "aebfe441-c3e7-4c6e-9cc4-8fc5deef590b",
   "metadata": {
    "tags": []
   },
   "outputs": [
    {
     "data": {
      "text/plain": [
       "0     02005\n",
       "1     28039\n",
       "2     28040\n",
       "3     28041\n",
       "4     11021\n",
       "      ...  \n",
       "67    47045\n",
       "68    48018\n",
       "69    37041\n",
       "70    50065\n",
       "71    50297\n",
       "Name: COD, Length: 72, dtype: object"
      ]
     },
     "execution_count": 194,
     "metadata": {},
     "output_type": "execute_result"
    }
   ],
   "source": [
    "rows_to_filter = codigos_INE_long.COD\n",
    "rows_to_filter"
   ]
  },
  {
   "cell_type": "code",
   "execution_count": 195,
   "id": "1f474308-d999-401e-82d4-41d5bdd2ee1d",
   "metadata": {
    "tags": []
   },
   "outputs": [
    {
     "data": {
      "text/plain": [
       "0              Albacete\n",
       "1     Alcalá de Henares\n",
       "2            Alcobendas\n",
       "3              Alcorcón\n",
       "4             Algeciras\n",
       "            ...        \n",
       "67             Valencia\n",
       "68           Valladolid\n",
       "69                 Vigo\n",
       "70               Zamora\n",
       "71             Zaragoza\n",
       "Name: Ciudad, Length: 72, dtype: object"
      ]
     },
     "execution_count": 195,
     "metadata": {},
     "output_type": "execute_result"
    }
   ],
   "source": [
    "rows_to_filter1 = codigos_INE_long.Ciudad\n",
    "rows_to_filter1"
   ]
  },
  {
   "cell_type": "code",
   "execution_count": 196,
   "id": "aa8cf9f2-84e8-4a62-95ee-d87315bbb452",
   "metadata": {
    "tags": []
   },
   "outputs": [
    {
     "ename": "KeyError",
     "evalue": "\"None of ['Código INE'] are in the columns\"",
     "output_type": "error",
     "traceback": [
      "\u001b[1;31m---------------------------------------------------------------------------\u001b[0m",
      "\u001b[1;31mKeyError\u001b[0m                                  Traceback (most recent call last)",
      "Cell \u001b[1;32mIn [196], line 1\u001b[0m\n\u001b[1;32m----> 1\u001b[0m df_municipios \u001b[38;5;241m=\u001b[39m df_municipios\u001b[38;5;241m.\u001b[39mset_index(\u001b[38;5;124m'\u001b[39m\u001b[38;5;124mCódigo INE\u001b[39m\u001b[38;5;124m'\u001b[39m)\n",
      "File \u001b[1;32m~\\miniconda3\\envs\\datamecum\\lib\\site-packages\\pandas\\util\\_decorators.py:331\u001b[0m, in \u001b[0;36mdeprecate_nonkeyword_arguments.<locals>.decorate.<locals>.wrapper\u001b[1;34m(*args, **kwargs)\u001b[0m\n\u001b[0;32m    325\u001b[0m \u001b[38;5;28;01mif\u001b[39;00m \u001b[38;5;28mlen\u001b[39m(args) \u001b[38;5;241m>\u001b[39m num_allow_args:\n\u001b[0;32m    326\u001b[0m     warnings\u001b[38;5;241m.\u001b[39mwarn(\n\u001b[0;32m    327\u001b[0m         msg\u001b[38;5;241m.\u001b[39mformat(arguments\u001b[38;5;241m=\u001b[39m_format_argument_list(allow_args)),\n\u001b[0;32m    328\u001b[0m         \u001b[38;5;167;01mFutureWarning\u001b[39;00m,\n\u001b[0;32m    329\u001b[0m         stacklevel\u001b[38;5;241m=\u001b[39mfind_stack_level(),\n\u001b[0;32m    330\u001b[0m     )\n\u001b[1;32m--> 331\u001b[0m \u001b[38;5;28;01mreturn\u001b[39;00m func(\u001b[38;5;241m*\u001b[39margs, \u001b[38;5;241m*\u001b[39m\u001b[38;5;241m*\u001b[39mkwargs)\n",
      "File \u001b[1;32m~\\miniconda3\\envs\\datamecum\\lib\\site-packages\\pandas\\core\\frame.py:6001\u001b[0m, in \u001b[0;36mDataFrame.set_index\u001b[1;34m(self, keys, drop, append, inplace, verify_integrity)\u001b[0m\n\u001b[0;32m   5998\u001b[0m                 missing\u001b[38;5;241m.\u001b[39mappend(col)\n\u001b[0;32m   6000\u001b[0m \u001b[38;5;28;01mif\u001b[39;00m missing:\n\u001b[1;32m-> 6001\u001b[0m     \u001b[38;5;28;01mraise\u001b[39;00m \u001b[38;5;167;01mKeyError\u001b[39;00m(\u001b[38;5;124mf\u001b[39m\u001b[38;5;124m\"\u001b[39m\u001b[38;5;124mNone of \u001b[39m\u001b[38;5;132;01m{\u001b[39;00mmissing\u001b[38;5;132;01m}\u001b[39;00m\u001b[38;5;124m are in the columns\u001b[39m\u001b[38;5;124m\"\u001b[39m)\n\u001b[0;32m   6003\u001b[0m \u001b[38;5;28;01mif\u001b[39;00m inplace:\n\u001b[0;32m   6004\u001b[0m     frame \u001b[38;5;241m=\u001b[39m \u001b[38;5;28mself\u001b[39m\n",
      "\u001b[1;31mKeyError\u001b[0m: \"None of ['Código INE'] are in the columns\""
     ]
    }
   ],
   "source": [
    "df_municipios = df_municipios.set_index('Código INE')"
   ]
  },
  {
   "cell_type": "code",
   "execution_count": 197,
   "id": "39386236-adaa-4a66-b99c-f72f56ebe6b2",
   "metadata": {
    "tags": []
   },
   "outputs": [],
   "source": [
    "filtered_df = df_municipios.loc[df_municipios.index.isin(rows_to_filter)]"
   ]
  },
  {
   "cell_type": "code",
   "execution_count": 198,
   "id": "1973609e-46ec-4579-8bd8-499aa077cde9",
   "metadata": {
    "tags": []
   },
   "outputs": [
    {
     "data": {
      "text/plain": [
       "0     02005\n",
       "1     28039\n",
       "2     28040\n",
       "3     28041\n",
       "4     11021\n",
       "      ...  \n",
       "67    47045\n",
       "68    48018\n",
       "69    37041\n",
       "70    50065\n",
       "71    50297\n",
       "Name: COD, Length: 72, dtype: object"
      ]
     },
     "execution_count": 198,
     "metadata": {},
     "output_type": "execute_result"
    }
   ],
   "source": [
    "rows_to_filter"
   ]
  },
  {
   "cell_type": "code",
   "execution_count": 199,
   "id": "6853a414-4a67-49c6-bff8-58432ea0a0f4",
   "metadata": {
    "tags": []
   },
   "outputs": [
    {
     "data": {
      "text/plain": [
       "75"
      ]
     },
     "execution_count": 199,
     "metadata": {},
     "output_type": "execute_result"
    }
   ],
   "source": [
    "len(filtered_df.Municipio)"
   ]
  },
  {
   "cell_type": "code",
   "execution_count": 205,
   "id": "34aa5673-9bce-4b58-a661-78fe68a1ee8e",
   "metadata": {
    "tags": []
   },
   "outputs": [],
   "source": [
    "filtered_df.to_csv('C:\\projectos\\manifolds\\ciudades\\datos\\socioeconomicos\\datos_municipios_filtered_Cod.csv', encoding = 'ISO-8859-1')"
   ]
  },
  {
   "cell_type": "code",
   "execution_count": 200,
   "id": "ed06a8ad-5694-4014-bfcf-6f85997457cf",
   "metadata": {
    "tags": []
   },
   "outputs": [],
   "source": [
    "filter_municipios = df_municipios.loc[df_municipios.Municipio.isin(rows_to_filter1)]"
   ]
  },
  {
   "cell_type": "code",
   "execution_count": 201,
   "id": "770e4ca6-2fd3-4819-90be-fd2e030794c5",
   "metadata": {
    "tags": []
   },
   "outputs": [
    {
     "data": {
      "text/html": [
       "<div>\n",
       "<style scoped>\n",
       "    .dataframe tbody tr th:only-of-type {\n",
       "        vertical-align: middle;\n",
       "    }\n",
       "\n",
       "    .dataframe tbody tr th {\n",
       "        vertical-align: top;\n",
       "    }\n",
       "\n",
       "    .dataframe thead th {\n",
       "        text-align: right;\n",
       "    }\n",
       "</style>\n",
       "<table border=\"1\" class=\"dataframe\">\n",
       "  <thead>\n",
       "    <tr style=\"text-align: right;\">\n",
       "      <th></th>\n",
       "      <th>Municipio</th>\n",
       "      <th>Provincia</th>\n",
       "      <th>Comunidad Autónoma</th>\n",
       "      <th>Población Total</th>\n",
       "      <th>Población Hombres</th>\n",
       "      <th>Población Mujeres</th>\n",
       "      <th>Unnamed: 7</th>\n",
       "      <th>Conductores Hombres</th>\n",
       "      <th>Conductoras Mujeres</th>\n",
       "      <th>Censo Conductores</th>\n",
       "      <th>...</th>\n",
       "      <th>Alcohol (6 puntos)</th>\n",
       "      <th>Drogas (6 puntos)</th>\n",
       "      <th>Casco, Cinturón, SRI (3 puntos)</th>\n",
       "      <th>Móvil (3 puntos)</th>\n",
       "      <th>Semáforo (4 puntos)</th>\n",
       "      <th>Otra (3 puntos)</th>\n",
       "      <th>Otra (4 puntos)</th>\n",
       "      <th>Otra (6 puntos)</th>\n",
       "      <th>Unnamed: 95</th>\n",
       "      <th>Campañas</th>\n",
       "    </tr>\n",
       "    <tr>\n",
       "      <th>Código INE</th>\n",
       "      <th></th>\n",
       "      <th></th>\n",
       "      <th></th>\n",
       "      <th></th>\n",
       "      <th></th>\n",
       "      <th></th>\n",
       "      <th></th>\n",
       "      <th></th>\n",
       "      <th></th>\n",
       "      <th></th>\n",
       "      <th></th>\n",
       "      <th></th>\n",
       "      <th></th>\n",
       "      <th></th>\n",
       "      <th></th>\n",
       "      <th></th>\n",
       "      <th></th>\n",
       "      <th></th>\n",
       "      <th></th>\n",
       "      <th></th>\n",
       "      <th></th>\n",
       "    </tr>\n",
       "  </thead>\n",
       "  <tbody>\n",
       "    <tr>\n",
       "      <th>02005</th>\n",
       "      <td>Albacete</td>\n",
       "      <td>Albacete</td>\n",
       "      <td>Castilla-La Mancha</td>\n",
       "      <td>174336.0</td>\n",
       "      <td>85214.0</td>\n",
       "      <td>89122.0</td>\n",
       "      <td>NaN</td>\n",
       "      <td>59160.0</td>\n",
       "      <td>45441.0</td>\n",
       "      <td>104601.0</td>\n",
       "      <td>...</td>\n",
       "      <td>58.0</td>\n",
       "      <td>NaN</td>\n",
       "      <td>302.0</td>\n",
       "      <td>NaN</td>\n",
       "      <td>94.0</td>\n",
       "      <td>337.0</td>\n",
       "      <td>46.0</td>\n",
       "      <td>33.0</td>\n",
       "      <td>NaN</td>\n",
       "      <td>0.0</td>\n",
       "    </tr>\n",
       "    <tr>\n",
       "      <th>03017</th>\n",
       "      <td>Alicante/Alacant</td>\n",
       "      <td>Alicante/Alacant</td>\n",
       "      <td>Comunitat Valenciana</td>\n",
       "      <td>337482.0</td>\n",
       "      <td>163385.0</td>\n",
       "      <td>174097.0</td>\n",
       "      <td>NaN</td>\n",
       "      <td>104997.0</td>\n",
       "      <td>80448.0</td>\n",
       "      <td>185445.0</td>\n",
       "      <td>...</td>\n",
       "      <td>109.0</td>\n",
       "      <td>NaN</td>\n",
       "      <td>295.0</td>\n",
       "      <td>1.0</td>\n",
       "      <td>254.0</td>\n",
       "      <td>27.0</td>\n",
       "      <td>120.0</td>\n",
       "      <td>180.0</td>\n",
       "      <td>NaN</td>\n",
       "      <td>0.0</td>\n",
       "    </tr>\n",
       "  </tbody>\n",
       "</table>\n",
       "<p>2 rows × 96 columns</p>\n",
       "</div>"
      ],
      "text/plain": [
       "                   Municipio         Provincia    Comunidad Autónoma  \\\n",
       "Código INE                                                             \n",
       "02005               Albacete          Albacete    Castilla-La Mancha   \n",
       "03017       Alicante/Alacant  Alicante/Alacant  Comunitat Valenciana   \n",
       "\n",
       "            Población Total  Población Hombres  Población Mujeres  Unnamed: 7  \\\n",
       "Código INE                                                                      \n",
       "02005              174336.0            85214.0            89122.0         NaN   \n",
       "03017              337482.0           163385.0           174097.0         NaN   \n",
       "\n",
       "            Conductores Hombres  Conductoras Mujeres  Censo Conductores  ...  \\\n",
       "Código INE                                                               ...   \n",
       "02005                   59160.0              45441.0           104601.0  ...   \n",
       "03017                  104997.0              80448.0           185445.0  ...   \n",
       "\n",
       "            Alcohol (6 puntos)  Drogas (6 puntos)  \\\n",
       "Código INE                                          \n",
       "02005                     58.0                NaN   \n",
       "03017                    109.0                NaN   \n",
       "\n",
       "            Casco, Cinturón, SRI (3 puntos)  Móvil (3 puntos)  \\\n",
       "Código INE                                                      \n",
       "02005                                 302.0               NaN   \n",
       "03017                                 295.0               1.0   \n",
       "\n",
       "            Semáforo (4 puntos)  Otra (3 puntos)  Otra (4 puntos)  \\\n",
       "Código INE                                                          \n",
       "02005                      94.0            337.0             46.0   \n",
       "03017                     254.0             27.0            120.0   \n",
       "\n",
       "            Otra (6 puntos)  Unnamed: 95  Campañas  \n",
       "Código INE                                          \n",
       "02005                  33.0          NaN       0.0  \n",
       "03017                 180.0          NaN       0.0  \n",
       "\n",
       "[2 rows x 96 columns]"
      ]
     },
     "execution_count": 201,
     "metadata": {},
     "output_type": "execute_result"
    }
   ],
   "source": [
    "filter_municipios.head(2)"
   ]
  },
  {
   "cell_type": "code",
   "execution_count": 202,
   "id": "1cd0ea1a-786c-4218-8fa1-83bb4b026891",
   "metadata": {
    "tags": []
   },
   "outputs": [
    {
     "data": {
      "text/plain": [
       "72"
      ]
     },
     "execution_count": 202,
     "metadata": {},
     "output_type": "execute_result"
    }
   ],
   "source": [
    "len(filter_municipios.Municipio)"
   ]
  },
  {
   "cell_type": "code",
   "execution_count": 204,
   "id": "e2adeab9-8816-4f67-8aaf-68724433beff",
   "metadata": {
    "tags": []
   },
   "outputs": [],
   "source": [
    "filter_municipios.to_csv('C:\\projectos\\manifolds\\ciudades\\datos\\socioeconomicos\\datos_municipios_filtered_ciudad.csv', encoding = 'ISO-8859-1')"
   ]
  },
  {
   "attachments": {},
   "cell_type": "markdown",
   "id": "54705bf0-5349-4bc4-bebe-97266a370e88",
   "metadata": {
    "tags": []
   },
   "source": [
    "# Ahora vamos a leer la base de datos 10mund00.xls"
   ]
  },
  {
   "cell_type": "code",
   "execution_count": 221,
   "id": "7c3f5cc9-b469-46b4-8e4c-621aee681524",
   "metadata": {
    "tags": []
   },
   "outputs": [],
   "source": [
    "codigos_INE_long = pd.read_csv(\"codigos_INE_long_final.csv\", encoding = 'ISO-8859-1', dtype ={\"COD\":str})"
   ]
  },
  {
   "cell_type": "code",
   "execution_count": 222,
   "id": "b5783898-72cd-48f2-abb7-b46adebd0375",
   "metadata": {
    "tags": []
   },
   "outputs": [
    {
     "data": {
      "text/plain": [
       "Unnamed: 0     int64\n",
       "Ciudad        object\n",
       "COD           object\n",
       "dtype: object"
      ]
     },
     "execution_count": 222,
     "metadata": {},
     "output_type": "execute_result"
    }
   ],
   "source": [
    "codigos_INE_long.dtypes"
   ]
  },
  {
   "cell_type": "code",
   "execution_count": 224,
   "id": "30f66f37-090e-4063-b9b2-7422e79bad0f",
   "metadata": {
    "tags": []
   },
   "outputs": [
    {
     "data": {
      "text/plain": [
       "0     02005\n",
       "1     28039\n",
       "2     28040\n",
       "3     28041\n",
       "4     11021\n",
       "      ...  \n",
       "67    47045\n",
       "68    48018\n",
       "69    37041\n",
       "70    50065\n",
       "71    50297\n",
       "Name: COD, Length: 72, dtype: object"
      ]
     },
     "execution_count": 224,
     "metadata": {},
     "output_type": "execute_result"
    }
   ],
   "source": [
    "rows_to_filter = codigos_INE_long.COD\n",
    "rows_to_filter"
   ]
  },
  {
   "cell_type": "code",
   "execution_count": 225,
   "id": "b6c012b7-e92b-4103-b626-11cd23426ae0",
   "metadata": {
    "tags": []
   },
   "outputs": [
    {
     "data": {
      "text/plain": [
       "0              Albacete\n",
       "1     Alcalá de Henares\n",
       "2            Alcobendas\n",
       "3              Alcorcón\n",
       "4             Algeciras\n",
       "            ...        \n",
       "67             Valencia\n",
       "68           Valladolid\n",
       "69                 Vigo\n",
       "70               Zamora\n",
       "71             Zaragoza\n",
       "Name: Ciudad, Length: 72, dtype: object"
      ]
     },
     "execution_count": 225,
     "metadata": {},
     "output_type": "execute_result"
    }
   ],
   "source": [
    "rows_to_filter1 = codigos_INE_long.Ciudad\n",
    "rows_to_filter1"
   ]
  },
  {
   "cell_type": "code",
   "execution_count": 226,
   "id": "032cb2b5-f87a-479b-970e-42eddada6d64",
   "metadata": {
    "tags": []
   },
   "outputs": [],
   "source": [
    "population_csv = pd.read_csv(\"10mun00_nuevo.csv\", encoding = 'utf-8')"
   ]
  },
  {
   "cell_type": "code",
   "execution_count": 227,
   "id": "64b72ad9-612e-4564-972c-a7bbc2f44835",
   "metadata": {
    "tags": []
   },
   "outputs": [
    {
     "data": {
      "text/html": [
       "<div>\n",
       "<style scoped>\n",
       "    .dataframe tbody tr th:only-of-type {\n",
       "        vertical-align: middle;\n",
       "    }\n",
       "\n",
       "    .dataframe tbody tr th {\n",
       "        vertical-align: top;\n",
       "    }\n",
       "\n",
       "    .dataframe thead th {\n",
       "        text-align: right;\n",
       "    }\n",
       "</style>\n",
       "<table border=\"1\" class=\"dataframe\">\n",
       "  <thead>\n",
       "    <tr style=\"text-align: right;\">\n",
       "      <th></th>\n",
       "      <th></th>\n",
       "      <th>1 Total viviendas (2+3)</th>\n",
       "      <th>2.1 Total viviendas principales (2.11+2.12)</th>\n",
       "      <th>2.21 Viviendas secundarias</th>\n",
       "      <th>2.22 Viviendas vacias</th>\n",
       "      <th>3 Total viviendas colectivas</th>\n",
       "    </tr>\n",
       "  </thead>\n",
       "  <tbody>\n",
       "    <tr>\n",
       "      <th>0</th>\n",
       "      <td>27001  Abadín</td>\n",
       "      <td>1,655</td>\n",
       "      <td>984</td>\n",
       "      <td>294</td>\n",
       "      <td>377</td>\n",
       "      <td>0</td>\n",
       "    </tr>\n",
       "    <tr>\n",
       "      <th>1</th>\n",
       "      <td>48001  Abadiño</td>\n",
       "      <td>2,979</td>\n",
       "      <td>2,695</td>\n",
       "      <td>137</td>\n",
       "      <td>146</td>\n",
       "      <td>1</td>\n",
       "    </tr>\n",
       "    <tr>\n",
       "      <th>2</th>\n",
       "      <td>30001  Abanilla</td>\n",
       "      <td>4,341</td>\n",
       "      <td>2,519</td>\n",
       "      <td>576</td>\n",
       "      <td>1,243</td>\n",
       "      <td>3</td>\n",
       "    </tr>\n",
       "    <tr>\n",
       "      <th>3</th>\n",
       "      <td>48002  Abanto y Ciérvana-Abanto Zierbena</td>\n",
       "      <td>4,439</td>\n",
       "      <td>3,932</td>\n",
       "      <td>143</td>\n",
       "      <td>363</td>\n",
       "      <td>1</td>\n",
       "    </tr>\n",
       "    <tr>\n",
       "      <th>4</th>\n",
       "      <td>30002  Abarán</td>\n",
       "      <td>6,619</td>\n",
       "      <td>4,654</td>\n",
       "      <td>744</td>\n",
       "      <td>1,220</td>\n",
       "      <td>1</td>\n",
       "    </tr>\n",
       "    <tr>\n",
       "      <th>...</th>\n",
       "      <td>...</td>\n",
       "      <td>...</td>\n",
       "      <td>...</td>\n",
       "      <td>...</td>\n",
       "      <td>...</td>\n",
       "      <td>...</td>\n",
       "    </tr>\n",
       "    <tr>\n",
       "      <th>2303</th>\n",
       "      <td>01063  Zuia</td>\n",
       "      <td>1,152</td>\n",
       "      <td>899</td>\n",
       "      <td>143</td>\n",
       "      <td>108</td>\n",
       "      <td>2</td>\n",
       "    </tr>\n",
       "    <tr>\n",
       "      <th>2304</th>\n",
       "      <td>18194  Zújar</td>\n",
       "      <td>1,663</td>\n",
       "      <td>1,097</td>\n",
       "      <td>379</td>\n",
       "      <td>187</td>\n",
       "      <td>0</td>\n",
       "    </tr>\n",
       "    <tr>\n",
       "      <th>2305</th>\n",
       "      <td>20081  Zumaia</td>\n",
       "      <td>4,449</td>\n",
       "      <td>3,550</td>\n",
       "      <td>466</td>\n",
       "      <td>430</td>\n",
       "      <td>2</td>\n",
       "    </tr>\n",
       "    <tr>\n",
       "      <th>2306</th>\n",
       "      <td>20080  Zumarraga</td>\n",
       "      <td>4,570</td>\n",
       "      <td>4,295</td>\n",
       "      <td>36</td>\n",
       "      <td>234</td>\n",
       "      <td>6</td>\n",
       "    </tr>\n",
       "    <tr>\n",
       "      <th>2307</th>\n",
       "      <td>04103  Zurgena</td>\n",
       "      <td>1,917</td>\n",
       "      <td>1,273</td>\n",
       "      <td>344</td>\n",
       "      <td>300</td>\n",
       "      <td>0</td>\n",
       "    </tr>\n",
       "  </tbody>\n",
       "</table>\n",
       "<p>2308 rows × 6 columns</p>\n",
       "</div>"
      ],
      "text/plain": [
       "                                               1 Total viviendas (2+3)  \\\n",
       "0                                27001  Abadín                   1,655   \n",
       "1                               48001  Abadiño                   2,979   \n",
       "2                              30001  Abanilla                   4,341   \n",
       "3     48002  Abanto y Ciérvana-Abanto Zierbena                   4,439   \n",
       "4                                30002  Abarán                   6,619   \n",
       "...                                        ...                     ...   \n",
       "2303                               01063  Zuia                   1,152   \n",
       "2304                              18194  Zújar                   1,663   \n",
       "2305                             20081  Zumaia                   4,449   \n",
       "2306                          20080  Zumarraga                   4,570   \n",
       "2307                            04103  Zurgena                   1,917   \n",
       "\n",
       "     2.1 Total viviendas principales (2.11+2.12) 2.21 Viviendas secundarias  \\\n",
       "0                                            984                        294   \n",
       "1                                          2,695                        137   \n",
       "2                                          2,519                        576   \n",
       "3                                          3,932                        143   \n",
       "4                                          4,654                        744   \n",
       "...                                          ...                        ...   \n",
       "2303                                         899                        143   \n",
       "2304                                       1,097                        379   \n",
       "2305                                       3,550                        466   \n",
       "2306                                       4,295                         36   \n",
       "2307                                       1,273                        344   \n",
       "\n",
       "     2.22 Viviendas vacias  3 Total viviendas colectivas  \n",
       "0                      377                             0  \n",
       "1                      146                             1  \n",
       "2                    1,243                             3  \n",
       "3                      363                             1  \n",
       "4                    1,220                             1  \n",
       "...                    ...                           ...  \n",
       "2303                   108                             2  \n",
       "2304                   187                             0  \n",
       "2305                   430                             2  \n",
       "2306                   234                             6  \n",
       "2307                   300                             0  \n",
       "\n",
       "[2308 rows x 6 columns]"
      ]
     },
     "execution_count": 227,
     "metadata": {},
     "output_type": "execute_result"
    }
   ],
   "source": [
    "population_csv"
   ]
  },
  {
   "cell_type": "code",
   "execution_count": 228,
   "id": "5adf1165-a0d2-49eb-9e07-79998b946ce9",
   "metadata": {
    "tags": []
   },
   "outputs": [],
   "source": [
    "population_csv.columns = ['COD_CIUDAD', 'Total viviendas', 'Total viviendas principales', 'Viviendas secundarias', 'Viviendas vacias', 'Total viviendas colectivas']"
   ]
  },
  {
   "cell_type": "code",
   "execution_count": 229,
   "id": "49847fe7-f193-4a34-9283-adfd34680be2",
   "metadata": {
    "tags": []
   },
   "outputs": [
    {
     "data": {
      "text/plain": [
       "Index(['COD_CIUDAD', 'Total viviendas', 'Total viviendas principales',\n",
       "       'Viviendas secundarias', 'Viviendas vacias',\n",
       "       'Total viviendas colectivas'],\n",
       "      dtype='object')"
      ]
     },
     "execution_count": 229,
     "metadata": {},
     "output_type": "execute_result"
    }
   ],
   "source": [
    "population_csv.columns"
   ]
  },
  {
   "cell_type": "code",
   "execution_count": 230,
   "id": "a1901cf6-8072-46f8-acff-8e7a560173e3",
   "metadata": {
    "tags": []
   },
   "outputs": [
    {
     "data": {
      "text/html": [
       "<div>\n",
       "<style scoped>\n",
       "    .dataframe tbody tr th:only-of-type {\n",
       "        vertical-align: middle;\n",
       "    }\n",
       "\n",
       "    .dataframe tbody tr th {\n",
       "        vertical-align: top;\n",
       "    }\n",
       "\n",
       "    .dataframe thead th {\n",
       "        text-align: right;\n",
       "    }\n",
       "</style>\n",
       "<table border=\"1\" class=\"dataframe\">\n",
       "  <thead>\n",
       "    <tr style=\"text-align: right;\">\n",
       "      <th></th>\n",
       "      <th>COD_CIUDAD</th>\n",
       "      <th>Total viviendas</th>\n",
       "      <th>Total viviendas principales</th>\n",
       "      <th>Viviendas secundarias</th>\n",
       "      <th>Viviendas vacias</th>\n",
       "      <th>Total viviendas colectivas</th>\n",
       "    </tr>\n",
       "  </thead>\n",
       "  <tbody>\n",
       "    <tr>\n",
       "      <th>0</th>\n",
       "      <td>27001  Abadín</td>\n",
       "      <td>1,655</td>\n",
       "      <td>984</td>\n",
       "      <td>294</td>\n",
       "      <td>377</td>\n",
       "      <td>0</td>\n",
       "    </tr>\n",
       "    <tr>\n",
       "      <th>1</th>\n",
       "      <td>48001  Abadiño</td>\n",
       "      <td>2,979</td>\n",
       "      <td>2,695</td>\n",
       "      <td>137</td>\n",
       "      <td>146</td>\n",
       "      <td>1</td>\n",
       "    </tr>\n",
       "    <tr>\n",
       "      <th>2</th>\n",
       "      <td>30001  Abanilla</td>\n",
       "      <td>4,341</td>\n",
       "      <td>2,519</td>\n",
       "      <td>576</td>\n",
       "      <td>1,243</td>\n",
       "      <td>3</td>\n",
       "    </tr>\n",
       "    <tr>\n",
       "      <th>3</th>\n",
       "      <td>48002  Abanto y Ciérvana-Abanto Zierbena</td>\n",
       "      <td>4,439</td>\n",
       "      <td>3,932</td>\n",
       "      <td>143</td>\n",
       "      <td>363</td>\n",
       "      <td>1</td>\n",
       "    </tr>\n",
       "  </tbody>\n",
       "</table>\n",
       "</div>"
      ],
      "text/plain": [
       "                                 COD_CIUDAD Total viviendas  \\\n",
       "0                             27001  Abadín           1,655   \n",
       "1                            48001  Abadiño           2,979   \n",
       "2                           30001  Abanilla           4,341   \n",
       "3  48002  Abanto y Ciérvana-Abanto Zierbena           4,439   \n",
       "\n",
       "  Total viviendas principales Viviendas secundarias Viviendas vacias  \\\n",
       "0                         984                   294              377   \n",
       "1                       2,695                   137              146   \n",
       "2                       2,519                   576            1,243   \n",
       "3                       3,932                   143              363   \n",
       "\n",
       "   Total viviendas colectivas  \n",
       "0                           0  \n",
       "1                           1  \n",
       "2                           3  \n",
       "3                           1  "
      ]
     },
     "execution_count": 230,
     "metadata": {},
     "output_type": "execute_result"
    }
   ],
   "source": [
    "population_csv.head(4)"
   ]
  },
  {
   "cell_type": "code",
   "execution_count": 231,
   "id": "e3ea824a-300d-4e2e-a9ac-f4ada25d20c8",
   "metadata": {
    "tags": []
   },
   "outputs": [
    {
     "name": "stderr",
     "output_type": "stream",
     "text": [
      "C:\\Users\\crist\\AppData\\Local\\Temp\\ipykernel_23368\\919357242.py:1: FutureWarning: In a future version of pandas all arguments of StringMethods.split except for the argument 'pat' will be keyword-only.\n",
      "  population_csv[['COD','Ciudad']] = population_csv['COD_CIUDAD'].str.split(\" \",1, expand=True)\n"
     ]
    }
   ],
   "source": [
    "population_csv[['COD','Ciudad']] = population_csv['COD_CIUDAD'].str.split(\" \",1, expand=True)"
   ]
  },
  {
   "cell_type": "code",
   "execution_count": 232,
   "id": "4bde176c-aab2-4248-acf5-ceae81418852",
   "metadata": {
    "tags": []
   },
   "outputs": [],
   "source": [
    "population_csv = population_csv.drop(columns = [\"COD_CIUDAD\"])"
   ]
  },
  {
   "cell_type": "code",
   "execution_count": 233,
   "id": "3cc26af9-bb3c-4f39-9b80-f7a25da69a52",
   "metadata": {
    "tags": []
   },
   "outputs": [
    {
     "data": {
      "text/plain": [
       "Total viviendas                object\n",
       "Total viviendas principales    object\n",
       "Viviendas secundarias          object\n",
       "Viviendas vacias               object\n",
       "Total viviendas colectivas      int64\n",
       "COD                            object\n",
       "Ciudad                         object\n",
       "dtype: object"
      ]
     },
     "execution_count": 233,
     "metadata": {},
     "output_type": "execute_result"
    }
   ],
   "source": [
    "population_csv.dtypes"
   ]
  },
  {
   "cell_type": "code",
   "execution_count": 214,
   "id": "72f81225-1375-40ee-ab27-2f7adde31b6c",
   "metadata": {
    "tags": []
   },
   "outputs": [
    {
     "data": {
      "text/plain": [
       "pandas.core.series.Series"
      ]
     },
     "execution_count": 214,
     "metadata": {},
     "output_type": "execute_result"
    }
   ],
   "source": [
    "type(rows_to_filter)"
   ]
  },
  {
   "cell_type": "code",
   "execution_count": 234,
   "id": "abc2896a-c834-4839-9b31-e860305cabc0",
   "metadata": {
    "tags": []
   },
   "outputs": [],
   "source": [
    "population_indcod = population_csv.set_index('COD')"
   ]
  },
  {
   "cell_type": "code",
   "execution_count": 235,
   "id": "864ef93d-ce05-4247-bbfb-0dd289380cd2",
   "metadata": {
    "tags": []
   },
   "outputs": [
    {
     "data": {
      "text/html": [
       "<div>\n",
       "<style scoped>\n",
       "    .dataframe tbody tr th:only-of-type {\n",
       "        vertical-align: middle;\n",
       "    }\n",
       "\n",
       "    .dataframe tbody tr th {\n",
       "        vertical-align: top;\n",
       "    }\n",
       "\n",
       "    .dataframe thead th {\n",
       "        text-align: right;\n",
       "    }\n",
       "</style>\n",
       "<table border=\"1\" class=\"dataframe\">\n",
       "  <thead>\n",
       "    <tr style=\"text-align: right;\">\n",
       "      <th></th>\n",
       "      <th>Total viviendas</th>\n",
       "      <th>Total viviendas principales</th>\n",
       "      <th>Viviendas secundarias</th>\n",
       "      <th>Viviendas vacias</th>\n",
       "      <th>Total viviendas colectivas</th>\n",
       "      <th>COD</th>\n",
       "      <th>Ciudad</th>\n",
       "    </tr>\n",
       "  </thead>\n",
       "  <tbody>\n",
       "    <tr>\n",
       "      <th>0</th>\n",
       "      <td>1,655</td>\n",
       "      <td>984</td>\n",
       "      <td>294</td>\n",
       "      <td>377</td>\n",
       "      <td>0</td>\n",
       "      <td>27001</td>\n",
       "      <td>Abadín</td>\n",
       "    </tr>\n",
       "    <tr>\n",
       "      <th>1</th>\n",
       "      <td>2,979</td>\n",
       "      <td>2,695</td>\n",
       "      <td>137</td>\n",
       "      <td>146</td>\n",
       "      <td>1</td>\n",
       "      <td>48001</td>\n",
       "      <td>Abadiño</td>\n",
       "    </tr>\n",
       "    <tr>\n",
       "      <th>2</th>\n",
       "      <td>4,341</td>\n",
       "      <td>2,519</td>\n",
       "      <td>576</td>\n",
       "      <td>1,243</td>\n",
       "      <td>3</td>\n",
       "      <td>30001</td>\n",
       "      <td>Abanilla</td>\n",
       "    </tr>\n",
       "    <tr>\n",
       "      <th>3</th>\n",
       "      <td>4,439</td>\n",
       "      <td>3,932</td>\n",
       "      <td>143</td>\n",
       "      <td>363</td>\n",
       "      <td>1</td>\n",
       "      <td>48002</td>\n",
       "      <td>Abanto y Ciérvana-Abanto Zierbena</td>\n",
       "    </tr>\n",
       "  </tbody>\n",
       "</table>\n",
       "</div>"
      ],
      "text/plain": [
       "  Total viviendas Total viviendas principales Viviendas secundarias  \\\n",
       "0           1,655                         984                   294   \n",
       "1           2,979                       2,695                   137   \n",
       "2           4,341                       2,519                   576   \n",
       "3           4,439                       3,932                   143   \n",
       "\n",
       "  Viviendas vacias  Total viviendas colectivas    COD  \\\n",
       "0              377                           0  27001   \n",
       "1              146                           1  48001   \n",
       "2            1,243                           3  30001   \n",
       "3              363                           1  48002   \n",
       "\n",
       "                               Ciudad  \n",
       "0                              Abadín  \n",
       "1                             Abadiño  \n",
       "2                            Abanilla  \n",
       "3   Abanto y Ciérvana-Abanto Zierbena  "
      ]
     },
     "execution_count": 235,
     "metadata": {},
     "output_type": "execute_result"
    }
   ],
   "source": [
    "population_csv.head(4)"
   ]
  },
  {
   "cell_type": "code",
   "execution_count": 236,
   "id": "0c1deb23-627d-499b-bfbd-bb033f9365a5",
   "metadata": {
    "tags": []
   },
   "outputs": [],
   "source": [
    "filtered_population_indcod = population_indcod.loc[population_indcod.index.isin(rows_to_filter)]"
   ]
  },
  {
   "cell_type": "code",
   "execution_count": 237,
   "id": "444b3ee1-df86-4566-b2c8-fc3b3156d6e6",
   "metadata": {
    "tags": []
   },
   "outputs": [
    {
     "data": {
      "text/plain": [
       "27"
      ]
     },
     "execution_count": 237,
     "metadata": {},
     "output_type": "execute_result"
    }
   ],
   "source": [
    "len(filtered_population_indcod.Ciudad)"
   ]
  },
  {
   "cell_type": "code",
   "execution_count": 239,
   "id": "857e8679-b344-4972-97cb-8c6a7a215a3a",
   "metadata": {
    "tags": []
   },
   "outputs": [],
   "source": [
    "population_ind = population_csv.set_index('Ciudad')"
   ]
  },
  {
   "cell_type": "code",
   "execution_count": 240,
   "id": "61faf760-dfd6-46dc-8a9e-7a3778d2727c",
   "metadata": {
    "tags": []
   },
   "outputs": [
    {
     "data": {
      "text/html": [
       "<div>\n",
       "<style scoped>\n",
       "    .dataframe tbody tr th:only-of-type {\n",
       "        vertical-align: middle;\n",
       "    }\n",
       "\n",
       "    .dataframe tbody tr th {\n",
       "        vertical-align: top;\n",
       "    }\n",
       "\n",
       "    .dataframe thead th {\n",
       "        text-align: right;\n",
       "    }\n",
       "</style>\n",
       "<table border=\"1\" class=\"dataframe\">\n",
       "  <thead>\n",
       "    <tr style=\"text-align: right;\">\n",
       "      <th></th>\n",
       "      <th>Total viviendas</th>\n",
       "      <th>Total viviendas principales</th>\n",
       "      <th>Viviendas secundarias</th>\n",
       "      <th>Viviendas vacias</th>\n",
       "      <th>Total viviendas colectivas</th>\n",
       "      <th>COD</th>\n",
       "    </tr>\n",
       "    <tr>\n",
       "      <th>Ciudad</th>\n",
       "      <th></th>\n",
       "      <th></th>\n",
       "      <th></th>\n",
       "      <th></th>\n",
       "      <th></th>\n",
       "      <th></th>\n",
       "    </tr>\n",
       "  </thead>\n",
       "  <tbody>\n",
       "    <tr>\n",
       "      <th>Abadín</th>\n",
       "      <td>1,655</td>\n",
       "      <td>984</td>\n",
       "      <td>294</td>\n",
       "      <td>377</td>\n",
       "      <td>0</td>\n",
       "      <td>27001</td>\n",
       "    </tr>\n",
       "    <tr>\n",
       "      <th>Abadiño</th>\n",
       "      <td>2,979</td>\n",
       "      <td>2,695</td>\n",
       "      <td>137</td>\n",
       "      <td>146</td>\n",
       "      <td>1</td>\n",
       "      <td>48001</td>\n",
       "    </tr>\n",
       "    <tr>\n",
       "      <th>Abanilla</th>\n",
       "      <td>4,341</td>\n",
       "      <td>2,519</td>\n",
       "      <td>576</td>\n",
       "      <td>1,243</td>\n",
       "      <td>3</td>\n",
       "      <td>30001</td>\n",
       "    </tr>\n",
       "    <tr>\n",
       "      <th>Abanto y Ciérvana-Abanto Zierbena</th>\n",
       "      <td>4,439</td>\n",
       "      <td>3,932</td>\n",
       "      <td>143</td>\n",
       "      <td>363</td>\n",
       "      <td>1</td>\n",
       "      <td>48002</td>\n",
       "    </tr>\n",
       "    <tr>\n",
       "      <th>Abarán</th>\n",
       "      <td>6,619</td>\n",
       "      <td>4,654</td>\n",
       "      <td>744</td>\n",
       "      <td>1,220</td>\n",
       "      <td>1</td>\n",
       "      <td>30002</td>\n",
       "    </tr>\n",
       "    <tr>\n",
       "      <th>...</th>\n",
       "      <td>...</td>\n",
       "      <td>...</td>\n",
       "      <td>...</td>\n",
       "      <td>...</td>\n",
       "      <td>...</td>\n",
       "      <td>...</td>\n",
       "    </tr>\n",
       "    <tr>\n",
       "      <th>Zuia</th>\n",
       "      <td>1,152</td>\n",
       "      <td>899</td>\n",
       "      <td>143</td>\n",
       "      <td>108</td>\n",
       "      <td>2</td>\n",
       "      <td>01063</td>\n",
       "    </tr>\n",
       "    <tr>\n",
       "      <th>Zújar</th>\n",
       "      <td>1,663</td>\n",
       "      <td>1,097</td>\n",
       "      <td>379</td>\n",
       "      <td>187</td>\n",
       "      <td>0</td>\n",
       "      <td>18194</td>\n",
       "    </tr>\n",
       "    <tr>\n",
       "      <th>Zumaia</th>\n",
       "      <td>4,449</td>\n",
       "      <td>3,550</td>\n",
       "      <td>466</td>\n",
       "      <td>430</td>\n",
       "      <td>2</td>\n",
       "      <td>20081</td>\n",
       "    </tr>\n",
       "    <tr>\n",
       "      <th>Zumarraga</th>\n",
       "      <td>4,570</td>\n",
       "      <td>4,295</td>\n",
       "      <td>36</td>\n",
       "      <td>234</td>\n",
       "      <td>6</td>\n",
       "      <td>20080</td>\n",
       "    </tr>\n",
       "    <tr>\n",
       "      <th>Zurgena</th>\n",
       "      <td>1,917</td>\n",
       "      <td>1,273</td>\n",
       "      <td>344</td>\n",
       "      <td>300</td>\n",
       "      <td>0</td>\n",
       "      <td>04103</td>\n",
       "    </tr>\n",
       "  </tbody>\n",
       "</table>\n",
       "<p>2308 rows × 6 columns</p>\n",
       "</div>"
      ],
      "text/plain": [
       "                                   Total viviendas  \\\n",
       "Ciudad                                               \n",
       " Abadín                                      1,655   \n",
       " Abadiño                                     2,979   \n",
       " Abanilla                                    4,341   \n",
       " Abanto y Ciérvana-Abanto Zierbena           4,439   \n",
       " Abarán                                      6,619   \n",
       "...                                            ...   \n",
       " Zuia                                        1,152   \n",
       " Zújar                                       1,663   \n",
       " Zumaia                                      4,449   \n",
       " Zumarraga                                   4,570   \n",
       " Zurgena                                     1,917   \n",
       "\n",
       "                                   Total viviendas principales  \\\n",
       "Ciudad                                                           \n",
       " Abadín                                                    984   \n",
       " Abadiño                                                 2,695   \n",
       " Abanilla                                                2,519   \n",
       " Abanto y Ciérvana-Abanto Zierbena                       3,932   \n",
       " Abarán                                                  4,654   \n",
       "...                                                        ...   \n",
       " Zuia                                                      899   \n",
       " Zújar                                                   1,097   \n",
       " Zumaia                                                  3,550   \n",
       " Zumarraga                                               4,295   \n",
       " Zurgena                                                 1,273   \n",
       "\n",
       "                                   Viviendas secundarias Viviendas vacias  \\\n",
       "Ciudad                                                                      \n",
       " Abadín                                              294              377   \n",
       " Abadiño                                             137              146   \n",
       " Abanilla                                            576            1,243   \n",
       " Abanto y Ciérvana-Abanto Zierbena                   143              363   \n",
       " Abarán                                              744            1,220   \n",
       "...                                                  ...              ...   \n",
       " Zuia                                                143              108   \n",
       " Zújar                                               379              187   \n",
       " Zumaia                                              466              430   \n",
       " Zumarraga                                            36              234   \n",
       " Zurgena                                             344              300   \n",
       "\n",
       "                                    Total viviendas colectivas    COD  \n",
       "Ciudad                                                                 \n",
       " Abadín                                                      0  27001  \n",
       " Abadiño                                                     1  48001  \n",
       " Abanilla                                                    3  30001  \n",
       " Abanto y Ciérvana-Abanto Zierbena                           1  48002  \n",
       " Abarán                                                      1  30002  \n",
       "...                                                        ...    ...  \n",
       " Zuia                                                        2  01063  \n",
       " Zújar                                                       0  18194  \n",
       " Zumaia                                                      2  20081  \n",
       " Zumarraga                                                   6  20080  \n",
       " Zurgena                                                     0  04103  \n",
       "\n",
       "[2308 rows x 6 columns]"
      ]
     },
     "execution_count": 240,
     "metadata": {},
     "output_type": "execute_result"
    }
   ],
   "source": [
    "population_ind"
   ]
  },
  {
   "cell_type": "code",
   "execution_count": 241,
   "id": "c3f85dec-fa8d-4004-a8b0-ed272f2a79ce",
   "metadata": {
    "tags": []
   },
   "outputs": [],
   "source": [
    "pop_filtered_city = population_ind.loc[population_ind.index.isin(rows_to_filter1)]"
   ]
  },
  {
   "cell_type": "code",
   "execution_count": 242,
   "id": "382b0006-a729-40d0-9232-9f8117fd8c8e",
   "metadata": {
    "tags": []
   },
   "outputs": [],
   "source": [
    "mask = population_csv['Ciudad'].str.contains('|'.join(rows_to_filter1))"
   ]
  },
  {
   "cell_type": "code",
   "execution_count": 243,
   "id": "c039f5fb-eead-4674-bb86-28567e27dfaf",
   "metadata": {
    "tags": []
   },
   "outputs": [],
   "source": [
    "# Filtrar el DataFrame original usando la Serie booleana como índice\n",
    "filtered_pop_mask = population_csv[mask]"
   ]
  },
  {
   "cell_type": "code",
   "execution_count": 244,
   "id": "f31b128c-a14a-433f-84ca-b0789e4ddc4a",
   "metadata": {
    "tags": []
   },
   "outputs": [],
   "source": [
    "filtered_pop_mask.to_csv('fil_poblacion_censo_2011_ciudad_iso.csv', encoding = 'ISO-8859-1')"
   ]
  },
  {
   "cell_type": "code",
   "execution_count": 245,
   "id": "88a86c55-7499-4cb8-b4e8-a05679021313",
   "metadata": {
    "tags": []
   },
   "outputs": [
    {
     "data": {
      "text/html": [
       "<div>\n",
       "<style scoped>\n",
       "    .dataframe tbody tr th:only-of-type {\n",
       "        vertical-align: middle;\n",
       "    }\n",
       "\n",
       "    .dataframe tbody tr th {\n",
       "        vertical-align: top;\n",
       "    }\n",
       "\n",
       "    .dataframe thead th {\n",
       "        text-align: right;\n",
       "    }\n",
       "</style>\n",
       "<table border=\"1\" class=\"dataframe\">\n",
       "  <thead>\n",
       "    <tr style=\"text-align: right;\">\n",
       "      <th></th>\n",
       "      <th>Total viviendas</th>\n",
       "      <th>Total viviendas principales</th>\n",
       "      <th>Viviendas secundarias</th>\n",
       "      <th>Viviendas vacias</th>\n",
       "      <th>Total viviendas colectivas</th>\n",
       "      <th>COD</th>\n",
       "      <th>Ciudad</th>\n",
       "    </tr>\n",
       "  </thead>\n",
       "  <tbody>\n",
       "    <tr>\n",
       "      <th>1034</th>\n",
       "      <td>92,037</td>\n",
       "      <td>77,378</td>\n",
       "      <td>4,424</td>\n",
       "      <td>10,213</td>\n",
       "      <td>23</td>\n",
       "      <td>11020</td>\n",
       "      <td>Jerez de la Frontera</td>\n",
       "    </tr>\n",
       "  </tbody>\n",
       "</table>\n",
       "</div>"
      ],
      "text/plain": [
       "     Total viviendas Total viviendas principales Viviendas secundarias  \\\n",
       "1034          92,037                      77,378                 4,424   \n",
       "\n",
       "     Viviendas vacias  Total viviendas colectivas    COD  \\\n",
       "1034           10,213                          23  11020   \n",
       "\n",
       "                     Ciudad  \n",
       "1034   Jerez de la Frontera  "
      ]
     },
     "execution_count": 245,
     "metadata": {},
     "output_type": "execute_result"
    }
   ],
   "source": [
    "\n",
    "fil = filtered_pop_mask['Ciudad'].str.contains(\"Jerez\", regex=True)\n",
    " \n",
    "filtered_pop_mask[fil]\n",
    "    "
   ]
  },
  {
   "attachments": {},
   "cell_type": "markdown",
   "id": "a8f3830a-19c8-4da1-bb1f-9ce558777008",
   "metadata": {},
   "source": [
    "# Datos GDP"
   ]
  },
  {
   "cell_type": "code",
   "execution_count": 5,
   "id": "8668bfe3-5f1a-4827-acfd-dda30cfc2d9b",
   "metadata": {
    "tags": []
   },
   "outputs": [],
   "source": [
    "df = pd.read_excel('./renta provincias/30656.xls', sheet_name=0, skiprows = 7)"
   ]
  },
  {
   "cell_type": "code",
   "execution_count": 6,
   "id": "8a76eb13-b8c1-4550-ad23-87c5160d1a95",
   "metadata": {
    "tags": []
   },
   "outputs": [],
   "source": [
    "df.columns = (\"COD Ciudad\",\"Renta neta media por persona\")"
   ]
  },
  {
   "cell_type": "code",
   "execution_count": 20,
   "id": "45d226b0-e5ca-4ec2-825f-6b50a91cb6d2",
   "metadata": {
    "tags": []
   },
   "outputs": [],
   "source": [
    "codigos_INE_long = pd.read_csv(\"codigos_INE_long_final.csv\", encoding = 'ISO-8859-1', dtype ={\"COD\":str})"
   ]
  },
  {
   "cell_type": "code",
   "execution_count": 21,
   "id": "62b0fd54-a52c-4e61-80fc-79cc69929354",
   "metadata": {
    "tags": []
   },
   "outputs": [
    {
     "data": {
      "text/plain": [
       "0     02005\n",
       "1     28039\n",
       "2     28040\n",
       "3     28041\n",
       "4     11021\n",
       "      ...  \n",
       "67    47045\n",
       "68    48018\n",
       "69    37041\n",
       "70    50065\n",
       "71    50297\n",
       "Name: COD, Length: 72, dtype: object"
      ]
     },
     "execution_count": 21,
     "metadata": {},
     "output_type": "execute_result"
    }
   ],
   "source": [
    "rows_to_filter = codigos_INE_long.COD\n",
    "rows_to_filter"
   ]
  },
  {
   "cell_type": "code",
   "execution_count": 23,
   "id": "01b757f3-92ba-4f60-a805-399357874f9d",
   "metadata": {
    "tags": []
   },
   "outputs": [
    {
     "data": {
      "text/plain": [
       "0              Albacete\n",
       "1     Alcalá de Henares\n",
       "2            Alcobendas\n",
       "3              Alcorcón\n",
       "4             Algeciras\n",
       "            ...        \n",
       "67             Valencia\n",
       "68           Valladolid\n",
       "69                 Vigo\n",
       "70               Zamora\n",
       "71             Zaragoza\n",
       "Name: Ciudad, Length: 72, dtype: object"
      ]
     },
     "execution_count": 23,
     "metadata": {},
     "output_type": "execute_result"
    }
   ],
   "source": [
    "rows_to_filter1 = codigos_INE_long.Ciudad\n",
    "rows_to_filter1"
   ]
  },
  {
   "cell_type": "code",
   "execution_count": 24,
   "id": "95ced4ff-0798-40f5-b87c-e82a3abef07f",
   "metadata": {
    "tags": []
   },
   "outputs": [],
   "source": [
    "patron = r'^(\\d+)([^\\d]+)(\\d+)$'"
   ]
  },
  {
   "cell_type": "code",
   "execution_count": 25,
   "id": "373fdb10-1d05-42ef-8902-e13c3fabe763",
   "metadata": {
    "tags": []
   },
   "outputs": [],
   "source": [
    "patron1 = r'^(\\d+)([^\\d]+)'"
   ]
  },
  {
   "cell_type": "code",
   "execution_count": 26,
   "id": "bac1c177-f622-466f-abfd-4e3b452be9c8",
   "metadata": {
    "tags": []
   },
   "outputs": [],
   "source": [
    "df1 = df"
   ]
  },
  {
   "cell_type": "code",
   "execution_count": 27,
   "id": "dba28c75-2bd8-4fd9-b8d2-3682b678405a",
   "metadata": {
    "tags": []
   },
   "outputs": [],
   "source": [
    "# Aplicar la función extract para crear las nuevas columnas\n",
    "df[[\"COD\",\"CIUDAD\"]] = df['COD Ciudad'].str.extract(patron1)"
   ]
  },
  {
   "cell_type": "code",
   "execution_count": 28,
   "id": "8fa96915-7b7e-4340-a056-f420a95fd0cb",
   "metadata": {
    "tags": []
   },
   "outputs": [
    {
     "data": {
      "text/html": [
       "<div>\n",
       "<style scoped>\n",
       "    .dataframe tbody tr th:only-of-type {\n",
       "        vertical-align: middle;\n",
       "    }\n",
       "\n",
       "    .dataframe tbody tr th {\n",
       "        vertical-align: top;\n",
       "    }\n",
       "\n",
       "    .dataframe thead th {\n",
       "        text-align: right;\n",
       "    }\n",
       "</style>\n",
       "<table border=\"1\" class=\"dataframe\">\n",
       "  <thead>\n",
       "    <tr style=\"text-align: right;\">\n",
       "      <th></th>\n",
       "      <th>COD Ciudad</th>\n",
       "      <th>Renta neta media por persona</th>\n",
       "      <th>COD</th>\n",
       "      <th>CIUDAD</th>\n",
       "    </tr>\n",
       "  </thead>\n",
       "  <tbody>\n",
       "    <tr>\n",
       "      <th>0</th>\n",
       "      <td>02001 Abengibre</td>\n",
       "      <td>11675</td>\n",
       "      <td>02001</td>\n",
       "      <td>Abengibre</td>\n",
       "    </tr>\n",
       "    <tr>\n",
       "      <th>1</th>\n",
       "      <td>0200101 Abengibre distrito 01</td>\n",
       "      <td>11675</td>\n",
       "      <td>0200101</td>\n",
       "      <td>Abengibre distrito</td>\n",
       "    </tr>\n",
       "    <tr>\n",
       "      <th>2</th>\n",
       "      <td>0200101001 Abengibre sección 01001</td>\n",
       "      <td>11675</td>\n",
       "      <td>0200101001</td>\n",
       "      <td>Abengibre sección</td>\n",
       "    </tr>\n",
       "    <tr>\n",
       "      <th>3</th>\n",
       "      <td>02002 Alatoz</td>\n",
       "      <td>9866</td>\n",
       "      <td>02002</td>\n",
       "      <td>Alatoz</td>\n",
       "    </tr>\n",
       "    <tr>\n",
       "      <th>4</th>\n",
       "      <td>0200201 Alatoz distrito 01</td>\n",
       "      <td>9866</td>\n",
       "      <td>0200201</td>\n",
       "      <td>Alatoz distrito</td>\n",
       "    </tr>\n",
       "    <tr>\n",
       "      <th>5</th>\n",
       "      <td>0200201001 Alatoz sección 01001</td>\n",
       "      <td>9866</td>\n",
       "      <td>0200201001</td>\n",
       "      <td>Alatoz sección</td>\n",
       "    </tr>\n",
       "    <tr>\n",
       "      <th>6</th>\n",
       "      <td>02003 Albacete</td>\n",
       "      <td>12529</td>\n",
       "      <td>02003</td>\n",
       "      <td>Albacete</td>\n",
       "    </tr>\n",
       "    <tr>\n",
       "      <th>7</th>\n",
       "      <td>0200301 Albacete distrito 01</td>\n",
       "      <td>14260</td>\n",
       "      <td>0200301</td>\n",
       "      <td>Albacete distrito</td>\n",
       "    </tr>\n",
       "    <tr>\n",
       "      <th>8</th>\n",
       "      <td>0200301001 Albacete sección 01001</td>\n",
       "      <td>18111</td>\n",
       "      <td>0200301001</td>\n",
       "      <td>Albacete sección</td>\n",
       "    </tr>\n",
       "    <tr>\n",
       "      <th>9</th>\n",
       "      <td>0200301002 Albacete sección 01002</td>\n",
       "      <td>16631</td>\n",
       "      <td>0200301002</td>\n",
       "      <td>Albacete sección</td>\n",
       "    </tr>\n",
       "  </tbody>\n",
       "</table>\n",
       "</div>"
      ],
      "text/plain": [
       "                           COD Ciudad Renta neta media por persona  \\\n",
       "0                     02001 Abengibre                        11675   \n",
       "1       0200101 Abengibre distrito 01                        11675   \n",
       "2  0200101001 Abengibre sección 01001                        11675   \n",
       "3                        02002 Alatoz                         9866   \n",
       "4          0200201 Alatoz distrito 01                         9866   \n",
       "5     0200201001 Alatoz sección 01001                         9866   \n",
       "6                      02003 Albacete                        12529   \n",
       "7        0200301 Albacete distrito 01                        14260   \n",
       "8   0200301001 Albacete sección 01001                        18111   \n",
       "9   0200301002 Albacete sección 01002                        16631   \n",
       "\n",
       "          COD                CIUDAD  \n",
       "0       02001             Abengibre  \n",
       "1     0200101   Abengibre distrito   \n",
       "2  0200101001    Abengibre sección   \n",
       "3       02002                Alatoz  \n",
       "4     0200201      Alatoz distrito   \n",
       "5  0200201001       Alatoz sección   \n",
       "6       02003              Albacete  \n",
       "7     0200301    Albacete distrito   \n",
       "8  0200301001     Albacete sección   \n",
       "9  0200301002     Albacete sección   "
      ]
     },
     "execution_count": 28,
     "metadata": {},
     "output_type": "execute_result"
    }
   ],
   "source": [
    "df.head(10)"
   ]
  },
  {
   "cell_type": "code",
   "execution_count": 29,
   "id": "2daf5388-4b5a-492b-91d7-8cf26e3ead45",
   "metadata": {
    "tags": []
   },
   "outputs": [],
   "source": [
    "inv = pd.read_excel('./renta provincias/30953.xls', sheet_name=0, skiprows = 7)"
   ]
  },
  {
   "cell_type": "code",
   "execution_count": 30,
   "id": "4804340d-fbf3-4f05-8dc9-074f1237f476",
   "metadata": {
    "tags": []
   },
   "outputs": [],
   "source": [
    "inv.columns = (\"COD Ciudad\",\"Renta neta media por persona 2020\")"
   ]
  },
  {
   "cell_type": "code",
   "execution_count": 31,
   "id": "77663f99-4be8-42e7-a914-fbfea788f77b",
   "metadata": {
    "tags": []
   },
   "outputs": [
    {
     "data": {
      "text/plain": [
       "COD Ciudad                           object\n",
       "Renta neta media por persona 2020    object\n",
       "dtype: object"
      ]
     },
     "execution_count": 31,
     "metadata": {},
     "output_type": "execute_result"
    }
   ],
   "source": [
    "inv.dtypes"
   ]
  },
  {
   "cell_type": "code",
   "execution_count": 32,
   "id": "19e990e5-09c3-4428-ab59-54eca7b3531e",
   "metadata": {
    "tags": []
   },
   "outputs": [],
   "source": [
    "inv[[\"COD\",\"CIUDAD\"]] = inv['COD Ciudad'].str.extract(patron1)"
   ]
  },
  {
   "cell_type": "code",
   "execution_count": 33,
   "id": "78b6fd66-53ed-43d1-adbe-072ce8b1da57",
   "metadata": {
    "tags": []
   },
   "outputs": [
    {
     "data": {
      "text/html": [
       "<div>\n",
       "<style scoped>\n",
       "    .dataframe tbody tr th:only-of-type {\n",
       "        vertical-align: middle;\n",
       "    }\n",
       "\n",
       "    .dataframe tbody tr th {\n",
       "        vertical-align: top;\n",
       "    }\n",
       "\n",
       "    .dataframe thead th {\n",
       "        text-align: right;\n",
       "    }\n",
       "</style>\n",
       "<table border=\"1\" class=\"dataframe\">\n",
       "  <thead>\n",
       "    <tr style=\"text-align: right;\">\n",
       "      <th></th>\n",
       "      <th>COD Ciudad</th>\n",
       "      <th>Renta neta media por persona 2020</th>\n",
       "      <th>COD</th>\n",
       "      <th>CIUDAD</th>\n",
       "    </tr>\n",
       "  </thead>\n",
       "  <tbody>\n",
       "    <tr>\n",
       "      <th>0</th>\n",
       "      <td>39001 Alfoz de Lloredo</td>\n",
       "      <td>11589</td>\n",
       "      <td>39001</td>\n",
       "      <td>Alfoz de Lloredo</td>\n",
       "    </tr>\n",
       "    <tr>\n",
       "      <th>1</th>\n",
       "      <td>39002 Ampuero</td>\n",
       "      <td>11220</td>\n",
       "      <td>39002</td>\n",
       "      <td>Ampuero</td>\n",
       "    </tr>\n",
       "  </tbody>\n",
       "</table>\n",
       "</div>"
      ],
      "text/plain": [
       "               COD Ciudad Renta neta media por persona 2020    COD  \\\n",
       "0  39001 Alfoz de Lloredo                             11589  39001   \n",
       "1           39002 Ampuero                             11220  39002   \n",
       "\n",
       "              CIUDAD  \n",
       "0   Alfoz de Lloredo  \n",
       "1            Ampuero  "
      ]
     },
     "execution_count": 33,
     "metadata": {},
     "output_type": "execute_result"
    }
   ],
   "source": [
    "inv.head(2)"
   ]
  },
  {
   "attachments": {},
   "cell_type": "markdown",
   "id": "6e13c26d-86ca-4f2c-b950-ee47f12c6662",
   "metadata": {
    "tags": []
   },
   "source": [
    "# Ahora tenemos que filtrar "
   ]
  },
  {
   "cell_type": "code",
   "execution_count": 34,
   "id": "bcd38f26-5a28-42ad-852e-41a938742420",
   "metadata": {
    "tags": []
   },
   "outputs": [],
   "source": [
    "inv_index = inv.set_index(\"COD\")"
   ]
  },
  {
   "cell_type": "code",
   "execution_count": 35,
   "id": "70d24c65-dc64-4846-b5de-765a99b11323",
   "metadata": {
    "tags": []
   },
   "outputs": [
    {
     "data": {
      "text/plain": [
       "0     02005\n",
       "1     28039\n",
       "2     28040\n",
       "3     28041\n",
       "4     11021\n",
       "      ...  \n",
       "67    47045\n",
       "68    48018\n",
       "69    37041\n",
       "70    50065\n",
       "71    50297\n",
       "Name: COD, Length: 72, dtype: object"
      ]
     },
     "execution_count": 35,
     "metadata": {},
     "output_type": "execute_result"
    }
   ],
   "source": [
    "rows_to_filter"
   ]
  },
  {
   "cell_type": "code",
   "execution_count": 36,
   "id": "73f00a2a-ea74-4f35-98eb-b42b2957b691",
   "metadata": {
    "tags": []
   },
   "outputs": [
    {
     "data": {
      "text/html": [
       "<div>\n",
       "<style scoped>\n",
       "    .dataframe tbody tr th:only-of-type {\n",
       "        vertical-align: middle;\n",
       "    }\n",
       "\n",
       "    .dataframe tbody tr th {\n",
       "        vertical-align: top;\n",
       "    }\n",
       "\n",
       "    .dataframe thead th {\n",
       "        text-align: right;\n",
       "    }\n",
       "</style>\n",
       "<table border=\"1\" class=\"dataframe\">\n",
       "  <thead>\n",
       "    <tr style=\"text-align: right;\">\n",
       "      <th></th>\n",
       "      <th>COD Ciudad</th>\n",
       "      <th>Renta neta media por persona 2020</th>\n",
       "      <th>CIUDAD</th>\n",
       "    </tr>\n",
       "    <tr>\n",
       "      <th>COD</th>\n",
       "      <th></th>\n",
       "      <th></th>\n",
       "      <th></th>\n",
       "    </tr>\n",
       "  </thead>\n",
       "  <tbody>\n",
       "    <tr>\n",
       "      <th>39018</th>\n",
       "      <td>39018 Cartes</td>\n",
       "      <td>10998</td>\n",
       "      <td>Cartes</td>\n",
       "    </tr>\n",
       "    <tr>\n",
       "      <th>39033</th>\n",
       "      <td>39033 Herrerías</td>\n",
       "      <td>11812</td>\n",
       "      <td>Herrerías</td>\n",
       "    </tr>\n",
       "  </tbody>\n",
       "</table>\n",
       "</div>"
      ],
      "text/plain": [
       "            COD Ciudad Renta neta media por persona 2020      CIUDAD\n",
       "COD                                                                 \n",
       "39018     39018 Cartes                             10998      Cartes\n",
       "39033  39033 Herrerías                             11812   Herrerías"
      ]
     },
     "execution_count": 36,
     "metadata": {},
     "output_type": "execute_result"
    }
   ],
   "source": [
    "inv_index.loc[inv_index.index.isin(rows_to_filter)]"
   ]
  },
  {
   "cell_type": "code",
   "execution_count": 46,
   "id": "8257feee-1061-4746-bfa8-cbcceb752acc",
   "metadata": {
    "tags": []
   },
   "outputs": [],
   "source": [
    "mask_inv = inv['CIUDAD'].str.contains('|'.join(rows_to_filter1)).dropna()"
   ]
  },
  {
   "cell_type": "code",
   "execution_count": 47,
   "id": "8c498faf-a644-4678-9c06-5a2756203415",
   "metadata": {
    "tags": []
   },
   "outputs": [
    {
     "data": {
      "text/plain": [
       "0"
      ]
     },
     "execution_count": 47,
     "metadata": {},
     "output_type": "execute_result"
    }
   ],
   "source": [
    "mask_inv.isna().sum()"
   ]
  },
  {
   "cell_type": "code",
   "execution_count": 51,
   "id": "f33cc85e-43b0-4691-9d65-d53060128015",
   "metadata": {
    "tags": []
   },
   "outputs": [],
   "source": [
    "inv = inv.dropna()"
   ]
  },
  {
   "cell_type": "code",
   "execution_count": 52,
   "id": "057d5ff3-c494-4b28-ad34-715fe5e5eab0",
   "metadata": {
    "tags": []
   },
   "outputs": [
    {
     "data": {
      "text/html": [
       "<div>\n",
       "<style scoped>\n",
       "    .dataframe tbody tr th:only-of-type {\n",
       "        vertical-align: middle;\n",
       "    }\n",
       "\n",
       "    .dataframe tbody tr th {\n",
       "        vertical-align: top;\n",
       "    }\n",
       "\n",
       "    .dataframe thead th {\n",
       "        text-align: right;\n",
       "    }\n",
       "</style>\n",
       "<table border=\"1\" class=\"dataframe\">\n",
       "  <thead>\n",
       "    <tr style=\"text-align: right;\">\n",
       "      <th></th>\n",
       "      <th>COD Ciudad</th>\n",
       "      <th>Renta neta media por persona 2020</th>\n",
       "      <th>COD</th>\n",
       "      <th>CIUDAD</th>\n",
       "    </tr>\n",
       "  </thead>\n",
       "  <tbody>\n",
       "    <tr>\n",
       "      <th>74</th>\n",
       "      <td>39075 Santander</td>\n",
       "      <td>14202</td>\n",
       "      <td>39075</td>\n",
       "      <td>Santander</td>\n",
       "    </tr>\n",
       "  </tbody>\n",
       "</table>\n",
       "</div>"
      ],
      "text/plain": [
       "         COD Ciudad Renta neta media por persona 2020    COD      CIUDAD\n",
       "74  39075 Santander                             14202  39075   Santander"
      ]
     },
     "execution_count": 52,
     "metadata": {},
     "output_type": "execute_result"
    }
   ],
   "source": [
    "inv[mask_inv]"
   ]
  },
  {
   "attachments": {},
   "cell_type": "markdown",
   "id": "3cd28b21-5de7-45c9-a8a8-6494695206cd",
   "metadata": {},
   "source": [
    "Ahora debemos hacer una funcion que pueda iterar por todos los archivos de la carpeta buscar el codigo y guardar la coincidencia para constuir un dataframe con los datos."
   ]
  },
  {
   "cell_type": "code",
   "execution_count": 56,
   "id": "b2d53084-8137-4281-85b1-605056d2f8bb",
   "metadata": {
    "tags": []
   },
   "outputs": [],
   "source": [
    "import pandas as pd\n",
    "import geopandas as gpd\n",
    "import os\n",
    "import glob\n",
    "import os\n",
    "import string"
   ]
  },
  {
   "cell_type": "code",
   "execution_count": 57,
   "id": "7c635948-cf05-4433-968e-21c028d079c5",
   "metadata": {
    "tags": []
   },
   "outputs": [],
   "source": [
    "path =(r\"C:/projectos/manifolds/ciudades/datos/socioeconomicos/renta provincias\")\n",
    "# Change the directory\n",
    "os.chdir(path)"
   ]
  },
  {
   "cell_type": "code",
   "execution_count": 258,
   "id": "4417a720-29e0-4df9-b4f3-e2c673ba4853",
   "metadata": {
    "tags": []
   },
   "outputs": [],
   "source": [
    "dict_excel = {}\n",
    "\n",
    "# Iterate over all the files in the directory\n",
    "for file in os.listdir():\n",
    "    if file.endswith('.xls'):\n",
    "            temp = pd.read_excel(file, sheet_name = 0)\n",
    "            temp = temp.iloc[:,0:2].dropna()\n",
    "            #nom_columnas = (temp.columns)\n",
    "            temp.columns = (\"COD Ciudad\",\"Renta neta media por persona 2020\")\n",
    "            patron1 = r'^(\\d+)([^\\d]+)'\n",
    "            temp[[\"COD\",\"CIUDAD\"]] = temp['COD Ciudad'].str.extract(patron1)\n",
    "            temp = temp.dropna()\n",
    "            df_temp = pd.DataFrame(temp)\n",
    "            dict_excel[file] = df_temp\n",
    "            \n",
    "   "
   ]
  },
  {
   "cell_type": "code",
   "execution_count": 288,
   "id": "16bf28b5-f106-4b6d-8f22-a7773b299310",
   "metadata": {
    "tags": []
   },
   "outputs": [],
   "source": [
    "dict_exacto = {}\n",
    "df_temp = pd.DataFrame()\n",
    "for key, value in dict_excel.items():\n",
    "    t = dict_excel[key]\n",
    "    #t1 = t.set_index('CIUDAD')\n",
    "    #t2 = t1.loc[t1.index.isin(rows_to_filter1)]\n",
    "    t1 =  t['CIUDAD'].str.contains('|'.join(rows_to_filter1)).dropna()\n",
    "    #t1 =  t['CIUDAD'].str.match('|'.join(rows_to_filter1)).dropna()\n",
    "    final = t[t1]\n",
    "    df_final = pd.DataFrame(final)\n",
    "    df_temp = pd.concat([df_temp,df_final], axis = 0)\n",
    "    dict_exacto[key] = df_final\n",
    "    "
   ]
  },
  {
   "cell_type": "code",
   "execution_count": 289,
   "id": "da83200b-4ce0-4e9d-9e6e-1b90e44e2ea0",
   "metadata": {
    "tags": []
   },
   "outputs": [
    {
     "data": {
      "text/html": [
       "<div>\n",
       "<style scoped>\n",
       "    .dataframe tbody tr th:only-of-type {\n",
       "        vertical-align: middle;\n",
       "    }\n",
       "\n",
       "    .dataframe tbody tr th {\n",
       "        vertical-align: top;\n",
       "    }\n",
       "\n",
       "    .dataframe thead th {\n",
       "        text-align: right;\n",
       "    }\n",
       "</style>\n",
       "<table border=\"1\" class=\"dataframe\">\n",
       "  <thead>\n",
       "    <tr style=\"text-align: right;\">\n",
       "      <th></th>\n",
       "      <th>COD Ciudad</th>\n",
       "      <th>Renta neta media por persona 2020</th>\n",
       "      <th>COD</th>\n",
       "      <th>CIUDAD</th>\n",
       "    </tr>\n",
       "  </thead>\n",
       "  <tbody>\n",
       "    <tr>\n",
       "      <th>81</th>\n",
       "      <td>39075 Santander</td>\n",
       "      <td>14202</td>\n",
       "      <td>39075</td>\n",
       "      <td>Santander</td>\n",
       "    </tr>\n",
       "    <tr>\n",
       "      <th>42</th>\n",
       "      <td>12040 Castelló de la Plana</td>\n",
       "      <td>12785</td>\n",
       "      <td>12040</td>\n",
       "      <td>Castelló de la Plana</td>\n",
       "    </tr>\n",
       "    <tr>\n",
       "      <th>40</th>\n",
       "      <td>13034 Ciudad Real</td>\n",
       "      <td>13580</td>\n",
       "      <td>13034</td>\n",
       "      <td>Ciudad Real</td>\n",
       "    </tr>\n",
       "    <tr>\n",
       "      <th>27</th>\n",
       "      <td>14021 Córdoba</td>\n",
       "      <td>11791</td>\n",
       "      <td>14021</td>\n",
       "      <td>Córdoba</td>\n",
       "    </tr>\n",
       "    <tr>\n",
       "      <th>46</th>\n",
       "      <td>14040 Montalbán de Córdoba</td>\n",
       "      <td>9408</td>\n",
       "      <td>14040</td>\n",
       "      <td>Montalbán de Córdoba</td>\n",
       "    </tr>\n",
       "    <tr>\n",
       "      <th>...</th>\n",
       "      <td>...</td>\n",
       "      <td>...</td>\n",
       "      <td>...</td>\n",
       "      <td>...</td>\n",
       "    </tr>\n",
       "    <tr>\n",
       "      <th>187</th>\n",
       "      <td>47186 Valladolid</td>\n",
       "      <td>14247</td>\n",
       "      <td>47186</td>\n",
       "      <td>Valladolid</td>\n",
       "    </tr>\n",
       "    <tr>\n",
       "      <th>99</th>\n",
       "      <td>49103 Madridanos</td>\n",
       "      <td>10446</td>\n",
       "      <td>49103</td>\n",
       "      <td>Madridanos</td>\n",
       "    </tr>\n",
       "    <tr>\n",
       "      <th>254</th>\n",
       "      <td>49275 Zamora</td>\n",
       "      <td>12884</td>\n",
       "      <td>49275</td>\n",
       "      <td>Zamora</td>\n",
       "    </tr>\n",
       "    <tr>\n",
       "      <th>7</th>\n",
       "      <td>51001 Ceuta</td>\n",
       "      <td>12358</td>\n",
       "      <td>51001</td>\n",
       "      <td>Ceuta</td>\n",
       "    </tr>\n",
       "    <tr>\n",
       "      <th>7</th>\n",
       "      <td>52001 Melilla</td>\n",
       "      <td>11665</td>\n",
       "      <td>52001</td>\n",
       "      <td>Melilla</td>\n",
       "    </tr>\n",
       "  </tbody>\n",
       "</table>\n",
       "<p>3831 rows × 4 columns</p>\n",
       "</div>"
      ],
      "text/plain": [
       "                     COD Ciudad Renta neta media por persona 2020    COD  \\\n",
       "81              39075 Santander                             14202  39075   \n",
       "42   12040 Castelló de la Plana                             12785  12040   \n",
       "40            13034 Ciudad Real                             13580  13034   \n",
       "27                14021 Córdoba                             11791  14021   \n",
       "46   14040 Montalbán de Córdoba                              9408  14040   \n",
       "..                          ...                               ...    ...   \n",
       "187            47186 Valladolid                             14247  47186   \n",
       "99             49103 Madridanos                             10446  49103   \n",
       "254                49275 Zamora                             12884  49275   \n",
       "7                   51001 Ceuta                             12358  51001   \n",
       "7                 52001 Melilla                             11665  52001   \n",
       "\n",
       "                    CIUDAD  \n",
       "81               Santander  \n",
       "42    Castelló de la Plana  \n",
       "40             Ciudad Real  \n",
       "27                 Córdoba  \n",
       "46    Montalbán de Córdoba  \n",
       "..                     ...  \n",
       "187             Valladolid  \n",
       "99              Madridanos  \n",
       "254                 Zamora  \n",
       "7                    Ceuta  \n",
       "7                  Melilla  \n",
       "\n",
       "[3831 rows x 4 columns]"
      ]
     },
     "execution_count": 289,
     "metadata": {},
     "output_type": "execute_result"
    }
   ],
   "source": [
    "df_temp"
   ]
  },
  {
   "cell_type": "code",
   "execution_count": 291,
   "id": "ebe6e943-8d43-4ba1-94aa-3402995422f4",
   "metadata": {
    "tags": []
   },
   "outputs": [],
   "source": [
    "mask = df_temp['CIUDAD'].str.contains('sección|distrito', regex=True)\n",
    "df = df_temp[~mask]"
   ]
  },
  {
   "cell_type": "code",
   "execution_count": 300,
   "id": "485bc9b5-b1aa-4ac1-8e5a-21808c21dd31",
   "metadata": {
    "tags": []
   },
   "outputs": [],
   "source": [
    "#df_temp.to_csv('GDP.csv', encoding = \"ISO-8859-1\")"
   ]
  },
  {
   "cell_type": "code",
   "execution_count": 292,
   "id": "751ee8ae-bf20-446f-9342-0f9641ecdc93",
   "metadata": {
    "tags": []
   },
   "outputs": [],
   "source": [
    "df.to_csv('GDP_final.csv', encoding = \"ISO-8859-1\")"
   ]
  },
  {
   "cell_type": "code",
   "execution_count": 293,
   "id": "646d6069-3383-4581-832c-1ca1e869f916",
   "metadata": {
    "tags": []
   },
   "outputs": [],
   "source": [
    "path1 =(r\"C:/projectos/manifolds/ciudades/datos/socioeconomicos/renta provincias/formato distinto\")\n",
    "# Change the directory\n",
    "os.chdir(path1)"
   ]
  },
  {
   "cell_type": "code",
   "execution_count": 294,
   "id": "212611ad-25dc-4c2e-9bd2-b0d8cb33a53e",
   "metadata": {
    "tags": []
   },
   "outputs": [],
   "source": [
    "dict_excel1 = {}\n",
    "\n",
    "# Iterate over all the files in the directory\n",
    "for file in os.listdir():\n",
    "    if file.endswith('.xls'):\n",
    "            temp = pd.read_excel(file, sheet_name = 0)\n",
    "            temp = temp.iloc[:,0:2].dropna()\n",
    "            #nom_columnas = (temp.columns)\n",
    "            temp.columns = (\"COD Ciudad\",\"Renta neta media por persona 2020\")\n",
    "            patron1 = r'^(\\d+)([^\\d]+)'\n",
    "            temp[[\"COD\",\"CIUDAD\"]] = temp['COD Ciudad'].str.extract(patron1)\n",
    "            temp = temp.dropna()\n",
    "            df_temp = pd.DataFrame(temp)\n",
    "            dict_excel1[file] = df_temp"
   ]
  },
  {
   "cell_type": "code",
   "execution_count": 297,
   "id": "e28260f5-5bea-4ab4-94c4-83ec0467af86",
   "metadata": {
    "tags": []
   },
   "outputs": [],
   "source": [
    "dict_exacto1 = {}\n",
    "df_temp1 = pd.DataFrame()\n",
    "for key, value in dict_excel1.items():\n",
    "    t = dict_excel1[key]\n",
    "    #t1 = t.set_index('CIUDAD')\n",
    "    #t2 = t1.loc[t1.index.isin(rows_to_filter1)]\n",
    "    t1 =  t['CIUDAD'].str.contains('|'.join(rows_to_filter1)).dropna()\n",
    "    #t1 =  t['CIUDAD'].str.match('|'.join(rows_to_filter1)).dropna()\n",
    "    final1 = t[t1]\n",
    "    df_final1 = pd.DataFrame(final1)\n",
    "    df_temp1 = pd.concat([df_temp1,df_final1], axis = 0)\n",
    "    dict_exacto1[key] = df_final1"
   ]
  },
  {
   "cell_type": "code",
   "execution_count": 301,
   "id": "a4a7dda1-186c-4ce4-9445-0c45e23baac0",
   "metadata": {
    "tags": []
   },
   "outputs": [],
   "source": [
    "mask1 = df_temp1['CIUDAD'].str.contains('sección|distrito', regex=True)\n",
    "df1 = df_temp1[~mask1]"
   ]
  },
  {
   "cell_type": "code",
   "execution_count": 302,
   "id": "b67a4366-7f51-4042-bde7-a4ba22a75c96",
   "metadata": {
    "tags": []
   },
   "outputs": [],
   "source": [
    "df1.to_csv('GDP_formato_distinto.csv', encoding = 'ISO-8859-1')"
   ]
  },
  {
   "cell_type": "code",
   "execution_count": 122,
   "id": "7c1e7292-cbaf-4040-bca1-a497cdf01150",
   "metadata": {
    "tags": []
   },
   "outputs": [
    {
     "data": {
      "text/html": [
       "<div>\n",
       "<style scoped>\n",
       "    .dataframe tbody tr th:only-of-type {\n",
       "        vertical-align: middle;\n",
       "    }\n",
       "\n",
       "    .dataframe tbody tr th {\n",
       "        vertical-align: top;\n",
       "    }\n",
       "\n",
       "    .dataframe thead th {\n",
       "        text-align: right;\n",
       "    }\n",
       "</style>\n",
       "<table border=\"1\" class=\"dataframe\">\n",
       "  <thead>\n",
       "    <tr style=\"text-align: right;\">\n",
       "      <th></th>\n",
       "      <th>COD Ciudad</th>\n",
       "      <th>Renta neta media por persona 2020</th>\n",
       "      <th>COD</th>\n",
       "      <th>CIUDAD</th>\n",
       "    </tr>\n",
       "  </thead>\n",
       "  <tbody>\n",
       "    <tr>\n",
       "      <th>131</th>\n",
       "      <td>10037 Cáceres</td>\n",
       "      <td>12815</td>\n",
       "      <td>10037</td>\n",
       "      <td>Cáceres</td>\n",
       "    </tr>\n",
       "    <tr>\n",
       "      <th>132</th>\n",
       "      <td>1003701 Cáceres distrito 01</td>\n",
       "      <td>11036</td>\n",
       "      <td>1003701</td>\n",
       "      <td>Cáceres distrito</td>\n",
       "    </tr>\n",
       "    <tr>\n",
       "      <th>133</th>\n",
       "      <td>1003701001 Cáceres sección 01001</td>\n",
       "      <td>12322</td>\n",
       "      <td>1003701001</td>\n",
       "      <td>Cáceres sección</td>\n",
       "    </tr>\n",
       "    <tr>\n",
       "      <th>134</th>\n",
       "      <td>1003701002 Cáceres sección 01002</td>\n",
       "      <td>11279</td>\n",
       "      <td>1003701002</td>\n",
       "      <td>Cáceres sección</td>\n",
       "    </tr>\n",
       "    <tr>\n",
       "      <th>135</th>\n",
       "      <td>1003701003 Cáceres sección 01003</td>\n",
       "      <td>13800</td>\n",
       "      <td>1003701003</td>\n",
       "      <td>Cáceres sección</td>\n",
       "    </tr>\n",
       "    <tr>\n",
       "      <th>...</th>\n",
       "      <td>...</td>\n",
       "      <td>...</td>\n",
       "      <td>...</td>\n",
       "      <td>...</td>\n",
       "    </tr>\n",
       "    <tr>\n",
       "      <th>846</th>\n",
       "      <td>1020302 Valencia de Alcántara distrito 02</td>\n",
       "      <td>9484</td>\n",
       "      <td>1020302</td>\n",
       "      <td>Valencia de Alcántara distrito</td>\n",
       "    </tr>\n",
       "    <tr>\n",
       "      <th>847</th>\n",
       "      <td>1020302001 Valencia de Alcántara sección 02001</td>\n",
       "      <td>9646</td>\n",
       "      <td>1020302001</td>\n",
       "      <td>Valencia de Alcántara sección</td>\n",
       "    </tr>\n",
       "    <tr>\n",
       "      <th>848</th>\n",
       "      <td>1020302002 Valencia de Alcántara sección 02002</td>\n",
       "      <td>9371</td>\n",
       "      <td>1020302002</td>\n",
       "      <td>Valencia de Alcántara sección</td>\n",
       "    </tr>\n",
       "    <tr>\n",
       "      <th>849</th>\n",
       "      <td>1020303 Valencia de Alcántara distrito 03</td>\n",
       "      <td>9188</td>\n",
       "      <td>1020303</td>\n",
       "      <td>Valencia de Alcántara distrito</td>\n",
       "    </tr>\n",
       "    <tr>\n",
       "      <th>850</th>\n",
       "      <td>1020303001 Valencia de Alcántara sección 03001</td>\n",
       "      <td>9188</td>\n",
       "      <td>1020303001</td>\n",
       "      <td>Valencia de Alcántara sección</td>\n",
       "    </tr>\n",
       "  </tbody>\n",
       "</table>\n",
       "<p>103 rows × 4 columns</p>\n",
       "</div>"
      ],
      "text/plain": [
       "                                         COD Ciudad  \\\n",
       "131                                   10037 Cáceres   \n",
       "132                     1003701 Cáceres distrito 01   \n",
       "133                1003701001 Cáceres sección 01001   \n",
       "134                1003701002 Cáceres sección 01002   \n",
       "135                1003701003 Cáceres sección 01003   \n",
       "..                                              ...   \n",
       "846       1020302 Valencia de Alcántara distrito 02   \n",
       "847  1020302001 Valencia de Alcántara sección 02001   \n",
       "848  1020302002 Valencia de Alcántara sección 02002   \n",
       "849       1020303 Valencia de Alcántara distrito 03   \n",
       "850  1020303001 Valencia de Alcántara sección 03001   \n",
       "\n",
       "    Renta neta media por persona 2020         COD  \\\n",
       "131                             12815       10037   \n",
       "132                             11036     1003701   \n",
       "133                             12322  1003701001   \n",
       "134                             11279  1003701002   \n",
       "135                             13800  1003701003   \n",
       "..                                ...         ...   \n",
       "846                              9484     1020302   \n",
       "847                              9646  1020302001   \n",
       "848                              9371  1020302002   \n",
       "849                              9188     1020303   \n",
       "850                              9188  1020303001   \n",
       "\n",
       "                               CIUDAD  \n",
       "131                           Cáceres  \n",
       "132                 Cáceres distrito   \n",
       "133                  Cáceres sección   \n",
       "134                  Cáceres sección   \n",
       "135                  Cáceres sección   \n",
       "..                                ...  \n",
       "846   Valencia de Alcántara distrito   \n",
       "847    Valencia de Alcántara sección   \n",
       "848    Valencia de Alcántara sección   \n",
       "849   Valencia de Alcántara distrito   \n",
       "850    Valencia de Alcántara sección   \n",
       "\n",
       "[103 rows x 4 columns]"
      ]
     },
     "execution_count": 122,
     "metadata": {},
     "output_type": "execute_result"
    }
   ],
   "source": [
    "dict_excel['30935.xls']"
   ]
  },
  {
   "cell_type": "code",
   "execution_count": 110,
   "id": "abb89f27-6dcf-4248-be9f-df2be54c3f42",
   "metadata": {
    "tags": []
   },
   "outputs": [
    {
     "name": "stdout",
     "output_type": "stream",
     "text": [
      "archivo 30656.xls tiene las siguientes columnas Index(['Resultados por municipios, distritos y secciones censales', 'Unnamed: 1'], dtype='object'), y (2,)\n",
      "archivo 30833.xls tiene las siguientes columnas Index(['Resultados por municipios, distritos y secciones censales', 'Unnamed: 1'], dtype='object'), y (2,)\n",
      "archivo 30842.xls tiene las siguientes columnas Index(['Resultados por municipios, distritos y secciones censales', 'Unnamed: 1'], dtype='object'), y (2,)\n",
      "archivo 30860.xls tiene las siguientes columnas Index(['Resultados por municipios, distritos y secciones censales', 'Unnamed: 1'], dtype='object'), y (2,)\n",
      "archivo 30869.xls tiene las siguientes columnas Index(['Resultados por municipios, distritos y secciones censales', 'Unnamed: 1'], dtype='object'), y (2,)\n",
      "archivo 30878.xls tiene las siguientes columnas Index(['Resultados por municipios, distritos y secciones censales', 'Unnamed: 1'], dtype='object'), y (2,)\n",
      "archivo 30887.xls tiene las siguientes columnas Index(['Resultados por municipios, distritos y secciones censales', 'Unnamed: 1'], dtype='object'), y (2,)\n",
      "archivo 30896.xls tiene las siguientes columnas Index(['Resultados por municipios, distritos y secciones censales', 'Unnamed: 1'], dtype='object'), y (2,)\n",
      "archivo 30926.xls tiene las siguientes columnas Index(['Resultados por municipios, distritos y secciones censales', 'Unnamed: 1'], dtype='object'), y (2,)\n",
      "archivo 30935.xls tiene las siguientes columnas Index(['Resultados por municipios, distritos y secciones censales', 'Unnamed: 1'], dtype='object'), y (2,)\n",
      "archivo 30944 (1).xls tiene las siguientes columnas Index(['Resultados por municipios, distritos y secciones censales', 'Unnamed: 1'], dtype='object'), y (2,)\n",
      "archivo 30953.xls tiene las siguientes columnas Index(['Resultados por municipios, distritos y secciones censales', 'Unnamed: 1'], dtype='object'), y (2,)\n",
      "archivo 30962.xls tiene las siguientes columnas Index(['Resultados por municipios, distritos y secciones censales', 'Unnamed: 1'], dtype='object'), y (2,)\n",
      "archivo 30971.xls tiene las siguientes columnas Index(['Resultados por municipios, distritos y secciones censales', 'Unnamed: 1'], dtype='object'), y (2,)\n",
      "archivo 30980.xls tiene las siguientes columnas Index(['Resultados por municipios, distritos y secciones censales', 'Unnamed: 1'], dtype='object'), y (2,)\n",
      "archivo 30989.xls tiene las siguientes columnas Index(['Resultados por municipios, distritos y secciones censales', 'Unnamed: 1'], dtype='object'), y (2,)\n",
      "archivo 30998.xls tiene las siguientes columnas Index(['Resultados por municipios, distritos y secciones censales', 'Unnamed: 1'], dtype='object'), y (2,)\n",
      "archivo 31016.xls tiene las siguientes columnas Index(['Resultados por municipios, distritos y secciones censales', 'Unnamed: 1'], dtype='object'), y (2,)\n",
      "archivo 31025.xls tiene las siguientes columnas Index(['Resultados por municipios, distritos y secciones censales', 'Unnamed: 1'], dtype='object'), y (2,)\n",
      "archivo 31034.xls tiene las siguientes columnas Index(['Resultados por municipios, distritos y secciones censales', 'Unnamed: 1'], dtype='object'), y (2,)\n",
      "archivo 31043.xls tiene las siguientes columnas Index(['Resultados por municipios, distritos y secciones censales', 'Unnamed: 1'], dtype='object'), y (2,)\n",
      "archivo 31052.xls tiene las siguientes columnas Index(['Resultados por municipios, distritos y secciones censales', 'Unnamed: 1'], dtype='object'), y (2,)\n",
      "archivo 31061.xls tiene las siguientes columnas Index(['Resultados por municipios, distritos y secciones censales', 'Unnamed: 1'], dtype='object'), y (2,)\n",
      "archivo 31070.xls tiene las siguientes columnas Index(['Resultados por municipios, distritos y secciones censales', 'Unnamed: 1'], dtype='object'), y (2,)\n",
      "archivo 31079.xls tiene las siguientes columnas Index(['Resultados por municipios, distritos y secciones censales', 'Unnamed: 1'], dtype='object'), y (2,)\n",
      "archivo 31088.xls tiene las siguientes columnas Index(['Resultados por municipios, distritos y secciones censales', 'Unnamed: 1'], dtype='object'), y (2,)\n",
      "archivo 31097.xls tiene las siguientes columnas Index(['Resultados por municipios, distritos y secciones censales', 'Unnamed: 1'], dtype='object'), y (2,)\n",
      "archivo 31106.xls tiene las siguientes columnas Index(['Resultados por municipios, distritos y secciones censales', 'Unnamed: 1'], dtype='object'), y (2,)\n",
      "archivo 31115.xls tiene las siguientes columnas Index(['Resultados por municipios, distritos y secciones censales', 'Unnamed: 1'], dtype='object'), y (2,)\n",
      "archivo 31133.xls tiene las siguientes columnas Index(['Resultados por municipios, distritos y secciones censales', 'Unnamed: 1'], dtype='object'), y (2,)\n",
      "archivo 31142.xls tiene las siguientes columnas Index(['Resultados por municipios, distritos y secciones censales', 'Unnamed: 1'], dtype='object'), y (2,)\n",
      "archivo 31151.xls tiene las siguientes columnas Index(['Resultados por municipios, distritos y secciones censales', 'Unnamed: 1'], dtype='object'), y (2,)\n",
      "archivo 31160.xls tiene las siguientes columnas Index(['Resultados por municipios, distritos y secciones censales', 'Unnamed: 1'], dtype='object'), y (2,)\n",
      "archivo 31169.xls tiene las siguientes columnas Index(['Resultados por municipios, distritos y secciones censales', 'Unnamed: 1'], dtype='object'), y (2,)\n",
      "archivo 31178.xls tiene las siguientes columnas Index(['Resultados por municipios, distritos y secciones censales', 'Unnamed: 1'], dtype='object'), y (2,)\n",
      "archivo 31187.xls tiene las siguientes columnas Index(['Resultados por municipios, distritos y secciones censales', 'Unnamed: 1'], dtype='object'), y (2,)\n",
      "archivo 31196.xls tiene las siguientes columnas Index(['Resultados por municipios, distritos y secciones censales', 'Unnamed: 1'], dtype='object'), y (2,)\n",
      "archivo 31205.xls tiene las siguientes columnas Index(['Resultados por municipios, distritos y secciones censales', 'Unnamed: 1'], dtype='object'), y (2,)\n",
      "archivo 31214.xls tiene las siguientes columnas Index(['Resultados por municipios, distritos y secciones censales', 'Unnamed: 1'], dtype='object'), y (2,)\n",
      "archivo 31223.xls tiene las siguientes columnas Index(['Resultados por municipios, distritos y secciones censales', 'Unnamed: 1'], dtype='object'), y (2,)\n",
      "archivo 31232.xls tiene las siguientes columnas Index(['Resultados por municipios, distritos y secciones censales', 'Unnamed: 1'], dtype='object'), y (2,)\n",
      "archivo 31241.xls tiene las siguientes columnas Index(['Resultados por municipios, distritos y secciones censales', 'Unnamed: 1'], dtype='object'), y (2,)\n",
      "archivo 31250.xls tiene las siguientes columnas Index(['Resultados por municipios, distritos y secciones censales', 'Unnamed: 1'], dtype='object'), y (2,)\n",
      "archivo 31259.xls tiene las siguientes columnas Index(['Resultados por municipios, distritos y secciones censales', 'Unnamed: 1'], dtype='object'), y (2,)\n",
      "archivo 31268.xls tiene las siguientes columnas Index(['Resultados por municipios, distritos y secciones censales', 'Unnamed: 1'], dtype='object'), y (2,)\n",
      "archivo 31286.xls tiene las siguientes columnas Index(['Resultados por municipios, distritos y secciones censales', 'Unnamed: 1'], dtype='object'), y (2,)\n",
      "archivo 31295.xls tiene las siguientes columnas Index(['Resultados por municipios, distritos y secciones censales', 'Unnamed: 1'], dtype='object'), y (2,)\n"
     ]
    }
   ],
   "source": [
    "for key, values in dict_excel.items():\n",
    "    s = dict_excel[key].shape\n",
    "    print(f'archivo {key} tiene las siguientes columnas {dict_excel[key]}, y {s}')"
   ]
  },
  {
   "cell_type": "code",
   "execution_count": 86,
   "id": "ae96b254-b633-42f4-ad06-fddf156ad662",
   "metadata": {
    "tags": []
   },
   "outputs": [],
   "source": [
    "a = dict_excel['30953.xls']"
   ]
  },
  {
   "cell_type": "code",
   "execution_count": 88,
   "id": "f8f6d9a6-2427-45dc-99ad-53e946adf580",
   "metadata": {
    "tags": []
   },
   "outputs": [],
   "source": [
    "a.columns = (\"COD Ciudad\",\"Renta neta media por persona 2020\")"
   ]
  },
  {
   "cell_type": "code",
   "execution_count": 89,
   "id": "92e67c3a-07ad-4de1-b551-45dbbebf109a",
   "metadata": {
    "tags": []
   },
   "outputs": [
    {
     "data": {
      "text/html": [
       "<div>\n",
       "<style scoped>\n",
       "    .dataframe tbody tr th:only-of-type {\n",
       "        vertical-align: middle;\n",
       "    }\n",
       "\n",
       "    .dataframe tbody tr th {\n",
       "        vertical-align: top;\n",
       "    }\n",
       "\n",
       "    .dataframe thead th {\n",
       "        text-align: right;\n",
       "    }\n",
       "</style>\n",
       "<table border=\"1\" class=\"dataframe\">\n",
       "  <thead>\n",
       "    <tr style=\"text-align: right;\">\n",
       "      <th></th>\n",
       "      <th>COD Ciudad</th>\n",
       "      <th>Renta neta media por persona 2020</th>\n",
       "    </tr>\n",
       "  </thead>\n",
       "  <tbody>\n",
       "    <tr>\n",
       "      <th>5</th>\n",
       "      <td></td>\n",
       "      <td>Renta neta media por persona</td>\n",
       "    </tr>\n",
       "    <tr>\n",
       "      <th>6</th>\n",
       "      <td></td>\n",
       "      <td>2020</td>\n",
       "    </tr>\n",
       "    <tr>\n",
       "      <th>7</th>\n",
       "      <td>39001 Alfoz de Lloredo</td>\n",
       "      <td>11589</td>\n",
       "    </tr>\n",
       "    <tr>\n",
       "      <th>8</th>\n",
       "      <td>39002 Ampuero</td>\n",
       "      <td>11220</td>\n",
       "    </tr>\n",
       "    <tr>\n",
       "      <th>9</th>\n",
       "      <td>39003 Anievas</td>\n",
       "      <td>11981</td>\n",
       "    </tr>\n",
       "    <tr>\n",
       "      <th>...</th>\n",
       "      <td>...</td>\n",
       "      <td>...</td>\n",
       "    </tr>\n",
       "    <tr>\n",
       "      <th>104</th>\n",
       "      <td>39098 Villacarriedo</td>\n",
       "      <td>11453</td>\n",
       "    </tr>\n",
       "    <tr>\n",
       "      <th>105</th>\n",
       "      <td>39099 Villaescusa</td>\n",
       "      <td>12948</td>\n",
       "    </tr>\n",
       "    <tr>\n",
       "      <th>106</th>\n",
       "      <td>39100 Villafufre</td>\n",
       "      <td>11100</td>\n",
       "    </tr>\n",
       "    <tr>\n",
       "      <th>107</th>\n",
       "      <td>39101 Valle de Villaverde</td>\n",
       "      <td>10100</td>\n",
       "    </tr>\n",
       "    <tr>\n",
       "      <th>108</th>\n",
       "      <td>39102 Voto</td>\n",
       "      <td>11711</td>\n",
       "    </tr>\n",
       "  </tbody>\n",
       "</table>\n",
       "<p>104 rows × 2 columns</p>\n",
       "</div>"
      ],
      "text/plain": [
       "                    COD Ciudad Renta neta media por persona 2020\n",
       "5                                  Renta neta media por persona \n",
       "6                                                           2020\n",
       "7       39001 Alfoz de Lloredo                             11589\n",
       "8                39002 Ampuero                             11220\n",
       "9                39003 Anievas                             11981\n",
       "..                         ...                               ...\n",
       "104        39098 Villacarriedo                             11453\n",
       "105          39099 Villaescusa                             12948\n",
       "106           39100 Villafufre                             11100\n",
       "107  39101 Valle de Villaverde                             10100\n",
       "108                 39102 Voto                             11711\n",
       "\n",
       "[104 rows x 2 columns]"
      ]
     },
     "execution_count": 89,
     "metadata": {},
     "output_type": "execute_result"
    }
   ],
   "source": [
    "a"
   ]
  },
  {
   "cell_type": "code",
   "execution_count": 90,
   "id": "3392a076-47f9-4111-ab50-2f92e4c28614",
   "metadata": {
    "tags": []
   },
   "outputs": [],
   "source": [
    "patron1 = r'^(\\d+)([^\\d]+)'"
   ]
  },
  {
   "cell_type": "code",
   "execution_count": 91,
   "id": "9030d1fc-0199-4d3c-952c-acc16cac3fce",
   "metadata": {
    "tags": []
   },
   "outputs": [],
   "source": [
    "a[[\"COD\",\"CIUDAD\"]] = a['COD Ciudad'].str.extract(patron1)"
   ]
  },
  {
   "cell_type": "code",
   "execution_count": 91,
   "id": "6bee49e1-c3ef-449f-b882-e947ffd70fa4",
   "metadata": {
    "tags": []
   },
   "outputs": [],
   "source": [
    "a[[\"COD\",\"CIUDAD\"]] = a['COD Ciudad'].str.extract(patron1)"
   ]
  },
  {
   "cell_type": "code",
   "execution_count": 93,
   "id": "bc5a728b-544d-40b7-bbf3-3ad679174d86",
   "metadata": {
    "tags": []
   },
   "outputs": [
    {
     "data": {
      "text/html": [
       "<div>\n",
       "<style scoped>\n",
       "    .dataframe tbody tr th:only-of-type {\n",
       "        vertical-align: middle;\n",
       "    }\n",
       "\n",
       "    .dataframe tbody tr th {\n",
       "        vertical-align: top;\n",
       "    }\n",
       "\n",
       "    .dataframe thead th {\n",
       "        text-align: right;\n",
       "    }\n",
       "</style>\n",
       "<table border=\"1\" class=\"dataframe\">\n",
       "  <thead>\n",
       "    <tr style=\"text-align: right;\">\n",
       "      <th></th>\n",
       "      <th>COD Ciudad</th>\n",
       "      <th>Renta neta media por persona 2020</th>\n",
       "      <th>COD</th>\n",
       "      <th>CIUDAD</th>\n",
       "    </tr>\n",
       "  </thead>\n",
       "  <tbody>\n",
       "    <tr>\n",
       "      <th>7</th>\n",
       "      <td>39001 Alfoz de Lloredo</td>\n",
       "      <td>11589</td>\n",
       "      <td>39001</td>\n",
       "      <td>Alfoz de Lloredo</td>\n",
       "    </tr>\n",
       "    <tr>\n",
       "      <th>8</th>\n",
       "      <td>39002 Ampuero</td>\n",
       "      <td>11220</td>\n",
       "      <td>39002</td>\n",
       "      <td>Ampuero</td>\n",
       "    </tr>\n",
       "    <tr>\n",
       "      <th>9</th>\n",
       "      <td>39003 Anievas</td>\n",
       "      <td>11981</td>\n",
       "      <td>39003</td>\n",
       "      <td>Anievas</td>\n",
       "    </tr>\n",
       "    <tr>\n",
       "      <th>10</th>\n",
       "      <td>39004 Arenas de Iguña</td>\n",
       "      <td>11859</td>\n",
       "      <td>39004</td>\n",
       "      <td>Arenas de Iguña</td>\n",
       "    </tr>\n",
       "    <tr>\n",
       "      <th>11</th>\n",
       "      <td>39005 Argoños</td>\n",
       "      <td>12520</td>\n",
       "      <td>39005</td>\n",
       "      <td>Argoños</td>\n",
       "    </tr>\n",
       "    <tr>\n",
       "      <th>...</th>\n",
       "      <td>...</td>\n",
       "      <td>...</td>\n",
       "      <td>...</td>\n",
       "      <td>...</td>\n",
       "    </tr>\n",
       "    <tr>\n",
       "      <th>104</th>\n",
       "      <td>39098 Villacarriedo</td>\n",
       "      <td>11453</td>\n",
       "      <td>39098</td>\n",
       "      <td>Villacarriedo</td>\n",
       "    </tr>\n",
       "    <tr>\n",
       "      <th>105</th>\n",
       "      <td>39099 Villaescusa</td>\n",
       "      <td>12948</td>\n",
       "      <td>39099</td>\n",
       "      <td>Villaescusa</td>\n",
       "    </tr>\n",
       "    <tr>\n",
       "      <th>106</th>\n",
       "      <td>39100 Villafufre</td>\n",
       "      <td>11100</td>\n",
       "      <td>39100</td>\n",
       "      <td>Villafufre</td>\n",
       "    </tr>\n",
       "    <tr>\n",
       "      <th>107</th>\n",
       "      <td>39101 Valle de Villaverde</td>\n",
       "      <td>10100</td>\n",
       "      <td>39101</td>\n",
       "      <td>Valle de Villaverde</td>\n",
       "    </tr>\n",
       "    <tr>\n",
       "      <th>108</th>\n",
       "      <td>39102 Voto</td>\n",
       "      <td>11711</td>\n",
       "      <td>39102</td>\n",
       "      <td>Voto</td>\n",
       "    </tr>\n",
       "  </tbody>\n",
       "</table>\n",
       "<p>102 rows × 4 columns</p>\n",
       "</div>"
      ],
      "text/plain": [
       "                    COD Ciudad Renta neta media por persona 2020    COD  \\\n",
       "7       39001 Alfoz de Lloredo                             11589  39001   \n",
       "8                39002 Ampuero                             11220  39002   \n",
       "9                39003 Anievas                             11981  39003   \n",
       "10       39004 Arenas de Iguña                             11859  39004   \n",
       "11               39005 Argoños                             12520  39005   \n",
       "..                         ...                               ...    ...   \n",
       "104        39098 Villacarriedo                             11453  39098   \n",
       "105          39099 Villaescusa                             12948  39099   \n",
       "106           39100 Villafufre                             11100  39100   \n",
       "107  39101 Valle de Villaverde                             10100  39101   \n",
       "108                 39102 Voto                             11711  39102   \n",
       "\n",
       "                   CIUDAD  \n",
       "7        Alfoz de Lloredo  \n",
       "8                 Ampuero  \n",
       "9                 Anievas  \n",
       "10        Arenas de Iguña  \n",
       "11                Argoños  \n",
       "..                    ...  \n",
       "104         Villacarriedo  \n",
       "105           Villaescusa  \n",
       "106            Villafufre  \n",
       "107   Valle de Villaverde  \n",
       "108                  Voto  \n",
       "\n",
       "[102 rows x 4 columns]"
      ]
     },
     "execution_count": 93,
     "metadata": {},
     "output_type": "execute_result"
    }
   ],
   "source": [
    "a.dropna()"
   ]
  },
  {
   "attachments": {},
   "cell_type": "markdown",
   "id": "214f771a-35bd-4370-a08d-bc22ac0ecde1",
   "metadata": {},
   "source": [
    "# Revision despues de juntar los datos en un solo archivo"
   ]
  },
  {
   "cell_type": "code",
   "execution_count": 145,
   "id": "e6466db5-307a-45b9-9b0b-5c8f47d09ad5",
   "metadata": {
    "tags": []
   },
   "outputs": [],
   "source": [
    "datos = pd.read_csv('C:\\projectos\\streamlit\\metricas\\ciudades_paisaje_filter_metricas.csv', encoding = 'ISO-8859-1')"
   ]
  },
  {
   "cell_type": "code",
   "execution_count": null,
   "id": "269db826-6c57-4ffd-bbfe-d27de641df25",
   "metadata": {},
   "outputs": [],
   "source": []
  },
  {
   "cell_type": "code",
   "execution_count": 146,
   "id": "af2e0681-bbfa-4655-8bcc-07a01bfeea27",
   "metadata": {
    "tags": []
   },
   "outputs": [
    {
     "data": {
      "text/plain": [
       "Index(['Unnamed: 0', 'Ciudad', 'SIDI', 'MSIDI', 'SHEI', 'SIEI', 'MSIEI', 'NP',\n",
       "       'DIVISION', 'SPLIT', 'MESH', 'variable', 'COM', 'ED_SING', 'EQUIP',\n",
       "       'IND', 'OCIO', 'OFI', 'RES_PLU', 'RES_UNI', 'PAFRAC', 'SHAPE_MN',\n",
       "       'SHAPE_MD', 'PARA_MN', 'PARA_MD', 'FRAC_MN', 'FRAC_MD', 'SQUARE_MN',\n",
       "       'SQUARE_MD', 'TA', 'LPI', 'AREA_MN', 'AREA_AM', 'AREA_MD', 'GYRATE_MN',\n",
       "       'GYRATE_AM', 'GYRATE_MD'],\n",
       "      dtype='object')"
      ]
     },
     "execution_count": 146,
     "metadata": {},
     "output_type": "execute_result"
    }
   ],
   "source": [
    "datos.columns"
   ]
  },
  {
   "cell_type": "code",
   "execution_count": null,
   "id": "b5e8a097-ec91-4e4d-9088-8f3b9424d76c",
   "metadata": {},
   "outputs": [],
   "source": [
    "['Ciudad', 'SIDI', 'MSIDI', 'SHEI', 'SIEI', 'MSIEI', 'NP',\n",
    "       'DIVISION', 'SPLIT', 'MESH', 'variable', 'COM', 'ED_SING', 'EQUIP',\n",
    "       'IND', 'OCIO', 'OFI', 'RES_PLU', 'RES_UNI', 'PAFRAC', 'SHAPE_MN',\n",
    "       'SHAPE_MD', 'PARA_MN', 'PARA_MD', 'FRAC_MN', 'FRAC_MD', 'SQUARE_MN',\n",
    "       'SQUARE_MD', 'TA', 'LPI', 'AREA_MN', 'AREA_AM', 'AREA_MD', 'GYRATE_MN',\n",
    "       'GYRATE_AM', 'GYRATE_MD']"
   ]
  },
  {
   "attachments": {},
   "cell_type": "markdown",
   "id": "1af21c50-fc51-4e07-8b01-516fa531319e",
   "metadata": {},
   "source": [
    "## Vamos a realizar ##"
   ]
  }
 ],
 "metadata": {
  "kernelspec": {
   "display_name": "Python 3 (ipykernel)",
   "language": "python",
   "name": "python3"
  },
  "language_info": {
   "codemirror_mode": {
    "name": "ipython",
    "version": 3
   },
   "file_extension": ".py",
   "mimetype": "text/x-python",
   "name": "python",
   "nbconvert_exporter": "python",
   "pygments_lexer": "ipython3",
   "version": "3.9.13"
  }
 },
 "nbformat": 4,
 "nbformat_minor": 5
}
