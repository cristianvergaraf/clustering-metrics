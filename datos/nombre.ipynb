{
 "cells": [
  {
   "cell_type": "code",
   "execution_count": 117,
   "id": "8361991c-9d0c-46d1-892e-662a526d8364",
   "metadata": {
    "tags": []
   },
   "outputs": [],
   "source": [
    "import pandas as pd"
   ]
  },
  {
   "cell_type": "code",
   "execution_count": 118,
   "id": "34f26c7c-d816-4c75-b131-6cc192917193",
   "metadata": {
    "tags": []
   },
   "outputs": [],
   "source": [
    "forma = pd.read_csv(\"C:/projectos/manifolds/ciudades/datos/metricas/ciudades_forma.csv\")"
   ]
  },
  {
   "cell_type": "code",
   "execution_count": 119,
   "id": "681a132f-1313-4d59-8f9a-0ba7330dbb2c",
   "metadata": {
    "tags": []
   },
   "outputs": [
    {
     "data": {
      "text/plain": [
       "Index(['Ciudades', 'PAFRAC', 'SHAPE_MN', 'SHAPE_MD', 'PARA_MN', 'PARA_MD',\n",
       "       'FRAC_MN', 'FRAC_MD', 'SQUARE_MN', 'SQUARE_MD'],\n",
       "      dtype='object')"
      ]
     },
     "execution_count": 119,
     "metadata": {},
     "output_type": "execute_result"
    }
   ],
   "source": [
    "forma.columns"
   ]
  },
  {
   "cell_type": "code",
   "execution_count": 120,
   "id": "3c3471f9-6253-41e7-a5c2-01433004d566",
   "metadata": {
    "tags": []
   },
   "outputs": [
    {
     "name": "stderr",
     "output_type": "stream",
     "text": [
      "C:\\Users\\crist\\AppData\\Local\\Temp\\ipykernel_23728\\32696972.py:2: FutureWarning: The default value of regex will change from True to False in a future version.\n",
      "  forma['Ciudad'] = forma['Ciudad'].str.replace(r'\\.txt$', '')\n"
     ]
    }
   ],
   "source": [
    "forma['Ciudad'] = forma['Ciudades'].str.replace('_', ' ')\n",
    "forma['Ciudad'] = forma['Ciudad'].str.replace(r'\\.txt$', '')\n",
    "forma['Ciudad'] = forma['Ciudad'].apply(lambda x: x.capitalize())"
   ]
  },
  {
   "cell_type": "code",
   "execution_count": 121,
   "id": "acdbc3b3-3d66-4fa5-906f-f4cd99b390f4",
   "metadata": {
    "tags": []
   },
   "outputs": [],
   "source": [
    "area = pd.read_csv(\"C:/projectos/manifolds/ciudades/datos/metricas/ciudades_area.csv\")"
   ]
  },
  {
   "cell_type": "code",
   "execution_count": 122,
   "id": "4d8ef793-a40b-4616-a458-d14890deaaee",
   "metadata": {
    "tags": []
   },
   "outputs": [
    {
     "name": "stderr",
     "output_type": "stream",
     "text": [
      "C:\\Users\\crist\\AppData\\Local\\Temp\\ipykernel_23728\\2630718424.py:2: FutureWarning: The default value of regex will change from True to False in a future version.\n",
      "  area['Ciudad'] = area['Ciudad'].str.replace(r'\\.txt$', '')\n"
     ]
    }
   ],
   "source": [
    "area['Ciudad'] = area['Ciudades'].str.replace('_', ' ')\n",
    "area['Ciudad'] = area['Ciudad'].str.replace(r'\\.txt$', '')\n",
    "area['Ciudad'] = area['Ciudad'].apply(lambda x: x.capitalize())"
   ]
  },
  {
   "cell_type": "code",
   "execution_count": 123,
   "id": "bb067056-e057-4be4-9fba-4c1c94089d04",
   "metadata": {
    "tags": []
   },
   "outputs": [
    {
     "data": {
      "text/html": [
       "<div>\n",
       "<style scoped>\n",
       "    .dataframe tbody tr th:only-of-type {\n",
       "        vertical-align: middle;\n",
       "    }\n",
       "\n",
       "    .dataframe tbody tr th {\n",
       "        vertical-align: top;\n",
       "    }\n",
       "\n",
       "    .dataframe thead th {\n",
       "        text-align: right;\n",
       "    }\n",
       "</style>\n",
       "<table border=\"1\" class=\"dataframe\">\n",
       "  <thead>\n",
       "    <tr style=\"text-align: right;\">\n",
       "      <th></th>\n",
       "      <th>Ciudades</th>\n",
       "      <th>TA</th>\n",
       "      <th>LPI</th>\n",
       "      <th>AREA_MN</th>\n",
       "      <th>AREA_AM</th>\n",
       "      <th>AREA_MD</th>\n",
       "      <th>GYRATE_MN</th>\n",
       "      <th>GYRATE_AM</th>\n",
       "      <th>GYRATE_MD</th>\n",
       "      <th>Ciudad</th>\n",
       "    </tr>\n",
       "  </thead>\n",
       "  <tbody>\n",
       "    <tr>\n",
       "      <th>0</th>\n",
       "      <td>Albacete.txt</td>\n",
       "      <td>1605.293355</td>\n",
       "      <td>2.929497</td>\n",
       "      <td>0.116461</td>\n",
       "      <td>2.976411</td>\n",
       "      <td>0.031520</td>\n",
       "      <td>8.380829</td>\n",
       "      <td>36.057566</td>\n",
       "      <td>5.710261</td>\n",
       "      <td>Albacete</td>\n",
       "    </tr>\n",
       "    <tr>\n",
       "      <th>1</th>\n",
       "      <td>Alcala.txt</td>\n",
       "      <td>1615.304126</td>\n",
       "      <td>2.451039</td>\n",
       "      <td>0.136451</td>\n",
       "      <td>4.559123</td>\n",
       "      <td>0.019854</td>\n",
       "      <td>7.591469</td>\n",
       "      <td>55.583827</td>\n",
       "      <td>4.874116</td>\n",
       "      <td>Alcala</td>\n",
       "    </tr>\n",
       "    <tr>\n",
       "      <th>2</th>\n",
       "      <td>Alcobendas.txt</td>\n",
       "      <td>1386.626321</td>\n",
       "      <td>2.882984</td>\n",
       "      <td>0.289423</td>\n",
       "      <td>3.843857</td>\n",
       "      <td>0.069676</td>\n",
       "      <td>12.998986</td>\n",
       "      <td>45.886723</td>\n",
       "      <td>9.320043</td>\n",
       "      <td>Alcobendas</td>\n",
       "    </tr>\n",
       "    <tr>\n",
       "      <th>3</th>\n",
       "      <td>Alcorcon.txt</td>\n",
       "      <td>787.044792</td>\n",
       "      <td>3.295528</td>\n",
       "      <td>0.161214</td>\n",
       "      <td>3.023467</td>\n",
       "      <td>0.028205</td>\n",
       "      <td>9.644223</td>\n",
       "      <td>43.879007</td>\n",
       "      <td>6.077800</td>\n",
       "      <td>Alcorcon</td>\n",
       "    </tr>\n",
       "    <tr>\n",
       "      <th>4</th>\n",
       "      <td>Algeciras.txt</td>\n",
       "      <td>1063.319019</td>\n",
       "      <td>2.044908</td>\n",
       "      <td>0.063300</td>\n",
       "      <td>2.629819</td>\n",
       "      <td>0.013341</td>\n",
       "      <td>5.460983</td>\n",
       "      <td>38.065313</td>\n",
       "      <td>3.687046</td>\n",
       "      <td>Algeciras</td>\n",
       "    </tr>\n",
       "    <tr>\n",
       "      <th>...</th>\n",
       "      <td>...</td>\n",
       "      <td>...</td>\n",
       "      <td>...</td>\n",
       "      <td>...</td>\n",
       "      <td>...</td>\n",
       "      <td>...</td>\n",
       "      <td>...</td>\n",
       "      <td>...</td>\n",
       "      <td>...</td>\n",
       "      <td>...</td>\n",
       "    </tr>\n",
       "    <tr>\n",
       "      <th>67</th>\n",
       "      <td>Valencia.txt</td>\n",
       "      <td>2164.215491</td>\n",
       "      <td>2.515410</td>\n",
       "      <td>0.065111</td>\n",
       "      <td>4.506163</td>\n",
       "      <td>0.024895</td>\n",
       "      <td>6.216411</td>\n",
       "      <td>38.408851</td>\n",
       "      <td>4.992987</td>\n",
       "      <td>Valencia</td>\n",
       "    </tr>\n",
       "    <tr>\n",
       "      <th>68</th>\n",
       "      <td>Valladolid.txt</td>\n",
       "      <td>2764.692882</td>\n",
       "      <td>2.285334</td>\n",
       "      <td>0.170702</td>\n",
       "      <td>9.992102</td>\n",
       "      <td>0.028855</td>\n",
       "      <td>8.463257</td>\n",
       "      <td>74.230483</td>\n",
       "      <td>5.392190</td>\n",
       "      <td>Valladolid</td>\n",
       "    </tr>\n",
       "    <tr>\n",
       "      <th>69</th>\n",
       "      <td>Vigo.txt</td>\n",
       "      <td>2673.672921</td>\n",
       "      <td>4.253406</td>\n",
       "      <td>0.076896</td>\n",
       "      <td>7.653004</td>\n",
       "      <td>0.037150</td>\n",
       "      <td>7.448687</td>\n",
       "      <td>40.795189</td>\n",
       "      <td>6.359690</td>\n",
       "      <td>Vigo</td>\n",
       "    </tr>\n",
       "    <tr>\n",
       "      <th>70</th>\n",
       "      <td>Zamora.txt</td>\n",
       "      <td>551.778808</td>\n",
       "      <td>9.977708</td>\n",
       "      <td>0.075195</td>\n",
       "      <td>6.638329</td>\n",
       "      <td>0.018018</td>\n",
       "      <td>6.080244</td>\n",
       "      <td>52.258509</td>\n",
       "      <td>4.223122</td>\n",
       "      <td>Zamora</td>\n",
       "    </tr>\n",
       "    <tr>\n",
       "      <th>71</th>\n",
       "      <td>Zaragoza.txt</td>\n",
       "      <td>4188.643450</td>\n",
       "      <td>1.576180</td>\n",
       "      <td>0.148265</td>\n",
       "      <td>6.420273</td>\n",
       "      <td>0.028926</td>\n",
       "      <td>8.365215</td>\n",
       "      <td>65.532054</td>\n",
       "      <td>5.374877</td>\n",
       "      <td>Zaragoza</td>\n",
       "    </tr>\n",
       "  </tbody>\n",
       "</table>\n",
       "<p>72 rows × 10 columns</p>\n",
       "</div>"
      ],
      "text/plain": [
       "          Ciudades           TA       LPI   AREA_MN   AREA_AM   AREA_MD  \\\n",
       "0     Albacete.txt  1605.293355  2.929497  0.116461  2.976411  0.031520   \n",
       "1       Alcala.txt  1615.304126  2.451039  0.136451  4.559123  0.019854   \n",
       "2   Alcobendas.txt  1386.626321  2.882984  0.289423  3.843857  0.069676   \n",
       "3     Alcorcon.txt   787.044792  3.295528  0.161214  3.023467  0.028205   \n",
       "4    Algeciras.txt  1063.319019  2.044908  0.063300  2.629819  0.013341   \n",
       "..             ...          ...       ...       ...       ...       ...   \n",
       "67    Valencia.txt  2164.215491  2.515410  0.065111  4.506163  0.024895   \n",
       "68  Valladolid.txt  2764.692882  2.285334  0.170702  9.992102  0.028855   \n",
       "69        Vigo.txt  2673.672921  4.253406  0.076896  7.653004  0.037150   \n",
       "70      Zamora.txt   551.778808  9.977708  0.075195  6.638329  0.018018   \n",
       "71    Zaragoza.txt  4188.643450  1.576180  0.148265  6.420273  0.028926   \n",
       "\n",
       "    GYRATE_MN  GYRATE_AM  GYRATE_MD      Ciudad  \n",
       "0    8.380829  36.057566   5.710261    Albacete  \n",
       "1    7.591469  55.583827   4.874116      Alcala  \n",
       "2   12.998986  45.886723   9.320043  Alcobendas  \n",
       "3    9.644223  43.879007   6.077800    Alcorcon  \n",
       "4    5.460983  38.065313   3.687046   Algeciras  \n",
       "..        ...        ...        ...         ...  \n",
       "67   6.216411  38.408851   4.992987    Valencia  \n",
       "68   8.463257  74.230483   5.392190  Valladolid  \n",
       "69   7.448687  40.795189   6.359690        Vigo  \n",
       "70   6.080244  52.258509   4.223122      Zamora  \n",
       "71   8.365215  65.532054   5.374877    Zaragoza  \n",
       "\n",
       "[72 rows x 10 columns]"
      ]
     },
     "execution_count": 123,
     "metadata": {},
     "output_type": "execute_result"
    }
   ],
   "source": [
    "area"
   ]
  },
  {
   "cell_type": "code",
   "execution_count": 124,
   "id": "5dd6bba1-b7b9-49c3-a497-5303151478fc",
   "metadata": {
    "tags": []
   },
   "outputs": [
    {
     "name": "stdout",
     "output_type": "stream",
     "text": [
      "Albacete\n",
      "Alcala\n",
      "Alcobendas\n",
      "Alcorcon\n",
      "Algeciras\n",
      "Alicante\n",
      "Almeria\n",
      "Avila\n",
      "Badajoz\n",
      "Badalona\n",
      "Barcelona\n",
      "Burgos\n",
      "Caceres\n",
      "Cadiz\n",
      "Cartagena\n",
      "Castello\n",
      "Ceuta\n",
      "Ciudad real\n",
      "Cordoba\n",
      "Corunia\n",
      "Cuenca\n",
      "Dos hermanas\n",
      "Elche\n",
      "Fuentelabra\n",
      "Getafe\n",
      "Gijon\n",
      "Girona\n",
      "Granada\n",
      "Guadalajara\n",
      "Hospitalet\n",
      "Huelva\n",
      "Huesca\n",
      "Jaen\n",
      "Jerez\n",
      "Las palmas\n",
      "Leganes\n",
      "Leon\n",
      "Lleida\n",
      "Logronio\n",
      "Lugo\n",
      "Madrid\n",
      "Malaga\n",
      "Marbella\n",
      "Mataro\n",
      "Melilla\n",
      "Mostoles\n",
      "Murcia\n",
      "Ourense\n",
      "Oviedo\n",
      "Palencia\n",
      "Palma\n",
      "Parla\n",
      "Pontevedra\n",
      "Sabadell\n",
      "Salamanca\n",
      "San cristobal\n",
      "Santa coloma\n",
      "Santa cruz\n",
      "Santander\n",
      "Segovia\n",
      "Sevilla\n",
      "Soria\n",
      "Terragona\n",
      "Terrasa\n",
      "Teruel\n",
      "Toledo\n",
      "Torrejon\n",
      "Valencia\n",
      "Valladolid\n",
      "Vigo\n",
      "Zamora\n",
      "Zaragoza\n"
     ]
    }
   ],
   "source": [
    "for cid in area.Ciudad:\n",
    "    print(cid)"
   ]
  },
  {
   "cell_type": "code",
   "execution_count": 125,
   "id": "7bd49fed-0e2a-4b0a-9dbc-7b7c49102a4e",
   "metadata": {
    "tags": []
   },
   "outputs": [],
   "source": [
    "cid_forma = pd.Series(forma.Ciudad)"
   ]
  },
  {
   "cell_type": "code",
   "execution_count": 126,
   "id": "d56ca60f-7132-4501-b597-c31e91d0863b",
   "metadata": {
    "tags": []
   },
   "outputs": [],
   "source": [
    "cid_area = pd.Series(area.Ciudad)"
   ]
  },
  {
   "cell_type": "code",
   "execution_count": 127,
   "id": "711387d0-ebf4-4ecc-898f-d58981a089ee",
   "metadata": {
    "tags": []
   },
   "outputs": [],
   "source": [
    "df_ciudades_nombre = pd.DataFrame({'forma':cid_forma,'area':cid_area})"
   ]
  },
  {
   "cell_type": "code",
   "execution_count": 128,
   "id": "222c587d-1324-4a98-9f0f-7c4a42ddd5a0",
   "metadata": {
    "tags": []
   },
   "outputs": [],
   "source": [
    "df_ciudades_nombre.to_csv('ciudades_nombre.csv')"
   ]
  },
  {
   "cell_type": "code",
   "execution_count": 129,
   "id": "c642963f-1ede-4e3d-bef5-14353805cd76",
   "metadata": {
    "tags": []
   },
   "outputs": [
    {
     "data": {
      "text/plain": [
       "pandas.core.series.Series"
      ]
     },
     "execution_count": 129,
     "metadata": {},
     "output_type": "execute_result"
    }
   ],
   "source": [
    "type(forma.Ciudad)"
   ]
  },
  {
   "cell_type": "code",
   "execution_count": 130,
   "id": "c78949a6-dec1-4b49-9baf-58a25006ea23",
   "metadata": {
    "tags": []
   },
   "outputs": [
    {
     "name": "stdout",
     "output_type": "stream",
     "text": [
      "Albacete\n",
      "Alcala\n",
      "Alcobendas\n",
      "Alcorcon\n",
      "Algeciras\n",
      "Alicante\n",
      "Almeria\n",
      "Avila\n",
      "Badajoz\n",
      "Badalona\n",
      "Barcelona\n",
      "Burgos\n",
      "Caceres\n",
      "Cadiz\n",
      "Cartagena\n",
      "Castello\n",
      "Ceuta\n",
      "Ciudad real\n",
      "Cordoba\n",
      "Corunia\n",
      "Cuenca\n",
      "Dos hermanas\n",
      "Elche\n",
      "Fuentelabra\n",
      "Getafe\n",
      "Gijon\n",
      "Girona\n",
      "Granada\n",
      "Guadalajara\n",
      "Hospitalet\n",
      "Huelva\n",
      "Huesca\n",
      "Jaen\n",
      "Jerez\n",
      "Las palmas\n",
      "Leganes\n",
      "Leon\n",
      "Lleida\n",
      "Logronio\n",
      "Lugo\n",
      "Madrid\n",
      "Malaga\n",
      "Marbella\n",
      "Mataro\n",
      "Melilla\n",
      "Mostoles\n",
      "Murcia\n",
      "Ourense\n",
      "Oviedo\n",
      "Palencia\n",
      "Palma\n",
      "Parla\n",
      "Pontevedra\n",
      "Sabadell\n",
      "Salamanca\n",
      "San cristobal\n",
      "Santa coloma\n",
      "Santa cruz\n",
      "Santander\n",
      "Segovia\n",
      "Sevilla\n",
      "Soria\n",
      "Terragona\n",
      "Terrasa\n",
      "Teruel\n",
      "Toledo\n",
      "Torrejon\n",
      "Valencia\n",
      "Valladolid\n",
      "Vigo\n",
      "Zamora\n",
      "Zaragoza\n"
     ]
    }
   ],
   "source": [
    "for cid in forma.Ciudad:\n",
    "    print(cid)"
   ]
  },
  {
   "cell_type": "code",
   "execution_count": 131,
   "id": "50c1b513-9cf0-405f-b4c7-2e6e460bab27",
   "metadata": {
    "tags": []
   },
   "outputs": [],
   "source": [
    "rep = {'Alcorcon':'Alcorcón','Ciudad real':'Ciudad Real','Bodajoz':'Badajoz','Dos hermanas':'Dos Hermanas','Fuentelabra':'Fuenlabrada',\n",
    "'Leganes':'Leganés','Logronio':'Logroño','Mataro':'Mataró','Mostoles':'Móstoles','Santa coloma':'Santa Coloma','Santa cruz tenerife':'Santa Cruz de Tenerife',\n",
    "'San cristobal':'San Cristóbal','Terrasa':'Terrassa','Terragona':'Tarragona','Corunia':'Coruña','Gijon':'Gijón',\n",
    "'Las palmas':'Palmas de Gran Canaria, Las'}"
   ]
  },
  {
   "cell_type": "code",
   "execution_count": 132,
   "id": "a7e7083e-899c-4c98-a13c-4053f622a3c2",
   "metadata": {
    "tags": []
   },
   "outputs": [],
   "source": [
    "def replace_cities(df, replacements,col):\n",
    "    for city, replacement in replacements.items():\n",
    "        df[col] = df[col].str.replace(city, replacement)\n",
    "    return df"
   ]
  },
  {
   "cell_type": "code",
   "execution_count": 133,
   "id": "1744dff4-8be8-4a57-8018-830c55edb185",
   "metadata": {
    "tags": []
   },
   "outputs": [],
   "source": [
    "forma_replace = replace_cities(forma, rep,'Ciudad')"
   ]
  },
  {
   "cell_type": "code",
   "execution_count": 134,
   "id": "9f0b2af5-7cf2-4bb0-867a-94b26904cd93",
   "metadata": {
    "tags": []
   },
   "outputs": [],
   "source": [
    "area_replace = replace_cities(area, rep,'Ciudad')"
   ]
  },
  {
   "cell_type": "code",
   "execution_count": 135,
   "id": "dbdb45e4-9cfc-454e-9a2a-db6d07aac985",
   "metadata": {
    "tags": []
   },
   "outputs": [
    {
     "name": "stdout",
     "output_type": "stream",
     "text": [
      "Albacete\n",
      "Alcala\n",
      "Alcobendas\n",
      "Alcorcón\n",
      "Algeciras\n",
      "Alicante\n",
      "Almeria\n",
      "Avila\n",
      "Badajoz\n",
      "Badalona\n",
      "Barcelona\n",
      "Burgos\n",
      "Caceres\n",
      "Cadiz\n",
      "Cartagena\n",
      "Castello\n",
      "Ceuta\n",
      "Ciudad Real\n",
      "Cordoba\n",
      "Coruña\n",
      "Cuenca\n",
      "Dos Hermanas\n",
      "Elche\n",
      "Fuenlabrada\n",
      "Getafe\n",
      "Gijón\n",
      "Girona\n",
      "Granada\n",
      "Guadalajara\n",
      "Hospitalet\n",
      "Huelva\n",
      "Huesca\n",
      "Jaen\n",
      "Jerez\n",
      "Palmas de Gran Canaria, Las\n",
      "Leganés\n",
      "Leon\n",
      "Lleida\n",
      "Logroño\n",
      "Lugo\n",
      "Madrid\n",
      "Malaga\n",
      "Marbella\n",
      "Mataró\n",
      "Melilla\n",
      "Móstoles\n",
      "Murcia\n",
      "Ourense\n",
      "Oviedo\n",
      "Palencia\n",
      "Palma\n",
      "Parla\n",
      "Pontevedra\n",
      "Sabadell\n",
      "Salamanca\n",
      "San Cristóbal\n",
      "Santa Coloma\n",
      "Santa cruz\n",
      "Santander\n",
      "Segovia\n",
      "Sevilla\n",
      "Soria\n",
      "Tarragona\n",
      "Terrassa\n",
      "Teruel\n",
      "Toledo\n",
      "Torrejon\n",
      "Valencia\n",
      "Valladolid\n",
      "Vigo\n",
      "Zamora\n",
      "Zaragoza\n"
     ]
    }
   ],
   "source": [
    "for city in forma_replace.Ciudad:\n",
    "    print(city)"
   ]
  },
  {
   "cell_type": "code",
   "execution_count": 136,
   "id": "d7bcc81b-a52e-43f0-b750-8850ace28437",
   "metadata": {
    "tags": []
   },
   "outputs": [
    {
     "name": "stdout",
     "output_type": "stream",
     "text": [
      "Albacete\n",
      "Alcala\n",
      "Alcobendas\n",
      "Alcorcón\n",
      "Algeciras\n",
      "Alicante\n",
      "Almeria\n",
      "Avila\n",
      "Badajoz\n",
      "Badalona\n",
      "Barcelona\n",
      "Burgos\n",
      "Caceres\n",
      "Cadiz\n",
      "Cartagena\n",
      "Castello\n",
      "Ceuta\n",
      "Ciudad Real\n",
      "Cordoba\n",
      "Coruña\n",
      "Cuenca\n",
      "Dos Hermanas\n",
      "Elche\n",
      "Fuenlabrada\n",
      "Getafe\n",
      "Gijón\n",
      "Girona\n",
      "Granada\n",
      "Guadalajara\n",
      "Hospitalet\n",
      "Huelva\n",
      "Huesca\n",
      "Jaen\n",
      "Jerez\n",
      "Palmas de Gran Canaria, Las\n",
      "Leganés\n",
      "Leon\n",
      "Lleida\n",
      "Logroño\n",
      "Lugo\n",
      "Madrid\n",
      "Malaga\n",
      "Marbella\n",
      "Mataró\n",
      "Melilla\n",
      "Móstoles\n",
      "Murcia\n",
      "Ourense\n",
      "Oviedo\n",
      "Palencia\n",
      "Palma\n",
      "Parla\n",
      "Pontevedra\n",
      "Sabadell\n",
      "Salamanca\n",
      "San Cristóbal\n",
      "Santa Coloma\n",
      "Santa cruz\n",
      "Santander\n",
      "Segovia\n",
      "Sevilla\n",
      "Soria\n",
      "Tarragona\n",
      "Terrassa\n",
      "Teruel\n",
      "Toledo\n",
      "Torrejon\n",
      "Valencia\n",
      "Valladolid\n",
      "Vigo\n",
      "Zamora\n",
      "Zaragoza\n"
     ]
    }
   ],
   "source": [
    "for city in area_replace.Ciudad:\n",
    "    print(city)"
   ]
  },
  {
   "cell_type": "code",
   "execution_count": 137,
   "id": "0f393187-59e8-4b81-af8a-7b7daf73b12f",
   "metadata": {
    "tags": []
   },
   "outputs": [],
   "source": [
    "forma_area = pd.merge(forma_replace, area_replace, how = 'left', on = 'Ciudad')"
   ]
  },
  {
   "cell_type": "code",
   "execution_count": 140,
   "id": "8cf90449-7ae7-4e2e-ab4b-49c88e19d00f",
   "metadata": {
    "tags": []
   },
   "outputs": [],
   "source": [
    "forma_area.to_csv('C:/projectos/manifolds/ciudades/datos/metricas/forma_area.csv', encoding = 'ISO-8859-1')"
   ]
  },
  {
   "cell_type": "code",
   "execution_count": null,
   "id": "7a5eb712-086a-47e6-945b-35ee6eff8b19",
   "metadata": {},
   "outputs": [],
   "source": [
    "\"C:/projectos/manifolds/ciudades/datos/metricas/ciudades_forma.csv\""
   ]
  }
 ],
 "metadata": {
  "kernelspec": {
   "display_name": "Python 3 (ipykernel)",
   "language": "python",
   "name": "python3"
  },
  "language_info": {
   "codemirror_mode": {
    "name": "ipython",
    "version": 3
   },
   "file_extension": ".py",
   "mimetype": "text/x-python",
   "name": "python",
   "nbconvert_exporter": "python",
   "pygments_lexer": "ipython3",
   "version": "3.9.13"
  }
 },
 "nbformat": 4,
 "nbformat_minor": 5
}
